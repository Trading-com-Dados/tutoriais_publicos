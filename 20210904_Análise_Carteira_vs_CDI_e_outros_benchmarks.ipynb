{
  "nbformat": 4,
  "nbformat_minor": 0,
  "metadata": {
    "colab": {
      "name": "Análise Carteira vs CDI e outros benchmarks.ipynb",
      "provenance": [],
      "toc_visible": true,
      "authorship_tag": "ABX9TyOAf96WvteJsL8/zxrsCulY",
      "include_colab_link": true
    },
    "kernelspec": {
      "name": "python3",
      "display_name": "Python 3"
    },
    "language_info": {
      "name": "python"
    }
  },
  "cells": [
    {
      "cell_type": "markdown",
      "metadata": {
        "id": "view-in-github",
        "colab_type": "text"
      },
      "source": [
        "<a href=\"https://colab.research.google.com/github/Trading-com-Dados/tutoriais_publicos/blob/main/An%C3%A1lise_Carteira_vs_CDI_e_outros_benchmarks.ipynb\" target=\"_parent\"><img src=\"https://colab.research.google.com/assets/colab-badge.svg\" alt=\"Open In Colab\"/></a>"
      ]
    },
    {
      "cell_type": "markdown",
      "metadata": {
        "id": "H-ZTo21CghKb"
      },
      "source": [
        "# Comparação e carteira com o CDI e outros benchmarks"
      ]
    },
    {
      "cell_type": "markdown",
      "metadata": {
        "id": "NWzwSjpOgmbb"
      },
      "source": [
        "A intenção deste código é servir como um framework de comparação de uma carteira fictícia com um CDB também fictício que rende 100% do CDI.\n",
        "\n",
        "Este código foi publicado no Instagram da Trading com Dados.\n",
        "Link para a publicação: https://www.instagram.com/p/CUORUv2t1hu/.\n"",
        "\n",
        "IMPORTANTE: Este código NÃO segue com rigor matemático a metodologia do cálculo acumulado de DI como designada pela B3. A fórmula matemática para esse cálculo é um pouco complexa e não caberia aqui no nosso tutorial. Para fins de simplificação, 'enxugamos' o cálculo da taxa diária e dos valores acumulados. Note, no entanto, que ao fim da rotina os valores de rendimento do CDI são bem próximos àqueles estipulados pela B3."
      ]
    },
    {
      "cell_type": "markdown",
      "metadata": {
        "id": "GiqLrjMJGDnZ"
      },
      "source": [
        "## 1. Instalando e importando bibliotecas"
      ]
    },
    {
      "cell_type": "markdown",
      "metadata": {
        "id": "XFFGjneDf644"
      },
      "source": [
        "Nesse tutorial usarei a biblioteca yfinance para obter os dados de ativos brasileiros e a Quandl para obter a taxa DI (depósito interbancário), que determina o CDI. Fique a vontade para colocar outras bibliotecas e adicionar outros tipos de ativos."
      ]
    },
    {
      "cell_type": "code",
      "metadata": {
        "colab": {
          "base_uri": "https://localhost:8080/"
        },
        "id": "d81aLa1XGOvh",
        "outputId": "ddb504ad-44b3-49d7-8e4f-a1cd1351bd53"
      },
      "source": [
        "!pip install yfinance\n",
        "!pip install quandl"
      ],
      "execution_count": null,
      "outputs": [
        {
          "output_type": "stream",
          "name": "stdout",
          "text": [
            "Requirement already satisfied: yfinance in /usr/local/lib/python3.7/dist-packages (0.1.63)\n",
            "Requirement already satisfied: multitasking>=0.0.7 in /usr/local/lib/python3.7/dist-packages (from yfinance) (0.0.9)\n",
            "Requirement already satisfied: requests>=2.20 in /usr/local/lib/python3.7/dist-packages (from yfinance) (2.23.0)\n",
            "Requirement already satisfied: pandas>=0.24 in /usr/local/lib/python3.7/dist-packages (from yfinance) (1.1.5)\n",
            "Requirement already satisfied: numpy>=1.15 in /usr/local/lib/python3.7/dist-packages (from yfinance) (1.19.5)\n",
            "Requirement already satisfied: lxml>=4.5.1 in /usr/local/lib/python3.7/dist-packages (from yfinance) (4.6.3)\n",
            "Requirement already satisfied: pytz>=2017.2 in /usr/local/lib/python3.7/dist-packages (from pandas>=0.24->yfinance) (2018.9)\n",
            "Requirement already satisfied: python-dateutil>=2.7.3 in /usr/local/lib/python3.7/dist-packages (from pandas>=0.24->yfinance) (2.8.2)\n",
            "Requirement already satisfied: six>=1.5 in /usr/local/lib/python3.7/dist-packages (from python-dateutil>=2.7.3->pandas>=0.24->yfinance) (1.15.0)\n",
            "Requirement already satisfied: chardet<4,>=3.0.2 in /usr/local/lib/python3.7/dist-packages (from requests>=2.20->yfinance) (3.0.4)\n",
            "Requirement already satisfied: idna<3,>=2.5 in /usr/local/lib/python3.7/dist-packages (from requests>=2.20->yfinance) (2.10)\n",
            "Requirement already satisfied: urllib3!=1.25.0,!=1.25.1,<1.26,>=1.21.1 in /usr/local/lib/python3.7/dist-packages (from requests>=2.20->yfinance) (1.24.3)\n",
            "Requirement already satisfied: certifi>=2017.4.17 in /usr/local/lib/python3.7/dist-packages (from requests>=2.20->yfinance) (2021.5.30)\n",
            "Requirement already satisfied: quandl in /usr/local/lib/python3.7/dist-packages (3.6.1)\n",
            "Requirement already satisfied: python-dateutil in /usr/local/lib/python3.7/dist-packages (from quandl) (2.8.2)\n",
            "Requirement already satisfied: numpy>=1.8 in /usr/local/lib/python3.7/dist-packages (from quandl) (1.19.5)\n",
            "Requirement already satisfied: pandas>=0.14 in /usr/local/lib/python3.7/dist-packages (from quandl) (1.1.5)\n",
            "Requirement already satisfied: inflection>=0.3.1 in /usr/local/lib/python3.7/dist-packages (from quandl) (0.5.1)\n",
            "Requirement already satisfied: six in /usr/local/lib/python3.7/dist-packages (from quandl) (1.15.0)\n",
            "Requirement already satisfied: requests>=2.7.0 in /usr/local/lib/python3.7/dist-packages (from quandl) (2.23.0)\n",
            "Requirement already satisfied: more-itertools in /usr/local/lib/python3.7/dist-packages (from quandl) (8.9.0)\n",
            "Requirement already satisfied: pytz>=2017.2 in /usr/local/lib/python3.7/dist-packages (from pandas>=0.14->quandl) (2018.9)\n",
            "Requirement already satisfied: idna<3,>=2.5 in /usr/local/lib/python3.7/dist-packages (from requests>=2.7.0->quandl) (2.10)\n",
            "Requirement already satisfied: certifi>=2017.4.17 in /usr/local/lib/python3.7/dist-packages (from requests>=2.7.0->quandl) (2021.5.30)\n",
            "Requirement already satisfied: chardet<4,>=3.0.2 in /usr/local/lib/python3.7/dist-packages (from requests>=2.7.0->quandl) (3.0.4)\n",
            "Requirement already satisfied: urllib3!=1.25.0,!=1.25.1,<1.26,>=1.21.1 in /usr/local/lib/python3.7/dist-packages (from requests>=2.7.0->quandl) (1.24.3)\n"
          ]
        }
      ]
    },
    {
      "cell_type": "markdown",
      "metadata": {
        "id": "k9B19i1pgJfl"
      },
      "source": [
        "Após a instalação, importe essas e outras bibliotecas mostradas a seguir:"
      ]
    },
    {
      "cell_type": "code",
      "metadata": {
        "id": "RepZm8AQGnKe"
      },
      "source": [
        "import yfinance as yf\n",
        "import pandas as pd\n",
        "import numpy as np\n",
        "import quandl"
      ],
      "execution_count": null,
      "outputs": []
    },
    {
      "cell_type": "markdown",
      "metadata": {
        "id": "z6m9axgvGrfU"
      },
      "source": [
        "## 2. Importando dados"
      ]
    },
    {
      "cell_type": "markdown",
      "metadata": {
        "id": "Yb-jxwB-fvS4"
      },
      "source": [
        "Para simplificar a análise, vou colocar apenas ações brasileiras e simular uma única compra, sem aportes posteriores. No fim vou também incluir o IBOV e dólar para fins de comparação. Trata-se de uma carteira aleatória, não usei nenhuma metodologia para escolher essas ações."
      ]
    },
    {
      "cell_type": "markdown",
      "metadata": {
        "id": "kZS9p_ghgMcV"
      },
      "source": [
        "Não esqueça de colocar o \".SA\" para ativos brasileiros. "
      ]
    },
    {
      "cell_type": "code",
      "metadata": {
        "id": "XHsKX-Otx4IM"
      },
      "source": [
        "ativos = ['ITUB4.SA', 'PETR4.SA', 'VALE3.SA','BBAS3.SA', \n",
        "          'ABEV3.SA', 'CIEL3.SA', 'EZTC3.SA', 'ECOR3.SA', \n",
        "          'WEGE3.SA', 'RADL3.SA', 'OIBR3.SA']"
      ],
      "execution_count": null,
      "outputs": []
    },
    {
      "cell_type": "code",
      "metadata": {
        "id": "dnaRWJI2HFtf"
      },
      "source": [
        "inicio = '2012-01-01'\n",
        "fim = '2021-09-24'"
      ],
      "execution_count": null,
      "outputs": []
    },
    {
      "cell_type": "markdown",
      "metadata": {
        "id": "wUXDXzCkgQA8"
      },
      "source": [
        "Utilize o seguinte loop abaixo para extrair os preços de fechamento de todos esses papéis de uma só vez, para um intervalo específico."
      ]
    },
    {
      "cell_type": "code",
      "metadata": {
        "id": "A8R1uR4JHLmU",
        "colab": {
          "base_uri": "https://localhost:8080/"
        },
        "outputId": "564a6e06-8cbb-4db1-8b02-6859ba751783"
      },
      "source": [
        "precos = pd.DataFrame()\n",
        "\n",
        "for i in ativos:\n",
        "  precos[i] = yf.download(i, start = inicio, end = fim)['Adj Close']"
      ],
      "execution_count": null,
      "outputs": [
        {
          "output_type": "stream",
          "name": "stdout",
          "text": [
            "[*********************100%***********************]  1 of 1 completed\n",
            "[*********************100%***********************]  1 of 1 completed\n",
            "[*********************100%***********************]  1 of 1 completed\n",
            "[*********************100%***********************]  1 of 1 completed\n",
            "[*********************100%***********************]  1 of 1 completed\n",
            "[*********************100%***********************]  1 of 1 completed\n",
            "[*********************100%***********************]  1 of 1 completed\n",
            "[*********************100%***********************]  1 of 1 completed\n",
            "[*********************100%***********************]  1 of 1 completed\n",
            "[*********************100%***********************]  1 of 1 completed\n",
            "[*********************100%***********************]  1 of 1 completed\n"
          ]
        }
      ]
    },
    {
      "cell_type": "markdown",
      "metadata": {
        "id": "ygXugB2HRUTP"
      },
      "source": [
        "## 3. Simulação a criação de uma carteira"
      ]
    },
    {
      "cell_type": "markdown",
      "metadata": {
        "id": "WjLyg_YAhNTN"
      },
      "source": [
        "Criando um dicionário com as alocações que vamos fazer para cada ativo na nossa carteira"
      ]
    },
    {
      "cell_type": "markdown",
      "metadata": {
        "id": "eu4CeXE6f2tu"
      },
      "source": [
        "A carteira terá um valor investido total de R$ 20 mil, distibuídos nos seguintes ativos"
      ]
    },
    {
      "cell_type": "code",
      "metadata": {
        "id": "yvScK3egUh4j"
      },
      "source": [
        "compras = {'ITUB4.SA':6000, 'PETR4.SA':4000, 'VALE3.SA':3000, \n",
        "           'BBAS3.SA':2000, 'ABEV3.SA':2000, 'CIEL3.SA':1000, \n",
        "           'EZTC3.SA': 800, 'ECOR3.SA':600 , 'WEGE3.SA':400,\n",
        "           'RADL3.SA':100, 'OIBR3.SA':100}\n",
        "           \n",
        "compras_df = pd.Series(data=compras, index=list(compras.keys()))"
      ],
      "execution_count": null,
      "outputs": []
    },
    {
      "cell_type": "markdown",
      "metadata": {
        "id": "MftzaFjbgV3m"
      },
      "source": [
        "Para facilitar, estou assumindo que fiz todos os aportes no primeiro dia de investimento (01/01/12), e depois não fiz mais nenhum aporte. Aqui estou assumindo um total investido de R$ 20 mil, alocado de diferentes formas entre os ativos."
      ]
    },
    {
      "cell_type": "markdown",
      "metadata": {
        "id": "PD6qNIYRhRwe"
      },
      "source": [
        "Qual o valor total da nossa carteira?"
      ]
    },
    {
      "cell_type": "code",
      "metadata": {
        "colab": {
          "base_uri": "https://localhost:8080/"
        },
        "id": "hXoBtcLGVl4T",
        "outputId": "7af30c1c-62d7-4ae5-bd02-4ee4460b309c"
      },
      "source": [
        "sum(compras.values())"
      ],
      "execution_count": null,
      "outputs": [
        {
          "output_type": "execute_result",
          "data": {
            "text/plain": [
              "20000"
            ]
          },
          "metadata": {},
          "execution_count": 811
        }
      ]
    },
    {
      "cell_type": "markdown",
      "metadata": {
        "id": "7r7Z_dvyhVp1"
      },
      "source": [
        "Vamos calcular agora o número de papéis que compramos de cada ativo. Primeiramente, precisamos do preço de cada ativo no dia que realizamos a compra:"
      ]
    },
    {
      "cell_type": "code",
      "metadata": {
        "id": "kducAbvOTQbG"
      },
      "source": [
        "primeiro = precos.iloc[0]"
      ],
      "execution_count": null,
      "outputs": []
    },
    {
      "cell_type": "markdown",
      "metadata": {
        "id": "MLlDt8g_hbt_"
      },
      "source": [
        "Quantidade de papéis comprados de cada ativo"
      ]
    },
    {
      "cell_type": "code",
      "metadata": {
        "id": "Ch8fKAB-UtHL"
      },
      "source": [
        "qtd_acoes = compras_df/primeiro"
      ],
      "execution_count": null,
      "outputs": []
    },
    {
      "cell_type": "markdown",
      "metadata": {
        "id": "e_6vFWFHhe39"
      },
      "source": [
        "Criando um dataframe que contém a posição diária de cada ativo"
      ]
    },
    {
      "cell_type": "code",
      "metadata": {
        "id": "xip2jxnXTquR"
      },
      "source": [
        "PL = precos*qtd_acoes"
      ],
      "execution_count": null,
      "outputs": []
    },
    {
      "cell_type": "code",
      "metadata": {
        "colab": {
          "base_uri": "https://localhost:8080/",
          "height": 234
        },
        "id": "JEGNs5cJDPOV",
        "outputId": "e470aecd-9c79-47a8-9a28-f5544a9a45fb"
      },
      "source": [
        "PL.head()"
      ],
      "execution_count": null,
      "outputs": [
        {
          "output_type": "execute_result",
          "data": {
            "text/html": [
              "<div>\n",
              "<style scoped>\n",
              "    .dataframe tbody tr th:only-of-type {\n",
              "        vertical-align: middle;\n",
              "    }\n",
              "\n",
              "    .dataframe tbody tr th {\n",
              "        vertical-align: top;\n",
              "    }\n",
              "\n",
              "    .dataframe thead th {\n",
              "        text-align: right;\n",
              "    }\n",
              "</style>\n",
              "<table border=\"1\" class=\"dataframe\">\n",
              "  <thead>\n",
              "    <tr style=\"text-align: right;\">\n",
              "      <th></th>\n",
              "      <th>ITUB4.SA</th>\n",
              "      <th>PETR4.SA</th>\n",
              "      <th>VALE3.SA</th>\n",
              "      <th>BBAS3.SA</th>\n",
              "      <th>ABEV3.SA</th>\n",
              "      <th>CIEL3.SA</th>\n",
              "      <th>EZTC3.SA</th>\n",
              "      <th>ECOR3.SA</th>\n",
              "      <th>WEGE3.SA</th>\n",
              "      <th>RADL3.SA</th>\n",
              "      <th>OIBR3.SA</th>\n",
              "    </tr>\n",
              "    <tr>\n",
              "      <th>Date</th>\n",
              "      <th></th>\n",
              "      <th></th>\n",
              "      <th></th>\n",
              "      <th></th>\n",
              "      <th></th>\n",
              "      <th></th>\n",
              "      <th></th>\n",
              "      <th></th>\n",
              "      <th></th>\n",
              "      <th></th>\n",
              "      <th></th>\n",
              "    </tr>\n",
              "  </thead>\n",
              "  <tbody>\n",
              "    <tr>\n",
              "      <th>2012-01-02</th>\n",
              "      <td>6000.000000</td>\n",
              "      <td>4000.000000</td>\n",
              "      <td>3000.000000</td>\n",
              "      <td>2000.000000</td>\n",
              "      <td>2000.000000</td>\n",
              "      <td>1000.000000</td>\n",
              "      <td>800.000000</td>\n",
              "      <td>600.000000</td>\n",
              "      <td>400.000000</td>\n",
              "      <td>100.000000</td>\n",
              "      <td>100.000000</td>\n",
              "    </tr>\n",
              "    <tr>\n",
              "      <th>2012-01-03</th>\n",
              "      <td>6149.863133</td>\n",
              "      <td>4159.107643</td>\n",
              "      <td>3133.496347</td>\n",
              "      <td>1990.942072</td>\n",
              "      <td>1977.206217</td>\n",
              "      <td>1003.723041</td>\n",
              "      <td>824.844691</td>\n",
              "      <td>599.552970</td>\n",
              "      <td>409.431655</td>\n",
              "      <td>101.515154</td>\n",
              "      <td>102.416686</td>\n",
              "    </tr>\n",
              "    <tr>\n",
              "      <th>2012-01-04</th>\n",
              "      <td>6156.917429</td>\n",
              "      <td>4188.803074</td>\n",
              "      <td>3154.767090</td>\n",
              "      <td>1981.061341</td>\n",
              "      <td>1931.250587</td>\n",
              "      <td>1007.238847</td>\n",
              "      <td>831.304054</td>\n",
              "      <td>590.611147</td>\n",
              "      <td>411.575448</td>\n",
              "      <td>101.515154</td>\n",
              "      <td>102.166672</td>\n",
              "    </tr>\n",
              "    <tr>\n",
              "      <th>2012-01-05</th>\n",
              "      <td>6111.074153</td>\n",
              "      <td>4140.547767</td>\n",
              "      <td>3070.415746</td>\n",
              "      <td>1960.476498</td>\n",
              "      <td>1893.015001</td>\n",
              "      <td>992.761224</td>\n",
              "      <td>797.515526</td>\n",
              "      <td>581.669133</td>\n",
              "      <td>414.147714</td>\n",
              "      <td>100.757612</td>\n",
              "      <td>100.333340</td>\n",
              "    </tr>\n",
              "    <tr>\n",
              "      <th>2012-01-06</th>\n",
              "      <td>6156.917429</td>\n",
              "      <td>4144.260849</td>\n",
              "      <td>3044.009222</td>\n",
              "      <td>1911.073714</td>\n",
              "      <td>1888.235797</td>\n",
              "      <td>986.556701</td>\n",
              "      <td>801.490465</td>\n",
              "      <td>571.385899</td>\n",
              "      <td>409.431655</td>\n",
              "      <td>100.378781</td>\n",
              "      <td>101.583341</td>\n",
              "    </tr>\n",
              "  </tbody>\n",
              "</table>\n",
              "</div>"
            ],
            "text/plain": [
              "               ITUB4.SA     PETR4.SA  ...    RADL3.SA    OIBR3.SA\n",
              "Date                                  ...                        \n",
              "2012-01-02  6000.000000  4000.000000  ...  100.000000  100.000000\n",
              "2012-01-03  6149.863133  4159.107643  ...  101.515154  102.416686\n",
              "2012-01-04  6156.917429  4188.803074  ...  101.515154  102.166672\n",
              "2012-01-05  6111.074153  4140.547767  ...  100.757612  100.333340\n",
              "2012-01-06  6156.917429  4144.260849  ...  100.378781  101.583341\n",
              "\n",
              "[5 rows x 11 columns]"
            ]
          },
          "metadata": {},
          "execution_count": 815
        }
      ]
    },
    {
      "cell_type": "markdown",
      "metadata": {
        "id": "HFLV07ZsgiyU"
      },
      "source": [
        "Vamos remover os NaNs que surgem e eventualmente podem atrapalhar a consolidação da nossa carteira"
      ]
    },
    {
      "cell_type": "code",
      "metadata": {
        "id": "QDnEG5zz9qfc"
      },
      "source": [
        "PL_filter = PL.dropna(axis='rows')"
      ],
      "execution_count": null,
      "outputs": []
    },
    {
      "cell_type": "code",
      "metadata": {
        "colab": {
          "base_uri": "https://localhost:8080/",
          "height": 172
        },
        "id": "5Ylaf9YhWks8",
        "outputId": "5c47fbf7-a435-4a0b-85a9-720eccc7ca22"
      },
      "source": [
        "PL_filter.head(3)"
      ],
      "execution_count": null,
      "outputs": [
        {
          "output_type": "execute_result",
          "data": {
            "text/html": [
              "<div>\n",
              "<style scoped>\n",
              "    .dataframe tbody tr th:only-of-type {\n",
              "        vertical-align: middle;\n",
              "    }\n",
              "\n",
              "    .dataframe tbody tr th {\n",
              "        vertical-align: top;\n",
              "    }\n",
              "\n",
              "    .dataframe thead th {\n",
              "        text-align: right;\n",
              "    }\n",
              "</style>\n",
              "<table border=\"1\" class=\"dataframe\">\n",
              "  <thead>\n",
              "    <tr style=\"text-align: right;\">\n",
              "      <th></th>\n",
              "      <th>ITUB4.SA</th>\n",
              "      <th>PETR4.SA</th>\n",
              "      <th>VALE3.SA</th>\n",
              "      <th>BBAS3.SA</th>\n",
              "      <th>ABEV3.SA</th>\n",
              "      <th>CIEL3.SA</th>\n",
              "      <th>EZTC3.SA</th>\n",
              "      <th>ECOR3.SA</th>\n",
              "      <th>WEGE3.SA</th>\n",
              "      <th>RADL3.SA</th>\n",
              "      <th>OIBR3.SA</th>\n",
              "    </tr>\n",
              "    <tr>\n",
              "      <th>Date</th>\n",
              "      <th></th>\n",
              "      <th></th>\n",
              "      <th></th>\n",
              "      <th></th>\n",
              "      <th></th>\n",
              "      <th></th>\n",
              "      <th></th>\n",
              "      <th></th>\n",
              "      <th></th>\n",
              "      <th></th>\n",
              "      <th></th>\n",
              "    </tr>\n",
              "  </thead>\n",
              "  <tbody>\n",
              "    <tr>\n",
              "      <th>2012-01-02</th>\n",
              "      <td>6000.000000</td>\n",
              "      <td>4000.000000</td>\n",
              "      <td>3000.000000</td>\n",
              "      <td>2000.000000</td>\n",
              "      <td>2000.000000</td>\n",
              "      <td>1000.000000</td>\n",
              "      <td>800.000000</td>\n",
              "      <td>600.000000</td>\n",
              "      <td>400.000000</td>\n",
              "      <td>100.000000</td>\n",
              "      <td>100.000000</td>\n",
              "    </tr>\n",
              "    <tr>\n",
              "      <th>2012-01-03</th>\n",
              "      <td>6149.863133</td>\n",
              "      <td>4159.107643</td>\n",
              "      <td>3133.496347</td>\n",
              "      <td>1990.942072</td>\n",
              "      <td>1977.206217</td>\n",
              "      <td>1003.723041</td>\n",
              "      <td>824.844691</td>\n",
              "      <td>599.552970</td>\n",
              "      <td>409.431655</td>\n",
              "      <td>101.515154</td>\n",
              "      <td>102.416686</td>\n",
              "    </tr>\n",
              "    <tr>\n",
              "      <th>2012-01-04</th>\n",
              "      <td>6156.917429</td>\n",
              "      <td>4188.803074</td>\n",
              "      <td>3154.767090</td>\n",
              "      <td>1981.061341</td>\n",
              "      <td>1931.250587</td>\n",
              "      <td>1007.238847</td>\n",
              "      <td>831.304054</td>\n",
              "      <td>590.611147</td>\n",
              "      <td>411.575448</td>\n",
              "      <td>101.515154</td>\n",
              "      <td>102.166672</td>\n",
              "    </tr>\n",
              "  </tbody>\n",
              "</table>\n",
              "</div>"
            ],
            "text/plain": [
              "               ITUB4.SA     PETR4.SA  ...    RADL3.SA    OIBR3.SA\n",
              "Date                                  ...                        \n",
              "2012-01-02  6000.000000  4000.000000  ...  100.000000  100.000000\n",
              "2012-01-03  6149.863133  4159.107643  ...  101.515154  102.416686\n",
              "2012-01-04  6156.917429  4188.803074  ...  101.515154  102.166672\n",
              "\n",
              "[3 rows x 11 columns]"
            ]
          },
          "metadata": {},
          "execution_count": 817
        }
      ]
    },
    {
      "cell_type": "code",
      "metadata": {
        "colab": {
          "base_uri": "https://localhost:8080/",
          "height": 234
        },
        "id": "x5dKstQCT-Sd",
        "outputId": "a8b71ba4-cb65-4de5-d7bc-100b05b5a0cb"
      },
      "source": [
        "PL_filter.tail()"
      ],
      "execution_count": null,
      "outputs": [
        {
          "output_type": "execute_result",
          "data": {
            "text/html": [
              "<div>\n",
              "<style scoped>\n",
              "    .dataframe tbody tr th:only-of-type {\n",
              "        vertical-align: middle;\n",
              "    }\n",
              "\n",
              "    .dataframe tbody tr th {\n",
              "        vertical-align: top;\n",
              "    }\n",
              "\n",
              "    .dataframe thead th {\n",
              "        text-align: right;\n",
              "    }\n",
              "</style>\n",
              "<table border=\"1\" class=\"dataframe\">\n",
              "  <thead>\n",
              "    <tr style=\"text-align: right;\">\n",
              "      <th></th>\n",
              "      <th>ITUB4.SA</th>\n",
              "      <th>PETR4.SA</th>\n",
              "      <th>VALE3.SA</th>\n",
              "      <th>BBAS3.SA</th>\n",
              "      <th>ABEV3.SA</th>\n",
              "      <th>CIEL3.SA</th>\n",
              "      <th>EZTC3.SA</th>\n",
              "      <th>ECOR3.SA</th>\n",
              "      <th>WEGE3.SA</th>\n",
              "      <th>RADL3.SA</th>\n",
              "      <th>OIBR3.SA</th>\n",
              "    </tr>\n",
              "    <tr>\n",
              "      <th>Date</th>\n",
              "      <th></th>\n",
              "      <th></th>\n",
              "      <th></th>\n",
              "      <th></th>\n",
              "      <th></th>\n",
              "      <th></th>\n",
              "      <th></th>\n",
              "      <th></th>\n",
              "      <th></th>\n",
              "      <th></th>\n",
              "      <th></th>\n",
              "    </tr>\n",
              "  </thead>\n",
              "  <tbody>\n",
              "    <tr>\n",
              "      <th>2021-09-17</th>\n",
              "      <td>16078.097154</td>\n",
              "      <td>6028.799910</td>\n",
              "      <td>9647.463461</td>\n",
              "      <td>4398.201285</td>\n",
              "      <td>4043.095506</td>\n",
              "      <td>366.513591</td>\n",
              "      <td>2671.958897</td>\n",
              "      <td>647.749955</td>\n",
              "      <td>6892.084501</td>\n",
              "      <td>1092.992238</td>\n",
              "      <td>1.418030</td>\n",
              "    </tr>\n",
              "    <tr>\n",
              "      <th>2021-09-20</th>\n",
              "      <td>15713.999820</td>\n",
              "      <td>5961.087592</td>\n",
              "      <td>9266.716830</td>\n",
              "      <td>4255.343252</td>\n",
              "      <td>4009.702693</td>\n",
              "      <td>347.144970</td>\n",
              "      <td>2654.159790</td>\n",
              "      <td>626.247839</td>\n",
              "      <td>6839.325629</td>\n",
              "      <td>1078.036867</td>\n",
              "      <td>1.432801</td>\n",
              "    </tr>\n",
              "    <tr>\n",
              "      <th>2021-09-21</th>\n",
              "      <td>15673.544683</td>\n",
              "      <td>6096.511767</td>\n",
              "      <td>9420.135725</td>\n",
              "      <td>4363.246459</td>\n",
              "      <td>4022.546120</td>\n",
              "      <td>344.165188</td>\n",
              "      <td>2705.463051</td>\n",
              "      <td>641.030532</td>\n",
              "      <td>6990.568219</td>\n",
              "      <td>1065.573966</td>\n",
              "      <td>1.403259</td>\n",
              "    </tr>\n",
              "    <tr>\n",
              "      <th>2021-09-22</th>\n",
              "      <td>16037.642017</td>\n",
              "      <td>6251.282714</td>\n",
              "      <td>9754.969202</td>\n",
              "      <td>4465.070756</td>\n",
              "      <td>4037.958282</td>\n",
              "      <td>370.983265</td>\n",
              "      <td>2771.424330</td>\n",
              "      <td>661.860693</td>\n",
              "      <td>7134.776113</td>\n",
              "      <td>1051.033955</td>\n",
              "      <td>1.432801</td>\n",
              "    </tr>\n",
              "    <tr>\n",
              "      <th>2021-09-23</th>\n",
              "      <td>16557.781537</td>\n",
              "      <td>6490.693483</td>\n",
              "      <td>9702.707881</td>\n",
              "      <td>4477.228868</td>\n",
              "      <td>4079.057054</td>\n",
              "      <td>365.023700</td>\n",
              "      <td>2627.984644</td>\n",
              "      <td>665.892296</td>\n",
              "      <td>7192.811341</td>\n",
              "      <td>1057.265445</td>\n",
              "      <td>1.521428</td>\n",
              "    </tr>\n",
              "  </tbody>\n",
              "</table>\n",
              "</div>"
            ],
            "text/plain": [
              "                ITUB4.SA     PETR4.SA  ...     RADL3.SA  OIBR3.SA\n",
              "Date                                   ...                       \n",
              "2021-09-17  16078.097154  6028.799910  ...  1092.992238  1.418030\n",
              "2021-09-20  15713.999820  5961.087592  ...  1078.036867  1.432801\n",
              "2021-09-21  15673.544683  6096.511767  ...  1065.573966  1.403259\n",
              "2021-09-22  16037.642017  6251.282714  ...  1051.033955  1.432801\n",
              "2021-09-23  16557.781537  6490.693483  ...  1057.265445  1.521428\n",
              "\n",
              "[5 rows x 11 columns]"
            ]
          },
          "metadata": {},
          "execution_count": 818
        }
      ]
    },
    {
      "cell_type": "markdown",
      "metadata": {
        "id": "8ww6Ls7OhjC-"
      },
      "source": [
        "Vamos criar uma nova variável 'PL Total' que vai representar o total do nosso PL diário. Essa coluna será simplesmente a soma de todas as posições:"
      ]
    },
    {
      "cell_type": "code",
      "metadata": {
        "id": "rAWeyr0tT_QU",
        "colab": {
          "base_uri": "https://localhost:8080/"
        },
        "outputId": "d3ddeeb9-203c-4062-f2e2-0d823008c356"
      },
      "source": [
        "PL_filter['PL Total'] = PL_filter.iloc[:].sum(axis = 1)"
      ],
      "execution_count": null,
      "outputs": [
        {
          "output_type": "stream",
          "name": "stderr",
          "text": [
            "/usr/local/lib/python3.7/dist-packages/ipykernel_launcher.py:1: SettingWithCopyWarning: \n",
            "A value is trying to be set on a copy of a slice from a DataFrame.\n",
            "Try using .loc[row_indexer,col_indexer] = value instead\n",
            "\n",
            "See the caveats in the documentation: https://pandas.pydata.org/pandas-docs/stable/user_guide/indexing.html#returning-a-view-versus-a-copy\n",
            "  \"\"\"Entry point for launching an IPython kernel.\n"
          ]
        }
      ]
    },
    {
      "cell_type": "code",
      "metadata": {
        "colab": {
          "base_uri": "https://localhost:8080/",
          "height": 234
        },
        "id": "IZHg_ZGdUruQ",
        "outputId": "6f0e42ad-b238-4f1b-aaec-f8a4dbba0cc9"
      },
      "source": [
        "PL_filter.head()"
      ],
      "execution_count": null,
      "outputs": [
        {
          "output_type": "execute_result",
          "data": {
            "text/html": [
              "<div>\n",
              "<style scoped>\n",
              "    .dataframe tbody tr th:only-of-type {\n",
              "        vertical-align: middle;\n",
              "    }\n",
              "\n",
              "    .dataframe tbody tr th {\n",
              "        vertical-align: top;\n",
              "    }\n",
              "\n",
              "    .dataframe thead th {\n",
              "        text-align: right;\n",
              "    }\n",
              "</style>\n",
              "<table border=\"1\" class=\"dataframe\">\n",
              "  <thead>\n",
              "    <tr style=\"text-align: right;\">\n",
              "      <th></th>\n",
              "      <th>ITUB4.SA</th>\n",
              "      <th>PETR4.SA</th>\n",
              "      <th>VALE3.SA</th>\n",
              "      <th>BBAS3.SA</th>\n",
              "      <th>ABEV3.SA</th>\n",
              "      <th>CIEL3.SA</th>\n",
              "      <th>EZTC3.SA</th>\n",
              "      <th>ECOR3.SA</th>\n",
              "      <th>WEGE3.SA</th>\n",
              "      <th>RADL3.SA</th>\n",
              "      <th>OIBR3.SA</th>\n",
              "      <th>PL Total</th>\n",
              "    </tr>\n",
              "    <tr>\n",
              "      <th>Date</th>\n",
              "      <th></th>\n",
              "      <th></th>\n",
              "      <th></th>\n",
              "      <th></th>\n",
              "      <th></th>\n",
              "      <th></th>\n",
              "      <th></th>\n",
              "      <th></th>\n",
              "      <th></th>\n",
              "      <th></th>\n",
              "      <th></th>\n",
              "      <th></th>\n",
              "    </tr>\n",
              "  </thead>\n",
              "  <tbody>\n",
              "    <tr>\n",
              "      <th>2012-01-02</th>\n",
              "      <td>6000.000000</td>\n",
              "      <td>4000.000000</td>\n",
              "      <td>3000.000000</td>\n",
              "      <td>2000.000000</td>\n",
              "      <td>2000.000000</td>\n",
              "      <td>1000.000000</td>\n",
              "      <td>800.000000</td>\n",
              "      <td>600.000000</td>\n",
              "      <td>400.000000</td>\n",
              "      <td>100.000000</td>\n",
              "      <td>100.000000</td>\n",
              "      <td>20000.000000</td>\n",
              "    </tr>\n",
              "    <tr>\n",
              "      <th>2012-01-03</th>\n",
              "      <td>6149.863133</td>\n",
              "      <td>4159.107643</td>\n",
              "      <td>3133.496347</td>\n",
              "      <td>1990.942072</td>\n",
              "      <td>1977.206217</td>\n",
              "      <td>1003.723041</td>\n",
              "      <td>824.844691</td>\n",
              "      <td>599.552970</td>\n",
              "      <td>409.431655</td>\n",
              "      <td>101.515154</td>\n",
              "      <td>102.416686</td>\n",
              "      <td>20452.099608</td>\n",
              "    </tr>\n",
              "    <tr>\n",
              "      <th>2012-01-04</th>\n",
              "      <td>6156.917429</td>\n",
              "      <td>4188.803074</td>\n",
              "      <td>3154.767090</td>\n",
              "      <td>1981.061341</td>\n",
              "      <td>1931.250587</td>\n",
              "      <td>1007.238847</td>\n",
              "      <td>831.304054</td>\n",
              "      <td>590.611147</td>\n",
              "      <td>411.575448</td>\n",
              "      <td>101.515154</td>\n",
              "      <td>102.166672</td>\n",
              "      <td>20457.210843</td>\n",
              "    </tr>\n",
              "    <tr>\n",
              "      <th>2012-01-05</th>\n",
              "      <td>6111.074153</td>\n",
              "      <td>4140.547767</td>\n",
              "      <td>3070.415746</td>\n",
              "      <td>1960.476498</td>\n",
              "      <td>1893.015001</td>\n",
              "      <td>992.761224</td>\n",
              "      <td>797.515526</td>\n",
              "      <td>581.669133</td>\n",
              "      <td>414.147714</td>\n",
              "      <td>100.757612</td>\n",
              "      <td>100.333340</td>\n",
              "      <td>20162.713713</td>\n",
              "    </tr>\n",
              "    <tr>\n",
              "      <th>2012-01-06</th>\n",
              "      <td>6156.917429</td>\n",
              "      <td>4144.260849</td>\n",
              "      <td>3044.009222</td>\n",
              "      <td>1911.073714</td>\n",
              "      <td>1888.235797</td>\n",
              "      <td>986.556701</td>\n",
              "      <td>801.490465</td>\n",
              "      <td>571.385899</td>\n",
              "      <td>409.431655</td>\n",
              "      <td>100.378781</td>\n",
              "      <td>101.583341</td>\n",
              "      <td>20115.323854</td>\n",
              "    </tr>\n",
              "  </tbody>\n",
              "</table>\n",
              "</div>"
            ],
            "text/plain": [
              "               ITUB4.SA     PETR4.SA  ...    OIBR3.SA      PL Total\n",
              "Date                                  ...                          \n",
              "2012-01-02  6000.000000  4000.000000  ...  100.000000  20000.000000\n",
              "2012-01-03  6149.863133  4159.107643  ...  102.416686  20452.099608\n",
              "2012-01-04  6156.917429  4188.803074  ...  102.166672  20457.210843\n",
              "2012-01-05  6111.074153  4140.547767  ...  100.333340  20162.713713\n",
              "2012-01-06  6156.917429  4144.260849  ...  101.583341  20115.323854\n",
              "\n",
              "[5 rows x 12 columns]"
            ]
          },
          "metadata": {},
          "execution_count": 820
        }
      ]
    },
    {
      "cell_type": "markdown",
      "metadata": {
        "id": "tdmvYZcRgqjC"
      },
      "source": [
        "Sucesso! Perceba que nosso patrimônio líquido (PL) está somando R$ 20 mil no primeiro dia."
      ]
    },
    {
      "cell_type": "code",
      "metadata": {
        "colab": {
          "base_uri": "https://localhost:8080/",
          "height": 234
        },
        "id": "tYIfKHq5Uudb",
        "outputId": "2d773e8c-c575-45b6-afac-a8b83302ffa1"
      },
      "source": [
        "PL_filter.tail()"
      ],
      "execution_count": null,
      "outputs": [
        {
          "output_type": "execute_result",
          "data": {
            "text/html": [
              "<div>\n",
              "<style scoped>\n",
              "    .dataframe tbody tr th:only-of-type {\n",
              "        vertical-align: middle;\n",
              "    }\n",
              "\n",
              "    .dataframe tbody tr th {\n",
              "        vertical-align: top;\n",
              "    }\n",
              "\n",
              "    .dataframe thead th {\n",
              "        text-align: right;\n",
              "    }\n",
              "</style>\n",
              "<table border=\"1\" class=\"dataframe\">\n",
              "  <thead>\n",
              "    <tr style=\"text-align: right;\">\n",
              "      <th></th>\n",
              "      <th>ITUB4.SA</th>\n",
              "      <th>PETR4.SA</th>\n",
              "      <th>VALE3.SA</th>\n",
              "      <th>BBAS3.SA</th>\n",
              "      <th>ABEV3.SA</th>\n",
              "      <th>CIEL3.SA</th>\n",
              "      <th>EZTC3.SA</th>\n",
              "      <th>ECOR3.SA</th>\n",
              "      <th>WEGE3.SA</th>\n",
              "      <th>RADL3.SA</th>\n",
              "      <th>OIBR3.SA</th>\n",
              "      <th>PL Total</th>\n",
              "    </tr>\n",
              "    <tr>\n",
              "      <th>Date</th>\n",
              "      <th></th>\n",
              "      <th></th>\n",
              "      <th></th>\n",
              "      <th></th>\n",
              "      <th></th>\n",
              "      <th></th>\n",
              "      <th></th>\n",
              "      <th></th>\n",
              "      <th></th>\n",
              "      <th></th>\n",
              "      <th></th>\n",
              "      <th></th>\n",
              "    </tr>\n",
              "  </thead>\n",
              "  <tbody>\n",
              "    <tr>\n",
              "      <th>2021-09-17</th>\n",
              "      <td>16078.097154</td>\n",
              "      <td>6028.799910</td>\n",
              "      <td>9647.463461</td>\n",
              "      <td>4398.201285</td>\n",
              "      <td>4043.095506</td>\n",
              "      <td>366.513591</td>\n",
              "      <td>2671.958897</td>\n",
              "      <td>647.749955</td>\n",
              "      <td>6892.084501</td>\n",
              "      <td>1092.992238</td>\n",
              "      <td>1.418030</td>\n",
              "      <td>51868.374527</td>\n",
              "    </tr>\n",
              "    <tr>\n",
              "      <th>2021-09-20</th>\n",
              "      <td>15713.999820</td>\n",
              "      <td>5961.087592</td>\n",
              "      <td>9266.716830</td>\n",
              "      <td>4255.343252</td>\n",
              "      <td>4009.702693</td>\n",
              "      <td>347.144970</td>\n",
              "      <td>2654.159790</td>\n",
              "      <td>626.247839</td>\n",
              "      <td>6839.325629</td>\n",
              "      <td>1078.036867</td>\n",
              "      <td>1.432801</td>\n",
              "      <td>50753.198083</td>\n",
              "    </tr>\n",
              "    <tr>\n",
              "      <th>2021-09-21</th>\n",
              "      <td>15673.544683</td>\n",
              "      <td>6096.511767</td>\n",
              "      <td>9420.135725</td>\n",
              "      <td>4363.246459</td>\n",
              "      <td>4022.546120</td>\n",
              "      <td>344.165188</td>\n",
              "      <td>2705.463051</td>\n",
              "      <td>641.030532</td>\n",
              "      <td>6990.568219</td>\n",
              "      <td>1065.573966</td>\n",
              "      <td>1.403259</td>\n",
              "      <td>51324.188969</td>\n",
              "    </tr>\n",
              "    <tr>\n",
              "      <th>2021-09-22</th>\n",
              "      <td>16037.642017</td>\n",
              "      <td>6251.282714</td>\n",
              "      <td>9754.969202</td>\n",
              "      <td>4465.070756</td>\n",
              "      <td>4037.958282</td>\n",
              "      <td>370.983265</td>\n",
              "      <td>2771.424330</td>\n",
              "      <td>661.860693</td>\n",
              "      <td>7134.776113</td>\n",
              "      <td>1051.033955</td>\n",
              "      <td>1.432801</td>\n",
              "      <td>52538.434127</td>\n",
              "    </tr>\n",
              "    <tr>\n",
              "      <th>2021-09-23</th>\n",
              "      <td>16557.781537</td>\n",
              "      <td>6490.693483</td>\n",
              "      <td>9702.707881</td>\n",
              "      <td>4477.228868</td>\n",
              "      <td>4079.057054</td>\n",
              "      <td>365.023700</td>\n",
              "      <td>2627.984644</td>\n",
              "      <td>665.892296</td>\n",
              "      <td>7192.811341</td>\n",
              "      <td>1057.265445</td>\n",
              "      <td>1.521428</td>\n",
              "      <td>53217.967677</td>\n",
              "    </tr>\n",
              "  </tbody>\n",
              "</table>\n",
              "</div>"
            ],
            "text/plain": [
              "                ITUB4.SA     PETR4.SA  ...  OIBR3.SA      PL Total\n",
              "Date                                   ...                        \n",
              "2021-09-17  16078.097154  6028.799910  ...  1.418030  51868.374527\n",
              "2021-09-20  15713.999820  5961.087592  ...  1.432801  50753.198083\n",
              "2021-09-21  15673.544683  6096.511767  ...  1.403259  51324.188969\n",
              "2021-09-22  16037.642017  6251.282714  ...  1.432801  52538.434127\n",
              "2021-09-23  16557.781537  6490.693483  ...  1.521428  53217.967677\n",
              "\n",
              "[5 rows x 12 columns]"
            ]
          },
          "metadata": {},
          "execution_count": 821
        }
      ]
    },
    {
      "cell_type": "markdown",
      "metadata": {
        "id": "bCQ0UntnhODn"
      },
      "source": [
        "## 4. Dados do CDI para comparação"
      ]
    },
    {
      "cell_type": "markdown",
      "metadata": {
        "id": "KeGgUxxZgs-2"
      },
      "source": [
        "Vamos agora usar a Quandl para extrair a taxa DI diária. Para usá-la, você precisa ter uma conta e obter uma chave de API. Se você não tem conta ainda, confira o nosso conteúdo sobre como usar a Quandl."
      ]
    },
    {
      "cell_type": "markdown",
      "metadata": {
        "id": "fuOiDSQMhnQd"
      },
      "source": [
        "Obtendo dados do CDI para comparar com a nossa carteira"
      ]
    },
    {
      "cell_type": "code",
      "metadata": {
        "id": "_Rd4sAssmCYp"
      },
      "source": [
        "quandl.ApiConfig.api_key = \"SUACHAVEAQUI\""
      ],
      "execution_count": null,
      "outputs": []
    },
    {
      "cell_type": "markdown",
      "metadata": {
        "id": "i4x1DiqHg2X8"
      },
      "source": [
        "Dentro da Quandl, vamos buscar a tabela de número 1161, que segundo o próprio Banco Central é a <i>\"Taxa média flutuante DI de depósitos a prazo (CDB/RDB) - Instituições financeiras\"</i>:"
      ]
    },
    {
      "cell_type": "code",
      "metadata": {
        "id": "CNHlseCDmGL2"
      },
      "source": [
        "cdi = quandl.get(\"BCB/1161\", start_date = inicio)"
      ],
      "execution_count": null,
      "outputs": []
    },
    {
      "cell_type": "code",
      "metadata": {
        "colab": {
          "base_uri": "https://localhost:8080/",
          "height": 234
        },
        "id": "XYJMlYh9mRJm",
        "outputId": "f1cd6d5a-5e73-4b45-ed27-048575e91aaf"
      },
      "source": [
        "cdi.head()"
      ],
      "execution_count": null,
      "outputs": [
        {
          "output_type": "execute_result",
          "data": {
            "text/html": [
              "<div>\n",
              "<style scoped>\n",
              "    .dataframe tbody tr th:only-of-type {\n",
              "        vertical-align: middle;\n",
              "    }\n",
              "\n",
              "    .dataframe tbody tr th {\n",
              "        vertical-align: top;\n",
              "    }\n",
              "\n",
              "    .dataframe thead th {\n",
              "        text-align: right;\n",
              "    }\n",
              "</style>\n",
              "<table border=\"1\" class=\"dataframe\">\n",
              "  <thead>\n",
              "    <tr style=\"text-align: right;\">\n",
              "      <th></th>\n",
              "      <th>Value</th>\n",
              "    </tr>\n",
              "    <tr>\n",
              "      <th>Date</th>\n",
              "      <th></th>\n",
              "    </tr>\n",
              "  </thead>\n",
              "  <tbody>\n",
              "    <tr>\n",
              "      <th>2012-01-02</th>\n",
              "      <td>0.0399</td>\n",
              "    </tr>\n",
              "    <tr>\n",
              "      <th>2012-01-03</th>\n",
              "      <td>0.0378</td>\n",
              "    </tr>\n",
              "    <tr>\n",
              "      <th>2012-01-04</th>\n",
              "      <td>0.0390</td>\n",
              "    </tr>\n",
              "    <tr>\n",
              "      <th>2012-01-05</th>\n",
              "      <td>0.0384</td>\n",
              "    </tr>\n",
              "    <tr>\n",
              "      <th>2012-01-06</th>\n",
              "      <td>0.0408</td>\n",
              "    </tr>\n",
              "  </tbody>\n",
              "</table>\n",
              "</div>"
            ],
            "text/plain": [
              "             Value\n",
              "Date              \n",
              "2012-01-02  0.0399\n",
              "2012-01-03  0.0378\n",
              "2012-01-04  0.0390\n",
              "2012-01-05  0.0384\n",
              "2012-01-06  0.0408"
            ]
          },
          "metadata": {},
          "execution_count": 824
        }
      ]
    },
    {
      "cell_type": "code",
      "metadata": {
        "id": "tsJ1k-bcVXOy"
      },
      "source": [
        "cdi.rename(columns = {'Value': 'CDI'}, inplace = True)"
      ],
      "execution_count": null,
      "outputs": []
    },
    {
      "cell_type": "code",
      "metadata": {
        "id": "Hu1fkzR2r3p7"
      },
      "source": [
        "cdi = cdi[~(cdi == 0).any(axis=1)]"
      ],
      "execution_count": null,
      "outputs": []
    },
    {
      "cell_type": "code",
      "metadata": {
        "colab": {
          "base_uri": "https://localhost:8080/",
          "height": 286
        },
        "id": "sQgoFbj2oixs",
        "outputId": "cd98f668-554c-4a26-8a99-9ab1a2c39772"
      },
      "source": [
        "cdi.plot()"
      ],
      "execution_count": null,
      "outputs": [
        {
          "output_type": "execute_result",
          "data": {
            "text/plain": [
              "<matplotlib.axes._subplots.AxesSubplot at 0x7f3960c014d0>"
            ]
          },
          "metadata": {},
          "execution_count": 827
        },
        {
          "output_type": "display_data",
          "data": {
            "image/png": "iVBORw0KGgoAAAANSUhEUgAAAXoAAAD8CAYAAAB5Pm/hAAAABHNCSVQICAgIfAhkiAAAAAlwSFlzAAALEgAACxIB0t1+/AAAADh0RVh0U29mdHdhcmUAbWF0cGxvdGxpYiB2ZXJzaW9uMy4yLjIsIGh0dHA6Ly9tYXRwbG90bGliLm9yZy+WH4yJAAAgAElEQVR4nO3dd3xUVfr48c+TnkAIEHoNVYr0ANIEC0jRxS5iQde1rOvu13X9ueyq6FrR3QVlwYJrdy1rW1FQVEBUUCBIkU4oQug11ISU8/vj3kkmk5lkJpmWmef9euXFzLnn3nNumDz3zLnnniPGGJRSSkWumFBXQCmlVGBpoFdKqQingV4ppSKcBnqllIpwGuiVUirCaaBXSqkIFxfqCrhq0KCBycjICHU1lFKqRlm+fPlBY0xDd9vCLtBnZGSQlZUV6moopVSNIiK/eNqmXTdKKRXhNNArpVSE00CvlFIRLuz66JVSyp8KCgrIyckhLy8v1FXxi6SkJFq0aEF8fLzX+2igV0pFtJycHFJTU8nIyEBEQl2dajHGcOjQIXJycmjTpo3X+2nXjYo6u4+eRmdtjR55eXmkp6fX+CAPICKkp6f7/O3Eq0AvIiNFZKOIZIvIRDfbE0XkPXv7EhHJcNrWXUR+EJG1IvKziCT5VEOl/Oi7zQcYOHk+by3ZEeqqqCCKhCDvUJVzqTTQi0gsMAMYBXQBrhWRLi7ZbgGOGGPaA1OBp+x944C3gDuMMV2BYUCBz7VUyk9ueHkpAEu3HQ5xTVQ02bt3L+PGjaNdu3b06dOH0aNHs2nTJpKTk+nVqxedO3emX79+vPbaayX7vPbaa9x1111+Kd+bPvp+QLYxZiuAiLwLjAXWOeUZCzxsv/4AmC7WZWcEsNoYswrAGHPIL7VWSqkawhjDZZddxoQJE3j33XcBWLVqFfv27aNdu3asWLECgK1bt3L55ZdjjOHmm2/2ax286bppDux0ep9jp7nNY4wpBHKBdKAjYERkroj8JCL3uStARG4TkSwRyTpw4ICv56CUzyLni7wKdwsWLCA+Pp477rijJK1Hjx60bNmyTL62bdsyZcoUpk2b5vc6BHrUTRwwGOgLnALmichyY8w850zGmJnATIDMzEy9S6aUCoi/fbqWdbuP+fWYXZrV4aFLunrcvmbNGvr06ePVsXr37s2GDRv8VbUS3rTodwHOl54WdprbPHa/fBpwCKv1/60x5qAx5hQwB+hd3UorVV0LNuznx63ak6jCS6BGg3nTol8GdBCRNlgBfRww3iXPLGAC8ANwJTDfGGNEZC5wn4ikAGeAoVg3a5UKqeP5hYyb+SPbJ49hb24eKYmx1Eny/gEUVTNV1PIOlK5du/LBBx94lXfFihV07tzZ73WotEVv97nfBcwF1gP/NcasFZFHRORXdraXgXQRyQbuASba+x4BpmBdLFYCPxljZvv9LJSqhnOenMeoZ74LdTVUhDr//PPJz89n5syZJWmrV69m586dZfJt376de++9l9///vd+r4NXffTGmDlY3S7OaZOcXucBV3nY9y2sIZZKha1dR0+XvN6bm0diXAz1aiWEsEYqUogIH3/8MXfffTdPPfUUSUlJZGRk8Mwzz7BlyxZ69epFXl4eqamp/OEPf+Cmm27yfx3C7QnBzMxMo/PRq0DYefgUQ55eUCYtRqDYw5/ASzdmMrxLY3YePsWcn/dw+9B2Qail8rf169cHpDsklNydkz3QJdNdfp0CQUWNt5eWfxrWU5AHuPWNLM4UFnPL68t48vMN7Mk97TmzUmFMJzVTUeP5b7b4vE/HBz4vef32kh10bJzKjsOnuHNYu4h6rF5FNg30SnnpX/OzS17HxYh25agaQ7tulKqCFxb6/u1AhU643YusjqqciwZ6FRX8/YeeEGf96Xy5di9zft7j12Mr/0pKSuLQoUMREewd89EnJfk2CbB23aioUFTRXdcqiIuJYfr8zfzjy00AbH1iNDEx2mcfjlq0aEFOTg6RMo+WY4UpX2igV1GhyM+tuV1HT5cEeYBVOUfp1aqeX8tQ/hEfH+/TakyRSLtuVFTwd4veVUFRze8WUJFLA72KCoV2oL+2X8tKclZNXKx226jwpYFeRYViO9C3b5QakOPH6Jh6FcY00Kuo4GjRJwSo5R3oriGlqkMDvYoKjkAcGxOYj3xxBAzdU5FLA72KCo5AHxcj/PiXC+jWPM2vxy/WFr0KYxroVVQobdELTdKS6NO6/FDIlITYKh//5JlCFm85WOX9lQokDfSqRlu/5xgZE2ezOLviIFvoFOgBWtRLBqCWHdy3Tx7D+3cM4OZBGR6P8ZvBnsdi3/fBasa/tISdh0/5Un2lgkIDvQobR0+d4cIpC1mdc9Sr/BkTZzPqWWtlqAmvLq0wb0FRMVA6DPLXg9rwyk2ZrPnbRWyfPAaArs3SeOiSrsz701Cu6lP+ycMJAzM8Hv/giTMAvPnjL17VXalg0kCvwkbfx78me/8JHpq1lryCIjImzub2N7NY/suRSvd1PLD0zcb95BUUMW/9PmYsKJ1t8kyhFegT46wWfEyMcH6nxm6nGm7XsDZ/v6pHufRYL6Y4mPnt1oiYU0VFFg30Kmw4gnWxgWXbDwMwd+0+rnh+cUmerO2H2X8sz+3+G/Ye46ZXlzHpkzXc8noWf5+7sSTo5tuB3jEZWVV4E+gBVuXkVrkMpQJBA70KG2c1th5mWrXzKDe/uqzMtsKiYoqLDVe+8AOjp33vdv+jpwoA2H6wtJ/8iJ2WX1gEQGI1Ar23D0VdOmNRlctQKhB0UjMVUit3HuXtJb/w1BXduejsJmzcdxwovXnq0P7+0pWeDp7IL+lzd+a4IbvU/jYA1mRjGHDE6Oq06JOrMSpHqVDSQK9C5o0ftjPpk7UA3D+mC9PmbfZ63w5Ogd9hmtMKUA6ObwYXdm4EVK9FXzsxjo/vHEiHxqmc/dDcKh9HqWDTrhsVEsaYkiAfDF+v3w/4Fui/vmcoXZrWKZPWq1U9aieWto/OO6uhfyqoVABpoFch8eqi7WXeZ+8/HpRyE2K9735p36g2jeskAvDyhEy3ef404iy/1EupQPIq0IvISBHZKCLZIjLRzfZEEXnP3r5ERDLs9AwROS0iK+2fF/xbfVVTffhTTpn3Vzz/Q1DK9bWP3jH80tOIydMFReXSOjSqXfJ619HTLKrkYS6lAq3ST72IxAIzgFFAF+BaEeniku0W4Igxpj0wFXjKadsWY0xP++cOP9Vb1XDeDlX01u1D23qVLznetxuqjmp6Ghmflhxf8vovozpxSY9mZWayHP3sd1z37yU+lamUv3lzM7YfkG2M2QogIu8CY4F1TnnGAg/brz8Apou7J1FUVDPGMPmLDdRLSfDYQq6q7s3repXP95Ez1sfY0+yUHRuXzm9/65C2/On9VWw9eJKMibPL5CsqNn6/uCnlLW++xzYHdjq9z7HT3OYxxhQCuUC6va2NiKwQkYUiMqSa9VU12GuLt/Piwq1M/nwDnpoB3rS4/zq6U5n3Gx8bSd2UeA+5S919YYcqdN1Y/3pzYYqJEY/BXOerV6EU6Juxe4BWxphewD3A2yJSxzWTiNwmIlkikhUpK7Wr8j5fs7fk9WoPT48uvG8Y4/u3AmBMt6a8dGPpTdD7R3fmqz+ey8Xdm5XZRxAGtkvn4zsHeiz77d/05+4LO/pc59KwXTZQTx/fi9d/3a9cfk8tf52vXoWSN103uwDnhTZb2Gnu8uSISByQBhwy1vPn+QDGmOUisgXoCGQ572yMmQnMBMjMzNS/iAhxprCYM0XFJcMRHdMQVKRRahJPXNaNCQMyaJ2ewrE868nWBrUTuPVcqx8+137a1UHEumnaq1X5qYcd4mKr1qbx1KJ3vdg4eGq5a5xXoeTNp38Z0EFE2ohIAjAOmOWSZxYwwX59JTDfGGNEpKF9MxcRaQt0ALb6p+oq3E14ZWmZB4tyfJjC96wmqSTFxyKUH/WSlhLPtGt7lbx3NzXBdfa3gpLjNa7aWrGOY3sbp/PcjMKx9tdIr0Kn0ha9MaZQRO4C5gKxwCvGmLUi8giQZYyZBbwMvCki2cBhrIsBwLnAIyJSABQDdxhjDpcvRUWiH7Ye8ipfQmwMZ9xMaQClo3NqJ5X9qDoPYXTXK/7gxV1o06AWF3RuTJsGtbyrsBuOa4i3XS/bDp50m65d9CqUvJoCwRgzB5jjkjbJ6XUecJWb/T4EPqxmHVUNl73/ODsPn+bQyTNl0lvWT2bn4dOc1SSVn3e577OvXyuBB8Z05qKuTcqkOzfi3d3YFYHfDPFuyGVF3H2jqEhegfsLlvbRq1DSuW5UwF045Vu36S3qprDz8OlKhzy6C9ji1I53N5I31k+je6WScfSu/j0hkyVbD/Ggy/QOGudVKOkUCCpkbj3XWpqvcZ0kvx/b2ymFK1P6ZKx3kbpj41RuGJDBP10WLtHFSFQoaaBXITOsYyPuHdGRx8ae7fO+lcXxGD89nFTVo4ztWXZUjvbRq1DSQK8CYsehykfYxMQId53fgTQvHnbylvPMkv7g681Yh7jYmDLTMmiLXoWS9tGrgHhn2Q6f8q94cLhP+T21tD/9/eCSZQj9wVFOVeL01ZkteXGhNZpYW/QqlLRFrwJi/7F8n/LXq5VAvVoJXuf31HXTpkEtrs5s6X5jFcRUMntlRdo1rM1jl55t728wxrBmVy7//k4XEFfBpS16FRCu0xDXWD6OunHluFD0e2IeY7o3ZfbqPQB0b1GXfm3q+6GCSlVOW/SqRgpWg7h0HH3VCkxxGjrqCPLg+3TJSlWHBnoVEBd0akSq043R7i3SymyfcnUP1118EqyOD19mr3THeb56Zzolggom7bpR1fLJyl20a1ibxnWS+N+KXRgM6bUSOXWmiJb1U1i35xh1ksp/zC7v3SIEtfVdffu+ge/z2FvqJLv/EzvjxQRvSvmLBnpVLf/37koABrZLZ/GWsnPbnNU4lVUPjSAuRhg380e/lhusrpt7hnekWVoSY7o1rdL+nlr0Oj+9CiYN9Movck8XlEvbuO+4x0BXUyTFx3LToDZV3r9OkgZ6FXraR6+qrNgpWDnmjQ+WmtLHXcvDA1xFOrxSBZEGelVla3cfK3m98/DpCvP6OzDXlDipSwuqcKBdN8oneQVFTJu3mT9c0IFPVrouNFaWu3Vcnx3X0y/dOTUl0Md5CPQ6bbEKJg30yicvf7+N577ZQnxsDJ+s2l1h3uev61MurW2D2nRzGWoZyTy16AuLNNCr4NGumyiXvf8EJ/ILvc6fby+V9+y8zRw4XvE0B85BLlobsO7mygdt0avg0kAf5S6cspAbXl7idf7KupY7Ni5d4s/detx+mia+xtyM9cTDyolKBYQG+igx5+c9ZEyczdFTZ8ptW7HjKAA7D59i37G8Co/zSyULfF+d2ZI/XNABgBb1UkrS/d2AdRyvS9M6/j1wADhf3Do1sRYpX7/nGI99to78QveLiSvlT9pHHyXu/M9PAGzYe5xz2qbT/4mvGdKhYcn2omLDkKcXAPD1PUPZdvAkw7s0LnecTyvpl29eN5lbzm7Cbee29fvc8DVVWnI8R08VsHji+Zw6U8SFUxYyfUE2AAdP5DP1mp4eu3iU8gdt0UeZTfuOA7DvWD4fLC+dYfKpLzaUvL5wykJufSOLjImzWbMrly0HTnh9/JFnN0FEygX5p6/sznlnNaRj49RqnkFZNSE+dmxknXNKQiyJcWX/5P63cjcjprpfU1cpf9EmVwTLKyjiw59yuLh76bJ2kz5Zy40DMsrlnfntVrfHuPhf3wOQmhjHFX0qnp+mX5v6HlumZzdP49Wb+3lZ88gy88Y+LP/lCHVTEjh5pnxXzeb9Jzh9pqjK8+koVRkN9BHswf+t4f3lOdz/8Zoy6ZWNf3fneH4hry3eXnGmIN4fdfTR14QWfd2UBC7obHWDOUYtudJROCqQtOsmQv1j7kbeX+5+8Q/HRGT+FsyRMI6ypMrLd4dGq/opbtM37D0e5JqoaOJVoBeRkSKyUUSyRWSim+2JIvKevX2JiGS4bG8lIidE5F7/VNu91xZtY8HG/YEsosZw3OwLtE2PjSp5Hcyn+mtqAzjO3ZhT4Pp/ez/EVSlfVRroRSQWmAGMAroA14pIF5dstwBHjDHtganAUy7bpwCfV7+6FXv403Xc/OqyQBejnCTExZQsiReKdVBrQteNN3SYpQokb1r0/YBsY8xWY8wZ4F1grEuescDr9usPgAvEvisnIpcC24C1/qly5b5aty9YRYWd3FMFvPXjL0Etc+KoTkBwW/SRRn93KpC8CfTNgZ1O73PsNLd5jDGFQC6QLiK1gT8Df6t+VSuWvb90COCtb2QFuriwdcMrS3jgf2sqz1gNY7qXXYTD0agOZqxylBUhDXqlAirQN2MfBqYaYyociC0it4lIlohkHThwoEoFnTpTdr6W/yyxWrWb9x1n+8GTVTpmTbNw0wFW5+R6nf/RsV3LvL+oa/kHpFxd3rs5M8b3LpPmGFIZzK6bVHt5wnaNaleSUynlTaDfBbR0et/CTnObR0TigDTgENAfeFpEtgN3A38VkbtcCzDGzDTGZBpjMhs2bOi62SsxLp2193+8BmMMw6d+y7B/fFOlY9Yka3blMuGVpRXm2T55DF2blU4ZcMOADF69qW/J++T40nHcPVvWdXuMKVf3LJcWU80FtKuiXcPavHVLfx6/tFvwClWqhvIm0C8DOohIGxFJAMYBs1zyzAIm2K+vBOYbyxBjTIYxJgN4BnjCGDPdT3UvwzXQA5z14BeBKCosHXEzh407//lN/zLvh3YsvbA6P+x0RW/X3jn44u4hbo/pGOIY7InGBndoUKMfMrqwc9lvUKG4ma2iQ6UPTBljCu1W+FwgFnjFGLNWRB4Bsowxs4CXgTdFJBs4jHUxCCrXrhuAM4XRM0Wg8z0KZ1ufGM3bS3eUjIypm5JQZntMmamEDW0a1CIxLobr+rfms9V7+L8LOzCwXYMKy3ZcH4qj59ddLe/ceg4rdh7hpoEZdJk0tyT9RH4hqR7WmFWqOrx6MtYYMweY45I2yel1HnBVJcd4uAr181qkDLPzVVGxQYC/fbrO7faYGOH6c1qXS091moumfaPaJReKBfcOK0l/7/YBXtXB8bvX9qh3BrRLZ0C7dMAasTT5c2ueoYWbDnBx92YUFhUTGyM60Znym4h5MjZah6e1++sc2v51jtttD4zp7Db98/8bwnyngP6789oBVQ/UJV032vXgM+dQnnu6gKJiQ/v7P+ex2etDVicVeSIm0EejxdkHPW578YY+/HpQG7fbOjetQ8PUxJL31Z1GoHm9ZABuHpRRreNEI+cnZe//eA03vWrdUH/5+22hqpKKQBET6Hu3qucxsEFk9tePr+Cx+Yu6NinT/+4NXxrkKU43QdOS49k+eQzX9G3lU3kKxvdrxQ1OXWvfbfZ88VaqqiIm0MfGCJMucZ2ZoVTHBz5n8Rb9I3KnKl3B3953Hl/fc67/KxNlkhNiefTSs0NdDRXhIibQe2P8S0tYuKlqD2SFG3/OjdI0zep6cV7vtTINaifSvpF/FxFRSgVGVAV6gAmvLCXPw5zgNUnW9iMet7VOdz8Vrif92tTnozsH8tth7atbLaVUGIq6QA8wI0hT+PpTYVEx7y3bUdKSP+1mpSKw1nud9bvBPh+/d6t6xPrYp6+UqhmicoWp43nlH64Kdx8sz2HiRz/zzy83ERsjNHIaNeOw5m8X6YLcSqlyIrZFn5Ycz9WZ7tc4dazys3DTAW54eQnFNWAQ/prd1mRl+4/nsyc3j1X25GV/Gt6xJI8G+Zpr2f0X8uTlpfP2nN28TgW5lfJNxEaGVQ+NAOC/WeWX03NMl3DHm8s5XVBEfmFx2M+Z4mnoY89W1uRjGT72y6vw0jA1kb4Z9Urex8VYbbCT+YXExghJ8eH9+VThLWJb9BU5U1Q2ataEhZmTPfyhO54PSE6I2Gt21HAexeT4THZ9aC4jpn4bqiqpCBFx0eHVm/pWGri/23yA3q1Kp+EtDOOumwPH81m85aDHse6OETaD7LlTVGRYnZPL9PmbAdhx+FSIa6NquogL9Od1alTm/Zd/PJdl2w8ztGNDBj+1AIAVO45yk9PasoVF4fnU7Lrdxxg97TsAxnRrWm775b2a075RKl/+8VzaNqgV7OqpAHjy8m7M/HYr2w6e5B9fbgp1dVSEiPium46NU7muf2ta1EvhzmHt3OYpCtMWvSPIA8z+eQ/1a5VOMdy/TX2esG/edWycWmbOFFVzXduvFd1bpJVLn/RJYJeHVJEtqqLDfSM7uU0vCNNA7+rwydLFRd76TX+9QReh0muVHzr7xg/BXfBdRZaoCvSe7D56mqJiw+6jp0NdFa/Faws+YqXXTqg8k1I+iLg++qq46oUfaFEvmZwjp3n/jgH0zagf6ip5NLBdepl1X1XorZw03K839BvWLt+iV6o6NNDbco5YrfkNe46FLNAXFBVz8ER+ySRj7rx96zlBrJHyhuvyjNVVJ1n/LJV/6fd/F6Hsrr/nv6sY8OR8th44wbG8gnLb/3VtrxDUSgVbRVN0bNh7jP3H84JYGxUJtOng4qFZa5kwMCMkZX+6ajcA5/9zodvtl/RoFszqqBD5aYf7mUmnfrWJZ+dZY+u3Tx4TzCqpGk5b9EqFHfdPxzmCPMDPObn8a95mxs5YFKxKqRosalv0H9wxgK/W7ePFb7eGuipKldE0LanSPC9+u4XPVu8JQm1UJIi6Fv2iiecz9ZoeZGbUp3uLum7zjH/pR8CaKuGbjfuDUq9wfTpXBV9cbNkWvbt5jjTIK19EXaBvXjeZy3pZ0xcXFrsProu3HGLxloPc8PLSMlMl+FthUTGb9x0nY+Jszn16gds8l/VqDkAzL1p5KrLcMbQdP/7lAro1L/+krFK+8CrQi8hIEdkoItkiMtHN9kQRec/evkREMuz0fiKy0v5ZJSKX+bf61XNx92ZMutj9guLjX1oS8PKf/HwDw+2ZCXfnuh9J4Zg+uagGzLCp/MP5v7pJWhJLtx8OXWVURKg00ItILDADGAV0Aa4VEdfoeAtwxBjTHpgKPGWnrwEyjTE9gZHAiyISNvcFYmOEXw9uw08PDif78VFBL//HrYcqzZNgPwGrPTvRIy05HoC6KfFl0pvX9fx8hVIV8Sbo9gOyjTFbAUTkXWAssM4pz1jgYfv1B8B0ERFjjPP8qklAWDZLnScLC6YjTnPXeBJnr+Na5KGbSUWea/u1AuCavi0BmD6+F+9n5bAn1/0UHUXFRtf7VRXypuumObDT6X2OneY2jzGmEMgF0gFEpL+IrAV+Bu6wt9cory/eztrduX5fctBTd42zdPtx+HCeM1/5V2yMcP05rUvmM7q4ezNe/3U/EuPcT2K39cAJjp6qvNGgolfAb8YaY5YYY7oCfYG/iEi5u4oicpuIZIlI1oEDBwJdJZ89NGstY6Z9z3PfZAe13FsGt+HmQRkAXNrT9dqqos3jl53tNn341G8ZM+37INdG1STeBPpdQEun9y3sNLd57D74NKBMB7QxZj1wAij3aTXGzDTGZBpjMhs2bOh97f3shev7VLh93Z5jQaoJ1EmK48GLu5AUH8vqh0fw8K+6Bq1sFZ48DQcG2HX0NNn7TwSxNqom8SbQLwM6iEgbEUkAxgGzXPLMAibYr68E5htjjL1PHICItAY6Adv9UvMAyGhQ8QLbc37ey4IgjatPcVoDtk5SvPbBqkpdVoWnZFfuPOr3LkkVfioN9Haf+l3AXGA98F9jzFoReUREfmVnexlIF5Fs4B7AMQRzMLBKRFYCHwN3GmMO+vsk/MV1pamEuPK/nneX7ghKXdyVrdTlvTx34R3P9+32V9b2w1w6YxFt/zqHVxdtq27VVBjzaqijMWYOMMclbZLT6zzgKjf7vQm8Wc06Bk3jOmVvH4zs2oRZ9kRjDg2c5go3xiCeVu12Y8aCbP4+dyOD2zfg++zS6905bevz4vWZjJ72Hbtq0OInKvj+flUPPlrh2nPqu9xTBcx0mv7jb5+uY9n2w0y5uqeuXBaBxITZgziZmZkmKysrZOVPm7eZKV9ZizK3bVCLrQdPVrrPC9f3YeTZTSrNlzFxttt0x0yEBUXF7M3NY8jTCxjSoQFv3tLfh5qraLE4+yAJcTFc+cIP5bZ5M6vlkq2HuGbmjx63r3vkojJdh+6czC9k28GTnK1P7YYNEVlujMl0t037B1z8/vz2rHvkIjY8OpIzXj6l9OaP20te/7TjCF+v20efR79i877jvLZoW8mFozLxsTG0rJ/CSzdmMn1876pUX0WBge0b0Kp+xfeTHFbtPMoJu0tn/7E8svefqDDIA7yzdGeF2/cfz+OcJ+Zx8b++59SZGjdaOiqFzVOq4UJESlozBV4G+kXZhzDGMODJ+ew9Vjo23jG9AcCvejT1ug7DuzT2Oq+KTjEebs4v3HSAp7/YwI0DWtO/TXrJNMbbJ4+h3xPzvDr247PXcXmv5uzJzaOLy7KVxcWGfo+XHmfs9EV8dc9Qn+q+/3ge/R6fxwNjOjOofQMa10kK2UOL0UIDfQV8GYzw+Oz1ZYK8qwunfOtxm1K+ivVwb2jCK0sB+POHP5dJb//XOe6yu1VsoNejXwHlu4I2uwzh3Lz/BKtzjpJeO5E6SXFsPXCSHi09DwMFawEVgMdmry9J2/bkaJ/udynfaKCvwKs39eXif3n3IMq/v/dt1MLav13Eza8t0wehVJU4WvQiZSdB86SqT1YXF5sy3x5SEsrfqP3V9LLDOjc+NtLjU7wFRcVuu4Y+WJ7DVZkt3eyh/EH76CtwdvM0tjwxmr+M6sT08f5dr7VWYhz/vX0A4/u38utxVXRwPFfhmPQuUNq6fBMo9uKq8pePfva47d73V7lNzzmio80CSQN9JWJjhNuHtuPi7s14ZGzVnk7V/kflb45Gdo8WdXm0ip9Lb2XvPw5Y/f9D//5Npfk/+mkX59j3A84UFvPnD1azad9xfthyiE9W7na7T7O6ut5CIGnXjQ+u79+aSZ+s9WmfCzs34u9X9qDXo18xpEMDvtscts+LqRokJSGOt2/tT9dmaazdlRvQsqpyf2nvsTxyTxfQ4zAThCwAABgFSURBVG9fAvBeVsUjeeqlWI2hPbmnOXzyDF2b6bBNf9IWvQ9iYoSHLnG/UImz2Bihlt2X+e8JfalXK4FtT47micu6BbqKKooMbNeAtOR4tzcxX7u5bwhqVJYjyHvD8VT6gCfn6wRtAaCB3kc3D2pDPZcFIVzFijDvT8P49K7BJWkiUnJTq3GdRE+7KuUz1zg/7dpeDOlQvckB6yQF98u+TsMdWBroq6Cij+Rvh7XjozsH0iQtiW4tyn79dDyFrI+YK3+KcYn0hUXFlU6Ct3ji+SWvH7u07ISyX99zLud1auS/CnrBdZ4p5V/aR+9nfx7ZyeO2pmnJXNe/FbcMbhPEGqlI59qidyxWs33yGHYfPc3AyfO5fWhbXly4tSTd2eW9m7Np33Eu792CWBHaN0olyWl4ZGpSHMfzyj4BO7JrE75Yu9dtfW4f2pY5P+9h52HvR9I8NGstmRn1vM6vfKOBvpoc8+E8dunZJFfSUo+NER7XfnrlZ44bmeP6tmRM96Zlum2a1U0uCewn8wt568fys68mxcXyyNiyrfo/j+pUcgP1pweHU1Rs6PTgFwC88et+DOnQABHhD++sYNaq3Uy9pgdpyfHsOnKaGwZk8H8XdKDLpLkALPx/w1i7+xh3/ucnAO46rz3TF5RdxCf3dAGDn1pQ8n7hpgMM7Ri6tSkijQb6avrX+F7kFRTTp7W2RlRotG9Um//ePoDuLdIq7BZ87NJuPHZpaUPjzmHteO6bLW6nU3AeEhwfG0OMlHatnOsUgONirX1jRDi/U+nUHSkJcWW+ObROr1Xy9GthUTED26eTkhDHB8t3ur343PZGFhsfG1XZqSsvaaCvgt8Na8/jc6zHt2slxNG1Wa0Q10hFu35t6vu8z30jO3FfBV2NzhzXgrsv7FAm/f7RnamVEMeosyufy8kxOiguNoaB7RoA0LxusttAP6Jr5bPBKu9poK+CW89ty+pduXy6ajcpiXpjVUU+EXE7BXJ67UQevdT9WrbeSPUwuqd9w9pVPqYqT0fdVNHTV3Tnf78bRKNUfaJPqapKio9lhJvZWovCbJ2Mmk4DfRUlJ8TSs5JZ+pSqyR4Y05lPfjco4OVMvaZnubSComLyCooCXna00ECvlHLrN0PaVjrlsD/USoxj8uXd6Ny0Ds9f1xsReP6bLXR68AuufH5xwMuPBtpHr5QKuXH9WjGunzWTq3OvTdYvR1i3+1i5BVAiTWFRMWeKiitdwrGqtEWvlApro6d9x5GTZ0JdjYD6439X0WXSXB79bF1Ajq+BXikV9hzr3kaaU2cKyS8s4tNV1vTNh07kB6Qc7bpRSoW90wVFfL1uH83rJdO5aeR043SZNJfEuNL2dmxMYNreGuiVUmFvxNTSOfEjbX3Z/MLikteBOi2vLh8iMlJENopItohMdLM9UUTes7cvEZEMO324iCwXkZ/tf8933VcppZytemhEhau55Z4uCGJtIkOlgV5EYoEZwCigC3CtiLiuvnELcMQY0x6YCjxlpx8ELjHGdAMmAG/6q+JKqciUlhzPJd2bedze85Gvglib4ArURcybFn0/INsYs9UYcwZ4Fxjrkmcs8Lr9+gPgAhERY8wKY4xjkci1QLKI6KobSqkK1auVwPbJY3j/jgGhrkpQ7c3NC8hxvQn0zQHnBR9z7DS3eYwxhUAukO6S5wrgJ2NMYG4rK6UiTqv6KaGuQlDtPRaYQB+Um7Ei0hWrO2eEh+23AbcBtGrVKhhVUkrVAI1So6cDIDZGePDiytekrgpvAv0uoKXT+xZ2mrs8OSISB6QBhwBEpAXwMXCjMWaLuwKMMTOBmQCZmZk6m5FSCqDM6JqW9ZOplRAXkevL3n5uW/4yunPAju9N180yoIOItBGRBGAcMMslzyysm60AVwLzjTFGROoCs4GJxphF/qq0Uir6jO3RnKZpSWTvP8HOw6f4/Oc9LNt+ONTV8otADxettEVvjCkUkbuAuUAs8IoxZq2IPAJkGWNmAS8Db4pINnAY62IAcBfQHpgkIpPstBHGmP3+PhGlVGS7Z3jHkuUMhzxduuzg5/83hDYNalW4ulY42Xn4FAdO5PPl2n0laZWs5V5tXvXRG2PmAHNc0iY5vc4DrnKz32PAY9Wso1IqyqUmxhETI5wpKi63bdSz39G9RRqrc3K5oncL/nFV97B9oOqXQycZ+vdvyqXHBLi+OteNUiqsrZw0nMV/sZ61vG/kWW7zrM7JBeDDn3JYv+d40Ormq33H3A86DHSLXgO9Uiqs1U1JIDUpHoBbh7StNP/pMF6wJNZDRO/ZKrDz/mugV0rVGPGxMYzr27LCPAVuunfCxe6jp92mn9+p/HKK/qSBXilVo0y+ojtv/6a/x+2nzoTvlMa/f2dFuTRPrXx/0kCvlKpxBrZvwNYnRrud/OzXr2WF5cRnxR7G/6cEYbSQBnqlVI0UEyPcOCCDLm7mp99+8GQIalSxJdvcj/lv37h2wMvWQK+UqtFm3TWoXFpKQviNqa+bEu82fcrVPQNetgZ6pVSNFhcbw7pHLmLdIxeVpBUWG1bnHCVj4mx+8/qyENaulKe++GBM3KaBXilV46UkxJGSEMez46zW8Werd/Or6dasK1+v38/pM6EfcmnsLvqRXZuUSdebsUop5YM69nj7GQvKzp/40ndbQ1GdMgxWpG9cJ/gzcmqgV0pFjLhY963j/MLQt+j/t8Jag6l2UvCX6tZAr5SKGHEx7kNaOMxs/MJC61uGEPx5eIJ/aVFKqQCJ99CiLzahifS7j55m4OT5vP7rfiVpyQmxvHJTJp2b1qFeSkJQ6qGBXikVMU56uOnauUn5sfbBsPyXIwDM/Lb0nkFRsQn4lAeutOtGKRUx+rSux/AujfnuvvNYNal05VLHjdBg+8+SXwBYlH2otC4hqIoGeqVUxKidGMdLN2bSsn4KaSnxDO9itZyLQzTP2Y9bw2MFLA30SqmINclebPupLzYA8Ohn68iYODto5Tevm1wuLRTfLjTQK6UilmPhpv3HrQU/Xv5+W1DLb5KWVC5Nu26UUipAXly4pfJMfpYYVz7EhuJugQZ6pVTEcm49P/n5hoCXd/BEPit3Hi15X+hmAL8JQZNeA71SKuoEKthe/txiLp2xqOR9YVExg9s3CEhZvtBAr5SKWJ4elCoK0KOyOw6fAuDwyTPc895KDp44U27SslD00esDU0qpiOUpqBYZE9Dg1/vRr0ped3RZWERH3SilVAC0aVCLZ64pXeAjmOPqj5wq4KM7B3LeWQ0BOL9To+AVbtMWvVIqYrVOT+GWwW0Y378V7RrWZv/xPJ6Ys4Eiu6n/1BcbGNA2nXM7NgxYHZb/coTererx6s39Ks8cIF616EVkpIhsFJFsEZnoZnuiiLxnb18iIhl2erqILBCREyIy3b9VV0qpiokID17chXYNre6TGHtgvaOP/vlvtnDjK0v9UpbjBu+QDqG/+eqq0kAvIrHADGAU0AW4VkS6uGS7BThijGkPTAWestPzgAeBe/1WY6WUqiLHjdHiANyMddwPyGxdn/duO4d/XtUDgFdv6uv3snzlTddNPyDbGLMVQETeBcYC65zyjAUetl9/AEwXETHGnAS+F5H2/quyUkpVjSPQf7VuH2t35/r12I4RPjEC/dum0x+4ok8Lv5ZRVd4E+ubATqf3OUB/T3mMMYUikgukAwe9qYSI3AbcBtCqVStvdlFKKZ85um7u+3C1z/sWFRsKi4tJjIt1u93xJSEmCGvA+iosRt0YY2YaYzKNMZkNGwbupohSKrrFeQjC3jxAddsbWZz1wBcetzta9BJ+cd6rQL8LaOn0voWd5jaPiMQBacAhlFIqjHhqbf+wtfJwNW/D/jLvi4sNJ/MLS947rhUxYRjpvQn0y4AOItJGRBKAccAslzyzgAn26yuB+SYUEzoopVQF+rep7zb9TKH3A+tP5BdyLK+Ap77YQNeH5pJXYK1q5dxHH24q7aO3+9zvAuYCscArxpi1IvIIkGWMmQW8DLwpItnAYayLAQAish2oAySIyKXACGPMOtdylFIq0Fqn13Kbnhxv9buv2ZVLQVExvVrV83iMsx+aW+b93tw8Vuw8wg9brG8F4dii9+qBKWPMHGCOS9okp9d5wFUe9s2oRv2UUiog/nFVD+59fxUA17+8hCcv717y/ueHR5AcH8vctfu4+70VXFnB6Jlh//gmGNWtFn0yVikVVdo0qMW2gyfp1aouz13Xmzv/8xMFRaYkyAN0e/jLMvu8s3Sn62E8cp3ELByExagbpZQKFkc/fZ2kePYfy/P78bu3SPP7MatLwu2eaWZmpsnKygp1NZRSESq/sIgdh07RoXEqeQVFdHrQGjIZFyPcP6Yz328+yIqdR8lsXY/aSXGM69uK/MIiJn74M0XFhr32xWH+n4bStmFtXvl+G4M7NKBj49RQnhYistwYk+l2mwZ6pVQ0+3bTAW58ZSlPX9mdqzNbVph319HTDJo8n09+N4geLesGqYbe0UCvlFIVWL/nGJ2apCJhOGLGWxUFer0Zq5SKep2b1gl1FQJKb8YqpVSE00CvlFIRTgO9UkpFOA30SikV4TTQK6VUhNNAr5RSES7sxtGLyAHglyru3gAvV7UKkFCWr+ceOtF67vp7Dx135bc2xrhduSnsAn11iEiWpwcGIr18PXc992gqO9Tl17Rz164bpZSKcBrolVIqwkVaoJ8ZxeXruUdn+dFadqjLr1HnHlF99EoppcqLtBa9UkopFxrolVIqwmmgVyrMSU2eJF2FhRoX6EP9oReR2BCWnWb/G/T/NxFpYv8bkt+/iHQVkaQQlT1IRNqFomxbcqgKdnzeQ/j/HuryQxIj/X2+NSbQi0g/EXkJ+LOIuH36K8DlZ4rIm8CkYP7Ri0iMiNQRkc+AaQDGmOIglt9LROYBj9plB/XuvYh0F5HvgceA9CCX3VtEvgTmA0Ff8VlEzhGRD4EZIjIimI0MERlg/739UURSQ/D/PkhEXgceEJH6wSzfjjV/gOD+rTmV7fc4F/aBXkRiReRJrOFEi4DewEMi0jhI5ceIyHTgRWAe0BR4WERSglG+/UE7DsQDzUXkGke9AlmuWKYCbwCvG2NuDWR5FXgA+MAYc5kxZpejboEsUETiReRFrM/cNGAuMMzeFpS/GREZBjwHfARsBK4H6gWp7KHAdKwLXDPgryJyUTDKtstvi3XuC4DWwKMiMiZIZd8NfIx1gRllpwX8AhvoOBf2gR6rjjuAq40xrwF3A+cQpK+zdqCdD1xgl/80YIDCYJRv64Q1r8UzwHV2C6s4kAHPbkHVBlYYY94AEJF2QQx0MfYf/AljzDN22nARqQsE+ut8IrAQGGKM+Qz4EOgsInFBbOF1A5YZY/4DvIl1oT8RpLJ7A4uMMe9gfZNrDIxzdN8FQV9gvf339idgJXCxiFS8crd/bAUuBn4L/AXAGFMUpK6jHAIU58Iy0NtfWTvab4uBd4wxm0Qk0RizG+sX0iBI5WOM+cgYc1REhgNZWK36J0SkcyDLdvpwZQNngG32zwQRaeXvr7Ou5431R9ZfRB4UkUXA34HXRKSPP8t1V74dUA8CQ0RkjIj8D7gXq4X9/+w8fjt/l3M/aYx52xhz2n4fBxQZYwoDdaFz87v/DrhKRCYBP2F95p4TkauCUPYmoK6INDXGHMG6wCQAl/q7bLv8S0TkLhE5x05aBrQUkZZ2+YuAo8DlQSh7NrDa/veEowsHu3ERoLL7GmOKCGCcC6tALyJ1RWQ28BVwtYjUNsYUGWOOAhhj8kUkFWgD7A5C+bXsdEfAPQKMN8YMB05iBVy/fLVyV7ZTIMsEjhlj1gJrgYeA5+0uhmr/H3o6b2PMMWAGcCVW6+ZaYA9whT/7Dysp/1WsVuUrxpiLgH8D5zj9Yfq9bGOMsbuuHL/bhcBlIlLP3y16d595AGPMSmAkkAHcaYwZhhXwRvqrgeGpbKxAfwx4Xax7BC2BFVjf8Pz2TUpEmorIp8B9WN1Sr4rIRcaYrcAPwNV21o3AOqC++OmGfAVlFwHFxpg84J/ALSLSwBjjt2/wbsp+Q0RGGGMOQ2DiXFgFeqAWVn/o7+3XQ9zk6Q+sNcbsFpHaItIhgOWfC6UtR2NMljFmjp33c6AXcCqQZdt2AKki8h7Wh2M5sMkYU+CnwOOxbGPMNGCYMeZbY0w+8D+sC4+/zrvC8oHPsIKdo386C9gH5AeybGMptoP9djvPUD+VWVH5JZ95Y8xSoKFdPlhdiKlYjYxAlO04983APcCTwPvGmMuwGhjD7O3++iaVCXxnjBlijHkUeBZw3Av6DugmIv3s4LsLGGQH4ECU/QxwB5Q5v2+AH7F+P4hIvwCW/VuXPH6NcyEP9CJyo4gMFZE69s22mcB/gTysboNmdr44e5e6wE4RuRnrK17PYJTvRh+s1m2Vr/Q+lF0P6w9+L9bF5bfAWdVp2fly3vbXZ4c+WF8pi6patpflN7fLXo3VVXOXiDTAuil5NnAogGU7PnNiX0gT7V3zHOlVLdvH8hOBxcDv7F0vwBp5VOVgV0nZ/RxlG2POGGMWGGPetXftA3xR1XJdyh9mn9s8rPsPDoeAzfbrJVjfIqba3zS6AjukGoMgKin7MLDezhcDVt881mivP4tILtC7qv/3PpQdb6f5Nc5hjAn6DyBYfY4L7JOeCfwHaOCUZxDWFf56l33fxOq3fxXoHszygTrAcPsX/ynQMcBl3+CU5ry9NlA/iOediNWay6rqeVfn3O30e7BGgswFugTx3GPtf98CHg7SZ975/70rViD+1t6vc5D/3gZjfYOcC2QE4tyBePvfPwAvuOw7xT7/JcBZAS77eZf92mN9s5gHdAtW2XZateNcmeNV9wBVOHnHH05H4C1HGvAv4COXvH/EuqLWAWrbaeOAK4NcfhqQZKddCIwNctm1nPLGBLnsZDttIHBpCH7vqU7p8UEuO8UpPSHI517X6XefDLQN0WeuGTA6kOfulOdT4EL7dSP73zjnz0CQyq7vqANwXpDLdlwErqUaca5cffx1IG9OHHgCeAqrr/MSrPHZju0xWF0TQ53SamP1Xy3D6pdtGuLym4Wg7KUhLLta513Dz71aZfvxd988hOfeIljnjjWq5xWgFfA4sAqoF8Kyff7G7Mey06r6e/dYL38f0MPJD8UaC/s81s2Wb7FGFOwA+jnluwNY4PT+GqxhhS9hX+FrWvnRWnaoy9dzrzHn/o39ug5WV8VmrCG0DbVs//34/YAefgFDKNvv+BzWDcWbgOV2WgzQBKs/LsNOGwucW5PLj9ayQ12+nnuNOvcWQD+sp7B7atn+/wnYgV1+ASlYN/QcfVLXAU/ar1cCv7dfZ2I9NBAx5Udr2aEuX8+9xpz7u1p24H+CMrzSGHPKGJNvrOFKYI1cOWC/vhnr8fLPgHewngL06+PtoSw/WssOdfl67jXm3Jf7s/xoLdubygXtB3vUCNbDRu3ttPZYIwwGU8UbTzWh/GgtO9Tl67nruUdT2Z5+gv3AVDHW5EwHge721e1BrEeOvzf27IQRWn60lh3q8vXc9dyjqWz3gn1lwZqRrRj4HrglmsqP1rJDXb6eu557NJXt7kfsSgWNiLQAbgCmGGvulKgpP1rLDnX5eu567tFUttv6BDvQK6WUCq6QT2qmlFIqsDTQK6VUhNNAr5RSEU4DvVJKRTgN9CrqiUiRiKwUkbUiskpE/iSVLNEoIhkiMj5YdVSqOjTQKwWnjTE9jTFdsR5bH4W1Lm9FMgAN9KpG0OGVKuqJyAljTG2n922x5oNvALTGWu2nlr35LmPMYhH5EegMbANex5pidjLWSlyJwAxjzItBOwmlKqCBXkU910Bvpx0FzgKOYz26nmcv0PyOMSZTRIYB9xpjLrbz34Y1h/tj9rqgi4CrjDHbgnoySrkRV3kWpaJaPDBdRHpiLYje0UO+EVjzmlxpv08DOmC1+JUKKQ30Srmwu26KgP1YffX7gB5Y97TyPO2GNd/43KBUUikf6M1YpZyISEPgBWC6sfo104A9xphirLlLYu2sx4FUp13nAr8VkXj7OB1FpBZKhQFt0SsFySKyEqubphDr5usUe9tzwIciciPwBXDSTl8NFInIKuA14FmskTg/2YtJHAAuDdYJKFURvRmrlFIRTrtulFIqwmmgV0qpCKeBXimlIpwGeqWUinAa6JVSKsJpoFdKqQingV4ppSKcBnqllIpw/x/IuP8dpBYB9AAAAABJRU5ErkJggg==\n",
            "text/plain": [
              "<Figure size 432x288 with 1 Axes>"
            ]
          },
          "metadata": {
            "needs_background": "light"
          }
        }
      ]
    },
    {
      "cell_type": "markdown",
      "metadata": {
        "id": "99erBUbEhufV"
      },
      "source": [
        "Verificando se o índice dos dataframes está no formato 'data'"
      ]
    },
    {
      "cell_type": "code",
      "metadata": {
        "id": "SnlZDqSO0ygr"
      },
      "source": [
        "cdi.index = pd.to_datetime(cdi.index)"
      ],
      "execution_count": null,
      "outputs": []
    },
    {
      "cell_type": "code",
      "metadata": {
        "id": "vO8ppnFwXA2C"
      },
      "source": [
        "PL_filter.index = pd.to_datetime(PL_filter.index)"
      ],
      "execution_count": null,
      "outputs": []
    },
    {
      "cell_type": "code",
      "metadata": {
        "colab": {
          "base_uri": "https://localhost:8080/",
          "height": 234
        },
        "id": "2qudRuPSDGzq",
        "outputId": "a0b4790b-a090-4645-e094-6942a4b0b9db"
      },
      "source": [
        "PL_filter.head()"
      ],
      "execution_count": null,
      "outputs": [
        {
          "output_type": "execute_result",
          "data": {
            "text/html": [
              "<div>\n",
              "<style scoped>\n",
              "    .dataframe tbody tr th:only-of-type {\n",
              "        vertical-align: middle;\n",
              "    }\n",
              "\n",
              "    .dataframe tbody tr th {\n",
              "        vertical-align: top;\n",
              "    }\n",
              "\n",
              "    .dataframe thead th {\n",
              "        text-align: right;\n",
              "    }\n",
              "</style>\n",
              "<table border=\"1\" class=\"dataframe\">\n",
              "  <thead>\n",
              "    <tr style=\"text-align: right;\">\n",
              "      <th></th>\n",
              "      <th>ITUB4.SA</th>\n",
              "      <th>PETR4.SA</th>\n",
              "      <th>VALE3.SA</th>\n",
              "      <th>BBAS3.SA</th>\n",
              "      <th>ABEV3.SA</th>\n",
              "      <th>CIEL3.SA</th>\n",
              "      <th>EZTC3.SA</th>\n",
              "      <th>ECOR3.SA</th>\n",
              "      <th>WEGE3.SA</th>\n",
              "      <th>RADL3.SA</th>\n",
              "      <th>OIBR3.SA</th>\n",
              "      <th>PL Total</th>\n",
              "    </tr>\n",
              "    <tr>\n",
              "      <th>Date</th>\n",
              "      <th></th>\n",
              "      <th></th>\n",
              "      <th></th>\n",
              "      <th></th>\n",
              "      <th></th>\n",
              "      <th></th>\n",
              "      <th></th>\n",
              "      <th></th>\n",
              "      <th></th>\n",
              "      <th></th>\n",
              "      <th></th>\n",
              "      <th></th>\n",
              "    </tr>\n",
              "  </thead>\n",
              "  <tbody>\n",
              "    <tr>\n",
              "      <th>2012-01-02</th>\n",
              "      <td>6000.000000</td>\n",
              "      <td>4000.000000</td>\n",
              "      <td>3000.000000</td>\n",
              "      <td>2000.000000</td>\n",
              "      <td>2000.000000</td>\n",
              "      <td>1000.000000</td>\n",
              "      <td>800.000000</td>\n",
              "      <td>600.000000</td>\n",
              "      <td>400.000000</td>\n",
              "      <td>100.000000</td>\n",
              "      <td>100.000000</td>\n",
              "      <td>20000.000000</td>\n",
              "    </tr>\n",
              "    <tr>\n",
              "      <th>2012-01-03</th>\n",
              "      <td>6149.863133</td>\n",
              "      <td>4159.107643</td>\n",
              "      <td>3133.496347</td>\n",
              "      <td>1990.942072</td>\n",
              "      <td>1977.206217</td>\n",
              "      <td>1003.723041</td>\n",
              "      <td>824.844691</td>\n",
              "      <td>599.552970</td>\n",
              "      <td>409.431655</td>\n",
              "      <td>101.515154</td>\n",
              "      <td>102.416686</td>\n",
              "      <td>20452.099608</td>\n",
              "    </tr>\n",
              "    <tr>\n",
              "      <th>2012-01-04</th>\n",
              "      <td>6156.917429</td>\n",
              "      <td>4188.803074</td>\n",
              "      <td>3154.767090</td>\n",
              "      <td>1981.061341</td>\n",
              "      <td>1931.250587</td>\n",
              "      <td>1007.238847</td>\n",
              "      <td>831.304054</td>\n",
              "      <td>590.611147</td>\n",
              "      <td>411.575448</td>\n",
              "      <td>101.515154</td>\n",
              "      <td>102.166672</td>\n",
              "      <td>20457.210843</td>\n",
              "    </tr>\n",
              "    <tr>\n",
              "      <th>2012-01-05</th>\n",
              "      <td>6111.074153</td>\n",
              "      <td>4140.547767</td>\n",
              "      <td>3070.415746</td>\n",
              "      <td>1960.476498</td>\n",
              "      <td>1893.015001</td>\n",
              "      <td>992.761224</td>\n",
              "      <td>797.515526</td>\n",
              "      <td>581.669133</td>\n",
              "      <td>414.147714</td>\n",
              "      <td>100.757612</td>\n",
              "      <td>100.333340</td>\n",
              "      <td>20162.713713</td>\n",
              "    </tr>\n",
              "    <tr>\n",
              "      <th>2012-01-06</th>\n",
              "      <td>6156.917429</td>\n",
              "      <td>4144.260849</td>\n",
              "      <td>3044.009222</td>\n",
              "      <td>1911.073714</td>\n",
              "      <td>1888.235797</td>\n",
              "      <td>986.556701</td>\n",
              "      <td>801.490465</td>\n",
              "      <td>571.385899</td>\n",
              "      <td>409.431655</td>\n",
              "      <td>100.378781</td>\n",
              "      <td>101.583341</td>\n",
              "      <td>20115.323854</td>\n",
              "    </tr>\n",
              "  </tbody>\n",
              "</table>\n",
              "</div>"
            ],
            "text/plain": [
              "               ITUB4.SA     PETR4.SA  ...    OIBR3.SA      PL Total\n",
              "Date                                  ...                          \n",
              "2012-01-02  6000.000000  4000.000000  ...  100.000000  20000.000000\n",
              "2012-01-03  6149.863133  4159.107643  ...  102.416686  20452.099608\n",
              "2012-01-04  6156.917429  4188.803074  ...  102.166672  20457.210843\n",
              "2012-01-05  6111.074153  4140.547767  ...  100.333340  20162.713713\n",
              "2012-01-06  6156.917429  4144.260849  ...  101.583341  20115.323854\n",
              "\n",
              "[5 rows x 12 columns]"
            ]
          },
          "metadata": {},
          "execution_count": 830
        }
      ]
    },
    {
      "cell_type": "markdown",
      "metadata": {
        "id": "3Oe0wBgfhRXp"
      },
      "source": [
        "## 5. Consolidação de benchmarks"
      ]
    },
    {
      "cell_type": "markdown",
      "metadata": {
        "id": "Cp5wuAuAg_7F"
      },
      "source": [
        "Voltando agora para a biblioteca yfinance, vou baixar também os dados de IBOV e dólar, para usar como benchmark:"
      ]
    },
    {
      "cell_type": "code",
      "metadata": {
        "colab": {
          "base_uri": "https://localhost:8080/"
        },
        "id": "696Z12RPVFYL",
        "outputId": "41810afd-acad-4d7e-8a2e-ba323fc68c2f"
      },
      "source": [
        "benckhmarks = ['^BVSP', 'USDBRL=X']\n",
        "\n",
        "benchs = pd.DataFrame()\n",
        "\n",
        "for i in benckhmarks:\n",
        "  benchs[i] = yf.download(i, start = inicio, end = fim)['Adj Close']\n",
        "\n",
        "benchs = pd.merge(benchs, cdi, how = 'inner', on = 'Date')"
      ],
      "execution_count": null,
      "outputs": [
        {
          "output_type": "stream",
          "name": "stdout",
          "text": [
            "[*********************100%***********************]  1 of 1 completed\n",
            "[*********************100%***********************]  1 of 1 completed\n"
          ]
        }
      ]
    },
    {
      "cell_type": "code",
      "metadata": {
        "colab": {
          "base_uri": "https://localhost:8080/",
          "height": 234
        },
        "id": "VFBYw0qQVZk6",
        "outputId": "4ab534b7-f081-4175-8d5d-dbca749cb00c"
      },
      "source": [
        "benchs.head()"
      ],
      "execution_count": null,
      "outputs": [
        {
          "output_type": "execute_result",
          "data": {
            "text/html": [
              "<div>\n",
              "<style scoped>\n",
              "    .dataframe tbody tr th:only-of-type {\n",
              "        vertical-align: middle;\n",
              "    }\n",
              "\n",
              "    .dataframe tbody tr th {\n",
              "        vertical-align: top;\n",
              "    }\n",
              "\n",
              "    .dataframe thead th {\n",
              "        text-align: right;\n",
              "    }\n",
              "</style>\n",
              "<table border=\"1\" class=\"dataframe\">\n",
              "  <thead>\n",
              "    <tr style=\"text-align: right;\">\n",
              "      <th></th>\n",
              "      <th>^BVSP</th>\n",
              "      <th>USDBRL=X</th>\n",
              "      <th>CDI</th>\n",
              "    </tr>\n",
              "    <tr>\n",
              "      <th>Date</th>\n",
              "      <th></th>\n",
              "      <th></th>\n",
              "      <th></th>\n",
              "    </tr>\n",
              "  </thead>\n",
              "  <tbody>\n",
              "    <tr>\n",
              "      <th>2012-01-03</th>\n",
              "      <td>59265.0</td>\n",
              "      <td>1.8701</td>\n",
              "      <td>0.0378</td>\n",
              "    </tr>\n",
              "    <tr>\n",
              "      <th>2012-01-04</th>\n",
              "      <td>59365.0</td>\n",
              "      <td>1.8345</td>\n",
              "      <td>0.0390</td>\n",
              "    </tr>\n",
              "    <tr>\n",
              "      <th>2012-01-05</th>\n",
              "      <td>58546.0</td>\n",
              "      <td>1.8184</td>\n",
              "      <td>0.0384</td>\n",
              "    </tr>\n",
              "    <tr>\n",
              "      <th>2012-01-06</th>\n",
              "      <td>58600.0</td>\n",
              "      <td>1.8430</td>\n",
              "      <td>0.0408</td>\n",
              "    </tr>\n",
              "    <tr>\n",
              "      <th>2012-01-09</th>\n",
              "      <td>59083.0</td>\n",
              "      <td>1.8476</td>\n",
              "      <td>0.0401</td>\n",
              "    </tr>\n",
              "  </tbody>\n",
              "</table>\n",
              "</div>"
            ],
            "text/plain": [
              "              ^BVSP  USDBRL=X     CDI\n",
              "Date                                 \n",
              "2012-01-03  59265.0    1.8701  0.0378\n",
              "2012-01-04  59365.0    1.8345  0.0390\n",
              "2012-01-05  58546.0    1.8184  0.0384\n",
              "2012-01-06  58600.0    1.8430  0.0408\n",
              "2012-01-09  59083.0    1.8476  0.0401"
            ]
          },
          "metadata": {},
          "execution_count": 852
        }
      ]
    },
    {
      "cell_type": "markdown",
      "metadata": {
        "id": "XIywli3khsft"
      },
      "source": [
        "Juntando tudo num dataframe só"
      ]
    },
    {
      "cell_type": "code",
      "metadata": {
        "id": "7hUOrcb0WTgL"
      },
      "source": [
        "novo_df = pd.merge(benchs, PL_filter, how = 'inner', on = 'Date')"
      ],
      "execution_count": null,
      "outputs": []
    },
    {
      "cell_type": "code",
      "metadata": {
        "colab": {
          "base_uri": "https://localhost:8080/",
          "height": 234
        },
        "id": "6GLwKN1BW0eC",
        "outputId": "dfa9a80b-ba22-49d6-e992-02c17de27648"
      },
      "source": [
        "novo_df.head()"
      ],
      "execution_count": null,
      "outputs": [
        {
          "output_type": "execute_result",
          "data": {
            "text/html": [
              "<div>\n",
              "<style scoped>\n",
              "    .dataframe tbody tr th:only-of-type {\n",
              "        vertical-align: middle;\n",
              "    }\n",
              "\n",
              "    .dataframe tbody tr th {\n",
              "        vertical-align: top;\n",
              "    }\n",
              "\n",
              "    .dataframe thead th {\n",
              "        text-align: right;\n",
              "    }\n",
              "</style>\n",
              "<table border=\"1\" class=\"dataframe\">\n",
              "  <thead>\n",
              "    <tr style=\"text-align: right;\">\n",
              "      <th></th>\n",
              "      <th>^BVSP</th>\n",
              "      <th>USDBRL=X</th>\n",
              "      <th>CDI</th>\n",
              "      <th>ITUB4.SA</th>\n",
              "      <th>PETR4.SA</th>\n",
              "      <th>VALE3.SA</th>\n",
              "      <th>BBAS3.SA</th>\n",
              "      <th>ABEV3.SA</th>\n",
              "      <th>CIEL3.SA</th>\n",
              "      <th>EZTC3.SA</th>\n",
              "      <th>ECOR3.SA</th>\n",
              "      <th>WEGE3.SA</th>\n",
              "      <th>RADL3.SA</th>\n",
              "      <th>OIBR3.SA</th>\n",
              "      <th>PL Total</th>\n",
              "    </tr>\n",
              "    <tr>\n",
              "      <th>Date</th>\n",
              "      <th></th>\n",
              "      <th></th>\n",
              "      <th></th>\n",
              "      <th></th>\n",
              "      <th></th>\n",
              "      <th></th>\n",
              "      <th></th>\n",
              "      <th></th>\n",
              "      <th></th>\n",
              "      <th></th>\n",
              "      <th></th>\n",
              "      <th></th>\n",
              "      <th></th>\n",
              "      <th></th>\n",
              "      <th></th>\n",
              "    </tr>\n",
              "  </thead>\n",
              "  <tbody>\n",
              "    <tr>\n",
              "      <th>2012-01-03</th>\n",
              "      <td>59265.0</td>\n",
              "      <td>1.8701</td>\n",
              "      <td>0.0378</td>\n",
              "      <td>6149.863133</td>\n",
              "      <td>4159.107643</td>\n",
              "      <td>3133.496347</td>\n",
              "      <td>1990.942072</td>\n",
              "      <td>1977.206217</td>\n",
              "      <td>1003.723041</td>\n",
              "      <td>824.844691</td>\n",
              "      <td>599.552970</td>\n",
              "      <td>409.431655</td>\n",
              "      <td>101.515154</td>\n",
              "      <td>102.416686</td>\n",
              "      <td>20452.099608</td>\n",
              "    </tr>\n",
              "    <tr>\n",
              "      <th>2012-01-04</th>\n",
              "      <td>59365.0</td>\n",
              "      <td>1.8345</td>\n",
              "      <td>0.0390</td>\n",
              "      <td>6156.917429</td>\n",
              "      <td>4188.803074</td>\n",
              "      <td>3154.767090</td>\n",
              "      <td>1981.061341</td>\n",
              "      <td>1931.250587</td>\n",
              "      <td>1007.238847</td>\n",
              "      <td>831.304054</td>\n",
              "      <td>590.611147</td>\n",
              "      <td>411.575448</td>\n",
              "      <td>101.515154</td>\n",
              "      <td>102.166672</td>\n",
              "      <td>20457.210843</td>\n",
              "    </tr>\n",
              "    <tr>\n",
              "      <th>2012-01-05</th>\n",
              "      <td>58546.0</td>\n",
              "      <td>1.8184</td>\n",
              "      <td>0.0384</td>\n",
              "      <td>6111.074153</td>\n",
              "      <td>4140.547767</td>\n",
              "      <td>3070.415746</td>\n",
              "      <td>1960.476498</td>\n",
              "      <td>1893.015001</td>\n",
              "      <td>992.761224</td>\n",
              "      <td>797.515526</td>\n",
              "      <td>581.669133</td>\n",
              "      <td>414.147714</td>\n",
              "      <td>100.757612</td>\n",
              "      <td>100.333340</td>\n",
              "      <td>20162.713713</td>\n",
              "    </tr>\n",
              "    <tr>\n",
              "      <th>2012-01-06</th>\n",
              "      <td>58600.0</td>\n",
              "      <td>1.8430</td>\n",
              "      <td>0.0408</td>\n",
              "      <td>6156.917429</td>\n",
              "      <td>4144.260849</td>\n",
              "      <td>3044.009222</td>\n",
              "      <td>1911.073714</td>\n",
              "      <td>1888.235797</td>\n",
              "      <td>986.556701</td>\n",
              "      <td>801.490465</td>\n",
              "      <td>571.385899</td>\n",
              "      <td>409.431655</td>\n",
              "      <td>100.378781</td>\n",
              "      <td>101.583341</td>\n",
              "      <td>20115.323854</td>\n",
              "    </tr>\n",
              "    <tr>\n",
              "      <th>2012-01-09</th>\n",
              "      <td>59083.0</td>\n",
              "      <td>1.8476</td>\n",
              "      <td>0.0401</td>\n",
              "      <td>6195.706960</td>\n",
              "      <td>4199.937247</td>\n",
              "      <td>3040.341650</td>\n",
              "      <td>1926.718990</td>\n",
              "      <td>1884.558950</td>\n",
              "      <td>990.486265</td>\n",
              "      <td>811.925366</td>\n",
              "      <td>588.822706</td>\n",
              "      <td>409.431655</td>\n",
              "      <td>100.757612</td>\n",
              "      <td>101.666690</td>\n",
              "      <td>20250.354090</td>\n",
              "    </tr>\n",
              "  </tbody>\n",
              "</table>\n",
              "</div>"
            ],
            "text/plain": [
              "              ^BVSP  USDBRL=X     CDI  ...    RADL3.SA    OIBR3.SA      PL Total\n",
              "Date                                   ...                                      \n",
              "2012-01-03  59265.0    1.8701  0.0378  ...  101.515154  102.416686  20452.099608\n",
              "2012-01-04  59365.0    1.8345  0.0390  ...  101.515154  102.166672  20457.210843\n",
              "2012-01-05  58546.0    1.8184  0.0384  ...  100.757612  100.333340  20162.713713\n",
              "2012-01-06  58600.0    1.8430  0.0408  ...  100.378781  101.583341  20115.323854\n",
              "2012-01-09  59083.0    1.8476  0.0401  ...  100.757612  101.666690  20250.354090\n",
              "\n",
              "[5 rows x 15 columns]"
            ]
          },
          "metadata": {},
          "execution_count": 854
        }
      ]
    },
    {
      "cell_type": "code",
      "metadata": {
        "colab": {
          "base_uri": "https://localhost:8080/"
        },
        "id": "mAeYPVQsvokm",
        "outputId": "c0558a4e-3e71-4abc-88e9-cdc056042fa3"
      },
      "source": [
        "len(novo_df)"
      ],
      "execution_count": null,
      "outputs": [
        {
          "output_type": "execute_result",
          "data": {
            "text/plain": [
              "2378"
            ]
          },
          "metadata": {},
          "execution_count": 855
        }
      ]
    },
    {
      "cell_type": "code",
      "metadata": {
        "colab": {
          "base_uri": "https://localhost:8080/"
        },
        "id": "Ed-YYNDzv2xC",
        "outputId": "56c39a79-a22d-46b2-829c-7e706daef9b2"
      },
      "source": [
        "novo_df.CDI.iloc[1]"
      ],
      "execution_count": null,
      "outputs": [
        {
          "output_type": "execute_result",
          "data": {
            "text/plain": [
              "0.039"
            ]
          },
          "metadata": {},
          "execution_count": 856
        }
      ]
    },
    {
      "cell_type": "code",
      "metadata": {
        "colab": {
          "base_uri": "https://localhost:8080/"
        },
        "id": "7VxGyqi_3M3q",
        "outputId": "ff7c9c9a-39cc-424d-eeb2-ce4240c00962"
      },
      "source": [
        "novo_df.CDI"
      ],
      "execution_count": null,
      "outputs": [
        {
          "output_type": "execute_result",
          "data": {
            "text/plain": [
              "Date\n",
              "2012-01-03    0.0378\n",
              "2012-01-04    0.0390\n",
              "2012-01-05    0.0384\n",
              "2012-01-06    0.0408\n",
              "2012-01-09    0.0401\n",
              "               ...  \n",
              "2021-09-03    0.0209\n",
              "2021-09-06    0.0201\n",
              "2021-09-08    0.0199\n",
              "2021-09-09    0.0210\n",
              "2021-09-10    0.0221\n",
              "Name: CDI, Length: 2378, dtype: float64"
            ]
          },
          "metadata": {},
          "execution_count": 857
        }
      ]
    },
    {
      "cell_type": "markdown",
      "metadata": {
        "id": "gQ3KOu4-hVrm"
      },
      "source": [
        "## 6. Criação de CDB fictício"
      ]
    },
    {
      "cell_type": "markdown",
      "metadata": {
        "id": "BKLogyiQhYr_"
      },
      "source": [
        "Os dados do CDI que você baixou são referentes à uma taxa diária, e não uma cota ou preço de ativo. Se quisermos comparar o CDI de igual para igual com o preço de uma ação ou 'cota' de uma carteira, precisamos transformar esses dados do CDI também em um investimento fictício. Para isso, vou simular a criação de um CDB que rende 100% do CDI. O racional é simples: simulo que tenho R$ 1,00 no primeiro dia e esse investimento evolui diariamente de acordo com a oscilação da taxa DI (como um CDB real).\n"
      ]
    },
    {
      "cell_type": "markdown",
      "metadata": {
        "id": "EOHF7l0gheIv"
      },
      "source": [
        "Como implementar isso no Python? Precisamos criar uma rotina tal que o primeiro dia seja R$ 1,00 e os dias subsequentes acumulem o rendimento da taxa DI diária. Preparei um loop pra isso, logo abaixo. <b><i>Note que isto é uma aproximação.</i> A informação oficial do histórico de taxas DI deve ser obtida diretamente da B3 e a fórmula oficial deve ser usada, caso seja necessário rigor matemático no cálculo.</b>"
      ]
    },
    {
      "cell_type": "code",
      "metadata": {
        "id": "GOcBJnWHCr1e"
      },
      "source": [
        "lista = []\n",
        "\n",
        "for i in range(len(novo_df)):\n",
        "  if i ==0:\n",
        "    lista.append(1)\n",
        "  else:\n",
        "    lista.append( (lista[i-1])*(1+(novo_df.CDI.iloc[i-1])/100) )"
      ],
      "execution_count": null,
      "outputs": []
    },
    {
      "cell_type": "code",
      "metadata": {
        "id": "uSpTXUzWxTrl"
      },
      "source": [
        "novo_df['CDB_100%_CDI'] = lista"
      ],
      "execution_count": null,
      "outputs": []
    },
    {
      "cell_type": "code",
      "metadata": {
        "colab": {
          "base_uri": "https://localhost:8080/",
          "height": 338
        },
        "id": "0-lOyZgzxXTE",
        "outputId": "183588e1-43b5-4d79-faa3-edfed7c96925"
      },
      "source": [
        "novo_df.tail()"
      ],
      "execution_count": null,
      "outputs": [
        {
          "output_type": "execute_result",
          "data": {
            "text/html": [
              "<div>\n",
              "<style scoped>\n",
              "    .dataframe tbody tr th:only-of-type {\n",
              "        vertical-align: middle;\n",
              "    }\n",
              "\n",
              "    .dataframe tbody tr th {\n",
              "        vertical-align: top;\n",
              "    }\n",
              "\n",
              "    .dataframe thead th {\n",
              "        text-align: right;\n",
              "    }\n",
              "</style>\n",
              "<table border=\"1\" class=\"dataframe\">\n",
              "  <thead>\n",
              "    <tr style=\"text-align: right;\">\n",
              "      <th></th>\n",
              "      <th>^BVSP</th>\n",
              "      <th>USDBRL=X</th>\n",
              "      <th>CDI</th>\n",
              "      <th>ITUB4.SA</th>\n",
              "      <th>PETR4.SA</th>\n",
              "      <th>VALE3.SA</th>\n",
              "      <th>BBAS3.SA</th>\n",
              "      <th>ABEV3.SA</th>\n",
              "      <th>CIEL3.SA</th>\n",
              "      <th>EZTC3.SA</th>\n",
              "      <th>ECOR3.SA</th>\n",
              "      <th>WEGE3.SA</th>\n",
              "      <th>RADL3.SA</th>\n",
              "      <th>OIBR3.SA</th>\n",
              "      <th>PL Total</th>\n",
              "      <th>CDB_100%_CDI</th>\n",
              "    </tr>\n",
              "    <tr>\n",
              "      <th>Date</th>\n",
              "      <th></th>\n",
              "      <th></th>\n",
              "      <th></th>\n",
              "      <th></th>\n",
              "      <th></th>\n",
              "      <th></th>\n",
              "      <th></th>\n",
              "      <th></th>\n",
              "      <th></th>\n",
              "      <th></th>\n",
              "      <th></th>\n",
              "      <th></th>\n",
              "      <th></th>\n",
              "      <th></th>\n",
              "      <th></th>\n",
              "      <th></th>\n",
              "    </tr>\n",
              "  </thead>\n",
              "  <tbody>\n",
              "    <tr>\n",
              "      <th>2021-09-03</th>\n",
              "      <td>116933.0</td>\n",
              "      <td>5.1818</td>\n",
              "      <td>0.0209</td>\n",
              "      <td>17205.067033</td>\n",
              "      <td>6367.360579</td>\n",
              "      <td>11042.790628</td>\n",
              "      <td>4399.474404</td>\n",
              "      <td>4253.726836</td>\n",
              "      <td>385.882177</td>\n",
              "      <td>2731.638196</td>\n",
              "      <td>654.469314</td>\n",
              "      <td>6375.046489</td>\n",
              "      <td>1083.852840</td>\n",
              "      <td>1.491886</td>\n",
              "      <td>54500.800382</td>\n",
              "      <td>2.186579</td>\n",
              "    </tr>\n",
              "    <tr>\n",
              "      <th>2021-09-06</th>\n",
              "      <td>117869.0</td>\n",
              "      <td>5.1898</td>\n",
              "      <td>0.0201</td>\n",
              "      <td>17424.681106</td>\n",
              "      <td>6398.798161</td>\n",
              "      <td>10869.214348</td>\n",
              "      <td>4478.009494</td>\n",
              "      <td>4415.553680</td>\n",
              "      <td>391.841777</td>\n",
              "      <td>2782.941457</td>\n",
              "      <td>667.236206</td>\n",
              "      <td>6397.908912</td>\n",
              "      <td>1086.760827</td>\n",
              "      <td>1.506657</td>\n",
              "      <td>54914.452625</td>\n",
              "      <td>2.187036</td>\n",
              "    </tr>\n",
              "    <tr>\n",
              "      <th>2021-09-08</th>\n",
              "      <td>113413.0</td>\n",
              "      <td>5.1696</td>\n",
              "      <td>0.0199</td>\n",
              "      <td>16598.236674</td>\n",
              "      <td>6038.472835</td>\n",
              "      <td>10643.006100</td>\n",
              "      <td>4289.223231</td>\n",
              "      <td>4163.823088</td>\n",
              "      <td>370.983265</td>\n",
              "      <td>2591.339401</td>\n",
              "      <td>636.326974</td>\n",
              "      <td>6417.253988</td>\n",
              "      <td>1054.357379</td>\n",
              "      <td>1.447572</td>\n",
              "      <td>52804.470508</td>\n",
              "      <td>2.187476</td>\n",
              "    </tr>\n",
              "    <tr>\n",
              "      <th>2021-09-09</th>\n",
              "      <td>115361.0</td>\n",
              "      <td>5.3206</td>\n",
              "      <td>0.0210</td>\n",
              "      <td>16817.851849</td>\n",
              "      <td>6166.642432</td>\n",
              "      <td>10604.930306</td>\n",
              "      <td>4364.737852</td>\n",
              "      <td>4189.509943</td>\n",
              "      <td>370.983265</td>\n",
              "      <td>2613.326427</td>\n",
              "      <td>649.093801</td>\n",
              "      <td>6830.532596</td>\n",
              "      <td>1073.467129</td>\n",
              "      <td>1.521428</td>\n",
              "      <td>53682.597027</td>\n",
              "      <td>2.187911</td>\n",
              "    </tr>\n",
              "    <tr>\n",
              "      <th>2021-09-10</th>\n",
              "      <td>114286.0</td>\n",
              "      <td>5.1965</td>\n",
              "      <td>0.0221</td>\n",
              "      <td>16650.250736</td>\n",
              "      <td>6127.949810</td>\n",
              "      <td>10617.249389</td>\n",
              "      <td>4378.330252</td>\n",
              "      <td>4135.567989</td>\n",
              "      <td>365.023700</td>\n",
              "      <td>2655.206820</td>\n",
              "      <td>643.046333</td>\n",
              "      <td>6798.877139</td>\n",
              "      <td>1061.419666</td>\n",
              "      <td>1.447572</td>\n",
              "      <td>53434.369406</td>\n",
              "      <td>2.188371</td>\n",
              "    </tr>\n",
              "  </tbody>\n",
              "</table>\n",
              "</div>"
            ],
            "text/plain": [
              "               ^BVSP  USDBRL=X     CDI  ...  OIBR3.SA      PL Total  CDB_100%_CDI\n",
              "Date                                    ...                                      \n",
              "2021-09-03  116933.0    5.1818  0.0209  ...  1.491886  54500.800382      2.186579\n",
              "2021-09-06  117869.0    5.1898  0.0201  ...  1.506657  54914.452625      2.187036\n",
              "2021-09-08  113413.0    5.1696  0.0199  ...  1.447572  52804.470508      2.187476\n",
              "2021-09-09  115361.0    5.3206  0.0210  ...  1.521428  53682.597027      2.187911\n",
              "2021-09-10  114286.0    5.1965  0.0221  ...  1.447572  53434.369406      2.188371\n",
              "\n",
              "[5 rows x 16 columns]"
            ]
          },
          "metadata": {},
          "execution_count": 861
        }
      ]
    },
    {
      "cell_type": "markdown",
      "metadata": {
        "id": "w2v-2HCmht0q"
      },
      "source": [
        "Para comparar os valores do rendimento do nosso CDB fictício, utilize a calculadora de renda fixa da B3:"
      ]
    },
    {
      "cell_type": "markdown",
      "metadata": {
        "id": "b5vbeBT8h0Xj"
      },
      "source": [
        "https://calculadorarendafixa.com.br/#/navbar/calculadora"
      ]
    },
    {
      "cell_type": "markdown",
      "metadata": {
        "id": "6ZF2IuUdiZOw"
      },
      "source": [
        "## 7. Consolidação dos dados num dataframe"
      ]
    },
    {
      "cell_type": "markdown",
      "metadata": {
        "id": "8gCga6PKhzyl"
      },
      "source": [
        "Normalizando esse novo dataframe que contém o IBOV, todos os ativos e o PL da nossa carteira"
      ]
    },
    {
      "cell_type": "code",
      "metadata": {
        "id": "aPPy0SXkzpg6"
      },
      "source": [
        "PL_normalizado = novo_df/novo_df.iloc[0]"
      ],
      "execution_count": null,
      "outputs": []
    },
    {
      "cell_type": "markdown",
      "metadata": {
        "id": "E8ZoHjtbiOc4"
      },
      "source": [
        "Detalhe do rendimento do CDB"
      ]
    },
    {
      "cell_type": "code",
      "metadata": {
        "colab": {
          "base_uri": "https://localhost:8080/",
          "height": 234
        },
        "id": "qV56DhMXX0YJ",
        "outputId": "bc77a8d8-ab44-44c2-e2ba-9769c489bcc6"
      },
      "source": [
        "PL_normalizado[['CDB_100%_CDI']].tail()"
      ],
      "execution_count": null,
      "outputs": [
        {
          "output_type": "execute_result",
          "data": {
            "text/html": [
              "<div>\n",
              "<style scoped>\n",
              "    .dataframe tbody tr th:only-of-type {\n",
              "        vertical-align: middle;\n",
              "    }\n",
              "\n",
              "    .dataframe tbody tr th {\n",
              "        vertical-align: top;\n",
              "    }\n",
              "\n",
              "    .dataframe thead th {\n",
              "        text-align: right;\n",
              "    }\n",
              "</style>\n",
              "<table border=\"1\" class=\"dataframe\">\n",
              "  <thead>\n",
              "    <tr style=\"text-align: right;\">\n",
              "      <th></th>\n",
              "      <th>CDB_100%_CDI</th>\n",
              "    </tr>\n",
              "    <tr>\n",
              "      <th>Date</th>\n",
              "      <th></th>\n",
              "    </tr>\n",
              "  </thead>\n",
              "  <tbody>\n",
              "    <tr>\n",
              "      <th>2021-09-03</th>\n",
              "      <td>2.186579</td>\n",
              "    </tr>\n",
              "    <tr>\n",
              "      <th>2021-09-06</th>\n",
              "      <td>2.187036</td>\n",
              "    </tr>\n",
              "    <tr>\n",
              "      <th>2021-09-08</th>\n",
              "      <td>2.187476</td>\n",
              "    </tr>\n",
              "    <tr>\n",
              "      <th>2021-09-09</th>\n",
              "      <td>2.187911</td>\n",
              "    </tr>\n",
              "    <tr>\n",
              "      <th>2021-09-10</th>\n",
              "      <td>2.188371</td>\n",
              "    </tr>\n",
              "  </tbody>\n",
              "</table>\n",
              "</div>"
            ],
            "text/plain": [
              "            CDB_100%_CDI\n",
              "Date                    \n",
              "2021-09-03      2.186579\n",
              "2021-09-06      2.187036\n",
              "2021-09-08      2.187476\n",
              "2021-09-09      2.187911\n",
              "2021-09-10      2.188371"
            ]
          },
          "metadata": {},
          "execution_count": 869
        }
      ]
    },
    {
      "cell_type": "code",
      "metadata": {
        "id": "UV1sv-7Ri9E0"
      },
      "source": [
        ""
      ],
      "execution_count": null,
      "outputs": []
    },
    {
      "cell_type": "code",
      "metadata": {
        "id": "hlrGRPGszt77"
      },
      "source": [
        "PL_normalizado = novo_df/novo_df.iloc[0]"
      ],
      "execution_count": null,
      "outputs": []
    },
    {
      "cell_type": "markdown",
      "metadata": {
        "id": "hXlhEQQyiRRB"
      },
      "source": [
        "Renomear algumas colunas"
      ]
    },
    {
      "cell_type": "code",
      "metadata": {
        "id": "hzyibmVkWUt8"
      },
      "source": [
        "PL_normalizado.rename(columns = {'^BVSP': 'IBOV', 'USDBRL=X': 'Dólar', \n",
        "                                 'PL Total': 'Nossa Carteira'}, inplace = True)"
      ],
      "execution_count": null,
      "outputs": []
    },
    {
      "cell_type": "code",
      "metadata": {
        "colab": {
          "base_uri": "https://localhost:8080/",
          "height": 563
        },
        "id": "n-EFVvb9X12F",
        "outputId": "99c0b15f-a872-4df4-fb53-79047b485e86"
      },
      "source": [
        "PL_normalizado[['CDB_100%_CDI', 'Nossa Carteira', 'IBOV', 'Dólar']].plot(figsize = (10,10));"
      ],
      "execution_count": null,
      "outputs": [
        {
          "output_type": "display_data",
          "data": {
            "image/png": "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\n",
            "text/plain": [
              "<Figure size 720x720 with 1 Axes>"
            ]
          },
          "metadata": {
            "needs_background": "light"
          }
        }
      ]
    }
  ]
}
