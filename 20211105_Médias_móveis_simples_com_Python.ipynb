{
  "nbformat": 4,
  "nbformat_minor": 0,
  "metadata": {
    "colab": {
      "name": "20211105 - Médias móveis simples com Python",
      "provenance": [],
      "authorship_tag": "ABX9TyNdnrtMfUEFTu3KNwRztY8L",
      "include_colab_link": true
    },
    "kernelspec": {
      "name": "python3",
      "display_name": "Python 3"
    },
    "language_info": {
      "name": "python"
    }
  },
  "cells": [
    {
      "cell_type": "markdown",
      "metadata": {
        "id": "view-in-github",
        "colab_type": "text"
      },
      "source": [
        "<a href=\"https://colab.research.google.com/github/Trading-com-Dados/tutoriais_publicos/blob/main/20211105_M%C3%A9dias_m%C3%B3veis_simples_com_Python.ipynb\" target=\"_parent\"><img src=\"https://colab.research.google.com/assets/colab-badge.svg\" alt=\"Open In Colab\"/></a>"
      ]
    },
    {
      "cell_type": "markdown",
      "metadata": {
        "id": "H-ZTo21CghKb"
      },
      "source": [
        "# Como traçar médias móveis simples com o Python"
      ]
    },
    {
      "cell_type": "markdown",
      "metadata": {
        "id": "GiqLrjMJGDnZ"
      },
      "source": [
        "## 1. Instalando e importando bibliotecas"
      ]
    },
    {
      "cell_type": "code",
      "metadata": {
        "colab": {
          "base_uri": "https://localhost:8080/"
        },
        "id": "d81aLa1XGOvh",
        "outputId": "7f514746-ed20-4700-ea4c-a82e2eb95c4d"
      },
      "source": [
        "!pip install yfinance"
      ],
      "execution_count": null,
      "outputs": [
        {
          "output_type": "stream",
          "name": "stdout",
          "text": [
            "Collecting yfinance\n",
            "  Downloading yfinance-0.1.64.tar.gz (26 kB)\n",
            "Requirement already satisfied: pandas>=0.24 in /usr/local/lib/python3.7/dist-packages (from yfinance) (1.1.5)\n",
            "Requirement already satisfied: numpy>=1.15 in /usr/local/lib/python3.7/dist-packages (from yfinance) (1.19.5)\n",
            "Requirement already satisfied: requests>=2.20 in /usr/local/lib/python3.7/dist-packages (from yfinance) (2.23.0)\n",
            "Requirement already satisfied: multitasking>=0.0.7 in /usr/local/lib/python3.7/dist-packages (from yfinance) (0.0.9)\n",
            "Collecting lxml>=4.5.1\n",
            "  Downloading lxml-4.6.4-cp37-cp37m-manylinux_2_17_x86_64.manylinux2014_x86_64.manylinux_2_24_x86_64.whl (6.3 MB)\n",
            "\u001b[K     |████████████████████████████████| 6.3 MB 8.3 MB/s \n",
            "\u001b[?25hRequirement already satisfied: pytz>=2017.2 in /usr/local/lib/python3.7/dist-packages (from pandas>=0.24->yfinance) (2018.9)\n",
            "Requirement already satisfied: python-dateutil>=2.7.3 in /usr/local/lib/python3.7/dist-packages (from pandas>=0.24->yfinance) (2.8.2)\n",
            "Requirement already satisfied: six>=1.5 in /usr/local/lib/python3.7/dist-packages (from python-dateutil>=2.7.3->pandas>=0.24->yfinance) (1.15.0)\n",
            "Requirement already satisfied: urllib3!=1.25.0,!=1.25.1,<1.26,>=1.21.1 in /usr/local/lib/python3.7/dist-packages (from requests>=2.20->yfinance) (1.24.3)\n",
            "Requirement already satisfied: chardet<4,>=3.0.2 in /usr/local/lib/python3.7/dist-packages (from requests>=2.20->yfinance) (3.0.4)\n",
            "Requirement already satisfied: certifi>=2017.4.17 in /usr/local/lib/python3.7/dist-packages (from requests>=2.20->yfinance) (2021.5.30)\n",
            "Requirement already satisfied: idna<3,>=2.5 in /usr/local/lib/python3.7/dist-packages (from requests>=2.20->yfinance) (2.10)\n",
            "Building wheels for collected packages: yfinance\n",
            "  Building wheel for yfinance (setup.py) ... \u001b[?25l\u001b[?25hdone\n",
            "  Created wheel for yfinance: filename=yfinance-0.1.64-py2.py3-none-any.whl size=24109 sha256=3e3e6bf655e22826b5e2dadd9bee98276c463d3608553f20f98c89a8824dc390\n",
            "  Stored in directory: /root/.cache/pip/wheels/86/fe/9b/a4d3d78796b699e37065e5b6c27b75cff448ddb8b24943c288\n",
            "Successfully built yfinance\n",
            "Installing collected packages: lxml, yfinance\n",
            "  Attempting uninstall: lxml\n",
            "    Found existing installation: lxml 4.2.6\n",
            "    Uninstalling lxml-4.2.6:\n",
            "      Successfully uninstalled lxml-4.2.6\n",
            "Successfully installed lxml-4.6.4 yfinance-0.1.64\n"
          ]
        }
      ]
    },
    {
      "cell_type": "markdown",
      "metadata": {
        "id": "k9B19i1pgJfl"
      },
      "source": [
        "Após a instalação, importe essas e outras bibliotecas mostradas a seguir:"
      ]
    },
    {
      "cell_type": "code",
      "metadata": {
        "id": "RepZm8AQGnKe"
      },
      "source": [
        "import yfinance as yf\n",
        "import pandas as pd"
      ],
      "execution_count": null,
      "outputs": []
    },
    {
      "cell_type": "code",
      "metadata": {
        "colab": {
          "base_uri": "https://localhost:8080/",
          "height": 234
        },
        "id": "Q1ZxDJIRib-k",
        "outputId": "63fd7332-7436-408e-b984-45ac707bd597"
      },
      "source": [
        "vale.head()"
      ],
      "execution_count": null,
      "outputs": [
        {
          "output_type": "execute_result",
          "data": {
            "text/html": [
              "<div>\n",
              "<style scoped>\n",
              "    .dataframe tbody tr th:only-of-type {\n",
              "        vertical-align: middle;\n",
              "    }\n",
              "\n",
              "    .dataframe tbody tr th {\n",
              "        vertical-align: top;\n",
              "    }\n",
              "\n",
              "    .dataframe thead th {\n",
              "        text-align: right;\n",
              "    }\n",
              "</style>\n",
              "<table border=\"1\" class=\"dataframe\">\n",
              "  <thead>\n",
              "    <tr style=\"text-align: right;\">\n",
              "      <th></th>\n",
              "      <th>Open</th>\n",
              "      <th>High</th>\n",
              "      <th>Low</th>\n",
              "      <th>Close</th>\n",
              "      <th>Adj Close</th>\n",
              "      <th>Volume</th>\n",
              "      <th>MM20</th>\n",
              "      <th>MM60</th>\n",
              "    </tr>\n",
              "    <tr>\n",
              "      <th>Date</th>\n",
              "      <th></th>\n",
              "      <th></th>\n",
              "      <th></th>\n",
              "      <th></th>\n",
              "      <th></th>\n",
              "      <th></th>\n",
              "      <th></th>\n",
              "      <th></th>\n",
              "    </tr>\n",
              "  </thead>\n",
              "  <tbody>\n",
              "    <tr>\n",
              "      <th>2020-01-02</th>\n",
              "      <td>53.980000</td>\n",
              "      <td>54.439999</td>\n",
              "      <td>53.750000</td>\n",
              "      <td>54.330002</td>\n",
              "      <td>44.330608</td>\n",
              "      <td>17509700</td>\n",
              "      <td>NaN</td>\n",
              "      <td>NaN</td>\n",
              "    </tr>\n",
              "    <tr>\n",
              "      <th>2020-01-03</th>\n",
              "      <td>53.680000</td>\n",
              "      <td>54.500000</td>\n",
              "      <td>53.580002</td>\n",
              "      <td>53.930000</td>\n",
              "      <td>44.004223</td>\n",
              "      <td>17284800</td>\n",
              "      <td>NaN</td>\n",
              "      <td>NaN</td>\n",
              "    </tr>\n",
              "    <tr>\n",
              "      <th>2020-01-06</th>\n",
              "      <td>53.799999</td>\n",
              "      <td>53.799999</td>\n",
              "      <td>53.150002</td>\n",
              "      <td>53.610001</td>\n",
              "      <td>43.743118</td>\n",
              "      <td>32787800</td>\n",
              "      <td>NaN</td>\n",
              "      <td>NaN</td>\n",
              "    </tr>\n",
              "    <tr>\n",
              "      <th>2020-01-07</th>\n",
              "      <td>53.500000</td>\n",
              "      <td>54.189999</td>\n",
              "      <td>53.400002</td>\n",
              "      <td>54.000000</td>\n",
              "      <td>44.061337</td>\n",
              "      <td>16326400</td>\n",
              "      <td>NaN</td>\n",
              "      <td>NaN</td>\n",
              "    </tr>\n",
              "    <tr>\n",
              "      <th>2020-01-08</th>\n",
              "      <td>54.200001</td>\n",
              "      <td>54.369999</td>\n",
              "      <td>53.619999</td>\n",
              "      <td>54.009998</td>\n",
              "      <td>44.069496</td>\n",
              "      <td>15298500</td>\n",
              "      <td>NaN</td>\n",
              "      <td>NaN</td>\n",
              "    </tr>\n",
              "  </tbody>\n",
              "</table>\n",
              "</div>"
            ],
            "text/plain": [
              "                 Open       High        Low  ...    Volume  MM20  MM60\n",
              "Date                                         ...                      \n",
              "2020-01-02  53.980000  54.439999  53.750000  ...  17509700   NaN   NaN\n",
              "2020-01-03  53.680000  54.500000  53.580002  ...  17284800   NaN   NaN\n",
              "2020-01-06  53.799999  53.799999  53.150002  ...  32787800   NaN   NaN\n",
              "2020-01-07  53.500000  54.189999  53.400002  ...  16326400   NaN   NaN\n",
              "2020-01-08  54.200001  54.369999  53.619999  ...  15298500   NaN   NaN\n",
              "\n",
              "[5 rows x 8 columns]"
            ]
          },
          "metadata": {},
          "execution_count": 23
        }
      ]
    },
    {
      "cell_type": "markdown",
      "metadata": {
        "id": "z6m9axgvGrfU"
      },
      "source": [
        "## 2. Importando dados"
      ]
    },
    {
      "cell_type": "markdown",
      "metadata": {
        "id": "Yb-jxwB-fvS4"
      },
      "source": [
        "Escolha um papel para traçar suas médias móveis"
      ]
    },
    {
      "cell_type": "code",
      "metadata": {
        "id": "dnaRWJI2HFtf"
      },
      "source": [
        "inicio = '2020-01-01'\n",
        "fim = '2021-11-05'"
      ],
      "execution_count": null,
      "outputs": []
    },
    {
      "cell_type": "code",
      "metadata": {
        "id": "A8R1uR4JHLmU",
        "colab": {
          "base_uri": "https://localhost:8080/"
        },
        "outputId": "31f0fde8-fbe2-4297-cf28-7bc7254782a9"
      },
      "source": [
        "vale = yf.download('VALE3.SA', start = inicio, \n",
        "                   end = fim)"
      ],
      "execution_count": null,
      "outputs": [
        {
          "output_type": "stream",
          "name": "stdout",
          "text": [
            "\r[*********************100%***********************]  1 of 1 completed\n"
          ]
        }
      ]
    },
    {
      "cell_type": "code",
      "metadata": {
        "id": "sv_C4L9YisvV",
        "colab": {
          "base_uri": "https://localhost:8080/",
          "height": 234
        },
        "outputId": "58adc462-d480-4fd6-d3e1-f376449cd52b"
      },
      "source": [
        "vale.head()"
      ],
      "execution_count": null,
      "outputs": [
        {
          "output_type": "execute_result",
          "data": {
            "text/html": [
              "<div>\n",
              "<style scoped>\n",
              "    .dataframe tbody tr th:only-of-type {\n",
              "        vertical-align: middle;\n",
              "    }\n",
              "\n",
              "    .dataframe tbody tr th {\n",
              "        vertical-align: top;\n",
              "    }\n",
              "\n",
              "    .dataframe thead th {\n",
              "        text-align: right;\n",
              "    }\n",
              "</style>\n",
              "<table border=\"1\" class=\"dataframe\">\n",
              "  <thead>\n",
              "    <tr style=\"text-align: right;\">\n",
              "      <th></th>\n",
              "      <th>Open</th>\n",
              "      <th>High</th>\n",
              "      <th>Low</th>\n",
              "      <th>Close</th>\n",
              "      <th>Adj Close</th>\n",
              "      <th>Volume</th>\n",
              "    </tr>\n",
              "    <tr>\n",
              "      <th>Date</th>\n",
              "      <th></th>\n",
              "      <th></th>\n",
              "      <th></th>\n",
              "      <th></th>\n",
              "      <th></th>\n",
              "      <th></th>\n",
              "    </tr>\n",
              "  </thead>\n",
              "  <tbody>\n",
              "    <tr>\n",
              "      <th>2020-01-02</th>\n",
              "      <td>53.980000</td>\n",
              "      <td>54.439999</td>\n",
              "      <td>53.750000</td>\n",
              "      <td>54.330002</td>\n",
              "      <td>44.330601</td>\n",
              "      <td>17509700</td>\n",
              "    </tr>\n",
              "    <tr>\n",
              "      <th>2020-01-03</th>\n",
              "      <td>53.680000</td>\n",
              "      <td>54.500000</td>\n",
              "      <td>53.580002</td>\n",
              "      <td>53.930000</td>\n",
              "      <td>44.004223</td>\n",
              "      <td>17284800</td>\n",
              "    </tr>\n",
              "    <tr>\n",
              "      <th>2020-01-06</th>\n",
              "      <td>53.799999</td>\n",
              "      <td>53.799999</td>\n",
              "      <td>53.150002</td>\n",
              "      <td>53.610001</td>\n",
              "      <td>43.743118</td>\n",
              "      <td>32787800</td>\n",
              "    </tr>\n",
              "    <tr>\n",
              "      <th>2020-01-07</th>\n",
              "      <td>53.500000</td>\n",
              "      <td>54.189999</td>\n",
              "      <td>53.400002</td>\n",
              "      <td>54.000000</td>\n",
              "      <td>44.061337</td>\n",
              "      <td>16326400</td>\n",
              "    </tr>\n",
              "    <tr>\n",
              "      <th>2020-01-08</th>\n",
              "      <td>54.200001</td>\n",
              "      <td>54.369999</td>\n",
              "      <td>53.619999</td>\n",
              "      <td>54.009998</td>\n",
              "      <td>44.069500</td>\n",
              "      <td>15298500</td>\n",
              "    </tr>\n",
              "  </tbody>\n",
              "</table>\n",
              "</div>"
            ],
            "text/plain": [
              "                 Open       High        Low      Close  Adj Close    Volume\n",
              "Date                                                                       \n",
              "2020-01-02  53.980000  54.439999  53.750000  54.330002  44.330601  17509700\n",
              "2020-01-03  53.680000  54.500000  53.580002  53.930000  44.004223  17284800\n",
              "2020-01-06  53.799999  53.799999  53.150002  53.610001  43.743118  32787800\n",
              "2020-01-07  53.500000  54.189999  53.400002  54.000000  44.061337  16326400\n",
              "2020-01-08  54.200001  54.369999  53.619999  54.009998  44.069500  15298500"
            ]
          },
          "metadata": {},
          "execution_count": 26
        }
      ]
    },
    {
      "cell_type": "markdown",
      "metadata": {
        "id": "ygXugB2HRUTP"
      },
      "source": [
        "## 3. Criação e visualização das médias móveis"
      ]
    },
    {
      "cell_type": "code",
      "metadata": {
        "id": "QaI5r_ZIZVqv"
      },
      "source": [
        "sma20 = vale['Adj Close'].rolling(20).mean()\n",
        "sma60 = vale['Adj Close'].rolling(60).mean()"
      ],
      "execution_count": null,
      "outputs": []
    },
    {
      "cell_type": "code",
      "metadata": {
        "id": "JsGaENQiZuQz"
      },
      "source": [
        "vale['MM20'] = sma20\n",
        "vale['MM60'] = sma60"
      ],
      "execution_count": null,
      "outputs": []
    },
    {
      "cell_type": "code",
      "metadata": {
        "colab": {
          "base_uri": "https://localhost:8080/",
          "height": 234
        },
        "id": "XzU1Qk4vZTdI",
        "outputId": "7d520f43-9552-4934-d56d-388543dc0892"
      },
      "source": [
        "vale.head()"
      ],
      "execution_count": null,
      "outputs": [
        {
          "output_type": "execute_result",
          "data": {
            "text/html": [
              "<div>\n",
              "<style scoped>\n",
              "    .dataframe tbody tr th:only-of-type {\n",
              "        vertical-align: middle;\n",
              "    }\n",
              "\n",
              "    .dataframe tbody tr th {\n",
              "        vertical-align: top;\n",
              "    }\n",
              "\n",
              "    .dataframe thead th {\n",
              "        text-align: right;\n",
              "    }\n",
              "</style>\n",
              "<table border=\"1\" class=\"dataframe\">\n",
              "  <thead>\n",
              "    <tr style=\"text-align: right;\">\n",
              "      <th></th>\n",
              "      <th>Open</th>\n",
              "      <th>High</th>\n",
              "      <th>Low</th>\n",
              "      <th>Close</th>\n",
              "      <th>Adj Close</th>\n",
              "      <th>Volume</th>\n",
              "      <th>MM20</th>\n",
              "      <th>MM60</th>\n",
              "    </tr>\n",
              "    <tr>\n",
              "      <th>Date</th>\n",
              "      <th></th>\n",
              "      <th></th>\n",
              "      <th></th>\n",
              "      <th></th>\n",
              "      <th></th>\n",
              "      <th></th>\n",
              "      <th></th>\n",
              "      <th></th>\n",
              "    </tr>\n",
              "  </thead>\n",
              "  <tbody>\n",
              "    <tr>\n",
              "      <th>2020-01-02</th>\n",
              "      <td>53.980000</td>\n",
              "      <td>54.439999</td>\n",
              "      <td>53.750000</td>\n",
              "      <td>54.330002</td>\n",
              "      <td>44.330608</td>\n",
              "      <td>17509700</td>\n",
              "      <td>NaN</td>\n",
              "      <td>NaN</td>\n",
              "    </tr>\n",
              "    <tr>\n",
              "      <th>2020-01-03</th>\n",
              "      <td>53.680000</td>\n",
              "      <td>54.500000</td>\n",
              "      <td>53.580002</td>\n",
              "      <td>53.930000</td>\n",
              "      <td>44.004223</td>\n",
              "      <td>17284800</td>\n",
              "      <td>NaN</td>\n",
              "      <td>NaN</td>\n",
              "    </tr>\n",
              "    <tr>\n",
              "      <th>2020-01-06</th>\n",
              "      <td>53.799999</td>\n",
              "      <td>53.799999</td>\n",
              "      <td>53.150002</td>\n",
              "      <td>53.610001</td>\n",
              "      <td>43.743118</td>\n",
              "      <td>32787800</td>\n",
              "      <td>NaN</td>\n",
              "      <td>NaN</td>\n",
              "    </tr>\n",
              "    <tr>\n",
              "      <th>2020-01-07</th>\n",
              "      <td>53.500000</td>\n",
              "      <td>54.189999</td>\n",
              "      <td>53.400002</td>\n",
              "      <td>54.000000</td>\n",
              "      <td>44.061337</td>\n",
              "      <td>16326400</td>\n",
              "      <td>NaN</td>\n",
              "      <td>NaN</td>\n",
              "    </tr>\n",
              "    <tr>\n",
              "      <th>2020-01-08</th>\n",
              "      <td>54.200001</td>\n",
              "      <td>54.369999</td>\n",
              "      <td>53.619999</td>\n",
              "      <td>54.009998</td>\n",
              "      <td>44.069496</td>\n",
              "      <td>15298500</td>\n",
              "      <td>NaN</td>\n",
              "      <td>NaN</td>\n",
              "    </tr>\n",
              "  </tbody>\n",
              "</table>\n",
              "</div>"
            ],
            "text/plain": [
              "                 Open       High        Low  ...    Volume  MM20  MM60\n",
              "Date                                         ...                      \n",
              "2020-01-02  53.980000  54.439999  53.750000  ...  17509700   NaN   NaN\n",
              "2020-01-03  53.680000  54.500000  53.580002  ...  17284800   NaN   NaN\n",
              "2020-01-06  53.799999  53.799999  53.150002  ...  32787800   NaN   NaN\n",
              "2020-01-07  53.500000  54.189999  53.400002  ...  16326400   NaN   NaN\n",
              "2020-01-08  54.200001  54.369999  53.619999  ...  15298500   NaN   NaN\n",
              "\n",
              "[5 rows x 8 columns]"
            ]
          },
          "metadata": {},
          "execution_count": 20
        }
      ]
    },
    {
      "cell_type": "code",
      "metadata": {
        "id": "E0EcvlV3rMLn"
      },
      "source": [
        ""
      ],
      "execution_count": null,
      "outputs": []
    },
    {
      "cell_type": "code",
      "metadata": {
        "colab": {
          "base_uri": "https://localhost:8080/",
          "height": 574
        },
        "id": "XZ8Vts3VZ16d",
        "outputId": "92d4ee13-4c38-464e-9501-6bbb34a4e384"
      },
      "source": [
        "vale[['Adj Close', 'MM20', 'MM60']].plot(figsize = (10,10));"
      ],
      "execution_count": null,
      "outputs": [
        {
          "output_type": "display_data",
          "data": {
            "image/png": "[encoded data removed]",
            "text/plain": [
              "<Figure size 720x720 with 1 Axes>"
            ]
          },
          "metadata": {
            "needs_background": "light"
          }
        }
      ]
    },
    {
      "cell_type": "code",
      "metadata": {
        "id": "reSFtSLNZ8pl"
      },
      "source": [
        ""
      ],
      "execution_count": null,
      "outputs": []
    }
  ]
}