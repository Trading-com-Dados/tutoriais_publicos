{
  "nbformat": 4,
  "nbformat_minor": 0,
  "metadata": {
    "colab": {
      "name": "20211205 - Comparação Carteira vs dólar.ipynb",
      "provenance": [],
      "authorship_tag": "ABX9TyMg0RdEt+rsQRETQISGUG6S",
      "include_colab_link": true
    },
    "kernelspec": {
      "name": "python3",
      "display_name": "Python 3"
    },
    "language_info": {
      "name": "python"
    }
  },
  "cells": [
    {
      "cell_type": "markdown",
      "metadata": {
        "id": "view-in-github",
        "colab_type": "text"
      },
      "source": [
        "<a href=\"https://colab.research.google.com/github/Trading-com-Dados/tutoriais_publicos/blob/main/20211205_Compara%C3%A7%C3%A3o_Carteira_vs_d%C3%B3lar.ipynb\" target=\"_parent\"><img src=\"https://colab.research.google.com/assets/colab-badge.svg\" alt=\"Open In Colab\"/></a>"
      ]
    },
    {
      "cell_type": "markdown",
      "metadata": {
        "id": "cPHJmLsAS5Js"
      },
      "source": [
        "# Código para comparação de uma carteira fictícia vs Dólar"
      ]
    },
    {
      "cell_type": "markdown",
      "metadata": {
        "id": "GiqLrjMJGDnZ"
      },
      "source": [
        "## 1. Instalando e importando bibliotecas"
      ]
    },
    {
      "cell_type": "code",
      "metadata": {
        "colab": {
          "base_uri": "https://localhost:8080/"
        },
        "id": "d81aLa1XGOvh",
        "outputId": "f10273b2-a44e-4a65-9fb3-879d5848fd1c"
      },
      "source": [
        "!pip install yfinance"
      ],
      "execution_count": null,
      "outputs": [
        {
          "output_type": "stream",
          "name": "stdout",
          "text": [
            "Collecting yfinance\n",
            "  Downloading yfinance-0.1.67-py2.py3-none-any.whl (25 kB)\n",
            "Requirement already satisfied: pandas>=0.24 in /usr/local/lib/python3.7/dist-packages (from yfinance) (1.1.5)\n",
            "Collecting lxml>=4.5.1\n",
            "  Downloading lxml-4.6.4-cp37-cp37m-manylinux_2_17_x86_64.manylinux2014_x86_64.manylinux_2_24_x86_64.whl (6.3 MB)\n",
            "\u001b[K     |████████████████████████████████| 6.3 MB 20.1 MB/s \n",
            "\u001b[?25hRequirement already satisfied: requests>=2.20 in /usr/local/lib/python3.7/dist-packages (from yfinance) (2.23.0)\n",
            "Requirement already satisfied: numpy>=1.15 in /usr/local/lib/python3.7/dist-packages (from yfinance) (1.19.5)\n",
            "Requirement already satisfied: multitasking>=0.0.7 in /usr/local/lib/python3.7/dist-packages (from yfinance) (0.0.10)\n",
            "Requirement already satisfied: pytz>=2017.2 in /usr/local/lib/python3.7/dist-packages (from pandas>=0.24->yfinance) (2018.9)\n",
            "Requirement already satisfied: python-dateutil>=2.7.3 in /usr/local/lib/python3.7/dist-packages (from pandas>=0.24->yfinance) (2.8.2)\n",
            "Requirement already satisfied: six>=1.5 in /usr/local/lib/python3.7/dist-packages (from python-dateutil>=2.7.3->pandas>=0.24->yfinance) (1.15.0)\n",
            "Requirement already satisfied: idna<3,>=2.5 in /usr/local/lib/python3.7/dist-packages (from requests>=2.20->yfinance) (2.10)\n",
            "Requirement already satisfied: chardet<4,>=3.0.2 in /usr/local/lib/python3.7/dist-packages (from requests>=2.20->yfinance) (3.0.4)\n",
            "Requirement already satisfied: certifi>=2017.4.17 in /usr/local/lib/python3.7/dist-packages (from requests>=2.20->yfinance) (2021.10.8)\n",
            "Requirement already satisfied: urllib3!=1.25.0,!=1.25.1,<1.26,>=1.21.1 in /usr/local/lib/python3.7/dist-packages (from requests>=2.20->yfinance) (1.24.3)\n",
            "Installing collected packages: lxml, yfinance\n",
            "  Attempting uninstall: lxml\n",
            "    Found existing installation: lxml 4.2.6\n",
            "    Uninstalling lxml-4.2.6:\n",
            "      Successfully uninstalled lxml-4.2.6\n",
            "Successfully installed lxml-4.6.4 yfinance-0.1.67\n"
          ]
        }
      ]
    },
    {
      "cell_type": "code",
      "metadata": {
        "id": "RepZm8AQGnKe"
      },
      "source": [
        "import yfinance as yf\n",
        "import pandas as pd\n",
        "import numpy as np"
      ],
      "execution_count": null,
      "outputs": []
    },
    {
      "cell_type": "markdown",
      "metadata": {
        "id": "z6m9axgvGrfU"
      },
      "source": [
        "## 2. Importando dados"
      ]
    },
    {
      "cell_type": "markdown",
      "metadata": {
        "id": "au3zh1hsgSWx"
      },
      "source": [
        "Repare que vou importar também os dados da cotação do dólar. Posteriormente vou converter a cotação do Ethereum para reais, por isso que estou trazendo a cotação do dólar."
      ]
    },
    {
      "cell_type": "code",
      "metadata": {
        "id": "0afxh-iuGype"
      },
      "source": [
        "ativos = ['PETR4.SA','VALE3.SA', 'WEGE3.SA', \n",
        "          'RADL3.SA', 'OIBR3.SA','KNRI11.SA','CIEL3.SA',\n",
        "          'SMAL11.SA','AAPL34.SA','IVVB11.SA','ETH-USD','USDBRL=X']"
      ],
      "execution_count": null,
      "outputs": []
    },
    {
      "cell_type": "code",
      "metadata": {
        "id": "dnaRWJI2HFtf"
      },
      "source": [
        "inicio = '2020-01-04'\n",
        "fim = '2021-12-05'"
      ],
      "execution_count": null,
      "outputs": []
    },
    {
      "cell_type": "code",
      "metadata": {
        "id": "A8R1uR4JHLmU",
        "colab": {
          "base_uri": "https://localhost:8080/"
        },
        "outputId": "24e3b9f8-618f-4197-d274-a3bb289eaac3"
      },
      "source": [
        "precos = pd.DataFrame()\n",
        "\n",
        "for i in ativos:\n",
        "  precos[i] = yf.download(i, start = inicio, end = fim)['Adj Close']"
      ],
      "execution_count": null,
      "outputs": [
        {
          "output_type": "stream",
          "name": "stdout",
          "text": [
            "[*********************100%***********************]  1 of 1 completed\n",
            "[*********************100%***********************]  1 of 1 completed\n",
            "[*********************100%***********************]  1 of 1 completed\n",
            "[*********************100%***********************]  1 of 1 completed\n",
            "[*********************100%***********************]  1 of 1 completed\n",
            "[*********************100%***********************]  1 of 1 completed\n",
            "[*********************100%***********************]  1 of 1 completed\n",
            "[*********************100%***********************]  1 of 1 completed\n",
            "[*********************100%***********************]  1 of 1 completed\n",
            "[*********************100%***********************]  1 of 1 completed\n",
            "[*********************100%***********************]  1 of 1 completed\n",
            "[*********************100%***********************]  1 of 1 completed\n"
          ]
        }
      ]
    },
    {
      "cell_type": "markdown",
      "metadata": {
        "id": "EtDy44X7ggoz"
      },
      "source": [
        "Vamos converter a cotação do Ethereum para reais:"
      ]
    },
    {
      "cell_type": "code",
      "metadata": {
        "id": "e1H-ifQST2qs"
      },
      "source": [
        "precos['ETH-BRL'] = precos['ETH-USD']*precos['USDBRL=X']"
      ],
      "execution_count": null,
      "outputs": []
    },
    {
      "cell_type": "markdown",
      "metadata": {
        "id": "Kvie182GhBXG"
      },
      "source": [
        "Agora podemos remover as colunas do Ethereum em dólares e da cotação do dólar"
      ]
    },
    {
      "cell_type": "code",
      "metadata": {
        "id": "oOa4kFUyT_MC"
      },
      "source": [
        "precos = precos.drop(columns=['USDBRL=X','ETH-USD'])"
      ],
      "execution_count": null,
      "outputs": []
    },
    {
      "cell_type": "markdown",
      "metadata": {
        "id": "PI0-N2C_hHp7"
      },
      "source": [
        "Vamos normalizar o preço dos ativos para visualizar seus desempenhos"
      ]
    },
    {
      "cell_type": "code",
      "metadata": {
        "id": "fxMP5hxDlGDb"
      },
      "source": [
        "normalizado = precos/precos.iloc[0]"
      ],
      "execution_count": null,
      "outputs": []
    },
    {
      "cell_type": "code",
      "metadata": {
        "colab": {
          "base_uri": "https://localhost:8080/",
          "height": 473
        },
        "id": "ihthadVAlJWY",
        "outputId": "080b3009-be8a-45fd-9255-3da528ef6cb4"
      },
      "source": [
        "normalizado.plot(figsize = (8,8));"
      ],
      "execution_count": null,
      "outputs": [
        {
          "output_type": "display_data",
          "data": {
            "image/png": "[encoded data removed]",
            "text/plain": [
              "<Figure size 576x576 with 1 Axes>"
            ]
          },
          "metadata": {
            "needs_background": "light"
          }
        }
      ]
    },
    {
      "cell_type": "markdown",
      "metadata": {
        "id": "ygXugB2HRUTP"
      },
      "source": [
        "## 3. Simulação de uma carteira fictícia"
      ]
    },
    {
      "cell_type": "markdown",
      "metadata": {
        "id": "WjLyg_YAhNTN"
      },
      "source": [
        "Criando um dicionário com as alocações que vamos fazer para cada ativo na nossa carteira"
      ]
    },
    {
      "cell_type": "code",
      "metadata": {
        "id": "yvScK3egUh4j"
      },
      "source": [
        "compras = {'PETR4.SA': 2000, 'VALE3.SA': 2000, 'WEGE3.SA': 1500, \n",
        "           'CIEL3.SA': 2000, 'RADL3.SA': 700, 'OIBR3.SA': 300, \n",
        "           'KNRI11.SA': 700, 'SMAL11.SA': 1500, 'AAPL34.SA': 500, \n",
        "           'IVVB11.SA': 700, 'ETH-BRL': 100}\n",
        "           \n",
        "compras_df = pd.Series(data=compras, index=list(compras.keys()))"
      ],
      "execution_count": null,
      "outputs": []
    },
    {
      "cell_type": "markdown",
      "metadata": {
        "id": "PD6qNIYRhRwe"
      },
      "source": [
        "Qual o valor total da nossa carteira?"
      ]
    },
    {
      "cell_type": "code",
      "metadata": {
        "colab": {
          "base_uri": "https://localhost:8080/"
        },
        "id": "hXoBtcLGVl4T",
        "outputId": "ced3256a-bc02-461a-dd98-81d6e446844b"
      },
      "source": [
        "sum(compras.values())"
      ],
      "execution_count": null,
      "outputs": [
        {
          "output_type": "execute_result",
          "data": {
            "text/plain": [
              "12000"
            ]
          },
          "metadata": {},
          "execution_count": 229
        }
      ]
    },
    {
      "cell_type": "markdown",
      "metadata": {
        "id": "7r7Z_dvyhVp1"
      },
      "source": [
        "Obtendo preços dos ativos no primeiro dia do investimento"
      ]
    },
    {
      "cell_type": "code",
      "metadata": {
        "id": "kducAbvOTQbG"
      },
      "source": [
        "primeiro = precos.iloc[0]"
      ],
      "execution_count": null,
      "outputs": []
    },
    {
      "cell_type": "markdown",
      "metadata": {
        "id": "MLlDt8g_hbt_"
      },
      "source": [
        "Quantidade de papéis comprados de cada ativo"
      ]
    },
    {
      "cell_type": "code",
      "metadata": {
        "id": "Ch8fKAB-UtHL"
      },
      "source": [
        "qtd_acoes = compras_df/primeiro"
      ],
      "execution_count": null,
      "outputs": []
    },
    {
      "cell_type": "markdown",
      "metadata": {
        "id": "e_6vFWFHhe39"
      },
      "source": [
        "Criando um dataframe que contém a posição diária de cada ativo"
      ]
    },
    {
      "cell_type": "code",
      "metadata": {
        "id": "xip2jxnXTquR"
      },
      "source": [
        "PL = precos*qtd_acoes"
      ],
      "execution_count": null,
      "outputs": []
    },
    {
      "cell_type": "code",
      "metadata": {
        "colab": {
          "base_uri": "https://localhost:8080/",
          "height": 174
        },
        "id": "5Ylaf9YhWks8",
        "outputId": "ed26d5ae-aba4-42a6-c195-b816695662cc"
      },
      "source": [
        "PL.head(3)"
      ],
      "execution_count": null,
      "outputs": [
        {
          "output_type": "execute_result",
          "data": {
            "text/html": [
              "<div>\n",
              "<style scoped>\n",
              "    .dataframe tbody tr th:only-of-type {\n",
              "        vertical-align: middle;\n",
              "    }\n",
              "\n",
              "    .dataframe tbody tr th {\n",
              "        vertical-align: top;\n",
              "    }\n",
              "\n",
              "    .dataframe thead th {\n",
              "        text-align: right;\n",
              "    }\n",
              "</style>\n",
              "<table border=\"1\" class=\"dataframe\">\n",
              "  <thead>\n",
              "    <tr style=\"text-align: right;\">\n",
              "      <th></th>\n",
              "      <th>AAPL34.SA</th>\n",
              "      <th>CIEL3.SA</th>\n",
              "      <th>ETH-BRL</th>\n",
              "      <th>IVVB11.SA</th>\n",
              "      <th>KNRI11.SA</th>\n",
              "      <th>OIBR3.SA</th>\n",
              "      <th>PETR4.SA</th>\n",
              "      <th>RADL3.SA</th>\n",
              "      <th>SMAL11.SA</th>\n",
              "      <th>VALE3.SA</th>\n",
              "      <th>WEGE3.SA</th>\n",
              "    </tr>\n",
              "    <tr>\n",
              "      <th>Date</th>\n",
              "      <th></th>\n",
              "      <th></th>\n",
              "      <th></th>\n",
              "      <th></th>\n",
              "      <th></th>\n",
              "      <th></th>\n",
              "      <th></th>\n",
              "      <th></th>\n",
              "      <th></th>\n",
              "      <th></th>\n",
              "      <th></th>\n",
              "    </tr>\n",
              "  </thead>\n",
              "  <tbody>\n",
              "    <tr>\n",
              "      <th>2020-01-02</th>\n",
              "      <td>500.000000</td>\n",
              "      <td>2000.000000</td>\n",
              "      <td>100.000000</td>\n",
              "      <td>700.0</td>\n",
              "      <td>700.000000</td>\n",
              "      <td>300.000000</td>\n",
              "      <td>2000.000000</td>\n",
              "      <td>700.000000</td>\n",
              "      <td>1500.000000</td>\n",
              "      <td>2000.000000</td>\n",
              "      <td>1500.000000</td>\n",
              "    </tr>\n",
              "    <tr>\n",
              "      <th>2020-01-03</th>\n",
              "      <td>500.988934</td>\n",
              "      <td>1974.329512</td>\n",
              "      <td>105.493049</td>\n",
              "      <td>700.0</td>\n",
              "      <td>700.000000</td>\n",
              "      <td>300.000000</td>\n",
              "      <td>1983.713346</td>\n",
              "      <td>684.394369</td>\n",
              "      <td>1515.053698</td>\n",
              "      <td>1985.274937</td>\n",
              "      <td>1480.845444</td>\n",
              "    </tr>\n",
              "    <tr>\n",
              "      <th>2020-01-06</th>\n",
              "      <td>503.461333</td>\n",
              "      <td>1925.321169</td>\n",
              "      <td>114.407254</td>\n",
              "      <td>700.0</td>\n",
              "      <td>694.318601</td>\n",
              "      <td>320.930233</td>\n",
              "      <td>2007.166024</td>\n",
              "      <td>670.922280</td>\n",
              "      <td>1495.698990</td>\n",
              "      <td>1973.495059</td>\n",
              "      <td>1484.676488</td>\n",
              "    </tr>\n",
              "  </tbody>\n",
              "</table>\n",
              "</div>"
            ],
            "text/plain": [
              "             AAPL34.SA     CIEL3.SA  ...     VALE3.SA     WEGE3.SA\n",
              "Date                                 ...                          \n",
              "2020-01-02  500.000000  2000.000000  ...  2000.000000  1500.000000\n",
              "2020-01-03  500.988934  1974.329512  ...  1985.274937  1480.845444\n",
              "2020-01-06  503.461333  1925.321169  ...  1973.495059  1484.676488\n",
              "\n",
              "[3 rows x 11 columns]"
            ]
          },
          "metadata": {},
          "execution_count": 233
        }
      ]
    },
    {
      "cell_type": "code",
      "metadata": {
        "colab": {
          "base_uri": "https://localhost:8080/",
          "height": 238
        },
        "id": "x5dKstQCT-Sd",
        "outputId": "ba2641f3-3208-47e7-8d25-1b5cb88f9867"
      },
      "source": [
        "PL.tail()"
      ],
      "execution_count": null,
      "outputs": [
        {
          "output_type": "execute_result",
          "data": {
            "text/html": [
              "<div>\n",
              "<style scoped>\n",
              "    .dataframe tbody tr th:only-of-type {\n",
              "        vertical-align: middle;\n",
              "    }\n",
              "\n",
              "    .dataframe tbody tr th {\n",
              "        vertical-align: top;\n",
              "    }\n",
              "\n",
              "    .dataframe thead th {\n",
              "        text-align: right;\n",
              "    }\n",
              "</style>\n",
              "<table border=\"1\" class=\"dataframe\">\n",
              "  <thead>\n",
              "    <tr style=\"text-align: right;\">\n",
              "      <th></th>\n",
              "      <th>AAPL34.SA</th>\n",
              "      <th>CIEL3.SA</th>\n",
              "      <th>ETH-BRL</th>\n",
              "      <th>IVVB11.SA</th>\n",
              "      <th>KNRI11.SA</th>\n",
              "      <th>OIBR3.SA</th>\n",
              "      <th>PETR4.SA</th>\n",
              "      <th>RADL3.SA</th>\n",
              "      <th>SMAL11.SA</th>\n",
              "      <th>VALE3.SA</th>\n",
              "      <th>WEGE3.SA</th>\n",
              "    </tr>\n",
              "    <tr>\n",
              "      <th>Date</th>\n",
              "      <th></th>\n",
              "      <th></th>\n",
              "      <th></th>\n",
              "      <th></th>\n",
              "      <th></th>\n",
              "      <th></th>\n",
              "      <th></th>\n",
              "      <th></th>\n",
              "      <th></th>\n",
              "      <th></th>\n",
              "      <th></th>\n",
              "    </tr>\n",
              "  </thead>\n",
              "  <tbody>\n",
              "    <tr>\n",
              "      <th>2021-11-29</th>\n",
              "      <td>1509.324331</td>\n",
              "      <td>505.375231</td>\n",
              "      <td>4871.292924</td>\n",
              "      <td>2677.441077</td>\n",
              "      <td>447.670332</td>\n",
              "      <td>310.465106</td>\n",
              "      <td>2102.835938</td>\n",
              "      <td>697.865280</td>\n",
              "      <td>1189.247295</td>\n",
              "      <td>3135.531072</td>\n",
              "      <td>2810.662655</td>\n",
              "    </tr>\n",
              "    <tr>\n",
              "      <th>2021-11-30</th>\n",
              "      <td>1544.117479</td>\n",
              "      <td>505.375231</td>\n",
              "      <td>5069.109924</td>\n",
              "      <td>2644.915710</td>\n",
              "      <td>447.565126</td>\n",
              "      <td>306.976737</td>\n",
              "      <td>2099.981698</td>\n",
              "      <td>690.766208</td>\n",
              "      <td>1169.892506</td>\n",
              "      <td>3155.832935</td>\n",
              "      <td>2795.052654</td>\n",
              "    </tr>\n",
              "    <tr>\n",
              "      <th>2021-12-01</th>\n",
              "      <td>1584.263556</td>\n",
              "      <td>490.726687</td>\n",
              "      <td>5038.498640</td>\n",
              "      <td>2630.303030</td>\n",
              "      <td>449.599174</td>\n",
              "      <td>296.511631</td>\n",
              "      <td>2111.398502</td>\n",
              "      <td>673.172976</td>\n",
              "      <td>1149.462382</td>\n",
              "      <td>3168.465579</td>\n",
              "      <td>2817.600580</td>\n",
              "    </tr>\n",
              "    <tr>\n",
              "      <th>2021-12-02</th>\n",
              "      <td>1547.964865</td>\n",
              "      <td>522.465257</td>\n",
              "      <td>5017.685994</td>\n",
              "      <td>2649.158249</td>\n",
              "      <td>450.651289</td>\n",
              "      <td>296.511631</td>\n",
              "      <td>2273.362662</td>\n",
              "      <td>686.136419</td>\n",
              "      <td>1173.655930</td>\n",
              "      <td>3306.519067</td>\n",
              "      <td>2837.546619</td>\n",
              "    </tr>\n",
              "    <tr>\n",
              "      <th>2021-12-03</th>\n",
              "      <td>1535.084602</td>\n",
              "      <td>537.113801</td>\n",
              "      <td>4654.678018</td>\n",
              "      <td>2624.457958</td>\n",
              "      <td>453.246498</td>\n",
              "      <td>293.023242</td>\n",
              "      <td>2305.426984</td>\n",
              "      <td>704.346973</td>\n",
              "      <td>1194.193522</td>\n",
              "      <td>3242.455062</td>\n",
              "      <td>2842.749732</td>\n",
              "    </tr>\n",
              "  </tbody>\n",
              "</table>\n",
              "</div>"
            ],
            "text/plain": [
              "              AAPL34.SA    CIEL3.SA  ...     VALE3.SA     WEGE3.SA\n",
              "Date                                 ...                          \n",
              "2021-11-29  1509.324331  505.375231  ...  3135.531072  2810.662655\n",
              "2021-11-30  1544.117479  505.375231  ...  3155.832935  2795.052654\n",
              "2021-12-01  1584.263556  490.726687  ...  3168.465579  2817.600580\n",
              "2021-12-02  1547.964865  522.465257  ...  3306.519067  2837.546619\n",
              "2021-12-03  1535.084602  537.113801  ...  3242.455062  2842.749732\n",
              "\n",
              "[5 rows x 11 columns]"
            ]
          },
          "metadata": {},
          "execution_count": 234
        }
      ]
    },
    {
      "cell_type": "markdown",
      "metadata": {
        "id": "8ww6Ls7OhjC-"
      },
      "source": [
        "Criando uma coluna que contém a posição consolidada da nossa carteira diariamente"
      ]
    },
    {
      "cell_type": "code",
      "metadata": {
        "id": "rAWeyr0tT_QU"
      },
      "source": [
        "PL['Carteira 01'] = PL.sum(axis = 1)"
      ],
      "execution_count": null,
      "outputs": []
    },
    {
      "cell_type": "code",
      "metadata": {
        "colab": {
          "base_uri": "https://localhost:8080/",
          "height": 238
        },
        "id": "IZHg_ZGdUruQ",
        "outputId": "6da40aa1-a8f9-4020-9095-4a418b258e0e"
      },
      "source": [
        "PL.head()"
      ],
      "execution_count": null,
      "outputs": [
        {
          "output_type": "execute_result",
          "data": {
            "text/html": [
              "<div>\n",
              "<style scoped>\n",
              "    .dataframe tbody tr th:only-of-type {\n",
              "        vertical-align: middle;\n",
              "    }\n",
              "\n",
              "    .dataframe tbody tr th {\n",
              "        vertical-align: top;\n",
              "    }\n",
              "\n",
              "    .dataframe thead th {\n",
              "        text-align: right;\n",
              "    }\n",
              "</style>\n",
              "<table border=\"1\" class=\"dataframe\">\n",
              "  <thead>\n",
              "    <tr style=\"text-align: right;\">\n",
              "      <th></th>\n",
              "      <th>AAPL34.SA</th>\n",
              "      <th>CIEL3.SA</th>\n",
              "      <th>ETH-BRL</th>\n",
              "      <th>IVVB11.SA</th>\n",
              "      <th>KNRI11.SA</th>\n",
              "      <th>OIBR3.SA</th>\n",
              "      <th>PETR4.SA</th>\n",
              "      <th>RADL3.SA</th>\n",
              "      <th>SMAL11.SA</th>\n",
              "      <th>VALE3.SA</th>\n",
              "      <th>WEGE3.SA</th>\n",
              "      <th>Carteira 01</th>\n",
              "    </tr>\n",
              "    <tr>\n",
              "      <th>Date</th>\n",
              "      <th></th>\n",
              "      <th></th>\n",
              "      <th></th>\n",
              "      <th></th>\n",
              "      <th></th>\n",
              "      <th></th>\n",
              "      <th></th>\n",
              "      <th></th>\n",
              "      <th></th>\n",
              "      <th></th>\n",
              "      <th></th>\n",
              "      <th></th>\n",
              "    </tr>\n",
              "  </thead>\n",
              "  <tbody>\n",
              "    <tr>\n",
              "      <th>2020-01-02</th>\n",
              "      <td>500.000000</td>\n",
              "      <td>2000.000000</td>\n",
              "      <td>100.000000</td>\n",
              "      <td>700.0</td>\n",
              "      <td>700.000000</td>\n",
              "      <td>300.000000</td>\n",
              "      <td>2000.000000</td>\n",
              "      <td>700.000000</td>\n",
              "      <td>1500.000000</td>\n",
              "      <td>2000.000000</td>\n",
              "      <td>1500.000000</td>\n",
              "      <td>12000.000000</td>\n",
              "    </tr>\n",
              "    <tr>\n",
              "      <th>2020-01-03</th>\n",
              "      <td>500.988934</td>\n",
              "      <td>1974.329512</td>\n",
              "      <td>105.493049</td>\n",
              "      <td>700.0</td>\n",
              "      <td>700.000000</td>\n",
              "      <td>300.000000</td>\n",
              "      <td>1983.713346</td>\n",
              "      <td>684.394369</td>\n",
              "      <td>1515.053698</td>\n",
              "      <td>1985.274937</td>\n",
              "      <td>1480.845444</td>\n",
              "      <td>11930.093289</td>\n",
              "    </tr>\n",
              "    <tr>\n",
              "      <th>2020-01-06</th>\n",
              "      <td>503.461333</td>\n",
              "      <td>1925.321169</td>\n",
              "      <td>114.407254</td>\n",
              "      <td>700.0</td>\n",
              "      <td>694.318601</td>\n",
              "      <td>320.930233</td>\n",
              "      <td>2007.166024</td>\n",
              "      <td>670.922280</td>\n",
              "      <td>1495.698990</td>\n",
              "      <td>1973.495059</td>\n",
              "      <td>1484.676488</td>\n",
              "      <td>11890.397431</td>\n",
              "    </tr>\n",
              "    <tr>\n",
              "      <th>2020-01-07</th>\n",
              "      <td>504.697501</td>\n",
              "      <td>1869.312017</td>\n",
              "      <td>113.899953</td>\n",
              "      <td>700.0</td>\n",
              "      <td>697.019017</td>\n",
              "      <td>327.906970</td>\n",
              "      <td>1999.348515</td>\n",
              "      <td>661.717276</td>\n",
              "      <td>1498.924666</td>\n",
              "      <td>1987.851651</td>\n",
              "      <td>1496.169122</td>\n",
              "      <td>11856.846687</td>\n",
              "    </tr>\n",
              "    <tr>\n",
              "      <th>2020-01-08</th>\n",
              "      <td>508.941819</td>\n",
              "      <td>1827.304833</td>\n",
              "      <td>112.246260</td>\n",
              "      <td>700.0</td>\n",
              "      <td>657.565110</td>\n",
              "      <td>320.930233</td>\n",
              "      <td>1986.970462</td>\n",
              "      <td>670.556515</td>\n",
              "      <td>1486.021473</td>\n",
              "      <td>1988.219778</td>\n",
              "      <td>1439.557477</td>\n",
              "      <td>11698.313960</td>\n",
              "    </tr>\n",
              "  </tbody>\n",
              "</table>\n",
              "</div>"
            ],
            "text/plain": [
              "             AAPL34.SA     CIEL3.SA  ...     WEGE3.SA   Carteira 01\n",
              "Date                                 ...                           \n",
              "2020-01-02  500.000000  2000.000000  ...  1500.000000  12000.000000\n",
              "2020-01-03  500.988934  1974.329512  ...  1480.845444  11930.093289\n",
              "2020-01-06  503.461333  1925.321169  ...  1484.676488  11890.397431\n",
              "2020-01-07  504.697501  1869.312017  ...  1496.169122  11856.846687\n",
              "2020-01-08  508.941819  1827.304833  ...  1439.557477  11698.313960\n",
              "\n",
              "[5 rows x 12 columns]"
            ]
          },
          "metadata": {},
          "execution_count": 236
        }
      ]
    },
    {
      "cell_type": "code",
      "metadata": {
        "colab": {
          "base_uri": "https://localhost:8080/",
          "height": 238
        },
        "id": "tYIfKHq5Uudb",
        "outputId": "d9671fdc-278f-4bee-d571-21ddbc58cb04"
      },
      "source": [
        "PL.tail()"
      ],
      "execution_count": null,
      "outputs": [
        {
          "output_type": "execute_result",
          "data": {
            "text/html": [
              "<div>\n",
              "<style scoped>\n",
              "    .dataframe tbody tr th:only-of-type {\n",
              "        vertical-align: middle;\n",
              "    }\n",
              "\n",
              "    .dataframe tbody tr th {\n",
              "        vertical-align: top;\n",
              "    }\n",
              "\n",
              "    .dataframe thead th {\n",
              "        text-align: right;\n",
              "    }\n",
              "</style>\n",
              "<table border=\"1\" class=\"dataframe\">\n",
              "  <thead>\n",
              "    <tr style=\"text-align: right;\">\n",
              "      <th></th>\n",
              "      <th>AAPL34.SA</th>\n",
              "      <th>CIEL3.SA</th>\n",
              "      <th>ETH-BRL</th>\n",
              "      <th>IVVB11.SA</th>\n",
              "      <th>KNRI11.SA</th>\n",
              "      <th>OIBR3.SA</th>\n",
              "      <th>PETR4.SA</th>\n",
              "      <th>RADL3.SA</th>\n",
              "      <th>SMAL11.SA</th>\n",
              "      <th>VALE3.SA</th>\n",
              "      <th>WEGE3.SA</th>\n",
              "      <th>Carteira 01</th>\n",
              "    </tr>\n",
              "    <tr>\n",
              "      <th>Date</th>\n",
              "      <th></th>\n",
              "      <th></th>\n",
              "      <th></th>\n",
              "      <th></th>\n",
              "      <th></th>\n",
              "      <th></th>\n",
              "      <th></th>\n",
              "      <th></th>\n",
              "      <th></th>\n",
              "      <th></th>\n",
              "      <th></th>\n",
              "      <th></th>\n",
              "    </tr>\n",
              "  </thead>\n",
              "  <tbody>\n",
              "    <tr>\n",
              "      <th>2021-11-29</th>\n",
              "      <td>1509.324331</td>\n",
              "      <td>505.375231</td>\n",
              "      <td>4871.292924</td>\n",
              "      <td>2677.441077</td>\n",
              "      <td>447.670332</td>\n",
              "      <td>310.465106</td>\n",
              "      <td>2102.835938</td>\n",
              "      <td>697.865280</td>\n",
              "      <td>1189.247295</td>\n",
              "      <td>3135.531072</td>\n",
              "      <td>2810.662655</td>\n",
              "      <td>20257.711242</td>\n",
              "    </tr>\n",
              "    <tr>\n",
              "      <th>2021-11-30</th>\n",
              "      <td>1544.117479</td>\n",
              "      <td>505.375231</td>\n",
              "      <td>5069.109924</td>\n",
              "      <td>2644.915710</td>\n",
              "      <td>447.565126</td>\n",
              "      <td>306.976737</td>\n",
              "      <td>2099.981698</td>\n",
              "      <td>690.766208</td>\n",
              "      <td>1169.892506</td>\n",
              "      <td>3155.832935</td>\n",
              "      <td>2795.052654</td>\n",
              "      <td>20429.586208</td>\n",
              "    </tr>\n",
              "    <tr>\n",
              "      <th>2021-12-01</th>\n",
              "      <td>1584.263556</td>\n",
              "      <td>490.726687</td>\n",
              "      <td>5038.498640</td>\n",
              "      <td>2630.303030</td>\n",
              "      <td>449.599174</td>\n",
              "      <td>296.511631</td>\n",
              "      <td>2111.398502</td>\n",
              "      <td>673.172976</td>\n",
              "      <td>1149.462382</td>\n",
              "      <td>3168.465579</td>\n",
              "      <td>2817.600580</td>\n",
              "      <td>20410.002737</td>\n",
              "    </tr>\n",
              "    <tr>\n",
              "      <th>2021-12-02</th>\n",
              "      <td>1547.964865</td>\n",
              "      <td>522.465257</td>\n",
              "      <td>5017.685994</td>\n",
              "      <td>2649.158249</td>\n",
              "      <td>450.651289</td>\n",
              "      <td>296.511631</td>\n",
              "      <td>2273.362662</td>\n",
              "      <td>686.136419</td>\n",
              "      <td>1173.655930</td>\n",
              "      <td>3306.519067</td>\n",
              "      <td>2837.546619</td>\n",
              "      <td>20761.657983</td>\n",
              "    </tr>\n",
              "    <tr>\n",
              "      <th>2021-12-03</th>\n",
              "      <td>1535.084602</td>\n",
              "      <td>537.113801</td>\n",
              "      <td>4654.678018</td>\n",
              "      <td>2624.457958</td>\n",
              "      <td>453.246498</td>\n",
              "      <td>293.023242</td>\n",
              "      <td>2305.426984</td>\n",
              "      <td>704.346973</td>\n",
              "      <td>1194.193522</td>\n",
              "      <td>3242.455062</td>\n",
              "      <td>2842.749732</td>\n",
              "      <td>20386.776392</td>\n",
              "    </tr>\n",
              "  </tbody>\n",
              "</table>\n",
              "</div>"
            ],
            "text/plain": [
              "              AAPL34.SA    CIEL3.SA  ...     WEGE3.SA   Carteira 01\n",
              "Date                                 ...                           \n",
              "2021-11-29  1509.324331  505.375231  ...  2810.662655  20257.711242\n",
              "2021-11-30  1544.117479  505.375231  ...  2795.052654  20429.586208\n",
              "2021-12-01  1584.263556  490.726687  ...  2817.600580  20410.002737\n",
              "2021-12-02  1547.964865  522.465257  ...  2837.546619  20761.657983\n",
              "2021-12-03  1535.084602  537.113801  ...  2842.749732  20386.776392\n",
              "\n",
              "[5 rows x 12 columns]"
            ]
          },
          "metadata": {},
          "execution_count": 237
        }
      ]
    },
    {
      "cell_type": "markdown",
      "metadata": {
        "id": "BFlZaQxxTNiU"
      },
      "source": [
        "## 4. Obtendo dados do IBOV (ou outros benchmarks)"
      ]
    },
    {
      "cell_type": "markdown",
      "metadata": {
        "id": "fuOiDSQMhnQd"
      },
      "source": [
        "Obtendo dados do IBOV para comparar com a nossa carteira"
      ]
    },
    {
      "cell_type": "code",
      "metadata": {
        "colab": {
          "base_uri": "https://localhost:8080/"
        },
        "id": "Ux0eiVaGUx3m",
        "outputId": "d6c01347-e12a-483a-f2c7-5d6ef12c6dc5"
      },
      "source": [
        "dolar = yf.download('USDBRL=X', start = inicio, end = fim)"
      ],
      "execution_count": null,
      "outputs": [
        {
          "output_type": "stream",
          "name": "stdout",
          "text": [
            "\r[*********************100%***********************]  1 of 1 completed\n"
          ]
        }
      ]
    },
    {
      "cell_type": "code",
      "metadata": {
        "colab": {
          "base_uri": "https://localhost:8080/",
          "height": 238
        },
        "id": "dfC40kGbVVcm",
        "outputId": "e3cecf6f-774c-4904-b0f1-e5e7d7ebef7d"
      },
      "source": [
        "dolar.head()"
      ],
      "execution_count": null,
      "outputs": [
        {
          "output_type": "execute_result",
          "data": {
            "text/html": [
              "<div>\n",
              "<style scoped>\n",
              "    .dataframe tbody tr th:only-of-type {\n",
              "        vertical-align: middle;\n",
              "    }\n",
              "\n",
              "    .dataframe tbody tr th {\n",
              "        vertical-align: top;\n",
              "    }\n",
              "\n",
              "    .dataframe thead th {\n",
              "        text-align: right;\n",
              "    }\n",
              "</style>\n",
              "<table border=\"1\" class=\"dataframe\">\n",
              "  <thead>\n",
              "    <tr style=\"text-align: right;\">\n",
              "      <th></th>\n",
              "      <th>Open</th>\n",
              "      <th>High</th>\n",
              "      <th>Low</th>\n",
              "      <th>Close</th>\n",
              "      <th>Adj Close</th>\n",
              "      <th>Volume</th>\n",
              "    </tr>\n",
              "    <tr>\n",
              "      <th>Date</th>\n",
              "      <th></th>\n",
              "      <th></th>\n",
              "      <th></th>\n",
              "      <th></th>\n",
              "      <th></th>\n",
              "      <th></th>\n",
              "    </tr>\n",
              "  </thead>\n",
              "  <tbody>\n",
              "    <tr>\n",
              "      <th>2020-01-01</th>\n",
              "      <td>4.016786</td>\n",
              "      <td>4.018200</td>\n",
              "      <td>4.016300</td>\n",
              "      <td>4.016786</td>\n",
              "      <td>4.016786</td>\n",
              "      <td>0</td>\n",
              "    </tr>\n",
              "    <tr>\n",
              "      <th>2020-01-02</th>\n",
              "      <td>4.016300</td>\n",
              "      <td>4.038700</td>\n",
              "      <td>4.000820</td>\n",
              "      <td>4.016300</td>\n",
              "      <td>4.016300</td>\n",
              "      <td>0</td>\n",
              "    </tr>\n",
              "    <tr>\n",
              "      <th>2020-01-03</th>\n",
              "      <td>4.023700</td>\n",
              "      <td>4.067005</td>\n",
              "      <td>4.021125</td>\n",
              "      <td>4.023400</td>\n",
              "      <td>4.023400</td>\n",
              "      <td>0</td>\n",
              "    </tr>\n",
              "    <tr>\n",
              "      <th>2020-01-06</th>\n",
              "      <td>4.057000</td>\n",
              "      <td>4.066200</td>\n",
              "      <td>4.044942</td>\n",
              "      <td>4.057000</td>\n",
              "      <td>4.057000</td>\n",
              "      <td>0</td>\n",
              "    </tr>\n",
              "    <tr>\n",
              "      <th>2020-01-07</th>\n",
              "      <td>4.060500</td>\n",
              "      <td>4.090600</td>\n",
              "      <td>4.043024</td>\n",
              "      <td>4.060400</td>\n",
              "      <td>4.060400</td>\n",
              "      <td>0</td>\n",
              "    </tr>\n",
              "  </tbody>\n",
              "</table>\n",
              "</div>"
            ],
            "text/plain": [
              "                Open      High       Low     Close  Adj Close  Volume\n",
              "Date                                                                 \n",
              "2020-01-01  4.016786  4.018200  4.016300  4.016786   4.016786       0\n",
              "2020-01-02  4.016300  4.038700  4.000820  4.016300   4.016300       0\n",
              "2020-01-03  4.023700  4.067005  4.021125  4.023400   4.023400       0\n",
              "2020-01-06  4.057000  4.066200  4.044942  4.057000   4.057000       0\n",
              "2020-01-07  4.060500  4.090600  4.043024  4.060400   4.060400       0"
            ]
          },
          "metadata": {},
          "execution_count": 239
        }
      ]
    },
    {
      "cell_type": "code",
      "metadata": {
        "colab": {
          "base_uri": "https://localhost:8080/"
        },
        "id": "EWzYhlZcGsMW",
        "outputId": "2bc7462d-10f6-4050-8762-a8b12de99a5f"
      },
      "source": [
        "dolar.columns"
      ],
      "execution_count": null,
      "outputs": [
        {
          "output_type": "execute_result",
          "data": {
            "text/plain": [
              "Index(['Open', 'High', 'Low', 'Close', 'Adj Close', 'Volume'], dtype='object')"
            ]
          },
          "metadata": {},
          "execution_count": 240
        }
      ]
    },
    {
      "cell_type": "code",
      "metadata": {
        "id": "tsJ1k-bcVXOy"
      },
      "source": [
        "dolar.rename(columns = {'Adj Close': 'Dolar'}, inplace = True)"
      ],
      "execution_count": null,
      "outputs": []
    },
    {
      "cell_type": "code",
      "metadata": {
        "id": "9GVLjzwbVyhK"
      },
      "source": [
        "dolar = dolar.drop(dolar.columns[[0,1,2,3,5]], axis = 1)"
      ],
      "execution_count": null,
      "outputs": []
    },
    {
      "cell_type": "code",
      "metadata": {
        "colab": {
          "base_uri": "https://localhost:8080/",
          "height": 455
        },
        "id": "6i8sneEnWSv1",
        "outputId": "fa7f2c09-8afa-4e0c-f4df-3a578780c705"
      },
      "source": [
        "dolar"
      ],
      "execution_count": null,
      "outputs": [
        {
          "output_type": "execute_result",
          "data": {
            "text/html": [
              "<div>\n",
              "<style scoped>\n",
              "    .dataframe tbody tr th:only-of-type {\n",
              "        vertical-align: middle;\n",
              "    }\n",
              "\n",
              "    .dataframe tbody tr th {\n",
              "        vertical-align: top;\n",
              "    }\n",
              "\n",
              "    .dataframe thead th {\n",
              "        text-align: right;\n",
              "    }\n",
              "</style>\n",
              "<table border=\"1\" class=\"dataframe\">\n",
              "  <thead>\n",
              "    <tr style=\"text-align: right;\">\n",
              "      <th></th>\n",
              "      <th>Dolar</th>\n",
              "    </tr>\n",
              "    <tr>\n",
              "      <th>Date</th>\n",
              "      <th></th>\n",
              "    </tr>\n",
              "  </thead>\n",
              "  <tbody>\n",
              "    <tr>\n",
              "      <th>2020-01-01</th>\n",
              "      <td>4.016786</td>\n",
              "    </tr>\n",
              "    <tr>\n",
              "      <th>2020-01-02</th>\n",
              "      <td>4.016300</td>\n",
              "    </tr>\n",
              "    <tr>\n",
              "      <th>2020-01-03</th>\n",
              "      <td>4.023400</td>\n",
              "    </tr>\n",
              "    <tr>\n",
              "      <th>2020-01-06</th>\n",
              "      <td>4.057000</td>\n",
              "    </tr>\n",
              "    <tr>\n",
              "      <th>2020-01-07</th>\n",
              "      <td>4.060400</td>\n",
              "    </tr>\n",
              "    <tr>\n",
              "      <th>...</th>\n",
              "      <td>...</td>\n",
              "    </tr>\n",
              "    <tr>\n",
              "      <th>2021-11-29</th>\n",
              "      <td>5.607800</td>\n",
              "    </tr>\n",
              "    <tr>\n",
              "      <th>2021-11-30</th>\n",
              "      <td>5.600700</td>\n",
              "    </tr>\n",
              "    <tr>\n",
              "      <th>2021-12-01</th>\n",
              "      <td>5.620871</td>\n",
              "    </tr>\n",
              "    <tr>\n",
              "      <th>2021-12-02</th>\n",
              "      <td>5.691567</td>\n",
              "    </tr>\n",
              "    <tr>\n",
              "      <th>2021-12-03</th>\n",
              "      <td>5.643322</td>\n",
              "    </tr>\n",
              "  </tbody>\n",
              "</table>\n",
              "<p>503 rows × 1 columns</p>\n",
              "</div>"
            ],
            "text/plain": [
              "               Dolar\n",
              "Date                \n",
              "2020-01-01  4.016786\n",
              "2020-01-02  4.016300\n",
              "2020-01-03  4.023400\n",
              "2020-01-06  4.057000\n",
              "2020-01-07  4.060400\n",
              "...              ...\n",
              "2021-11-29  5.607800\n",
              "2021-11-30  5.600700\n",
              "2021-12-01  5.620871\n",
              "2021-12-02  5.691567\n",
              "2021-12-03  5.643322\n",
              "\n",
              "[503 rows x 1 columns]"
            ]
          },
          "metadata": {},
          "execution_count": 243
        }
      ]
    },
    {
      "cell_type": "markdown",
      "metadata": {
        "id": "99erBUbEhufV"
      },
      "source": [
        "Verificando se o índice dos dataframes está no formato 'data'"
      ]
    },
    {
      "cell_type": "code",
      "metadata": {
        "id": "SnlZDqSO0ygr"
      },
      "source": [
        "dolar.index = pd.to_datetime(dolar.index)"
      ],
      "execution_count": null,
      "outputs": []
    },
    {
      "cell_type": "code",
      "metadata": {
        "id": "vO8ppnFwXA2C"
      },
      "source": [
        "PL.index = pd.to_datetime(PL.index)"
      ],
      "execution_count": null,
      "outputs": []
    },
    {
      "cell_type": "markdown",
      "metadata": {
        "id": "XIywli3khsft"
      },
      "source": [
        "Juntando tudo num dataframe só"
      ]
    },
    {
      "cell_type": "code",
      "metadata": {
        "id": "7hUOrcb0WTgL"
      },
      "source": [
        "novo_df = pd.merge(dolar, PL, how = 'inner', on = 'Date')"
      ],
      "execution_count": null,
      "outputs": []
    },
    {
      "cell_type": "code",
      "metadata": {
        "colab": {
          "base_uri": "https://localhost:8080/",
          "height": 238
        },
        "id": "6GLwKN1BW0eC",
        "outputId": "5fd97cfa-7174-4a1e-f276-b2c56ce4c6d2"
      },
      "source": [
        "novo_df.head()"
      ],
      "execution_count": null,
      "outputs": [
        {
          "output_type": "execute_result",
          "data": {
            "text/html": [
              "<div>\n",
              "<style scoped>\n",
              "    .dataframe tbody tr th:only-of-type {\n",
              "        vertical-align: middle;\n",
              "    }\n",
              "\n",
              "    .dataframe tbody tr th {\n",
              "        vertical-align: top;\n",
              "    }\n",
              "\n",
              "    .dataframe thead th {\n",
              "        text-align: right;\n",
              "    }\n",
              "</style>\n",
              "<table border=\"1\" class=\"dataframe\">\n",
              "  <thead>\n",
              "    <tr style=\"text-align: right;\">\n",
              "      <th></th>\n",
              "      <th>Dolar</th>\n",
              "      <th>AAPL34.SA</th>\n",
              "      <th>CIEL3.SA</th>\n",
              "      <th>ETH-BRL</th>\n",
              "      <th>IVVB11.SA</th>\n",
              "      <th>KNRI11.SA</th>\n",
              "      <th>OIBR3.SA</th>\n",
              "      <th>PETR4.SA</th>\n",
              "      <th>RADL3.SA</th>\n",
              "      <th>SMAL11.SA</th>\n",
              "      <th>VALE3.SA</th>\n",
              "      <th>WEGE3.SA</th>\n",
              "      <th>Carteira 01</th>\n",
              "    </tr>\n",
              "    <tr>\n",
              "      <th>Date</th>\n",
              "      <th></th>\n",
              "      <th></th>\n",
              "      <th></th>\n",
              "      <th></th>\n",
              "      <th></th>\n",
              "      <th></th>\n",
              "      <th></th>\n",
              "      <th></th>\n",
              "      <th></th>\n",
              "      <th></th>\n",
              "      <th></th>\n",
              "      <th></th>\n",
              "      <th></th>\n",
              "    </tr>\n",
              "  </thead>\n",
              "  <tbody>\n",
              "    <tr>\n",
              "      <th>2020-01-02</th>\n",
              "      <td>4.0163</td>\n",
              "      <td>500.000000</td>\n",
              "      <td>2000.000000</td>\n",
              "      <td>100.000000</td>\n",
              "      <td>700.0</td>\n",
              "      <td>700.000000</td>\n",
              "      <td>300.000000</td>\n",
              "      <td>2000.000000</td>\n",
              "      <td>700.000000</td>\n",
              "      <td>1500.000000</td>\n",
              "      <td>2000.000000</td>\n",
              "      <td>1500.000000</td>\n",
              "      <td>12000.000000</td>\n",
              "    </tr>\n",
              "    <tr>\n",
              "      <th>2020-01-03</th>\n",
              "      <td>4.0234</td>\n",
              "      <td>500.988934</td>\n",
              "      <td>1974.329512</td>\n",
              "      <td>105.493049</td>\n",
              "      <td>700.0</td>\n",
              "      <td>700.000000</td>\n",
              "      <td>300.000000</td>\n",
              "      <td>1983.713346</td>\n",
              "      <td>684.394369</td>\n",
              "      <td>1515.053698</td>\n",
              "      <td>1985.274937</td>\n",
              "      <td>1480.845444</td>\n",
              "      <td>11930.093289</td>\n",
              "    </tr>\n",
              "    <tr>\n",
              "      <th>2020-01-06</th>\n",
              "      <td>4.0570</td>\n",
              "      <td>503.461333</td>\n",
              "      <td>1925.321169</td>\n",
              "      <td>114.407254</td>\n",
              "      <td>700.0</td>\n",
              "      <td>694.318601</td>\n",
              "      <td>320.930233</td>\n",
              "      <td>2007.166024</td>\n",
              "      <td>670.922280</td>\n",
              "      <td>1495.698990</td>\n",
              "      <td>1973.495059</td>\n",
              "      <td>1484.676488</td>\n",
              "      <td>11890.397431</td>\n",
              "    </tr>\n",
              "    <tr>\n",
              "      <th>2020-01-07</th>\n",
              "      <td>4.0604</td>\n",
              "      <td>504.697501</td>\n",
              "      <td>1869.312017</td>\n",
              "      <td>113.899953</td>\n",
              "      <td>700.0</td>\n",
              "      <td>697.019017</td>\n",
              "      <td>327.906970</td>\n",
              "      <td>1999.348515</td>\n",
              "      <td>661.717276</td>\n",
              "      <td>1498.924666</td>\n",
              "      <td>1987.851651</td>\n",
              "      <td>1496.169122</td>\n",
              "      <td>11856.846687</td>\n",
              "    </tr>\n",
              "    <tr>\n",
              "      <th>2020-01-08</th>\n",
              "      <td>4.0662</td>\n",
              "      <td>508.941819</td>\n",
              "      <td>1827.304833</td>\n",
              "      <td>112.246260</td>\n",
              "      <td>700.0</td>\n",
              "      <td>657.565110</td>\n",
              "      <td>320.930233</td>\n",
              "      <td>1986.970462</td>\n",
              "      <td>670.556515</td>\n",
              "      <td>1486.021473</td>\n",
              "      <td>1988.219778</td>\n",
              "      <td>1439.557477</td>\n",
              "      <td>11698.313960</td>\n",
              "    </tr>\n",
              "  </tbody>\n",
              "</table>\n",
              "</div>"
            ],
            "text/plain": [
              "             Dolar   AAPL34.SA  ...     WEGE3.SA   Carteira 01\n",
              "Date                            ...                           \n",
              "2020-01-02  4.0163  500.000000  ...  1500.000000  12000.000000\n",
              "2020-01-03  4.0234  500.988934  ...  1480.845444  11930.093289\n",
              "2020-01-06  4.0570  503.461333  ...  1484.676488  11890.397431\n",
              "2020-01-07  4.0604  504.697501  ...  1496.169122  11856.846687\n",
              "2020-01-08  4.0662  508.941819  ...  1439.557477  11698.313960\n",
              "\n",
              "[5 rows x 13 columns]"
            ]
          },
          "metadata": {},
          "execution_count": 247
        }
      ]
    },
    {
      "cell_type": "markdown",
      "metadata": {
        "id": "8gCga6PKhzyl"
      },
      "source": [
        "Normalizando esse novo dataframe que contém o IBOV, todos os ativos e o PL da nossa carteira"
      ]
    },
    {
      "cell_type": "code",
      "metadata": {
        "id": "wsB4ZEeNXSyg"
      },
      "source": [
        "PL_normalizado = novo_df/novo_df.iloc[0]"
      ],
      "execution_count": null,
      "outputs": []
    },
    {
      "cell_type": "code",
      "metadata": {
        "colab": {
          "base_uri": "https://localhost:8080/",
          "height": 238
        },
        "id": "gLpphux5Xk1T",
        "outputId": "efefbc99-e315-4efa-8632-f8427eedb976"
      },
      "source": [
        "PL_normalizado.head()"
      ],
      "execution_count": null,
      "outputs": [
        {
          "output_type": "execute_result",
          "data": {
            "text/html": [
              "<div>\n",
              "<style scoped>\n",
              "    .dataframe tbody tr th:only-of-type {\n",
              "        vertical-align: middle;\n",
              "    }\n",
              "\n",
              "    .dataframe tbody tr th {\n",
              "        vertical-align: top;\n",
              "    }\n",
              "\n",
              "    .dataframe thead th {\n",
              "        text-align: right;\n",
              "    }\n",
              "</style>\n",
              "<table border=\"1\" class=\"dataframe\">\n",
              "  <thead>\n",
              "    <tr style=\"text-align: right;\">\n",
              "      <th></th>\n",
              "      <th>Dolar</th>\n",
              "      <th>AAPL34.SA</th>\n",
              "      <th>CIEL3.SA</th>\n",
              "      <th>ETH-BRL</th>\n",
              "      <th>IVVB11.SA</th>\n",
              "      <th>KNRI11.SA</th>\n",
              "      <th>OIBR3.SA</th>\n",
              "      <th>PETR4.SA</th>\n",
              "      <th>RADL3.SA</th>\n",
              "      <th>SMAL11.SA</th>\n",
              "      <th>VALE3.SA</th>\n",
              "      <th>WEGE3.SA</th>\n",
              "      <th>Carteira 01</th>\n",
              "    </tr>\n",
              "    <tr>\n",
              "      <th>Date</th>\n",
              "      <th></th>\n",
              "      <th></th>\n",
              "      <th></th>\n",
              "      <th></th>\n",
              "      <th></th>\n",
              "      <th></th>\n",
              "      <th></th>\n",
              "      <th></th>\n",
              "      <th></th>\n",
              "      <th></th>\n",
              "      <th></th>\n",
              "      <th></th>\n",
              "      <th></th>\n",
              "    </tr>\n",
              "  </thead>\n",
              "  <tbody>\n",
              "    <tr>\n",
              "      <th>2020-01-02</th>\n",
              "      <td>1.000000</td>\n",
              "      <td>1.000000</td>\n",
              "      <td>1.000000</td>\n",
              "      <td>1.000000</td>\n",
              "      <td>1.0</td>\n",
              "      <td>1.000000</td>\n",
              "      <td>1.000000</td>\n",
              "      <td>1.000000</td>\n",
              "      <td>1.000000</td>\n",
              "      <td>1.000000</td>\n",
              "      <td>1.000000</td>\n",
              "      <td>1.000000</td>\n",
              "      <td>1.000000</td>\n",
              "    </tr>\n",
              "    <tr>\n",
              "      <th>2020-01-03</th>\n",
              "      <td>1.001768</td>\n",
              "      <td>1.001978</td>\n",
              "      <td>0.987165</td>\n",
              "      <td>1.054930</td>\n",
              "      <td>1.0</td>\n",
              "      <td>1.000000</td>\n",
              "      <td>1.000000</td>\n",
              "      <td>0.991857</td>\n",
              "      <td>0.977706</td>\n",
              "      <td>1.010036</td>\n",
              "      <td>0.992637</td>\n",
              "      <td>0.987230</td>\n",
              "      <td>0.994174</td>\n",
              "    </tr>\n",
              "    <tr>\n",
              "      <th>2020-01-06</th>\n",
              "      <td>1.010134</td>\n",
              "      <td>1.006923</td>\n",
              "      <td>0.962661</td>\n",
              "      <td>1.144073</td>\n",
              "      <td>1.0</td>\n",
              "      <td>0.991884</td>\n",
              "      <td>1.069767</td>\n",
              "      <td>1.003583</td>\n",
              "      <td>0.958460</td>\n",
              "      <td>0.997133</td>\n",
              "      <td>0.986748</td>\n",
              "      <td>0.989784</td>\n",
              "      <td>0.990866</td>\n",
              "    </tr>\n",
              "    <tr>\n",
              "      <th>2020-01-07</th>\n",
              "      <td>1.010980</td>\n",
              "      <td>1.009395</td>\n",
              "      <td>0.934656</td>\n",
              "      <td>1.139000</td>\n",
              "      <td>1.0</td>\n",
              "      <td>0.995741</td>\n",
              "      <td>1.093023</td>\n",
              "      <td>0.999674</td>\n",
              "      <td>0.945310</td>\n",
              "      <td>0.999283</td>\n",
              "      <td>0.993926</td>\n",
              "      <td>0.997446</td>\n",
              "      <td>0.988071</td>\n",
              "    </tr>\n",
              "    <tr>\n",
              "      <th>2020-01-08</th>\n",
              "      <td>1.012424</td>\n",
              "      <td>1.017884</td>\n",
              "      <td>0.913652</td>\n",
              "      <td>1.122463</td>\n",
              "      <td>1.0</td>\n",
              "      <td>0.939379</td>\n",
              "      <td>1.069767</td>\n",
              "      <td>0.993485</td>\n",
              "      <td>0.957938</td>\n",
              "      <td>0.990681</td>\n",
              "      <td>0.994110</td>\n",
              "      <td>0.959705</td>\n",
              "      <td>0.974859</td>\n",
              "    </tr>\n",
              "  </tbody>\n",
              "</table>\n",
              "</div>"
            ],
            "text/plain": [
              "               Dolar  AAPL34.SA  CIEL3.SA  ...  VALE3.SA  WEGE3.SA  Carteira 01\n",
              "Date                                       ...                                 \n",
              "2020-01-02  1.000000   1.000000  1.000000  ...  1.000000  1.000000     1.000000\n",
              "2020-01-03  1.001768   1.001978  0.987165  ...  0.992637  0.987230     0.994174\n",
              "2020-01-06  1.010134   1.006923  0.962661  ...  0.986748  0.989784     0.990866\n",
              "2020-01-07  1.010980   1.009395  0.934656  ...  0.993926  0.997446     0.988071\n",
              "2020-01-08  1.012424   1.017884  0.913652  ...  0.994110  0.959705     0.974859\n",
              "\n",
              "[5 rows x 13 columns]"
            ]
          },
          "metadata": {},
          "execution_count": 249
        }
      ]
    },
    {
      "cell_type": "code",
      "metadata": {
        "colab": {
          "base_uri": "https://localhost:8080/",
          "height": 238
        },
        "id": "qV56DhMXX0YJ",
        "outputId": "5da57331-d2d1-4434-f857-7910f1c7d644"
      },
      "source": [
        "PL_normalizado.tail()"
      ],
      "execution_count": null,
      "outputs": [
        {
          "output_type": "execute_result",
          "data": {
            "text/html": [
              "<div>\n",
              "<style scoped>\n",
              "    .dataframe tbody tr th:only-of-type {\n",
              "        vertical-align: middle;\n",
              "    }\n",
              "\n",
              "    .dataframe tbody tr th {\n",
              "        vertical-align: top;\n",
              "    }\n",
              "\n",
              "    .dataframe thead th {\n",
              "        text-align: right;\n",
              "    }\n",
              "</style>\n",
              "<table border=\"1\" class=\"dataframe\">\n",
              "  <thead>\n",
              "    <tr style=\"text-align: right;\">\n",
              "      <th></th>\n",
              "      <th>Dolar</th>\n",
              "      <th>AAPL34.SA</th>\n",
              "      <th>CIEL3.SA</th>\n",
              "      <th>ETH-BRL</th>\n",
              "      <th>IVVB11.SA</th>\n",
              "      <th>KNRI11.SA</th>\n",
              "      <th>OIBR3.SA</th>\n",
              "      <th>PETR4.SA</th>\n",
              "      <th>RADL3.SA</th>\n",
              "      <th>SMAL11.SA</th>\n",
              "      <th>VALE3.SA</th>\n",
              "      <th>WEGE3.SA</th>\n",
              "      <th>Carteira 01</th>\n",
              "    </tr>\n",
              "    <tr>\n",
              "      <th>Date</th>\n",
              "      <th></th>\n",
              "      <th></th>\n",
              "      <th></th>\n",
              "      <th></th>\n",
              "      <th></th>\n",
              "      <th></th>\n",
              "      <th></th>\n",
              "      <th></th>\n",
              "      <th></th>\n",
              "      <th></th>\n",
              "      <th></th>\n",
              "      <th></th>\n",
              "      <th></th>\n",
              "    </tr>\n",
              "  </thead>\n",
              "  <tbody>\n",
              "    <tr>\n",
              "      <th>2021-11-29</th>\n",
              "      <td>1.396260</td>\n",
              "      <td>3.018649</td>\n",
              "      <td>0.252688</td>\n",
              "      <td>48.712929</td>\n",
              "      <td>3.824916</td>\n",
              "      <td>0.639529</td>\n",
              "      <td>1.034884</td>\n",
              "      <td>1.051418</td>\n",
              "      <td>0.996950</td>\n",
              "      <td>0.792832</td>\n",
              "      <td>1.567766</td>\n",
              "      <td>1.873775</td>\n",
              "      <td>1.688143</td>\n",
              "    </tr>\n",
              "    <tr>\n",
              "      <th>2021-11-30</th>\n",
              "      <td>1.394492</td>\n",
              "      <td>3.088235</td>\n",
              "      <td>0.252688</td>\n",
              "      <td>50.691099</td>\n",
              "      <td>3.778451</td>\n",
              "      <td>0.639379</td>\n",
              "      <td>1.023256</td>\n",
              "      <td>1.049991</td>\n",
              "      <td>0.986809</td>\n",
              "      <td>0.779928</td>\n",
              "      <td>1.577916</td>\n",
              "      <td>1.863368</td>\n",
              "      <td>1.702466</td>\n",
              "    </tr>\n",
              "    <tr>\n",
              "      <th>2021-12-01</th>\n",
              "      <td>1.399515</td>\n",
              "      <td>3.168527</td>\n",
              "      <td>0.245363</td>\n",
              "      <td>50.384986</td>\n",
              "      <td>3.757576</td>\n",
              "      <td>0.642285</td>\n",
              "      <td>0.988372</td>\n",
              "      <td>1.055699</td>\n",
              "      <td>0.961676</td>\n",
              "      <td>0.766308</td>\n",
              "      <td>1.584233</td>\n",
              "      <td>1.878400</td>\n",
              "      <td>1.700834</td>\n",
              "    </tr>\n",
              "    <tr>\n",
              "      <th>2021-12-02</th>\n",
              "      <td>1.417117</td>\n",
              "      <td>3.095930</td>\n",
              "      <td>0.261233</td>\n",
              "      <td>50.176860</td>\n",
              "      <td>3.784512</td>\n",
              "      <td>0.643788</td>\n",
              "      <td>0.988372</td>\n",
              "      <td>1.136681</td>\n",
              "      <td>0.980195</td>\n",
              "      <td>0.782437</td>\n",
              "      <td>1.653260</td>\n",
              "      <td>1.891698</td>\n",
              "      <td>1.730138</td>\n",
              "    </tr>\n",
              "    <tr>\n",
              "      <th>2021-12-03</th>\n",
              "      <td>1.405105</td>\n",
              "      <td>3.070169</td>\n",
              "      <td>0.268557</td>\n",
              "      <td>46.546780</td>\n",
              "      <td>3.749226</td>\n",
              "      <td>0.647495</td>\n",
              "      <td>0.976744</td>\n",
              "      <td>1.152713</td>\n",
              "      <td>1.006210</td>\n",
              "      <td>0.796129</td>\n",
              "      <td>1.621228</td>\n",
              "      <td>1.895166</td>\n",
              "      <td>1.698898</td>\n",
              "    </tr>\n",
              "  </tbody>\n",
              "</table>\n",
              "</div>"
            ],
            "text/plain": [
              "               Dolar  AAPL34.SA  CIEL3.SA  ...  VALE3.SA  WEGE3.SA  Carteira 01\n",
              "Date                                       ...                                 \n",
              "2021-11-29  1.396260   3.018649  0.252688  ...  1.567766  1.873775     1.688143\n",
              "2021-11-30  1.394492   3.088235  0.252688  ...  1.577916  1.863368     1.702466\n",
              "2021-12-01  1.399515   3.168527  0.245363  ...  1.584233  1.878400     1.700834\n",
              "2021-12-02  1.417117   3.095930  0.261233  ...  1.653260  1.891698     1.730138\n",
              "2021-12-03  1.405105   3.070169  0.268557  ...  1.621228  1.895166     1.698898\n",
              "\n",
              "[5 rows x 13 columns]"
            ]
          },
          "metadata": {},
          "execution_count": 250
        }
      ]
    },
    {
      "cell_type": "markdown",
      "metadata": {
        "id": "2U2vt34Rh49d"
      },
      "source": [
        "Plot da nossa carteira vs. o IBOV"
      ]
    },
    {
      "cell_type": "code",
      "metadata": {
        "colab": {
          "base_uri": "https://localhost:8080/",
          "height": 571
        },
        "id": "n-EFVvb9X12F",
        "outputId": "ba2edb90-4681-45fc-b627-618ca48ca4fc"
      },
      "source": [
        "PL_normalizado[['Dolar', 'Carteira 01']].plot(figsize = (10,10));"
      ],
      "execution_count": null,
      "outputs": [
        {
          "output_type": "display_data",
          "data": {
            "image/png": "[encoded data removed]",
            "text/plain": [
              "<Figure size 720x720 with 1 Axes>"
            ]
          },
          "metadata": {
            "needs_background": "light"
          }
        }
      ]
    },
    {
      "cell_type": "markdown",
      "metadata": {
        "id": "G_oa3Tc5YDC9"
      },
      "source": [
        "## Carteira 02"
      ]
    },
    {
      "cell_type": "code",
      "source": [
        "ativos02 = ['PETR4.SA','VALE3.SA', 'WEGE3.SA', \n",
        "          'RADL3.SA', 'OIBR3.SA','KNRI11.SA',\n",
        "          'SMAL11.SA','AAPL34.SA','IVVB11.SA', 'CIEL3.SA']\n",
        "\n",
        "precos = pd.DataFrame()\n",
        "\n",
        "for i in ativos02:\n",
        "  precos[i] = yf.download(i, start = inicio, end = fim)['Adj Close']\n",
        "\n",
        "\n",
        "compras02 = {'PETR4.SA': 2000, 'VALE3.SA': 2000, 'WEGE3.SA': 1500, \n",
        "           'RADL3.SA': 700, 'OIBR3.SA': 200, 'KNRI11.SA': 700, \n",
        "           'SMAL11.SA': 1500, 'AAPL34.SA': 500, 'IVVB11.SA': 700, 'CIEL3.SA': 2000}\n",
        "           \n",
        "compras_df02 = pd.Series(data=compras02, index=list(compras02.keys()))\n",
        "\n",
        "primeiro02 = precos.iloc[0]\n",
        "\n",
        "qtd_acoes02 = compras_df02/primeiro02\n",
        "\n",
        "PL02 = precos*qtd_acoes02\n",
        "\n",
        "PL02['Carteira 02'] = PL02.sum(axis = 1)\n",
        "\n",
        "nova_02 = pd.merge(novo_df, PL02, how = 'inner', on = 'Date')"
      ],
      "metadata": {
        "id": "FL9pWhq5A3Md"
      },
      "execution_count": null,
      "outputs": []
    },
    {
      "cell_type": "markdown",
      "source": [
        "## Carteira 03"
      ],
      "metadata": {
        "id": "FnGb5asGA4oz"
      }
    },
    {
      "cell_type": "code",
      "metadata": {
        "colab": {
          "base_uri": "https://localhost:8080/"
        },
        "id": "TjYq94KuHsgw",
        "outputId": "b5d4e6bf-2910-4b59-e3fd-01529ffabe68"
      },
      "source": [
        "ativos03 = ['PETR4.SA','VALE3.SA', 'WEGE3.SA', \n",
        "          'RADL3.SA', 'OIBR3.SA','KNRI11.SA',\n",
        "          'SMAL11.SA', 'CIEL3.SA']\n",
        "\n",
        "precos = pd.DataFrame()\n",
        "\n",
        "for i in ativos03:\n",
        "  precos[i] = yf.download(i, start = inicio, end = fim)['Adj Close']\n",
        "\n",
        "\n",
        "compras03 = {'PETR4.SA': 1000, 'VALE3.SA': 700, 'WEGE3.SA': 1500, \n",
        "           'RADL3.SA': 700, 'OIBR3.SA': 200, 'KNRI11.SA': 700, \n",
        "           'SMAL11.SA': 1500, 'CIEL3.SA': 2000}\n",
        "           \n",
        "compras_df03 = pd.Series(data=compras03, index=list(compras02.keys()))\n",
        "\n",
        "primeiro03 = precos.iloc[0]\n",
        "\n",
        "qtd_acoes03 = compras_df03/primeiro03\n",
        "\n",
        "PL03 = precos*qtd_acoes03\n",
        "\n",
        "PL03['Carteira 03'] = PL03.sum(axis = 1)\n",
        "\n",
        "nova_03 = pd.merge(nova_02, PL03, how = 'inner', on = 'Date')\n",
        "\n",
        "PL_normalizado_03 = nova_03/nova_03.iloc[0]"
      ],
      "execution_count": null,
      "outputs": [
        {
          "output_type": "stream",
          "name": "stdout",
          "text": [
            "[*********************100%***********************]  1 of 1 completed\n",
            "[*********************100%***********************]  1 of 1 completed\n",
            "[*********************100%***********************]  1 of 1 completed\n",
            "[*********************100%***********************]  1 of 1 completed\n",
            "[*********************100%***********************]  1 of 1 completed\n",
            "[*********************100%***********************]  1 of 1 completed\n",
            "[*********************100%***********************]  1 of 1 completed\n",
            "[*********************100%***********************]  1 of 1 completed\n",
            "[*********************100%***********************]  1 of 1 completed\n",
            "[*********************100%***********************]  1 of 1 completed\n",
            "[*********************100%***********************]  1 of 1 completed\n",
            "[*********************100%***********************]  1 of 1 completed\n",
            "[*********************100%***********************]  1 of 1 completed\n",
            "[*********************100%***********************]  1 of 1 completed\n",
            "[*********************100%***********************]  1 of 1 completed\n",
            "[*********************100%***********************]  1 of 1 completed\n",
            "[*********************100%***********************]  1 of 1 completed\n",
            "[*********************100%***********************]  1 of 1 completed\n"
          ]
        }
      ]
    },
    {
      "cell_type": "code",
      "metadata": {
        "colab": {
          "base_uri": "https://localhost:8080/",
          "height": 571
        },
        "id": "8Z704vJNIhjS",
        "outputId": "e781ab25-3542-45ab-9de3-67200a10bf96"
      },
      "source": [
        "PL_normalizado_03[['Dolar', 'Carteira 01', 'Carteira 02', 'Carteira 03']].plot(figsize = (10,10));"
      ],
      "execution_count": null,
      "outputs": [
        {
          "output_type": "display_data",
          "data": {
            "image/png": "[encoded data removed]",
            "text/plain": [
              "<Figure size 720x720 with 1 Axes>"
            ]
          },
          "metadata": {
            "needs_background": "light"
          }
        }
      ]
    },
    {
      "cell_type": "code",
      "metadata": {
        "id": "Q0OkgoFGJb42"
      },
      "source": [
        ""
      ],
      "execution_count": null,
      "outputs": []
    }
  ]
}