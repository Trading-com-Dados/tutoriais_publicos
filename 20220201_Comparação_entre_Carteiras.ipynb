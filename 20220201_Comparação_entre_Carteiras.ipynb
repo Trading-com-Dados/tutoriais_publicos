{
  "cells": [
    {
      "cell_type": "markdown",
      "metadata": {
        "colab_type": "text",
        "id": "view-in-github"
      },
      "source": [
        "<a href=\"https://colab.research.google.com/github/Trading-com-Dados/tutoriais_publicos/blob/main/20220201_Compara%C3%A7%C3%A3o_Carteiras.ipynb\" target=\"_parent\"><img src=\"https://colab.research.google.com/assets/colab-badge.svg\" alt=\"Open In Colab\"/></a>"
      ]
    },
    {
      "cell_type": "markdown",
      "metadata": {
        "id": "cPHJmLsAS5Js"
      },
      "source": [
        "# Código para comparação de três carteiras fictícias"
      ]
    },
    {
      "cell_type": "markdown",
      "metadata": {},
      "source": [
        "01/02/22\n",
        "\n",
        "Código original de um tutorial criado para nosso Instagram. \n",
        "\n",
        "Link para o tutorial: https://www.instagram.com/p/CZdCpJEorLs/"
      ]
    },
    {
      "cell_type": "markdown",
      "metadata": {},
      "source": [
        "Neste código, vamos testar 3 combinações de alocações de ativos diferentes, ou seja, 3 carteiras de investimento.\n",
        "\n",
        "Por fim, estas carteiras serão comparadas com o IBOV."
      ]
    },
    {
      "cell_type": "markdown",
      "metadata": {},
      "source": [
        "As carteiras serão criadas de acordo com as seguintes estratégias:\n",
        "\n",
        "<b>* Carteira 01</b> - Ações que compõem a maior parte do IBOV\n",
        "\n",
        "    Composição: 'ITUB4.SA','VALE3.SA', 'MGLU3.SA','PETR4.SA', \n",
        "          'BBDC4.SA', 'B3SA3.SA','ABEV3.SA','BPAC11.SA',\n",
        "          'BBAS3.SA','CSAN3.SA','RENT3.SA', 'LREN3.SA'\n",
        "\n",
        "Carteira 02 - Ações, ETFs, FIIs e BDRs aleatórios\n",
        "\n",
        "    ativos02 = ['BPAN4.SA','VALE3.SA', 'WEGE3.SA','TOTS3.SA', 'BPAC11.SA',\n",
        "                'KNRI11.SA','SMAL11.SA','AAPL34.SA','IVVB11.SA', 'TSLA34.SA']\n",
        "\n",
        "\n",
        "Carteira 03 - Exposição a ETF de S&P 500, BDRs, e ações de exportadoras brasileiras\n",
        "\n",
        "    ativos03 = ['IVVB11.SA','GOGL34.SA', 'COCA34.SA','MSFT34.SA', 'WEGE3.SA',\n",
        "                'VALE3.SA','PETR4.SA', 'SUZB3.SA', 'JBSS3.SA']"
      ]
    },
    {
      "cell_type": "markdown",
      "metadata": {
        "id": "GiqLrjMJGDnZ"
      },
      "source": [
        "## 1. Instalando e importando bibliotecas"
      ]
    },
    {
      "cell_type": "markdown",
      "metadata": {},
      "source": [
        "A única biblioteca que normalmente precisamos instalar é a <b>yfinance</b>"
      ]
    },
    {
      "cell_type": "code",
      "execution_count": 29,
      "metadata": {
        "colab": {
          "base_uri": "https://localhost:8080/"
        },
        "id": "d81aLa1XGOvh",
        "outputId": "5e5271f0-5580-405f-f0d4-a9d7b0537fc9"
      },
      "outputs": [
        {
          "name": "stdout",
          "output_type": "stream",
          "text": [
            "Requirement already satisfied: yfinance in c:\\programdata\\anaconda3\\lib\\site-packages (0.1.67)\n",
            "Requirement already satisfied: requests>=2.20 in c:\\programdata\\anaconda3\\lib\\site-packages (from yfinance) (2.24.0)\n",
            "Requirement already satisfied: numpy>=1.15 in c:\\programdata\\anaconda3\\lib\\site-packages (from yfinance) (1.19.2)\n",
            "Requirement already satisfied: pandas>=0.24 in c:\\programdata\\anaconda3\\lib\\site-packages (from yfinance) (1.1.3)\n",
            "Requirement already satisfied: lxml>=4.5.1 in c:\\programdata\\anaconda3\\lib\\site-packages (from yfinance) (4.6.1)\n",
            "Requirement already satisfied: multitasking>=0.0.7 in c:\\programdata\\anaconda3\\lib\\site-packages (from yfinance) (0.0.9)\n",
            "Requirement already satisfied: certifi>=2017.4.17 in c:\\programdata\\anaconda3\\lib\\site-packages (from requests>=2.20->yfinance) (2020.6.20)\n",
            "Requirement already satisfied: chardet<4,>=3.0.2 in c:\\programdata\\anaconda3\\lib\\site-packages (from requests>=2.20->yfinance) (3.0.4)\n",
            "Requirement already satisfied: idna<3,>=2.5 in c:\\programdata\\anaconda3\\lib\\site-packages (from requests>=2.20->yfinance) (2.10)\n",
            "Requirement already satisfied: urllib3!=1.25.0,!=1.25.1,<1.26,>=1.21.1 in c:\\programdata\\anaconda3\\lib\\site-packages (from requests>=2.20->yfinance) (1.25.11)\n",
            "Requirement already satisfied: python-dateutil>=2.7.3 in c:\\programdata\\anaconda3\\lib\\site-packages (from pandas>=0.24->yfinance) (2.8.1)\n",
            "Requirement already satisfied: pytz>=2017.2 in c:\\programdata\\anaconda3\\lib\\site-packages (from pandas>=0.24->yfinance) (2020.1)\n",
            "Requirement already satisfied: six>=1.5 in c:\\programdata\\anaconda3\\lib\\site-packages (from python-dateutil>=2.7.3->pandas>=0.24->yfinance) (1.15.0)\n"
          ]
        }
      ],
      "source": [
        "!pip install yfinance"
      ]
    },
    {
      "cell_type": "code",
      "execution_count": 2,
      "metadata": {
        "id": "RepZm8AQGnKe"
      },
      "outputs": [],
      "source": [
        "import yfinance as yf\n",
        "import pandas as pd\n",
        "import numpy as np\n",
        "from functools import reduce"
      ]
    },
    {
      "cell_type": "markdown",
      "metadata": {
        "id": "z6m9axgvGrfU"
      },
      "source": [
        "## 2. Importando dados para a Carteira 01"
      ]
    },
    {
      "cell_type": "markdown",
      "metadata": {
        "id": "au3zh1hsgSWx"
      },
      "source": [
        "Repare que vou importar também os dados da cotação do dólar. Posteriormente vou converter a cotação do Ethereum para reais, por isso que estou trazendo a cotação do dólar."
      ]
    },
    {
      "cell_type": "code",
      "execution_count": 3,
      "metadata": {
        "id": "0afxh-iuGype"
      },
      "outputs": [],
      "source": [
        "ativos01 = ['ITUB4.SA','VALE3.SA', 'MGLU3.SA','PETR4.SA', \n",
        "          'BBDC4.SA', 'B3SA3.SA','ABEV3.SA','BPAC11.SA',\n",
        "          'BBAS3.SA','CSAN3.SA','RENT3.SA', 'LREN3.SA']"
      ]
    },
    {
      "cell_type": "code",
      "execution_count": 4,
      "metadata": {
        "id": "dnaRWJI2HFtf"
      },
      "outputs": [],
      "source": [
        "inicio = '2020-01-05'\n",
        "fim = '2021-12-05'"
      ]
    },
    {
      "cell_type": "code",
      "execution_count": 5,
      "metadata": {
        "colab": {
          "base_uri": "https://localhost:8080/"
        },
        "id": "eO3cxmb4T2ho",
        "outputId": "12f5c02f-b4cf-4892-ea46-ad06ba4065f7"
      },
      "outputs": [
        {
          "name": "stdout",
          "output_type": "stream",
          "text": [
            "[*********************100%***********************]  12 of 12 completed\n"
          ]
        }
      ],
      "source": [
        "precos = yf.download(ativos01, start = inicio, end = fim)['Adj Close']"
      ]
    },
    {
      "cell_type": "code",
      "execution_count": 6,
      "metadata": {
        "colab": {
          "base_uri": "https://localhost:8080/",
          "height": 238
        },
        "id": "NA6Qylc3UAju",
        "outputId": "01448df9-6be9-48ff-d240-d866018a877a"
      },
      "outputs": [
        {
          "data": {
            "text/html": [
              "<div>\n",
              "<style scoped>\n",
              "    .dataframe tbody tr th:only-of-type {\n",
              "        vertical-align: middle;\n",
              "    }\n",
              "\n",
              "    .dataframe tbody tr th {\n",
              "        vertical-align: top;\n",
              "    }\n",
              "\n",
              "    .dataframe thead th {\n",
              "        text-align: right;\n",
              "    }\n",
              "</style>\n",
              "<table border=\"1\" class=\"dataframe\">\n",
              "  <thead>\n",
              "    <tr style=\"text-align: right;\">\n",
              "      <th></th>\n",
              "      <th>ABEV3.SA</th>\n",
              "      <th>B3SA3.SA</th>\n",
              "      <th>BBAS3.SA</th>\n",
              "      <th>BBDC4.SA</th>\n",
              "      <th>BPAC11.SA</th>\n",
              "      <th>CSAN3.SA</th>\n",
              "      <th>ITUB4.SA</th>\n",
              "      <th>LREN3.SA</th>\n",
              "      <th>MGLU3.SA</th>\n",
              "      <th>PETR4.SA</th>\n",
              "      <th>RENT3.SA</th>\n",
              "      <th>VALE3.SA</th>\n",
              "    </tr>\n",
              "    <tr>\n",
              "      <th>Date</th>\n",
              "      <th></th>\n",
              "      <th></th>\n",
              "      <th></th>\n",
              "      <th></th>\n",
              "      <th></th>\n",
              "      <th></th>\n",
              "      <th></th>\n",
              "      <th></th>\n",
              "      <th></th>\n",
              "      <th></th>\n",
              "      <th></th>\n",
              "      <th></th>\n",
              "    </tr>\n",
              "  </thead>\n",
              "  <tbody>\n",
              "    <tr>\n",
              "      <th>2020-01-06</th>\n",
              "      <td>17.749458</td>\n",
              "      <td>13.197676</td>\n",
              "      <td>47.288910</td>\n",
              "      <td>31.178711</td>\n",
              "      <td>18.262234</td>\n",
              "      <td>17.286381</td>\n",
              "      <td>34.855507</td>\n",
              "      <td>54.785282</td>\n",
              "      <td>11.932189</td>\n",
              "      <td>25.040266</td>\n",
              "      <td>47.603065</td>\n",
              "      <td>43.743118</td>\n",
              "    </tr>\n",
              "    <tr>\n",
              "      <th>2020-01-07</th>\n",
              "      <td>17.786785</td>\n",
              "      <td>13.623507</td>\n",
              "      <td>46.932007</td>\n",
              "      <td>30.637068</td>\n",
              "      <td>18.335094</td>\n",
              "      <td>17.597998</td>\n",
              "      <td>34.046894</td>\n",
              "      <td>54.756474</td>\n",
              "      <td>11.898048</td>\n",
              "      <td>24.942736</td>\n",
              "      <td>48.066002</td>\n",
              "      <td>44.061337</td>\n",
              "    </tr>\n",
              "    <tr>\n",
              "      <th>2020-01-08</th>\n",
              "      <td>17.702795</td>\n",
              "      <td>13.587008</td>\n",
              "      <td>46.503738</td>\n",
              "      <td>30.163118</td>\n",
              "      <td>18.172600</td>\n",
              "      <td>17.307789</td>\n",
              "      <td>33.492123</td>\n",
              "      <td>55.111786</td>\n",
              "      <td>12.263843</td>\n",
              "      <td>24.788319</td>\n",
              "      <td>47.829613</td>\n",
              "      <td>44.069496</td>\n",
              "    </tr>\n",
              "    <tr>\n",
              "      <th>2020-01-09</th>\n",
              "      <td>17.562817</td>\n",
              "      <td>13.580924</td>\n",
              "      <td>45.557961</td>\n",
              "      <td>29.680714</td>\n",
              "      <td>18.296291</td>\n",
              "      <td>17.122248</td>\n",
              "      <td>32.824551</td>\n",
              "      <td>54.689255</td>\n",
              "      <td>12.700356</td>\n",
              "      <td>24.707047</td>\n",
              "      <td>48.085697</td>\n",
              "      <td>43.490170</td>\n",
              "    </tr>\n",
              "    <tr>\n",
              "      <th>2020-01-10</th>\n",
              "      <td>17.628141</td>\n",
              "      <td>13.474465</td>\n",
              "      <td>44.487267</td>\n",
              "      <td>29.139061</td>\n",
              "      <td>18.553370</td>\n",
              "      <td>17.376772</td>\n",
              "      <td>32.533062</td>\n",
              "      <td>54.862106</td>\n",
              "      <td>12.632074</td>\n",
              "      <td>24.601391</td>\n",
              "      <td>47.130287</td>\n",
              "      <td>43.539127</td>\n",
              "    </tr>\n",
              "  </tbody>\n",
              "</table>\n",
              "</div>"
            ],
            "text/plain": [
              "             ABEV3.SA   B3SA3.SA   BBAS3.SA   BBDC4.SA  BPAC11.SA   CSAN3.SA  \\\n",
              "Date                                                                           \n",
              "2020-01-06  17.749458  13.197676  47.288910  31.178711  18.262234  17.286381   \n",
              "2020-01-07  17.786785  13.623507  46.932007  30.637068  18.335094  17.597998   \n",
              "2020-01-08  17.702795  13.587008  46.503738  30.163118  18.172600  17.307789   \n",
              "2020-01-09  17.562817  13.580924  45.557961  29.680714  18.296291  17.122248   \n",
              "2020-01-10  17.628141  13.474465  44.487267  29.139061  18.553370  17.376772   \n",
              "\n",
              "             ITUB4.SA   LREN3.SA   MGLU3.SA   PETR4.SA   RENT3.SA   VALE3.SA  \n",
              "Date                                                                          \n",
              "2020-01-06  34.855507  54.785282  11.932189  25.040266  47.603065  43.743118  \n",
              "2020-01-07  34.046894  54.756474  11.898048  24.942736  48.066002  44.061337  \n",
              "2020-01-08  33.492123  55.111786  12.263843  24.788319  47.829613  44.069496  \n",
              "2020-01-09  32.824551  54.689255  12.700356  24.707047  48.085697  43.490170  \n",
              "2020-01-10  32.533062  54.862106  12.632074  24.601391  47.130287  43.539127  "
            ]
          },
          "execution_count": 6,
          "metadata": {},
          "output_type": "execute_result"
        }
      ],
      "source": [
        "precos.head()"
      ]
    },
    {
      "cell_type": "markdown",
      "metadata": {
        "id": "ygXugB2HRUTP"
      },
      "source": [
        "## 3. Simulação da Carteira 01"
      ]
    },
    {
      "cell_type": "markdown",
      "metadata": {
        "id": "WjLyg_YAhNTN"
      },
      "source": [
        "Criando um dicionário com as alocações que vamos fazer para cada ativo na nossa carteira"
      ]
    },
    {
      "cell_type": "code",
      "execution_count": 7,
      "metadata": {
        "id": "yvScK3egUh4j"
      },
      "outputs": [],
      "source": [
        "compras = {'ITUB4.SA': 1200, 'VALE3.SA': 1200, 'MGLU3.SA': 1000,\n",
        "           'PETR4.SA': 1000, 'BBDC4.SA': 1000, 'B3SA3.SA': 900, \n",
        "           'ABEV3.SA': 800, 'BPAC11.SA': 700, 'BBAS3.SA': 600, \n",
        "           'CSAN3.SA': 600, 'RENT3.SA': 500, 'LREN3.SA':500}\n",
        "           \n",
        "compras_df = pd.Series(data=compras, index=list(compras.keys()))"
      ]
    },
    {
      "cell_type": "markdown",
      "metadata": {
        "id": "ThxwXQMAswIz"
      },
      "source": []
    },
    {
      "cell_type": "markdown",
      "metadata": {
        "id": "PD6qNIYRhRwe"
      },
      "source": [
        "Qual o valor total da nossa carteira?"
      ]
    },
    {
      "cell_type": "code",
      "execution_count": 8,
      "metadata": {
        "colab": {
          "base_uri": "https://localhost:8080/"
        },
        "id": "hXoBtcLGVl4T",
        "outputId": "aa51b1c6-6ba2-434b-a3be-dc7d4dc7e02f"
      },
      "outputs": [
        {
          "data": {
            "text/plain": [
              "10000"
            ]
          },
          "execution_count": 8,
          "metadata": {},
          "output_type": "execute_result"
        }
      ],
      "source": [
        "sum(compras.values())"
      ]
    },
    {
      "cell_type": "markdown",
      "metadata": {
        "id": "7r7Z_dvyhVp1"
      },
      "source": [
        "Obtendo preços dos ativos no primeiro dia do investimento"
      ]
    },
    {
      "cell_type": "code",
      "execution_count": 9,
      "metadata": {
        "colab": {
          "base_uri": "https://localhost:8080/"
        },
        "id": "kducAbvOTQbG",
        "outputId": "310fdd70-fc83-46e4-9f44-4ab3f51e580a"
      },
      "outputs": [
        {
          "data": {
            "text/plain": [
              "ABEV3.SA     17.749458\n",
              "B3SA3.SA     13.197676\n",
              "BBAS3.SA     47.288910\n",
              "BBDC4.SA     31.178711\n",
              "BPAC11.SA    18.262234\n",
              "CSAN3.SA     17.286381\n",
              "ITUB4.SA     34.855507\n",
              "LREN3.SA     54.785282\n",
              "MGLU3.SA     11.932189\n",
              "PETR4.SA     25.040266\n",
              "RENT3.SA     47.603065\n",
              "VALE3.SA     43.743118\n",
              "Name: 2020-01-06 00:00:00, dtype: float64"
            ]
          },
          "execution_count": 9,
          "metadata": {},
          "output_type": "execute_result"
        }
      ],
      "source": [
        "precos.iloc[0]"
      ]
    },
    {
      "cell_type": "markdown",
      "metadata": {
        "id": "MLlDt8g_hbt_"
      },
      "source": [
        "Quantidade de papéis comprados de cada ativo (determinados no primeiro dia)"
      ]
    },
    {
      "cell_type": "code",
      "execution_count": 10,
      "metadata": {
        "colab": {
          "base_uri": "https://localhost:8080/"
        },
        "id": "Ch8fKAB-UtHL",
        "outputId": "d86f5e1d-d510-4f8c-97f0-c9ab397785fd"
      },
      "outputs": [
        {
          "data": {
            "text/plain": [
              "ABEV3.SA     45.071798\n",
              "B3SA3.SA     68.193826\n",
              "BBAS3.SA     12.687964\n",
              "BBDC4.SA     32.073167\n",
              "BPAC11.SA    38.330470\n",
              "CSAN3.SA     34.709406\n",
              "ITUB4.SA     34.427845\n",
              "LREN3.SA      9.126539\n",
              "MGLU3.SA     83.806919\n",
              "PETR4.SA     39.935678\n",
              "RENT3.SA     10.503525\n",
              "VALE3.SA     27.432887\n",
              "dtype: float64"
            ]
          },
          "execution_count": 10,
          "metadata": {},
          "output_type": "execute_result"
        }
      ],
      "source": [
        "compras_df/(precos.iloc[0])"
      ]
    },
    {
      "cell_type": "markdown",
      "metadata": {
        "id": "e_6vFWFHhe39"
      },
      "source": [
        "Criando um dataframe que contém a posição diária de cada ativo"
      ]
    },
    {
      "cell_type": "code",
      "execution_count": 11,
      "metadata": {
        "id": "xip2jxnXTquR"
      },
      "outputs": [],
      "source": [
        "PL01 = precos*compras_df/(precos.iloc[0])"
      ]
    },
    {
      "cell_type": "markdown",
      "metadata": {
        "id": "8ww6Ls7OhjC-"
      },
      "source": [
        "Criando uma coluna que contém a posição consolidada da nossa carteira diariamente"
      ]
    },
    {
      "cell_type": "code",
      "execution_count": 12,
      "metadata": {
        "id": "rAWeyr0tT_QU"
      },
      "outputs": [],
      "source": [
        "PL01['Carteira 01'] = PL01.sum(axis = 1)"
      ]
    },
    {
      "cell_type": "code",
      "execution_count": 13,
      "metadata": {
        "colab": {
          "base_uri": "https://localhost:8080/",
          "height": 281
        },
        "id": "tYIfKHq5Uudb",
        "outputId": "2cbeaba4-f279-44fe-e024-ae455636bad2"
      },
      "outputs": [
        {
          "data": {
            "text/html": [
              "<div>\n",
              "<style scoped>\n",
              "    .dataframe tbody tr th:only-of-type {\n",
              "        vertical-align: middle;\n",
              "    }\n",
              "\n",
              "    .dataframe tbody tr th {\n",
              "        vertical-align: top;\n",
              "    }\n",
              "\n",
              "    .dataframe thead th {\n",
              "        text-align: right;\n",
              "    }\n",
              "</style>\n",
              "<table border=\"1\" class=\"dataframe\">\n",
              "  <thead>\n",
              "    <tr style=\"text-align: right;\">\n",
              "      <th></th>\n",
              "      <th>ABEV3.SA</th>\n",
              "      <th>B3SA3.SA</th>\n",
              "      <th>BBAS3.SA</th>\n",
              "      <th>BBDC4.SA</th>\n",
              "      <th>BPAC11.SA</th>\n",
              "      <th>CSAN3.SA</th>\n",
              "      <th>ITUB4.SA</th>\n",
              "      <th>LREN3.SA</th>\n",
              "      <th>MGLU3.SA</th>\n",
              "      <th>PETR4.SA</th>\n",
              "      <th>RENT3.SA</th>\n",
              "      <th>VALE3.SA</th>\n",
              "      <th>Carteira 01</th>\n",
              "    </tr>\n",
              "    <tr>\n",
              "      <th>Date</th>\n",
              "      <th></th>\n",
              "      <th></th>\n",
              "      <th></th>\n",
              "      <th></th>\n",
              "      <th></th>\n",
              "      <th></th>\n",
              "      <th></th>\n",
              "      <th></th>\n",
              "      <th></th>\n",
              "      <th></th>\n",
              "      <th></th>\n",
              "      <th></th>\n",
              "      <th></th>\n",
              "    </tr>\n",
              "  </thead>\n",
              "  <tbody>\n",
              "    <tr>\n",
              "      <th>2021-11-29</th>\n",
              "      <td>708.810737</td>\n",
              "      <td>770.903258</td>\n",
              "      <td>388.793703</td>\n",
              "      <td>640.922921</td>\n",
              "      <td>816.612029</td>\n",
              "      <td>732.976941</td>\n",
              "      <td>778.320292</td>\n",
              "      <td>262.743119</td>\n",
              "      <td>673.807628</td>\n",
              "      <td>1047.664090</td>\n",
              "      <td>547.560322</td>\n",
              "      <td>1906.585613</td>\n",
              "      <td>9275.700654</td>\n",
              "    </tr>\n",
              "    <tr>\n",
              "      <th>2021-11-30</th>\n",
              "      <td>696.664628</td>\n",
              "      <td>744.759504</td>\n",
              "      <td>401.791360</td>\n",
              "      <td>629.539898</td>\n",
              "      <td>783.249940</td>\n",
              "      <td>725.128516</td>\n",
              "      <td>768.702864</td>\n",
              "      <td>258.294461</td>\n",
              "      <td>653.693987</td>\n",
              "      <td>1046.242125</td>\n",
              "      <td>535.613555</td>\n",
              "      <td>1918.930328</td>\n",
              "      <td>9162.611166</td>\n",
              "    </tr>\n",
              "    <tr>\n",
              "      <th>2021-12-01</th>\n",
              "      <td>687.988860</td>\n",
              "      <td>738.056117</td>\n",
              "      <td>394.977068</td>\n",
              "      <td>627.010385</td>\n",
              "      <td>787.041110</td>\n",
              "      <td>724.104754</td>\n",
              "      <td>763.809638</td>\n",
              "      <td>256.841840</td>\n",
              "      <td>576.591615</td>\n",
              "      <td>1052.285705</td>\n",
              "      <td>528.277828</td>\n",
              "      <td>1926.611712</td>\n",
              "      <td>9063.596632</td>\n",
              "    </tr>\n",
              "    <tr>\n",
              "      <th>2021-12-02</th>\n",
              "      <td>694.495707</td>\n",
              "      <td>768.221878</td>\n",
              "      <td>405.829482</td>\n",
              "      <td>658.943951</td>\n",
              "      <td>791.969572</td>\n",
              "      <td>748.673856</td>\n",
              "      <td>792.684512</td>\n",
              "      <td>259.747081</td>\n",
              "      <td>566.534794</td>\n",
              "      <td>1132.575851</td>\n",
              "      <td>562.965377</td>\n",
              "      <td>2016.042772</td>\n",
              "      <td>9398.684832</td>\n",
              "    </tr>\n",
              "    <tr>\n",
              "      <th>2021-12-03</th>\n",
              "      <td>694.061915</td>\n",
              "      <td>779.617843</td>\n",
              "      <td>406.334254</td>\n",
              "      <td>657.045027</td>\n",
              "      <td>799.930985</td>\n",
              "      <td>763.347075</td>\n",
              "      <td>789.934490</td>\n",
              "      <td>265.557562</td>\n",
              "      <td>590.838797</td>\n",
              "      <td>1148.550107</td>\n",
              "      <td>574.912143</td>\n",
              "      <td>1971.601630</td>\n",
              "      <td>9441.731826</td>\n",
              "    </tr>\n",
              "  </tbody>\n",
              "</table>\n",
              "</div>"
            ],
            "text/plain": [
              "              ABEV3.SA    B3SA3.SA    BBAS3.SA    BBDC4.SA   BPAC11.SA  \\\n",
              "Date                                                                     \n",
              "2021-11-29  708.810737  770.903258  388.793703  640.922921  816.612029   \n",
              "2021-11-30  696.664628  744.759504  401.791360  629.539898  783.249940   \n",
              "2021-12-01  687.988860  738.056117  394.977068  627.010385  787.041110   \n",
              "2021-12-02  694.495707  768.221878  405.829482  658.943951  791.969572   \n",
              "2021-12-03  694.061915  779.617843  406.334254  657.045027  799.930985   \n",
              "\n",
              "              CSAN3.SA    ITUB4.SA    LREN3.SA    MGLU3.SA     PETR4.SA  \\\n",
              "Date                                                                      \n",
              "2021-11-29  732.976941  778.320292  262.743119  673.807628  1047.664090   \n",
              "2021-11-30  725.128516  768.702864  258.294461  653.693987  1046.242125   \n",
              "2021-12-01  724.104754  763.809638  256.841840  576.591615  1052.285705   \n",
              "2021-12-02  748.673856  792.684512  259.747081  566.534794  1132.575851   \n",
              "2021-12-03  763.347075  789.934490  265.557562  590.838797  1148.550107   \n",
              "\n",
              "              RENT3.SA     VALE3.SA  Carteira 01  \n",
              "Date                                              \n",
              "2021-11-29  547.560322  1906.585613  9275.700654  \n",
              "2021-11-30  535.613555  1918.930328  9162.611166  \n",
              "2021-12-01  528.277828  1926.611712  9063.596632  \n",
              "2021-12-02  562.965377  2016.042772  9398.684832  \n",
              "2021-12-03  574.912143  1971.601630  9441.731826  "
            ]
          },
          "execution_count": 13,
          "metadata": {},
          "output_type": "execute_result"
        }
      ],
      "source": [
        "PL01.tail()"
      ]
    },
    {
      "cell_type": "code",
      "execution_count": 14,
      "metadata": {
        "colab": {
          "base_uri": "https://localhost:8080/",
          "height": 277
        },
        "id": "a9fXF8G1wsQA",
        "outputId": "898bb1e9-ef20-4a04-d027-341a369d43b8"
      },
      "outputs": [
        {
          "data": {
            "image/png": "[encoded data removed]",
            "text/plain": [
              "<Figure size 432x288 with 1 Axes>"
            ]
          },
          "metadata": {
            "needs_background": "light"
          },
          "output_type": "display_data"
        }
      ],
      "source": [
        "PL01['Carteira 01'].plot();"
      ]
    },
    {
      "cell_type": "markdown",
      "metadata": {
        "id": "BFlZaQxxTNiU"
      },
      "source": [
        "## 4. Obtendo dados do IBOV (ou outros benchmarks)"
      ]
    },
    {
      "cell_type": "markdown",
      "metadata": {
        "id": "fuOiDSQMhnQd"
      },
      "source": [
        "Obtendo dados do IBOV para comparar com a nossa carteira"
      ]
    },
    {
      "cell_type": "code",
      "execution_count": 15,
      "metadata": {
        "colab": {
          "base_uri": "https://localhost:8080/"
        },
        "id": "Ux0eiVaGUx3m",
        "outputId": "f4848d3e-bc30-457c-c765-6b7006e3dbf9"
      },
      "outputs": [
        {
          "name": "stdout",
          "output_type": "stream",
          "text": [
            "[*********************100%***********************]  1 of 1 completed\n"
          ]
        }
      ],
      "source": [
        "ibov = yf.download('^BVSP', start = inicio, end = fim)"
      ]
    },
    {
      "cell_type": "code",
      "execution_count": 16,
      "metadata": {
        "id": "tsJ1k-bcVXOy"
      },
      "outputs": [],
      "source": [
        "ibov.rename(columns = {'Adj Close': 'IBOV'}, inplace = True)"
      ]
    },
    {
      "cell_type": "code",
      "execution_count": 17,
      "metadata": {
        "id": "9GVLjzwbVyhK"
      },
      "outputs": [],
      "source": [
        "ibov = ibov.drop(ibov.columns[[0,1,2,3,5]], axis = 1)"
      ]
    },
    {
      "cell_type": "markdown",
      "metadata": {
        "id": "G_oa3Tc5YDC9"
      },
      "source": [
        "## 5. Carteira 02"
      ]
    },
    {
      "cell_type": "markdown",
      "metadata": {
        "id": "suyZrYly-rGS"
      },
      "source": [
        "Utilizando o conhecimento adquirido para a carteira 01, vamos agora criar as carteiras 02 e 03"
      ]
    },
    {
      "cell_type": "code",
      "execution_count": 18,
      "metadata": {
        "colab": {
          "base_uri": "https://localhost:8080/"
        },
        "id": "FL9pWhq5A3Md",
        "outputId": "7f6672ee-8d0e-4f57-b2f4-a03b6fbeb322"
      },
      "outputs": [
        {
          "name": "stdout",
          "output_type": "stream",
          "text": [
            "[*********************100%***********************]  10 of 10 completed\n"
          ]
        }
      ],
      "source": [
        "ativos02 = ['BPAN4.SA','VALE3.SA', 'WEGE3.SA','TOTS3.SA', 'BPAC11.SA',\n",
        "            'KNRI11.SA','SMAL11.SA','AAPL34.SA','IVVB11.SA', 'TSLA34.SA']\n",
        "\n",
        "precos02 = yf.download(ativos02, start = inicio, end = fim)['Adj Close']\n",
        "\n",
        "compras02 = {'BPAN4.SA': 1500, 'VALE3.SA': 1400, 'WEGE3.SA': 1300, \n",
        "           'TOTS3.SA': 1200, 'BPAC11.SA': 1100, 'KNRI11.SA': 1000, \n",
        "        'SMAL11.SA': 800, 'AAPL34.SA': 700, 'IVVB11.SA': 500, 'TSLA34.SA': 500}\n",
        "           \n",
        "compras_df02 = pd.Series(data=compras02, index=list(compras02.keys()))\n",
        "\n",
        "PL02 = precos02*(compras_df02/(precos02.iloc[0]))\n",
        "\n",
        "PL02['Carteira 02'] = PL02.sum(axis = 1)"
      ]
    },
    {
      "cell_type": "code",
      "execution_count": 19,
      "metadata": {
        "colab": {
          "base_uri": "https://localhost:8080/",
          "height": 238
        },
        "id": "4wlDHNnpzhh8",
        "outputId": "297718fc-4784-4f20-8565-3ef2c793ff77"
      },
      "outputs": [
        {
          "data": {
            "text/html": [
              "<div>\n",
              "<style scoped>\n",
              "    .dataframe tbody tr th:only-of-type {\n",
              "        vertical-align: middle;\n",
              "    }\n",
              "\n",
              "    .dataframe tbody tr th {\n",
              "        vertical-align: top;\n",
              "    }\n",
              "\n",
              "    .dataframe thead th {\n",
              "        text-align: right;\n",
              "    }\n",
              "</style>\n",
              "<table border=\"1\" class=\"dataframe\">\n",
              "  <thead>\n",
              "    <tr style=\"text-align: right;\">\n",
              "      <th></th>\n",
              "      <th>AAPL34.SA</th>\n",
              "      <th>BPAC11.SA</th>\n",
              "      <th>BPAN4.SA</th>\n",
              "      <th>IVVB11.SA</th>\n",
              "      <th>KNRI11.SA</th>\n",
              "      <th>SMAL11.SA</th>\n",
              "      <th>TOTS3.SA</th>\n",
              "      <th>TSLA34.SA</th>\n",
              "      <th>VALE3.SA</th>\n",
              "      <th>WEGE3.SA</th>\n",
              "    </tr>\n",
              "    <tr>\n",
              "      <th>Date</th>\n",
              "      <th></th>\n",
              "      <th></th>\n",
              "      <th></th>\n",
              "      <th></th>\n",
              "      <th></th>\n",
              "      <th></th>\n",
              "      <th></th>\n",
              "      <th></th>\n",
              "      <th></th>\n",
              "      <th></th>\n",
              "    </tr>\n",
              "  </thead>\n",
              "  <tbody>\n",
              "    <tr>\n",
              "      <th>2020-01-06</th>\n",
              "      <td>30.097784</td>\n",
              "      <td>18.262234</td>\n",
              "      <td>10.943400</td>\n",
              "      <td>74.25</td>\n",
              "      <td>197.979996</td>\n",
              "      <td>139.100006</td>\n",
              "      <td>22.585522</td>\n",
              "      <td>11.48750</td>\n",
              "      <td>43.743118</td>\n",
              "      <td>17.104216</td>\n",
              "    </tr>\n",
              "    <tr>\n",
              "      <th>2020-01-07</th>\n",
              "      <td>30.171686</td>\n",
              "      <td>18.335096</td>\n",
              "      <td>10.933975</td>\n",
              "      <td>74.25</td>\n",
              "      <td>198.750000</td>\n",
              "      <td>139.399994</td>\n",
              "      <td>22.680435</td>\n",
              "      <td>12.01500</td>\n",
              "      <td>44.061340</td>\n",
              "      <td>17.236616</td>\n",
              "    </tr>\n",
              "    <tr>\n",
              "      <th>2020-01-08</th>\n",
              "      <td>30.425417</td>\n",
              "      <td>18.172600</td>\n",
              "      <td>10.839717</td>\n",
              "      <td>74.25</td>\n",
              "      <td>187.500000</td>\n",
              "      <td>138.199997</td>\n",
              "      <td>22.376064</td>\n",
              "      <td>12.16325</td>\n",
              "      <td>44.069496</td>\n",
              "      <td>16.584423</td>\n",
              "    </tr>\n",
              "    <tr>\n",
              "      <th>2020-01-09</th>\n",
              "      <td>31.334412</td>\n",
              "      <td>18.296291</td>\n",
              "      <td>10.839717</td>\n",
              "      <td>74.25</td>\n",
              "      <td>181.000000</td>\n",
              "      <td>138.800003</td>\n",
              "      <td>22.745888</td>\n",
              "      <td>12.16325</td>\n",
              "      <td>43.490170</td>\n",
              "      <td>16.339231</td>\n",
              "    </tr>\n",
              "    <tr>\n",
              "      <th>2020-01-10</th>\n",
              "      <td>31.467430</td>\n",
              "      <td>18.553371</td>\n",
              "      <td>10.764310</td>\n",
              "      <td>74.25</td>\n",
              "      <td>178.899994</td>\n",
              "      <td>139.399994</td>\n",
              "      <td>22.575703</td>\n",
              "      <td>12.20000</td>\n",
              "      <td>43.539131</td>\n",
              "      <td>16.672686</td>\n",
              "    </tr>\n",
              "  </tbody>\n",
              "</table>\n",
              "</div>"
            ],
            "text/plain": [
              "            AAPL34.SA  BPAC11.SA   BPAN4.SA  IVVB11.SA   KNRI11.SA  \\\n",
              "Date                                                                 \n",
              "2020-01-06  30.097784  18.262234  10.943400      74.25  197.979996   \n",
              "2020-01-07  30.171686  18.335096  10.933975      74.25  198.750000   \n",
              "2020-01-08  30.425417  18.172600  10.839717      74.25  187.500000   \n",
              "2020-01-09  31.334412  18.296291  10.839717      74.25  181.000000   \n",
              "2020-01-10  31.467430  18.553371  10.764310      74.25  178.899994   \n",
              "\n",
              "             SMAL11.SA   TOTS3.SA  TSLA34.SA   VALE3.SA   WEGE3.SA  \n",
              "Date                                                                \n",
              "2020-01-06  139.100006  22.585522   11.48750  43.743118  17.104216  \n",
              "2020-01-07  139.399994  22.680435   12.01500  44.061340  17.236616  \n",
              "2020-01-08  138.199997  22.376064   12.16325  44.069496  16.584423  \n",
              "2020-01-09  138.800003  22.745888   12.16325  43.490170  16.339231  \n",
              "2020-01-10  139.399994  22.575703   12.20000  43.539131  16.672686  "
            ]
          },
          "execution_count": 19,
          "metadata": {},
          "output_type": "execute_result"
        }
      ],
      "source": [
        "precos02.head()"
      ]
    },
    {
      "cell_type": "code",
      "execution_count": 20,
      "metadata": {
        "colab": {
          "base_uri": "https://localhost:8080/"
        },
        "id": "B3Z-5kEf7_Ta",
        "outputId": "81c5a596-905c-4b5d-ad46-97387597c25c"
      },
      "outputs": [
        {
          "data": {
            "text/plain": [
              "10000"
            ]
          },
          "execution_count": 20,
          "metadata": {},
          "output_type": "execute_result"
        }
      ],
      "source": [
        "sum(compras02.values())"
      ]
    },
    {
      "cell_type": "code",
      "execution_count": 21,
      "metadata": {
        "colab": {
          "base_uri": "https://localhost:8080/",
          "height": 238
        },
        "id": "m6GcvP7X2gVY",
        "outputId": "024c32cb-7011-4ea7-cb08-63e52ccffdcf"
      },
      "outputs": [
        {
          "data": {
            "text/html": [
              "<div>\n",
              "<style scoped>\n",
              "    .dataframe tbody tr th:only-of-type {\n",
              "        vertical-align: middle;\n",
              "    }\n",
              "\n",
              "    .dataframe tbody tr th {\n",
              "        vertical-align: top;\n",
              "    }\n",
              "\n",
              "    .dataframe thead th {\n",
              "        text-align: right;\n",
              "    }\n",
              "</style>\n",
              "<table border=\"1\" class=\"dataframe\">\n",
              "  <thead>\n",
              "    <tr style=\"text-align: right;\">\n",
              "      <th></th>\n",
              "      <th>AAPL34.SA</th>\n",
              "      <th>BPAC11.SA</th>\n",
              "      <th>BPAN4.SA</th>\n",
              "      <th>IVVB11.SA</th>\n",
              "      <th>KNRI11.SA</th>\n",
              "      <th>SMAL11.SA</th>\n",
              "      <th>TOTS3.SA</th>\n",
              "      <th>TSLA34.SA</th>\n",
              "      <th>VALE3.SA</th>\n",
              "      <th>WEGE3.SA</th>\n",
              "      <th>Carteira 02</th>\n",
              "    </tr>\n",
              "    <tr>\n",
              "      <th>Date</th>\n",
              "      <th></th>\n",
              "      <th></th>\n",
              "      <th></th>\n",
              "      <th></th>\n",
              "      <th></th>\n",
              "      <th></th>\n",
              "      <th></th>\n",
              "      <th></th>\n",
              "      <th></th>\n",
              "      <th></th>\n",
              "      <th></th>\n",
              "    </tr>\n",
              "  </thead>\n",
              "  <tbody>\n",
              "    <tr>\n",
              "      <th>2020-01-06</th>\n",
              "      <td>700.000000</td>\n",
              "      <td>1100.000000</td>\n",
              "      <td>1500.000000</td>\n",
              "      <td>500.0</td>\n",
              "      <td>1000.000000</td>\n",
              "      <td>800.000000</td>\n",
              "      <td>1200.000000</td>\n",
              "      <td>500.000000</td>\n",
              "      <td>1400.000000</td>\n",
              "      <td>1300.000000</td>\n",
              "      <td>10000.000000</td>\n",
              "    </tr>\n",
              "    <tr>\n",
              "      <th>2020-01-07</th>\n",
              "      <td>701.718781</td>\n",
              "      <td>1104.388778</td>\n",
              "      <td>1498.708103</td>\n",
              "      <td>500.0</td>\n",
              "      <td>1003.889303</td>\n",
              "      <td>801.725307</td>\n",
              "      <td>1205.042885</td>\n",
              "      <td>522.959745</td>\n",
              "      <td>1410.184707</td>\n",
              "      <td>1310.063055</td>\n",
              "      <td>10058.680665</td>\n",
              "    </tr>\n",
              "    <tr>\n",
              "      <th>2020-01-08</th>\n",
              "      <td>707.619931</td>\n",
              "      <td>1094.601025</td>\n",
              "      <td>1485.788219</td>\n",
              "      <td>500.0</td>\n",
              "      <td>947.065381</td>\n",
              "      <td>794.823815</td>\n",
              "      <td>1188.871239</td>\n",
              "      <td>529.412395</td>\n",
              "      <td>1410.445735</td>\n",
              "      <td>1260.493346</td>\n",
              "      <td>9919.121086</td>\n",
              "    </tr>\n",
              "    <tr>\n",
              "      <th>2020-01-09</th>\n",
              "      <td>728.760898</td>\n",
              "      <td>1102.051413</td>\n",
              "      <td>1485.788219</td>\n",
              "      <td>500.0</td>\n",
              "      <td>914.233781</td>\n",
              "      <td>798.274605</td>\n",
              "      <td>1208.520470</td>\n",
              "      <td>529.412395</td>\n",
              "      <td>1391.904366</td>\n",
              "      <td>1241.857645</td>\n",
              "      <td>9900.803793</td>\n",
              "    </tr>\n",
              "    <tr>\n",
              "      <th>2020-01-10</th>\n",
              "      <td>731.854579</td>\n",
              "      <td>1117.536270</td>\n",
              "      <td>1475.452260</td>\n",
              "      <td>500.0</td>\n",
              "      <td>903.626618</td>\n",
              "      <td>801.725307</td>\n",
              "      <td>1199.478301</td>\n",
              "      <td>531.011952</td>\n",
              "      <td>1393.471385</td>\n",
              "      <td>1267.201712</td>\n",
              "      <td>9921.358385</td>\n",
              "    </tr>\n",
              "  </tbody>\n",
              "</table>\n",
              "</div>"
            ],
            "text/plain": [
              "             AAPL34.SA    BPAC11.SA     BPAN4.SA  IVVB11.SA    KNRI11.SA  \\\n",
              "Date                                                                       \n",
              "2020-01-06  700.000000  1100.000000  1500.000000      500.0  1000.000000   \n",
              "2020-01-07  701.718781  1104.388778  1498.708103      500.0  1003.889303   \n",
              "2020-01-08  707.619931  1094.601025  1485.788219      500.0   947.065381   \n",
              "2020-01-09  728.760898  1102.051413  1485.788219      500.0   914.233781   \n",
              "2020-01-10  731.854579  1117.536270  1475.452260      500.0   903.626618   \n",
              "\n",
              "             SMAL11.SA     TOTS3.SA   TSLA34.SA     VALE3.SA     WEGE3.SA  \\\n",
              "Date                                                                        \n",
              "2020-01-06  800.000000  1200.000000  500.000000  1400.000000  1300.000000   \n",
              "2020-01-07  801.725307  1205.042885  522.959745  1410.184707  1310.063055   \n",
              "2020-01-08  794.823815  1188.871239  529.412395  1410.445735  1260.493346   \n",
              "2020-01-09  798.274605  1208.520470  529.412395  1391.904366  1241.857645   \n",
              "2020-01-10  801.725307  1199.478301  531.011952  1393.471385  1267.201712   \n",
              "\n",
              "             Carteira 02  \n",
              "Date                      \n",
              "2020-01-06  10000.000000  \n",
              "2020-01-07  10058.680665  \n",
              "2020-01-08   9919.121086  \n",
              "2020-01-09   9900.803793  \n",
              "2020-01-10   9921.358385  "
            ]
          },
          "execution_count": 21,
          "metadata": {},
          "output_type": "execute_result"
        }
      ],
      "source": [
        "PL02.head()"
      ]
    },
    {
      "cell_type": "markdown",
      "metadata": {
        "id": "FnGb5asGA4oz"
      },
      "source": [
        "## 6. Carteira 03"
      ]
    },
    {
      "cell_type": "code",
      "execution_count": 22,
      "metadata": {
        "colab": {
          "base_uri": "https://localhost:8080/"
        },
        "id": "TjYq94KuHsgw",
        "outputId": "278b99db-89c3-47fa-cfbd-d967b9041ec7"
      },
      "outputs": [
        {
          "name": "stdout",
          "output_type": "stream",
          "text": [
            "[*********************100%***********************]  9 of 9 completed\n"
          ]
        }
      ],
      "source": [
        "ativos03 = ['IVVB11.SA','GOGL34.SA', 'COCA34.SA','MSFT34.SA', 'WEGE3.SA',\n",
        "            'VALE3.SA','PETR4.SA', 'SUZB3.SA', 'JBSS3.SA']\n",
        "\n",
        "precos03 = yf.download(ativos03, start = inicio, end = fim)['Adj Close']\n",
        "\n",
        "compras03 = {'IVVB11.SA': 1500, 'GOGL34.SA': 1500, 'COCA34.SA': 1000, \n",
        "           'MSFT34.SA': 1000, 'WEGE3.SA': 1000, 'VALE3.SA': 1000, \n",
        "           'PETR4.SA': 1000, 'SUZB3.SA': 1000, 'JBSS3.SA':1000}\n",
        "           \n",
        "compras_df03 = pd.Series(data=compras03, index=list(compras03.keys()))\n",
        "\n",
        "PL03 = precos03*(compras_df03/(precos03.iloc[0]))\n",
        "\n",
        "PL03['Carteira 03'] = PL03.sum(axis = 1)"
      ]
    },
    {
      "cell_type": "code",
      "execution_count": 23,
      "metadata": {
        "colab": {
          "base_uri": "https://localhost:8080/",
          "height": 238
        },
        "id": "Ztm0Q1tV5ZOn",
        "outputId": "7d1d0abc-3347-4736-853e-7c6e59cbaa66"
      },
      "outputs": [
        {
          "data": {
            "text/html": [
              "<div>\n",
              "<style scoped>\n",
              "    .dataframe tbody tr th:only-of-type {\n",
              "        vertical-align: middle;\n",
              "    }\n",
              "\n",
              "    .dataframe tbody tr th {\n",
              "        vertical-align: top;\n",
              "    }\n",
              "\n",
              "    .dataframe thead th {\n",
              "        text-align: right;\n",
              "    }\n",
              "</style>\n",
              "<table border=\"1\" class=\"dataframe\">\n",
              "  <thead>\n",
              "    <tr style=\"text-align: right;\">\n",
              "      <th></th>\n",
              "      <th>COCA34.SA</th>\n",
              "      <th>GOGL34.SA</th>\n",
              "      <th>IVVB11.SA</th>\n",
              "      <th>JBSS3.SA</th>\n",
              "      <th>MSFT34.SA</th>\n",
              "      <th>PETR4.SA</th>\n",
              "      <th>SUZB3.SA</th>\n",
              "      <th>VALE3.SA</th>\n",
              "      <th>WEGE3.SA</th>\n",
              "      <th>Carteira 03</th>\n",
              "    </tr>\n",
              "    <tr>\n",
              "      <th>Date</th>\n",
              "      <th></th>\n",
              "      <th></th>\n",
              "      <th></th>\n",
              "      <th></th>\n",
              "      <th></th>\n",
              "      <th></th>\n",
              "      <th></th>\n",
              "      <th></th>\n",
              "      <th></th>\n",
              "      <th></th>\n",
              "    </tr>\n",
              "  </thead>\n",
              "  <tbody>\n",
              "    <tr>\n",
              "      <th>2020-01-06</th>\n",
              "      <td>1000.000000</td>\n",
              "      <td>1500.000000</td>\n",
              "      <td>1500.0</td>\n",
              "      <td>1000.000000</td>\n",
              "      <td>1000.000000</td>\n",
              "      <td>1000.000000</td>\n",
              "      <td>1000.000000</td>\n",
              "      <td>1000.000000</td>\n",
              "      <td>1000.000000</td>\n",
              "      <td>10000.000000</td>\n",
              "    </tr>\n",
              "    <tr>\n",
              "      <th>2020-01-07</th>\n",
              "      <td>1000.000000</td>\n",
              "      <td>1504.675097</td>\n",
              "      <td>1500.0</td>\n",
              "      <td>1017.897188</td>\n",
              "      <td>993.784274</td>\n",
              "      <td>996.105211</td>\n",
              "      <td>1012.814064</td>\n",
              "      <td>1007.274704</td>\n",
              "      <td>1007.741036</td>\n",
              "      <td>10040.291574</td>\n",
              "    </tr>\n",
              "    <tr>\n",
              "      <th>2020-01-08</th>\n",
              "      <td>999.504720</td>\n",
              "      <td>1509.218623</td>\n",
              "      <td>1500.0</td>\n",
              "      <td>1042.878572</td>\n",
              "      <td>1007.437527</td>\n",
              "      <td>989.938309</td>\n",
              "      <td>1063.331664</td>\n",
              "      <td>1007.461239</td>\n",
              "      <td>969.610263</td>\n",
              "      <td>10089.380916</td>\n",
              "    </tr>\n",
              "    <tr>\n",
              "      <th>2020-01-09</th>\n",
              "      <td>999.504720</td>\n",
              "      <td>1534.240491</td>\n",
              "      <td>1500.0</td>\n",
              "      <td>1055.555556</td>\n",
              "      <td>1020.859023</td>\n",
              "      <td>986.692727</td>\n",
              "      <td>1060.620949</td>\n",
              "      <td>994.217492</td>\n",
              "      <td>955.275330</td>\n",
              "      <td>10106.966288</td>\n",
              "    </tr>\n",
              "    <tr>\n",
              "      <th>2020-01-10</th>\n",
              "      <td>1025.219568</td>\n",
              "      <td>1550.570627</td>\n",
              "      <td>1500.0</td>\n",
              "      <td>1049.962766</td>\n",
              "      <td>1029.023040</td>\n",
              "      <td>982.473220</td>\n",
              "      <td>1062.345967</td>\n",
              "      <td>995.336704</td>\n",
              "      <td>974.770656</td>\n",
              "      <td>10169.702548</td>\n",
              "    </tr>\n",
              "  </tbody>\n",
              "</table>\n",
              "</div>"
            ],
            "text/plain": [
              "              COCA34.SA    GOGL34.SA  IVVB11.SA     JBSS3.SA    MSFT34.SA  \\\n",
              "Date                                                                        \n",
              "2020-01-06  1000.000000  1500.000000     1500.0  1000.000000  1000.000000   \n",
              "2020-01-07  1000.000000  1504.675097     1500.0  1017.897188   993.784274   \n",
              "2020-01-08   999.504720  1509.218623     1500.0  1042.878572  1007.437527   \n",
              "2020-01-09   999.504720  1534.240491     1500.0  1055.555556  1020.859023   \n",
              "2020-01-10  1025.219568  1550.570627     1500.0  1049.962766  1029.023040   \n",
              "\n",
              "               PETR4.SA     SUZB3.SA     VALE3.SA     WEGE3.SA   Carteira 03  \n",
              "Date                                                                          \n",
              "2020-01-06  1000.000000  1000.000000  1000.000000  1000.000000  10000.000000  \n",
              "2020-01-07   996.105211  1012.814064  1007.274704  1007.741036  10040.291574  \n",
              "2020-01-08   989.938309  1063.331664  1007.461239   969.610263  10089.380916  \n",
              "2020-01-09   986.692727  1060.620949   994.217492   955.275330  10106.966288  \n",
              "2020-01-10   982.473220  1062.345967   995.336704   974.770656  10169.702548  "
            ]
          },
          "execution_count": 23,
          "metadata": {},
          "output_type": "execute_result"
        }
      ],
      "source": [
        "PL03.head()"
      ]
    },
    {
      "cell_type": "markdown",
      "metadata": {
        "id": "01bKIrqI-06J"
      },
      "source": [
        "## 7. Comparativos de carteira"
      ]
    },
    {
      "cell_type": "code",
      "execution_count": 24,
      "metadata": {
        "id": "tF_5Qdi_-37p"
      },
      "outputs": [],
      "source": [
        "from functools import reduce\n",
        "\n",
        "dfs = [PL01, PL02, PL03, ibov]\n",
        "\n",
        "df_final = reduce(lambda left,right: pd.merge(left,right,on='Date'), dfs)"
      ]
    },
    {
      "cell_type": "code",
      "execution_count": 25,
      "metadata": {
        "id": "7NSbsHfG2xIm"
      },
      "outputs": [],
      "source": [
        "# Join na mão\n",
        "\n",
        "#nova_02 = pd.merge(PL01, PL02, how = 'inner', on = 'Date')\n",
        "\n",
        "#nova_03 = pd.merge(nova_02, PL03, how = 'inner', on = 'Date')\n",
        "\n",
        "#nova_04 = pd.merge(ibov, nova_03, how = 'inner', on = 'Date')"
      ]
    },
    {
      "cell_type": "code",
      "execution_count": 26,
      "metadata": {
        "colab": {
          "base_uri": "https://localhost:8080/",
          "height": 405
        },
        "id": "oXJJLSYZ2_OL",
        "outputId": "78023e2c-00a0-46a9-e049-ee63b7ce7927"
      },
      "outputs": [
        {
          "data": {
            "text/html": [
              "<div>\n",
              "<style scoped>\n",
              "    .dataframe tbody tr th:only-of-type {\n",
              "        vertical-align: middle;\n",
              "    }\n",
              "\n",
              "    .dataframe tbody tr th {\n",
              "        vertical-align: top;\n",
              "    }\n",
              "\n",
              "    .dataframe thead th {\n",
              "        text-align: right;\n",
              "    }\n",
              "</style>\n",
              "<table border=\"1\" class=\"dataframe\">\n",
              "  <thead>\n",
              "    <tr style=\"text-align: right;\">\n",
              "      <th></th>\n",
              "      <th>ABEV3.SA</th>\n",
              "      <th>B3SA3.SA</th>\n",
              "      <th>BBAS3.SA</th>\n",
              "      <th>BBDC4.SA</th>\n",
              "      <th>BPAC11.SA_x</th>\n",
              "      <th>CSAN3.SA</th>\n",
              "      <th>ITUB4.SA</th>\n",
              "      <th>LREN3.SA</th>\n",
              "      <th>MGLU3.SA</th>\n",
              "      <th>PETR4.SA_x</th>\n",
              "      <th>...</th>\n",
              "      <th>GOGL34.SA</th>\n",
              "      <th>IVVB11.SA_y</th>\n",
              "      <th>JBSS3.SA</th>\n",
              "      <th>MSFT34.SA</th>\n",
              "      <th>PETR4.SA_y</th>\n",
              "      <th>SUZB3.SA</th>\n",
              "      <th>VALE3.SA</th>\n",
              "      <th>WEGE3.SA_y</th>\n",
              "      <th>Carteira 03</th>\n",
              "      <th>IBOV</th>\n",
              "    </tr>\n",
              "    <tr>\n",
              "      <th>Date</th>\n",
              "      <th></th>\n",
              "      <th></th>\n",
              "      <th></th>\n",
              "      <th></th>\n",
              "      <th></th>\n",
              "      <th></th>\n",
              "      <th></th>\n",
              "      <th></th>\n",
              "      <th></th>\n",
              "      <th></th>\n",
              "      <th></th>\n",
              "      <th></th>\n",
              "      <th></th>\n",
              "      <th></th>\n",
              "      <th></th>\n",
              "      <th></th>\n",
              "      <th></th>\n",
              "      <th></th>\n",
              "      <th></th>\n",
              "      <th></th>\n",
              "      <th></th>\n",
              "    </tr>\n",
              "  </thead>\n",
              "  <tbody>\n",
              "    <tr>\n",
              "      <th>2020-01-06</th>\n",
              "      <td>800.000000</td>\n",
              "      <td>900.000000</td>\n",
              "      <td>600.000000</td>\n",
              "      <td>1000.000000</td>\n",
              "      <td>700.000000</td>\n",
              "      <td>600.000000</td>\n",
              "      <td>1200.000000</td>\n",
              "      <td>500.000000</td>\n",
              "      <td>1000.000000</td>\n",
              "      <td>1000.000000</td>\n",
              "      <td>...</td>\n",
              "      <td>1500.000000</td>\n",
              "      <td>1500.0</td>\n",
              "      <td>1000.000000</td>\n",
              "      <td>1000.000000</td>\n",
              "      <td>1000.000000</td>\n",
              "      <td>1000.000000</td>\n",
              "      <td>1000.000000</td>\n",
              "      <td>1000.000000</td>\n",
              "      <td>10000.000000</td>\n",
              "      <td>116878.0</td>\n",
              "    </tr>\n",
              "    <tr>\n",
              "      <th>2020-01-07</th>\n",
              "      <td>801.682387</td>\n",
              "      <td>929.039034</td>\n",
              "      <td>595.471627</td>\n",
              "      <td>982.627789</td>\n",
              "      <td>702.792786</td>\n",
              "      <td>610.816037</td>\n",
              "      <td>1172.161203</td>\n",
              "      <td>499.737077</td>\n",
              "      <td>997.138783</td>\n",
              "      <td>996.105059</td>\n",
              "      <td>...</td>\n",
              "      <td>1504.675097</td>\n",
              "      <td>1500.0</td>\n",
              "      <td>1017.897188</td>\n",
              "      <td>993.784274</td>\n",
              "      <td>996.105211</td>\n",
              "      <td>1012.814064</td>\n",
              "      <td>1007.274704</td>\n",
              "      <td>1007.741036</td>\n",
              "      <td>10040.291574</td>\n",
              "      <td>116662.0</td>\n",
              "    </tr>\n",
              "    <tr>\n",
              "      <th>2020-01-08</th>\n",
              "      <td>797.896802</td>\n",
              "      <td>926.550026</td>\n",
              "      <td>590.037772</td>\n",
              "      <td>967.426730</td>\n",
              "      <td>696.564289</td>\n",
              "      <td>600.743062</td>\n",
              "      <td>1153.061618</td>\n",
              "      <td>502.979849</td>\n",
              "      <td>1027.794866</td>\n",
              "      <td>989.938310</td>\n",
              "      <td>...</td>\n",
              "      <td>1509.218623</td>\n",
              "      <td>1500.0</td>\n",
              "      <td>1042.878572</td>\n",
              "      <td>1007.437527</td>\n",
              "      <td>989.938309</td>\n",
              "      <td>1063.331664</td>\n",
              "      <td>1007.461239</td>\n",
              "      <td>969.610263</td>\n",
              "      <td>10089.380916</td>\n",
              "      <td>116247.0</td>\n",
              "    </tr>\n",
              "    <tr>\n",
              "      <th>2020-01-09</th>\n",
              "      <td>791.587723</td>\n",
              "      <td>926.135170</td>\n",
              "      <td>578.037776</td>\n",
              "      <td>951.954483</td>\n",
              "      <td>701.305444</td>\n",
              "      <td>594.303039</td>\n",
              "      <td>1130.078552</td>\n",
              "      <td>499.123602</td>\n",
              "      <td>1064.377751</td>\n",
              "      <td>986.692652</td>\n",
              "      <td>...</td>\n",
              "      <td>1534.240491</td>\n",
              "      <td>1500.0</td>\n",
              "      <td>1055.555556</td>\n",
              "      <td>1020.859023</td>\n",
              "      <td>986.692727</td>\n",
              "      <td>1060.620949</td>\n",
              "      <td>994.217492</td>\n",
              "      <td>955.275330</td>\n",
              "      <td>10106.966288</td>\n",
              "      <td>115947.0</td>\n",
              "    </tr>\n",
              "    <tr>\n",
              "      <th>2020-01-10</th>\n",
              "      <td>794.532029</td>\n",
              "      <td>918.875346</td>\n",
              "      <td>564.452849</td>\n",
              "      <td>934.581966</td>\n",
              "      <td>711.159372</td>\n",
              "      <td>603.137423</td>\n",
              "      <td>1120.043226</td>\n",
              "      <td>500.701139</td>\n",
              "      <td>1058.655237</td>\n",
              "      <td>982.473221</td>\n",
              "      <td>...</td>\n",
              "      <td>1550.570627</td>\n",
              "      <td>1500.0</td>\n",
              "      <td>1049.962766</td>\n",
              "      <td>1029.023040</td>\n",
              "      <td>982.473220</td>\n",
              "      <td>1062.345967</td>\n",
              "      <td>995.336704</td>\n",
              "      <td>974.770656</td>\n",
              "      <td>10169.702548</td>\n",
              "      <td>115503.0</td>\n",
              "    </tr>\n",
              "  </tbody>\n",
              "</table>\n",
              "<p>5 rows × 35 columns</p>\n",
              "</div>"
            ],
            "text/plain": [
              "              ABEV3.SA    B3SA3.SA    BBAS3.SA     BBDC4.SA  BPAC11.SA_x  \\\n",
              "Date                                                                       \n",
              "2020-01-06  800.000000  900.000000  600.000000  1000.000000   700.000000   \n",
              "2020-01-07  801.682387  929.039034  595.471627   982.627789   702.792786   \n",
              "2020-01-08  797.896802  926.550026  590.037772   967.426730   696.564289   \n",
              "2020-01-09  791.587723  926.135170  578.037776   951.954483   701.305444   \n",
              "2020-01-10  794.532029  918.875346  564.452849   934.581966   711.159372   \n",
              "\n",
              "              CSAN3.SA     ITUB4.SA    LREN3.SA     MGLU3.SA   PETR4.SA_x  \\\n",
              "Date                                                                        \n",
              "2020-01-06  600.000000  1200.000000  500.000000  1000.000000  1000.000000   \n",
              "2020-01-07  610.816037  1172.161203  499.737077   997.138783   996.105059   \n",
              "2020-01-08  600.743062  1153.061618  502.979849  1027.794866   989.938310   \n",
              "2020-01-09  594.303039  1130.078552  499.123602  1064.377751   986.692652   \n",
              "2020-01-10  603.137423  1120.043226  500.701139  1058.655237   982.473221   \n",
              "\n",
              "            ...    GOGL34.SA  IVVB11.SA_y     JBSS3.SA    MSFT34.SA  \\\n",
              "Date        ...                                                       \n",
              "2020-01-06  ...  1500.000000       1500.0  1000.000000  1000.000000   \n",
              "2020-01-07  ...  1504.675097       1500.0  1017.897188   993.784274   \n",
              "2020-01-08  ...  1509.218623       1500.0  1042.878572  1007.437527   \n",
              "2020-01-09  ...  1534.240491       1500.0  1055.555556  1020.859023   \n",
              "2020-01-10  ...  1550.570627       1500.0  1049.962766  1029.023040   \n",
              "\n",
              "             PETR4.SA_y     SUZB3.SA     VALE3.SA   WEGE3.SA_y   Carteira 03  \\\n",
              "Date                                                                           \n",
              "2020-01-06  1000.000000  1000.000000  1000.000000  1000.000000  10000.000000   \n",
              "2020-01-07   996.105211  1012.814064  1007.274704  1007.741036  10040.291574   \n",
              "2020-01-08   989.938309  1063.331664  1007.461239   969.610263  10089.380916   \n",
              "2020-01-09   986.692727  1060.620949   994.217492   955.275330  10106.966288   \n",
              "2020-01-10   982.473220  1062.345967   995.336704   974.770656  10169.702548   \n",
              "\n",
              "                IBOV  \n",
              "Date                  \n",
              "2020-01-06  116878.0  \n",
              "2020-01-07  116662.0  \n",
              "2020-01-08  116247.0  \n",
              "2020-01-09  115947.0  \n",
              "2020-01-10  115503.0  \n",
              "\n",
              "[5 rows x 35 columns]"
            ]
          },
          "execution_count": 26,
          "metadata": {},
          "output_type": "execute_result"
        }
      ],
      "source": [
        "df_final.head()"
      ]
    },
    {
      "cell_type": "code",
      "execution_count": 27,
      "metadata": {
        "id": "-Ja9yhG-_VXh"
      },
      "outputs": [],
      "source": [
        "df_final_normalizado = df_final/df_final.iloc[0]"
      ]
    },
    {
      "cell_type": "code",
      "execution_count": 28,
      "metadata": {
        "colab": {
          "base_uri": "https://localhost:8080/",
          "height": 571
        },
        "id": "8Z704vJNIhjS",
        "outputId": "86b34c43-e4e7-4d13-a9f5-2d018cfd74a9"
      },
      "outputs": [
        {
          "data": {
            "image/png": "[encoded data removed]",
            "text/plain": [
              "<Figure size 720x720 with 1 Axes>"
            ]
          },
          "metadata": {
            "needs_background": "light"
          },
          "output_type": "display_data"
        }
      ],
      "source": [
        "df_final_normalizado[['IBOV', 'Carteira 01', 'Carteira 02', 'Carteira 03']].plot(figsize = (10,10));"
      ]
    },
    {
      "cell_type": "code",
      "execution_count": null,
      "metadata": {
        "id": "Q0OkgoFGJb42"
      },
      "outputs": [],
      "source": []
    }
  ],
  "metadata": {
    "colab": {
      "authorship_tag": "ABX9TyMN8k6FL7w5bUu60hEl8PAx",
      "include_colab_link": true,
      "name": "20220201 - Comparação Carteiras.ipynb",
      "provenance": []
    },
    "kernelspec": {
      "display_name": "Python 3",
      "name": "python3"
    },
    "language_info": {
      "codemirror_mode": {
        "name": "ipython",
        "version": 3
      },
      "file_extension": ".py",
      "mimetype": "text/x-python",
      "name": "python",
      "nbconvert_exporter": "python",
      "pygments_lexer": "ipython3",
      "version": "3.8.5"
    }
  },
  "nbformat": 4,
  "nbformat_minor": 0
}
