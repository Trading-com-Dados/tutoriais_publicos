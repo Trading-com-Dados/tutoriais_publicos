{
  "nbformat": 4,
  "nbformat_minor": 0,
  "metadata": {
    "colab": {
      "name": "20220201 - Comparação Carteiras.ipynb",
      "provenance": [],
      "authorship_tag": "ABX9TyMN8k6FL7w5bUu60hEl8PAx",
      "include_colab_link": true
    },
    "kernelspec": {
      "name": "python3",
      "display_name": "Python 3"
    },
    "language_info": {
      "name": "python"
    }
  },
  "cells": [
    {
      "cell_type": "markdown",
      "metadata": {
        "id": "view-in-github",
        "colab_type": "text"
      },
      "source": [
        "<a href=\"https://colab.research.google.com/github/Trading-com-Dados/tutoriais_publicos/blob/main/20220201_Compara%C3%A7%C3%A3o_Carteiras.ipynb\" target=\"_parent\"><img src=\"https://colab.research.google.com/assets/colab-badge.svg\" alt=\"Open In Colab\"/></a>"
      ]
    },
    {
      "cell_type": "markdown",
      "metadata": {
        "id": "cPHJmLsAS5Js"
      },
      "source": [
        "# Código para comparação de três carteiras fictícias"
      ]
    },
    {
      "cell_type": "markdown",
      "metadata": {
        "id": "GiqLrjMJGDnZ"
      },
      "source": [
        "## 1. Instalando e importando bibliotecas"
      ]
    },
    {
      "cell_type": "code",
      "metadata": {
        "colab": {
          "base_uri": "https://localhost:8080/"
        },
        "id": "d81aLa1XGOvh",
        "outputId": "5e5271f0-5580-405f-f0d4-a9d7b0537fc9"
      },
      "source": [
        "!pip install yfinance"
      ],
      "execution_count": 12,
      "outputs": [
        {
          "output_type": "stream",
          "name": "stdout",
          "text": [
            "Collecting yfinance\n",
            "  Downloading yfinance-0.1.70-py2.py3-none-any.whl (26 kB)\n",
            "Requirement already satisfied: numpy>=1.15 in /usr/local/lib/python3.7/dist-packages (from yfinance) (1.19.5)\n",
            "Requirement already satisfied: pandas>=0.24.0 in /usr/local/lib/python3.7/dist-packages (from yfinance) (1.3.5)\n",
            "Requirement already satisfied: multitasking>=0.0.7 in /usr/local/lib/python3.7/dist-packages (from yfinance) (0.0.10)\n",
            "Collecting requests>=2.26\n",
            "  Downloading requests-2.27.1-py2.py3-none-any.whl (63 kB)\n",
            "\u001b[K     |████████████████████████████████| 63 kB 1.7 MB/s \n",
            "\u001b[?25hCollecting lxml>=4.5.1\n",
            "  Downloading lxml-4.7.1-cp37-cp37m-manylinux_2_17_x86_64.manylinux2014_x86_64.manylinux_2_24_x86_64.whl (6.4 MB)\n",
            "\u001b[K     |████████████████████████████████| 6.4 MB 17.2 MB/s \n",
            "\u001b[?25hRequirement already satisfied: python-dateutil>=2.7.3 in /usr/local/lib/python3.7/dist-packages (from pandas>=0.24.0->yfinance) (2.8.2)\n",
            "Requirement already satisfied: pytz>=2017.3 in /usr/local/lib/python3.7/dist-packages (from pandas>=0.24.0->yfinance) (2018.9)\n",
            "Requirement already satisfied: six>=1.5 in /usr/local/lib/python3.7/dist-packages (from python-dateutil>=2.7.3->pandas>=0.24.0->yfinance) (1.15.0)\n",
            "Requirement already satisfied: certifi>=2017.4.17 in /usr/local/lib/python3.7/dist-packages (from requests>=2.26->yfinance) (2021.10.8)\n",
            "Requirement already satisfied: idna<4,>=2.5 in /usr/local/lib/python3.7/dist-packages (from requests>=2.26->yfinance) (2.10)\n",
            "Requirement already satisfied: charset-normalizer~=2.0.0 in /usr/local/lib/python3.7/dist-packages (from requests>=2.26->yfinance) (2.0.11)\n",
            "Requirement already satisfied: urllib3<1.27,>=1.21.1 in /usr/local/lib/python3.7/dist-packages (from requests>=2.26->yfinance) (1.24.3)\n",
            "Installing collected packages: requests, lxml, yfinance\n",
            "  Attempting uninstall: requests\n",
            "    Found existing installation: requests 2.23.0\n",
            "    Uninstalling requests-2.23.0:\n",
            "      Successfully uninstalled requests-2.23.0\n",
            "  Attempting uninstall: lxml\n",
            "    Found existing installation: lxml 4.2.6\n",
            "    Uninstalling lxml-4.2.6:\n",
            "      Successfully uninstalled lxml-4.2.6\n",
            "\u001b[31mERROR: pip's dependency resolver does not currently take into account all the packages that are installed. This behaviour is the source of the following dependency conflicts.\n",
            "google-colab 1.0.0 requires requests~=2.23.0, but you have requests 2.27.1 which is incompatible.\n",
            "datascience 0.10.6 requires folium==0.2.1, but you have folium 0.8.3 which is incompatible.\u001b[0m\n",
            "Successfully installed lxml-4.7.1 requests-2.27.1 yfinance-0.1.70\n"
          ]
        }
      ]
    },
    {
      "cell_type": "code",
      "metadata": {
        "id": "RepZm8AQGnKe"
      },
      "source": [
        "import yfinance as yf\n",
        "import pandas as pd\n",
        "import numpy as np\n",
        "from functools import reduce"
      ],
      "execution_count": 13,
      "outputs": []
    },
    {
      "cell_type": "markdown",
      "metadata": {
        "id": "z6m9axgvGrfU"
      },
      "source": [
        "## 2. Importando dados para a Carteira 01"
      ]
    },
    {
      "cell_type": "markdown",
      "metadata": {
        "id": "au3zh1hsgSWx"
      },
      "source": [
        "Repare que vou importar também os dados da cotação do dólar. Posteriormente vou converter a cotação do Ethereum para reais, por isso que estou trazendo a cotação do dólar."
      ]
    },
    {
      "cell_type": "code",
      "metadata": {
        "id": "0afxh-iuGype"
      },
      "source": [
        "ativos01 = ['ITUB4.SA','VALE3.SA', 'MGLU3.SA','PETR4.SA', \n",
        "          'BBDC4.SA', 'B3SA3.SA','ABEV3.SA','BPAC11.SA',\n",
        "          'BBAS3.SA','CSAN3.SA','RENT3.SA', 'LREN3.SA']"
      ],
      "execution_count": 14,
      "outputs": []
    },
    {
      "cell_type": "code",
      "metadata": {
        "id": "dnaRWJI2HFtf"
      },
      "source": [
        "inicio = '2020-01-05'\n",
        "fim = '2021-12-05'"
      ],
      "execution_count": 15,
      "outputs": []
    },
    {
      "cell_type": "code",
      "source": [
        "precos = yf.download(ativos01, start = inicio, end = fim)['Adj Close']"
      ],
      "metadata": {
        "colab": {
          "base_uri": "https://localhost:8080/"
        },
        "id": "eO3cxmb4T2ho",
        "outputId": "12f5c02f-b4cf-4892-ea46-ad06ba4065f7"
      },
      "execution_count": 16,
      "outputs": [
        {
          "output_type": "stream",
          "name": "stdout",
          "text": [
            "[*********************100%***********************]  12 of 12 completed\n"
          ]
        }
      ]
    },
    {
      "cell_type": "code",
      "source": [
        "precos.head()"
      ],
      "metadata": {
        "colab": {
          "base_uri": "https://localhost:8080/",
          "height": 238
        },
        "id": "NA6Qylc3UAju",
        "outputId": "01448df9-6be9-48ff-d240-d866018a877a"
      },
      "execution_count": 17,
      "outputs": [
        {
          "output_type": "execute_result",
          "data": {
            "text/html": [
              "\n",
              "  <div id=\"df-f956beb2-3c5f-4a45-b3ca-b89d748403d5\">\n",
              "    <div class=\"colab-df-container\">\n",
              "      <div>\n",
              "<style scoped>\n",
              "    .dataframe tbody tr th:only-of-type {\n",
              "        vertical-align: middle;\n",
              "    }\n",
              "\n",
              "    .dataframe tbody tr th {\n",
              "        vertical-align: top;\n",
              "    }\n",
              "\n",
              "    .dataframe thead th {\n",
              "        text-align: right;\n",
              "    }\n",
              "</style>\n",
              "<table border=\"1\" class=\"dataframe\">\n",
              "  <thead>\n",
              "    <tr style=\"text-align: right;\">\n",
              "      <th></th>\n",
              "      <th>ABEV3.SA</th>\n",
              "      <th>B3SA3.SA</th>\n",
              "      <th>BBAS3.SA</th>\n",
              "      <th>BBDC4.SA</th>\n",
              "      <th>BPAC11.SA</th>\n",
              "      <th>CSAN3.SA</th>\n",
              "      <th>ITUB4.SA</th>\n",
              "      <th>LREN3.SA</th>\n",
              "      <th>MGLU3.SA</th>\n",
              "      <th>PETR4.SA</th>\n",
              "      <th>RENT3.SA</th>\n",
              "      <th>VALE3.SA</th>\n",
              "    </tr>\n",
              "    <tr>\n",
              "      <th>Date</th>\n",
              "      <th></th>\n",
              "      <th></th>\n",
              "      <th></th>\n",
              "      <th></th>\n",
              "      <th></th>\n",
              "      <th></th>\n",
              "      <th></th>\n",
              "      <th></th>\n",
              "      <th></th>\n",
              "      <th></th>\n",
              "      <th></th>\n",
              "      <th></th>\n",
              "    </tr>\n",
              "  </thead>\n",
              "  <tbody>\n",
              "    <tr>\n",
              "      <th>2020-01-06</th>\n",
              "      <td>17.749458</td>\n",
              "      <td>13.197676</td>\n",
              "      <td>47.288906</td>\n",
              "      <td>31.178703</td>\n",
              "      <td>18.262232</td>\n",
              "      <td>17.286381</td>\n",
              "      <td>34.855518</td>\n",
              "      <td>54.785286</td>\n",
              "      <td>11.932190</td>\n",
              "      <td>25.040264</td>\n",
              "      <td>47.603073</td>\n",
              "      <td>43.743118</td>\n",
              "    </tr>\n",
              "    <tr>\n",
              "      <th>2020-01-07</th>\n",
              "      <td>17.786785</td>\n",
              "      <td>13.623506</td>\n",
              "      <td>46.932007</td>\n",
              "      <td>30.637064</td>\n",
              "      <td>18.335096</td>\n",
              "      <td>17.597998</td>\n",
              "      <td>34.046894</td>\n",
              "      <td>54.756474</td>\n",
              "      <td>11.898048</td>\n",
              "      <td>24.942738</td>\n",
              "      <td>48.066002</td>\n",
              "      <td>44.061340</td>\n",
              "    </tr>\n",
              "    <tr>\n",
              "      <th>2020-01-08</th>\n",
              "      <td>17.702797</td>\n",
              "      <td>13.587006</td>\n",
              "      <td>46.503738</td>\n",
              "      <td>30.163116</td>\n",
              "      <td>18.172602</td>\n",
              "      <td>17.307789</td>\n",
              "      <td>33.492130</td>\n",
              "      <td>55.111790</td>\n",
              "      <td>12.263844</td>\n",
              "      <td>24.788319</td>\n",
              "      <td>47.829609</td>\n",
              "      <td>44.069500</td>\n",
              "    </tr>\n",
              "    <tr>\n",
              "      <th>2020-01-09</th>\n",
              "      <td>17.562817</td>\n",
              "      <td>13.580923</td>\n",
              "      <td>45.557953</td>\n",
              "      <td>29.680714</td>\n",
              "      <td>18.296289</td>\n",
              "      <td>17.122248</td>\n",
              "      <td>32.824547</td>\n",
              "      <td>54.689251</td>\n",
              "      <td>12.700356</td>\n",
              "      <td>24.707045</td>\n",
              "      <td>48.085693</td>\n",
              "      <td>43.490173</td>\n",
              "    </tr>\n",
              "    <tr>\n",
              "      <th>2020-01-10</th>\n",
              "      <td>17.628141</td>\n",
              "      <td>13.474465</td>\n",
              "      <td>44.487263</td>\n",
              "      <td>29.139069</td>\n",
              "      <td>18.553371</td>\n",
              "      <td>17.376772</td>\n",
              "      <td>32.533066</td>\n",
              "      <td>54.862110</td>\n",
              "      <td>12.632074</td>\n",
              "      <td>24.601389</td>\n",
              "      <td>47.130291</td>\n",
              "      <td>43.539131</td>\n",
              "    </tr>\n",
              "  </tbody>\n",
              "</table>\n",
              "</div>\n",
              "      <button class=\"colab-df-convert\" onclick=\"convertToInteractive('df-f956beb2-3c5f-4a45-b3ca-b89d748403d5')\"\n",
              "              title=\"Convert this dataframe to an interactive table.\"\n",
              "              style=\"display:none;\">\n",
              "        \n",
              "  <svg xmlns=\"http://www.w3.org/2000/svg\" height=\"24px\"viewBox=\"0 0 24 24\"\n",
              "       width=\"24px\">\n",
              "    <path d=\"M0 0h24v24H0V0z\" fill=\"none\"/>\n",
              "    <path d=\"M18.56 5.44l.94 2.06.94-2.06 2.06-.94-2.06-.94-.94-2.06-.94 2.06-2.06.94zm-11 1L8.5 8.5l.94-2.06 2.06-.94-2.06-.94L8.5 2.5l-.94 2.06-2.06.94zm10 10l.94 2.06.94-2.06 2.06-.94-2.06-.94-.94-2.06-.94 2.06-2.06.94z\"/><path d=\"M17.41 7.96l-1.37-1.37c-.4-.4-.92-.59-1.43-.59-.52 0-1.04.2-1.43.59L10.3 9.45l-7.72 7.72c-.78.78-.78 2.05 0 2.83L4 21.41c.39.39.9.59 1.41.59.51 0 1.02-.2 1.41-.59l7.78-7.78 2.81-2.81c.8-.78.8-2.07 0-2.86zM5.41 20L4 18.59l7.72-7.72 1.47 1.35L5.41 20z\"/>\n",
              "  </svg>\n",
              "      </button>\n",
              "      \n",
              "  <style>\n",
              "    .colab-df-container {\n",
              "      display:flex;\n",
              "      flex-wrap:wrap;\n",
              "      gap: 12px;\n",
              "    }\n",
              "\n",
              "    .colab-df-convert {\n",
              "      background-color: #E8F0FE;\n",
              "      border: none;\n",
              "      border-radius: 50%;\n",
              "      cursor: pointer;\n",
              "      display: none;\n",
              "      fill: #1967D2;\n",
              "      height: 32px;\n",
              "      padding: 0 0 0 0;\n",
              "      width: 32px;\n",
              "    }\n",
              "\n",
              "    .colab-df-convert:hover {\n",
              "      background-color: #E2EBFA;\n",
              "      box-shadow: 0px 1px 2px rgba(60, 64, 67, 0.3), 0px 1px 3px 1px rgba(60, 64, 67, 0.15);\n",
              "      fill: #174EA6;\n",
              "    }\n",
              "\n",
              "    [theme=dark] .colab-df-convert {\n",
              "      background-color: #3B4455;\n",
              "      fill: #D2E3FC;\n",
              "    }\n",
              "\n",
              "    [theme=dark] .colab-df-convert:hover {\n",
              "      background-color: #434B5C;\n",
              "      box-shadow: 0px 1px 3px 1px rgba(0, 0, 0, 0.15);\n",
              "      filter: drop-shadow(0px 1px 2px rgba(0, 0, 0, 0.3));\n",
              "      fill: #FFFFFF;\n",
              "    }\n",
              "  </style>\n",
              "\n",
              "      <script>\n",
              "        const buttonEl =\n",
              "          document.querySelector('#df-f956beb2-3c5f-4a45-b3ca-b89d748403d5 button.colab-df-convert');\n",
              "        buttonEl.style.display =\n",
              "          google.colab.kernel.accessAllowed ? 'block' : 'none';\n",
              "\n",
              "        async function convertToInteractive(key) {\n",
              "          const element = document.querySelector('#df-f956beb2-3c5f-4a45-b3ca-b89d748403d5');\n",
              "          const dataTable =\n",
              "            await google.colab.kernel.invokeFunction('convertToInteractive',\n",
              "                                                     [key], {});\n",
              "          if (!dataTable) return;\n",
              "\n",
              "          const docLinkHtml = 'Like what you see? Visit the ' +\n",
              "            '<a target=\"_blank\" href=https://colab.research.google.com/notebooks/data_table.ipynb>data table notebook</a>'\n",
              "            + ' to learn more about interactive tables.';\n",
              "          element.innerHTML = '';\n",
              "          dataTable['output_type'] = 'display_data';\n",
              "          await google.colab.output.renderOutput(dataTable, element);\n",
              "          const docLink = document.createElement('div');\n",
              "          docLink.innerHTML = docLinkHtml;\n",
              "          element.appendChild(docLink);\n",
              "        }\n",
              "      </script>\n",
              "    </div>\n",
              "  </div>\n",
              "  "
            ],
            "text/plain": [
              "             ABEV3.SA   B3SA3.SA   BBAS3.SA  ...   PETR4.SA   RENT3.SA   VALE3.SA\n",
              "Date                                         ...                                 \n",
              "2020-01-06  17.749458  13.197676  47.288906  ...  25.040264  47.603073  43.743118\n",
              "2020-01-07  17.786785  13.623506  46.932007  ...  24.942738  48.066002  44.061340\n",
              "2020-01-08  17.702797  13.587006  46.503738  ...  24.788319  47.829609  44.069500\n",
              "2020-01-09  17.562817  13.580923  45.557953  ...  24.707045  48.085693  43.490173\n",
              "2020-01-10  17.628141  13.474465  44.487263  ...  24.601389  47.130291  43.539131\n",
              "\n",
              "[5 rows x 12 columns]"
            ]
          },
          "metadata": {},
          "execution_count": 17
        }
      ]
    },
    {
      "cell_type": "markdown",
      "metadata": {
        "id": "ygXugB2HRUTP"
      },
      "source": [
        "## 3. Simulação da Carteira 01"
      ]
    },
    {
      "cell_type": "markdown",
      "metadata": {
        "id": "WjLyg_YAhNTN"
      },
      "source": [
        "Criando um dicionário com as alocações que vamos fazer para cada ativo na nossa carteira"
      ]
    },
    {
      "cell_type": "code",
      "metadata": {
        "id": "yvScK3egUh4j"
      },
      "source": [
        "compras = {'ITUB4.SA': 1200, 'VALE3.SA': 1200, 'MGLU3.SA': 1000,\n",
        "           'PETR4.SA': 1000, 'BBDC4.SA': 1000, 'B3SA3.SA': 900, \n",
        "           'ABEV3.SA': 800, 'BPAC11.SA': 700, 'BBAS3.SA': 600, \n",
        "           'CSAN3.SA': 600, 'RENT3.SA': 500, 'LREN3.SA':500}\n",
        "           \n",
        "compras_df = pd.Series(data=compras, index=list(compras.keys()))"
      ],
      "execution_count": 18,
      "outputs": []
    },
    {
      "cell_type": "markdown",
      "source": [
        ""
      ],
      "metadata": {
        "id": "ThxwXQMAswIz"
      }
    },
    {
      "cell_type": "markdown",
      "metadata": {
        "id": "PD6qNIYRhRwe"
      },
      "source": [
        "Qual o valor total da nossa carteira?"
      ]
    },
    {
      "cell_type": "code",
      "metadata": {
        "colab": {
          "base_uri": "https://localhost:8080/"
        },
        "id": "hXoBtcLGVl4T",
        "outputId": "aa51b1c6-6ba2-434b-a3be-dc7d4dc7e02f"
      },
      "source": [
        "sum(compras.values())"
      ],
      "execution_count": 19,
      "outputs": [
        {
          "output_type": "execute_result",
          "data": {
            "text/plain": [
              "10000"
            ]
          },
          "metadata": {},
          "execution_count": 19
        }
      ]
    },
    {
      "cell_type": "markdown",
      "metadata": {
        "id": "7r7Z_dvyhVp1"
      },
      "source": [
        "Obtendo preços dos ativos no primeiro dia do investimento"
      ]
    },
    {
      "cell_type": "code",
      "metadata": {
        "id": "kducAbvOTQbG",
        "colab": {
          "base_uri": "https://localhost:8080/"
        },
        "outputId": "310fdd70-fc83-46e4-9f44-4ab3f51e580a"
      },
      "source": [
        "precos.iloc[0]"
      ],
      "execution_count": 20,
      "outputs": [
        {
          "output_type": "execute_result",
          "data": {
            "text/plain": [
              "ABEV3.SA     17.749458\n",
              "B3SA3.SA     13.197676\n",
              "BBAS3.SA     47.288906\n",
              "BBDC4.SA     31.178703\n",
              "BPAC11.SA    18.262232\n",
              "CSAN3.SA     17.286381\n",
              "ITUB4.SA     34.855518\n",
              "LREN3.SA     54.785286\n",
              "MGLU3.SA     11.932190\n",
              "PETR4.SA     25.040264\n",
              "RENT3.SA     47.603073\n",
              "VALE3.SA     43.743118\n",
              "Name: 2020-01-06 00:00:00, dtype: float64"
            ]
          },
          "metadata": {},
          "execution_count": 20
        }
      ]
    },
    {
      "cell_type": "markdown",
      "metadata": {
        "id": "MLlDt8g_hbt_"
      },
      "source": [
        "Quantidade de papéis comprados de cada ativo (determinados no primeiro dia)"
      ]
    },
    {
      "cell_type": "code",
      "metadata": {
        "id": "Ch8fKAB-UtHL",
        "colab": {
          "base_uri": "https://localhost:8080/"
        },
        "outputId": "d86f5e1d-d510-4f8c-97f0-c9ab397785fd"
      },
      "source": [
        "compras_df/(precos.iloc[0])"
      ],
      "execution_count": 21,
      "outputs": [
        {
          "output_type": "execute_result",
          "data": {
            "text/plain": [
              "ABEV3.SA     45.071798\n",
              "B3SA3.SA     68.193826\n",
              "BBAS3.SA     12.687965\n",
              "BBDC4.SA     32.073175\n",
              "BPAC11.SA    38.330474\n",
              "CSAN3.SA     34.709406\n",
              "ITUB4.SA     34.427834\n",
              "LREN3.SA      9.126538\n",
              "MGLU3.SA     83.806913\n",
              "PETR4.SA     39.935681\n",
              "RENT3.SA     10.503524\n",
              "VALE3.SA     27.432887\n",
              "dtype: float64"
            ]
          },
          "metadata": {},
          "execution_count": 21
        }
      ]
    },
    {
      "cell_type": "markdown",
      "metadata": {
        "id": "e_6vFWFHhe39"
      },
      "source": [
        "Criando um dataframe que contém a posição diária de cada ativo"
      ]
    },
    {
      "cell_type": "code",
      "metadata": {
        "id": "xip2jxnXTquR"
      },
      "source": [
        "PL01 = precos*compras_df/(precos.iloc[0])"
      ],
      "execution_count": 22,
      "outputs": []
    },
    {
      "cell_type": "markdown",
      "metadata": {
        "id": "8ww6Ls7OhjC-"
      },
      "source": [
        "Criando uma coluna que contém a posição consolidada da nossa carteira diariamente"
      ]
    },
    {
      "cell_type": "code",
      "metadata": {
        "id": "rAWeyr0tT_QU"
      },
      "source": [
        "PL01['Carteira 01'] = PL01.sum(axis = 1)"
      ],
      "execution_count": 23,
      "outputs": []
    },
    {
      "cell_type": "code",
      "metadata": {
        "colab": {
          "base_uri": "https://localhost:8080/",
          "height": 281
        },
        "id": "tYIfKHq5Uudb",
        "outputId": "2cbeaba4-f279-44fe-e024-ae455636bad2"
      },
      "source": [
        "PL01.tail()"
      ],
      "execution_count": 24,
      "outputs": [
        {
          "output_type": "execute_result",
          "data": {
            "text/html": [
              "\n",
              "  <div id=\"df-225a1af5-041b-4b73-b164-a701d7455fbf\">\n",
              "    <div class=\"colab-df-container\">\n",
              "      <div>\n",
              "<style scoped>\n",
              "    .dataframe tbody tr th:only-of-type {\n",
              "        vertical-align: middle;\n",
              "    }\n",
              "\n",
              "    .dataframe tbody tr th {\n",
              "        vertical-align: top;\n",
              "    }\n",
              "\n",
              "    .dataframe thead th {\n",
              "        text-align: right;\n",
              "    }\n",
              "</style>\n",
              "<table border=\"1\" class=\"dataframe\">\n",
              "  <thead>\n",
              "    <tr style=\"text-align: right;\">\n",
              "      <th></th>\n",
              "      <th>ABEV3.SA</th>\n",
              "      <th>B3SA3.SA</th>\n",
              "      <th>BBAS3.SA</th>\n",
              "      <th>BBDC4.SA</th>\n",
              "      <th>BPAC11.SA</th>\n",
              "      <th>CSAN3.SA</th>\n",
              "      <th>ITUB4.SA</th>\n",
              "      <th>LREN3.SA</th>\n",
              "      <th>MGLU3.SA</th>\n",
              "      <th>PETR4.SA</th>\n",
              "      <th>RENT3.SA</th>\n",
              "      <th>VALE3.SA</th>\n",
              "      <th>Carteira 01</th>\n",
              "    </tr>\n",
              "    <tr>\n",
              "      <th>Date</th>\n",
              "      <th></th>\n",
              "      <th></th>\n",
              "      <th></th>\n",
              "      <th></th>\n",
              "      <th></th>\n",
              "      <th></th>\n",
              "      <th></th>\n",
              "      <th></th>\n",
              "      <th></th>\n",
              "      <th></th>\n",
              "      <th></th>\n",
              "      <th></th>\n",
              "      <th></th>\n",
              "    </tr>\n",
              "  </thead>\n",
              "  <tbody>\n",
              "    <tr>\n",
              "      <th>2021-11-29</th>\n",
              "      <td>708.810737</td>\n",
              "      <td>770.903258</td>\n",
              "      <td>388.793735</td>\n",
              "      <td>640.923017</td>\n",
              "      <td>816.612115</td>\n",
              "      <td>732.976941</td>\n",
              "      <td>778.320103</td>\n",
              "      <td>262.743101</td>\n",
              "      <td>673.807574</td>\n",
              "      <td>1047.664170</td>\n",
              "      <td>547.560234</td>\n",
              "      <td>1906.585613</td>\n",
              "      <td>9275.700597</td>\n",
              "    </tr>\n",
              "    <tr>\n",
              "      <th>2021-11-30</th>\n",
              "      <td>696.664628</td>\n",
              "      <td>744.759569</td>\n",
              "      <td>401.791392</td>\n",
              "      <td>629.540113</td>\n",
              "      <td>783.250021</td>\n",
              "      <td>725.128516</td>\n",
              "      <td>768.702677</td>\n",
              "      <td>258.294443</td>\n",
              "      <td>653.693935</td>\n",
              "      <td>1046.242205</td>\n",
              "      <td>535.613469</td>\n",
              "      <td>1918.930328</td>\n",
              "      <td>9162.611297</td>\n",
              "    </tr>\n",
              "    <tr>\n",
              "      <th>2021-12-01</th>\n",
              "      <td>687.988860</td>\n",
              "      <td>738.056117</td>\n",
              "      <td>394.977100</td>\n",
              "      <td>627.010538</td>\n",
              "      <td>787.041192</td>\n",
              "      <td>724.104754</td>\n",
              "      <td>763.809387</td>\n",
              "      <td>256.841822</td>\n",
              "      <td>576.591569</td>\n",
              "      <td>1052.285785</td>\n",
              "      <td>528.277743</td>\n",
              "      <td>1926.611712</td>\n",
              "      <td>9063.596580</td>\n",
              "    </tr>\n",
              "    <tr>\n",
              "      <th>2021-12-02</th>\n",
              "      <td>694.495707</td>\n",
              "      <td>768.221878</td>\n",
              "      <td>405.829515</td>\n",
              "      <td>658.944112</td>\n",
              "      <td>791.969655</td>\n",
              "      <td>748.673856</td>\n",
              "      <td>792.684252</td>\n",
              "      <td>259.747063</td>\n",
              "      <td>566.534749</td>\n",
              "      <td>1132.575937</td>\n",
              "      <td>562.965287</td>\n",
              "      <td>2016.042772</td>\n",
              "      <td>9398.684781</td>\n",
              "    </tr>\n",
              "    <tr>\n",
              "      <th>2021-12-03</th>\n",
              "      <td>694.061915</td>\n",
              "      <td>779.617843</td>\n",
              "      <td>406.334286</td>\n",
              "      <td>657.045187</td>\n",
              "      <td>799.931068</td>\n",
              "      <td>763.347075</td>\n",
              "      <td>789.934230</td>\n",
              "      <td>265.557544</td>\n",
              "      <td>590.838750</td>\n",
              "      <td>1148.550194</td>\n",
              "      <td>574.912051</td>\n",
              "      <td>1971.601630</td>\n",
              "      <td>9441.731774</td>\n",
              "    </tr>\n",
              "  </tbody>\n",
              "</table>\n",
              "</div>\n",
              "      <button class=\"colab-df-convert\" onclick=\"convertToInteractive('df-225a1af5-041b-4b73-b164-a701d7455fbf')\"\n",
              "              title=\"Convert this dataframe to an interactive table.\"\n",
              "              style=\"display:none;\">\n",
              "        \n",
              "  <svg xmlns=\"http://www.w3.org/2000/svg\" height=\"24px\"viewBox=\"0 0 24 24\"\n",
              "       width=\"24px\">\n",
              "    <path d=\"M0 0h24v24H0V0z\" fill=\"none\"/>\n",
              "    <path d=\"M18.56 5.44l.94 2.06.94-2.06 2.06-.94-2.06-.94-.94-2.06-.94 2.06-2.06.94zm-11 1L8.5 8.5l.94-2.06 2.06-.94-2.06-.94L8.5 2.5l-.94 2.06-2.06.94zm10 10l.94 2.06.94-2.06 2.06-.94-2.06-.94-.94-2.06-.94 2.06-2.06.94z\"/><path d=\"M17.41 7.96l-1.37-1.37c-.4-.4-.92-.59-1.43-.59-.52 0-1.04.2-1.43.59L10.3 9.45l-7.72 7.72c-.78.78-.78 2.05 0 2.83L4 21.41c.39.39.9.59 1.41.59.51 0 1.02-.2 1.41-.59l7.78-7.78 2.81-2.81c.8-.78.8-2.07 0-2.86zM5.41 20L4 18.59l7.72-7.72 1.47 1.35L5.41 20z\"/>\n",
              "  </svg>\n",
              "      </button>\n",
              "      \n",
              "  <style>\n",
              "    .colab-df-container {\n",
              "      display:flex;\n",
              "      flex-wrap:wrap;\n",
              "      gap: 12px;\n",
              "    }\n",
              "\n",
              "    .colab-df-convert {\n",
              "      background-color: #E8F0FE;\n",
              "      border: none;\n",
              "      border-radius: 50%;\n",
              "      cursor: pointer;\n",
              "      display: none;\n",
              "      fill: #1967D2;\n",
              "      height: 32px;\n",
              "      padding: 0 0 0 0;\n",
              "      width: 32px;\n",
              "    }\n",
              "\n",
              "    .colab-df-convert:hover {\n",
              "      background-color: #E2EBFA;\n",
              "      box-shadow: 0px 1px 2px rgba(60, 64, 67, 0.3), 0px 1px 3px 1px rgba(60, 64, 67, 0.15);\n",
              "      fill: #174EA6;\n",
              "    }\n",
              "\n",
              "    [theme=dark] .colab-df-convert {\n",
              "      background-color: #3B4455;\n",
              "      fill: #D2E3FC;\n",
              "    }\n",
              "\n",
              "    [theme=dark] .colab-df-convert:hover {\n",
              "      background-color: #434B5C;\n",
              "      box-shadow: 0px 1px 3px 1px rgba(0, 0, 0, 0.15);\n",
              "      filter: drop-shadow(0px 1px 2px rgba(0, 0, 0, 0.3));\n",
              "      fill: #FFFFFF;\n",
              "    }\n",
              "  </style>\n",
              "\n",
              "      <script>\n",
              "        const buttonEl =\n",
              "          document.querySelector('#df-225a1af5-041b-4b73-b164-a701d7455fbf button.colab-df-convert');\n",
              "        buttonEl.style.display =\n",
              "          google.colab.kernel.accessAllowed ? 'block' : 'none';\n",
              "\n",
              "        async function convertToInteractive(key) {\n",
              "          const element = document.querySelector('#df-225a1af5-041b-4b73-b164-a701d7455fbf');\n",
              "          const dataTable =\n",
              "            await google.colab.kernel.invokeFunction('convertToInteractive',\n",
              "                                                     [key], {});\n",
              "          if (!dataTable) return;\n",
              "\n",
              "          const docLinkHtml = 'Like what you see? Visit the ' +\n",
              "            '<a target=\"_blank\" href=https://colab.research.google.com/notebooks/data_table.ipynb>data table notebook</a>'\n",
              "            + ' to learn more about interactive tables.';\n",
              "          element.innerHTML = '';\n",
              "          dataTable['output_type'] = 'display_data';\n",
              "          await google.colab.output.renderOutput(dataTable, element);\n",
              "          const docLink = document.createElement('div');\n",
              "          docLink.innerHTML = docLinkHtml;\n",
              "          element.appendChild(docLink);\n",
              "        }\n",
              "      </script>\n",
              "    </div>\n",
              "  </div>\n",
              "  "
            ],
            "text/plain": [
              "              ABEV3.SA    B3SA3.SA  ...     VALE3.SA  Carteira 01\n",
              "Date                                ...                          \n",
              "2021-11-29  708.810737  770.903258  ...  1906.585613  9275.700597\n",
              "2021-11-30  696.664628  744.759569  ...  1918.930328  9162.611297\n",
              "2021-12-01  687.988860  738.056117  ...  1926.611712  9063.596580\n",
              "2021-12-02  694.495707  768.221878  ...  2016.042772  9398.684781\n",
              "2021-12-03  694.061915  779.617843  ...  1971.601630  9441.731774\n",
              "\n",
              "[5 rows x 13 columns]"
            ]
          },
          "metadata": {},
          "execution_count": 24
        }
      ]
    },
    {
      "cell_type": "code",
      "source": [
        "PL01['Carteira 01'].plot();"
      ],
      "metadata": {
        "colab": {
          "base_uri": "https://localhost:8080/",
          "height": 277
        },
        "id": "a9fXF8G1wsQA",
        "outputId": "898bb1e9-ef20-4a04-d027-341a369d43b8"
      },
      "execution_count": 25,
      "outputs": [
        {
          "output_type": "display_data",
          "data": {
            "image/png": "[encoded data removed]",
            "text/plain": [
              "<Figure size 432x288 with 1 Axes>"
            ]
          },
          "metadata": {
            "needs_background": "light"
          }
        }
      ]
    },
    {
      "cell_type": "markdown",
      "metadata": {
        "id": "BFlZaQxxTNiU"
      },
      "source": [
        "## 4. Obtendo dados do IBOV (ou outros benchmarks)"
      ]
    },
    {
      "cell_type": "markdown",
      "metadata": {
        "id": "fuOiDSQMhnQd"
      },
      "source": [
        "Obtendo dados do IBOV para comparar com a nossa carteira"
      ]
    },
    {
      "cell_type": "code",
      "metadata": {
        "colab": {
          "base_uri": "https://localhost:8080/"
        },
        "id": "Ux0eiVaGUx3m",
        "outputId": "f4848d3e-bc30-457c-c765-6b7006e3dbf9"
      },
      "source": [
        "ibov = yf.download('^BVSP', start = inicio, end = fim)"
      ],
      "execution_count": 34,
      "outputs": [
        {
          "output_type": "stream",
          "name": "stdout",
          "text": [
            "\r[*********************100%***********************]  1 of 1 completed\n"
          ]
        }
      ]
    },
    {
      "cell_type": "code",
      "metadata": {
        "id": "tsJ1k-bcVXOy"
      },
      "source": [
        "ibov.rename(columns = {'Adj Close': 'IBOV'}, inplace = True)"
      ],
      "execution_count": 37,
      "outputs": []
    },
    {
      "cell_type": "code",
      "metadata": {
        "id": "9GVLjzwbVyhK"
      },
      "source": [
        "ibov = ibov.drop(ibov.columns[[0,1,2,3,5]], axis = 1)"
      ],
      "execution_count": 38,
      "outputs": []
    },
    {
      "cell_type": "markdown",
      "metadata": {
        "id": "G_oa3Tc5YDC9"
      },
      "source": [
        "## 5. Carteira 02"
      ]
    },
    {
      "cell_type": "markdown",
      "source": [
        "Utilizando o conhecimento adquirido para a carteira 01, vamos agora criar as carteiras 02 e 03"
      ],
      "metadata": {
        "id": "suyZrYly-rGS"
      }
    },
    {
      "cell_type": "code",
      "source": [
        "ativos02 = ['BPAN4.SA','VALE3.SA', 'WEGE3.SA','TOTS3.SA', 'BPAC11.SA',\n",
        "            'KNRI11.SA','SMAL11.SA','AAPL34.SA','IVVB11.SA', 'TSLA34.SA']\n",
        "\n",
        "precos02 = yf.download(ativos02, start = inicio, end = fim)['Adj Close']\n",
        "\n",
        "compras02 = {'BPAN4.SA': 1500, 'VALE3.SA': 1400, 'WEGE3.SA': 1300, \n",
        "           'TOTS3.SA': 1200, 'BPAC11.SA': 1100, 'KNRI11.SA': 1000, \n",
        "        'SMAL11.SA': 800, 'AAPL34.SA': 700, 'IVVB11.SA': 500, 'TSLA34.SA': 500}\n",
        "           \n",
        "compras_df02 = pd.Series(data=compras02, index=list(compras02.keys()))\n",
        "\n",
        "PL02 = precos02*(compras_df02/(precos02.iloc[0]))\n",
        "\n",
        "PL02['Carteira 02'] = PL02.sum(axis = 1)"
      ],
      "metadata": {
        "id": "FL9pWhq5A3Md",
        "colab": {
          "base_uri": "https://localhost:8080/"
        },
        "outputId": "7f6672ee-8d0e-4f57-b2f4-a03b6fbeb322"
      },
      "execution_count": 60,
      "outputs": [
        {
          "output_type": "stream",
          "name": "stdout",
          "text": [
            "[*********************100%***********************]  10 of 10 completed\n"
          ]
        }
      ]
    },
    {
      "cell_type": "code",
      "source": [
        "precos02.head()"
      ],
      "metadata": {
        "colab": {
          "base_uri": "https://localhost:8080/",
          "height": 238
        },
        "id": "4wlDHNnpzhh8",
        "outputId": "297718fc-4784-4f20-8565-3ef2c793ff77"
      },
      "execution_count": 62,
      "outputs": [
        {
          "output_type": "execute_result",
          "data": {
            "text/html": [
              "\n",
              "  <div id=\"df-51a53e48-3f5e-4a31-a4e0-165c3d46c6ed\">\n",
              "    <div class=\"colab-df-container\">\n",
              "      <div>\n",
              "<style scoped>\n",
              "    .dataframe tbody tr th:only-of-type {\n",
              "        vertical-align: middle;\n",
              "    }\n",
              "\n",
              "    .dataframe tbody tr th {\n",
              "        vertical-align: top;\n",
              "    }\n",
              "\n",
              "    .dataframe thead th {\n",
              "        text-align: right;\n",
              "    }\n",
              "</style>\n",
              "<table border=\"1\" class=\"dataframe\">\n",
              "  <thead>\n",
              "    <tr style=\"text-align: right;\">\n",
              "      <th></th>\n",
              "      <th>AAPL34.SA</th>\n",
              "      <th>BPAC11.SA</th>\n",
              "      <th>BPAN4.SA</th>\n",
              "      <th>IVVB11.SA</th>\n",
              "      <th>KNRI11.SA</th>\n",
              "      <th>SMAL11.SA</th>\n",
              "      <th>TOTS3.SA</th>\n",
              "      <th>TSLA34.SA</th>\n",
              "      <th>VALE3.SA</th>\n",
              "      <th>WEGE3.SA</th>\n",
              "    </tr>\n",
              "    <tr>\n",
              "      <th>Date</th>\n",
              "      <th></th>\n",
              "      <th></th>\n",
              "      <th></th>\n",
              "      <th></th>\n",
              "      <th></th>\n",
              "      <th></th>\n",
              "      <th></th>\n",
              "      <th></th>\n",
              "      <th></th>\n",
              "      <th></th>\n",
              "    </tr>\n",
              "  </thead>\n",
              "  <tbody>\n",
              "    <tr>\n",
              "      <th>2020-01-06</th>\n",
              "      <td>30.097784</td>\n",
              "      <td>18.262234</td>\n",
              "      <td>10.943401</td>\n",
              "      <td>74.25</td>\n",
              "      <td>197.979996</td>\n",
              "      <td>139.100006</td>\n",
              "      <td>22.585520</td>\n",
              "      <td>11.48750</td>\n",
              "      <td>43.743122</td>\n",
              "      <td>17.104216</td>\n",
              "    </tr>\n",
              "    <tr>\n",
              "      <th>2020-01-07</th>\n",
              "      <td>30.171686</td>\n",
              "      <td>18.335094</td>\n",
              "      <td>10.933976</td>\n",
              "      <td>74.25</td>\n",
              "      <td>198.750000</td>\n",
              "      <td>139.399994</td>\n",
              "      <td>22.680433</td>\n",
              "      <td>12.01500</td>\n",
              "      <td>44.061337</td>\n",
              "      <td>17.236616</td>\n",
              "    </tr>\n",
              "    <tr>\n",
              "      <th>2020-01-08</th>\n",
              "      <td>30.425415</td>\n",
              "      <td>18.172602</td>\n",
              "      <td>10.839718</td>\n",
              "      <td>74.25</td>\n",
              "      <td>187.500000</td>\n",
              "      <td>138.199997</td>\n",
              "      <td>22.376062</td>\n",
              "      <td>12.16325</td>\n",
              "      <td>44.069496</td>\n",
              "      <td>16.584421</td>\n",
              "    </tr>\n",
              "    <tr>\n",
              "      <th>2020-01-09</th>\n",
              "      <td>31.334410</td>\n",
              "      <td>18.296291</td>\n",
              "      <td>10.839718</td>\n",
              "      <td>74.25</td>\n",
              "      <td>181.000000</td>\n",
              "      <td>138.800003</td>\n",
              "      <td>22.745888</td>\n",
              "      <td>12.16325</td>\n",
              "      <td>43.490170</td>\n",
              "      <td>16.339231</td>\n",
              "    </tr>\n",
              "    <tr>\n",
              "      <th>2020-01-10</th>\n",
              "      <td>31.467434</td>\n",
              "      <td>18.553371</td>\n",
              "      <td>10.764311</td>\n",
              "      <td>74.25</td>\n",
              "      <td>178.899994</td>\n",
              "      <td>139.399994</td>\n",
              "      <td>22.575703</td>\n",
              "      <td>12.20000</td>\n",
              "      <td>43.539131</td>\n",
              "      <td>16.672686</td>\n",
              "    </tr>\n",
              "  </tbody>\n",
              "</table>\n",
              "</div>\n",
              "      <button class=\"colab-df-convert\" onclick=\"convertToInteractive('df-51a53e48-3f5e-4a31-a4e0-165c3d46c6ed')\"\n",
              "              title=\"Convert this dataframe to an interactive table.\"\n",
              "              style=\"display:none;\">\n",
              "        \n",
              "  <svg xmlns=\"http://www.w3.org/2000/svg\" height=\"24px\"viewBox=\"0 0 24 24\"\n",
              "       width=\"24px\">\n",
              "    <path d=\"M0 0h24v24H0V0z\" fill=\"none\"/>\n",
              "    <path d=\"M18.56 5.44l.94 2.06.94-2.06 2.06-.94-2.06-.94-.94-2.06-.94 2.06-2.06.94zm-11 1L8.5 8.5l.94-2.06 2.06-.94-2.06-.94L8.5 2.5l-.94 2.06-2.06.94zm10 10l.94 2.06.94-2.06 2.06-.94-2.06-.94-.94-2.06-.94 2.06-2.06.94z\"/><path d=\"M17.41 7.96l-1.37-1.37c-.4-.4-.92-.59-1.43-.59-.52 0-1.04.2-1.43.59L10.3 9.45l-7.72 7.72c-.78.78-.78 2.05 0 2.83L4 21.41c.39.39.9.59 1.41.59.51 0 1.02-.2 1.41-.59l7.78-7.78 2.81-2.81c.8-.78.8-2.07 0-2.86zM5.41 20L4 18.59l7.72-7.72 1.47 1.35L5.41 20z\"/>\n",
              "  </svg>\n",
              "      </button>\n",
              "      \n",
              "  <style>\n",
              "    .colab-df-container {\n",
              "      display:flex;\n",
              "      flex-wrap:wrap;\n",
              "      gap: 12px;\n",
              "    }\n",
              "\n",
              "    .colab-df-convert {\n",
              "      background-color: #E8F0FE;\n",
              "      border: none;\n",
              "      border-radius: 50%;\n",
              "      cursor: pointer;\n",
              "      display: none;\n",
              "      fill: #1967D2;\n",
              "      height: 32px;\n",
              "      padding: 0 0 0 0;\n",
              "      width: 32px;\n",
              "    }\n",
              "\n",
              "    .colab-df-convert:hover {\n",
              "      background-color: #E2EBFA;\n",
              "      box-shadow: 0px 1px 2px rgba(60, 64, 67, 0.3), 0px 1px 3px 1px rgba(60, 64, 67, 0.15);\n",
              "      fill: #174EA6;\n",
              "    }\n",
              "\n",
              "    [theme=dark] .colab-df-convert {\n",
              "      background-color: #3B4455;\n",
              "      fill: #D2E3FC;\n",
              "    }\n",
              "\n",
              "    [theme=dark] .colab-df-convert:hover {\n",
              "      background-color: #434B5C;\n",
              "      box-shadow: 0px 1px 3px 1px rgba(0, 0, 0, 0.15);\n",
              "      filter: drop-shadow(0px 1px 2px rgba(0, 0, 0, 0.3));\n",
              "      fill: #FFFFFF;\n",
              "    }\n",
              "  </style>\n",
              "\n",
              "      <script>\n",
              "        const buttonEl =\n",
              "          document.querySelector('#df-51a53e48-3f5e-4a31-a4e0-165c3d46c6ed button.colab-df-convert');\n",
              "        buttonEl.style.display =\n",
              "          google.colab.kernel.accessAllowed ? 'block' : 'none';\n",
              "\n",
              "        async function convertToInteractive(key) {\n",
              "          const element = document.querySelector('#df-51a53e48-3f5e-4a31-a4e0-165c3d46c6ed');\n",
              "          const dataTable =\n",
              "            await google.colab.kernel.invokeFunction('convertToInteractive',\n",
              "                                                     [key], {});\n",
              "          if (!dataTable) return;\n",
              "\n",
              "          const docLinkHtml = 'Like what you see? Visit the ' +\n",
              "            '<a target=\"_blank\" href=https://colab.research.google.com/notebooks/data_table.ipynb>data table notebook</a>'\n",
              "            + ' to learn more about interactive tables.';\n",
              "          element.innerHTML = '';\n",
              "          dataTable['output_type'] = 'display_data';\n",
              "          await google.colab.output.renderOutput(dataTable, element);\n",
              "          const docLink = document.createElement('div');\n",
              "          docLink.innerHTML = docLinkHtml;\n",
              "          element.appendChild(docLink);\n",
              "        }\n",
              "      </script>\n",
              "    </div>\n",
              "  </div>\n",
              "  "
            ],
            "text/plain": [
              "            AAPL34.SA  BPAC11.SA   BPAN4.SA  ...  TSLA34.SA   VALE3.SA   WEGE3.SA\n",
              "Date                                         ...                                 \n",
              "2020-01-06  30.097784  18.262234  10.943401  ...   11.48750  43.743122  17.104216\n",
              "2020-01-07  30.171686  18.335094  10.933976  ...   12.01500  44.061337  17.236616\n",
              "2020-01-08  30.425415  18.172602  10.839718  ...   12.16325  44.069496  16.584421\n",
              "2020-01-09  31.334410  18.296291  10.839718  ...   12.16325  43.490170  16.339231\n",
              "2020-01-10  31.467434  18.553371  10.764311  ...   12.20000  43.539131  16.672686\n",
              "\n",
              "[5 rows x 10 columns]"
            ]
          },
          "metadata": {},
          "execution_count": 62
        }
      ]
    },
    {
      "cell_type": "code",
      "source": [
        "sum(compras02.values())"
      ],
      "metadata": {
        "colab": {
          "base_uri": "https://localhost:8080/"
        },
        "id": "B3Z-5kEf7_Ta",
        "outputId": "81c5a596-905c-4b5d-ad46-97387597c25c"
      },
      "execution_count": 63,
      "outputs": [
        {
          "output_type": "execute_result",
          "data": {
            "text/plain": [
              "10000"
            ]
          },
          "metadata": {},
          "execution_count": 63
        }
      ]
    },
    {
      "cell_type": "code",
      "source": [
        "PL02.head()"
      ],
      "metadata": {
        "colab": {
          "base_uri": "https://localhost:8080/",
          "height": 238
        },
        "id": "m6GcvP7X2gVY",
        "outputId": "024c32cb-7011-4ea7-cb08-63e52ccffdcf"
      },
      "execution_count": 64,
      "outputs": [
        {
          "output_type": "execute_result",
          "data": {
            "text/html": [
              "\n",
              "  <div id=\"df-c64de279-59d4-405d-96f9-a37d4dbfb5b1\">\n",
              "    <div class=\"colab-df-container\">\n",
              "      <div>\n",
              "<style scoped>\n",
              "    .dataframe tbody tr th:only-of-type {\n",
              "        vertical-align: middle;\n",
              "    }\n",
              "\n",
              "    .dataframe tbody tr th {\n",
              "        vertical-align: top;\n",
              "    }\n",
              "\n",
              "    .dataframe thead th {\n",
              "        text-align: right;\n",
              "    }\n",
              "</style>\n",
              "<table border=\"1\" class=\"dataframe\">\n",
              "  <thead>\n",
              "    <tr style=\"text-align: right;\">\n",
              "      <th></th>\n",
              "      <th>AAPL34.SA</th>\n",
              "      <th>BPAC11.SA</th>\n",
              "      <th>BPAN4.SA</th>\n",
              "      <th>IVVB11.SA</th>\n",
              "      <th>KNRI11.SA</th>\n",
              "      <th>SMAL11.SA</th>\n",
              "      <th>TOTS3.SA</th>\n",
              "      <th>TSLA34.SA</th>\n",
              "      <th>VALE3.SA</th>\n",
              "      <th>WEGE3.SA</th>\n",
              "      <th>Carteira 02</th>\n",
              "    </tr>\n",
              "    <tr>\n",
              "      <th>Date</th>\n",
              "      <th></th>\n",
              "      <th></th>\n",
              "      <th></th>\n",
              "      <th></th>\n",
              "      <th></th>\n",
              "      <th></th>\n",
              "      <th></th>\n",
              "      <th></th>\n",
              "      <th></th>\n",
              "      <th></th>\n",
              "      <th></th>\n",
              "    </tr>\n",
              "  </thead>\n",
              "  <tbody>\n",
              "    <tr>\n",
              "      <th>2020-01-06</th>\n",
              "      <td>700.000000</td>\n",
              "      <td>1100.000000</td>\n",
              "      <td>1500.000000</td>\n",
              "      <td>500.0</td>\n",
              "      <td>1000.000000</td>\n",
              "      <td>800.000000</td>\n",
              "      <td>1200.000000</td>\n",
              "      <td>500.000000</td>\n",
              "      <td>1400.000000</td>\n",
              "      <td>1300.000000</td>\n",
              "      <td>10000.000000</td>\n",
              "    </tr>\n",
              "    <tr>\n",
              "      <th>2020-01-07</th>\n",
              "      <td>701.718781</td>\n",
              "      <td>1104.388663</td>\n",
              "      <td>1498.708103</td>\n",
              "      <td>500.0</td>\n",
              "      <td>1003.889303</td>\n",
              "      <td>801.725307</td>\n",
              "      <td>1205.042885</td>\n",
              "      <td>522.959745</td>\n",
              "      <td>1410.184462</td>\n",
              "      <td>1310.063055</td>\n",
              "      <td>10058.680305</td>\n",
              "    </tr>\n",
              "    <tr>\n",
              "      <th>2020-01-08</th>\n",
              "      <td>707.619886</td>\n",
              "      <td>1094.601140</td>\n",
              "      <td>1485.788220</td>\n",
              "      <td>500.0</td>\n",
              "      <td>947.065381</td>\n",
              "      <td>794.823815</td>\n",
              "      <td>1188.871238</td>\n",
              "      <td>529.412395</td>\n",
              "      <td>1410.445612</td>\n",
              "      <td>1260.493201</td>\n",
              "      <td>9919.120889</td>\n",
              "    </tr>\n",
              "    <tr>\n",
              "      <th>2020-01-09</th>\n",
              "      <td>728.760854</td>\n",
              "      <td>1102.051413</td>\n",
              "      <td>1485.788220</td>\n",
              "      <td>500.0</td>\n",
              "      <td>914.233781</td>\n",
              "      <td>798.274605</td>\n",
              "      <td>1208.520573</td>\n",
              "      <td>529.412395</td>\n",
              "      <td>1391.904245</td>\n",
              "      <td>1241.857645</td>\n",
              "      <td>9900.803730</td>\n",
              "    </tr>\n",
              "    <tr>\n",
              "      <th>2020-01-10</th>\n",
              "      <td>731.854668</td>\n",
              "      <td>1117.536270</td>\n",
              "      <td>1475.452262</td>\n",
              "      <td>500.0</td>\n",
              "      <td>903.626618</td>\n",
              "      <td>801.725307</td>\n",
              "      <td>1199.478403</td>\n",
              "      <td>531.011952</td>\n",
              "      <td>1393.471264</td>\n",
              "      <td>1267.201712</td>\n",
              "      <td>9921.358455</td>\n",
              "    </tr>\n",
              "  </tbody>\n",
              "</table>\n",
              "</div>\n",
              "      <button class=\"colab-df-convert\" onclick=\"convertToInteractive('df-c64de279-59d4-405d-96f9-a37d4dbfb5b1')\"\n",
              "              title=\"Convert this dataframe to an interactive table.\"\n",
              "              style=\"display:none;\">\n",
              "        \n",
              "  <svg xmlns=\"http://www.w3.org/2000/svg\" height=\"24px\"viewBox=\"0 0 24 24\"\n",
              "       width=\"24px\">\n",
              "    <path d=\"M0 0h24v24H0V0z\" fill=\"none\"/>\n",
              "    <path d=\"M18.56 5.44l.94 2.06.94-2.06 2.06-.94-2.06-.94-.94-2.06-.94 2.06-2.06.94zm-11 1L8.5 8.5l.94-2.06 2.06-.94-2.06-.94L8.5 2.5l-.94 2.06-2.06.94zm10 10l.94 2.06.94-2.06 2.06-.94-2.06-.94-.94-2.06-.94 2.06-2.06.94z\"/><path d=\"M17.41 7.96l-1.37-1.37c-.4-.4-.92-.59-1.43-.59-.52 0-1.04.2-1.43.59L10.3 9.45l-7.72 7.72c-.78.78-.78 2.05 0 2.83L4 21.41c.39.39.9.59 1.41.59.51 0 1.02-.2 1.41-.59l7.78-7.78 2.81-2.81c.8-.78.8-2.07 0-2.86zM5.41 20L4 18.59l7.72-7.72 1.47 1.35L5.41 20z\"/>\n",
              "  </svg>\n",
              "      </button>\n",
              "      \n",
              "  <style>\n",
              "    .colab-df-container {\n",
              "      display:flex;\n",
              "      flex-wrap:wrap;\n",
              "      gap: 12px;\n",
              "    }\n",
              "\n",
              "    .colab-df-convert {\n",
              "      background-color: #E8F0FE;\n",
              "      border: none;\n",
              "      border-radius: 50%;\n",
              "      cursor: pointer;\n",
              "      display: none;\n",
              "      fill: #1967D2;\n",
              "      height: 32px;\n",
              "      padding: 0 0 0 0;\n",
              "      width: 32px;\n",
              "    }\n",
              "\n",
              "    .colab-df-convert:hover {\n",
              "      background-color: #E2EBFA;\n",
              "      box-shadow: 0px 1px 2px rgba(60, 64, 67, 0.3), 0px 1px 3px 1px rgba(60, 64, 67, 0.15);\n",
              "      fill: #174EA6;\n",
              "    }\n",
              "\n",
              "    [theme=dark] .colab-df-convert {\n",
              "      background-color: #3B4455;\n",
              "      fill: #D2E3FC;\n",
              "    }\n",
              "\n",
              "    [theme=dark] .colab-df-convert:hover {\n",
              "      background-color: #434B5C;\n",
              "      box-shadow: 0px 1px 3px 1px rgba(0, 0, 0, 0.15);\n",
              "      filter: drop-shadow(0px 1px 2px rgba(0, 0, 0, 0.3));\n",
              "      fill: #FFFFFF;\n",
              "    }\n",
              "  </style>\n",
              "\n",
              "      <script>\n",
              "        const buttonEl =\n",
              "          document.querySelector('#df-c64de279-59d4-405d-96f9-a37d4dbfb5b1 button.colab-df-convert');\n",
              "        buttonEl.style.display =\n",
              "          google.colab.kernel.accessAllowed ? 'block' : 'none';\n",
              "\n",
              "        async function convertToInteractive(key) {\n",
              "          const element = document.querySelector('#df-c64de279-59d4-405d-96f9-a37d4dbfb5b1');\n",
              "          const dataTable =\n",
              "            await google.colab.kernel.invokeFunction('convertToInteractive',\n",
              "                                                     [key], {});\n",
              "          if (!dataTable) return;\n",
              "\n",
              "          const docLinkHtml = 'Like what you see? Visit the ' +\n",
              "            '<a target=\"_blank\" href=https://colab.research.google.com/notebooks/data_table.ipynb>data table notebook</a>'\n",
              "            + ' to learn more about interactive tables.';\n",
              "          element.innerHTML = '';\n",
              "          dataTable['output_type'] = 'display_data';\n",
              "          await google.colab.output.renderOutput(dataTable, element);\n",
              "          const docLink = document.createElement('div');\n",
              "          docLink.innerHTML = docLinkHtml;\n",
              "          element.appendChild(docLink);\n",
              "        }\n",
              "      </script>\n",
              "    </div>\n",
              "  </div>\n",
              "  "
            ],
            "text/plain": [
              "             AAPL34.SA    BPAC11.SA  ...     WEGE3.SA   Carteira 02\n",
              "Date                                 ...                           \n",
              "2020-01-06  700.000000  1100.000000  ...  1300.000000  10000.000000\n",
              "2020-01-07  701.718781  1104.388663  ...  1310.063055  10058.680305\n",
              "2020-01-08  707.619886  1094.601140  ...  1260.493201   9919.120889\n",
              "2020-01-09  728.760854  1102.051413  ...  1241.857645   9900.803730\n",
              "2020-01-10  731.854668  1117.536270  ...  1267.201712   9921.358455\n",
              "\n",
              "[5 rows x 11 columns]"
            ]
          },
          "metadata": {},
          "execution_count": 64
        }
      ]
    },
    {
      "cell_type": "markdown",
      "source": [
        "## 6. Carteira 03"
      ],
      "metadata": {
        "id": "FnGb5asGA4oz"
      }
    },
    {
      "cell_type": "code",
      "metadata": {
        "colab": {
          "base_uri": "https://localhost:8080/"
        },
        "id": "TjYq94KuHsgw",
        "outputId": "278b99db-89c3-47fa-cfbd-d967b9041ec7"
      },
      "source": [
        "ativos03 = ['IVVB11.SA','GOGL34.SA', 'COCA34.SA','MSFT34.SA', 'WEGE3.SA',\n",
        "            'VALE3.SA','PETR4.SA', 'SUZB3.SA', 'JBSS3.SA']\n",
        "\n",
        "precos03 = yf.download(ativos03, start = inicio, end = fim)['Adj Close']\n",
        "\n",
        "compras03 = {'IVVB11.SA': 1500, 'GOGL34.SA': 1500, 'COCA34.SA': 1000, \n",
        "           'MSFT34.SA': 1000, 'WEGE3.SA': 1000, 'VALE3.SA': 1000, \n",
        "           'PETR4.SA': 1000, 'SUZB3.SA': 1000, 'JBSS3.SA':1000}\n",
        "           \n",
        "compras_df03 = pd.Series(data=compras03, index=list(compras03.keys()))\n",
        "\n",
        "PL03 = precos03*(compras_df03/(precos03.iloc[0]))\n",
        "\n",
        "PL03['Carteira 03'] = PL03.sum(axis = 1)"
      ],
      "execution_count": 65,
      "outputs": [
        {
          "output_type": "stream",
          "name": "stdout",
          "text": [
            "[*********************100%***********************]  9 of 9 completed\n"
          ]
        }
      ]
    },
    {
      "cell_type": "code",
      "source": [
        "PL03.head()"
      ],
      "metadata": {
        "colab": {
          "base_uri": "https://localhost:8080/",
          "height": 238
        },
        "id": "Ztm0Q1tV5ZOn",
        "outputId": "7d1d0abc-3347-4736-853e-7c6e59cbaa66"
      },
      "execution_count": 67,
      "outputs": [
        {
          "output_type": "execute_result",
          "data": {
            "text/html": [
              "\n",
              "  <div id=\"df-8b2a2403-7af9-4307-aaee-d3219505a8dc\">\n",
              "    <div class=\"colab-df-container\">\n",
              "      <div>\n",
              "<style scoped>\n",
              "    .dataframe tbody tr th:only-of-type {\n",
              "        vertical-align: middle;\n",
              "    }\n",
              "\n",
              "    .dataframe tbody tr th {\n",
              "        vertical-align: top;\n",
              "    }\n",
              "\n",
              "    .dataframe thead th {\n",
              "        text-align: right;\n",
              "    }\n",
              "</style>\n",
              "<table border=\"1\" class=\"dataframe\">\n",
              "  <thead>\n",
              "    <tr style=\"text-align: right;\">\n",
              "      <th></th>\n",
              "      <th>COCA34.SA</th>\n",
              "      <th>GOGL34.SA</th>\n",
              "      <th>IVVB11.SA</th>\n",
              "      <th>JBSS3.SA</th>\n",
              "      <th>MSFT34.SA</th>\n",
              "      <th>PETR4.SA</th>\n",
              "      <th>SUZB3.SA</th>\n",
              "      <th>VALE3.SA</th>\n",
              "      <th>WEGE3.SA</th>\n",
              "      <th>Carteira 03</th>\n",
              "    </tr>\n",
              "    <tr>\n",
              "      <th>Date</th>\n",
              "      <th></th>\n",
              "      <th></th>\n",
              "      <th></th>\n",
              "      <th></th>\n",
              "      <th></th>\n",
              "      <th></th>\n",
              "      <th></th>\n",
              "      <th></th>\n",
              "      <th></th>\n",
              "      <th></th>\n",
              "    </tr>\n",
              "  </thead>\n",
              "  <tbody>\n",
              "    <tr>\n",
              "      <th>2020-01-06</th>\n",
              "      <td>1000.000000</td>\n",
              "      <td>1500.000000</td>\n",
              "      <td>1500.0</td>\n",
              "      <td>1000.000000</td>\n",
              "      <td>1000.000000</td>\n",
              "      <td>1000.000000</td>\n",
              "      <td>1000.000000</td>\n",
              "      <td>1000.000000</td>\n",
              "      <td>1000.000000</td>\n",
              "      <td>10000.000000</td>\n",
              "    </tr>\n",
              "    <tr>\n",
              "      <th>2020-01-07</th>\n",
              "      <td>1000.000000</td>\n",
              "      <td>1504.675097</td>\n",
              "      <td>1500.0</td>\n",
              "      <td>1017.897023</td>\n",
              "      <td>993.783987</td>\n",
              "      <td>996.105135</td>\n",
              "      <td>1012.814064</td>\n",
              "      <td>1007.274791</td>\n",
              "      <td>1007.740588</td>\n",
              "      <td>10040.290685</td>\n",
              "    </tr>\n",
              "    <tr>\n",
              "      <th>2020-01-08</th>\n",
              "      <td>999.504612</td>\n",
              "      <td>1509.218623</td>\n",
              "      <td>1500.0</td>\n",
              "      <td>1042.878486</td>\n",
              "      <td>1007.437165</td>\n",
              "      <td>989.938157</td>\n",
              "      <td>1063.331664</td>\n",
              "      <td>1007.461239</td>\n",
              "      <td>969.609935</td>\n",
              "      <td>10089.379881</td>\n",
              "    </tr>\n",
              "    <tr>\n",
              "      <th>2020-01-09</th>\n",
              "      <td>999.504612</td>\n",
              "      <td>1534.240491</td>\n",
              "      <td>1500.0</td>\n",
              "      <td>1055.555551</td>\n",
              "      <td>1020.858730</td>\n",
              "      <td>986.692576</td>\n",
              "      <td>1060.620949</td>\n",
              "      <td>994.217404</td>\n",
              "      <td>955.275005</td>\n",
              "      <td>10106.965320</td>\n",
              "    </tr>\n",
              "    <tr>\n",
              "      <th>2020-01-10</th>\n",
              "      <td>1025.219349</td>\n",
              "      <td>1550.570627</td>\n",
              "      <td>1500.0</td>\n",
              "      <td>1049.962598</td>\n",
              "      <td>1029.022890</td>\n",
              "      <td>982.473298</td>\n",
              "      <td>1062.345967</td>\n",
              "      <td>995.336704</td>\n",
              "      <td>974.770550</td>\n",
              "      <td>10169.701982</td>\n",
              "    </tr>\n",
              "  </tbody>\n",
              "</table>\n",
              "</div>\n",
              "      <button class=\"colab-df-convert\" onclick=\"convertToInteractive('df-8b2a2403-7af9-4307-aaee-d3219505a8dc')\"\n",
              "              title=\"Convert this dataframe to an interactive table.\"\n",
              "              style=\"display:none;\">\n",
              "        \n",
              "  <svg xmlns=\"http://www.w3.org/2000/svg\" height=\"24px\"viewBox=\"0 0 24 24\"\n",
              "       width=\"24px\">\n",
              "    <path d=\"M0 0h24v24H0V0z\" fill=\"none\"/>\n",
              "    <path d=\"M18.56 5.44l.94 2.06.94-2.06 2.06-.94-2.06-.94-.94-2.06-.94 2.06-2.06.94zm-11 1L8.5 8.5l.94-2.06 2.06-.94-2.06-.94L8.5 2.5l-.94 2.06-2.06.94zm10 10l.94 2.06.94-2.06 2.06-.94-2.06-.94-.94-2.06-.94 2.06-2.06.94z\"/><path d=\"M17.41 7.96l-1.37-1.37c-.4-.4-.92-.59-1.43-.59-.52 0-1.04.2-1.43.59L10.3 9.45l-7.72 7.72c-.78.78-.78 2.05 0 2.83L4 21.41c.39.39.9.59 1.41.59.51 0 1.02-.2 1.41-.59l7.78-7.78 2.81-2.81c.8-.78.8-2.07 0-2.86zM5.41 20L4 18.59l7.72-7.72 1.47 1.35L5.41 20z\"/>\n",
              "  </svg>\n",
              "      </button>\n",
              "      \n",
              "  <style>\n",
              "    .colab-df-container {\n",
              "      display:flex;\n",
              "      flex-wrap:wrap;\n",
              "      gap: 12px;\n",
              "    }\n",
              "\n",
              "    .colab-df-convert {\n",
              "      background-color: #E8F0FE;\n",
              "      border: none;\n",
              "      border-radius: 50%;\n",
              "      cursor: pointer;\n",
              "      display: none;\n",
              "      fill: #1967D2;\n",
              "      height: 32px;\n",
              "      padding: 0 0 0 0;\n",
              "      width: 32px;\n",
              "    }\n",
              "\n",
              "    .colab-df-convert:hover {\n",
              "      background-color: #E2EBFA;\n",
              "      box-shadow: 0px 1px 2px rgba(60, 64, 67, 0.3), 0px 1px 3px 1px rgba(60, 64, 67, 0.15);\n",
              "      fill: #174EA6;\n",
              "    }\n",
              "\n",
              "    [theme=dark] .colab-df-convert {\n",
              "      background-color: #3B4455;\n",
              "      fill: #D2E3FC;\n",
              "    }\n",
              "\n",
              "    [theme=dark] .colab-df-convert:hover {\n",
              "      background-color: #434B5C;\n",
              "      box-shadow: 0px 1px 3px 1px rgba(0, 0, 0, 0.15);\n",
              "      filter: drop-shadow(0px 1px 2px rgba(0, 0, 0, 0.3));\n",
              "      fill: #FFFFFF;\n",
              "    }\n",
              "  </style>\n",
              "\n",
              "      <script>\n",
              "        const buttonEl =\n",
              "          document.querySelector('#df-8b2a2403-7af9-4307-aaee-d3219505a8dc button.colab-df-convert');\n",
              "        buttonEl.style.display =\n",
              "          google.colab.kernel.accessAllowed ? 'block' : 'none';\n",
              "\n",
              "        async function convertToInteractive(key) {\n",
              "          const element = document.querySelector('#df-8b2a2403-7af9-4307-aaee-d3219505a8dc');\n",
              "          const dataTable =\n",
              "            await google.colab.kernel.invokeFunction('convertToInteractive',\n",
              "                                                     [key], {});\n",
              "          if (!dataTable) return;\n",
              "\n",
              "          const docLinkHtml = 'Like what you see? Visit the ' +\n",
              "            '<a target=\"_blank\" href=https://colab.research.google.com/notebooks/data_table.ipynb>data table notebook</a>'\n",
              "            + ' to learn more about interactive tables.';\n",
              "          element.innerHTML = '';\n",
              "          dataTable['output_type'] = 'display_data';\n",
              "          await google.colab.output.renderOutput(dataTable, element);\n",
              "          const docLink = document.createElement('div');\n",
              "          docLink.innerHTML = docLinkHtml;\n",
              "          element.appendChild(docLink);\n",
              "        }\n",
              "      </script>\n",
              "    </div>\n",
              "  </div>\n",
              "  "
            ],
            "text/plain": [
              "              COCA34.SA    GOGL34.SA  ...     WEGE3.SA   Carteira 03\n",
              "Date                                  ...                           \n",
              "2020-01-06  1000.000000  1500.000000  ...  1000.000000  10000.000000\n",
              "2020-01-07  1000.000000  1504.675097  ...  1007.740588  10040.290685\n",
              "2020-01-08   999.504612  1509.218623  ...   969.609935  10089.379881\n",
              "2020-01-09   999.504612  1534.240491  ...   955.275005  10106.965320\n",
              "2020-01-10  1025.219349  1550.570627  ...   974.770550  10169.701982\n",
              "\n",
              "[5 rows x 10 columns]"
            ]
          },
          "metadata": {},
          "execution_count": 67
        }
      ]
    },
    {
      "cell_type": "markdown",
      "source": [
        "## 7. Comparativos de carteira"
      ],
      "metadata": {
        "id": "01bKIrqI-06J"
      }
    },
    {
      "cell_type": "code",
      "source": [
        "from functools import reduce\n",
        "\n",
        "dfs = [PL01, PL02, PL03, ibov]\n",
        "\n",
        "df_final = reduce(lambda left,right: pd.merge(left,right,on='Date'), dfs)"
      ],
      "metadata": {
        "id": "tF_5Qdi_-37p"
      },
      "execution_count": 49,
      "outputs": []
    },
    {
      "cell_type": "code",
      "source": [
        "# Join na mão\n",
        "\n",
        "#nova_02 = pd.merge(PL01, PL02, how = 'inner', on = 'Date')\n",
        "\n",
        "#nova_03 = pd.merge(nova_02, PL03, how = 'inner', on = 'Date')\n",
        "\n",
        "#nova_04 = pd.merge(ibov, nova_03, how = 'inner', on = 'Date')"
      ],
      "metadata": {
        "id": "7NSbsHfG2xIm"
      },
      "execution_count": 50,
      "outputs": []
    },
    {
      "cell_type": "code",
      "source": [
        "df_final.head()"
      ],
      "metadata": {
        "colab": {
          "base_uri": "https://localhost:8080/",
          "height": 405
        },
        "id": "oXJJLSYZ2_OL",
        "outputId": "78023e2c-00a0-46a9-e049-ee63b7ce7927"
      },
      "execution_count": 68,
      "outputs": [
        {
          "output_type": "execute_result",
          "data": {
            "text/html": [
              "\n",
              "  <div id=\"df-59ee2144-977d-4c3f-b377-807d764333ef\">\n",
              "    <div class=\"colab-df-container\">\n",
              "      <div>\n",
              "<style scoped>\n",
              "    .dataframe tbody tr th:only-of-type {\n",
              "        vertical-align: middle;\n",
              "    }\n",
              "\n",
              "    .dataframe tbody tr th {\n",
              "        vertical-align: top;\n",
              "    }\n",
              "\n",
              "    .dataframe thead th {\n",
              "        text-align: right;\n",
              "    }\n",
              "</style>\n",
              "<table border=\"1\" class=\"dataframe\">\n",
              "  <thead>\n",
              "    <tr style=\"text-align: right;\">\n",
              "      <th></th>\n",
              "      <th>ABEV3.SA</th>\n",
              "      <th>B3SA3.SA</th>\n",
              "      <th>BBAS3.SA</th>\n",
              "      <th>BBDC4.SA</th>\n",
              "      <th>BPAC11.SA_x</th>\n",
              "      <th>CSAN3.SA</th>\n",
              "      <th>ITUB4.SA</th>\n",
              "      <th>LREN3.SA</th>\n",
              "      <th>MGLU3.SA</th>\n",
              "      <th>PETR4.SA_x</th>\n",
              "      <th>RENT3.SA</th>\n",
              "      <th>VALE3.SA_x</th>\n",
              "      <th>Carteira 01</th>\n",
              "      <th>AAPL34.SA</th>\n",
              "      <th>BPAC11.SA_y</th>\n",
              "      <th>BPAN4.SA</th>\n",
              "      <th>COCA34.SA_x</th>\n",
              "      <th>GOGL34.SA_x</th>\n",
              "      <th>IVVB11.SA_x</th>\n",
              "      <th>JBSS3.SA_x</th>\n",
              "      <th>KNRI11.SA</th>\n",
              "      <th>MSFT34.SA_x</th>\n",
              "      <th>PETR4.SA_y</th>\n",
              "      <th>SMAL11.SA</th>\n",
              "      <th>SUZB3.SA_x</th>\n",
              "      <th>TOTS3.SA</th>\n",
              "      <th>TSLA34.SA</th>\n",
              "      <th>VALE3.SA_y</th>\n",
              "      <th>WEGE3.SA_x</th>\n",
              "      <th>Carteira 02</th>\n",
              "      <th>COCA34.SA_y</th>\n",
              "      <th>GOGL34.SA_y</th>\n",
              "      <th>IVVB11.SA_y</th>\n",
              "      <th>JBSS3.SA_y</th>\n",
              "      <th>MSFT34.SA_y</th>\n",
              "      <th>PETR4.SA</th>\n",
              "      <th>SUZB3.SA_y</th>\n",
              "      <th>VALE3.SA</th>\n",
              "      <th>WEGE3.SA_y</th>\n",
              "      <th>Carteira 03</th>\n",
              "      <th>IBOV</th>\n",
              "    </tr>\n",
              "    <tr>\n",
              "      <th>Date</th>\n",
              "      <th></th>\n",
              "      <th></th>\n",
              "      <th></th>\n",
              "      <th></th>\n",
              "      <th></th>\n",
              "      <th></th>\n",
              "      <th></th>\n",
              "      <th></th>\n",
              "      <th></th>\n",
              "      <th></th>\n",
              "      <th></th>\n",
              "      <th></th>\n",
              "      <th></th>\n",
              "      <th></th>\n",
              "      <th></th>\n",
              "      <th></th>\n",
              "      <th></th>\n",
              "      <th></th>\n",
              "      <th></th>\n",
              "      <th></th>\n",
              "      <th></th>\n",
              "      <th></th>\n",
              "      <th></th>\n",
              "      <th></th>\n",
              "      <th></th>\n",
              "      <th></th>\n",
              "      <th></th>\n",
              "      <th></th>\n",
              "      <th></th>\n",
              "      <th></th>\n",
              "      <th></th>\n",
              "      <th></th>\n",
              "      <th></th>\n",
              "      <th></th>\n",
              "      <th></th>\n",
              "      <th></th>\n",
              "      <th></th>\n",
              "      <th></th>\n",
              "      <th></th>\n",
              "      <th></th>\n",
              "      <th></th>\n",
              "    </tr>\n",
              "  </thead>\n",
              "  <tbody>\n",
              "    <tr>\n",
              "      <th>2020-01-06</th>\n",
              "      <td>800.000000</td>\n",
              "      <td>900.000000</td>\n",
              "      <td>600.000000</td>\n",
              "      <td>1000.000000</td>\n",
              "      <td>700.000000</td>\n",
              "      <td>600.000000</td>\n",
              "      <td>1200.000000</td>\n",
              "      <td>500.000000</td>\n",
              "      <td>1000.000000</td>\n",
              "      <td>1000.000000</td>\n",
              "      <td>500.000000</td>\n",
              "      <td>1200.000000</td>\n",
              "      <td>10000.000000</td>\n",
              "      <td>NaN</td>\n",
              "      <td>NaN</td>\n",
              "      <td>NaN</td>\n",
              "      <td>NaN</td>\n",
              "      <td>NaN</td>\n",
              "      <td>500.0</td>\n",
              "      <td>NaN</td>\n",
              "      <td>NaN</td>\n",
              "      <td>NaN</td>\n",
              "      <td>NaN</td>\n",
              "      <td>NaN</td>\n",
              "      <td>NaN</td>\n",
              "      <td>NaN</td>\n",
              "      <td>NaN</td>\n",
              "      <td>1399.999878</td>\n",
              "      <td>1300.000145</td>\n",
              "      <td>3200.000023</td>\n",
              "      <td>1000.000108</td>\n",
              "      <td>1500.000000</td>\n",
              "      <td>1500.0</td>\n",
              "      <td>1000.000000</td>\n",
              "      <td>1000.000072</td>\n",
              "      <td>1000.000152</td>\n",
              "      <td>1000.000000</td>\n",
              "      <td>1000.000000</td>\n",
              "      <td>1000.000000</td>\n",
              "      <td>10000.000333</td>\n",
              "      <td>116878.0</td>\n",
              "    </tr>\n",
              "    <tr>\n",
              "      <th>2020-01-07</th>\n",
              "      <td>801.682387</td>\n",
              "      <td>929.038969</td>\n",
              "      <td>595.471675</td>\n",
              "      <td>982.627907</td>\n",
              "      <td>702.792932</td>\n",
              "      <td>610.816037</td>\n",
              "      <td>1172.160818</td>\n",
              "      <td>499.737042</td>\n",
              "      <td>997.138703</td>\n",
              "      <td>996.105211</td>\n",
              "      <td>504.862383</td>\n",
              "      <td>1208.729749</td>\n",
              "      <td>10001.163813</td>\n",
              "      <td>NaN</td>\n",
              "      <td>NaN</td>\n",
              "      <td>NaN</td>\n",
              "      <td>NaN</td>\n",
              "      <td>NaN</td>\n",
              "      <td>500.0</td>\n",
              "      <td>NaN</td>\n",
              "      <td>NaN</td>\n",
              "      <td>NaN</td>\n",
              "      <td>NaN</td>\n",
              "      <td>NaN</td>\n",
              "      <td>NaN</td>\n",
              "      <td>NaN</td>\n",
              "      <td>NaN</td>\n",
              "      <td>1410.184707</td>\n",
              "      <td>1310.063345</td>\n",
              "      <td>3220.248053</td>\n",
              "      <td>1000.000108</td>\n",
              "      <td>1504.675097</td>\n",
              "      <td>1500.0</td>\n",
              "      <td>1017.897107</td>\n",
              "      <td>993.784202</td>\n",
              "      <td>996.105287</td>\n",
              "      <td>1012.814064</td>\n",
              "      <td>1007.274879</td>\n",
              "      <td>1007.740922</td>\n",
              "      <td>10040.291666</td>\n",
              "      <td>116662.0</td>\n",
              "    </tr>\n",
              "    <tr>\n",
              "      <th>2020-01-08</th>\n",
              "      <td>797.896888</td>\n",
              "      <td>926.549896</td>\n",
              "      <td>590.037820</td>\n",
              "      <td>967.426905</td>\n",
              "      <td>696.564435</td>\n",
              "      <td>600.743062</td>\n",
              "      <td>1153.061502</td>\n",
              "      <td>502.979849</td>\n",
              "      <td>1027.794864</td>\n",
              "      <td>989.938385</td>\n",
              "      <td>502.379424</td>\n",
              "      <td>1208.953592</td>\n",
              "      <td>9964.326621</td>\n",
              "      <td>NaN</td>\n",
              "      <td>NaN</td>\n",
              "      <td>NaN</td>\n",
              "      <td>NaN</td>\n",
              "      <td>NaN</td>\n",
              "      <td>500.0</td>\n",
              "      <td>NaN</td>\n",
              "      <td>NaN</td>\n",
              "      <td>NaN</td>\n",
              "      <td>NaN</td>\n",
              "      <td>NaN</td>\n",
              "      <td>NaN</td>\n",
              "      <td>NaN</td>\n",
              "      <td>NaN</td>\n",
              "      <td>1410.445857</td>\n",
              "      <td>1260.492766</td>\n",
              "      <td>3170.938623</td>\n",
              "      <td>999.504828</td>\n",
              "      <td>1509.218623</td>\n",
              "      <td>1500.0</td>\n",
              "      <td>1042.878490</td>\n",
              "      <td>1007.437527</td>\n",
              "      <td>989.938460</td>\n",
              "      <td>1063.331664</td>\n",
              "      <td>1007.461414</td>\n",
              "      <td>969.609712</td>\n",
              "      <td>10089.380718</td>\n",
              "      <td>116247.0</td>\n",
              "    </tr>\n",
              "    <tr>\n",
              "      <th>2020-01-09</th>\n",
              "      <td>791.587723</td>\n",
              "      <td>926.135105</td>\n",
              "      <td>578.037726</td>\n",
              "      <td>951.954716</td>\n",
              "      <td>701.305445</td>\n",
              "      <td>594.303039</td>\n",
              "      <td>1130.078049</td>\n",
              "      <td>499.123533</td>\n",
              "      <td>1064.377586</td>\n",
              "      <td>986.692651</td>\n",
              "      <td>505.069213</td>\n",
              "      <td>1193.060990</td>\n",
              "      <td>9921.725776</td>\n",
              "      <td>NaN</td>\n",
              "      <td>NaN</td>\n",
              "      <td>NaN</td>\n",
              "      <td>NaN</td>\n",
              "      <td>NaN</td>\n",
              "      <td>500.0</td>\n",
              "      <td>NaN</td>\n",
              "      <td>NaN</td>\n",
              "      <td>NaN</td>\n",
              "      <td>NaN</td>\n",
              "      <td>NaN</td>\n",
              "      <td>NaN</td>\n",
              "      <td>NaN</td>\n",
              "      <td>NaN</td>\n",
              "      <td>1391.904488</td>\n",
              "      <td>1241.857645</td>\n",
              "      <td>3133.762134</td>\n",
              "      <td>999.504828</td>\n",
              "      <td>1534.240491</td>\n",
              "      <td>1500.0</td>\n",
              "      <td>1055.555556</td>\n",
              "      <td>1020.858951</td>\n",
              "      <td>986.692803</td>\n",
              "      <td>1060.620949</td>\n",
              "      <td>994.217578</td>\n",
              "      <td>955.275005</td>\n",
              "      <td>10106.966162</td>\n",
              "      <td>115947.0</td>\n",
              "    </tr>\n",
              "    <tr>\n",
              "      <th>2020-01-10</th>\n",
              "      <td>794.532029</td>\n",
              "      <td>918.875346</td>\n",
              "      <td>564.452846</td>\n",
              "      <td>934.582440</td>\n",
              "      <td>711.159519</td>\n",
              "      <td>603.137423</td>\n",
              "      <td>1120.042989</td>\n",
              "      <td>500.701139</td>\n",
              "      <td>1058.655152</td>\n",
              "      <td>982.473220</td>\n",
              "      <td>495.034122</td>\n",
              "      <td>1194.404044</td>\n",
              "      <td>9878.050269</td>\n",
              "      <td>NaN</td>\n",
              "      <td>NaN</td>\n",
              "      <td>NaN</td>\n",
              "      <td>NaN</td>\n",
              "      <td>NaN</td>\n",
              "      <td>500.0</td>\n",
              "      <td>NaN</td>\n",
              "      <td>NaN</td>\n",
              "      <td>NaN</td>\n",
              "      <td>NaN</td>\n",
              "      <td>NaN</td>\n",
              "      <td>NaN</td>\n",
              "      <td>NaN</td>\n",
              "      <td>NaN</td>\n",
              "      <td>1393.471385</td>\n",
              "      <td>1267.201712</td>\n",
              "      <td>3160.673097</td>\n",
              "      <td>1025.219568</td>\n",
              "      <td>1550.570627</td>\n",
              "      <td>1500.0</td>\n",
              "      <td>1049.962766</td>\n",
              "      <td>1029.023112</td>\n",
              "      <td>982.473295</td>\n",
              "      <td>1062.345967</td>\n",
              "      <td>995.336791</td>\n",
              "      <td>974.770439</td>\n",
              "      <td>10169.702565</td>\n",
              "      <td>115503.0</td>\n",
              "    </tr>\n",
              "  </tbody>\n",
              "</table>\n",
              "</div>\n",
              "      <button class=\"colab-df-convert\" onclick=\"convertToInteractive('df-59ee2144-977d-4c3f-b377-807d764333ef')\"\n",
              "              title=\"Convert this dataframe to an interactive table.\"\n",
              "              style=\"display:none;\">\n",
              "        \n",
              "  <svg xmlns=\"http://www.w3.org/2000/svg\" height=\"24px\"viewBox=\"0 0 24 24\"\n",
              "       width=\"24px\">\n",
              "    <path d=\"M0 0h24v24H0V0z\" fill=\"none\"/>\n",
              "    <path d=\"M18.56 5.44l.94 2.06.94-2.06 2.06-.94-2.06-.94-.94-2.06-.94 2.06-2.06.94zm-11 1L8.5 8.5l.94-2.06 2.06-.94-2.06-.94L8.5 2.5l-.94 2.06-2.06.94zm10 10l.94 2.06.94-2.06 2.06-.94-2.06-.94-.94-2.06-.94 2.06-2.06.94z\"/><path d=\"M17.41 7.96l-1.37-1.37c-.4-.4-.92-.59-1.43-.59-.52 0-1.04.2-1.43.59L10.3 9.45l-7.72 7.72c-.78.78-.78 2.05 0 2.83L4 21.41c.39.39.9.59 1.41.59.51 0 1.02-.2 1.41-.59l7.78-7.78 2.81-2.81c.8-.78.8-2.07 0-2.86zM5.41 20L4 18.59l7.72-7.72 1.47 1.35L5.41 20z\"/>\n",
              "  </svg>\n",
              "      </button>\n",
              "      \n",
              "  <style>\n",
              "    .colab-df-container {\n",
              "      display:flex;\n",
              "      flex-wrap:wrap;\n",
              "      gap: 12px;\n",
              "    }\n",
              "\n",
              "    .colab-df-convert {\n",
              "      background-color: #E8F0FE;\n",
              "      border: none;\n",
              "      border-radius: 50%;\n",
              "      cursor: pointer;\n",
              "      display: none;\n",
              "      fill: #1967D2;\n",
              "      height: 32px;\n",
              "      padding: 0 0 0 0;\n",
              "      width: 32px;\n",
              "    }\n",
              "\n",
              "    .colab-df-convert:hover {\n",
              "      background-color: #E2EBFA;\n",
              "      box-shadow: 0px 1px 2px rgba(60, 64, 67, 0.3), 0px 1px 3px 1px rgba(60, 64, 67, 0.15);\n",
              "      fill: #174EA6;\n",
              "    }\n",
              "\n",
              "    [theme=dark] .colab-df-convert {\n",
              "      background-color: #3B4455;\n",
              "      fill: #D2E3FC;\n",
              "    }\n",
              "\n",
              "    [theme=dark] .colab-df-convert:hover {\n",
              "      background-color: #434B5C;\n",
              "      box-shadow: 0px 1px 3px 1px rgba(0, 0, 0, 0.15);\n",
              "      filter: drop-shadow(0px 1px 2px rgba(0, 0, 0, 0.3));\n",
              "      fill: #FFFFFF;\n",
              "    }\n",
              "  </style>\n",
              "\n",
              "      <script>\n",
              "        const buttonEl =\n",
              "          document.querySelector('#df-59ee2144-977d-4c3f-b377-807d764333ef button.colab-df-convert');\n",
              "        buttonEl.style.display =\n",
              "          google.colab.kernel.accessAllowed ? 'block' : 'none';\n",
              "\n",
              "        async function convertToInteractive(key) {\n",
              "          const element = document.querySelector('#df-59ee2144-977d-4c3f-b377-807d764333ef');\n",
              "          const dataTable =\n",
              "            await google.colab.kernel.invokeFunction('convertToInteractive',\n",
              "                                                     [key], {});\n",
              "          if (!dataTable) return;\n",
              "\n",
              "          const docLinkHtml = 'Like what you see? Visit the ' +\n",
              "            '<a target=\"_blank\" href=https://colab.research.google.com/notebooks/data_table.ipynb>data table notebook</a>'\n",
              "            + ' to learn more about interactive tables.';\n",
              "          element.innerHTML = '';\n",
              "          dataTable['output_type'] = 'display_data';\n",
              "          await google.colab.output.renderOutput(dataTable, element);\n",
              "          const docLink = document.createElement('div');\n",
              "          docLink.innerHTML = docLinkHtml;\n",
              "          element.appendChild(docLink);\n",
              "        }\n",
              "      </script>\n",
              "    </div>\n",
              "  </div>\n",
              "  "
            ],
            "text/plain": [
              "              ABEV3.SA    B3SA3.SA  ...   Carteira 03      IBOV\n",
              "Date                                ...                        \n",
              "2020-01-06  800.000000  900.000000  ...  10000.000333  116878.0\n",
              "2020-01-07  801.682387  929.038969  ...  10040.291666  116662.0\n",
              "2020-01-08  797.896888  926.549896  ...  10089.380718  116247.0\n",
              "2020-01-09  791.587723  926.135105  ...  10106.966162  115947.0\n",
              "2020-01-10  794.532029  918.875346  ...  10169.702565  115503.0\n",
              "\n",
              "[5 rows x 41 columns]"
            ]
          },
          "metadata": {},
          "execution_count": 68
        }
      ]
    },
    {
      "cell_type": "code",
      "source": [
        "df_final_normalizado = df_final/df_final.iloc[0]"
      ],
      "metadata": {
        "id": "-Ja9yhG-_VXh"
      },
      "execution_count": 51,
      "outputs": []
    },
    {
      "cell_type": "code",
      "metadata": {
        "colab": {
          "base_uri": "https://localhost:8080/",
          "height": 571
        },
        "id": "8Z704vJNIhjS",
        "outputId": "86b34c43-e4e7-4d13-a9f5-2d018cfd74a9"
      },
      "source": [
        "df_final_normalizado[['IBOV', 'Carteira 01', 'Carteira 02', 'Carteira 03']].plot(figsize = (10,10));"
      ],
      "execution_count": 70,
      "outputs": [
        {
          "output_type": "display_data",
          "data": {
            "image/png": "[encoded data removed]",
            "text/plain": [
              "<Figure size 720x720 with 1 Axes>"
            ]
          },
          "metadata": {
            "needs_background": "light"
          }
        }
      ]
    },
    {
      "cell_type": "code",
      "metadata": {
        "id": "Q0OkgoFGJb42"
      },
      "source": [
        ""
      ],
      "execution_count": null,
      "outputs": []
    }
  ]
}
