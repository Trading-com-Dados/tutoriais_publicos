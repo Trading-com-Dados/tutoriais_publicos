{
  "nbformat": 4,
  "nbformat_minor": 0,
  "metadata": {
    "colab": {
      "provenance": [],
      "include_colab_link": true
    },
    "kernelspec": {
      "name": "python3",
      "display_name": "Python 3"
    },
    "language_info": {
      "name": "python"
    }
  },
  "cells": [
    {
      "cell_type": "markdown",
      "metadata": {
        "id": "view-in-github",
        "colab_type": "text"
      },
      "source": [
        "<a href=\"https://colab.research.google.com/github/Trading-com-Dados/tutoriais_publicos/blob/main/PDF_RegEx.ipynb\" target=\"_parent\"><img src=\"https://colab.research.google.com/assets/colab-badge.svg\" alt=\"Open In Colab\"/></a>"
      ]
    },
    {
      "cell_type": "markdown",
      "source": [
        "<img src=\"https://tradingcomdados.com/images/logotipo/logotipo-trading-com-dados.svg\" width=\"300\" align=\"left\"/>"
      ],
      "metadata": {
        "id": "zrnefLQZYeTV"
      }
    },
    {
      "cell_type": "markdown",
      "source": [
        "**Biblioteca pypdf2**\n",
        "\n",
        "Biblioteca para importar, ler e manipular PDF's\n",
        "\n",
        "Link: https://pypdf2.readthedocs.io/en/latest/\n",
        "\n",
        "Live Parte 1: https://www.youtube.com/watch?v=iXaFAD_IGu0"
      ],
      "metadata": {
        "id": "d0Ff-TEkZ_Uo"
      }
    },
    {
      "cell_type": "code",
      "execution_count": null,
      "metadata": {
        "colab": {
          "base_uri": "https://localhost:8080/"
        },
        "id": "gQ9ju0nSYUR_",
        "outputId": "25e29487-4c32-495a-d699-46034dbbb69e"
      },
      "outputs": [
        {
          "output_type": "stream",
          "name": "stdout",
          "text": [
            "Looking in indexes: https://pypi.org/simple, https://us-python.pkg.dev/colab-wheels/public/simple/\n",
            "Collecting pypdf2\n",
            "  Downloading PyPDF2-2.11.1-py3-none-any.whl (220 kB)\n",
            "\u001b[K     |████████████████████████████████| 220 kB 5.3 MB/s \n",
            "\u001b[?25hRequirement already satisfied: typing-extensions>=3.10.0.0 in /usr/local/lib/python3.7/dist-packages (from pypdf2) (4.1.1)\n",
            "Installing collected packages: pypdf2\n",
            "Successfully installed pypdf2-2.11.1\n"
          ]
        }
      ],
      "source": [
        "!pip install pypdf2"
      ]
    },
    {
      "cell_type": "code",
      "source": [
        "import pandas as pd\n",
        "import re\n",
        "from PyPDF2 import PdfReader"
      ],
      "metadata": {
        "id": "pk6OweLFaKvx"
      },
      "execution_count": null,
      "outputs": []
    },
    {
      "cell_type": "code",
      "source": [
        "reader = PdfReader('KEVE_Informes-Periodicos_04-2022.pdf')"
      ],
      "metadata": {
        "id": "IQnnFskYahkf"
      },
      "execution_count": null,
      "outputs": []
    },
    {
      "cell_type": "code",
      "source": [
        "#Número de páginas\n",
        "\n",
        "reader.getNumPages()"
      ],
      "metadata": {
        "colab": {
          "base_uri": "https://localhost:8080/"
        },
        "id": "EX5f_SQsbK8w",
        "outputId": "d9a44cd3-c827-4745-aa69-451d026da214"
      },
      "execution_count": null,
      "outputs": [
        {
          "output_type": "execute_result",
          "data": {
            "text/plain": [
              "3"
            ]
          },
          "metadata": {},
          "execution_count": 4
        }
      ]
    },
    {
      "cell_type": "code",
      "source": [
        "#Metadata\n",
        "\n",
        "reader.getDocumentInfo()"
      ],
      "metadata": {
        "colab": {
          "base_uri": "https://localhost:8080/"
        },
        "id": "WMQW6v8zbTDH",
        "outputId": "792fb68d-b6e1-4d35-8128-f32d852cbcc2"
      },
      "execution_count": null,
      "outputs": [
        {
          "output_type": "execute_result",
          "data": {
            "text/plain": [
              "{'/Creator': 'Mozilla/5.0 (Windows NT 10.0; Win64; x64) AppleWebKit/537.36 (KHTML, like Gecko) Chrome/101.0.4951.67 Safari/537.36',\n",
              " '/Producer': 'Skia/PDF m101',\n",
              " '/CreationDate': \"D:20220526145701+00'00'\",\n",
              " '/ModDate': \"D:20220526145701+00'00'\"}"
            ]
          },
          "metadata": {},
          "execution_count": 5
        }
      ]
    },
    {
      "cell_type": "code",
      "source": [
        "#Ler a primeira página\n",
        "\n",
        "primeira_pagina = reader.getPage(0)\n",
        "primeira_pagina"
      ],
      "metadata": {
        "colab": {
          "base_uri": "https://localhost:8080/"
        },
        "id": "4fLskkIXbZMP",
        "outputId": "c629adfb-1643-433a-f0d7-52d27247b42a"
      },
      "execution_count": null,
      "outputs": [
        {
          "output_type": "execute_result",
          "data": {
            "text/plain": [
              "{'/Type': '/Page',\n",
              " '/Resources': {'/ProcSet': ['/PDF', '/Text', '/ImageB', '/ImageC', '/ImageI'],\n",
              "  '/ExtGState': {'/G3': {'/ca': 1, '/BM': '/Normal'}},\n",
              "  '/Font': {'/F4': {'/Type': '/Font',\n",
              "    '/Subtype': '/Type0',\n",
              "    '/BaseFont': '/AAAAAA+ArialMT',\n",
              "    '/Encoding': '/Identity-H',\n",
              "    '/DescendantFonts': [IndirectObject(581, 0, 140232142566608)],\n",
              "    '/ToUnicode': {'/Filter': '/FlateDecode'}},\n",
              "   '/F5': {'/Type': '/Font',\n",
              "    '/Subtype': '/Type0',\n",
              "    '/BaseFont': '/BAAAAA+TimesNewRomanPSMT',\n",
              "    '/Encoding': '/Identity-H',\n",
              "    '/DescendantFonts': [IndirectObject(585, 0, 140232142566608)],\n",
              "    '/ToUnicode': {'/Filter': '/FlateDecode'}},\n",
              "   '/F6': {'/Type': '/Font',\n",
              "    '/Subtype': '/Type0',\n",
              "    '/BaseFont': '/CAAAAA+TimesNewRomanPS-BoldMT',\n",
              "    '/Encoding': '/Identity-H',\n",
              "    '/DescendantFonts': [IndirectObject(589, 0, 140232142566608)],\n",
              "    '/ToUnicode': {'/Filter': '/FlateDecode'}}}},\n",
              " '/MediaBox': [0, 0, 594.95996, 841.91998],\n",
              " '/Annots': [IndirectObject(7, 0, 140232142566608)],\n",
              " '/Contents': {'/Filter': '/FlateDecode'},\n",
              " '/StructParents': 0,\n",
              " '/Parent': {'/Type': '/Pages',\n",
              "  '/Count': 3,\n",
              "  '/Kids': [IndirectObject(2, 0, 140232142566608),\n",
              "   IndirectObject(9, 0, 140232142566608),\n",
              "   IndirectObject(11, 0, 140232142566608)]}}"
            ]
          },
          "metadata": {},
          "execution_count": 6
        }
      ]
    },
    {
      "cell_type": "code",
      "source": [
        "primeira_pagina.extract_text()"
      ],
      "metadata": {
        "colab": {
          "base_uri": "https://localhost:8080/",
          "height": 126
        },
        "id": "bC9MEdkdbm3_",
        "outputId": "ec0b82ec-9a5a-4235-e756-632e9762facf"
      },
      "execution_count": null,
      "outputs": [
        {
          "output_type": "execute_result",
          "data": {
            "text/plain": [
              "'26/05/2022 1 1:57 ANEXO 39-I : Informe Mensal\\nhttps://fnet.bmfbovespa.com.br/fnet/publico/visualizarDocumento?id=289981&cvm=true 1/3Imprimir\\nInforme Mensal\\nNome do Fundo:EVEN II KINEA FUNDO DE INVESTIMENT O\\nIMOBILIÁRIOCNPJ do Fundo: 32.317.313/0001-64\\nData de\\nFuncionamento:13/02/2020 Público Alvo: Investidor Qualificado\\nCódigo ISIN: . Quantidade de cotas emitidas: 147.701,00\\nFundo Exclusivo? NãoCotistas possuem vínculo familiar\\nou societário familiar?Não\\nClassificação\\nautorr egulação:Mandato: Desenvolvimento para V enda\\nSegmento de Atuação: Residencial\\nTipo de Gestão: PassivaPrazo de Duração: Determinado\\nData do Prazo de\\nDuração:13/02/2027 Encerramento do exer cício social: 30/06\\nMercado de\\nnegociação das\\ncotas:BolsaEntidade administradora de\\nmercado organizado:BM&FBOVESP A\\nNome do\\nAdministrador:INTRAG DTVM L TDA. CNPJ do Administrador: 62.418.140/0001-31\\nEnder eço:AV BRIGADEIRO F ARIA LIMA, 3400, 10º Andar -\\nITAIM BIBI- SÃO P AULO- SP- 04538132Telefones: 55 (1 1) 30726012\\nSite: www .intrag.com.br E-mail:produtosestruturados@itau-\\nunibanco.com.br\\nCompetência: 03/2022\\nData da Informação sobr e detalhamento do númer o de cotistas¹ 31/03/2022\\nNúmer o de cotistas 386\\nPessoa física 381\\nPessoa jurídica não financeira 1\\nBanco comercial 0\\nCorretora ou distribuidora 0\\nOutras pessoas jurídicas financeiras 0\\nInvestidores não residentes 4\\nEntidade aberta de previdência complementar 0\\nEntidade fechada de previdência complementar 0\\nRegime próprio de previdência dos servidores públicos 0\\nSociedade seguradora ou resseguradora 0\\nSociedade de capitalização e de arrendamento mercantil 0\\nFundos de investimento imobiliário 0\\nOutros fundos de investimento 0\\nCotistas de distribuidores do fundo (distribuição por conta e ordem) 0\\nOutros tipos de cotistas não relacionados 0\\n1 Ativo – R$ 146.851.522,02\\n2 Patrimônio Líquido – R$ 146.629.813,78\\n3 Númer o de Cotas Emitidas 147.700,9971\\n4 Valor Patrimonial das Cotas – R$ 992,747623\\n5 Despesas com a taxa de administração em r elação ao patrimônio líquido do mês (%) 0,1246%\\n6 Despesas com o agente custodiante em r elação ao patrimônio líquido do mês (%) 0,0069%\\n7 Rentabilidade Efetiva Mensal (%) 2,2419%\\n7.1 Rentabilidade Patrimonial do Mês de Referência² (%) 2,2419%\\n7.2 Dividend Y ield do Mês de Referência³ (%) 0,0000%\\n8 Amortizações de cotas do Mês de Referência⁴ (%) 0,0000%\\nInformações do Ativo Valor (R$)\\n9 Total mantido para as Necessidades de Liquidez (art. 46, § único, ICVM 472/08) 3.231.946,04'"
            ],
            "application/vnd.google.colaboratory.intrinsic+json": {
              "type": "string"
            }
          },
          "metadata": {},
          "execution_count": 7
        }
      ]
    },
    {
      "cell_type": "code",
      "source": [
        "#juntar 2 pdfs\n",
        "\n",
        "from PyPDF2 import PdfMerger\n",
        "\n",
        "merger = PdfMerger()\n",
        "\n",
        "input1 = open(\"KEVE_Informes-Periodicos_04-2022.pdf\", \"rb\")\n",
        "input2 = open(\"KNHY_Informes-Periodicos_04-2022.pdf\", \"rb\")\n",
        "\n",
        "#Adicionando meu primeiro pdf das paginas 1 a 3\n",
        "merger.append(fileobj=input1, pages=(0,2))\n",
        "\n",
        "#Inserir o objeto 2\n",
        "merger.merge(position=2, fileobj=input2, pages=(0,1))"
      ],
      "metadata": {
        "id": "6kD3yuA-btwP"
      },
      "execution_count": null,
      "outputs": []
    },
    {
      "cell_type": "code",
      "source": [
        "output= open('pdfmerge5.pdf', 'wb')\n",
        "merger.write(output)\n",
        "merger.close()"
      ],
      "metadata": {
        "id": "GXcDNrUVc6s4"
      },
      "execution_count": null,
      "outputs": []
    },
    {
      "cell_type": "code",
      "source": [
        "page = reader.pages[0]\n",
        "print(page.extract_text())"
      ],
      "metadata": {
        "colab": {
          "base_uri": "https://localhost:8080/"
        },
        "id": "z9K_O93NdIxf",
        "outputId": "50461385-dcf2-4055-b36c-f68400a9e52f"
      },
      "execution_count": null,
      "outputs": [
        {
          "output_type": "stream",
          "name": "stdout",
          "text": [
            "26/05/2022 1 1:57 ANEXO 39-I : Informe Mensal\n",
            "https://fnet.bmfbovespa.com.br/fnet/publico/visualizarDocumento?id=289981&cvm=true 1/3Imprimir\n",
            "Informe Mensal\n",
            "Nome do Fundo:EVEN II KINEA FUNDO DE INVESTIMENT O\n",
            "IMOBILIÁRIOCNPJ do Fundo: 32.317.313/0001-64\n",
            "Data de\n",
            "Funcionamento:13/02/2020 Público Alvo: Investidor Qualificado\n",
            "Código ISIN: . Quantidade de cotas emitidas: 147.701,00\n",
            "Fundo Exclusivo? NãoCotistas possuem vínculo familiar\n",
            "ou societário familiar?Não\n",
            "Classificação\n",
            "autorr egulação:Mandato: Desenvolvimento para V enda\n",
            "Segmento de Atuação: Residencial\n",
            "Tipo de Gestão: PassivaPrazo de Duração: Determinado\n",
            "Data do Prazo de\n",
            "Duração:13/02/2027 Encerramento do exer cício social: 30/06\n",
            "Mercado de\n",
            "negociação das\n",
            "cotas:BolsaEntidade administradora de\n",
            "mercado organizado:BM&FBOVESP A\n",
            "Nome do\n",
            "Administrador:INTRAG DTVM L TDA. CNPJ do Administrador: 62.418.140/0001-31\n",
            "Ender eço:AV BRIGADEIRO F ARIA LIMA, 3400, 10º Andar -\n",
            "ITAIM BIBI- SÃO P AULO- SP- 04538132Telefones: 55 (1 1) 30726012\n",
            "Site: www .intrag.com.br E-mail:produtosestruturados@itau-\n",
            "unibanco.com.br\n",
            "Competência: 03/2022\n",
            "Data da Informação sobr e detalhamento do númer o de cotistas¹ 31/03/2022\n",
            "Númer o de cotistas 386\n",
            "Pessoa física 381\n",
            "Pessoa jurídica não financeira 1\n",
            "Banco comercial 0\n",
            "Corretora ou distribuidora 0\n",
            "Outras pessoas jurídicas financeiras 0\n",
            "Investidores não residentes 4\n",
            "Entidade aberta de previdência complementar 0\n",
            "Entidade fechada de previdência complementar 0\n",
            "Regime próprio de previdência dos servidores públicos 0\n",
            "Sociedade seguradora ou resseguradora 0\n",
            "Sociedade de capitalização e de arrendamento mercantil 0\n",
            "Fundos de investimento imobiliário 0\n",
            "Outros fundos de investimento 0\n",
            "Cotistas de distribuidores do fundo (distribuição por conta e ordem) 0\n",
            "Outros tipos de cotistas não relacionados 0\n",
            "1 Ativo – R$ 146.851.522,02\n",
            "2 Patrimônio Líquido – R$ 146.629.813,78\n",
            "3 Númer o de Cotas Emitidas 147.700,9971\n",
            "4 Valor Patrimonial das Cotas – R$ 992,747623\n",
            "5 Despesas com a taxa de administração em r elação ao patrimônio líquido do mês (%) 0,1246%\n",
            "6 Despesas com o agente custodiante em r elação ao patrimônio líquido do mês (%) 0,0069%\n",
            "7 Rentabilidade Efetiva Mensal (%) 2,2419%\n",
            "7.1 Rentabilidade Patrimonial do Mês de Referência² (%) 2,2419%\n",
            "7.2 Dividend Y ield do Mês de Referência³ (%) 0,0000%\n",
            "8 Amortizações de cotas do Mês de Referência⁴ (%) 0,0000%\n",
            "Informações do Ativo Valor (R$)\n",
            "9 Total mantido para as Necessidades de Liquidez (art. 46, § único, ICVM 472/08) 3.231.946,04\n"
          ]
        }
      ]
    },
    {
      "cell_type": "code",
      "source": [
        "lista = page.extract_text()\n",
        "lista"
      ],
      "metadata": {
        "colab": {
          "base_uri": "https://localhost:8080/",
          "height": 126
        },
        "id": "IR_GepWsfdXX",
        "outputId": "65434010-cf37-4c29-ad0b-5979bcbca7c7"
      },
      "execution_count": null,
      "outputs": [
        {
          "output_type": "execute_result",
          "data": {
            "text/plain": [
              "'26/05/2022 1 1:57 ANEXO 39-I : Informe Mensal\\nhttps://fnet.bmfbovespa.com.br/fnet/publico/visualizarDocumento?id=289981&cvm=true 1/3Imprimir\\nInforme Mensal\\nNome do Fundo:EVEN II KINEA FUNDO DE INVESTIMENT O\\nIMOBILIÁRIOCNPJ do Fundo: 32.317.313/0001-64\\nData de\\nFuncionamento:13/02/2020 Público Alvo: Investidor Qualificado\\nCódigo ISIN: . Quantidade de cotas emitidas: 147.701,00\\nFundo Exclusivo? NãoCotistas possuem vínculo familiar\\nou societário familiar?Não\\nClassificação\\nautorr egulação:Mandato: Desenvolvimento para V enda\\nSegmento de Atuação: Residencial\\nTipo de Gestão: PassivaPrazo de Duração: Determinado\\nData do Prazo de\\nDuração:13/02/2027 Encerramento do exer cício social: 30/06\\nMercado de\\nnegociação das\\ncotas:BolsaEntidade administradora de\\nmercado organizado:BM&FBOVESP A\\nNome do\\nAdministrador:INTRAG DTVM L TDA. CNPJ do Administrador: 62.418.140/0001-31\\nEnder eço:AV BRIGADEIRO F ARIA LIMA, 3400, 10º Andar -\\nITAIM BIBI- SÃO P AULO- SP- 04538132Telefones: 55 (1 1) 30726012\\nSite: www .intrag.com.br E-mail:produtosestruturados@itau-\\nunibanco.com.br\\nCompetência: 03/2022\\nData da Informação sobr e detalhamento do númer o de cotistas¹ 31/03/2022\\nNúmer o de cotistas 386\\nPessoa física 381\\nPessoa jurídica não financeira 1\\nBanco comercial 0\\nCorretora ou distribuidora 0\\nOutras pessoas jurídicas financeiras 0\\nInvestidores não residentes 4\\nEntidade aberta de previdência complementar 0\\nEntidade fechada de previdência complementar 0\\nRegime próprio de previdência dos servidores públicos 0\\nSociedade seguradora ou resseguradora 0\\nSociedade de capitalização e de arrendamento mercantil 0\\nFundos de investimento imobiliário 0\\nOutros fundos de investimento 0\\nCotistas de distribuidores do fundo (distribuição por conta e ordem) 0\\nOutros tipos de cotistas não relacionados 0\\n1 Ativo – R$ 146.851.522,02\\n2 Patrimônio Líquido – R$ 146.629.813,78\\n3 Númer o de Cotas Emitidas 147.700,9971\\n4 Valor Patrimonial das Cotas – R$ 992,747623\\n5 Despesas com a taxa de administração em r elação ao patrimônio líquido do mês (%) 0,1246%\\n6 Despesas com o agente custodiante em r elação ao patrimônio líquido do mês (%) 0,0069%\\n7 Rentabilidade Efetiva Mensal (%) 2,2419%\\n7.1 Rentabilidade Patrimonial do Mês de Referência² (%) 2,2419%\\n7.2 Dividend Y ield do Mês de Referência³ (%) 0,0000%\\n8 Amortizações de cotas do Mês de Referência⁴ (%) 0,0000%\\nInformações do Ativo Valor (R$)\\n9 Total mantido para as Necessidades de Liquidez (art. 46, § único, ICVM 472/08) 3.231.946,04'"
            ],
            "application/vnd.google.colaboratory.intrinsic+json": {
              "type": "string"
            }
          },
          "metadata": {},
          "execution_count": 11
        }
      ]
    },
    {
      "cell_type": "code",
      "source": [
        "lista.split()"
      ],
      "metadata": {
        "colab": {
          "base_uri": "https://localhost:8080/"
        },
        "id": "ZR148_8FfmO_",
        "outputId": "68176c69-57d6-4db1-dd4c-da34af3b821a"
      },
      "execution_count": null,
      "outputs": [
        {
          "output_type": "execute_result",
          "data": {
            "text/plain": [
              "['26/05/2022',\n",
              " '1',\n",
              " '1:57',\n",
              " 'ANEXO',\n",
              " '39-I',\n",
              " ':',\n",
              " 'Informe',\n",
              " 'Mensal',\n",
              " 'https://fnet.bmfbovespa.com.br/fnet/publico/visualizarDocumento?id=289981&cvm=true',\n",
              " '1/3Imprimir',\n",
              " 'Informe',\n",
              " 'Mensal',\n",
              " 'Nome',\n",
              " 'do',\n",
              " 'Fundo:EVEN',\n",
              " 'II',\n",
              " 'KINEA',\n",
              " 'FUNDO',\n",
              " 'DE',\n",
              " 'INVESTIMENT',\n",
              " 'O',\n",
              " 'IMOBILIÁRIOCNPJ',\n",
              " 'do',\n",
              " 'Fundo:',\n",
              " '32.317.313/0001-64',\n",
              " 'Data',\n",
              " 'de',\n",
              " 'Funcionamento:13/02/2020',\n",
              " 'Público',\n",
              " 'Alvo:',\n",
              " 'Investidor',\n",
              " 'Qualificado',\n",
              " 'Código',\n",
              " 'ISIN:',\n",
              " '.',\n",
              " 'Quantidade',\n",
              " 'de',\n",
              " 'cotas',\n",
              " 'emitidas:',\n",
              " '147.701,00',\n",
              " 'Fundo',\n",
              " 'Exclusivo?',\n",
              " 'NãoCotistas',\n",
              " 'possuem',\n",
              " 'vínculo',\n",
              " 'familiar',\n",
              " 'ou',\n",
              " 'societário',\n",
              " 'familiar?Não',\n",
              " 'Classificação',\n",
              " 'autorr',\n",
              " 'egulação:Mandato:',\n",
              " 'Desenvolvimento',\n",
              " 'para',\n",
              " 'V',\n",
              " 'enda',\n",
              " 'Segmento',\n",
              " 'de',\n",
              " 'Atuação:',\n",
              " 'Residencial',\n",
              " 'Tipo',\n",
              " 'de',\n",
              " 'Gestão:',\n",
              " 'PassivaPrazo',\n",
              " 'de',\n",
              " 'Duração:',\n",
              " 'Determinado',\n",
              " 'Data',\n",
              " 'do',\n",
              " 'Prazo',\n",
              " 'de',\n",
              " 'Duração:13/02/2027',\n",
              " 'Encerramento',\n",
              " 'do',\n",
              " 'exer',\n",
              " 'cício',\n",
              " 'social:',\n",
              " '30/06',\n",
              " 'Mercado',\n",
              " 'de',\n",
              " 'negociação',\n",
              " 'das',\n",
              " 'cotas:BolsaEntidade',\n",
              " 'administradora',\n",
              " 'de',\n",
              " 'mercado',\n",
              " 'organizado:BM&FBOVESP',\n",
              " 'A',\n",
              " 'Nome',\n",
              " 'do',\n",
              " 'Administrador:INTRAG',\n",
              " 'DTVM',\n",
              " 'L',\n",
              " 'TDA.',\n",
              " 'CNPJ',\n",
              " 'do',\n",
              " 'Administrador:',\n",
              " '62.418.140/0001-31',\n",
              " 'Ender',\n",
              " 'eço:AV',\n",
              " 'BRIGADEIRO',\n",
              " 'F',\n",
              " 'ARIA',\n",
              " 'LIMA,',\n",
              " '3400,',\n",
              " '10º',\n",
              " 'Andar',\n",
              " '-',\n",
              " 'ITAIM',\n",
              " 'BIBI-',\n",
              " 'SÃO',\n",
              " 'P',\n",
              " 'AULO-',\n",
              " 'SP-',\n",
              " '04538132Telefones:',\n",
              " '55',\n",
              " '(1',\n",
              " '1)',\n",
              " '30726012',\n",
              " 'Site:',\n",
              " 'www',\n",
              " '.intrag.com.br',\n",
              " 'E-mail:produtosestruturados@itau-',\n",
              " 'unibanco.com.br',\n",
              " 'Competência:',\n",
              " '03/2022',\n",
              " 'Data',\n",
              " 'da',\n",
              " 'Informação',\n",
              " 'sobr',\n",
              " 'e',\n",
              " 'detalhamento',\n",
              " 'do',\n",
              " 'númer',\n",
              " 'o',\n",
              " 'de',\n",
              " 'cotistas¹',\n",
              " '31/03/2022',\n",
              " 'Númer',\n",
              " 'o',\n",
              " 'de',\n",
              " 'cotistas',\n",
              " '386',\n",
              " 'Pessoa',\n",
              " 'física',\n",
              " '381',\n",
              " 'Pessoa',\n",
              " 'jurídica',\n",
              " 'não',\n",
              " 'financeira',\n",
              " '1',\n",
              " 'Banco',\n",
              " 'comercial',\n",
              " '0',\n",
              " 'Corretora',\n",
              " 'ou',\n",
              " 'distribuidora',\n",
              " '0',\n",
              " 'Outras',\n",
              " 'pessoas',\n",
              " 'jurídicas',\n",
              " 'financeiras',\n",
              " '0',\n",
              " 'Investidores',\n",
              " 'não',\n",
              " 'residentes',\n",
              " '4',\n",
              " 'Entidade',\n",
              " 'aberta',\n",
              " 'de',\n",
              " 'previdência',\n",
              " 'complementar',\n",
              " '0',\n",
              " 'Entidade',\n",
              " 'fechada',\n",
              " 'de',\n",
              " 'previdência',\n",
              " 'complementar',\n",
              " '0',\n",
              " 'Regime',\n",
              " 'próprio',\n",
              " 'de',\n",
              " 'previdência',\n",
              " 'dos',\n",
              " 'servidores',\n",
              " 'públicos',\n",
              " '0',\n",
              " 'Sociedade',\n",
              " 'seguradora',\n",
              " 'ou',\n",
              " 'resseguradora',\n",
              " '0',\n",
              " 'Sociedade',\n",
              " 'de',\n",
              " 'capitalização',\n",
              " 'e',\n",
              " 'de',\n",
              " 'arrendamento',\n",
              " 'mercantil',\n",
              " '0',\n",
              " 'Fundos',\n",
              " 'de',\n",
              " 'investimento',\n",
              " 'imobiliário',\n",
              " '0',\n",
              " 'Outros',\n",
              " 'fundos',\n",
              " 'de',\n",
              " 'investimento',\n",
              " '0',\n",
              " 'Cotistas',\n",
              " 'de',\n",
              " 'distribuidores',\n",
              " 'do',\n",
              " 'fundo',\n",
              " '(distribuição',\n",
              " 'por',\n",
              " 'conta',\n",
              " 'e',\n",
              " 'ordem)',\n",
              " '0',\n",
              " 'Outros',\n",
              " 'tipos',\n",
              " 'de',\n",
              " 'cotistas',\n",
              " 'não',\n",
              " 'relacionados',\n",
              " '0',\n",
              " '1',\n",
              " 'Ativo',\n",
              " '–',\n",
              " 'R$',\n",
              " '146.851.522,02',\n",
              " '2',\n",
              " 'Patrimônio',\n",
              " 'Líquido',\n",
              " '–',\n",
              " 'R$',\n",
              " '146.629.813,78',\n",
              " '3',\n",
              " 'Númer',\n",
              " 'o',\n",
              " 'de',\n",
              " 'Cotas',\n",
              " 'Emitidas',\n",
              " '147.700,9971',\n",
              " '4',\n",
              " 'Valor',\n",
              " 'Patrimonial',\n",
              " 'das',\n",
              " 'Cotas',\n",
              " '–',\n",
              " 'R$',\n",
              " '992,747623',\n",
              " '5',\n",
              " 'Despesas',\n",
              " 'com',\n",
              " 'a',\n",
              " 'taxa',\n",
              " 'de',\n",
              " 'administração',\n",
              " 'em',\n",
              " 'r',\n",
              " 'elação',\n",
              " 'ao',\n",
              " 'patrimônio',\n",
              " 'líquido',\n",
              " 'do',\n",
              " 'mês',\n",
              " '(%)',\n",
              " '0,1246%',\n",
              " '6',\n",
              " 'Despesas',\n",
              " 'com',\n",
              " 'o',\n",
              " 'agente',\n",
              " 'custodiante',\n",
              " 'em',\n",
              " 'r',\n",
              " 'elação',\n",
              " 'ao',\n",
              " 'patrimônio',\n",
              " 'líquido',\n",
              " 'do',\n",
              " 'mês',\n",
              " '(%)',\n",
              " '0,0069%',\n",
              " '7',\n",
              " 'Rentabilidade',\n",
              " 'Efetiva',\n",
              " 'Mensal',\n",
              " '(%)',\n",
              " '2,2419%',\n",
              " '7.1',\n",
              " 'Rentabilidade',\n",
              " 'Patrimonial',\n",
              " 'do',\n",
              " 'Mês',\n",
              " 'de',\n",
              " 'Referência²',\n",
              " '(%)',\n",
              " '2,2419%',\n",
              " '7.2',\n",
              " 'Dividend',\n",
              " 'Y',\n",
              " 'ield',\n",
              " 'do',\n",
              " 'Mês',\n",
              " 'de',\n",
              " 'Referência³',\n",
              " '(%)',\n",
              " '0,0000%',\n",
              " '8',\n",
              " 'Amortizações',\n",
              " 'de',\n",
              " 'cotas',\n",
              " 'do',\n",
              " 'Mês',\n",
              " 'de',\n",
              " 'Referência⁴',\n",
              " '(%)',\n",
              " '0,0000%',\n",
              " 'Informações',\n",
              " 'do',\n",
              " 'Ativo',\n",
              " 'Valor',\n",
              " '(R$)',\n",
              " '9',\n",
              " 'Total',\n",
              " 'mantido',\n",
              " 'para',\n",
              " 'as',\n",
              " 'Necessidades',\n",
              " 'de',\n",
              " 'Liquidez',\n",
              " '(art.',\n",
              " '46,',\n",
              " '§',\n",
              " 'único,',\n",
              " 'ICVM',\n",
              " '472/08)',\n",
              " '3.231.946,04']"
            ]
          },
          "metadata": {},
          "execution_count": 16
        }
      ]
    },
    {
      "cell_type": "code",
      "source": [
        "lista_split = re.split(r'\\s+', lista)\n",
        "print(lista_split)"
      ],
      "metadata": {
        "colab": {
          "base_uri": "https://localhost:8080/"
        },
        "id": "z3KFw7f7fsYH",
        "outputId": "504a99d1-65e5-4343-b954-083a4a81e7c6"
      },
      "execution_count": null,
      "outputs": [
        {
          "output_type": "stream",
          "name": "stdout",
          "text": [
            "['26/05/2022', '1', '1:57', 'ANEXO', '39-I', ':', 'Informe', 'Mensal', 'https://fnet.bmfbovespa.com.br/fnet/publico/visualizarDocumento?id=289981&cvm=true', '1/3Imprimir', 'Informe', 'Mensal', 'Nome', 'do', 'Fundo:EVEN', 'II', 'KINEA', 'FUNDO', 'DE', 'INVESTIMENT', 'O', 'IMOBILIÁRIOCNPJ', 'do', 'Fundo:', '32.317.313/0001-64', 'Data', 'de', 'Funcionamento:13/02/2020', 'Público', 'Alvo:', 'Investidor', 'Qualificado', 'Código', 'ISIN:', '.', 'Quantidade', 'de', 'cotas', 'emitidas:', '147.701,00', 'Fundo', 'Exclusivo?', 'NãoCotistas', 'possuem', 'vínculo', 'familiar', 'ou', 'societário', 'familiar?Não', 'Classificação', 'autorr', 'egulação:Mandato:', 'Desenvolvimento', 'para', 'V', 'enda', 'Segmento', 'de', 'Atuação:', 'Residencial', 'Tipo', 'de', 'Gestão:', 'PassivaPrazo', 'de', 'Duração:', 'Determinado', 'Data', 'do', 'Prazo', 'de', 'Duração:13/02/2027', 'Encerramento', 'do', 'exer', 'cício', 'social:', '30/06', 'Mercado', 'de', 'negociação', 'das', 'cotas:BolsaEntidade', 'administradora', 'de', 'mercado', 'organizado:BM&FBOVESP', 'A', 'Nome', 'do', 'Administrador:INTRAG', 'DTVM', 'L', 'TDA.', 'CNPJ', 'do', 'Administrador:', '62.418.140/0001-31', 'Ender', 'eço:AV', 'BRIGADEIRO', 'F', 'ARIA', 'LIMA,', '3400,', '10º', 'Andar', '-', 'ITAIM', 'BIBI-', 'SÃO', 'P', 'AULO-', 'SP-', '04538132Telefones:', '55', '(1', '1)', '30726012', 'Site:', 'www', '.intrag.com.br', 'E-mail:produtosestruturados@itau-', 'unibanco.com.br', 'Competência:', '03/2022', 'Data', 'da', 'Informação', 'sobr', 'e', 'detalhamento', 'do', 'númer', 'o', 'de', 'cotistas¹', '31/03/2022', 'Númer', 'o', 'de', 'cotistas', '386', 'Pessoa', 'física', '381', 'Pessoa', 'jurídica', 'não', 'financeira', '1', 'Banco', 'comercial', '0', 'Corretora', 'ou', 'distribuidora', '0', 'Outras', 'pessoas', 'jurídicas', 'financeiras', '0', 'Investidores', 'não', 'residentes', '4', 'Entidade', 'aberta', 'de', 'previdência', 'complementar', '0', 'Entidade', 'fechada', 'de', 'previdência', 'complementar', '0', 'Regime', 'próprio', 'de', 'previdência', 'dos', 'servidores', 'públicos', '0', 'Sociedade', 'seguradora', 'ou', 'resseguradora', '0', 'Sociedade', 'de', 'capitalização', 'e', 'de', 'arrendamento', 'mercantil', '0', 'Fundos', 'de', 'investimento', 'imobiliário', '0', 'Outros', 'fundos', 'de', 'investimento', '0', 'Cotistas', 'de', 'distribuidores', 'do', 'fundo', '(distribuição', 'por', 'conta', 'e', 'ordem)', '0', 'Outros', 'tipos', 'de', 'cotistas', 'não', 'relacionados', '0', '1', 'Ativo', '–', 'R$', '146.851.522,02', '2', 'Patrimônio', 'Líquido', '–', 'R$', '146.629.813,78', '3', 'Númer', 'o', 'de', 'Cotas', 'Emitidas', '147.700,9971', '4', 'Valor', 'Patrimonial', 'das', 'Cotas', '–', 'R$', '992,747623', '5', 'Despesas', 'com', 'a', 'taxa', 'de', 'administração', 'em', 'r', 'elação', 'ao', 'patrimônio', 'líquido', 'do', 'mês', '(%)', '0,1246%', '6', 'Despesas', 'com', 'o', 'agente', 'custodiante', 'em', 'r', 'elação', 'ao', 'patrimônio', 'líquido', 'do', 'mês', '(%)', '0,0069%', '7', 'Rentabilidade', 'Efetiva', 'Mensal', '(%)', '2,2419%', '7.1', 'Rentabilidade', 'Patrimonial', 'do', 'Mês', 'de', 'Referência²', '(%)', '2,2419%', '7.2', 'Dividend', 'Y', 'ield', 'do', 'Mês', 'de', 'Referência³', '(%)', '0,0000%', '8', 'Amortizações', 'de', 'cotas', 'do', 'Mês', 'de', 'Referência⁴', '(%)', '0,0000%', 'Informações', 'do', 'Ativo', 'Valor', '(R$)', '9', 'Total', 'mantido', 'para', 'as', 'Necessidades', 'de', 'Liquidez', '(art.', '46,', '§', 'único,', 'ICVM', '472/08)', '3.231.946,04']\n"
          ]
        }
      ]
    },
    {
      "cell_type": "markdown",
      "source": [
        "Funções"
      ],
      "metadata": {
        "id": "IEIySn5KgN-9"
      }
    },
    {
      "cell_type": "code",
      "source": [
        "print(re.search('CNPJ',lista))"
      ],
      "metadata": {
        "colab": {
          "base_uri": "https://localhost:8080/"
        },
        "id": "utoKvh41gIWv",
        "outputId": "9b5925b3-31e6-430a-a024-604b7f6b2979"
      },
      "execution_count": null,
      "outputs": [
        {
          "output_type": "stream",
          "name": "stdout",
          "text": [
            "<re.Match object; span=(218, 222), match='CNPJ'>\n"
          ]
        }
      ]
    },
    {
      "cell_type": "code",
      "source": [
        "print(re.findall('CNPJ', lista))"
      ],
      "metadata": {
        "colab": {
          "base_uri": "https://localhost:8080/"
        },
        "id": "Va9pDLKegYyg",
        "outputId": "57a6c132-2b53-4964-ea27-ffcef520a4ec"
      },
      "execution_count": null,
      "outputs": [
        {
          "output_type": "stream",
          "name": "stdout",
          "text": [
            "['CNPJ', 'CNPJ']\n"
          ]
        }
      ]
    },
    {
      "cell_type": "code",
      "source": [
        "for i in re.finditer('CNPJ', lista):\n",
        "  print(i)"
      ],
      "metadata": {
        "colab": {
          "base_uri": "https://localhost:8080/"
        },
        "id": "L9HWb_m4gxL3",
        "outputId": "3f043be4-dd3d-48ae-db13-b7eeef409c92"
      },
      "execution_count": null,
      "outputs": [
        {
          "output_type": "stream",
          "name": "stdout",
          "text": [
            "<re.Match object; span=(218, 222), match='CNPJ'>\n",
            "<re.Match object; span=(826, 830), match='CNPJ'>\n"
          ]
        }
      ]
    },
    {
      "cell_type": "code",
      "source": [
        "re.findall('[0-9]+', lista)"
      ],
      "metadata": {
        "colab": {
          "base_uri": "https://localhost:8080/"
        },
        "id": "MzpReIrsg9q_",
        "outputId": "a2c1f8b5-b748-4316-b212-9f3a1968893a"
      },
      "execution_count": null,
      "outputs": [
        {
          "output_type": "execute_result",
          "data": {
            "text/plain": [
              "['26',\n",
              " '05',\n",
              " '2022',\n",
              " '1',\n",
              " '1',\n",
              " '57',\n",
              " '39',\n",
              " '289981',\n",
              " '1',\n",
              " '3',\n",
              " '32',\n",
              " '317',\n",
              " '313',\n",
              " '0001',\n",
              " '64',\n",
              " '13',\n",
              " '02',\n",
              " '2020',\n",
              " '147',\n",
              " '701',\n",
              " '00',\n",
              " '13',\n",
              " '02',\n",
              " '2027',\n",
              " '30',\n",
              " '06',\n",
              " '62',\n",
              " '418',\n",
              " '140',\n",
              " '0001',\n",
              " '31',\n",
              " '3400',\n",
              " '10',\n",
              " '04538132',\n",
              " '55',\n",
              " '1',\n",
              " '1',\n",
              " '30726012',\n",
              " '03',\n",
              " '2022',\n",
              " '31',\n",
              " '03',\n",
              " '2022',\n",
              " '386',\n",
              " '381',\n",
              " '1',\n",
              " '0',\n",
              " '0',\n",
              " '0',\n",
              " '4',\n",
              " '0',\n",
              " '0',\n",
              " '0',\n",
              " '0',\n",
              " '0',\n",
              " '0',\n",
              " '0',\n",
              " '0',\n",
              " '0',\n",
              " '1',\n",
              " '146',\n",
              " '851',\n",
              " '522',\n",
              " '02',\n",
              " '2',\n",
              " '146',\n",
              " '629',\n",
              " '813',\n",
              " '78',\n",
              " '3',\n",
              " '147',\n",
              " '700',\n",
              " '9971',\n",
              " '4',\n",
              " '992',\n",
              " '747623',\n",
              " '5',\n",
              " '0',\n",
              " '1246',\n",
              " '6',\n",
              " '0',\n",
              " '0069',\n",
              " '7',\n",
              " '2',\n",
              " '2419',\n",
              " '7',\n",
              " '1',\n",
              " '2',\n",
              " '2419',\n",
              " '7',\n",
              " '2',\n",
              " '0',\n",
              " '0000',\n",
              " '8',\n",
              " '0',\n",
              " '0000',\n",
              " '9',\n",
              " '46',\n",
              " '472',\n",
              " '08',\n",
              " '3',\n",
              " '231',\n",
              " '946',\n",
              " '04']"
            ]
          },
          "metadata": {},
          "execution_count": 23
        }
      ]
    },
    {
      "cell_type": "code",
      "source": [
        "cnpj = re.compile(\"(?<=CNPJ do Fundo:)(.*)\")"
      ],
      "metadata": {
        "id": "Mbh_rQx9hL_n"
      },
      "execution_count": null,
      "outputs": []
    },
    {
      "cell_type": "code",
      "source": [
        "busca = cnpj.search(page.extract_text())\n",
        "print(busca.group())"
      ],
      "metadata": {
        "colab": {
          "base_uri": "https://localhost:8080/"
        },
        "id": "Xur_Q_ohh2AP",
        "outputId": "d983d9e9-7550-4fa7-adea-21b8f6db1ec8"
      },
      "execution_count": null,
      "outputs": [
        {
          "output_type": "stream",
          "name": "stdout",
          "text": [
            " 32.317.313/0001-64\n"
          ]
        }
      ]
    },
    {
      "cell_type": "code",
      "source": [
        "nome = re.compile(\"(?<=Nome do Fundo:)(.*)\")\n",
        "busca = nome.search(page.extract_text())\n",
        "print(busca.group())"
      ],
      "metadata": {
        "colab": {
          "base_uri": "https://localhost:8080/"
        },
        "id": "LPztJyj6h71f",
        "outputId": "2e9d8394-c088-4e70-96d8-c3f2e49df06d"
      },
      "execution_count": null,
      "outputs": [
        {
          "output_type": "stream",
          "name": "stdout",
          "text": [
            "EVEN II KINEA FUNDO DE INVESTIMENT O\n"
          ]
        }
      ]
    },
    {
      "cell_type": "code",
      "source": [
        "pl = re.compile(\"(?<=Patrimônio Líquido)(.*)\")\n",
        "busca = pl.search(page.extract_text())\n",
        "print(busca.group())"
      ],
      "metadata": {
        "colab": {
          "base_uri": "https://localhost:8080/"
        },
        "id": "6xL0eapCigQj",
        "outputId": "20b8d88d-4817-4c77-c1c7-77241b228c71"
      },
      "execution_count": null,
      "outputs": [
        {
          "output_type": "stream",
          "name": "stdout",
          "text": [
            " – R$ 146.629.813,78\n"
          ]
        }
      ]
    },
    {
      "cell_type": "markdown",
      "source": [
        "#Parte II"
      ],
      "metadata": {
        "id": "hr_MCLX6dwcR"
      }
    },
    {
      "cell_type": "markdown",
      "source": [
        "Live parte 2: https://www.youtube.com/watch?v=YmF9oXn1QdE&t=4s"
      ],
      "metadata": {
        "id": "A-XNjO_ZrZRU"
      }
    },
    {
      "cell_type": "markdown",
      "source": [
        "Metacaracteres"
      ],
      "metadata": {
        "id": "_N_oOV5td15R"
      }
    },
    {
      "cell_type": "code",
      "source": [
        "#Ponto \".\"\n",
        "\n",
        "busca = re.search(r'.', lista)\n",
        "print(busca.group())"
      ],
      "metadata": {
        "colab": {
          "base_uri": "https://localhost:8080/"
        },
        "id": "FyuFfyYCisbX",
        "outputId": "ebba2529-3125-48ca-8694-18cda2564446"
      },
      "execution_count": null,
      "outputs": [
        {
          "output_type": "stream",
          "name": "stdout",
          "text": [
            "2\n"
          ]
        }
      ]
    },
    {
      "cell_type": "code",
      "source": [
        "busca = re.findall(r'.', lista)\n",
        "print(busca)"
      ],
      "metadata": {
        "colab": {
          "base_uri": "https://localhost:8080/"
        },
        "id": "1dPeYS7zeDH8",
        "outputId": "1019c7b6-6544-49e7-f2c1-3cad3a73656e"
      },
      "execution_count": null,
      "outputs": [
        {
          "output_type": "stream",
          "name": "stdout",
          "text": [
            "['2', '6', '/', '0', '5', '/', '2', '0', '2', '2', ' ', '1', ' ', '1', ':', '5', '7', ' ', 'A', 'N', 'E', 'X', 'O', ' ', '3', '9', '-', 'I', ' ', ':', ' ', 'I', 'n', 'f', 'o', 'r', 'm', 'e', ' ', 'M', 'e', 'n', 's', 'a', 'l', 'h', 't', 't', 'p', 's', ':', '/', '/', 'f', 'n', 'e', 't', '.', 'b', 'm', 'f', 'b', 'o', 'v', 'e', 's', 'p', 'a', '.', 'c', 'o', 'm', '.', 'b', 'r', '/', 'f', 'n', 'e', 't', '/', 'p', 'u', 'b', 'l', 'i', 'c', 'o', '/', 'v', 'i', 's', 'u', 'a', 'l', 'i', 'z', 'a', 'r', 'D', 'o', 'c', 'u', 'm', 'e', 'n', 't', 'o', '?', 'i', 'd', '=', '2', '8', '9', '9', '8', '1', '&', 'c', 'v', 'm', '=', 't', 'r', 'u', 'e', ' ', '1', '/', '3', 'I', 'm', 'p', 'r', 'i', 'm', 'i', 'r', 'I', 'n', 'f', 'o', 'r', 'm', 'e', ' ', 'M', 'e', 'n', 's', 'a', 'l', 'N', 'o', 'm', 'e', ' ', 'd', 'o', ' ', 'F', 'u', 'n', 'd', 'o', ':', 'E', 'V', 'E', 'N', ' ', 'I', 'I', ' ', 'K', 'I', 'N', 'E', 'A', ' ', 'F', 'U', 'N', 'D', 'O', ' ', 'D', 'E', ' ', 'I', 'N', 'V', 'E', 'S', 'T', 'I', 'M', 'E', 'N', 'T', ' ', 'O', 'I', 'M', 'O', 'B', 'I', 'L', 'I', 'Á', 'R', 'I', 'O', 'C', 'N', 'P', 'J', ' ', 'd', 'o', ' ', 'F', 'u', 'n', 'd', 'o', ':', ' ', '3', '2', '.', '3', '1', '7', '.', '3', '1', '3', '/', '0', '0', '0', '1', '-', '6', '4', 'D', 'a', 't', 'a', ' ', 'd', 'e', 'F', 'u', 'n', 'c', 'i', 'o', 'n', 'a', 'm', 'e', 'n', 't', 'o', ':', '1', '3', '/', '0', '2', '/', '2', '0', '2', '0', ' ', 'P', 'ú', 'b', 'l', 'i', 'c', 'o', ' ', 'A', 'l', 'v', 'o', ':', ' ', 'I', 'n', 'v', 'e', 's', 't', 'i', 'd', 'o', 'r', ' ', 'Q', 'u', 'a', 'l', 'i', 'f', 'i', 'c', 'a', 'd', 'o', 'C', 'ó', 'd', 'i', 'g', 'o', ' ', 'I', 'S', 'I', 'N', ':', ' ', '.', ' ', 'Q', 'u', 'a', 'n', 't', 'i', 'd', 'a', 'd', 'e', ' ', 'd', 'e', ' ', 'c', 'o', 't', 'a', 's', ' ', 'e', 'm', 'i', 't', 'i', 'd', 'a', 's', ':', ' ', '1', '4', '7', '.', '7', '0', '1', ',', '0', '0', 'F', 'u', 'n', 'd', 'o', ' ', 'E', 'x', 'c', 'l', 'u', 's', 'i', 'v', 'o', '?', ' ', 'N', 'ã', 'o', 'C', 'o', 't', 'i', 's', 't', 'a', 's', ' ', 'p', 'o', 's', 's', 'u', 'e', 'm', ' ', 'v', 'í', 'n', 'c', 'u', 'l', 'o', ' ', 'f', 'a', 'm', 'i', 'l', 'i', 'a', 'r', 'o', 'u', ' ', 's', 'o', 'c', 'i', 'e', 't', 'á', 'r', 'i', 'o', ' ', 'f', 'a', 'm', 'i', 'l', 'i', 'a', 'r', '?', 'N', 'ã', 'o', 'C', 'l', 'a', 's', 's', 'i', 'f', 'i', 'c', 'a', 'ç', 'ã', 'o', 'a', 'u', 't', 'o', 'r', 'r', ' ', 'e', 'g', 'u', 'l', 'a', 'ç', 'ã', 'o', ':', 'M', 'a', 'n', 'd', 'a', 't', 'o', ':', ' ', 'D', 'e', 's', 'e', 'n', 'v', 'o', 'l', 'v', 'i', 'm', 'e', 'n', 't', 'o', ' ', 'p', 'a', 'r', 'a', ' ', 'V', ' ', 'e', 'n', 'd', 'a', 'S', 'e', 'g', 'm', 'e', 'n', 't', 'o', ' ', 'd', 'e', ' ', 'A', 't', 'u', 'a', 'ç', 'ã', 'o', ':', ' ', 'R', 'e', 's', 'i', 'd', 'e', 'n', 'c', 'i', 'a', 'l', 'T', 'i', 'p', 'o', ' ', 'd', 'e', ' ', 'G', 'e', 's', 't', 'ã', 'o', ':', ' ', 'P', 'a', 's', 's', 'i', 'v', 'a', 'P', 'r', 'a', 'z', 'o', ' ', 'd', 'e', ' ', 'D', 'u', 'r', 'a', 'ç', 'ã', 'o', ':', ' ', 'D', 'e', 't', 'e', 'r', 'm', 'i', 'n', 'a', 'd', 'o', 'D', 'a', 't', 'a', ' ', 'd', 'o', ' ', 'P', 'r', 'a', 'z', 'o', ' ', 'd', 'e', 'D', 'u', 'r', 'a', 'ç', 'ã', 'o', ':', '1', '3', '/', '0', '2', '/', '2', '0', '2', '7', ' ', 'E', 'n', 'c', 'e', 'r', 'r', 'a', 'm', 'e', 'n', 't', 'o', ' ', 'd', 'o', ' ', 'e', 'x', 'e', 'r', ' ', 'c', 'í', 'c', 'i', 'o', ' ', 's', 'o', 'c', 'i', 'a', 'l', ':', ' ', '3', '0', '/', '0', '6', 'M', 'e', 'r', 'c', 'a', 'd', 'o', ' ', 'd', 'e', 'n', 'e', 'g', 'o', 'c', 'i', 'a', 'ç', 'ã', 'o', ' ', 'd', 'a', 's', 'c', 'o', 't', 'a', 's', ':', 'B', 'o', 'l', 's', 'a', 'E', 'n', 't', 'i', 'd', 'a', 'd', 'e', ' ', 'a', 'd', 'm', 'i', 'n', 'i', 's', 't', 'r', 'a', 'd', 'o', 'r', 'a', ' ', 'd', 'e', 'm', 'e', 'r', 'c', 'a', 'd', 'o', ' ', 'o', 'r', 'g', 'a', 'n', 'i', 'z', 'a', 'd', 'o', ':', 'B', 'M', '&', 'F', 'B', 'O', 'V', 'E', 'S', 'P', ' ', 'A', 'N', 'o', 'm', 'e', ' ', 'd', 'o', 'A', 'd', 'm', 'i', 'n', 'i', 's', 't', 'r', 'a', 'd', 'o', 'r', ':', 'I', 'N', 'T', 'R', 'A', 'G', ' ', 'D', 'T', 'V', 'M', ' ', 'L', ' ', 'T', 'D', 'A', '.', ' ', 'C', 'N', 'P', 'J', ' ', 'd', 'o', ' ', 'A', 'd', 'm', 'i', 'n', 'i', 's', 't', 'r', 'a', 'd', 'o', 'r', ':', ' ', '6', '2', '.', '4', '1', '8', '.', '1', '4', '0', '/', '0', '0', '0', '1', '-', '3', '1', 'E', 'n', 'd', 'e', 'r', ' ', 'e', 'ç', 'o', ':', 'A', 'V', ' ', 'B', 'R', 'I', 'G', 'A', 'D', 'E', 'I', 'R', 'O', ' ', 'F', ' ', 'A', 'R', 'I', 'A', ' ', 'L', 'I', 'M', 'A', ',', ' ', '3', '4', '0', '0', ',', ' ', '1', '0', 'º', ' ', 'A', 'n', 'd', 'a', 'r', ' ', '-', 'I', 'T', 'A', 'I', 'M', ' ', 'B', 'I', 'B', 'I', '-', ' ', 'S', 'Ã', 'O', ' ', 'P', ' ', 'A', 'U', 'L', 'O', '-', ' ', 'S', 'P', '-', ' ', '0', '4', '5', '3', '8', '1', '3', '2', 'T', 'e', 'l', 'e', 'f', 'o', 'n', 'e', 's', ':', ' ', '5', '5', ' ', '(', '1', ' ', '1', ')', ' ', '3', '0', '7', '2', '6', '0', '1', '2', 'S', 'i', 't', 'e', ':', ' ', 'w', 'w', 'w', ' ', '.', 'i', 'n', 't', 'r', 'a', 'g', '.', 'c', 'o', 'm', '.', 'b', 'r', ' ', 'E', '-', 'm', 'a', 'i', 'l', ':', 'p', 'r', 'o', 'd', 'u', 't', 'o', 's', 'e', 's', 't', 'r', 'u', 't', 'u', 'r', 'a', 'd', 'o', 's', '@', 'i', 't', 'a', 'u', '-', 'u', 'n', 'i', 'b', 'a', 'n', 'c', 'o', '.', 'c', 'o', 'm', '.', 'b', 'r', 'C', 'o', 'm', 'p', 'e', 't', 'ê', 'n', 'c', 'i', 'a', ':', ' ', '0', '3', '/', '2', '0', '2', '2', 'D', 'a', 't', 'a', ' ', 'd', 'a', ' ', 'I', 'n', 'f', 'o', 'r', 'm', 'a', 'ç', 'ã', 'o', ' ', 's', 'o', 'b', 'r', ' ', 'e', ' ', 'd', 'e', 't', 'a', 'l', 'h', 'a', 'm', 'e', 'n', 't', 'o', ' ', 'd', 'o', ' ', 'n', 'ú', 'm', 'e', 'r', ' ', 'o', ' ', 'd', 'e', ' ', 'c', 'o', 't', 'i', 's', 't', 'a', 's', '¹', ' ', '3', '1', '/', '0', '3', '/', '2', '0', '2', '2', 'N', 'ú', 'm', 'e', 'r', ' ', 'o', ' ', 'd', 'e', ' ', 'c', 'o', 't', 'i', 's', 't', 'a', 's', ' ', '3', '8', '6', 'P', 'e', 's', 's', 'o', 'a', ' ', 'f', 'í', 's', 'i', 'c', 'a', ' ', '3', '8', '1', 'P', 'e', 's', 's', 'o', 'a', ' ', 'j', 'u', 'r', 'í', 'd', 'i', 'c', 'a', ' ', 'n', 'ã', 'o', ' ', 'f', 'i', 'n', 'a', 'n', 'c', 'e', 'i', 'r', 'a', ' ', '1', 'B', 'a', 'n', 'c', 'o', ' ', 'c', 'o', 'm', 'e', 'r', 'c', 'i', 'a', 'l', ' ', '0', 'C', 'o', 'r', 'r', 'e', 't', 'o', 'r', 'a', ' ', 'o', 'u', ' ', 'd', 'i', 's', 't', 'r', 'i', 'b', 'u', 'i', 'd', 'o', 'r', 'a', ' ', '0', 'O', 'u', 't', 'r', 'a', 's', ' ', 'p', 'e', 's', 's', 'o', 'a', 's', ' ', 'j', 'u', 'r', 'í', 'd', 'i', 'c', 'a', 's', ' ', 'f', 'i', 'n', 'a', 'n', 'c', 'e', 'i', 'r', 'a', 's', ' ', '0', 'I', 'n', 'v', 'e', 's', 't', 'i', 'd', 'o', 'r', 'e', 's', ' ', 'n', 'ã', 'o', ' ', 'r', 'e', 's', 'i', 'd', 'e', 'n', 't', 'e', 's', ' ', '4', 'E', 'n', 't', 'i', 'd', 'a', 'd', 'e', ' ', 'a', 'b', 'e', 'r', 't', 'a', ' ', 'd', 'e', ' ', 'p', 'r', 'e', 'v', 'i', 'd', 'ê', 'n', 'c', 'i', 'a', ' ', 'c', 'o', 'm', 'p', 'l', 'e', 'm', 'e', 'n', 't', 'a', 'r', ' ', '0', 'E', 'n', 't', 'i', 'd', 'a', 'd', 'e', ' ', 'f', 'e', 'c', 'h', 'a', 'd', 'a', ' ', 'd', 'e', ' ', 'p', 'r', 'e', 'v', 'i', 'd', 'ê', 'n', 'c', 'i', 'a', ' ', 'c', 'o', 'm', 'p', 'l', 'e', 'm', 'e', 'n', 't', 'a', 'r', ' ', '0', 'R', 'e', 'g', 'i', 'm', 'e', ' ', 'p', 'r', 'ó', 'p', 'r', 'i', 'o', ' ', 'd', 'e', ' ', 'p', 'r', 'e', 'v', 'i', 'd', 'ê', 'n', 'c', 'i', 'a', ' ', 'd', 'o', 's', ' ', 's', 'e', 'r', 'v', 'i', 'd', 'o', 'r', 'e', 's', ' ', 'p', 'ú', 'b', 'l', 'i', 'c', 'o', 's', ' ', '0', 'S', 'o', 'c', 'i', 'e', 'd', 'a', 'd', 'e', ' ', 's', 'e', 'g', 'u', 'r', 'a', 'd', 'o', 'r', 'a', ' ', 'o', 'u', ' ', 'r', 'e', 's', 's', 'e', 'g', 'u', 'r', 'a', 'd', 'o', 'r', 'a', ' ', '0', 'S', 'o', 'c', 'i', 'e', 'd', 'a', 'd', 'e', ' ', 'd', 'e', ' ', 'c', 'a', 'p', 'i', 't', 'a', 'l', 'i', 'z', 'a', 'ç', 'ã', 'o', ' ', 'e', ' ', 'd', 'e', ' ', 'a', 'r', 'r', 'e', 'n', 'd', 'a', 'm', 'e', 'n', 't', 'o', ' ', 'm', 'e', 'r', 'c', 'a', 'n', 't', 'i', 'l', ' ', '0', 'F', 'u', 'n', 'd', 'o', 's', ' ', 'd', 'e', ' ', 'i', 'n', 'v', 'e', 's', 't', 'i', 'm', 'e', 'n', 't', 'o', ' ', 'i', 'm', 'o', 'b', 'i', 'l', 'i', 'á', 'r', 'i', 'o', ' ', '0', 'O', 'u', 't', 'r', 'o', 's', ' ', 'f', 'u', 'n', 'd', 'o', 's', ' ', 'd', 'e', ' ', 'i', 'n', 'v', 'e', 's', 't', 'i', 'm', 'e', 'n', 't', 'o', ' ', '0', 'C', 'o', 't', 'i', 's', 't', 'a', 's', ' ', 'd', 'e', ' ', 'd', 'i', 's', 't', 'r', 'i', 'b', 'u', 'i', 'd', 'o', 'r', 'e', 's', ' ', 'd', 'o', ' ', 'f', 'u', 'n', 'd', 'o', ' ', '(', 'd', 'i', 's', 't', 'r', 'i', 'b', 'u', 'i', 'ç', 'ã', 'o', ' ', 'p', 'o', 'r', ' ', 'c', 'o', 'n', 't', 'a', ' ', 'e', ' ', 'o', 'r', 'd', 'e', 'm', ')', ' ', '0', 'O', 'u', 't', 'r', 'o', 's', ' ', 't', 'i', 'p', 'o', 's', ' ', 'd', 'e', ' ', 'c', 'o', 't', 'i', 's', 't', 'a', 's', ' ', 'n', 'ã', 'o', ' ', 'r', 'e', 'l', 'a', 'c', 'i', 'o', 'n', 'a', 'd', 'o', 's', ' ', '0', '1', ' ', 'A', 't', 'i', 'v', 'o', ' ', '–', ' ', 'R', '$', ' ', '1', '4', '6', '.', '8', '5', '1', '.', '5', '2', '2', ',', '0', '2', '2', ' ', 'P', 'a', 't', 'r', 'i', 'm', 'ô', 'n', 'i', 'o', ' ', 'L', 'í', 'q', 'u', 'i', 'd', 'o', ' ', '–', ' ', 'R', '$', ' ', '1', '4', '6', '.', '6', '2', '9', '.', '8', '1', '3', ',', '7', '8', '3', ' ', 'N', 'ú', 'm', 'e', 'r', ' ', 'o', ' ', 'd', 'e', ' ', 'C', 'o', 't', 'a', 's', ' ', 'E', 'm', 'i', 't', 'i', 'd', 'a', 's', ' ', '1', '4', '7', '.', '7', '0', '0', ',', '9', '9', '7', '1', '4', ' ', 'V', 'a', 'l', 'o', 'r', ' ', 'P', 'a', 't', 'r', 'i', 'm', 'o', 'n', 'i', 'a', 'l', ' ', 'd', 'a', 's', ' ', 'C', 'o', 't', 'a', 's', ' ', '–', ' ', 'R', '$', ' ', '9', '9', '2', ',', '7', '4', '7', '6', '2', '3', '5', ' ', 'D', 'e', 's', 'p', 'e', 's', 'a', 's', ' ', 'c', 'o', 'm', ' ', 'a', ' ', 't', 'a', 'x', 'a', ' ', 'd', 'e', ' ', 'a', 'd', 'm', 'i', 'n', 'i', 's', 't', 'r', 'a', 'ç', 'ã', 'o', ' ', 'e', 'm', ' ', 'r', ' ', 'e', 'l', 'a', 'ç', 'ã', 'o', ' ', 'a', 'o', ' ', 'p', 'a', 't', 'r', 'i', 'm', 'ô', 'n', 'i', 'o', ' ', 'l', 'í', 'q', 'u', 'i', 'd', 'o', ' ', 'd', 'o', ' ', 'm', 'ê', 's', ' ', '(', '%', ')', ' ', '0', ',', '1', '2', '4', '6', '%', '6', ' ', 'D', 'e', 's', 'p', 'e', 's', 'a', 's', ' ', 'c', 'o', 'm', ' ', 'o', ' ', 'a', 'g', 'e', 'n', 't', 'e', ' ', 'c', 'u', 's', 't', 'o', 'd', 'i', 'a', 'n', 't', 'e', ' ', 'e', 'm', ' ', 'r', ' ', 'e', 'l', 'a', 'ç', 'ã', 'o', ' ', 'a', 'o', ' ', 'p', 'a', 't', 'r', 'i', 'm', 'ô', 'n', 'i', 'o', ' ', 'l', 'í', 'q', 'u', 'i', 'd', 'o', ' ', 'd', 'o', ' ', 'm', 'ê', 's', ' ', '(', '%', ')', ' ', '0', ',', '0', '0', '6', '9', '%', '7', ' ', 'R', 'e', 'n', 't', 'a', 'b', 'i', 'l', 'i', 'd', 'a', 'd', 'e', ' ', 'E', 'f', 'e', 't', 'i', 'v', 'a', ' ', 'M', 'e', 'n', 's', 'a', 'l', ' ', '(', '%', ')', ' ', '2', ',', '2', '4', '1', '9', '%', '7', '.', '1', ' ', 'R', 'e', 'n', 't', 'a', 'b', 'i', 'l', 'i', 'd', 'a', 'd', 'e', ' ', 'P', 'a', 't', 'r', 'i', 'm', 'o', 'n', 'i', 'a', 'l', ' ', 'd', 'o', ' ', 'M', 'ê', 's', ' ', 'd', 'e', ' ', 'R', 'e', 'f', 'e', 'r', 'ê', 'n', 'c', 'i', 'a', '²', ' ', '(', '%', ')', ' ', '2', ',', '2', '4', '1', '9', '%', '7', '.', '2', ' ', 'D', 'i', 'v', 'i', 'd', 'e', 'n', 'd', ' ', 'Y', ' ', 'i', 'e', 'l', 'd', ' ', 'd', 'o', ' ', 'M', 'ê', 's', ' ', 'd', 'e', ' ', 'R', 'e', 'f', 'e', 'r', 'ê', 'n', 'c', 'i', 'a', '³', ' ', '(', '%', ')', ' ', '0', ',', '0', '0', '0', '0', '%', '8', ' ', 'A', 'm', 'o', 'r', 't', 'i', 'z', 'a', 'ç', 'õ', 'e', 's', ' ', 'd', 'e', ' ', 'c', 'o', 't', 'a', 's', ' ', 'd', 'o', ' ', 'M', 'ê', 's', ' ', 'd', 'e', ' ', 'R', 'e', 'f', 'e', 'r', 'ê', 'n', 'c', 'i', 'a', '⁴', ' ', '(', '%', ')', ' ', '0', ',', '0', '0', '0', '0', '%', 'I', 'n', 'f', 'o', 'r', 'm', 'a', 'ç', 'õ', 'e', 's', ' ', 'd', 'o', ' ', 'A', 't', 'i', 'v', 'o', ' ', 'V', 'a', 'l', 'o', 'r', ' ', '(', 'R', '$', ')', '9', ' ', 'T', 'o', 't', 'a', 'l', ' ', 'm', 'a', 'n', 't', 'i', 'd', 'o', ' ', 'p', 'a', 'r', 'a', ' ', 'a', 's', ' ', 'N', 'e', 'c', 'e', 's', 's', 'i', 'd', 'a', 'd', 'e', 's', ' ', 'd', 'e', ' ', 'L', 'i', 'q', 'u', 'i', 'd', 'e', 'z', ' ', '(', 'a', 'r', 't', '.', ' ', '4', '6', ',', ' ', '§', ' ', 'ú', 'n', 'i', 'c', 'o', ',', ' ', 'I', 'C', 'V', 'M', ' ', '4', '7', '2', '/', '0', '8', ')', ' ', '3', '.', '2', '3', '1', '.', '9', '4', '6', ',', '0', '4']\n"
          ]
        }
      ]
    },
    {
      "cell_type": "code",
      "source": [
        "#Sinal +\n",
        "# 1 ou mais repetições \n",
        "\n",
        "busca = re.search(r'.+', lista)\n",
        "print(busca.group())"
      ],
      "metadata": {
        "colab": {
          "base_uri": "https://localhost:8080/"
        },
        "id": "9gpO-XAzeK6h",
        "outputId": "6de8d2b3-533d-4268-f49c-9a838f3350af"
      },
      "execution_count": null,
      "outputs": [
        {
          "output_type": "stream",
          "name": "stdout",
          "text": [
            "26/05/2022 1 1:57 ANEXO 39-I : Informe Mensal\n"
          ]
        }
      ]
    },
    {
      "cell_type": "code",
      "source": [
        "#^ = início da strig\n",
        "#\\ = traz caráter especial para strings normais e transforma caractere especial em string normal \n",
        "#\\w = traz somente caracteres que são a-Z e 0-9 _\n",
        "\n",
        "resultado = re.search(r\"\\w{5}\", lista)\n",
        "print(resultado.group()) "
      ],
      "metadata": {
        "colab": {
          "base_uri": "https://localhost:8080/"
        },
        "id": "rLegPjiVerwv",
        "outputId": "d3532ee8-a452-4894-850a-364af8c65c26"
      },
      "execution_count": null,
      "outputs": [
        {
          "output_type": "stream",
          "name": "stdout",
          "text": [
            "ANEXO\n"
          ]
        }
      ]
    },
    {
      "cell_type": "code",
      "source": [
        "#\\d trazer caracteres de 0-9\n",
        "\n",
        "resultado = re.search(r\"\\d{5}\", lista)\n",
        "print(resultado.group()) "
      ],
      "metadata": {
        "colab": {
          "base_uri": "https://localhost:8080/"
        },
        "id": "BziZCSbQfohb",
        "outputId": "7aeb5249-60bc-4cbe-9831-01843cb976d0"
      },
      "execution_count": null,
      "outputs": [
        {
          "output_type": "stream",
          "name": "stdout",
          "text": [
            "28998\n"
          ]
        }
      ]
    },
    {
      "cell_type": "code",
      "source": [
        "resultado = re.search(r\"^\\d{2}\", lista)\n",
        "print(resultado.group()) "
      ],
      "metadata": {
        "colab": {
          "base_uri": "https://localhost:8080/"
        },
        "id": "hysHEW2Nf0TE",
        "outputId": "2eae40d3-0f04-47c4-e0d5-f15be30361dd"
      },
      "execution_count": null,
      "outputs": [
        {
          "output_type": "stream",
          "name": "stdout",
          "text": [
            "26\n"
          ]
        }
      ]
    },
    {
      "cell_type": "code",
      "source": [
        "#$ = denotar final\n",
        "\n",
        "result = re.findall(r'\\w{6}$', lista, re.M)\n",
        "print(result)"
      ],
      "metadata": {
        "colab": {
          "base_uri": "https://localhost:8080/"
        },
        "id": "0nQTg6gtgHTJ",
        "outputId": "67490c01-0936-476e-e530-e7f0e84e3084"
      },
      "execution_count": null,
      "outputs": [
        {
          "output_type": "stream",
          "name": "stdout",
          "text": [
            "['Mensal', 'primir', 'Mensal', 'ficado', 'miliar', 'icação', 'encial', 'minado', '726012', '747623']\n"
          ]
        }
      ]
    },
    {
      "cell_type": "code",
      "source": [
        "result = re.findall(r'\\d', lista)\n",
        "print(result)"
      ],
      "metadata": {
        "colab": {
          "base_uri": "https://localhost:8080/"
        },
        "id": "xz0McuZ3gS2S",
        "outputId": "78319f4e-826c-4be2-e488-2348bad66cf0"
      },
      "execution_count": null,
      "outputs": [
        {
          "output_type": "stream",
          "name": "stdout",
          "text": [
            "['2', '6', '0', '5', '2', '0', '2', '2', '1', '1', '5', '7', '3', '9', '2', '8', '9', '9', '8', '1', '1', '3', '3', '2', '3', '1', '7', '3', '1', '3', '0', '0', '0', '1', '6', '4', '1', '3', '0', '2', '2', '0', '2', '0', '1', '4', '7', '7', '0', '1', '0', '0', '1', '3', '0', '2', '2', '0', '2', '7', '3', '0', '0', '6', '6', '2', '4', '1', '8', '1', '4', '0', '0', '0', '0', '1', '3', '1', '3', '4', '0', '0', '1', '0', '0', '4', '5', '3', '8', '1', '3', '2', '5', '5', '1', '1', '3', '0', '7', '2', '6', '0', '1', '2', '0', '3', '2', '0', '2', '2', '3', '1', '0', '3', '2', '0', '2', '2', '3', '8', '6', '3', '8', '1', '1', '0', '0', '0', '4', '0', '0', '0', '0', '0', '0', '0', '0', '0', '1', '1', '4', '6', '8', '5', '1', '5', '2', '2', '0', '2', '2', '1', '4', '6', '6', '2', '9', '8', '1', '3', '7', '8', '3', '1', '4', '7', '7', '0', '0', '9', '9', '7', '1', '4', '9', '9', '2', '7', '4', '7', '6', '2', '3', '5', '0', '1', '2', '4', '6', '6', '0', '0', '0', '6', '9', '7', '2', '2', '4', '1', '9', '7', '1', '2', '2', '4', '1', '9', '7', '2', '0', '0', '0', '0', '0', '8', '0', '0', '0', '0', '0', '9', '4', '6', '4', '7', '2', '0', '8', '3', '2', '3', '1', '9', '4', '6', '0', '4']\n"
          ]
        }
      ]
    },
    {
      "cell_type": "code",
      "source": [
        "result = re.findall(r'\\d\\d', lista)\n",
        "print(result)"
      ],
      "metadata": {
        "colab": {
          "base_uri": "https://localhost:8080/"
        },
        "id": "3uDkUIc1grdZ",
        "outputId": "2aa3625b-913e-4e8b-98ca-db58f0d9f7f0"
      },
      "execution_count": null,
      "outputs": [
        {
          "output_type": "stream",
          "name": "stdout",
          "text": [
            "['26', '05', '20', '22', '57', '39', '28', '99', '81', '32', '31', '31', '00', '01', '64', '13', '02', '20', '20', '14', '70', '00', '13', '02', '20', '27', '30', '06', '62', '41', '14', '00', '01', '31', '34', '00', '10', '04', '53', '81', '32', '55', '30', '72', '60', '12', '03', '20', '22', '31', '03', '20', '22', '38', '38', '14', '85', '52', '02', '14', '62', '81', '78', '14', '70', '99', '71', '99', '74', '76', '23', '12', '46', '00', '69', '24', '19', '24', '19', '00', '00', '00', '00', '46', '47', '08', '23', '94', '04']\n"
          ]
        }
      ]
    },
    {
      "cell_type": "code",
      "source": [
        "result = re.findall(r'\\d\\d*', lista)\n",
        "print(result)"
      ],
      "metadata": {
        "colab": {
          "base_uri": "https://localhost:8080/"
        },
        "id": "IdylopHcgwIg",
        "outputId": "7b7319ed-7b26-4f40-d991-f5b32c95d7e2"
      },
      "execution_count": null,
      "outputs": [
        {
          "output_type": "stream",
          "name": "stdout",
          "text": [
            "['26', '05', '2022', '1', '1', '57', '39', '289981', '1', '3', '32', '317', '313', '0001', '64', '13', '02', '2020', '147', '701', '00', '13', '02', '2027', '30', '06', '62', '418', '140', '0001', '31', '3400', '10', '04538132', '55', '1', '1', '30726012', '03', '2022', '31', '03', '2022', '386', '381', '1', '0', '0', '0', '4', '0', '0', '0', '0', '0', '0', '0', '0', '0', '1', '146', '851', '522', '02', '2', '146', '629', '813', '78', '3', '147', '700', '9971', '4', '992', '747623', '5', '0', '1246', '6', '0', '0069', '7', '2', '2419', '7', '1', '2', '2419', '7', '2', '0', '0000', '8', '0', '0000', '9', '46', '472', '08', '3', '231', '946', '04']\n"
          ]
        }
      ]
    },
    {
      "cell_type": "code",
      "source": [
        "#1 ou mais vezes (+)\n",
        "result = re.findall(r'\\d\\d+', lista)\n",
        "print(result)"
      ],
      "metadata": {
        "colab": {
          "base_uri": "https://localhost:8080/"
        },
        "id": "u5aVsLJahN5T",
        "outputId": "455d46f6-738d-4a38-c8c7-d4bbbe7e5cd8"
      },
      "execution_count": null,
      "outputs": [
        {
          "output_type": "stream",
          "name": "stdout",
          "text": [
            "['26', '05', '2022', '57', '39', '289981', '32', '317', '313', '0001', '64', '13', '02', '2020', '147', '701', '00', '13', '02', '2027', '30', '06', '62', '418', '140', '0001', '31', '3400', '10', '04538132', '55', '30726012', '03', '2022', '31', '03', '2022', '386', '381', '146', '851', '522', '02', '146', '629', '813', '78', '147', '700', '9971', '992', '747623', '1246', '0069', '2419', '2419', '0000', '0000', '46', '472', '08', '231', '946', '04']\n"
          ]
        }
      ]
    },
    {
      "cell_type": "code",
      "source": [
        "#Zero ou uma vez (?)\n",
        "result = re.findall(r'\\d\\d?', lista)\n",
        "print(result)"
      ],
      "metadata": {
        "colab": {
          "base_uri": "https://localhost:8080/"
        },
        "id": "J2Gbmy8lhRTK",
        "outputId": "0d227d58-ffbe-43f8-c99a-8a82af6f7760"
      },
      "execution_count": null,
      "outputs": [
        {
          "output_type": "stream",
          "name": "stdout",
          "text": [
            "['26', '05', '20', '22', '1', '1', '57', '39', '28', '99', '81', '1', '3', '32', '31', '7', '31', '3', '00', '01', '64', '13', '02', '20', '20', '14', '7', '70', '1', '00', '13', '02', '20', '27', '30', '06', '62', '41', '8', '14', '0', '00', '01', '31', '34', '00', '10', '04', '53', '81', '32', '55', '1', '1', '30', '72', '60', '12', '03', '20', '22', '31', '03', '20', '22', '38', '6', '38', '1', '1', '0', '0', '0', '4', '0', '0', '0', '0', '0', '0', '0', '0', '0', '1', '14', '6', '85', '1', '52', '2', '02', '2', '14', '6', '62', '9', '81', '3', '78', '3', '14', '7', '70', '0', '99', '71', '4', '99', '2', '74', '76', '23', '5', '0', '12', '46', '6', '0', '00', '69', '7', '2', '24', '19', '7', '1', '2', '24', '19', '7', '2', '0', '00', '00', '8', '0', '00', '00', '9', '46', '47', '2', '08', '3', '23', '1', '94', '6', '04']\n"
          ]
        }
      ]
    },
    {
      "cell_type": "markdown",
      "source": [
        "Sets"
      ],
      "metadata": {
        "id": "gojxTaiKhx0C"
      }
    },
    {
      "cell_type": "code",
      "source": [
        "resultado = re.findall(r'[a-z]', lista)\n",
        "print(resultado)"
      ],
      "metadata": {
        "colab": {
          "base_uri": "https://localhost:8080/"
        },
        "id": "yx-qDryehkgp",
        "outputId": "82672998-84d4-44bf-ed75-63379bafa528"
      },
      "execution_count": null,
      "outputs": [
        {
          "output_type": "stream",
          "name": "stdout",
          "text": [
            "['n', 'f', 'o', 'r', 'm', 'e', 'e', 'n', 's', 'a', 'l', 'h', 't', 't', 'p', 's', 'f', 'n', 'e', 't', 'b', 'm', 'f', 'b', 'o', 'v', 'e', 's', 'p', 'a', 'c', 'o', 'm', 'b', 'r', 'f', 'n', 'e', 't', 'p', 'u', 'b', 'l', 'i', 'c', 'o', 'v', 'i', 's', 'u', 'a', 'l', 'i', 'z', 'a', 'r', 'o', 'c', 'u', 'm', 'e', 'n', 't', 'o', 'i', 'd', 'c', 'v', 'm', 't', 'r', 'u', 'e', 'm', 'p', 'r', 'i', 'm', 'i', 'r', 'n', 'f', 'o', 'r', 'm', 'e', 'e', 'n', 's', 'a', 'l', 'o', 'm', 'e', 'd', 'o', 'u', 'n', 'd', 'o', 'd', 'o', 'u', 'n', 'd', 'o', 'a', 't', 'a', 'd', 'e', 'u', 'n', 'c', 'i', 'o', 'n', 'a', 'm', 'e', 'n', 't', 'o', 'b', 'l', 'i', 'c', 'o', 'l', 'v', 'o', 'n', 'v', 'e', 's', 't', 'i', 'd', 'o', 'r', 'u', 'a', 'l', 'i', 'f', 'i', 'c', 'a', 'd', 'o', 'd', 'i', 'g', 'o', 'u', 'a', 'n', 't', 'i', 'd', 'a', 'd', 'e', 'd', 'e', 'c', 'o', 't', 'a', 's', 'e', 'm', 'i', 't', 'i', 'd', 'a', 's', 'u', 'n', 'd', 'o', 'x', 'c', 'l', 'u', 's', 'i', 'v', 'o', 'o', 'o', 't', 'i', 's', 't', 'a', 's', 'p', 'o', 's', 's', 'u', 'e', 'm', 'v', 'n', 'c', 'u', 'l', 'o', 'f', 'a', 'm', 'i', 'l', 'i', 'a', 'r', 'o', 'u', 's', 'o', 'c', 'i', 'e', 't', 'r', 'i', 'o', 'f', 'a', 'm', 'i', 'l', 'i', 'a', 'r', 'o', 'l', 'a', 's', 's', 'i', 'f', 'i', 'c', 'a', 'o', 'a', 'u', 't', 'o', 'r', 'r', 'e', 'g', 'u', 'l', 'a', 'o', 'a', 'n', 'd', 'a', 't', 'o', 'e', 's', 'e', 'n', 'v', 'o', 'l', 'v', 'i', 'm', 'e', 'n', 't', 'o', 'p', 'a', 'r', 'a', 'e', 'n', 'd', 'a', 'e', 'g', 'm', 'e', 'n', 't', 'o', 'd', 'e', 't', 'u', 'a', 'o', 'e', 's', 'i', 'd', 'e', 'n', 'c', 'i', 'a', 'l', 'i', 'p', 'o', 'd', 'e', 'e', 's', 't', 'o', 'a', 's', 's', 'i', 'v', 'a', 'r', 'a', 'z', 'o', 'd', 'e', 'u', 'r', 'a', 'o', 'e', 't', 'e', 'r', 'm', 'i', 'n', 'a', 'd', 'o', 'a', 't', 'a', 'd', 'o', 'r', 'a', 'z', 'o', 'd', 'e', 'u', 'r', 'a', 'o', 'n', 'c', 'e', 'r', 'r', 'a', 'm', 'e', 'n', 't', 'o', 'd', 'o', 'e', 'x', 'e', 'r', 'c', 'c', 'i', 'o', 's', 'o', 'c', 'i', 'a', 'l', 'e', 'r', 'c', 'a', 'd', 'o', 'd', 'e', 'n', 'e', 'g', 'o', 'c', 'i', 'a', 'o', 'd', 'a', 's', 'c', 'o', 't', 'a', 's', 'o', 'l', 's', 'a', 'n', 't', 'i', 'd', 'a', 'd', 'e', 'a', 'd', 'm', 'i', 'n', 'i', 's', 't', 'r', 'a', 'd', 'o', 'r', 'a', 'd', 'e', 'm', 'e', 'r', 'c', 'a', 'd', 'o', 'o', 'r', 'g', 'a', 'n', 'i', 'z', 'a', 'd', 'o', 'o', 'm', 'e', 'd', 'o', 'd', 'm', 'i', 'n', 'i', 's', 't', 'r', 'a', 'd', 'o', 'r', 'd', 'o', 'd', 'm', 'i', 'n', 'i', 's', 't', 'r', 'a', 'd', 'o', 'r', 'n', 'd', 'e', 'r', 'e', 'o', 'n', 'd', 'a', 'r', 'e', 'l', 'e', 'f', 'o', 'n', 'e', 's', 'i', 't', 'e', 'w', 'w', 'w', 'i', 'n', 't', 'r', 'a', 'g', 'c', 'o', 'm', 'b', 'r', 'm', 'a', 'i', 'l', 'p', 'r', 'o', 'd', 'u', 't', 'o', 's', 'e', 's', 't', 'r', 'u', 't', 'u', 'r', 'a', 'd', 'o', 's', 'i', 't', 'a', 'u', 'u', 'n', 'i', 'b', 'a', 'n', 'c', 'o', 'c', 'o', 'm', 'b', 'r', 'o', 'm', 'p', 'e', 't', 'n', 'c', 'i', 'a', 'a', 't', 'a', 'd', 'a', 'n', 'f', 'o', 'r', 'm', 'a', 'o', 's', 'o', 'b', 'r', 'e', 'd', 'e', 't', 'a', 'l', 'h', 'a', 'm', 'e', 'n', 't', 'o', 'd', 'o', 'n', 'm', 'e', 'r', 'o', 'd', 'e', 'c', 'o', 't', 'i', 's', 't', 'a', 's', 'm', 'e', 'r', 'o', 'd', 'e', 'c', 'o', 't', 'i', 's', 't', 'a', 's', 'e', 's', 's', 'o', 'a', 'f', 's', 'i', 'c', 'a', 'e', 's', 's', 'o', 'a', 'j', 'u', 'r', 'd', 'i', 'c', 'a', 'n', 'o', 'f', 'i', 'n', 'a', 'n', 'c', 'e', 'i', 'r', 'a', 'a', 'n', 'c', 'o', 'c', 'o', 'm', 'e', 'r', 'c', 'i', 'a', 'l', 'o', 'r', 'r', 'e', 't', 'o', 'r', 'a', 'o', 'u', 'd', 'i', 's', 't', 'r', 'i', 'b', 'u', 'i', 'd', 'o', 'r', 'a', 'u', 't', 'r', 'a', 's', 'p', 'e', 's', 's', 'o', 'a', 's', 'j', 'u', 'r', 'd', 'i', 'c', 'a', 's', 'f', 'i', 'n', 'a', 'n', 'c', 'e', 'i', 'r', 'a', 's', 'n', 'v', 'e', 's', 't', 'i', 'd', 'o', 'r', 'e', 's', 'n', 'o', 'r', 'e', 's', 'i', 'd', 'e', 'n', 't', 'e', 's', 'n', 't', 'i', 'd', 'a', 'd', 'e', 'a', 'b', 'e', 'r', 't', 'a', 'd', 'e', 'p', 'r', 'e', 'v', 'i', 'd', 'n', 'c', 'i', 'a', 'c', 'o', 'm', 'p', 'l', 'e', 'm', 'e', 'n', 't', 'a', 'r', 'n', 't', 'i', 'd', 'a', 'd', 'e', 'f', 'e', 'c', 'h', 'a', 'd', 'a', 'd', 'e', 'p', 'r', 'e', 'v', 'i', 'd', 'n', 'c', 'i', 'a', 'c', 'o', 'm', 'p', 'l', 'e', 'm', 'e', 'n', 't', 'a', 'r', 'e', 'g', 'i', 'm', 'e', 'p', 'r', 'p', 'r', 'i', 'o', 'd', 'e', 'p', 'r', 'e', 'v', 'i', 'd', 'n', 'c', 'i', 'a', 'd', 'o', 's', 's', 'e', 'r', 'v', 'i', 'd', 'o', 'r', 'e', 's', 'p', 'b', 'l', 'i', 'c', 'o', 's', 'o', 'c', 'i', 'e', 'd', 'a', 'd', 'e', 's', 'e', 'g', 'u', 'r', 'a', 'd', 'o', 'r', 'a', 'o', 'u', 'r', 'e', 's', 's', 'e', 'g', 'u', 'r', 'a', 'd', 'o', 'r', 'a', 'o', 'c', 'i', 'e', 'd', 'a', 'd', 'e', 'd', 'e', 'c', 'a', 'p', 'i', 't', 'a', 'l', 'i', 'z', 'a', 'o', 'e', 'd', 'e', 'a', 'r', 'r', 'e', 'n', 'd', 'a', 'm', 'e', 'n', 't', 'o', 'm', 'e', 'r', 'c', 'a', 'n', 't', 'i', 'l', 'u', 'n', 'd', 'o', 's', 'd', 'e', 'i', 'n', 'v', 'e', 's', 't', 'i', 'm', 'e', 'n', 't', 'o', 'i', 'm', 'o', 'b', 'i', 'l', 'i', 'r', 'i', 'o', 'u', 't', 'r', 'o', 's', 'f', 'u', 'n', 'd', 'o', 's', 'd', 'e', 'i', 'n', 'v', 'e', 's', 't', 'i', 'm', 'e', 'n', 't', 'o', 'o', 't', 'i', 's', 't', 'a', 's', 'd', 'e', 'd', 'i', 's', 't', 'r', 'i', 'b', 'u', 'i', 'd', 'o', 'r', 'e', 's', 'd', 'o', 'f', 'u', 'n', 'd', 'o', 'd', 'i', 's', 't', 'r', 'i', 'b', 'u', 'i', 'o', 'p', 'o', 'r', 'c', 'o', 'n', 't', 'a', 'e', 'o', 'r', 'd', 'e', 'm', 'u', 't', 'r', 'o', 's', 't', 'i', 'p', 'o', 's', 'd', 'e', 'c', 'o', 't', 'i', 's', 't', 'a', 's', 'n', 'o', 'r', 'e', 'l', 'a', 'c', 'i', 'o', 'n', 'a', 'd', 'o', 's', 't', 'i', 'v', 'o', 'a', 't', 'r', 'i', 'm', 'n', 'i', 'o', 'q', 'u', 'i', 'd', 'o', 'm', 'e', 'r', 'o', 'd', 'e', 'o', 't', 'a', 's', 'm', 'i', 't', 'i', 'd', 'a', 's', 'a', 'l', 'o', 'r', 'a', 't', 'r', 'i', 'm', 'o', 'n', 'i', 'a', 'l', 'd', 'a', 's', 'o', 't', 'a', 's', 'e', 's', 'p', 'e', 's', 'a', 's', 'c', 'o', 'm', 'a', 't', 'a', 'x', 'a', 'd', 'e', 'a', 'd', 'm', 'i', 'n', 'i', 's', 't', 'r', 'a', 'o', 'e', 'm', 'r', 'e', 'l', 'a', 'o', 'a', 'o', 'p', 'a', 't', 'r', 'i', 'm', 'n', 'i', 'o', 'l', 'q', 'u', 'i', 'd', 'o', 'd', 'o', 'm', 's', 'e', 's', 'p', 'e', 's', 'a', 's', 'c', 'o', 'm', 'o', 'a', 'g', 'e', 'n', 't', 'e', 'c', 'u', 's', 't', 'o', 'd', 'i', 'a', 'n', 't', 'e', 'e', 'm', 'r', 'e', 'l', 'a', 'o', 'a', 'o', 'p', 'a', 't', 'r', 'i', 'm', 'n', 'i', 'o', 'l', 'q', 'u', 'i', 'd', 'o', 'd', 'o', 'm', 's', 'e', 'n', 't', 'a', 'b', 'i', 'l', 'i', 'd', 'a', 'd', 'e', 'f', 'e', 't', 'i', 'v', 'a', 'e', 'n', 's', 'a', 'l', 'e', 'n', 't', 'a', 'b', 'i', 'l', 'i', 'd', 'a', 'd', 'e', 'a', 't', 'r', 'i', 'm', 'o', 'n', 'i', 'a', 'l', 'd', 'o', 's', 'd', 'e', 'e', 'f', 'e', 'r', 'n', 'c', 'i', 'a', 'i', 'v', 'i', 'd', 'e', 'n', 'd', 'i', 'e', 'l', 'd', 'd', 'o', 's', 'd', 'e', 'e', 'f', 'e', 'r', 'n', 'c', 'i', 'a', 'm', 'o', 'r', 't', 'i', 'z', 'a', 'e', 's', 'd', 'e', 'c', 'o', 't', 'a', 's', 'd', 'o', 's', 'd', 'e', 'e', 'f', 'e', 'r', 'n', 'c', 'i', 'a', 'n', 'f', 'o', 'r', 'm', 'a', 'e', 's', 'd', 'o', 't', 'i', 'v', 'o', 'a', 'l', 'o', 'r', 'o', 't', 'a', 'l', 'm', 'a', 'n', 't', 'i', 'd', 'o', 'p', 'a', 'r', 'a', 'a', 's', 'e', 'c', 'e', 's', 's', 'i', 'd', 'a', 'd', 'e', 's', 'd', 'e', 'i', 'q', 'u', 'i', 'd', 'e', 'z', 'a', 'r', 't', 'n', 'i', 'c', 'o']\n"
          ]
        }
      ]
    },
    {
      "cell_type": "code",
      "source": [
        "resultado = re.findall(r'[A-D]', lista)\n",
        "print(resultado)"
      ],
      "metadata": {
        "colab": {
          "base_uri": "https://localhost:8080/"
        },
        "id": "JP0i8Lhhh6_T",
        "outputId": "dd19c09b-a241-4fe6-8d75-4657cca255f4"
      },
      "execution_count": null,
      "outputs": [
        {
          "output_type": "stream",
          "name": "stdout",
          "text": [
            "['A', 'D', 'A', 'D', 'D', 'B', 'C', 'D', 'A', 'C', 'C', 'C', 'D', 'A', 'D', 'D', 'D', 'D', 'B', 'B', 'B', 'A', 'A', 'A', 'D', 'D', 'A', 'C', 'A', 'A', 'B', 'A', 'D', 'A', 'A', 'A', 'A', 'A', 'B', 'B', 'A', 'C', 'D', 'B', 'C', 'C', 'A', 'C', 'C', 'D', 'D', 'D', 'A', 'A', 'C']\n"
          ]
        }
      ]
    },
    {
      "cell_type": "code",
      "source": [
        "resultado = re.findall(r'[0-9]', lista)\n",
        "print(resultado)"
      ],
      "metadata": {
        "colab": {
          "base_uri": "https://localhost:8080/"
        },
        "id": "ZPZJhNsRh_Xj",
        "outputId": "cafe72e6-946d-4021-8872-e6b573faa910"
      },
      "execution_count": null,
      "outputs": [
        {
          "output_type": "stream",
          "name": "stdout",
          "text": [
            "['2', '6', '0', '5', '2', '0', '2', '2', '1', '1', '5', '7', '3', '9', '2', '8', '9', '9', '8', '1', '1', '3', '3', '2', '3', '1', '7', '3', '1', '3', '0', '0', '0', '1', '6', '4', '1', '3', '0', '2', '2', '0', '2', '0', '1', '4', '7', '7', '0', '1', '0', '0', '1', '3', '0', '2', '2', '0', '2', '7', '3', '0', '0', '6', '6', '2', '4', '1', '8', '1', '4', '0', '0', '0', '0', '1', '3', '1', '3', '4', '0', '0', '1', '0', '0', '4', '5', '3', '8', '1', '3', '2', '5', '5', '1', '1', '3', '0', '7', '2', '6', '0', '1', '2', '0', '3', '2', '0', '2', '2', '3', '1', '0', '3', '2', '0', '2', '2', '3', '8', '6', '3', '8', '1', '1', '0', '0', '0', '4', '0', '0', '0', '0', '0', '0', '0', '0', '0', '1', '1', '4', '6', '8', '5', '1', '5', '2', '2', '0', '2', '2', '1', '4', '6', '6', '2', '9', '8', '1', '3', '7', '8', '3', '1', '4', '7', '7', '0', '0', '9', '9', '7', '1', '4', '9', '9', '2', '7', '4', '7', '6', '2', '3', '5', '0', '1', '2', '4', '6', '6', '0', '0', '0', '6', '9', '7', '2', '2', '4', '1', '9', '7', '1', '2', '2', '4', '1', '9', '7', '2', '0', '0', '0', '0', '0', '8', '0', '0', '0', '0', '0', '9', '4', '6', '4', '7', '2', '0', '8', '3', '2', '3', '1', '9', '4', '6', '0', '4']\n"
          ]
        }
      ]
    },
    {
      "cell_type": "code",
      "source": [
        "resultado = re.findall(r'[^AZT]', lista)\n",
        "print(resultado)"
      ],
      "metadata": {
        "colab": {
          "base_uri": "https://localhost:8080/"
        },
        "id": "bbnb5hqViIGR",
        "outputId": "d6ec40c3-021c-4336-8a14-b6bb5e8f698a"
      },
      "execution_count": null,
      "outputs": [
        {
          "output_type": "stream",
          "name": "stdout",
          "text": [
            "['2', '6', '/', '0', '5', '/', '2', '0', '2', '2', ' ', '1', ' ', '1', ':', '5', '7', ' ', 'N', 'E', 'X', 'O', ' ', '3', '9', '-', 'I', ' ', ':', ' ', 'I', 'n', 'f', 'o', 'r', 'm', 'e', ' ', 'M', 'e', 'n', 's', 'a', 'l', '\\n', 'h', 't', 't', 'p', 's', ':', '/', '/', 'f', 'n', 'e', 't', '.', 'b', 'm', 'f', 'b', 'o', 'v', 'e', 's', 'p', 'a', '.', 'c', 'o', 'm', '.', 'b', 'r', '/', 'f', 'n', 'e', 't', '/', 'p', 'u', 'b', 'l', 'i', 'c', 'o', '/', 'v', 'i', 's', 'u', 'a', 'l', 'i', 'z', 'a', 'r', 'D', 'o', 'c', 'u', 'm', 'e', 'n', 't', 'o', '?', 'i', 'd', '=', '2', '8', '9', '9', '8', '1', '&', 'c', 'v', 'm', '=', 't', 'r', 'u', 'e', ' ', '1', '/', '3', 'I', 'm', 'p', 'r', 'i', 'm', 'i', 'r', '\\n', 'I', 'n', 'f', 'o', 'r', 'm', 'e', ' ', 'M', 'e', 'n', 's', 'a', 'l', '\\n', 'N', 'o', 'm', 'e', ' ', 'd', 'o', ' ', 'F', 'u', 'n', 'd', 'o', ':', 'E', 'V', 'E', 'N', ' ', 'I', 'I', ' ', 'K', 'I', 'N', 'E', ' ', 'F', 'U', 'N', 'D', 'O', ' ', 'D', 'E', ' ', 'I', 'N', 'V', 'E', 'S', 'I', 'M', 'E', 'N', ' ', 'O', '\\n', 'I', 'M', 'O', 'B', 'I', 'L', 'I', 'Á', 'R', 'I', 'O', 'C', 'N', 'P', 'J', ' ', 'd', 'o', ' ', 'F', 'u', 'n', 'd', 'o', ':', ' ', '3', '2', '.', '3', '1', '7', '.', '3', '1', '3', '/', '0', '0', '0', '1', '-', '6', '4', '\\n', 'D', 'a', 't', 'a', ' ', 'd', 'e', '\\n', 'F', 'u', 'n', 'c', 'i', 'o', 'n', 'a', 'm', 'e', 'n', 't', 'o', ':', '1', '3', '/', '0', '2', '/', '2', '0', '2', '0', ' ', 'P', 'ú', 'b', 'l', 'i', 'c', 'o', ' ', 'l', 'v', 'o', ':', ' ', 'I', 'n', 'v', 'e', 's', 't', 'i', 'd', 'o', 'r', ' ', 'Q', 'u', 'a', 'l', 'i', 'f', 'i', 'c', 'a', 'd', 'o', '\\n', 'C', 'ó', 'd', 'i', 'g', 'o', ' ', 'I', 'S', 'I', 'N', ':', ' ', '.', ' ', 'Q', 'u', 'a', 'n', 't', 'i', 'd', 'a', 'd', 'e', ' ', 'd', 'e', ' ', 'c', 'o', 't', 'a', 's', ' ', 'e', 'm', 'i', 't', 'i', 'd', 'a', 's', ':', ' ', '1', '4', '7', '.', '7', '0', '1', ',', '0', '0', '\\n', 'F', 'u', 'n', 'd', 'o', ' ', 'E', 'x', 'c', 'l', 'u', 's', 'i', 'v', 'o', '?', ' ', 'N', 'ã', 'o', 'C', 'o', 't', 'i', 's', 't', 'a', 's', ' ', 'p', 'o', 's', 's', 'u', 'e', 'm', ' ', 'v', 'í', 'n', 'c', 'u', 'l', 'o', ' ', 'f', 'a', 'm', 'i', 'l', 'i', 'a', 'r', '\\n', 'o', 'u', ' ', 's', 'o', 'c', 'i', 'e', 't', 'á', 'r', 'i', 'o', ' ', 'f', 'a', 'm', 'i', 'l', 'i', 'a', 'r', '?', 'N', 'ã', 'o', '\\n', 'C', 'l', 'a', 's', 's', 'i', 'f', 'i', 'c', 'a', 'ç', 'ã', 'o', '\\n', 'a', 'u', 't', 'o', 'r', 'r', ' ', 'e', 'g', 'u', 'l', 'a', 'ç', 'ã', 'o', ':', 'M', 'a', 'n', 'd', 'a', 't', 'o', ':', ' ', 'D', 'e', 's', 'e', 'n', 'v', 'o', 'l', 'v', 'i', 'm', 'e', 'n', 't', 'o', ' ', 'p', 'a', 'r', 'a', ' ', 'V', ' ', 'e', 'n', 'd', 'a', '\\n', 'S', 'e', 'g', 'm', 'e', 'n', 't', 'o', ' ', 'd', 'e', ' ', 't', 'u', 'a', 'ç', 'ã', 'o', ':', ' ', 'R', 'e', 's', 'i', 'd', 'e', 'n', 'c', 'i', 'a', 'l', '\\n', 'i', 'p', 'o', ' ', 'd', 'e', ' ', 'G', 'e', 's', 't', 'ã', 'o', ':', ' ', 'P', 'a', 's', 's', 'i', 'v', 'a', 'P', 'r', 'a', 'z', 'o', ' ', 'd', 'e', ' ', 'D', 'u', 'r', 'a', 'ç', 'ã', 'o', ':', ' ', 'D', 'e', 't', 'e', 'r', 'm', 'i', 'n', 'a', 'd', 'o', '\\n', 'D', 'a', 't', 'a', ' ', 'd', 'o', ' ', 'P', 'r', 'a', 'z', 'o', ' ', 'd', 'e', '\\n', 'D', 'u', 'r', 'a', 'ç', 'ã', 'o', ':', '1', '3', '/', '0', '2', '/', '2', '0', '2', '7', ' ', 'E', 'n', 'c', 'e', 'r', 'r', 'a', 'm', 'e', 'n', 't', 'o', ' ', 'd', 'o', ' ', 'e', 'x', 'e', 'r', ' ', 'c', 'í', 'c', 'i', 'o', ' ', 's', 'o', 'c', 'i', 'a', 'l', ':', ' ', '3', '0', '/', '0', '6', '\\n', 'M', 'e', 'r', 'c', 'a', 'd', 'o', ' ', 'd', 'e', '\\n', 'n', 'e', 'g', 'o', 'c', 'i', 'a', 'ç', 'ã', 'o', ' ', 'd', 'a', 's', '\\n', 'c', 'o', 't', 'a', 's', ':', 'B', 'o', 'l', 's', 'a', 'E', 'n', 't', 'i', 'd', 'a', 'd', 'e', ' ', 'a', 'd', 'm', 'i', 'n', 'i', 's', 't', 'r', 'a', 'd', 'o', 'r', 'a', ' ', 'd', 'e', '\\n', 'm', 'e', 'r', 'c', 'a', 'd', 'o', ' ', 'o', 'r', 'g', 'a', 'n', 'i', 'z', 'a', 'd', 'o', ':', 'B', 'M', '&', 'F', 'B', 'O', 'V', 'E', 'S', 'P', ' ', '\\n', 'N', 'o', 'm', 'e', ' ', 'd', 'o', '\\n', 'd', 'm', 'i', 'n', 'i', 's', 't', 'r', 'a', 'd', 'o', 'r', ':', 'I', 'N', 'R', 'G', ' ', 'D', 'V', 'M', ' ', 'L', ' ', 'D', '.', ' ', 'C', 'N', 'P', 'J', ' ', 'd', 'o', ' ', 'd', 'm', 'i', 'n', 'i', 's', 't', 'r', 'a', 'd', 'o', 'r', ':', ' ', '6', '2', '.', '4', '1', '8', '.', '1', '4', '0', '/', '0', '0', '0', '1', '-', '3', '1', '\\n', 'E', 'n', 'd', 'e', 'r', ' ', 'e', 'ç', 'o', ':', 'V', ' ', 'B', 'R', 'I', 'G', 'D', 'E', 'I', 'R', 'O', ' ', 'F', ' ', 'R', 'I', ' ', 'L', 'I', 'M', ',', ' ', '3', '4', '0', '0', ',', ' ', '1', '0', 'º', ' ', 'n', 'd', 'a', 'r', ' ', '-', '\\n', 'I', 'I', 'M', ' ', 'B', 'I', 'B', 'I', '-', ' ', 'S', 'Ã', 'O', ' ', 'P', ' ', 'U', 'L', 'O', '-', ' ', 'S', 'P', '-', ' ', '0', '4', '5', '3', '8', '1', '3', '2', 'e', 'l', 'e', 'f', 'o', 'n', 'e', 's', ':', ' ', '5', '5', ' ', '(', '1', ' ', '1', ')', ' ', '3', '0', '7', '2', '6', '0', '1', '2', '\\n', 'S', 'i', 't', 'e', ':', ' ', 'w', 'w', 'w', ' ', '.', 'i', 'n', 't', 'r', 'a', 'g', '.', 'c', 'o', 'm', '.', 'b', 'r', ' ', 'E', '-', 'm', 'a', 'i', 'l', ':', 'p', 'r', 'o', 'd', 'u', 't', 'o', 's', 'e', 's', 't', 'r', 'u', 't', 'u', 'r', 'a', 'd', 'o', 's', '@', 'i', 't', 'a', 'u', '-', '\\n', 'u', 'n', 'i', 'b', 'a', 'n', 'c', 'o', '.', 'c', 'o', 'm', '.', 'b', 'r', '\\n', 'C', 'o', 'm', 'p', 'e', 't', 'ê', 'n', 'c', 'i', 'a', ':', ' ', '0', '3', '/', '2', '0', '2', '2', '\\n', 'D', 'a', 't', 'a', ' ', 'd', 'a', ' ', 'I', 'n', 'f', 'o', 'r', 'm', 'a', 'ç', 'ã', 'o', ' ', 's', 'o', 'b', 'r', ' ', 'e', ' ', 'd', 'e', 't', 'a', 'l', 'h', 'a', 'm', 'e', 'n', 't', 'o', ' ', 'd', 'o', ' ', 'n', 'ú', 'm', 'e', 'r', ' ', 'o', ' ', 'd', 'e', ' ', 'c', 'o', 't', 'i', 's', 't', 'a', 's', '¹', ' ', '3', '1', '/', '0', '3', '/', '2', '0', '2', '2', '\\n', 'N', 'ú', 'm', 'e', 'r', ' ', 'o', ' ', 'd', 'e', ' ', 'c', 'o', 't', 'i', 's', 't', 'a', 's', ' ', '3', '8', '6', '\\n', 'P', 'e', 's', 's', 'o', 'a', ' ', 'f', 'í', 's', 'i', 'c', 'a', ' ', '3', '8', '1', '\\n', 'P', 'e', 's', 's', 'o', 'a', ' ', 'j', 'u', 'r', 'í', 'd', 'i', 'c', 'a', ' ', 'n', 'ã', 'o', ' ', 'f', 'i', 'n', 'a', 'n', 'c', 'e', 'i', 'r', 'a', ' ', '1', '\\n', 'B', 'a', 'n', 'c', 'o', ' ', 'c', 'o', 'm', 'e', 'r', 'c', 'i', 'a', 'l', ' ', '0', '\\n', 'C', 'o', 'r', 'r', 'e', 't', 'o', 'r', 'a', ' ', 'o', 'u', ' ', 'd', 'i', 's', 't', 'r', 'i', 'b', 'u', 'i', 'd', 'o', 'r', 'a', ' ', '0', '\\n', 'O', 'u', 't', 'r', 'a', 's', ' ', 'p', 'e', 's', 's', 'o', 'a', 's', ' ', 'j', 'u', 'r', 'í', 'd', 'i', 'c', 'a', 's', ' ', 'f', 'i', 'n', 'a', 'n', 'c', 'e', 'i', 'r', 'a', 's', ' ', '0', '\\n', 'I', 'n', 'v', 'e', 's', 't', 'i', 'd', 'o', 'r', 'e', 's', ' ', 'n', 'ã', 'o', ' ', 'r', 'e', 's', 'i', 'd', 'e', 'n', 't', 'e', 's', ' ', '4', '\\n', 'E', 'n', 't', 'i', 'd', 'a', 'd', 'e', ' ', 'a', 'b', 'e', 'r', 't', 'a', ' ', 'd', 'e', ' ', 'p', 'r', 'e', 'v', 'i', 'd', 'ê', 'n', 'c', 'i', 'a', ' ', 'c', 'o', 'm', 'p', 'l', 'e', 'm', 'e', 'n', 't', 'a', 'r', ' ', '0', '\\n', 'E', 'n', 't', 'i', 'd', 'a', 'd', 'e', ' ', 'f', 'e', 'c', 'h', 'a', 'd', 'a', ' ', 'd', 'e', ' ', 'p', 'r', 'e', 'v', 'i', 'd', 'ê', 'n', 'c', 'i', 'a', ' ', 'c', 'o', 'm', 'p', 'l', 'e', 'm', 'e', 'n', 't', 'a', 'r', ' ', '0', '\\n', 'R', 'e', 'g', 'i', 'm', 'e', ' ', 'p', 'r', 'ó', 'p', 'r', 'i', 'o', ' ', 'd', 'e', ' ', 'p', 'r', 'e', 'v', 'i', 'd', 'ê', 'n', 'c', 'i', 'a', ' ', 'd', 'o', 's', ' ', 's', 'e', 'r', 'v', 'i', 'd', 'o', 'r', 'e', 's', ' ', 'p', 'ú', 'b', 'l', 'i', 'c', 'o', 's', ' ', '0', '\\n', 'S', 'o', 'c', 'i', 'e', 'd', 'a', 'd', 'e', ' ', 's', 'e', 'g', 'u', 'r', 'a', 'd', 'o', 'r', 'a', ' ', 'o', 'u', ' ', 'r', 'e', 's', 's', 'e', 'g', 'u', 'r', 'a', 'd', 'o', 'r', 'a', ' ', '0', '\\n', 'S', 'o', 'c', 'i', 'e', 'd', 'a', 'd', 'e', ' ', 'd', 'e', ' ', 'c', 'a', 'p', 'i', 't', 'a', 'l', 'i', 'z', 'a', 'ç', 'ã', 'o', ' ', 'e', ' ', 'd', 'e', ' ', 'a', 'r', 'r', 'e', 'n', 'd', 'a', 'm', 'e', 'n', 't', 'o', ' ', 'm', 'e', 'r', 'c', 'a', 'n', 't', 'i', 'l', ' ', '0', '\\n', 'F', 'u', 'n', 'd', 'o', 's', ' ', 'd', 'e', ' ', 'i', 'n', 'v', 'e', 's', 't', 'i', 'm', 'e', 'n', 't', 'o', ' ', 'i', 'm', 'o', 'b', 'i', 'l', 'i', 'á', 'r', 'i', 'o', ' ', '0', '\\n', 'O', 'u', 't', 'r', 'o', 's', ' ', 'f', 'u', 'n', 'd', 'o', 's', ' ', 'd', 'e', ' ', 'i', 'n', 'v', 'e', 's', 't', 'i', 'm', 'e', 'n', 't', 'o', ' ', '0', '\\n', 'C', 'o', 't', 'i', 's', 't', 'a', 's', ' ', 'd', 'e', ' ', 'd', 'i', 's', 't', 'r', 'i', 'b', 'u', 'i', 'd', 'o', 'r', 'e', 's', ' ', 'd', 'o', ' ', 'f', 'u', 'n', 'd', 'o', ' ', '(', 'd', 'i', 's', 't', 'r', 'i', 'b', 'u', 'i', 'ç', 'ã', 'o', ' ', 'p', 'o', 'r', ' ', 'c', 'o', 'n', 't', 'a', ' ', 'e', ' ', 'o', 'r', 'd', 'e', 'm', ')', ' ', '0', '\\n', 'O', 'u', 't', 'r', 'o', 's', ' ', 't', 'i', 'p', 'o', 's', ' ', 'd', 'e', ' ', 'c', 'o', 't', 'i', 's', 't', 'a', 's', ' ', 'n', 'ã', 'o', ' ', 'r', 'e', 'l', 'a', 'c', 'i', 'o', 'n', 'a', 'd', 'o', 's', ' ', '0', '\\n', '1', ' ', 't', 'i', 'v', 'o', ' ', '–', ' ', 'R', '$', ' ', '1', '4', '6', '.', '8', '5', '1', '.', '5', '2', '2', ',', '0', '2', '\\n', '2', ' ', 'P', 'a', 't', 'r', 'i', 'm', 'ô', 'n', 'i', 'o', ' ', 'L', 'í', 'q', 'u', 'i', 'd', 'o', ' ', '–', ' ', 'R', '$', ' ', '1', '4', '6', '.', '6', '2', '9', '.', '8', '1', '3', ',', '7', '8', '\\n', '3', ' ', 'N', 'ú', 'm', 'e', 'r', ' ', 'o', ' ', 'd', 'e', ' ', 'C', 'o', 't', 'a', 's', ' ', 'E', 'm', 'i', 't', 'i', 'd', 'a', 's', ' ', '1', '4', '7', '.', '7', '0', '0', ',', '9', '9', '7', '1', '\\n', '4', ' ', 'V', 'a', 'l', 'o', 'r', ' ', 'P', 'a', 't', 'r', 'i', 'm', 'o', 'n', 'i', 'a', 'l', ' ', 'd', 'a', 's', ' ', 'C', 'o', 't', 'a', 's', ' ', '–', ' ', 'R', '$', ' ', '9', '9', '2', ',', '7', '4', '7', '6', '2', '3', '\\n', '5', ' ', 'D', 'e', 's', 'p', 'e', 's', 'a', 's', ' ', 'c', 'o', 'm', ' ', 'a', ' ', 't', 'a', 'x', 'a', ' ', 'd', 'e', ' ', 'a', 'd', 'm', 'i', 'n', 'i', 's', 't', 'r', 'a', 'ç', 'ã', 'o', ' ', 'e', 'm', ' ', 'r', ' ', 'e', 'l', 'a', 'ç', 'ã', 'o', ' ', 'a', 'o', ' ', 'p', 'a', 't', 'r', 'i', 'm', 'ô', 'n', 'i', 'o', ' ', 'l', 'í', 'q', 'u', 'i', 'd', 'o', ' ', 'd', 'o', ' ', 'm', 'ê', 's', ' ', '(', '%', ')', ' ', '0', ',', '1', '2', '4', '6', '%', '\\n', '6', ' ', 'D', 'e', 's', 'p', 'e', 's', 'a', 's', ' ', 'c', 'o', 'm', ' ', 'o', ' ', 'a', 'g', 'e', 'n', 't', 'e', ' ', 'c', 'u', 's', 't', 'o', 'd', 'i', 'a', 'n', 't', 'e', ' ', 'e', 'm', ' ', 'r', ' ', 'e', 'l', 'a', 'ç', 'ã', 'o', ' ', 'a', 'o', ' ', 'p', 'a', 't', 'r', 'i', 'm', 'ô', 'n', 'i', 'o', ' ', 'l', 'í', 'q', 'u', 'i', 'd', 'o', ' ', 'd', 'o', ' ', 'm', 'ê', 's', ' ', '(', '%', ')', ' ', '0', ',', '0', '0', '6', '9', '%', '\\n', '7', ' ', 'R', 'e', 'n', 't', 'a', 'b', 'i', 'l', 'i', 'd', 'a', 'd', 'e', ' ', 'E', 'f', 'e', 't', 'i', 'v', 'a', ' ', 'M', 'e', 'n', 's', 'a', 'l', ' ', '(', '%', ')', ' ', '2', ',', '2', '4', '1', '9', '%', '\\n', '7', '.', '1', ' ', 'R', 'e', 'n', 't', 'a', 'b', 'i', 'l', 'i', 'd', 'a', 'd', 'e', ' ', 'P', 'a', 't', 'r', 'i', 'm', 'o', 'n', 'i', 'a', 'l', ' ', 'd', 'o', ' ', 'M', 'ê', 's', ' ', 'd', 'e', ' ', 'R', 'e', 'f', 'e', 'r', 'ê', 'n', 'c', 'i', 'a', '²', ' ', '(', '%', ')', ' ', '2', ',', '2', '4', '1', '9', '%', '\\n', '7', '.', '2', ' ', 'D', 'i', 'v', 'i', 'd', 'e', 'n', 'd', ' ', 'Y', ' ', 'i', 'e', 'l', 'd', ' ', 'd', 'o', ' ', 'M', 'ê', 's', ' ', 'd', 'e', ' ', 'R', 'e', 'f', 'e', 'r', 'ê', 'n', 'c', 'i', 'a', '³', ' ', '(', '%', ')', ' ', '0', ',', '0', '0', '0', '0', '%', '\\n', '8', ' ', 'm', 'o', 'r', 't', 'i', 'z', 'a', 'ç', 'õ', 'e', 's', ' ', 'd', 'e', ' ', 'c', 'o', 't', 'a', 's', ' ', 'd', 'o', ' ', 'M', 'ê', 's', ' ', 'd', 'e', ' ', 'R', 'e', 'f', 'e', 'r', 'ê', 'n', 'c', 'i', 'a', '⁴', ' ', '(', '%', ')', ' ', '0', ',', '0', '0', '0', '0', '%', '\\n', 'I', 'n', 'f', 'o', 'r', 'm', 'a', 'ç', 'õ', 'e', 's', ' ', 'd', 'o', ' ', 't', 'i', 'v', 'o', ' ', 'V', 'a', 'l', 'o', 'r', ' ', '(', 'R', '$', ')', '\\n', '9', ' ', 'o', 't', 'a', 'l', ' ', 'm', 'a', 'n', 't', 'i', 'd', 'o', ' ', 'p', 'a', 'r', 'a', ' ', 'a', 's', ' ', 'N', 'e', 'c', 'e', 's', 's', 'i', 'd', 'a', 'd', 'e', 's', ' ', 'd', 'e', ' ', 'L', 'i', 'q', 'u', 'i', 'd', 'e', 'z', ' ', '(', 'a', 'r', 't', '.', ' ', '4', '6', ',', ' ', '§', ' ', 'ú', 'n', 'i', 'c', 'o', ',', ' ', 'I', 'C', 'V', 'M', ' ', '4', '7', '2', '/', '0', '8', ')', ' ', '3', '.', '2', '3', '1', '.', '9', '4', '6', ',', '0', '4']\n"
          ]
        }
      ]
    },
    {
      "cell_type": "markdown",
      "source": [
        "Flags"
      ],
      "metadata": {
        "id": "O0lovUdLip95"
      }
    },
    {
      "cell_type": "code",
      "source": [
        "#ignorar case sensitive\n",
        "\n",
        "result = re.findall(r'ativo', lista, re.I)\n",
        "print(result)"
      ],
      "metadata": {
        "colab": {
          "base_uri": "https://localhost:8080/"
        },
        "id": "TbzNRZc0irdy",
        "outputId": "1cd65098-c938-402f-c018-5521c4182686"
      },
      "execution_count": null,
      "outputs": [
        {
          "output_type": "stream",
          "name": "stdout",
          "text": [
            "['Ativo', 'Ativo']\n"
          ]
        }
      ]
    },
    {
      "cell_type": "code",
      "source": [
        "#faz pesquisa multilinha\n",
        "\n",
        "result = re.search(r'CNPJ', lista, re.DOTALL)\n",
        "print(result)"
      ],
      "metadata": {
        "colab": {
          "base_uri": "https://localhost:8080/"
        },
        "id": "_vDw1lgHi2VT",
        "outputId": "2fe66cf9-cd67-420c-8cef-14e37ea7e454"
      },
      "execution_count": null,
      "outputs": [
        {
          "output_type": "stream",
          "name": "stdout",
          "text": [
            "<re.Match object; span=(218, 222), match='CNPJ'>\n"
          ]
        }
      ]
    },
    {
      "cell_type": "code",
      "source": [
        "#Para '^' '$'\n",
        "\n",
        "result = re.findall(r'^\\w{3}', lista, re.MULTILINE)\n",
        "print(result)"
      ],
      "metadata": {
        "colab": {
          "base_uri": "https://localhost:8080/"
        },
        "id": "wbGJ3ygLjMRV",
        "outputId": "0dbc3e31-b418-4c31-b6cd-7408d39bd28a"
      },
      "execution_count": null,
      "outputs": [
        {
          "output_type": "stream",
          "name": "stdout",
          "text": [
            "['htt', 'Inf', 'Nom', 'IMO', 'Dat', 'Fun', 'Cód', 'Fun', 'Cla', 'aut', 'Seg', 'Tip', 'Dat', 'Dur', 'Mer', 'neg', 'cot', 'mer', 'Nom', 'Adm', 'End', 'ITA', 'Sit', 'uni', 'Com', 'Dat', 'Núm', 'Pes', 'Pes', 'Ban', 'Cor', 'Out', 'Inv', 'Ent', 'Ent', 'Reg', 'Soc', 'Soc', 'Fun', 'Out', 'Cot', 'Out', 'Inf']\n"
          ]
        }
      ]
    },
    {
      "cell_type": "markdown",
      "source": [
        "Exercício\n",
        "\n",
        "Construir um padrão de CNPJ 32.317.313/0001-64"
      ],
      "metadata": {
        "id": "NGGp9WFHjo61"
      }
    },
    {
      "cell_type": "code",
      "source": [
        "padrao = re.compile(\"[0-9]{2}[\\.]?[0-9]{3}[\\.]?[0-9]{3}[\\/]?[0-9]{4}[-]?[0-9]{2}\")\n",
        "busca = padrao.search(page.extract_text())\n",
        "print(busca.group())"
      ],
      "metadata": {
        "colab": {
          "base_uri": "https://localhost:8080/"
        },
        "id": "Sg1UjjM2ji8g",
        "outputId": "728a62b1-a98d-4a3f-c5a9-4de2ddf0bc43"
      },
      "execution_count": null,
      "outputs": [
        {
          "output_type": "stream",
          "name": "stdout",
          "text": [
            "32.317.313/0001-64\n"
          ]
        }
      ]
    },
    {
      "cell_type": "code",
      "source": [
        "padrao = re.compile(\"[0-9]{5}[-]?[0-9]{3}\")\n",
        "busca = padrao.search(page.extract_text())\n",
        "print(busca.group())"
      ],
      "metadata": {
        "colab": {
          "base_uri": "https://localhost:8080/"
        },
        "id": "4Ilhv4o3lAf0",
        "outputId": "af1a5d33-601f-471e-fc44-f9fef6490aa5"
      },
      "execution_count": null,
      "outputs": [
        {
          "output_type": "stream",
          "name": "stdout",
          "text": [
            "04538132\n"
          ]
        }
      ]
    },
    {
      "cell_type": "code",
      "source": [],
      "metadata": {
        "id": "NoQTwiaOlnE6"
      },
      "execution_count": null,
      "outputs": []
    }
  ]
}