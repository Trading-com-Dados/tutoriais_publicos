{
  "cells": [
    {
      "cell_type": "markdown",
      "metadata": {
        "id": "view-in-github",
        "colab_type": "text"
      },
      "source": [
        "<a href=\"https://colab.research.google.com/github/Trading-com-Dados/tutoriais_publicos/blob/main/Matriz_de_Correla%C3%A7%C3%A3o.ipynb\" target=\"_parent\"><img src=\"https://colab.research.google.com/assets/colab-badge.svg\" alt=\"Open In Colab\"/></a>"
      ]
    },
    {
      "cell_type": "markdown",
      "metadata": {
        "id": "BT0F2-alNnyz"
      },
      "source": [
        "# **Matriz de Correlação**"
      ]
    },
    {
      "cell_type": "code",
      "source": [
        "!pip install yfinance"
      ],
      "metadata": {
        "id": "EbLuDm-_tDMb"
      },
      "execution_count": null,
      "outputs": []
    },
    {
      "cell_type": "code",
      "source": [
        "!pip install investpy"
      ],
      "metadata": {
        "id": "mbp9eh72vIXm"
      },
      "execution_count": null,
      "outputs": []
    },
    {
      "cell_type": "code",
      "execution_count": 20,
      "metadata": {
        "id": "5e41ky12Nny5"
      },
      "outputs": [],
      "source": [
        "import yfinance as yf\n",
        "import pandas as pd\n",
        "import investpy"
      ]
    },
    {
      "cell_type": "markdown",
      "source": [
        "Extração dos dados"
      ],
      "metadata": {
        "id": "uurY6uOKtAtX"
      }
    },
    {
      "cell_type": "code",
      "execution_count": 5,
      "metadata": {
        "id": "teAeIkHLNnzH"
      },
      "outputs": [],
      "source": [
        "ativos = ['PETR4.SA', 'WEGE3.SA', 'MGLU3.SA', 'LREN3.SA', 'VALE3.SA', \n",
        "          'BPAC11.SA','OIBR3.SA', 'KNRI11.SA', 'ONEF11.SA', 'HCTR11.SA', \n",
        "          'HGLG11.SA','HGBS11.SA', 'SMAL11.SA', 'IVVB11.SA', 'AAPL34.SA']"
      ]
    },
    {
      "cell_type": "code",
      "execution_count": 6,
      "metadata": {
        "id": "4jDEbNF8NnzI",
        "outputId": "a4ad3c8f-08c3-469d-ee31-b6e2b493eae6",
        "colab": {
          "base_uri": "https://localhost:8080/"
        }
      },
      "outputs": [
        {
          "output_type": "stream",
          "name": "stdout",
          "text": [
            "[*********************100%***********************]  15 of 15 completed\n"
          ]
        }
      ],
      "source": [
        "data = yf.download(ativos, start=\"2019-01-01\", end=\"2022-05-15\")['Adj Close']"
      ]
    },
    {
      "cell_type": "code",
      "execution_count": 7,
      "metadata": {
        "id": "8s0NYUS3NnzI",
        "outputId": "2f4424f9-d017-4e02-9a1d-d0ec8c3e11c3",
        "colab": {
          "base_uri": "https://localhost:8080/",
          "height": 237
        }
      },
      "outputs": [
        {
          "output_type": "execute_result",
          "data": {
            "text/plain": [
              "            AAPL34.SA  BPAC11.SA  HCTR11.SA   HGBS11.SA   HGLG11.SA  \\\n",
              "Date                                                                  \n",
              "2019-01-02  14.617930   5.773697        NaN  234.296234  139.018631   \n",
              "2019-01-03  13.018453   6.012528        NaN  234.592331  139.067978   \n",
              "2019-01-04  13.226552   6.225854        NaN  234.375198  138.377304   \n",
              "2019-01-07  13.199934   6.353385        NaN  235.381866  139.610626   \n",
              "2019-01-08  13.596780   6.235073        NaN  236.862259  140.103943   \n",
              "\n",
              "            IVVB11.SA   KNRI11.SA   LREN3.SA  MGLU3.SA  OIBR3.SA   ONEF11.SA  \\\n",
              "Date                                                                           \n",
              "2019-01-02      74.25  146.885452  37.106571  5.641578      1.26  148.133942   \n",
              "2019-01-03      74.25  148.476120  36.637947  5.581216      1.41  148.133942   \n",
              "2019-01-04      74.25  148.594681  35.232075  5.411353      1.41  147.955002   \n",
              "2019-01-07      74.25  147.675858  34.422630  5.495374      1.42  143.163010   \n",
              "2019-01-08      74.25  147.893204  35.530285  5.451089      1.38  139.196198   \n",
              "\n",
              "             PETR4.SA  SMAL11.SA   VALE3.SA  WEGE3.SA  \n",
              "Date                                                   \n",
              "2019-01-02  15.523999  89.000000  39.107300  8.611477  \n",
              "2019-01-03  15.904680  89.000000  37.507492  8.807847  \n",
              "2019-01-04  15.949844  90.500000  39.949306  8.908427  \n",
              "2019-01-07  16.201481  88.199997  39.734982  8.769531  \n",
              "2019-01-08  16.104700  88.830002  40.117710  8.697689  "
            ],
            "text/html": [
              "\n",
              "  <div id=\"df-ecc87bde-9758-4dbd-94b4-2fb32f7404c7\">\n",
              "    <div class=\"colab-df-container\">\n",
              "      <div>\n",
              "<style scoped>\n",
              "    .dataframe tbody tr th:only-of-type {\n",
              "        vertical-align: middle;\n",
              "    }\n",
              "\n",
              "    .dataframe tbody tr th {\n",
              "        vertical-align: top;\n",
              "    }\n",
              "\n",
              "    .dataframe thead th {\n",
              "        text-align: right;\n",
              "    }\n",
              "</style>\n",
              "<table border=\"1\" class=\"dataframe\">\n",
              "  <thead>\n",
              "    <tr style=\"text-align: right;\">\n",
              "      <th></th>\n",
              "      <th>AAPL34.SA</th>\n",
              "      <th>BPAC11.SA</th>\n",
              "      <th>HCTR11.SA</th>\n",
              "      <th>HGBS11.SA</th>\n",
              "      <th>HGLG11.SA</th>\n",
              "      <th>IVVB11.SA</th>\n",
              "      <th>KNRI11.SA</th>\n",
              "      <th>LREN3.SA</th>\n",
              "      <th>MGLU3.SA</th>\n",
              "      <th>OIBR3.SA</th>\n",
              "      <th>ONEF11.SA</th>\n",
              "      <th>PETR4.SA</th>\n",
              "      <th>SMAL11.SA</th>\n",
              "      <th>VALE3.SA</th>\n",
              "      <th>WEGE3.SA</th>\n",
              "    </tr>\n",
              "    <tr>\n",
              "      <th>Date</th>\n",
              "      <th></th>\n",
              "      <th></th>\n",
              "      <th></th>\n",
              "      <th></th>\n",
              "      <th></th>\n",
              "      <th></th>\n",
              "      <th></th>\n",
              "      <th></th>\n",
              "      <th></th>\n",
              "      <th></th>\n",
              "      <th></th>\n",
              "      <th></th>\n",
              "      <th></th>\n",
              "      <th></th>\n",
              "      <th></th>\n",
              "    </tr>\n",
              "  </thead>\n",
              "  <tbody>\n",
              "    <tr>\n",
              "      <th>2019-01-02</th>\n",
              "      <td>14.617930</td>\n",
              "      <td>5.773697</td>\n",
              "      <td>NaN</td>\n",
              "      <td>234.296234</td>\n",
              "      <td>139.018631</td>\n",
              "      <td>74.25</td>\n",
              "      <td>146.885452</td>\n",
              "      <td>37.106571</td>\n",
              "      <td>5.641578</td>\n",
              "      <td>1.26</td>\n",
              "      <td>148.133942</td>\n",
              "      <td>15.523999</td>\n",
              "      <td>89.000000</td>\n",
              "      <td>39.107300</td>\n",
              "      <td>8.611477</td>\n",
              "    </tr>\n",
              "    <tr>\n",
              "      <th>2019-01-03</th>\n",
              "      <td>13.018453</td>\n",
              "      <td>6.012528</td>\n",
              "      <td>NaN</td>\n",
              "      <td>234.592331</td>\n",
              "      <td>139.067978</td>\n",
              "      <td>74.25</td>\n",
              "      <td>148.476120</td>\n",
              "      <td>36.637947</td>\n",
              "      <td>5.581216</td>\n",
              "      <td>1.41</td>\n",
              "      <td>148.133942</td>\n",
              "      <td>15.904680</td>\n",
              "      <td>89.000000</td>\n",
              "      <td>37.507492</td>\n",
              "      <td>8.807847</td>\n",
              "    </tr>\n",
              "    <tr>\n",
              "      <th>2019-01-04</th>\n",
              "      <td>13.226552</td>\n",
              "      <td>6.225854</td>\n",
              "      <td>NaN</td>\n",
              "      <td>234.375198</td>\n",
              "      <td>138.377304</td>\n",
              "      <td>74.25</td>\n",
              "      <td>148.594681</td>\n",
              "      <td>35.232075</td>\n",
              "      <td>5.411353</td>\n",
              "      <td>1.41</td>\n",
              "      <td>147.955002</td>\n",
              "      <td>15.949844</td>\n",
              "      <td>90.500000</td>\n",
              "      <td>39.949306</td>\n",
              "      <td>8.908427</td>\n",
              "    </tr>\n",
              "    <tr>\n",
              "      <th>2019-01-07</th>\n",
              "      <td>13.199934</td>\n",
              "      <td>6.353385</td>\n",
              "      <td>NaN</td>\n",
              "      <td>235.381866</td>\n",
              "      <td>139.610626</td>\n",
              "      <td>74.25</td>\n",
              "      <td>147.675858</td>\n",
              "      <td>34.422630</td>\n",
              "      <td>5.495374</td>\n",
              "      <td>1.42</td>\n",
              "      <td>143.163010</td>\n",
              "      <td>16.201481</td>\n",
              "      <td>88.199997</td>\n",
              "      <td>39.734982</td>\n",
              "      <td>8.769531</td>\n",
              "    </tr>\n",
              "    <tr>\n",
              "      <th>2019-01-08</th>\n",
              "      <td>13.596780</td>\n",
              "      <td>6.235073</td>\n",
              "      <td>NaN</td>\n",
              "      <td>236.862259</td>\n",
              "      <td>140.103943</td>\n",
              "      <td>74.25</td>\n",
              "      <td>147.893204</td>\n",
              "      <td>35.530285</td>\n",
              "      <td>5.451089</td>\n",
              "      <td>1.38</td>\n",
              "      <td>139.196198</td>\n",
              "      <td>16.104700</td>\n",
              "      <td>88.830002</td>\n",
              "      <td>40.117710</td>\n",
              "      <td>8.697689</td>\n",
              "    </tr>\n",
              "  </tbody>\n",
              "</table>\n",
              "</div>\n",
              "      <button class=\"colab-df-convert\" onclick=\"convertToInteractive('df-ecc87bde-9758-4dbd-94b4-2fb32f7404c7')\"\n",
              "              title=\"Convert this dataframe to an interactive table.\"\n",
              "              style=\"display:none;\">\n",
              "        \n",
              "  <svg xmlns=\"http://www.w3.org/2000/svg\" height=\"24px\"viewBox=\"0 0 24 24\"\n",
              "       width=\"24px\">\n",
              "    <path d=\"M0 0h24v24H0V0z\" fill=\"none\"/>\n",
              "    <path d=\"M18.56 5.44l.94 2.06.94-2.06 2.06-.94-2.06-.94-.94-2.06-.94 2.06-2.06.94zm-11 1L8.5 8.5l.94-2.06 2.06-.94-2.06-.94L8.5 2.5l-.94 2.06-2.06.94zm10 10l.94 2.06.94-2.06 2.06-.94-2.06-.94-.94-2.06-.94 2.06-2.06.94z\"/><path d=\"M17.41 7.96l-1.37-1.37c-.4-.4-.92-.59-1.43-.59-.52 0-1.04.2-1.43.59L10.3 9.45l-7.72 7.72c-.78.78-.78 2.05 0 2.83L4 21.41c.39.39.9.59 1.41.59.51 0 1.02-.2 1.41-.59l7.78-7.78 2.81-2.81c.8-.78.8-2.07 0-2.86zM5.41 20L4 18.59l7.72-7.72 1.47 1.35L5.41 20z\"/>\n",
              "  </svg>\n",
              "      </button>\n",
              "      \n",
              "  <style>\n",
              "    .colab-df-container {\n",
              "      display:flex;\n",
              "      flex-wrap:wrap;\n",
              "      gap: 12px;\n",
              "    }\n",
              "\n",
              "    .colab-df-convert {\n",
              "      background-color: #E8F0FE;\n",
              "      border: none;\n",
              "      border-radius: 50%;\n",
              "      cursor: pointer;\n",
              "      display: none;\n",
              "      fill: #1967D2;\n",
              "      height: 32px;\n",
              "      padding: 0 0 0 0;\n",
              "      width: 32px;\n",
              "    }\n",
              "\n",
              "    .colab-df-convert:hover {\n",
              "      background-color: #E2EBFA;\n",
              "      box-shadow: 0px 1px 2px rgba(60, 64, 67, 0.3), 0px 1px 3px 1px rgba(60, 64, 67, 0.15);\n",
              "      fill: #174EA6;\n",
              "    }\n",
              "\n",
              "    [theme=dark] .colab-df-convert {\n",
              "      background-color: #3B4455;\n",
              "      fill: #D2E3FC;\n",
              "    }\n",
              "\n",
              "    [theme=dark] .colab-df-convert:hover {\n",
              "      background-color: #434B5C;\n",
              "      box-shadow: 0px 1px 3px 1px rgba(0, 0, 0, 0.15);\n",
              "      filter: drop-shadow(0px 1px 2px rgba(0, 0, 0, 0.3));\n",
              "      fill: #FFFFFF;\n",
              "    }\n",
              "  </style>\n",
              "\n",
              "      <script>\n",
              "        const buttonEl =\n",
              "          document.querySelector('#df-ecc87bde-9758-4dbd-94b4-2fb32f7404c7 button.colab-df-convert');\n",
              "        buttonEl.style.display =\n",
              "          google.colab.kernel.accessAllowed ? 'block' : 'none';\n",
              "\n",
              "        async function convertToInteractive(key) {\n",
              "          const element = document.querySelector('#df-ecc87bde-9758-4dbd-94b4-2fb32f7404c7');\n",
              "          const dataTable =\n",
              "            await google.colab.kernel.invokeFunction('convertToInteractive',\n",
              "                                                     [key], {});\n",
              "          if (!dataTable) return;\n",
              "\n",
              "          const docLinkHtml = 'Like what you see? Visit the ' +\n",
              "            '<a target=\"_blank\" href=https://colab.research.google.com/notebooks/data_table.ipynb>data table notebook</a>'\n",
              "            + ' to learn more about interactive tables.';\n",
              "          element.innerHTML = '';\n",
              "          dataTable['output_type'] = 'display_data';\n",
              "          await google.colab.output.renderOutput(dataTable, element);\n",
              "          const docLink = document.createElement('div');\n",
              "          docLink.innerHTML = docLinkHtml;\n",
              "          element.appendChild(docLink);\n",
              "        }\n",
              "      </script>\n",
              "    </div>\n",
              "  </div>\n",
              "  "
            ]
          },
          "metadata": {},
          "execution_count": 7
        }
      ],
      "source": [
        "data.head()"
      ]
    },
    {
      "cell_type": "markdown",
      "metadata": {
        "id": "d2TsnxUUNnzM"
      },
      "source": [
        "## Importando dados de índices, commodities e criptomoedas"
      ]
    },
    {
      "cell_type": "markdown",
      "metadata": {
        "id": "FjJuJydSNnzN"
      },
      "source": [
        "### Índices"
      ]
    },
    {
      "cell_type": "code",
      "execution_count": 21,
      "metadata": {
        "id": "PGFmOnRtNnzN"
      },
      "outputs": [],
      "source": [
        "import investpy"
      ]
    },
    {
      "cell_type": "code",
      "execution_count": 22,
      "metadata": {
        "id": "n35GCRtHNnzN",
        "colab": {
          "base_uri": "https://localhost:8080/"
        },
        "outputId": "f99ff3e4-6de1-46f0-ee89-0de5d4209141"
      },
      "outputs": [
        {
          "output_type": "stream",
          "name": "stdout",
          "text": [
            "{\"id_\": 17920, \"name\": \"Bovespa\", \"symbol\": \"BVSP\", \"country\": \"brazil\", \"tag\": \"/indices/bovespa\", \"pair_type\": \"indices\", \"exchange\": \"BM&FBovespa\"}\n"
          ]
        }
      ],
      "source": [
        "# Para o IBOV\n",
        "\n",
        "search_results = investpy.search_quotes(text = 'bvsp', products = ['indices'],\n",
        "                      countries = ['brazil'], n_results = 10)\n",
        "\n",
        "for search_result in search_results[:1]:\n",
        "    print(search_result)\n",
        "\n",
        "ibov = search_result.retrieve_historical_data(from_date = '01/01/2017', to_date = '15/05/2022')"
      ]
    },
    {
      "cell_type": "code",
      "source": [
        "# Para o S&P 500\n",
        "\n",
        "search_results = investpy.search_quotes(text = 'spx', products = ['indices'],\n",
        "                      countries = ['united states'], n_results = 10)\n",
        "\n",
        "for search_result in search_results[:1]:\n",
        "    print(search_result)\n",
        "\n",
        "sp500 = search_result.retrieve_historical_data(from_date = '01/01/2017', to_date = '15/05/2022')"
      ],
      "metadata": {
        "colab": {
          "base_uri": "https://localhost:8080/"
        },
        "id": "3idIhjf2SYHT",
        "outputId": "24df2f95-452f-42d8-c806-27ca7aa994cf"
      },
      "execution_count": 23,
      "outputs": [
        {
          "output_type": "stream",
          "name": "stdout",
          "text": [
            "{\"id_\": 166, \"name\": \"S&P 500\", \"symbol\": \"US500\", \"country\": \"united states\", \"tag\": \"/indices/us-spx-500\", \"pair_type\": \"indices\", \"exchange\": \"NYSE\"}\n"
          ]
        }
      ]
    },
    {
      "cell_type": "code",
      "execution_count": 24,
      "metadata": {
        "id": "l6JV3PLJNnzO"
      },
      "outputs": [],
      "source": [
        "ibov.rename(columns = {'Close': 'IBOV'}, inplace = True)\n",
        "\n",
        "sp500.rename(columns = {'Close': 'S&P500'}, inplace = True)\n",
        "\n",
        "indices = pd.merge(ibov, sp500, how = 'inner', on = 'Date')\n",
        "\n",
        "indices = indices[['IBOV', 'S&P500']]"
      ]
    },
    {
      "cell_type": "code",
      "source": [
        "indices.head()"
      ],
      "metadata": {
        "colab": {
          "base_uri": "https://localhost:8080/",
          "height": 237
        },
        "id": "DzpTrD8sckkv",
        "outputId": "8c67ec15-0c2f-4884-f3a1-040ba6e291dc"
      },
      "execution_count": 25,
      "outputs": [
        {
          "output_type": "execute_result",
          "data": {
            "text/plain": [
              "               IBOV   S&P500\n",
              "Date                        \n",
              "2017-01-03  61814.0  2257.83\n",
              "2017-01-04  61589.0  2270.75\n",
              "2017-01-05  62071.0  2269.00\n",
              "2017-01-06  61665.0  2276.98\n",
              "2017-01-09  61700.0  2268.90"
            ],
            "text/html": [
              "\n",
              "  <div id=\"df-58f1f8b7-6e04-4e5d-937c-0dd60ecb989b\">\n",
              "    <div class=\"colab-df-container\">\n",
              "      <div>\n",
              "<style scoped>\n",
              "    .dataframe tbody tr th:only-of-type {\n",
              "        vertical-align: middle;\n",
              "    }\n",
              "\n",
              "    .dataframe tbody tr th {\n",
              "        vertical-align: top;\n",
              "    }\n",
              "\n",
              "    .dataframe thead th {\n",
              "        text-align: right;\n",
              "    }\n",
              "</style>\n",
              "<table border=\"1\" class=\"dataframe\">\n",
              "  <thead>\n",
              "    <tr style=\"text-align: right;\">\n",
              "      <th></th>\n",
              "      <th>IBOV</th>\n",
              "      <th>S&amp;P500</th>\n",
              "    </tr>\n",
              "    <tr>\n",
              "      <th>Date</th>\n",
              "      <th></th>\n",
              "      <th></th>\n",
              "    </tr>\n",
              "  </thead>\n",
              "  <tbody>\n",
              "    <tr>\n",
              "      <th>2017-01-03</th>\n",
              "      <td>61814.0</td>\n",
              "      <td>2257.83</td>\n",
              "    </tr>\n",
              "    <tr>\n",
              "      <th>2017-01-04</th>\n",
              "      <td>61589.0</td>\n",
              "      <td>2270.75</td>\n",
              "    </tr>\n",
              "    <tr>\n",
              "      <th>2017-01-05</th>\n",
              "      <td>62071.0</td>\n",
              "      <td>2269.00</td>\n",
              "    </tr>\n",
              "    <tr>\n",
              "      <th>2017-01-06</th>\n",
              "      <td>61665.0</td>\n",
              "      <td>2276.98</td>\n",
              "    </tr>\n",
              "    <tr>\n",
              "      <th>2017-01-09</th>\n",
              "      <td>61700.0</td>\n",
              "      <td>2268.90</td>\n",
              "    </tr>\n",
              "  </tbody>\n",
              "</table>\n",
              "</div>\n",
              "      <button class=\"colab-df-convert\" onclick=\"convertToInteractive('df-58f1f8b7-6e04-4e5d-937c-0dd60ecb989b')\"\n",
              "              title=\"Convert this dataframe to an interactive table.\"\n",
              "              style=\"display:none;\">\n",
              "        \n",
              "  <svg xmlns=\"http://www.w3.org/2000/svg\" height=\"24px\"viewBox=\"0 0 24 24\"\n",
              "       width=\"24px\">\n",
              "    <path d=\"M0 0h24v24H0V0z\" fill=\"none\"/>\n",
              "    <path d=\"M18.56 5.44l.94 2.06.94-2.06 2.06-.94-2.06-.94-.94-2.06-.94 2.06-2.06.94zm-11 1L8.5 8.5l.94-2.06 2.06-.94-2.06-.94L8.5 2.5l-.94 2.06-2.06.94zm10 10l.94 2.06.94-2.06 2.06-.94-2.06-.94-.94-2.06-.94 2.06-2.06.94z\"/><path d=\"M17.41 7.96l-1.37-1.37c-.4-.4-.92-.59-1.43-.59-.52 0-1.04.2-1.43.59L10.3 9.45l-7.72 7.72c-.78.78-.78 2.05 0 2.83L4 21.41c.39.39.9.59 1.41.59.51 0 1.02-.2 1.41-.59l7.78-7.78 2.81-2.81c.8-.78.8-2.07 0-2.86zM5.41 20L4 18.59l7.72-7.72 1.47 1.35L5.41 20z\"/>\n",
              "  </svg>\n",
              "      </button>\n",
              "      \n",
              "  <style>\n",
              "    .colab-df-container {\n",
              "      display:flex;\n",
              "      flex-wrap:wrap;\n",
              "      gap: 12px;\n",
              "    }\n",
              "\n",
              "    .colab-df-convert {\n",
              "      background-color: #E8F0FE;\n",
              "      border: none;\n",
              "      border-radius: 50%;\n",
              "      cursor: pointer;\n",
              "      display: none;\n",
              "      fill: #1967D2;\n",
              "      height: 32px;\n",
              "      padding: 0 0 0 0;\n",
              "      width: 32px;\n",
              "    }\n",
              "\n",
              "    .colab-df-convert:hover {\n",
              "      background-color: #E2EBFA;\n",
              "      box-shadow: 0px 1px 2px rgba(60, 64, 67, 0.3), 0px 1px 3px 1px rgba(60, 64, 67, 0.15);\n",
              "      fill: #174EA6;\n",
              "    }\n",
              "\n",
              "    [theme=dark] .colab-df-convert {\n",
              "      background-color: #3B4455;\n",
              "      fill: #D2E3FC;\n",
              "    }\n",
              "\n",
              "    [theme=dark] .colab-df-convert:hover {\n",
              "      background-color: #434B5C;\n",
              "      box-shadow: 0px 1px 3px 1px rgba(0, 0, 0, 0.15);\n",
              "      filter: drop-shadow(0px 1px 2px rgba(0, 0, 0, 0.3));\n",
              "      fill: #FFFFFF;\n",
              "    }\n",
              "  </style>\n",
              "\n",
              "      <script>\n",
              "        const buttonEl =\n",
              "          document.querySelector('#df-58f1f8b7-6e04-4e5d-937c-0dd60ecb989b button.colab-df-convert');\n",
              "        buttonEl.style.display =\n",
              "          google.colab.kernel.accessAllowed ? 'block' : 'none';\n",
              "\n",
              "        async function convertToInteractive(key) {\n",
              "          const element = document.querySelector('#df-58f1f8b7-6e04-4e5d-937c-0dd60ecb989b');\n",
              "          const dataTable =\n",
              "            await google.colab.kernel.invokeFunction('convertToInteractive',\n",
              "                                                     [key], {});\n",
              "          if (!dataTable) return;\n",
              "\n",
              "          const docLinkHtml = 'Like what you see? Visit the ' +\n",
              "            '<a target=\"_blank\" href=https://colab.research.google.com/notebooks/data_table.ipynb>data table notebook</a>'\n",
              "            + ' to learn more about interactive tables.';\n",
              "          element.innerHTML = '';\n",
              "          dataTable['output_type'] = 'display_data';\n",
              "          await google.colab.output.renderOutput(dataTable, element);\n",
              "          const docLink = document.createElement('div');\n",
              "          docLink.innerHTML = docLinkHtml;\n",
              "          element.appendChild(docLink);\n",
              "        }\n",
              "      </script>\n",
              "    </div>\n",
              "  </div>\n",
              "  "
            ]
          },
          "metadata": {},
          "execution_count": 25
        }
      ]
    },
    {
      "cell_type": "code",
      "execution_count": 25,
      "metadata": {
        "id": "UULmyElTNnzP"
      },
      "outputs": [],
      "source": [
        ""
      ]
    },
    {
      "cell_type": "code",
      "execution_count": 25,
      "metadata": {
        "id": "D1myE60KNnzP"
      },
      "outputs": [],
      "source": [
        ""
      ]
    },
    {
      "cell_type": "markdown",
      "metadata": {
        "id": "cYD-KjxyNnzP"
      },
      "source": [
        "### Commodities"
      ]
    },
    {
      "cell_type": "code",
      "execution_count": 26,
      "metadata": {
        "id": "fuaJMC7gNnzP",
        "outputId": "495f53f0-2db8-4ab7-a04d-278971a692c9",
        "colab": {
          "base_uri": "https://localhost:8080/"
        }
      },
      "outputs": [
        {
          "output_type": "stream",
          "name": "stdout",
          "text": [
            "{\"id_\": 964526, \"name\": \"Arabica Coffee 4/5 Futures\", \"symbol\": \"ICFc1\", \"country\": null, \"tag\": \"/commodities/arabica-coffee-4-5\", \"pair_type\": \"commodities\", \"exchange\": \"BM&FBovespa\"}\n"
          ]
        }
      ],
      "source": [
        "# Café\n",
        "search_results = investpy.search_quotes(text = 'coffe', products = ['commodities'],\n",
        "                      countries = ['brazil'], n_results = 10)\n",
        "\n",
        "for search_result in search_results[:1]:\n",
        "    print(search_result)\n",
        "\n",
        "cafe = search_result.retrieve_historical_data(from_date = '01/01/2017', to_date = '15/05/2022')"
      ]
    },
    {
      "cell_type": "code",
      "execution_count": 27,
      "metadata": {
        "id": "07G63f16NnzQ",
        "outputId": "26498ecc-e7c6-4b99-84cc-e4919d9993ef",
        "colab": {
          "base_uri": "https://localhost:8080/",
          "height": 286
        }
      },
      "outputs": [
        {
          "output_type": "execute_result",
          "data": {
            "text/plain": [
              "<matplotlib.axes._subplots.AxesSubplot at 0x7fa27f8b5610>"
            ]
          },
          "metadata": {},
          "execution_count": 27
        },
        {
          "output_type": "display_data",
          "data": {
            "text/plain": [
              "<Figure size 432x288 with 1 Axes>"
            ],
            "image/png": "[encoded data removed]"
          },
          "metadata": {
            "needs_background": "light"
          }
        }
      ],
      "source": [
        "cafe.Close.plot()"
      ]
    },
    {
      "cell_type": "code",
      "execution_count": 28,
      "metadata": {
        "id": "GZKaCPZANnzQ"
      },
      "outputs": [],
      "source": [
        "cafe.rename(columns = {'Close': 'cafe'}, inplace = True)"
      ]
    },
    {
      "cell_type": "code",
      "execution_count": 29,
      "metadata": {
        "id": "-bCX6SGnNnzR",
        "outputId": "dc6ef472-530f-48b5-ea8e-29ca4a6b9d16",
        "colab": {
          "base_uri": "https://localhost:8080/"
        }
      },
      "outputs": [
        {
          "output_type": "stream",
          "name": "stdout",
          "text": [
            "{\"id_\": 964523, \"name\": \"US Soybeans Futures\", \"symbol\": \"SJCc1\", \"country\": null, \"tag\": \"/commodities/us-soybeans?cid=964523\", \"pair_type\": \"commodities\", \"exchange\": \"BM&FBovespa\"}\n"
          ]
        }
      ],
      "source": [
        "# Soja\n",
        "search_results = investpy.search_quotes(text = 'soy', products = ['commodities'],\n",
        "                      countries = ['brazil'], n_results = 10)\n",
        "\n",
        "for search_result in search_results[:1]:\n",
        "    print(search_result)"
      ]
    },
    {
      "cell_type": "code",
      "execution_count": 30,
      "metadata": {
        "id": "RLUhsAsdNnzR"
      },
      "outputs": [],
      "source": [
        "soja = search_result.retrieve_historical_data(from_date = '01/01/2017', to_date = '15/05/2022')"
      ]
    },
    {
      "cell_type": "code",
      "execution_count": 31,
      "metadata": {
        "id": "pBPAFkCqNnzR",
        "outputId": "be14922d-c26e-420b-92aa-07822337477b",
        "colab": {
          "base_uri": "https://localhost:8080/",
          "height": 286
        }
      },
      "outputs": [
        {
          "output_type": "execute_result",
          "data": {
            "text/plain": [
              "<matplotlib.axes._subplots.AxesSubplot at 0x7fa27f7a9850>"
            ]
          },
          "metadata": {},
          "execution_count": 31
        },
        {
          "output_type": "display_data",
          "data": {
            "text/plain": [
              "<Figure size 432x288 with 1 Axes>"
            ],
            "image/png": "[encoded data removed]"
          },
          "metadata": {
            "needs_background": "light"
          }
        }
      ],
      "source": [
        "soja.Close.plot()"
      ]
    },
    {
      "cell_type": "code",
      "execution_count": 32,
      "metadata": {
        "id": "XbVDVvybNnzR"
      },
      "outputs": [],
      "source": [
        "soja.rename(columns = {'Close': 'soja'}, inplace = True)"
      ]
    },
    {
      "cell_type": "code",
      "execution_count": 33,
      "metadata": {
        "id": "oz9ikDaANnzR",
        "outputId": "ae589e0f-07cb-4435-9e4b-ffced59c4533",
        "colab": {
          "base_uri": "https://localhost:8080/"
        }
      },
      "outputs": [
        {
          "output_type": "stream",
          "name": "stdout",
          "text": [
            "{\"id_\": 964525, \"name\": \"Ethanol Futures\", \"symbol\": \"ETHc1\", \"country\": null, \"tag\": \"/commodities/ethanol-futures?cid=964525\", \"pair_type\": \"commodities\", \"exchange\": \"BM&FBovespa\"}\n"
          ]
        }
      ],
      "source": [
        "# Etanol\n",
        "search_results = investpy.search_quotes(text = 'ethanol', products = ['commodities'],\n",
        "                      countries = ['brazil'], n_results = 10)\n",
        "\n",
        "for search_result in search_results[:1]:\n",
        "    print(search_result)"
      ]
    },
    {
      "cell_type": "code",
      "execution_count": 34,
      "metadata": {
        "id": "xHkxLlD4NnzS"
      },
      "outputs": [],
      "source": [
        "etanol = search_result.retrieve_historical_data(from_date = '01/01/2017', to_date = '15/05/2022')"
      ]
    },
    {
      "cell_type": "code",
      "execution_count": 35,
      "metadata": {
        "id": "rytCqAJsNnzS",
        "outputId": "acae065f-02c3-4d54-b565-1850ebd12071",
        "colab": {
          "base_uri": "https://localhost:8080/",
          "height": 288
        }
      },
      "outputs": [
        {
          "output_type": "execute_result",
          "data": {
            "text/plain": [
              "<matplotlib.axes._subplots.AxesSubplot at 0x7fa27f7ffad0>"
            ]
          },
          "metadata": {},
          "execution_count": 35
        },
        {
          "output_type": "display_data",
          "data": {
            "text/plain": [
              "<Figure size 432x288 with 1 Axes>"
            ],
            "image/png": "[encoded data removed]"
          },
          "metadata": {
            "needs_background": "light"
          }
        }
      ],
      "source": [
        "etanol.Close.plot()"
      ]
    },
    {
      "cell_type": "code",
      "execution_count": 36,
      "metadata": {
        "id": "SCuodZqZNnzS"
      },
      "outputs": [],
      "source": [
        "etanol.rename(columns = {'Close': 'etanol'}, inplace = True)"
      ]
    },
    {
      "cell_type": "code",
      "execution_count": 37,
      "metadata": {
        "id": "btbPwl3QNnzS"
      },
      "outputs": [],
      "source": [
        "interm = pd.merge(cafe, soja, how = 'inner', on = 'Date')\n",
        "commodities = pd.merge(interm, etanol, how = 'inner', on = 'Date')"
      ]
    },
    {
      "cell_type": "code",
      "execution_count": 38,
      "metadata": {
        "id": "a8wEQg0hNnzS",
        "outputId": "d0806097-b27a-4a1d-b5c7-3ce5d14cb259",
        "colab": {
          "base_uri": "https://localhost:8080/",
          "height": 237
        }
      },
      "outputs": [
        {
          "output_type": "execute_result",
          "data": {
            "text/plain": [
              "            Open_x  High_x   Low_x    cafe  Volume_x  Change Pct_x  Open_y  \\\n",
              "Date                                                                         \n",
              "2017-01-02  160.15  162.00  160.15  159.85         6          0.00   22.33   \n",
              "2017-01-03  163.70  165.35  160.50  163.30       576          2.16   22.05   \n",
              "2017-01-04  163.70  170.00  163.55  168.95       376          3.46   21.99   \n",
              "2017-01-05  170.90  172.95  169.00  170.90       278          1.15   22.26   \n",
              "2017-01-06  170.95  173.10  170.00  171.00       452          0.06   22.20   \n",
              "\n",
              "            High_y  Low_y   soja  Volume_y  Change Pct_y    Open    High  \\\n",
              "Date                                                                       \n",
              "2017-01-02   22.33  22.33  22.33         0          0.00  1925.0  1925.0   \n",
              "2017-01-03   22.06  21.95  21.94       130         -1.75  1920.0  1935.0   \n",
              "2017-01-04   22.33  21.99  22.38       159          2.01  1930.0  1930.0   \n",
              "2017-01-05   22.35  22.26  22.32        35         -0.27  1915.0  1925.0   \n",
              "2017-01-06   22.20  21.99  21.93       117         -1.75  1925.0  1925.0   \n",
              "\n",
              "               Low  etanol  Volume  Change Pct  \n",
              "Date                                            \n",
              "2017-01-02  1925.0  1925.0      10        6.50  \n",
              "2017-01-03  1920.0  1930.0     152        0.26  \n",
              "2017-01-04  1920.0  1925.0      90       -0.26  \n",
              "2017-01-05  1915.0  1925.0     146        0.00  \n",
              "2017-01-06  1925.0  1925.0     150        0.00  "
            ],
            "text/html": [
              "\n",
              "  <div id=\"df-c1730ea9-7c19-4125-844e-f2b87cb2a611\">\n",
              "    <div class=\"colab-df-container\">\n",
              "      <div>\n",
              "<style scoped>\n",
              "    .dataframe tbody tr th:only-of-type {\n",
              "        vertical-align: middle;\n",
              "    }\n",
              "\n",
              "    .dataframe tbody tr th {\n",
              "        vertical-align: top;\n",
              "    }\n",
              "\n",
              "    .dataframe thead th {\n",
              "        text-align: right;\n",
              "    }\n",
              "</style>\n",
              "<table border=\"1\" class=\"dataframe\">\n",
              "  <thead>\n",
              "    <tr style=\"text-align: right;\">\n",
              "      <th></th>\n",
              "      <th>Open_x</th>\n",
              "      <th>High_x</th>\n",
              "      <th>Low_x</th>\n",
              "      <th>cafe</th>\n",
              "      <th>Volume_x</th>\n",
              "      <th>Change Pct_x</th>\n",
              "      <th>Open_y</th>\n",
              "      <th>High_y</th>\n",
              "      <th>Low_y</th>\n",
              "      <th>soja</th>\n",
              "      <th>Volume_y</th>\n",
              "      <th>Change Pct_y</th>\n",
              "      <th>Open</th>\n",
              "      <th>High</th>\n",
              "      <th>Low</th>\n",
              "      <th>etanol</th>\n",
              "      <th>Volume</th>\n",
              "      <th>Change Pct</th>\n",
              "    </tr>\n",
              "    <tr>\n",
              "      <th>Date</th>\n",
              "      <th></th>\n",
              "      <th></th>\n",
              "      <th></th>\n",
              "      <th></th>\n",
              "      <th></th>\n",
              "      <th></th>\n",
              "      <th></th>\n",
              "      <th></th>\n",
              "      <th></th>\n",
              "      <th></th>\n",
              "      <th></th>\n",
              "      <th></th>\n",
              "      <th></th>\n",
              "      <th></th>\n",
              "      <th></th>\n",
              "      <th></th>\n",
              "      <th></th>\n",
              "      <th></th>\n",
              "    </tr>\n",
              "  </thead>\n",
              "  <tbody>\n",
              "    <tr>\n",
              "      <th>2017-01-02</th>\n",
              "      <td>160.15</td>\n",
              "      <td>162.00</td>\n",
              "      <td>160.15</td>\n",
              "      <td>159.85</td>\n",
              "      <td>6</td>\n",
              "      <td>0.00</td>\n",
              "      <td>22.33</td>\n",
              "      <td>22.33</td>\n",
              "      <td>22.33</td>\n",
              "      <td>22.33</td>\n",
              "      <td>0</td>\n",
              "      <td>0.00</td>\n",
              "      <td>1925.0</td>\n",
              "      <td>1925.0</td>\n",
              "      <td>1925.0</td>\n",
              "      <td>1925.0</td>\n",
              "      <td>10</td>\n",
              "      <td>6.50</td>\n",
              "    </tr>\n",
              "    <tr>\n",
              "      <th>2017-01-03</th>\n",
              "      <td>163.70</td>\n",
              "      <td>165.35</td>\n",
              "      <td>160.50</td>\n",
              "      <td>163.30</td>\n",
              "      <td>576</td>\n",
              "      <td>2.16</td>\n",
              "      <td>22.05</td>\n",
              "      <td>22.06</td>\n",
              "      <td>21.95</td>\n",
              "      <td>21.94</td>\n",
              "      <td>130</td>\n",
              "      <td>-1.75</td>\n",
              "      <td>1920.0</td>\n",
              "      <td>1935.0</td>\n",
              "      <td>1920.0</td>\n",
              "      <td>1930.0</td>\n",
              "      <td>152</td>\n",
              "      <td>0.26</td>\n",
              "    </tr>\n",
              "    <tr>\n",
              "      <th>2017-01-04</th>\n",
              "      <td>163.70</td>\n",
              "      <td>170.00</td>\n",
              "      <td>163.55</td>\n",
              "      <td>168.95</td>\n",
              "      <td>376</td>\n",
              "      <td>3.46</td>\n",
              "      <td>21.99</td>\n",
              "      <td>22.33</td>\n",
              "      <td>21.99</td>\n",
              "      <td>22.38</td>\n",
              "      <td>159</td>\n",
              "      <td>2.01</td>\n",
              "      <td>1930.0</td>\n",
              "      <td>1930.0</td>\n",
              "      <td>1920.0</td>\n",
              "      <td>1925.0</td>\n",
              "      <td>90</td>\n",
              "      <td>-0.26</td>\n",
              "    </tr>\n",
              "    <tr>\n",
              "      <th>2017-01-05</th>\n",
              "      <td>170.90</td>\n",
              "      <td>172.95</td>\n",
              "      <td>169.00</td>\n",
              "      <td>170.90</td>\n",
              "      <td>278</td>\n",
              "      <td>1.15</td>\n",
              "      <td>22.26</td>\n",
              "      <td>22.35</td>\n",
              "      <td>22.26</td>\n",
              "      <td>22.32</td>\n",
              "      <td>35</td>\n",
              "      <td>-0.27</td>\n",
              "      <td>1915.0</td>\n",
              "      <td>1925.0</td>\n",
              "      <td>1915.0</td>\n",
              "      <td>1925.0</td>\n",
              "      <td>146</td>\n",
              "      <td>0.00</td>\n",
              "    </tr>\n",
              "    <tr>\n",
              "      <th>2017-01-06</th>\n",
              "      <td>170.95</td>\n",
              "      <td>173.10</td>\n",
              "      <td>170.00</td>\n",
              "      <td>171.00</td>\n",
              "      <td>452</td>\n",
              "      <td>0.06</td>\n",
              "      <td>22.20</td>\n",
              "      <td>22.20</td>\n",
              "      <td>21.99</td>\n",
              "      <td>21.93</td>\n",
              "      <td>117</td>\n",
              "      <td>-1.75</td>\n",
              "      <td>1925.0</td>\n",
              "      <td>1925.0</td>\n",
              "      <td>1925.0</td>\n",
              "      <td>1925.0</td>\n",
              "      <td>150</td>\n",
              "      <td>0.00</td>\n",
              "    </tr>\n",
              "  </tbody>\n",
              "</table>\n",
              "</div>\n",
              "      <button class=\"colab-df-convert\" onclick=\"convertToInteractive('df-c1730ea9-7c19-4125-844e-f2b87cb2a611')\"\n",
              "              title=\"Convert this dataframe to an interactive table.\"\n",
              "              style=\"display:none;\">\n",
              "        \n",
              "  <svg xmlns=\"http://www.w3.org/2000/svg\" height=\"24px\"viewBox=\"0 0 24 24\"\n",
              "       width=\"24px\">\n",
              "    <path d=\"M0 0h24v24H0V0z\" fill=\"none\"/>\n",
              "    <path d=\"M18.56 5.44l.94 2.06.94-2.06 2.06-.94-2.06-.94-.94-2.06-.94 2.06-2.06.94zm-11 1L8.5 8.5l.94-2.06 2.06-.94-2.06-.94L8.5 2.5l-.94 2.06-2.06.94zm10 10l.94 2.06.94-2.06 2.06-.94-2.06-.94-.94-2.06-.94 2.06-2.06.94z\"/><path d=\"M17.41 7.96l-1.37-1.37c-.4-.4-.92-.59-1.43-.59-.52 0-1.04.2-1.43.59L10.3 9.45l-7.72 7.72c-.78.78-.78 2.05 0 2.83L4 21.41c.39.39.9.59 1.41.59.51 0 1.02-.2 1.41-.59l7.78-7.78 2.81-2.81c.8-.78.8-2.07 0-2.86zM5.41 20L4 18.59l7.72-7.72 1.47 1.35L5.41 20z\"/>\n",
              "  </svg>\n",
              "      </button>\n",
              "      \n",
              "  <style>\n",
              "    .colab-df-container {\n",
              "      display:flex;\n",
              "      flex-wrap:wrap;\n",
              "      gap: 12px;\n",
              "    }\n",
              "\n",
              "    .colab-df-convert {\n",
              "      background-color: #E8F0FE;\n",
              "      border: none;\n",
              "      border-radius: 50%;\n",
              "      cursor: pointer;\n",
              "      display: none;\n",
              "      fill: #1967D2;\n",
              "      height: 32px;\n",
              "      padding: 0 0 0 0;\n",
              "      width: 32px;\n",
              "    }\n",
              "\n",
              "    .colab-df-convert:hover {\n",
              "      background-color: #E2EBFA;\n",
              "      box-shadow: 0px 1px 2px rgba(60, 64, 67, 0.3), 0px 1px 3px 1px rgba(60, 64, 67, 0.15);\n",
              "      fill: #174EA6;\n",
              "    }\n",
              "\n",
              "    [theme=dark] .colab-df-convert {\n",
              "      background-color: #3B4455;\n",
              "      fill: #D2E3FC;\n",
              "    }\n",
              "\n",
              "    [theme=dark] .colab-df-convert:hover {\n",
              "      background-color: #434B5C;\n",
              "      box-shadow: 0px 1px 3px 1px rgba(0, 0, 0, 0.15);\n",
              "      filter: drop-shadow(0px 1px 2px rgba(0, 0, 0, 0.3));\n",
              "      fill: #FFFFFF;\n",
              "    }\n",
              "  </style>\n",
              "\n",
              "      <script>\n",
              "        const buttonEl =\n",
              "          document.querySelector('#df-c1730ea9-7c19-4125-844e-f2b87cb2a611 button.colab-df-convert');\n",
              "        buttonEl.style.display =\n",
              "          google.colab.kernel.accessAllowed ? 'block' : 'none';\n",
              "\n",
              "        async function convertToInteractive(key) {\n",
              "          const element = document.querySelector('#df-c1730ea9-7c19-4125-844e-f2b87cb2a611');\n",
              "          const dataTable =\n",
              "            await google.colab.kernel.invokeFunction('convertToInteractive',\n",
              "                                                     [key], {});\n",
              "          if (!dataTable) return;\n",
              "\n",
              "          const docLinkHtml = 'Like what you see? Visit the ' +\n",
              "            '<a target=\"_blank\" href=https://colab.research.google.com/notebooks/data_table.ipynb>data table notebook</a>'\n",
              "            + ' to learn more about interactive tables.';\n",
              "          element.innerHTML = '';\n",
              "          dataTable['output_type'] = 'display_data';\n",
              "          await google.colab.output.renderOutput(dataTable, element);\n",
              "          const docLink = document.createElement('div');\n",
              "          docLink.innerHTML = docLinkHtml;\n",
              "          element.appendChild(docLink);\n",
              "        }\n",
              "      </script>\n",
              "    </div>\n",
              "  </div>\n",
              "  "
            ]
          },
          "metadata": {},
          "execution_count": 38
        }
      ],
      "source": [
        "commodities.head()"
      ]
    },
    {
      "cell_type": "code",
      "execution_count": 39,
      "metadata": {
        "id": "GZhXXrjtNnzT"
      },
      "outputs": [],
      "source": [
        "from functools import reduce"
      ]
    },
    {
      "cell_type": "code",
      "execution_count": 40,
      "metadata": {
        "id": "lZ5OVkpjNnzT"
      },
      "outputs": [],
      "source": [
        "lista_dfs = [cafe, soja, etanol]"
      ]
    },
    {
      "cell_type": "code",
      "execution_count": 41,
      "metadata": {
        "id": "qHAqTCgkNnzT"
      },
      "outputs": [],
      "source": [
        "commodities = reduce(lambda left, right: pd.merge(left, right, how = 'inner', on = 'Date'), lista_dfs)"
      ]
    },
    {
      "cell_type": "code",
      "execution_count": 42,
      "metadata": {
        "id": "xlzmBkoVNnzT"
      },
      "outputs": [],
      "source": [
        "commodities = commodities[['cafe','soja','etanol']]"
      ]
    },
    {
      "cell_type": "code",
      "execution_count": 43,
      "metadata": {
        "id": "X4mT2RGoNnzT",
        "outputId": "e7e9d626-d5ca-4ec7-dd86-f9681b3fb003",
        "colab": {
          "base_uri": "https://localhost:8080/",
          "height": 237
        }
      },
      "outputs": [
        {
          "output_type": "execute_result",
          "data": {
            "text/plain": [
              "              cafe   soja  etanol\n",
              "Date                             \n",
              "2017-01-02  159.85  22.33  1925.0\n",
              "2017-01-03  163.30  21.94  1930.0\n",
              "2017-01-04  168.95  22.38  1925.0\n",
              "2017-01-05  170.90  22.32  1925.0\n",
              "2017-01-06  171.00  21.93  1925.0"
            ],
            "text/html": [
              "\n",
              "  <div id=\"df-e645b9d3-6f50-47d1-8f5b-89781df5926b\">\n",
              "    <div class=\"colab-df-container\">\n",
              "      <div>\n",
              "<style scoped>\n",
              "    .dataframe tbody tr th:only-of-type {\n",
              "        vertical-align: middle;\n",
              "    }\n",
              "\n",
              "    .dataframe tbody tr th {\n",
              "        vertical-align: top;\n",
              "    }\n",
              "\n",
              "    .dataframe thead th {\n",
              "        text-align: right;\n",
              "    }\n",
              "</style>\n",
              "<table border=\"1\" class=\"dataframe\">\n",
              "  <thead>\n",
              "    <tr style=\"text-align: right;\">\n",
              "      <th></th>\n",
              "      <th>cafe</th>\n",
              "      <th>soja</th>\n",
              "      <th>etanol</th>\n",
              "    </tr>\n",
              "    <tr>\n",
              "      <th>Date</th>\n",
              "      <th></th>\n",
              "      <th></th>\n",
              "      <th></th>\n",
              "    </tr>\n",
              "  </thead>\n",
              "  <tbody>\n",
              "    <tr>\n",
              "      <th>2017-01-02</th>\n",
              "      <td>159.85</td>\n",
              "      <td>22.33</td>\n",
              "      <td>1925.0</td>\n",
              "    </tr>\n",
              "    <tr>\n",
              "      <th>2017-01-03</th>\n",
              "      <td>163.30</td>\n",
              "      <td>21.94</td>\n",
              "      <td>1930.0</td>\n",
              "    </tr>\n",
              "    <tr>\n",
              "      <th>2017-01-04</th>\n",
              "      <td>168.95</td>\n",
              "      <td>22.38</td>\n",
              "      <td>1925.0</td>\n",
              "    </tr>\n",
              "    <tr>\n",
              "      <th>2017-01-05</th>\n",
              "      <td>170.90</td>\n",
              "      <td>22.32</td>\n",
              "      <td>1925.0</td>\n",
              "    </tr>\n",
              "    <tr>\n",
              "      <th>2017-01-06</th>\n",
              "      <td>171.00</td>\n",
              "      <td>21.93</td>\n",
              "      <td>1925.0</td>\n",
              "    </tr>\n",
              "  </tbody>\n",
              "</table>\n",
              "</div>\n",
              "      <button class=\"colab-df-convert\" onclick=\"convertToInteractive('df-e645b9d3-6f50-47d1-8f5b-89781df5926b')\"\n",
              "              title=\"Convert this dataframe to an interactive table.\"\n",
              "              style=\"display:none;\">\n",
              "        \n",
              "  <svg xmlns=\"http://www.w3.org/2000/svg\" height=\"24px\"viewBox=\"0 0 24 24\"\n",
              "       width=\"24px\">\n",
              "    <path d=\"M0 0h24v24H0V0z\" fill=\"none\"/>\n",
              "    <path d=\"M18.56 5.44l.94 2.06.94-2.06 2.06-.94-2.06-.94-.94-2.06-.94 2.06-2.06.94zm-11 1L8.5 8.5l.94-2.06 2.06-.94-2.06-.94L8.5 2.5l-.94 2.06-2.06.94zm10 10l.94 2.06.94-2.06 2.06-.94-2.06-.94-.94-2.06-.94 2.06-2.06.94z\"/><path d=\"M17.41 7.96l-1.37-1.37c-.4-.4-.92-.59-1.43-.59-.52 0-1.04.2-1.43.59L10.3 9.45l-7.72 7.72c-.78.78-.78 2.05 0 2.83L4 21.41c.39.39.9.59 1.41.59.51 0 1.02-.2 1.41-.59l7.78-7.78 2.81-2.81c.8-.78.8-2.07 0-2.86zM5.41 20L4 18.59l7.72-7.72 1.47 1.35L5.41 20z\"/>\n",
              "  </svg>\n",
              "      </button>\n",
              "      \n",
              "  <style>\n",
              "    .colab-df-container {\n",
              "      display:flex;\n",
              "      flex-wrap:wrap;\n",
              "      gap: 12px;\n",
              "    }\n",
              "\n",
              "    .colab-df-convert {\n",
              "      background-color: #E8F0FE;\n",
              "      border: none;\n",
              "      border-radius: 50%;\n",
              "      cursor: pointer;\n",
              "      display: none;\n",
              "      fill: #1967D2;\n",
              "      height: 32px;\n",
              "      padding: 0 0 0 0;\n",
              "      width: 32px;\n",
              "    }\n",
              "\n",
              "    .colab-df-convert:hover {\n",
              "      background-color: #E2EBFA;\n",
              "      box-shadow: 0px 1px 2px rgba(60, 64, 67, 0.3), 0px 1px 3px 1px rgba(60, 64, 67, 0.15);\n",
              "      fill: #174EA6;\n",
              "    }\n",
              "\n",
              "    [theme=dark] .colab-df-convert {\n",
              "      background-color: #3B4455;\n",
              "      fill: #D2E3FC;\n",
              "    }\n",
              "\n",
              "    [theme=dark] .colab-df-convert:hover {\n",
              "      background-color: #434B5C;\n",
              "      box-shadow: 0px 1px 3px 1px rgba(0, 0, 0, 0.15);\n",
              "      filter: drop-shadow(0px 1px 2px rgba(0, 0, 0, 0.3));\n",
              "      fill: #FFFFFF;\n",
              "    }\n",
              "  </style>\n",
              "\n",
              "      <script>\n",
              "        const buttonEl =\n",
              "          document.querySelector('#df-e645b9d3-6f50-47d1-8f5b-89781df5926b button.colab-df-convert');\n",
              "        buttonEl.style.display =\n",
              "          google.colab.kernel.accessAllowed ? 'block' : 'none';\n",
              "\n",
              "        async function convertToInteractive(key) {\n",
              "          const element = document.querySelector('#df-e645b9d3-6f50-47d1-8f5b-89781df5926b');\n",
              "          const dataTable =\n",
              "            await google.colab.kernel.invokeFunction('convertToInteractive',\n",
              "                                                     [key], {});\n",
              "          if (!dataTable) return;\n",
              "\n",
              "          const docLinkHtml = 'Like what you see? Visit the ' +\n",
              "            '<a target=\"_blank\" href=https://colab.research.google.com/notebooks/data_table.ipynb>data table notebook</a>'\n",
              "            + ' to learn more about interactive tables.';\n",
              "          element.innerHTML = '';\n",
              "          dataTable['output_type'] = 'display_data';\n",
              "          await google.colab.output.renderOutput(dataTable, element);\n",
              "          const docLink = document.createElement('div');\n",
              "          docLink.innerHTML = docLinkHtml;\n",
              "          element.appendChild(docLink);\n",
              "        }\n",
              "      </script>\n",
              "    </div>\n",
              "  </div>\n",
              "  "
            ]
          },
          "metadata": {},
          "execution_count": 43
        }
      ],
      "source": [
        "commodities.head()"
      ]
    },
    {
      "cell_type": "markdown",
      "metadata": {
        "id": "c-bBzsZQNnzU"
      },
      "source": [
        "### 6.2.3. Criptomoedas"
      ]
    },
    {
      "cell_type": "code",
      "execution_count": 44,
      "metadata": {
        "id": "1CfkfVEbNnzU"
      },
      "outputs": [],
      "source": [
        "bitcoin = investpy.get_crypto_historical_data(crypto = 'bitcoin', \n",
        "                                              from_date = '01/01/2017', to_date = '15/05/2022')"
      ]
    },
    {
      "cell_type": "code",
      "execution_count": 45,
      "metadata": {
        "id": "6cljIZUBNnzU",
        "outputId": "ca153012-d262-4da8-e1cb-3830e9a0b6cd",
        "colab": {
          "base_uri": "https://localhost:8080/",
          "height": 237
        }
      },
      "outputs": [
        {
          "output_type": "execute_result",
          "data": {
            "text/plain": [
              "              Open    High     Low   Close  Volume Currency\n",
              "Date                                                       \n",
              "2017-01-01   963.4  1001.6   956.1   995.4   41149      USD\n",
              "2017-01-02   995.4  1031.7   990.2  1017.0   64952      USD\n",
              "2017-01-03  1017.0  1035.5  1006.5  1033.3   54788      USD\n",
              "2017-01-04  1033.3  1148.5  1022.3  1135.4  156272      USD\n",
              "2017-01-05  1135.4  1150.6   874.5   989.3  240008      USD"
            ],
            "text/html": [
              "\n",
              "  <div id=\"df-0bbb1ff4-3e8e-4d91-a6ca-676c5c2bc067\">\n",
              "    <div class=\"colab-df-container\">\n",
              "      <div>\n",
              "<style scoped>\n",
              "    .dataframe tbody tr th:only-of-type {\n",
              "        vertical-align: middle;\n",
              "    }\n",
              "\n",
              "    .dataframe tbody tr th {\n",
              "        vertical-align: top;\n",
              "    }\n",
              "\n",
              "    .dataframe thead th {\n",
              "        text-align: right;\n",
              "    }\n",
              "</style>\n",
              "<table border=\"1\" class=\"dataframe\">\n",
              "  <thead>\n",
              "    <tr style=\"text-align: right;\">\n",
              "      <th></th>\n",
              "      <th>Open</th>\n",
              "      <th>High</th>\n",
              "      <th>Low</th>\n",
              "      <th>Close</th>\n",
              "      <th>Volume</th>\n",
              "      <th>Currency</th>\n",
              "    </tr>\n",
              "    <tr>\n",
              "      <th>Date</th>\n",
              "      <th></th>\n",
              "      <th></th>\n",
              "      <th></th>\n",
              "      <th></th>\n",
              "      <th></th>\n",
              "      <th></th>\n",
              "    </tr>\n",
              "  </thead>\n",
              "  <tbody>\n",
              "    <tr>\n",
              "      <th>2017-01-01</th>\n",
              "      <td>963.4</td>\n",
              "      <td>1001.6</td>\n",
              "      <td>956.1</td>\n",
              "      <td>995.4</td>\n",
              "      <td>41149</td>\n",
              "      <td>USD</td>\n",
              "    </tr>\n",
              "    <tr>\n",
              "      <th>2017-01-02</th>\n",
              "      <td>995.4</td>\n",
              "      <td>1031.7</td>\n",
              "      <td>990.2</td>\n",
              "      <td>1017.0</td>\n",
              "      <td>64952</td>\n",
              "      <td>USD</td>\n",
              "    </tr>\n",
              "    <tr>\n",
              "      <th>2017-01-03</th>\n",
              "      <td>1017.0</td>\n",
              "      <td>1035.5</td>\n",
              "      <td>1006.5</td>\n",
              "      <td>1033.3</td>\n",
              "      <td>54788</td>\n",
              "      <td>USD</td>\n",
              "    </tr>\n",
              "    <tr>\n",
              "      <th>2017-01-04</th>\n",
              "      <td>1033.3</td>\n",
              "      <td>1148.5</td>\n",
              "      <td>1022.3</td>\n",
              "      <td>1135.4</td>\n",
              "      <td>156272</td>\n",
              "      <td>USD</td>\n",
              "    </tr>\n",
              "    <tr>\n",
              "      <th>2017-01-05</th>\n",
              "      <td>1135.4</td>\n",
              "      <td>1150.6</td>\n",
              "      <td>874.5</td>\n",
              "      <td>989.3</td>\n",
              "      <td>240008</td>\n",
              "      <td>USD</td>\n",
              "    </tr>\n",
              "  </tbody>\n",
              "</table>\n",
              "</div>\n",
              "      <button class=\"colab-df-convert\" onclick=\"convertToInteractive('df-0bbb1ff4-3e8e-4d91-a6ca-676c5c2bc067')\"\n",
              "              title=\"Convert this dataframe to an interactive table.\"\n",
              "              style=\"display:none;\">\n",
              "        \n",
              "  <svg xmlns=\"http://www.w3.org/2000/svg\" height=\"24px\"viewBox=\"0 0 24 24\"\n",
              "       width=\"24px\">\n",
              "    <path d=\"M0 0h24v24H0V0z\" fill=\"none\"/>\n",
              "    <path d=\"M18.56 5.44l.94 2.06.94-2.06 2.06-.94-2.06-.94-.94-2.06-.94 2.06-2.06.94zm-11 1L8.5 8.5l.94-2.06 2.06-.94-2.06-.94L8.5 2.5l-.94 2.06-2.06.94zm10 10l.94 2.06.94-2.06 2.06-.94-2.06-.94-.94-2.06-.94 2.06-2.06.94z\"/><path d=\"M17.41 7.96l-1.37-1.37c-.4-.4-.92-.59-1.43-.59-.52 0-1.04.2-1.43.59L10.3 9.45l-7.72 7.72c-.78.78-.78 2.05 0 2.83L4 21.41c.39.39.9.59 1.41.59.51 0 1.02-.2 1.41-.59l7.78-7.78 2.81-2.81c.8-.78.8-2.07 0-2.86zM5.41 20L4 18.59l7.72-7.72 1.47 1.35L5.41 20z\"/>\n",
              "  </svg>\n",
              "      </button>\n",
              "      \n",
              "  <style>\n",
              "    .colab-df-container {\n",
              "      display:flex;\n",
              "      flex-wrap:wrap;\n",
              "      gap: 12px;\n",
              "    }\n",
              "\n",
              "    .colab-df-convert {\n",
              "      background-color: #E8F0FE;\n",
              "      border: none;\n",
              "      border-radius: 50%;\n",
              "      cursor: pointer;\n",
              "      display: none;\n",
              "      fill: #1967D2;\n",
              "      height: 32px;\n",
              "      padding: 0 0 0 0;\n",
              "      width: 32px;\n",
              "    }\n",
              "\n",
              "    .colab-df-convert:hover {\n",
              "      background-color: #E2EBFA;\n",
              "      box-shadow: 0px 1px 2px rgba(60, 64, 67, 0.3), 0px 1px 3px 1px rgba(60, 64, 67, 0.15);\n",
              "      fill: #174EA6;\n",
              "    }\n",
              "\n",
              "    [theme=dark] .colab-df-convert {\n",
              "      background-color: #3B4455;\n",
              "      fill: #D2E3FC;\n",
              "    }\n",
              "\n",
              "    [theme=dark] .colab-df-convert:hover {\n",
              "      background-color: #434B5C;\n",
              "      box-shadow: 0px 1px 3px 1px rgba(0, 0, 0, 0.15);\n",
              "      filter: drop-shadow(0px 1px 2px rgba(0, 0, 0, 0.3));\n",
              "      fill: #FFFFFF;\n",
              "    }\n",
              "  </style>\n",
              "\n",
              "      <script>\n",
              "        const buttonEl =\n",
              "          document.querySelector('#df-0bbb1ff4-3e8e-4d91-a6ca-676c5c2bc067 button.colab-df-convert');\n",
              "        buttonEl.style.display =\n",
              "          google.colab.kernel.accessAllowed ? 'block' : 'none';\n",
              "\n",
              "        async function convertToInteractive(key) {\n",
              "          const element = document.querySelector('#df-0bbb1ff4-3e8e-4d91-a6ca-676c5c2bc067');\n",
              "          const dataTable =\n",
              "            await google.colab.kernel.invokeFunction('convertToInteractive',\n",
              "                                                     [key], {});\n",
              "          if (!dataTable) return;\n",
              "\n",
              "          const docLinkHtml = 'Like what you see? Visit the ' +\n",
              "            '<a target=\"_blank\" href=https://colab.research.google.com/notebooks/data_table.ipynb>data table notebook</a>'\n",
              "            + ' to learn more about interactive tables.';\n",
              "          element.innerHTML = '';\n",
              "          dataTable['output_type'] = 'display_data';\n",
              "          await google.colab.output.renderOutput(dataTable, element);\n",
              "          const docLink = document.createElement('div');\n",
              "          docLink.innerHTML = docLinkHtml;\n",
              "          element.appendChild(docLink);\n",
              "        }\n",
              "      </script>\n",
              "    </div>\n",
              "  </div>\n",
              "  "
            ]
          },
          "metadata": {},
          "execution_count": 45
        }
      ],
      "source": [
        "bitcoin.head()"
      ]
    },
    {
      "cell_type": "code",
      "execution_count": 46,
      "metadata": {
        "id": "Kjl0QZJFNnzU"
      },
      "outputs": [],
      "source": [
        "bitcoin.rename(columns = {'Close': 'bitcoin'}, inplace = True)"
      ]
    },
    {
      "cell_type": "code",
      "execution_count": 47,
      "metadata": {
        "id": "PghWWyGENnzU"
      },
      "outputs": [],
      "source": [
        "ethereum = investpy.get_crypto_historical_data(crypto = 'ethereum', \n",
        "                                              from_date = '01/01/2017', to_date = '15/05/2022')\n",
        "\n",
        "ethereum.rename(columns = {'Close': 'ethereum'}, inplace = True)"
      ]
    },
    {
      "cell_type": "code",
      "execution_count": 48,
      "metadata": {
        "id": "bXk_s5dhNnzV",
        "outputId": "8049fd55-24bb-424b-ba58-432d6d5c50c4",
        "colab": {
          "base_uri": "https://localhost:8080/",
          "height": 237
        }
      },
      "outputs": [
        {
          "output_type": "execute_result",
          "data": {
            "text/plain": [
              "             Open   High   Low  ethereum  Volume Currency\n",
              "Date                                                     \n",
              "2017-01-01   8.17   8.59  8.03      8.20  144921      USD\n",
              "2017-01-02   8.19   8.50  8.11      8.37  101269      USD\n",
              "2017-01-03   8.43   9.90  8.30      9.74  603421      USD\n",
              "2017-01-04   9.57  11.10  9.44     11.00  556252      USD\n",
              "2017-01-05  11.16  11.70  9.20     10.15  490641      USD"
            ],
            "text/html": [
              "\n",
              "  <div id=\"df-d52bcc89-b0fd-4e28-83ad-a036a3b6ec85\">\n",
              "    <div class=\"colab-df-container\">\n",
              "      <div>\n",
              "<style scoped>\n",
              "    .dataframe tbody tr th:only-of-type {\n",
              "        vertical-align: middle;\n",
              "    }\n",
              "\n",
              "    .dataframe tbody tr th {\n",
              "        vertical-align: top;\n",
              "    }\n",
              "\n",
              "    .dataframe thead th {\n",
              "        text-align: right;\n",
              "    }\n",
              "</style>\n",
              "<table border=\"1\" class=\"dataframe\">\n",
              "  <thead>\n",
              "    <tr style=\"text-align: right;\">\n",
              "      <th></th>\n",
              "      <th>Open</th>\n",
              "      <th>High</th>\n",
              "      <th>Low</th>\n",
              "      <th>ethereum</th>\n",
              "      <th>Volume</th>\n",
              "      <th>Currency</th>\n",
              "    </tr>\n",
              "    <tr>\n",
              "      <th>Date</th>\n",
              "      <th></th>\n",
              "      <th></th>\n",
              "      <th></th>\n",
              "      <th></th>\n",
              "      <th></th>\n",
              "      <th></th>\n",
              "    </tr>\n",
              "  </thead>\n",
              "  <tbody>\n",
              "    <tr>\n",
              "      <th>2017-01-01</th>\n",
              "      <td>8.17</td>\n",
              "      <td>8.59</td>\n",
              "      <td>8.03</td>\n",
              "      <td>8.20</td>\n",
              "      <td>144921</td>\n",
              "      <td>USD</td>\n",
              "    </tr>\n",
              "    <tr>\n",
              "      <th>2017-01-02</th>\n",
              "      <td>8.19</td>\n",
              "      <td>8.50</td>\n",
              "      <td>8.11</td>\n",
              "      <td>8.37</td>\n",
              "      <td>101269</td>\n",
              "      <td>USD</td>\n",
              "    </tr>\n",
              "    <tr>\n",
              "      <th>2017-01-03</th>\n",
              "      <td>8.43</td>\n",
              "      <td>9.90</td>\n",
              "      <td>8.30</td>\n",
              "      <td>9.74</td>\n",
              "      <td>603421</td>\n",
              "      <td>USD</td>\n",
              "    </tr>\n",
              "    <tr>\n",
              "      <th>2017-01-04</th>\n",
              "      <td>9.57</td>\n",
              "      <td>11.10</td>\n",
              "      <td>9.44</td>\n",
              "      <td>11.00</td>\n",
              "      <td>556252</td>\n",
              "      <td>USD</td>\n",
              "    </tr>\n",
              "    <tr>\n",
              "      <th>2017-01-05</th>\n",
              "      <td>11.16</td>\n",
              "      <td>11.70</td>\n",
              "      <td>9.20</td>\n",
              "      <td>10.15</td>\n",
              "      <td>490641</td>\n",
              "      <td>USD</td>\n",
              "    </tr>\n",
              "  </tbody>\n",
              "</table>\n",
              "</div>\n",
              "      <button class=\"colab-df-convert\" onclick=\"convertToInteractive('df-d52bcc89-b0fd-4e28-83ad-a036a3b6ec85')\"\n",
              "              title=\"Convert this dataframe to an interactive table.\"\n",
              "              style=\"display:none;\">\n",
              "        \n",
              "  <svg xmlns=\"http://www.w3.org/2000/svg\" height=\"24px\"viewBox=\"0 0 24 24\"\n",
              "       width=\"24px\">\n",
              "    <path d=\"M0 0h24v24H0V0z\" fill=\"none\"/>\n",
              "    <path d=\"M18.56 5.44l.94 2.06.94-2.06 2.06-.94-2.06-.94-.94-2.06-.94 2.06-2.06.94zm-11 1L8.5 8.5l.94-2.06 2.06-.94-2.06-.94L8.5 2.5l-.94 2.06-2.06.94zm10 10l.94 2.06.94-2.06 2.06-.94-2.06-.94-.94-2.06-.94 2.06-2.06.94z\"/><path d=\"M17.41 7.96l-1.37-1.37c-.4-.4-.92-.59-1.43-.59-.52 0-1.04.2-1.43.59L10.3 9.45l-7.72 7.72c-.78.78-.78 2.05 0 2.83L4 21.41c.39.39.9.59 1.41.59.51 0 1.02-.2 1.41-.59l7.78-7.78 2.81-2.81c.8-.78.8-2.07 0-2.86zM5.41 20L4 18.59l7.72-7.72 1.47 1.35L5.41 20z\"/>\n",
              "  </svg>\n",
              "      </button>\n",
              "      \n",
              "  <style>\n",
              "    .colab-df-container {\n",
              "      display:flex;\n",
              "      flex-wrap:wrap;\n",
              "      gap: 12px;\n",
              "    }\n",
              "\n",
              "    .colab-df-convert {\n",
              "      background-color: #E8F0FE;\n",
              "      border: none;\n",
              "      border-radius: 50%;\n",
              "      cursor: pointer;\n",
              "      display: none;\n",
              "      fill: #1967D2;\n",
              "      height: 32px;\n",
              "      padding: 0 0 0 0;\n",
              "      width: 32px;\n",
              "    }\n",
              "\n",
              "    .colab-df-convert:hover {\n",
              "      background-color: #E2EBFA;\n",
              "      box-shadow: 0px 1px 2px rgba(60, 64, 67, 0.3), 0px 1px 3px 1px rgba(60, 64, 67, 0.15);\n",
              "      fill: #174EA6;\n",
              "    }\n",
              "\n",
              "    [theme=dark] .colab-df-convert {\n",
              "      background-color: #3B4455;\n",
              "      fill: #D2E3FC;\n",
              "    }\n",
              "\n",
              "    [theme=dark] .colab-df-convert:hover {\n",
              "      background-color: #434B5C;\n",
              "      box-shadow: 0px 1px 3px 1px rgba(0, 0, 0, 0.15);\n",
              "      filter: drop-shadow(0px 1px 2px rgba(0, 0, 0, 0.3));\n",
              "      fill: #FFFFFF;\n",
              "    }\n",
              "  </style>\n",
              "\n",
              "      <script>\n",
              "        const buttonEl =\n",
              "          document.querySelector('#df-d52bcc89-b0fd-4e28-83ad-a036a3b6ec85 button.colab-df-convert');\n",
              "        buttonEl.style.display =\n",
              "          google.colab.kernel.accessAllowed ? 'block' : 'none';\n",
              "\n",
              "        async function convertToInteractive(key) {\n",
              "          const element = document.querySelector('#df-d52bcc89-b0fd-4e28-83ad-a036a3b6ec85');\n",
              "          const dataTable =\n",
              "            await google.colab.kernel.invokeFunction('convertToInteractive',\n",
              "                                                     [key], {});\n",
              "          if (!dataTable) return;\n",
              "\n",
              "          const docLinkHtml = 'Like what you see? Visit the ' +\n",
              "            '<a target=\"_blank\" href=https://colab.research.google.com/notebooks/data_table.ipynb>data table notebook</a>'\n",
              "            + ' to learn more about interactive tables.';\n",
              "          element.innerHTML = '';\n",
              "          dataTable['output_type'] = 'display_data';\n",
              "          await google.colab.output.renderOutput(dataTable, element);\n",
              "          const docLink = document.createElement('div');\n",
              "          docLink.innerHTML = docLinkHtml;\n",
              "          element.appendChild(docLink);\n",
              "        }\n",
              "      </script>\n",
              "    </div>\n",
              "  </div>\n",
              "  "
            ]
          },
          "metadata": {},
          "execution_count": 48
        }
      ],
      "source": [
        "ethereum.head()"
      ]
    },
    {
      "cell_type": "code",
      "execution_count": 49,
      "metadata": {
        "id": "o8GstwK-NnzV"
      },
      "outputs": [],
      "source": [
        "cripto = pd.merge(bitcoin, ethereum, how = 'inner', on = 'Date')"
      ]
    },
    {
      "cell_type": "code",
      "execution_count": 50,
      "metadata": {
        "id": "dG6qdvgbNnzV",
        "outputId": "80e627c1-61d4-4f85-a7e2-047892f866d9",
        "colab": {
          "base_uri": "https://localhost:8080/",
          "height": 237
        }
      },
      "outputs": [
        {
          "output_type": "execute_result",
          "data": {
            "text/plain": [
              "            Open_x  High_x   Low_x  bitcoin  Volume_x Currency_x  Open_y  \\\n",
              "Date                                                                       \n",
              "2017-01-01   963.4  1001.6   956.1    995.4     41149        USD    8.17   \n",
              "2017-01-02   995.4  1031.7   990.2   1017.0     64952        USD    8.19   \n",
              "2017-01-03  1017.0  1035.5  1006.5   1033.3     54788        USD    8.43   \n",
              "2017-01-04  1033.3  1148.5  1022.3   1135.4    156272        USD    9.57   \n",
              "2017-01-05  1135.4  1150.6   874.5    989.3    240008        USD   11.16   \n",
              "\n",
              "            High_y  Low_y  ethereum  Volume_y Currency_y  \n",
              "Date                                                      \n",
              "2017-01-01    8.59   8.03      8.20    144921        USD  \n",
              "2017-01-02    8.50   8.11      8.37    101269        USD  \n",
              "2017-01-03    9.90   8.30      9.74    603421        USD  \n",
              "2017-01-04   11.10   9.44     11.00    556252        USD  \n",
              "2017-01-05   11.70   9.20     10.15    490641        USD  "
            ],
            "text/html": [
              "\n",
              "  <div id=\"df-4dfdd6b7-d6fa-447d-96d6-383d3595e5d5\">\n",
              "    <div class=\"colab-df-container\">\n",
              "      <div>\n",
              "<style scoped>\n",
              "    .dataframe tbody tr th:only-of-type {\n",
              "        vertical-align: middle;\n",
              "    }\n",
              "\n",
              "    .dataframe tbody tr th {\n",
              "        vertical-align: top;\n",
              "    }\n",
              "\n",
              "    .dataframe thead th {\n",
              "        text-align: right;\n",
              "    }\n",
              "</style>\n",
              "<table border=\"1\" class=\"dataframe\">\n",
              "  <thead>\n",
              "    <tr style=\"text-align: right;\">\n",
              "      <th></th>\n",
              "      <th>Open_x</th>\n",
              "      <th>High_x</th>\n",
              "      <th>Low_x</th>\n",
              "      <th>bitcoin</th>\n",
              "      <th>Volume_x</th>\n",
              "      <th>Currency_x</th>\n",
              "      <th>Open_y</th>\n",
              "      <th>High_y</th>\n",
              "      <th>Low_y</th>\n",
              "      <th>ethereum</th>\n",
              "      <th>Volume_y</th>\n",
              "      <th>Currency_y</th>\n",
              "    </tr>\n",
              "    <tr>\n",
              "      <th>Date</th>\n",
              "      <th></th>\n",
              "      <th></th>\n",
              "      <th></th>\n",
              "      <th></th>\n",
              "      <th></th>\n",
              "      <th></th>\n",
              "      <th></th>\n",
              "      <th></th>\n",
              "      <th></th>\n",
              "      <th></th>\n",
              "      <th></th>\n",
              "      <th></th>\n",
              "    </tr>\n",
              "  </thead>\n",
              "  <tbody>\n",
              "    <tr>\n",
              "      <th>2017-01-01</th>\n",
              "      <td>963.4</td>\n",
              "      <td>1001.6</td>\n",
              "      <td>956.1</td>\n",
              "      <td>995.4</td>\n",
              "      <td>41149</td>\n",
              "      <td>USD</td>\n",
              "      <td>8.17</td>\n",
              "      <td>8.59</td>\n",
              "      <td>8.03</td>\n",
              "      <td>8.20</td>\n",
              "      <td>144921</td>\n",
              "      <td>USD</td>\n",
              "    </tr>\n",
              "    <tr>\n",
              "      <th>2017-01-02</th>\n",
              "      <td>995.4</td>\n",
              "      <td>1031.7</td>\n",
              "      <td>990.2</td>\n",
              "      <td>1017.0</td>\n",
              "      <td>64952</td>\n",
              "      <td>USD</td>\n",
              "      <td>8.19</td>\n",
              "      <td>8.50</td>\n",
              "      <td>8.11</td>\n",
              "      <td>8.37</td>\n",
              "      <td>101269</td>\n",
              "      <td>USD</td>\n",
              "    </tr>\n",
              "    <tr>\n",
              "      <th>2017-01-03</th>\n",
              "      <td>1017.0</td>\n",
              "      <td>1035.5</td>\n",
              "      <td>1006.5</td>\n",
              "      <td>1033.3</td>\n",
              "      <td>54788</td>\n",
              "      <td>USD</td>\n",
              "      <td>8.43</td>\n",
              "      <td>9.90</td>\n",
              "      <td>8.30</td>\n",
              "      <td>9.74</td>\n",
              "      <td>603421</td>\n",
              "      <td>USD</td>\n",
              "    </tr>\n",
              "    <tr>\n",
              "      <th>2017-01-04</th>\n",
              "      <td>1033.3</td>\n",
              "      <td>1148.5</td>\n",
              "      <td>1022.3</td>\n",
              "      <td>1135.4</td>\n",
              "      <td>156272</td>\n",
              "      <td>USD</td>\n",
              "      <td>9.57</td>\n",
              "      <td>11.10</td>\n",
              "      <td>9.44</td>\n",
              "      <td>11.00</td>\n",
              "      <td>556252</td>\n",
              "      <td>USD</td>\n",
              "    </tr>\n",
              "    <tr>\n",
              "      <th>2017-01-05</th>\n",
              "      <td>1135.4</td>\n",
              "      <td>1150.6</td>\n",
              "      <td>874.5</td>\n",
              "      <td>989.3</td>\n",
              "      <td>240008</td>\n",
              "      <td>USD</td>\n",
              "      <td>11.16</td>\n",
              "      <td>11.70</td>\n",
              "      <td>9.20</td>\n",
              "      <td>10.15</td>\n",
              "      <td>490641</td>\n",
              "      <td>USD</td>\n",
              "    </tr>\n",
              "  </tbody>\n",
              "</table>\n",
              "</div>\n",
              "      <button class=\"colab-df-convert\" onclick=\"convertToInteractive('df-4dfdd6b7-d6fa-447d-96d6-383d3595e5d5')\"\n",
              "              title=\"Convert this dataframe to an interactive table.\"\n",
              "              style=\"display:none;\">\n",
              "        \n",
              "  <svg xmlns=\"http://www.w3.org/2000/svg\" height=\"24px\"viewBox=\"0 0 24 24\"\n",
              "       width=\"24px\">\n",
              "    <path d=\"M0 0h24v24H0V0z\" fill=\"none\"/>\n",
              "    <path d=\"M18.56 5.44l.94 2.06.94-2.06 2.06-.94-2.06-.94-.94-2.06-.94 2.06-2.06.94zm-11 1L8.5 8.5l.94-2.06 2.06-.94-2.06-.94L8.5 2.5l-.94 2.06-2.06.94zm10 10l.94 2.06.94-2.06 2.06-.94-2.06-.94-.94-2.06-.94 2.06-2.06.94z\"/><path d=\"M17.41 7.96l-1.37-1.37c-.4-.4-.92-.59-1.43-.59-.52 0-1.04.2-1.43.59L10.3 9.45l-7.72 7.72c-.78.78-.78 2.05 0 2.83L4 21.41c.39.39.9.59 1.41.59.51 0 1.02-.2 1.41-.59l7.78-7.78 2.81-2.81c.8-.78.8-2.07 0-2.86zM5.41 20L4 18.59l7.72-7.72 1.47 1.35L5.41 20z\"/>\n",
              "  </svg>\n",
              "      </button>\n",
              "      \n",
              "  <style>\n",
              "    .colab-df-container {\n",
              "      display:flex;\n",
              "      flex-wrap:wrap;\n",
              "      gap: 12px;\n",
              "    }\n",
              "\n",
              "    .colab-df-convert {\n",
              "      background-color: #E8F0FE;\n",
              "      border: none;\n",
              "      border-radius: 50%;\n",
              "      cursor: pointer;\n",
              "      display: none;\n",
              "      fill: #1967D2;\n",
              "      height: 32px;\n",
              "      padding: 0 0 0 0;\n",
              "      width: 32px;\n",
              "    }\n",
              "\n",
              "    .colab-df-convert:hover {\n",
              "      background-color: #E2EBFA;\n",
              "      box-shadow: 0px 1px 2px rgba(60, 64, 67, 0.3), 0px 1px 3px 1px rgba(60, 64, 67, 0.15);\n",
              "      fill: #174EA6;\n",
              "    }\n",
              "\n",
              "    [theme=dark] .colab-df-convert {\n",
              "      background-color: #3B4455;\n",
              "      fill: #D2E3FC;\n",
              "    }\n",
              "\n",
              "    [theme=dark] .colab-df-convert:hover {\n",
              "      background-color: #434B5C;\n",
              "      box-shadow: 0px 1px 3px 1px rgba(0, 0, 0, 0.15);\n",
              "      filter: drop-shadow(0px 1px 2px rgba(0, 0, 0, 0.3));\n",
              "      fill: #FFFFFF;\n",
              "    }\n",
              "  </style>\n",
              "\n",
              "      <script>\n",
              "        const buttonEl =\n",
              "          document.querySelector('#df-4dfdd6b7-d6fa-447d-96d6-383d3595e5d5 button.colab-df-convert');\n",
              "        buttonEl.style.display =\n",
              "          google.colab.kernel.accessAllowed ? 'block' : 'none';\n",
              "\n",
              "        async function convertToInteractive(key) {\n",
              "          const element = document.querySelector('#df-4dfdd6b7-d6fa-447d-96d6-383d3595e5d5');\n",
              "          const dataTable =\n",
              "            await google.colab.kernel.invokeFunction('convertToInteractive',\n",
              "                                                     [key], {});\n",
              "          if (!dataTable) return;\n",
              "\n",
              "          const docLinkHtml = 'Like what you see? Visit the ' +\n",
              "            '<a target=\"_blank\" href=https://colab.research.google.com/notebooks/data_table.ipynb>data table notebook</a>'\n",
              "            + ' to learn more about interactive tables.';\n",
              "          element.innerHTML = '';\n",
              "          dataTable['output_type'] = 'display_data';\n",
              "          await google.colab.output.renderOutput(dataTable, element);\n",
              "          const docLink = document.createElement('div');\n",
              "          docLink.innerHTML = docLinkHtml;\n",
              "          element.appendChild(docLink);\n",
              "        }\n",
              "      </script>\n",
              "    </div>\n",
              "  </div>\n",
              "  "
            ]
          },
          "metadata": {},
          "execution_count": 50
        }
      ],
      "source": [
        "cripto.head()"
      ]
    },
    {
      "cell_type": "code",
      "execution_count": 51,
      "metadata": {
        "id": "ZdVL6yFiNnzV"
      },
      "outputs": [],
      "source": [
        "cripto = cripto[['bitcoin', 'ethereum']]"
      ]
    },
    {
      "cell_type": "code",
      "execution_count": 52,
      "metadata": {
        "id": "XJjPuCHWNnzV",
        "outputId": "5780bc71-856c-4061-9ba5-39234fa99b3e",
        "colab": {
          "base_uri": "https://localhost:8080/",
          "height": 237
        }
      },
      "outputs": [
        {
          "output_type": "execute_result",
          "data": {
            "text/plain": [
              "            bitcoin  ethereum\n",
              "Date                         \n",
              "2017-01-01    995.4      8.20\n",
              "2017-01-02   1017.0      8.37\n",
              "2017-01-03   1033.3      9.74\n",
              "2017-01-04   1135.4     11.00\n",
              "2017-01-05    989.3     10.15"
            ],
            "text/html": [
              "\n",
              "  <div id=\"df-80a7ee8c-2d12-4a29-a22b-512956dfa9e6\">\n",
              "    <div class=\"colab-df-container\">\n",
              "      <div>\n",
              "<style scoped>\n",
              "    .dataframe tbody tr th:only-of-type {\n",
              "        vertical-align: middle;\n",
              "    }\n",
              "\n",
              "    .dataframe tbody tr th {\n",
              "        vertical-align: top;\n",
              "    }\n",
              "\n",
              "    .dataframe thead th {\n",
              "        text-align: right;\n",
              "    }\n",
              "</style>\n",
              "<table border=\"1\" class=\"dataframe\">\n",
              "  <thead>\n",
              "    <tr style=\"text-align: right;\">\n",
              "      <th></th>\n",
              "      <th>bitcoin</th>\n",
              "      <th>ethereum</th>\n",
              "    </tr>\n",
              "    <tr>\n",
              "      <th>Date</th>\n",
              "      <th></th>\n",
              "      <th></th>\n",
              "    </tr>\n",
              "  </thead>\n",
              "  <tbody>\n",
              "    <tr>\n",
              "      <th>2017-01-01</th>\n",
              "      <td>995.4</td>\n",
              "      <td>8.20</td>\n",
              "    </tr>\n",
              "    <tr>\n",
              "      <th>2017-01-02</th>\n",
              "      <td>1017.0</td>\n",
              "      <td>8.37</td>\n",
              "    </tr>\n",
              "    <tr>\n",
              "      <th>2017-01-03</th>\n",
              "      <td>1033.3</td>\n",
              "      <td>9.74</td>\n",
              "    </tr>\n",
              "    <tr>\n",
              "      <th>2017-01-04</th>\n",
              "      <td>1135.4</td>\n",
              "      <td>11.00</td>\n",
              "    </tr>\n",
              "    <tr>\n",
              "      <th>2017-01-05</th>\n",
              "      <td>989.3</td>\n",
              "      <td>10.15</td>\n",
              "    </tr>\n",
              "  </tbody>\n",
              "</table>\n",
              "</div>\n",
              "      <button class=\"colab-df-convert\" onclick=\"convertToInteractive('df-80a7ee8c-2d12-4a29-a22b-512956dfa9e6')\"\n",
              "              title=\"Convert this dataframe to an interactive table.\"\n",
              "              style=\"display:none;\">\n",
              "        \n",
              "  <svg xmlns=\"http://www.w3.org/2000/svg\" height=\"24px\"viewBox=\"0 0 24 24\"\n",
              "       width=\"24px\">\n",
              "    <path d=\"M0 0h24v24H0V0z\" fill=\"none\"/>\n",
              "    <path d=\"M18.56 5.44l.94 2.06.94-2.06 2.06-.94-2.06-.94-.94-2.06-.94 2.06-2.06.94zm-11 1L8.5 8.5l.94-2.06 2.06-.94-2.06-.94L8.5 2.5l-.94 2.06-2.06.94zm10 10l.94 2.06.94-2.06 2.06-.94-2.06-.94-.94-2.06-.94 2.06-2.06.94z\"/><path d=\"M17.41 7.96l-1.37-1.37c-.4-.4-.92-.59-1.43-.59-.52 0-1.04.2-1.43.59L10.3 9.45l-7.72 7.72c-.78.78-.78 2.05 0 2.83L4 21.41c.39.39.9.59 1.41.59.51 0 1.02-.2 1.41-.59l7.78-7.78 2.81-2.81c.8-.78.8-2.07 0-2.86zM5.41 20L4 18.59l7.72-7.72 1.47 1.35L5.41 20z\"/>\n",
              "  </svg>\n",
              "      </button>\n",
              "      \n",
              "  <style>\n",
              "    .colab-df-container {\n",
              "      display:flex;\n",
              "      flex-wrap:wrap;\n",
              "      gap: 12px;\n",
              "    }\n",
              "\n",
              "    .colab-df-convert {\n",
              "      background-color: #E8F0FE;\n",
              "      border: none;\n",
              "      border-radius: 50%;\n",
              "      cursor: pointer;\n",
              "      display: none;\n",
              "      fill: #1967D2;\n",
              "      height: 32px;\n",
              "      padding: 0 0 0 0;\n",
              "      width: 32px;\n",
              "    }\n",
              "\n",
              "    .colab-df-convert:hover {\n",
              "      background-color: #E2EBFA;\n",
              "      box-shadow: 0px 1px 2px rgba(60, 64, 67, 0.3), 0px 1px 3px 1px rgba(60, 64, 67, 0.15);\n",
              "      fill: #174EA6;\n",
              "    }\n",
              "\n",
              "    [theme=dark] .colab-df-convert {\n",
              "      background-color: #3B4455;\n",
              "      fill: #D2E3FC;\n",
              "    }\n",
              "\n",
              "    [theme=dark] .colab-df-convert:hover {\n",
              "      background-color: #434B5C;\n",
              "      box-shadow: 0px 1px 3px 1px rgba(0, 0, 0, 0.15);\n",
              "      filter: drop-shadow(0px 1px 2px rgba(0, 0, 0, 0.3));\n",
              "      fill: #FFFFFF;\n",
              "    }\n",
              "  </style>\n",
              "\n",
              "      <script>\n",
              "        const buttonEl =\n",
              "          document.querySelector('#df-80a7ee8c-2d12-4a29-a22b-512956dfa9e6 button.colab-df-convert');\n",
              "        buttonEl.style.display =\n",
              "          google.colab.kernel.accessAllowed ? 'block' : 'none';\n",
              "\n",
              "        async function convertToInteractive(key) {\n",
              "          const element = document.querySelector('#df-80a7ee8c-2d12-4a29-a22b-512956dfa9e6');\n",
              "          const dataTable =\n",
              "            await google.colab.kernel.invokeFunction('convertToInteractive',\n",
              "                                                     [key], {});\n",
              "          if (!dataTable) return;\n",
              "\n",
              "          const docLinkHtml = 'Like what you see? Visit the ' +\n",
              "            '<a target=\"_blank\" href=https://colab.research.google.com/notebooks/data_table.ipynb>data table notebook</a>'\n",
              "            + ' to learn more about interactive tables.';\n",
              "          element.innerHTML = '';\n",
              "          dataTable['output_type'] = 'display_data';\n",
              "          await google.colab.output.renderOutput(dataTable, element);\n",
              "          const docLink = document.createElement('div');\n",
              "          docLink.innerHTML = docLinkHtml;\n",
              "          element.appendChild(docLink);\n",
              "        }\n",
              "      </script>\n",
              "    </div>\n",
              "  </div>\n",
              "  "
            ]
          },
          "metadata": {},
          "execution_count": 52
        }
      ],
      "source": [
        "cripto.head()"
      ]
    },
    {
      "cell_type": "markdown",
      "metadata": {
        "id": "QjZR95AJNnzV"
      },
      "source": [
        "## 6.3. Dados do dólar"
      ]
    },
    {
      "cell_type": "code",
      "source": [
        "inicio = '2017-01-01'"
      ],
      "metadata": {
        "id": "lwAe-skiw_uu"
      },
      "execution_count": 57,
      "outputs": []
    },
    {
      "cell_type": "code",
      "execution_count": 58,
      "metadata": {
        "id": "z1u5s5YDNnzW",
        "outputId": "51eba7bc-ce10-43ab-d000-509ff2eecfe0",
        "colab": {
          "base_uri": "https://localhost:8080/"
        }
      },
      "outputs": [
        {
          "output_type": "stream",
          "name": "stdout",
          "text": [
            "\r[*********************100%***********************]  1 of 1 completed\n"
          ]
        }
      ],
      "source": [
        "dolar = yf.download('USDBRL=X', start = inicio)"
      ]
    },
    {
      "cell_type": "code",
      "execution_count": 59,
      "metadata": {
        "id": "m7cCyMtwNnzW",
        "outputId": "b4aaf163-660f-4208-9bb5-55c0a390b047",
        "colab": {
          "base_uri": "https://localhost:8080/",
          "height": 237
        }
      },
      "outputs": [
        {
          "output_type": "execute_result",
          "data": {
            "text/plain": [
              "              Open    High     Low   Close  Adj Close  Volume\n",
              "Date                                                         \n",
              "2017-01-02  3.2532  3.2797  3.2427  3.2532     3.2532       0\n",
              "2017-01-03  3.2841  3.2897  3.2475  3.2840     3.2840       0\n",
              "2017-01-04  3.2635  3.2643  3.2188  3.2635     3.2635       0\n",
              "2017-01-05  3.2149  3.2276  3.1998  3.2141     3.2141       0\n",
              "2017-01-06  3.1975  3.2118  3.1894  3.1977     3.1977       0"
            ],
            "text/html": [
              "\n",
              "  <div id=\"df-b976374a-b92b-4b74-8c4a-10be1eef3f7e\">\n",
              "    <div class=\"colab-df-container\">\n",
              "      <div>\n",
              "<style scoped>\n",
              "    .dataframe tbody tr th:only-of-type {\n",
              "        vertical-align: middle;\n",
              "    }\n",
              "\n",
              "    .dataframe tbody tr th {\n",
              "        vertical-align: top;\n",
              "    }\n",
              "\n",
              "    .dataframe thead th {\n",
              "        text-align: right;\n",
              "    }\n",
              "</style>\n",
              "<table border=\"1\" class=\"dataframe\">\n",
              "  <thead>\n",
              "    <tr style=\"text-align: right;\">\n",
              "      <th></th>\n",
              "      <th>Open</th>\n",
              "      <th>High</th>\n",
              "      <th>Low</th>\n",
              "      <th>Close</th>\n",
              "      <th>Adj Close</th>\n",
              "      <th>Volume</th>\n",
              "    </tr>\n",
              "    <tr>\n",
              "      <th>Date</th>\n",
              "      <th></th>\n",
              "      <th></th>\n",
              "      <th></th>\n",
              "      <th></th>\n",
              "      <th></th>\n",
              "      <th></th>\n",
              "    </tr>\n",
              "  </thead>\n",
              "  <tbody>\n",
              "    <tr>\n",
              "      <th>2017-01-02</th>\n",
              "      <td>3.2532</td>\n",
              "      <td>3.2797</td>\n",
              "      <td>3.2427</td>\n",
              "      <td>3.2532</td>\n",
              "      <td>3.2532</td>\n",
              "      <td>0</td>\n",
              "    </tr>\n",
              "    <tr>\n",
              "      <th>2017-01-03</th>\n",
              "      <td>3.2841</td>\n",
              "      <td>3.2897</td>\n",
              "      <td>3.2475</td>\n",
              "      <td>3.2840</td>\n",
              "      <td>3.2840</td>\n",
              "      <td>0</td>\n",
              "    </tr>\n",
              "    <tr>\n",
              "      <th>2017-01-04</th>\n",
              "      <td>3.2635</td>\n",
              "      <td>3.2643</td>\n",
              "      <td>3.2188</td>\n",
              "      <td>3.2635</td>\n",
              "      <td>3.2635</td>\n",
              "      <td>0</td>\n",
              "    </tr>\n",
              "    <tr>\n",
              "      <th>2017-01-05</th>\n",
              "      <td>3.2149</td>\n",
              "      <td>3.2276</td>\n",
              "      <td>3.1998</td>\n",
              "      <td>3.2141</td>\n",
              "      <td>3.2141</td>\n",
              "      <td>0</td>\n",
              "    </tr>\n",
              "    <tr>\n",
              "      <th>2017-01-06</th>\n",
              "      <td>3.1975</td>\n",
              "      <td>3.2118</td>\n",
              "      <td>3.1894</td>\n",
              "      <td>3.1977</td>\n",
              "      <td>3.1977</td>\n",
              "      <td>0</td>\n",
              "    </tr>\n",
              "  </tbody>\n",
              "</table>\n",
              "</div>\n",
              "      <button class=\"colab-df-convert\" onclick=\"convertToInteractive('df-b976374a-b92b-4b74-8c4a-10be1eef3f7e')\"\n",
              "              title=\"Convert this dataframe to an interactive table.\"\n",
              "              style=\"display:none;\">\n",
              "        \n",
              "  <svg xmlns=\"http://www.w3.org/2000/svg\" height=\"24px\"viewBox=\"0 0 24 24\"\n",
              "       width=\"24px\">\n",
              "    <path d=\"M0 0h24v24H0V0z\" fill=\"none\"/>\n",
              "    <path d=\"M18.56 5.44l.94 2.06.94-2.06 2.06-.94-2.06-.94-.94-2.06-.94 2.06-2.06.94zm-11 1L8.5 8.5l.94-2.06 2.06-.94-2.06-.94L8.5 2.5l-.94 2.06-2.06.94zm10 10l.94 2.06.94-2.06 2.06-.94-2.06-.94-.94-2.06-.94 2.06-2.06.94z\"/><path d=\"M17.41 7.96l-1.37-1.37c-.4-.4-.92-.59-1.43-.59-.52 0-1.04.2-1.43.59L10.3 9.45l-7.72 7.72c-.78.78-.78 2.05 0 2.83L4 21.41c.39.39.9.59 1.41.59.51 0 1.02-.2 1.41-.59l7.78-7.78 2.81-2.81c.8-.78.8-2.07 0-2.86zM5.41 20L4 18.59l7.72-7.72 1.47 1.35L5.41 20z\"/>\n",
              "  </svg>\n",
              "      </button>\n",
              "      \n",
              "  <style>\n",
              "    .colab-df-container {\n",
              "      display:flex;\n",
              "      flex-wrap:wrap;\n",
              "      gap: 12px;\n",
              "    }\n",
              "\n",
              "    .colab-df-convert {\n",
              "      background-color: #E8F0FE;\n",
              "      border: none;\n",
              "      border-radius: 50%;\n",
              "      cursor: pointer;\n",
              "      display: none;\n",
              "      fill: #1967D2;\n",
              "      height: 32px;\n",
              "      padding: 0 0 0 0;\n",
              "      width: 32px;\n",
              "    }\n",
              "\n",
              "    .colab-df-convert:hover {\n",
              "      background-color: #E2EBFA;\n",
              "      box-shadow: 0px 1px 2px rgba(60, 64, 67, 0.3), 0px 1px 3px 1px rgba(60, 64, 67, 0.15);\n",
              "      fill: #174EA6;\n",
              "    }\n",
              "\n",
              "    [theme=dark] .colab-df-convert {\n",
              "      background-color: #3B4455;\n",
              "      fill: #D2E3FC;\n",
              "    }\n",
              "\n",
              "    [theme=dark] .colab-df-convert:hover {\n",
              "      background-color: #434B5C;\n",
              "      box-shadow: 0px 1px 3px 1px rgba(0, 0, 0, 0.15);\n",
              "      filter: drop-shadow(0px 1px 2px rgba(0, 0, 0, 0.3));\n",
              "      fill: #FFFFFF;\n",
              "    }\n",
              "  </style>\n",
              "\n",
              "      <script>\n",
              "        const buttonEl =\n",
              "          document.querySelector('#df-b976374a-b92b-4b74-8c4a-10be1eef3f7e button.colab-df-convert');\n",
              "        buttonEl.style.display =\n",
              "          google.colab.kernel.accessAllowed ? 'block' : 'none';\n",
              "\n",
              "        async function convertToInteractive(key) {\n",
              "          const element = document.querySelector('#df-b976374a-b92b-4b74-8c4a-10be1eef3f7e');\n",
              "          const dataTable =\n",
              "            await google.colab.kernel.invokeFunction('convertToInteractive',\n",
              "                                                     [key], {});\n",
              "          if (!dataTable) return;\n",
              "\n",
              "          const docLinkHtml = 'Like what you see? Visit the ' +\n",
              "            '<a target=\"_blank\" href=https://colab.research.google.com/notebooks/data_table.ipynb>data table notebook</a>'\n",
              "            + ' to learn more about interactive tables.';\n",
              "          element.innerHTML = '';\n",
              "          dataTable['output_type'] = 'display_data';\n",
              "          await google.colab.output.renderOutput(dataTable, element);\n",
              "          const docLink = document.createElement('div');\n",
              "          docLink.innerHTML = docLinkHtml;\n",
              "          element.appendChild(docLink);\n",
              "        }\n",
              "      </script>\n",
              "    </div>\n",
              "  </div>\n",
              "  "
            ]
          },
          "metadata": {},
          "execution_count": 59
        }
      ],
      "source": [
        "dolar.head()"
      ]
    },
    {
      "cell_type": "code",
      "execution_count": 60,
      "metadata": {
        "id": "zHfMWFqyNnzW",
        "outputId": "b993453b-5954-4e61-f43b-695890f8bf28",
        "colab": {
          "base_uri": "https://localhost:8080/",
          "height": 288
        }
      },
      "outputs": [
        {
          "output_type": "execute_result",
          "data": {
            "text/plain": [
              "<matplotlib.axes._subplots.AxesSubplot at 0x7fa28660ba10>"
            ]
          },
          "metadata": {},
          "execution_count": 60
        },
        {
          "output_type": "display_data",
          "data": {
            "text/plain": [
              "<Figure size 432x288 with 1 Axes>"
            ],
            "image/png": "[encoded data removed]"
          },
          "metadata": {
            "needs_background": "light"
          }
        }
      ],
      "source": [
        "dolar.Close.plot()"
      ]
    },
    {
      "cell_type": "code",
      "execution_count": 61,
      "metadata": {
        "id": "rNX-5RAdNnzW"
      },
      "outputs": [],
      "source": [
        "dolar = pd.DataFrame(dolar.Close).rename(columns = {'Close': 'Dolar'})"
      ]
    },
    {
      "cell_type": "code",
      "execution_count": 62,
      "metadata": {
        "id": "_z3G34abNnzW",
        "outputId": "77697338-94f4-4aa4-b66f-bd3921fc7578",
        "colab": {
          "base_uri": "https://localhost:8080/",
          "height": 237
        }
      },
      "outputs": [
        {
          "output_type": "execute_result",
          "data": {
            "text/plain": [
              "             Dolar\n",
              "Date              \n",
              "2017-01-02  3.2532\n",
              "2017-01-03  3.2840\n",
              "2017-01-04  3.2635\n",
              "2017-01-05  3.2141\n",
              "2017-01-06  3.1977"
            ],
            "text/html": [
              "\n",
              "  <div id=\"df-1c6fe7fb-35ac-47cc-b15c-ebd59e8140ed\">\n",
              "    <div class=\"colab-df-container\">\n",
              "      <div>\n",
              "<style scoped>\n",
              "    .dataframe tbody tr th:only-of-type {\n",
              "        vertical-align: middle;\n",
              "    }\n",
              "\n",
              "    .dataframe tbody tr th {\n",
              "        vertical-align: top;\n",
              "    }\n",
              "\n",
              "    .dataframe thead th {\n",
              "        text-align: right;\n",
              "    }\n",
              "</style>\n",
              "<table border=\"1\" class=\"dataframe\">\n",
              "  <thead>\n",
              "    <tr style=\"text-align: right;\">\n",
              "      <th></th>\n",
              "      <th>Dolar</th>\n",
              "    </tr>\n",
              "    <tr>\n",
              "      <th>Date</th>\n",
              "      <th></th>\n",
              "    </tr>\n",
              "  </thead>\n",
              "  <tbody>\n",
              "    <tr>\n",
              "      <th>2017-01-02</th>\n",
              "      <td>3.2532</td>\n",
              "    </tr>\n",
              "    <tr>\n",
              "      <th>2017-01-03</th>\n",
              "      <td>3.2840</td>\n",
              "    </tr>\n",
              "    <tr>\n",
              "      <th>2017-01-04</th>\n",
              "      <td>3.2635</td>\n",
              "    </tr>\n",
              "    <tr>\n",
              "      <th>2017-01-05</th>\n",
              "      <td>3.2141</td>\n",
              "    </tr>\n",
              "    <tr>\n",
              "      <th>2017-01-06</th>\n",
              "      <td>3.1977</td>\n",
              "    </tr>\n",
              "  </tbody>\n",
              "</table>\n",
              "</div>\n",
              "      <button class=\"colab-df-convert\" onclick=\"convertToInteractive('df-1c6fe7fb-35ac-47cc-b15c-ebd59e8140ed')\"\n",
              "              title=\"Convert this dataframe to an interactive table.\"\n",
              "              style=\"display:none;\">\n",
              "        \n",
              "  <svg xmlns=\"http://www.w3.org/2000/svg\" height=\"24px\"viewBox=\"0 0 24 24\"\n",
              "       width=\"24px\">\n",
              "    <path d=\"M0 0h24v24H0V0z\" fill=\"none\"/>\n",
              "    <path d=\"M18.56 5.44l.94 2.06.94-2.06 2.06-.94-2.06-.94-.94-2.06-.94 2.06-2.06.94zm-11 1L8.5 8.5l.94-2.06 2.06-.94-2.06-.94L8.5 2.5l-.94 2.06-2.06.94zm10 10l.94 2.06.94-2.06 2.06-.94-2.06-.94-.94-2.06-.94 2.06-2.06.94z\"/><path d=\"M17.41 7.96l-1.37-1.37c-.4-.4-.92-.59-1.43-.59-.52 0-1.04.2-1.43.59L10.3 9.45l-7.72 7.72c-.78.78-.78 2.05 0 2.83L4 21.41c.39.39.9.59 1.41.59.51 0 1.02-.2 1.41-.59l7.78-7.78 2.81-2.81c.8-.78.8-2.07 0-2.86zM5.41 20L4 18.59l7.72-7.72 1.47 1.35L5.41 20z\"/>\n",
              "  </svg>\n",
              "      </button>\n",
              "      \n",
              "  <style>\n",
              "    .colab-df-container {\n",
              "      display:flex;\n",
              "      flex-wrap:wrap;\n",
              "      gap: 12px;\n",
              "    }\n",
              "\n",
              "    .colab-df-convert {\n",
              "      background-color: #E8F0FE;\n",
              "      border: none;\n",
              "      border-radius: 50%;\n",
              "      cursor: pointer;\n",
              "      display: none;\n",
              "      fill: #1967D2;\n",
              "      height: 32px;\n",
              "      padding: 0 0 0 0;\n",
              "      width: 32px;\n",
              "    }\n",
              "\n",
              "    .colab-df-convert:hover {\n",
              "      background-color: #E2EBFA;\n",
              "      box-shadow: 0px 1px 2px rgba(60, 64, 67, 0.3), 0px 1px 3px 1px rgba(60, 64, 67, 0.15);\n",
              "      fill: #174EA6;\n",
              "    }\n",
              "\n",
              "    [theme=dark] .colab-df-convert {\n",
              "      background-color: #3B4455;\n",
              "      fill: #D2E3FC;\n",
              "    }\n",
              "\n",
              "    [theme=dark] .colab-df-convert:hover {\n",
              "      background-color: #434B5C;\n",
              "      box-shadow: 0px 1px 3px 1px rgba(0, 0, 0, 0.15);\n",
              "      filter: drop-shadow(0px 1px 2px rgba(0, 0, 0, 0.3));\n",
              "      fill: #FFFFFF;\n",
              "    }\n",
              "  </style>\n",
              "\n",
              "      <script>\n",
              "        const buttonEl =\n",
              "          document.querySelector('#df-1c6fe7fb-35ac-47cc-b15c-ebd59e8140ed button.colab-df-convert');\n",
              "        buttonEl.style.display =\n",
              "          google.colab.kernel.accessAllowed ? 'block' : 'none';\n",
              "\n",
              "        async function convertToInteractive(key) {\n",
              "          const element = document.querySelector('#df-1c6fe7fb-35ac-47cc-b15c-ebd59e8140ed');\n",
              "          const dataTable =\n",
              "            await google.colab.kernel.invokeFunction('convertToInteractive',\n",
              "                                                     [key], {});\n",
              "          if (!dataTable) return;\n",
              "\n",
              "          const docLinkHtml = 'Like what you see? Visit the ' +\n",
              "            '<a target=\"_blank\" href=https://colab.research.google.com/notebooks/data_table.ipynb>data table notebook</a>'\n",
              "            + ' to learn more about interactive tables.';\n",
              "          element.innerHTML = '';\n",
              "          dataTable['output_type'] = 'display_data';\n",
              "          await google.colab.output.renderOutput(dataTable, element);\n",
              "          const docLink = document.createElement('div');\n",
              "          docLink.innerHTML = docLinkHtml;\n",
              "          element.appendChild(docLink);\n",
              "        }\n",
              "      </script>\n",
              "    </div>\n",
              "  </div>\n",
              "  "
            ]
          },
          "metadata": {},
          "execution_count": 62
        }
      ],
      "source": [
        "dolar.head()"
      ]
    },
    {
      "cell_type": "markdown",
      "metadata": {
        "id": "M68lp4jiNnzW"
      },
      "source": [
        "## 6.4. Dados de ações"
      ]
    },
    {
      "cell_type": "code",
      "execution_count": 63,
      "metadata": {
        "id": "KYoVqm0vNnzX",
        "outputId": "b7f97e82-3a50-4ee6-c59d-90b6132b5653",
        "colab": {
          "base_uri": "https://localhost:8080/",
          "height": 237
        }
      },
      "outputs": [
        {
          "output_type": "execute_result",
          "data": {
            "text/plain": [
              "            AAPL34.SA  BPAC11.SA  HCTR11.SA   HGBS11.SA   HGLG11.SA  \\\n",
              "Date                                                                  \n",
              "2019-01-02  14.617930   5.773697        NaN  234.296234  139.018631   \n",
              "2019-01-03  13.018453   6.012528        NaN  234.592331  139.067978   \n",
              "2019-01-04  13.226552   6.225854        NaN  234.375198  138.377304   \n",
              "2019-01-07  13.199934   6.353385        NaN  235.381866  139.610626   \n",
              "2019-01-08  13.596780   6.235073        NaN  236.862259  140.103943   \n",
              "\n",
              "            IVVB11.SA   KNRI11.SA   LREN3.SA  MGLU3.SA  OIBR3.SA   ONEF11.SA  \\\n",
              "Date                                                                           \n",
              "2019-01-02      74.25  146.885452  37.106571  5.641578      1.26  148.133942   \n",
              "2019-01-03      74.25  148.476120  36.637947  5.581216      1.41  148.133942   \n",
              "2019-01-04      74.25  148.594681  35.232075  5.411353      1.41  147.955002   \n",
              "2019-01-07      74.25  147.675858  34.422630  5.495374      1.42  143.163010   \n",
              "2019-01-08      74.25  147.893204  35.530285  5.451089      1.38  139.196198   \n",
              "\n",
              "             PETR4.SA  SMAL11.SA   VALE3.SA  WEGE3.SA  \n",
              "Date                                                   \n",
              "2019-01-02  15.523999  89.000000  39.107300  8.611477  \n",
              "2019-01-03  15.904680  89.000000  37.507492  8.807847  \n",
              "2019-01-04  15.949844  90.500000  39.949306  8.908427  \n",
              "2019-01-07  16.201481  88.199997  39.734982  8.769531  \n",
              "2019-01-08  16.104700  88.830002  40.117710  8.697689  "
            ],
            "text/html": [
              "\n",
              "  <div id=\"df-9fe00abe-efd1-4130-a72b-cb8d114e9803\">\n",
              "    <div class=\"colab-df-container\">\n",
              "      <div>\n",
              "<style scoped>\n",
              "    .dataframe tbody tr th:only-of-type {\n",
              "        vertical-align: middle;\n",
              "    }\n",
              "\n",
              "    .dataframe tbody tr th {\n",
              "        vertical-align: top;\n",
              "    }\n",
              "\n",
              "    .dataframe thead th {\n",
              "        text-align: right;\n",
              "    }\n",
              "</style>\n",
              "<table border=\"1\" class=\"dataframe\">\n",
              "  <thead>\n",
              "    <tr style=\"text-align: right;\">\n",
              "      <th></th>\n",
              "      <th>AAPL34.SA</th>\n",
              "      <th>BPAC11.SA</th>\n",
              "      <th>HCTR11.SA</th>\n",
              "      <th>HGBS11.SA</th>\n",
              "      <th>HGLG11.SA</th>\n",
              "      <th>IVVB11.SA</th>\n",
              "      <th>KNRI11.SA</th>\n",
              "      <th>LREN3.SA</th>\n",
              "      <th>MGLU3.SA</th>\n",
              "      <th>OIBR3.SA</th>\n",
              "      <th>ONEF11.SA</th>\n",
              "      <th>PETR4.SA</th>\n",
              "      <th>SMAL11.SA</th>\n",
              "      <th>VALE3.SA</th>\n",
              "      <th>WEGE3.SA</th>\n",
              "    </tr>\n",
              "    <tr>\n",
              "      <th>Date</th>\n",
              "      <th></th>\n",
              "      <th></th>\n",
              "      <th></th>\n",
              "      <th></th>\n",
              "      <th></th>\n",
              "      <th></th>\n",
              "      <th></th>\n",
              "      <th></th>\n",
              "      <th></th>\n",
              "      <th></th>\n",
              "      <th></th>\n",
              "      <th></th>\n",
              "      <th></th>\n",
              "      <th></th>\n",
              "      <th></th>\n",
              "    </tr>\n",
              "  </thead>\n",
              "  <tbody>\n",
              "    <tr>\n",
              "      <th>2019-01-02</th>\n",
              "      <td>14.617930</td>\n",
              "      <td>5.773697</td>\n",
              "      <td>NaN</td>\n",
              "      <td>234.296234</td>\n",
              "      <td>139.018631</td>\n",
              "      <td>74.25</td>\n",
              "      <td>146.885452</td>\n",
              "      <td>37.106571</td>\n",
              "      <td>5.641578</td>\n",
              "      <td>1.26</td>\n",
              "      <td>148.133942</td>\n",
              "      <td>15.523999</td>\n",
              "      <td>89.000000</td>\n",
              "      <td>39.107300</td>\n",
              "      <td>8.611477</td>\n",
              "    </tr>\n",
              "    <tr>\n",
              "      <th>2019-01-03</th>\n",
              "      <td>13.018453</td>\n",
              "      <td>6.012528</td>\n",
              "      <td>NaN</td>\n",
              "      <td>234.592331</td>\n",
              "      <td>139.067978</td>\n",
              "      <td>74.25</td>\n",
              "      <td>148.476120</td>\n",
              "      <td>36.637947</td>\n",
              "      <td>5.581216</td>\n",
              "      <td>1.41</td>\n",
              "      <td>148.133942</td>\n",
              "      <td>15.904680</td>\n",
              "      <td>89.000000</td>\n",
              "      <td>37.507492</td>\n",
              "      <td>8.807847</td>\n",
              "    </tr>\n",
              "    <tr>\n",
              "      <th>2019-01-04</th>\n",
              "      <td>13.226552</td>\n",
              "      <td>6.225854</td>\n",
              "      <td>NaN</td>\n",
              "      <td>234.375198</td>\n",
              "      <td>138.377304</td>\n",
              "      <td>74.25</td>\n",
              "      <td>148.594681</td>\n",
              "      <td>35.232075</td>\n",
              "      <td>5.411353</td>\n",
              "      <td>1.41</td>\n",
              "      <td>147.955002</td>\n",
              "      <td>15.949844</td>\n",
              "      <td>90.500000</td>\n",
              "      <td>39.949306</td>\n",
              "      <td>8.908427</td>\n",
              "    </tr>\n",
              "    <tr>\n",
              "      <th>2019-01-07</th>\n",
              "      <td>13.199934</td>\n",
              "      <td>6.353385</td>\n",
              "      <td>NaN</td>\n",
              "      <td>235.381866</td>\n",
              "      <td>139.610626</td>\n",
              "      <td>74.25</td>\n",
              "      <td>147.675858</td>\n",
              "      <td>34.422630</td>\n",
              "      <td>5.495374</td>\n",
              "      <td>1.42</td>\n",
              "      <td>143.163010</td>\n",
              "      <td>16.201481</td>\n",
              "      <td>88.199997</td>\n",
              "      <td>39.734982</td>\n",
              "      <td>8.769531</td>\n",
              "    </tr>\n",
              "    <tr>\n",
              "      <th>2019-01-08</th>\n",
              "      <td>13.596780</td>\n",
              "      <td>6.235073</td>\n",
              "      <td>NaN</td>\n",
              "      <td>236.862259</td>\n",
              "      <td>140.103943</td>\n",
              "      <td>74.25</td>\n",
              "      <td>147.893204</td>\n",
              "      <td>35.530285</td>\n",
              "      <td>5.451089</td>\n",
              "      <td>1.38</td>\n",
              "      <td>139.196198</td>\n",
              "      <td>16.104700</td>\n",
              "      <td>88.830002</td>\n",
              "      <td>40.117710</td>\n",
              "      <td>8.697689</td>\n",
              "    </tr>\n",
              "  </tbody>\n",
              "</table>\n",
              "</div>\n",
              "      <button class=\"colab-df-convert\" onclick=\"convertToInteractive('df-9fe00abe-efd1-4130-a72b-cb8d114e9803')\"\n",
              "              title=\"Convert this dataframe to an interactive table.\"\n",
              "              style=\"display:none;\">\n",
              "        \n",
              "  <svg xmlns=\"http://www.w3.org/2000/svg\" height=\"24px\"viewBox=\"0 0 24 24\"\n",
              "       width=\"24px\">\n",
              "    <path d=\"M0 0h24v24H0V0z\" fill=\"none\"/>\n",
              "    <path d=\"M18.56 5.44l.94 2.06.94-2.06 2.06-.94-2.06-.94-.94-2.06-.94 2.06-2.06.94zm-11 1L8.5 8.5l.94-2.06 2.06-.94-2.06-.94L8.5 2.5l-.94 2.06-2.06.94zm10 10l.94 2.06.94-2.06 2.06-.94-2.06-.94-.94-2.06-.94 2.06-2.06.94z\"/><path d=\"M17.41 7.96l-1.37-1.37c-.4-.4-.92-.59-1.43-.59-.52 0-1.04.2-1.43.59L10.3 9.45l-7.72 7.72c-.78.78-.78 2.05 0 2.83L4 21.41c.39.39.9.59 1.41.59.51 0 1.02-.2 1.41-.59l7.78-7.78 2.81-2.81c.8-.78.8-2.07 0-2.86zM5.41 20L4 18.59l7.72-7.72 1.47 1.35L5.41 20z\"/>\n",
              "  </svg>\n",
              "      </button>\n",
              "      \n",
              "  <style>\n",
              "    .colab-df-container {\n",
              "      display:flex;\n",
              "      flex-wrap:wrap;\n",
              "      gap: 12px;\n",
              "    }\n",
              "\n",
              "    .colab-df-convert {\n",
              "      background-color: #E8F0FE;\n",
              "      border: none;\n",
              "      border-radius: 50%;\n",
              "      cursor: pointer;\n",
              "      display: none;\n",
              "      fill: #1967D2;\n",
              "      height: 32px;\n",
              "      padding: 0 0 0 0;\n",
              "      width: 32px;\n",
              "    }\n",
              "\n",
              "    .colab-df-convert:hover {\n",
              "      background-color: #E2EBFA;\n",
              "      box-shadow: 0px 1px 2px rgba(60, 64, 67, 0.3), 0px 1px 3px 1px rgba(60, 64, 67, 0.15);\n",
              "      fill: #174EA6;\n",
              "    }\n",
              "\n",
              "    [theme=dark] .colab-df-convert {\n",
              "      background-color: #3B4455;\n",
              "      fill: #D2E3FC;\n",
              "    }\n",
              "\n",
              "    [theme=dark] .colab-df-convert:hover {\n",
              "      background-color: #434B5C;\n",
              "      box-shadow: 0px 1px 3px 1px rgba(0, 0, 0, 0.15);\n",
              "      filter: drop-shadow(0px 1px 2px rgba(0, 0, 0, 0.3));\n",
              "      fill: #FFFFFF;\n",
              "    }\n",
              "  </style>\n",
              "\n",
              "      <script>\n",
              "        const buttonEl =\n",
              "          document.querySelector('#df-9fe00abe-efd1-4130-a72b-cb8d114e9803 button.colab-df-convert');\n",
              "        buttonEl.style.display =\n",
              "          google.colab.kernel.accessAllowed ? 'block' : 'none';\n",
              "\n",
              "        async function convertToInteractive(key) {\n",
              "          const element = document.querySelector('#df-9fe00abe-efd1-4130-a72b-cb8d114e9803');\n",
              "          const dataTable =\n",
              "            await google.colab.kernel.invokeFunction('convertToInteractive',\n",
              "                                                     [key], {});\n",
              "          if (!dataTable) return;\n",
              "\n",
              "          const docLinkHtml = 'Like what you see? Visit the ' +\n",
              "            '<a target=\"_blank\" href=https://colab.research.google.com/notebooks/data_table.ipynb>data table notebook</a>'\n",
              "            + ' to learn more about interactive tables.';\n",
              "          element.innerHTML = '';\n",
              "          dataTable['output_type'] = 'display_data';\n",
              "          await google.colab.output.renderOutput(dataTable, element);\n",
              "          const docLink = document.createElement('div');\n",
              "          docLink.innerHTML = docLinkHtml;\n",
              "          element.appendChild(docLink);\n",
              "        }\n",
              "      </script>\n",
              "    </div>\n",
              "  </div>\n",
              "  "
            ]
          },
          "metadata": {},
          "execution_count": 63
        }
      ],
      "source": [
        "data.head()"
      ]
    },
    {
      "cell_type": "markdown",
      "metadata": {
        "id": "cdfb44bUNnzX"
      },
      "source": [
        "## Juntando tudo num dataframe só"
      ]
    },
    {
      "cell_type": "code",
      "execution_count": 65,
      "metadata": {
        "id": "Ys2YdgoyNnzX"
      },
      "outputs": [],
      "source": [
        "# Dados de ações\n",
        "data.index = pd.to_datetime(data.index)\n",
        "# Dados de índices\n",
        "indices.index = pd.to_datetime(indices.index)\n",
        "# Dados de commodities\n",
        "commodities.index = pd.to_datetime(commodities.index)\n",
        "# Dados de criptomoedas\n",
        "cripto.index = pd.to_datetime(cripto.index)\n",
        "# Cotação do dólar\n",
        "dolar.index = pd.to_datetime(dolar.index)"
      ]
    },
    {
      "cell_type": "code",
      "execution_count": 66,
      "metadata": {
        "id": "nBKiAEzPNnzY"
      },
      "outputs": [],
      "source": [
        "dfs = [data, indices, commodities, cripto, dolar]"
      ]
    },
    {
      "cell_type": "code",
      "execution_count": 67,
      "metadata": {
        "id": "98bkw4QKNnzY"
      },
      "outputs": [],
      "source": [
        "df_final = reduce(lambda left, right: pd.merge(left, right, how = 'inner', on = 'Date'), dfs)"
      ]
    },
    {
      "cell_type": "markdown",
      "metadata": {
        "id": "GZW5F9vzNnzZ"
      },
      "source": [
        "## Matriz de Correlação"
      ]
    },
    {
      "cell_type": "code",
      "execution_count": 73,
      "metadata": {
        "id": "0TT5Q4eRNnzZ"
      },
      "outputs": [],
      "source": [
        "import seaborn as sns"
      ]
    },
    {
      "cell_type": "code",
      "execution_count": 74,
      "metadata": {
        "id": "Gvy5JjXANnzZ"
      },
      "outputs": [],
      "source": [
        "import matplotlib.pyplot as plt"
      ]
    },
    {
      "cell_type": "code",
      "execution_count": 75,
      "metadata": {
        "id": "yVOSHXM2Nnza",
        "outputId": "77171d05-7d52-41b7-ea52-6976076d0ab3",
        "colab": {
          "base_uri": "https://localhost:8080/",
          "height": 552
        }
      },
      "outputs": [
        {
          "output_type": "execute_result",
          "data": {
            "text/plain": [
              "<matplotlib.axes._subplots.AxesSubplot at 0x7fa26f5e28d0>"
            ]
          },
          "metadata": {},
          "execution_count": 75
        },
        {
          "output_type": "display_data",
          "data": {
            "text/plain": [
              "<Figure size 1152x576 with 2 Axes>"
            ],
            "image/png": "[encoded data removed]"
          },
          "metadata": {
            "needs_background": "light"
          }
        }
      ],
      "source": [
        "plt.figure(figsize = (16,8))\n",
        "\n",
        "sns.heatmap(df_final.corr(),\n",
        "           vmin = -1, vmax = 1, annot = True, cmap = 'BrBG')"
      ]
    },
    {
      "cell_type": "code",
      "source": [
        ""
      ],
      "metadata": {
        "id": "NCl7StlAxK6x"
      },
      "execution_count": null,
      "outputs": []
    }
  ],
  "metadata": {
    "kernelspec": {
      "display_name": "Python 3",
      "language": "python",
      "name": "python3"
    },
    "language_info": {
      "codemirror_mode": {
        "name": "ipython",
        "version": 3
      },
      "file_extension": ".py",
      "mimetype": "text/x-python",
      "name": "python",
      "nbconvert_exporter": "python",
      "pygments_lexer": "ipython3",
      "version": "3.8.5"
    },
    "colab": {
      "name": "Matriz de Correlação.ipynb",
      "provenance": [],
      "include_colab_link": true
    }
  },
  "nbformat": 4,
  "nbformat_minor": 0
}