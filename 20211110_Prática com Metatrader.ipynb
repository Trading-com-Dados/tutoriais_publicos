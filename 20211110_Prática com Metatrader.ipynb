{
 "cells": [
  {
   "cell_type": "code",
   "execution_count": 1,
   "metadata": {},
   "outputs": [],
   "source": [
    "import MetaTrader5 as mt5\n",
    "import time\n"
   ]
  },
  {
   "cell_type": "code",
   "execution_count": 8,
   "metadata": {},
   "outputs": [
    {
     "data": {
      "text/plain": [
       "True"
      ]
     },
     "execution_count": 8,
     "metadata": {},
     "output_type": "execute_result"
    }
   ],
   "source": [
    "mt5.initialize()"
   ]
  },
  {
   "cell_type": "code",
   "execution_count": 9,
   "metadata": {},
   "outputs": [],
   "source": [
    "winfut= mt5.symbol_info_tick"
   ]
  },
  {
   "cell_type": "code",
   "execution_count": 25,
   "metadata": {},
   "outputs": [],
   "source": [
    "import pytz"
   ]
  },
  {
   "cell_type": "code",
   "execution_count": 27,
   "metadata": {},
   "outputs": [],
   "source": [
    "from datetime import datetime"
   ]
  },
  {
   "cell_type": "code",
   "execution_count": 33,
   "metadata": {},
   "outputs": [],
   "source": [
    "timezone = pytz.timezone(\"Etc/GMT-3\")\n",
    "\n",
    "inicio = datetime(2021, 10, 18, hour = 15, tzinfo = timezone)\n",
    "fim = datetime(2021, 9, 27, hour = 17, tzinfo = timezone)"
   ]
  },
  {
   "cell_type": "code",
   "execution_count": 34,
   "metadata": {},
   "outputs": [],
   "source": [
    "import pandas as pd"
   ]
  },
  {
   "cell_type": "code",
   "execution_count": 38,
   "metadata": {},
   "outputs": [
    {
     "data": {
      "text/plain": [
       "<AxesSubplot:xlabel='time'>"
      ]
     },
     "execution_count": 38,
     "metadata": {},
     "output_type": "execute_result"
    },
    {
     "data": {
      "image/png": "[encoded data removed]",
      "text/plain": [
       "<Figure size 432x288 with 1 Axes>"
      ]
     },
     "metadata": {
      "needs_background": "light"
     },
     "output_type": "display_data"
    }
   ],
   "source": [
    "dados = mt5.copy_ticks_from(\"WINZ21\",inicio,500000, mt5.COPY_TICKS_ALL)\n",
    "\n",
    "# a partir dos dados recebidos criamos o DataFrame\n",
    "dados_frame = pd.DataFrame(dados)\n",
    "\n",
    "# convertemos o tempo em segundos no formato datetime\n",
    "dados_frame['time']=pd.to_datetime(dados_frame['time'], unit='s')\n",
    "\n",
    "dados_frame.index = dados_frame['time']\n",
    "dados_frame['last'].plot()"
   ]
  },
  {
   "cell_type": "code",
   "execution_count": 22,
   "metadata": {},
   "outputs": [
    {
     "data": {
      "text/plain": [
       "array([(1628467200, 125300., 125300., 125300., 125300.,       1, 5,        1),\n",
       "       (1629158400, 119295., 119295., 118665., 118665.,       2, 5,        2),\n",
       "       (1629244800, 120200., 121000., 118500., 118525.,       8, 5,        8),\n",
       "       (1629331200, 117075., 119600., 116730., 119600.,      36, 5,       36),\n",
       "       (1629417600, 118115., 120640., 117900., 120170.,     338, 5,      341),\n",
       "       (1629676800, 121105., 121105., 119300., 119705.,      15, 5,       16),\n",
       "       (1629763200, 120265., 122525., 120265., 122410.,      36, 5,       41),\n",
       "       (1629849600, 122385., 122745., 121615., 122745.,       6, 5,        6),\n",
       "       (1629936000, 122485., 122485., 120460., 120460.,      18, 5,       18),\n",
       "       (1630022400, 121300., 122800., 121300., 122400.,      19, 5,       28),\n",
       "       (1630281600, 122100., 122385., 121500., 121740.,      36, 5,       55),\n",
       "       (1630368000, 121360., 122150., 119870., 120460.,      85, 5,      423),\n",
       "       (1630454400, 120670., 121985., 120015., 120995.,      46, 5,      110),\n",
       "       (1630540800, 121085., 121085., 117855., 117855.,     305, 5,     2886),\n",
       "       (1630627200, 118950., 119450., 117295., 118000.,     110, 5,      140),\n",
       "       (1630886400, 117995., 119700., 117740., 119645.,      39, 5,       90),\n",
       "       (1631059200, 118500., 119180., 114750., 115310.,     104, 5,      298),\n",
       "       (1631145600, 115500., 118300., 114115., 118115.,     213, 5,      405),\n",
       "       (1631232000, 118600., 119075., 115840., 116110.,     147, 5,      470),\n",
       "       (1631491200, 117000., 118830., 116845., 118025.,     137, 5,      392),\n",
       "       (1631577600, 117500., 119085., 117350., 118055.,     171, 5,      318),\n",
       "       (1631664000, 118100., 118100., 116450., 116860.,      91, 5,      373),\n",
       "       (1631750400, 116185., 116275., 115015., 115625.,     147, 5,      380),\n",
       "       (1631836800, 115285., 115290., 112585., 112590.,     309, 5,      965),\n",
       "       (1632096000, 110510., 111180., 108910., 110845.,     411, 5,     1745),\n",
       "       (1632182400, 111640., 112240., 110465., 111370.,      91, 5,      393),\n",
       "       (1632268800, 112785., 114770., 112635., 113560.,     199, 5,      475),\n",
       "       (1632355200, 114320., 115750., 113915., 115245.,     244, 5,     1101),\n",
       "       (1632441600, 114495., 115000., 113960., 115000.,     154, 5,      591),\n",
       "       (1632700800, 115015., 116070., 113650., 114700.,     252, 5,      673),\n",
       "       (1632787200, 113670., 114525., 111200., 111230.,    1543, 5,     3936),\n",
       "       (1632873600, 112200., 113295., 111715., 112270.,     536, 5,     1344),\n",
       "       (1632960000, 112805., 113615., 111655., 111875.,     298, 5,      974),\n",
       "       (1633046400, 112300., 114265., 112190., 114215.,     201, 5,      566),\n",
       "       (1633305600, 113415., 113625., 111105., 111515.,     196, 5,      592),\n",
       "       (1633392000, 112100., 112975., 111300., 111445.,     220, 5,      870),\n",
       "       (1633478400, 109640., 111990., 109300., 111990.,     284, 5,      900),\n",
       "       (1633564800, 112690., 112690., 111605., 111995.,    1019, 5,     2727),\n",
       "       (1633651200, 112100., 115450., 111995., 114120.,    9122, 5,    16782),\n",
       "       (1633910400, 114120., 115060., 113085., 113370.,   66558, 5,   174372),\n",
       "       (1634083200, 113370., 115440., 113145., 114345., 4902983, 5, 19190416),\n",
       "       (1634169600, 115295., 115530., 113750., 114655., 4726244, 5, 17469374),\n",
       "       (1634256000, 114870., 115940., 114110., 115560., 4039493, 5, 16365213),\n",
       "       (1634515200, 115060., 116060., 113750., 115890.,  970187, 0, 14008573)],\n",
       "      dtype=[('time', '<i8'), ('open', '<f8'), ('high', '<f8'), ('low', '<f8'), ('close', '<f8'), ('tick_volume', '<u8'), ('spread', '<i4'), ('real_volume', '<u8')])"
      ]
     },
     "execution_count": 22,
     "metadata": {},
     "output_type": "execute_result"
    }
   ],
   "source": [
    "mt5.copy_rates_from_pos('WINZ21',mt5.TIMEFRAME_D1, 0, 5000)"
   ]
  },
  {
   "cell_type": "code",
   "execution_count": 11,
   "metadata": {},
   "outputs": [],
   "source": [
    "ativo = 'WINZ21'"
   ]
  },
  {
   "cell_type": "code",
   "execution_count": 12,
   "metadata": {},
   "outputs": [],
   "source": [
    "winfut(ativo)"
   ]
  },
  {
   "cell_type": "code",
   "execution_count": 44,
   "metadata": {},
   "outputs": [],
   "source": [
    "ativo = mt5.symbol_info_tick(\"WINZ21\")"
   ]
  },
  {
   "cell_type": "code",
   "execution_count": 45,
   "metadata": {},
   "outputs": [
    {
     "data": {
      "text/plain": [
       "115865.0"
      ]
     },
     "execution_count": 45,
     "metadata": {},
     "output_type": "execute_result"
    }
   ],
   "source": [
    "ativo.last"
   ]
  },
  {
   "cell_type": "code",
   "execution_count": 48,
   "metadata": {},
   "outputs": [],
   "source": [
    "import sys"
   ]
  },
  {
   "cell_type": "code",
   "execution_count": 52,
   "metadata": {},
   "outputs": [
    {
     "name": "stdout",
     "output_type": "stream",
     "text": [
      "115830.0\n",
      "115835.0\n",
      "115830.0\n",
      "115835.0\n",
      "115830.0\n",
      "115830.0\n",
      "115830.0\n",
      "115830.0\n",
      "115835.0\n",
      "115830.0\n",
      "115835.0\n",
      "115840.0\n",
      "115835.0\n"
     ]
    },
    {
     "ename": "KeyboardInterrupt",
     "evalue": "",
     "output_type": "error",
     "traceback": [
      "\u001b[1;31m---------------------------------------------------------------------------\u001b[0m",
      "\u001b[1;31mKeyboardInterrupt\u001b[0m                         Traceback (most recent call last)",
      "\u001b[1;32m<ipython-input-52-3d4f98eac95c>\u001b[0m in \u001b[0;36m<module>\u001b[1;34m\u001b[0m\n\u001b[0;32m      4\u001b[0m     \u001b[0msys\u001b[0m\u001b[1;33m.\u001b[0m\u001b[0mstdout\u001b[0m\u001b[1;33m.\u001b[0m\u001b[0mflush\u001b[0m\u001b[1;33m(\u001b[0m\u001b[1;33m)\u001b[0m\u001b[1;33m\u001b[0m\u001b[1;33m\u001b[0m\u001b[0m\n\u001b[0;32m      5\u001b[0m \u001b[1;33m\u001b[0m\u001b[0m\n\u001b[1;32m----> 6\u001b[1;33m     \u001b[0mtime\u001b[0m\u001b[1;33m.\u001b[0m\u001b[0msleep\u001b[0m\u001b[1;33m(\u001b[0m\u001b[1;36m0.5\u001b[0m\u001b[1;33m)\u001b[0m\u001b[1;33m\u001b[0m\u001b[1;33m\u001b[0m\u001b[0m\n\u001b[0m",
      "\u001b[1;31mKeyboardInterrupt\u001b[0m: "
     ]
    }
   ],
   "source": [
    "while(True):\n",
    "    ativo = mt5.symbol_info_tick(\"WINZ21\")\n",
    "    print(\"\\r\" + str(ativo.last))\n",
    "    sys.stdout.flush()\n",
    "    \n",
    "    time.sleep(0.5)"
   ]
  },
  {
   "cell_type": "code",
   "execution_count": null,
   "metadata": {},
   "outputs": [],
   "source": []
  },
  {
   "cell_type": "code",
   "execution_count": null,
   "metadata": {},
   "outputs": [],
   "source": []
  },
  {
   "cell_type": "code",
   "execution_count": null,
   "metadata": {},
   "outputs": [],
   "source": []
  },
  {
   "cell_type": "code",
   "execution_count": null,
   "metadata": {},
   "outputs": [],
   "source": []
  },
  {
   "cell_type": "code",
   "execution_count": null,
   "metadata": {},
   "outputs": [],
   "source": []
  },
  {
   "cell_type": "code",
   "execution_count": null,
   "metadata": {},
   "outputs": [
    {
     "name": "stdout",
     "output_type": "stream",
     "text": [
      "107730.0"
     ]
    }
   ],
   "source": [
    "import sys\n",
    "import MetaTrader5 as mt5\n",
    "import time\n",
    "\n",
    "mt5.initialize()\n",
    "\n",
    "while(True):\n",
    "    ativo = mt5.symbol_info_tick(\"WINZ21\")\n",
    "    sys.stdout.write(\"\\r\" + str(ativo.last))\n",
    "    sys.stdout.flush()\n",
    "    \n",
    "    time.sleep(0.5)"
   ]
  },
  {
   "cell_type": "code",
   "execution_count": null,
   "metadata": {},
   "outputs": [],
   "source": []
  },
  {
   "cell_type": "code",
   "execution_count": null,
   "metadata": {},
   "outputs": [],
   "source": []
  },
  {
   "cell_type": "code",
   "execution_count": null,
   "metadata": {},
   "outputs": [],
   "source": []
  },
  {
   "cell_type": "code",
   "execution_count": null,
   "metadata": {},
   "outputs": [],
   "source": []
  },
  {
   "cell_type": "code",
   "execution_count": null,
   "metadata": {},
   "outputs": [],
   "source": []
  },
  {
   "cell_type": "code",
   "execution_count": null,
   "metadata": {},
   "outputs": [],
   "source": []
  },
  {
   "cell_type": "code",
   "execution_count": null,
   "metadata": {},
   "outputs": [],
   "source": []
  },
  {
   "cell_type": "code",
   "execution_count": null,
   "metadata": {},
   "outputs": [],
   "source": []
  },
  {
   "cell_type": "code",
   "execution_count": null,
   "metadata": {},
   "outputs": [],
   "source": [
    "import sys\n",
    "import MetaTrader5 as mt5\n",
    "import time\n",
    "import streamlit as st"
   ]
  },
  {
   "cell_type": "code",
   "execution_count": null,
   "metadata": {},
   "outputs": [],
   "source": [
    "mt5.initialize()"
   ]
  },
  {
   "cell_type": "code",
   "execution_count": 53,
   "metadata": {},
   "outputs": [
    {
     "name": "stdout",
     "output_type": "stream",
     "text": [
      "115735.0"
     ]
    },
    {
     "ename": "KeyboardInterrupt",
     "evalue": "",
     "output_type": "error",
     "traceback": [
      "\u001b[1;31m---------------------------------------------------------------------------\u001b[0m",
      "\u001b[1;31mKeyboardInterrupt\u001b[0m                         Traceback (most recent call last)",
      "\u001b[1;32m<ipython-input-53-ce5636c87f0d>\u001b[0m in \u001b[0;36m<module>\u001b[1;34m\u001b[0m\n\u001b[0;32m      4\u001b[0m     \u001b[0msys\u001b[0m\u001b[1;33m.\u001b[0m\u001b[0mstdout\u001b[0m\u001b[1;33m.\u001b[0m\u001b[0mflush\u001b[0m\u001b[1;33m(\u001b[0m\u001b[1;33m)\u001b[0m\u001b[1;33m\u001b[0m\u001b[1;33m\u001b[0m\u001b[0m\n\u001b[0;32m      5\u001b[0m \u001b[1;33m\u001b[0m\u001b[0m\n\u001b[1;32m----> 6\u001b[1;33m     \u001b[0mtime\u001b[0m\u001b[1;33m.\u001b[0m\u001b[0msleep\u001b[0m\u001b[1;33m(\u001b[0m\u001b[1;36m0.5\u001b[0m\u001b[1;33m)\u001b[0m\u001b[1;33m\u001b[0m\u001b[1;33m\u001b[0m\u001b[0m\n\u001b[0m",
      "\u001b[1;31mKeyboardInterrupt\u001b[0m: "
     ]
    }
   ],
   "source": [
    "while(True):\n",
    "    ativo = mt5.symbol_info_tick(\"WINZ21\")\n",
    "    sys.stdout.write(\"\\r\" + str(ativo.last))\n",
    "    sys.stdout.flush()\n",
    "    \n",
    "    time.sleep(0.5)"
   ]
  },
  {
   "cell_type": "code",
   "execution_count": 8,
   "metadata": {},
   "outputs": [
    {
     "name": "stdout",
     "output_type": "stream",
     "text": [
      "999"
     ]
    }
   ],
   "source": [
    "import time\n",
    "import sys\n",
    "\n",
    "for i in range(1000):\n",
    "    #print(i)\n",
    "    sys.stdout.write('\\r' + str(i))\n",
    "    #sys.stdout.flush()\n",
    "    time.sleep(1)"
   ]
  },
  {
   "cell_type": "code",
   "execution_count": null,
   "metadata": {},
   "outputs": [],
   "source": []
  },
  {
   "cell_type": "code",
   "execution_count": null,
   "metadata": {},
   "outputs": [],
   "source": []
  },
  {
   "cell_type": "code",
   "execution_count": null,
   "metadata": {},
   "outputs": [],
   "source": []
  },
  {
   "cell_type": "code",
   "execution_count": null,
   "metadata": {},
   "outputs": [],
   "source": []
  },
  {
   "cell_type": "code",
   "execution_count": null,
   "metadata": {},
   "outputs": [],
   "source": []
  },
  {
   "cell_type": "markdown",
   "metadata": {},
   "source": [
    "# 1. Checklist"
   ]
  },
  {
   "cell_type": "markdown",
   "metadata": {},
   "source": [
    "Funções básicas que devemos fazer com o metatrader\n",
    "\n",
    "1. Instalar Metatrader\n",
    "\n",
    "2. Configurar Metatrader junto à sua corretora de preferência\n",
    "\n",
    "3. Instalar biblioteca Metatrader5 no Python\n",
    "\n",
    "4. Abrir Metatrader via Python\n",
    "\n",
    "5. Obter dados de ativos do Metatrader via Python\n",
    "\n",
    "    5.1. Dados de ticks\n",
    "    \n",
    "    5.2. Dados de negociação\n",
    "    \n",
    "    5.3. Dados de oferta (books)\n",
    "    \n",
    "    5.4. Dados de volume\n",
    "    \n",
    "  \n",
    "6. Como mandar ordens pelo Python"
   ]
  },
  {
   "cell_type": "markdown",
   "metadata": {},
   "source": [
    "# 2. Abrindo bibliotecas"
   ]
  },
  {
   "cell_type": "code",
   "execution_count": 63,
   "metadata": {},
   "outputs": [],
   "source": [
    "from datetime import datetime\n",
    "import matplotlib.pyplot as plt\n",
    "import pandas as pd\n",
    "from pandas.plotting import register_matplotlib_converters\n",
    "register_matplotlib_converters()\n",
    "import MetaTrader5 as mt5\n",
    "import pytz"
   ]
  },
  {
   "cell_type": "markdown",
   "metadata": {},
   "source": [
    "# 3. Primeiros passos"
   ]
  },
  {
   "cell_type": "markdown",
   "metadata": {},
   "source": [
    "Se a sua conta estiver OK junto à corretora, login será automático ao acionar o Metatrader pelo método abaixo"
   ]
  },
  {
   "cell_type": "code",
   "execution_count": 269,
   "metadata": {},
   "outputs": [
    {
     "data": {
      "text/plain": [
       "True"
      ]
     },
     "execution_count": 269,
     "metadata": {},
     "output_type": "execute_result"
    }
   ],
   "source": [
    "mt5.initialize()"
   ]
  },
  {
   "cell_type": "markdown",
   "metadata": {},
   "source": [
    "Uma outra opção é pedir que ele exiba uma mensagem caso a inicialização não funcione"
   ]
  },
  {
   "cell_type": "code",
   "execution_count": 71,
   "metadata": {},
   "outputs": [],
   "source": [
    "# conecte-se ao MetaTrader 5\n",
    "if not mt5.initialize():\n",
    "    print(\"initialize() failed\")\n",
    "    mt5.shutdown()"
   ]
  },
  {
   "cell_type": "markdown",
   "metadata": {},
   "source": [
    "Você também pode fazer o login pelo Python, embora não preciso aqui pois o software já possui minhas informações de login"
   ]
  },
  {
   "cell_type": "code",
   "execution_count": null,
   "metadata": {},
   "outputs": [],
   "source": [
    "mt5.login(\n",
    "   login,                    # número da conta\n",
    "   password=\"PASSWORD\",      # senha\n",
    "   server=\"SERVER\",          # nome do servidor como definido no terminal\n",
    "   timeout=TIMEOUT           # tempo de espera esgotado (opcional)\n",
    "   )"
   ]
  },
  {
   "cell_type": "code",
   "execution_count": 4,
   "metadata": {},
   "outputs": [
    {
     "data": {
      "text/plain": [
       "(500, 2981, '21 Jun 2021')"
      ]
     },
     "execution_count": 4,
     "metadata": {},
     "output_type": "execute_result"
    }
   ],
   "source": [
    "# obtemos informações sobre a versão do MetaTrader 5\n",
    "mt5.version()"
   ]
  },
  {
   "cell_type": "code",
   "execution_count": 5,
   "metadata": {},
   "outputs": [
    {
     "data": {
      "text/plain": [
       "TerminalInfo(community_account=False, community_connection=False, connected=True, dlls_allowed=False, trade_allowed=False, tradeapi_disabled=False, email_enabled=False, ftp_enabled=False, notifications_enabled=False, mqid=False, build=2981, maxbars=100000, codepage=1252, ping_last=6156, community_balance=0.0, retransmission=0.0, company='MetaQuotes Software Corp.', name='MetaTrader 5', language='Portuguese (Brazil)', path='C:\\\\Program Files\\\\MetaTrader 5', data_path='C:\\\\Users\\\\victo\\\\AppData\\\\Roaming\\\\MetaQuotes\\\\Terminal\\\\D0E8209F77C8CF37AD8BF550E51FF075', commondata_path='C:\\\\Users\\\\victo\\\\AppData\\\\Roaming\\\\MetaQuotes\\\\Terminal\\\\Common')"
      ]
     },
     "execution_count": 5,
     "metadata": {},
     "output_type": "execute_result"
    }
   ],
   "source": [
    "# consultamos o estado e os parâmetros de conexão\n",
    "mt5.terminal_info()"
   ]
  },
  {
   "cell_type": "code",
   "execution_count": 9,
   "metadata": {},
   "outputs": [
    {
     "data": {
      "text/plain": [
       "AccountInfo(login=1000080735, trade_mode=2, leverage=1, limit_orders=0, margin_so_mode=1, trade_allowed=True, trade_expert=True, margin_mode=0, currency_digits=2, fifo_close=False, balance=0.0, credit=0.0, profit=0.0, equity=0.0, margin=0.0, margin_free=0.0, margin_level=0.0, margin_so_call=0.0, margin_so_so=0.0, margin_initial=0.0, margin_maintenance=0.0, assets=0.0, liabilities=0.0, commission_blocked=0.0, name='VICTOR NOGUEIRA CORTEZ GOMES', server='ClearInvestimentos-CLEAR', currency='BRL', company='Clear (XP Investimentos CCTVM)')"
      ]
     },
     "execution_count": 9,
     "metadata": {},
     "output_type": "execute_result"
    }
   ],
   "source": [
    "mt5.account_info()"
   ]
  },
  {
   "cell_type": "markdown",
   "metadata": {},
   "source": [
    "Quantos instrumentos financeiros?"
   ]
  },
  {
   "cell_type": "code",
   "execution_count": 10,
   "metadata": {},
   "outputs": [
    {
     "data": {
      "text/plain": [
       "21961"
      ]
     },
     "execution_count": 10,
     "metadata": {},
     "output_type": "execute_result"
    }
   ],
   "source": [
    "mt5.symbols_total()"
   ]
  },
  {
   "cell_type": "markdown",
   "metadata": {},
   "source": [
    "Que ticks são esses?"
   ]
  },
  {
   "cell_type": "code",
   "execution_count": 16,
   "metadata": {},
   "outputs": [
    {
     "data": {
      "text/plain": [
       "(SymbolInfo(custom=False, chart_mode=1, select=False, visible=False, session_deals=0, session_buy_orders=0, session_sell_orders=0, volume=0, volumehigh=0, volumelow=0, time=0, digits=2, spread=0, spread_float=True, ticks_bookdepth=32, trade_calc_mode=32, trade_mode=4, start_time=0, expiration_time=0, trade_stops_level=0, trade_freeze_level=0, trade_exemode=3, swap_mode=0, swap_rollover3days=3, margin_hedged_use_leg=False, expiration_mode=2, filling_mode=3, order_mode=127, order_gtc_mode=0, option_mode=0, option_right=0, bid=0.0, bidhigh=0.0, bidlow=0.0, ask=0.0, askhigh=0.0, asklow=0.0, last=0.0, lasthigh=0.0, lastlow=0.0, volume_real=0.0, volumehigh_real=0.0, volumelow_real=0.0, option_strike=0.0, point=0.01, trade_tick_value=0.01, trade_tick_value_profit=0.01, trade_tick_value_loss=0.01, trade_tick_size=0.01, trade_contract_size=1.0, trade_accrued_interest=0.0, trade_face_value=0.0, trade_liquidity_rate=0.0, volume_min=1.0, volume_max=1653017000.0, volume_step=1.0, volume_limit=0.0, swap_long=0.0, swap_short=0.0, margin_initial=0.0, margin_maintenance=0.0, session_volume=0.0, session_turnover=0.0, session_interest=0.0, session_buy_orders_volume=0.0, session_sell_orders_volume=0.0, session_open=0.0, session_close=0.0, session_aw=0.0, session_price_settlement=0.0, session_price_limit_min=0.0, session_price_limit_max=0.0, margin_hedged=0.0, price_change=0.0, price_volatility=0.0, price_theoretical=0.0, price_greeks_delta=0.0, price_greeks_theta=0.0, price_greeks_gamma=0.0, price_greeks_vega=0.0, price_greeks_rho=0.0, price_greeks_omega=0.0, price_sensitivity=0.0, basis='', category='', currency_base='BRL', currency_profit='BRL', currency_margin='BRL', bank='', description='APPLE       DRN', exchange='', formula='', isin='BRAAPLBDR004', name='AAPL34', page='', path='BOVESPA\\\\A VISTA\\\\AAPL34'),)"
      ]
     },
     "execution_count": 16,
     "metadata": {},
     "output_type": "execute_result"
    }
   ],
   "source": [
    "mt5.symbols_get('AAPL')"
   ]
  },
  {
   "cell_type": "code",
   "execution_count": 29,
   "metadata": {},
   "outputs": [],
   "source": [
    "dict_weg = mt5.symbols_get('WEGE')[0]._asdict()"
   ]
  },
  {
   "cell_type": "code",
   "execution_count": 30,
   "metadata": {},
   "outputs": [
    {
     "data": {
      "text/plain": [
       "'BOVESPA\\\\A VISTA\\\\WEGE3'"
      ]
     },
     "execution_count": 30,
     "metadata": {},
     "output_type": "execute_result"
    }
   ],
   "source": [
    "dict_weg['path']"
   ]
  },
  {
   "cell_type": "code",
   "execution_count": 33,
   "metadata": {},
   "outputs": [
    {
     "data": {
      "text/plain": [
       "SymbolInfo(custom=False, chart_mode=1, select=True, visible=True, session_deals=9760, session_buy_orders=0, session_sell_orders=0, volume=100, volumehigh=23200, volumelow=100, time=1632748956, digits=2, spread=1, spread_float=True, ticks_bookdepth=32, trade_calc_mode=32, trade_mode=4, start_time=0, expiration_time=0, trade_stops_level=0, trade_freeze_level=0, trade_exemode=3, swap_mode=0, swap_rollover3days=3, margin_hedged_use_leg=False, expiration_mode=2, filling_mode=3, order_mode=127, order_gtc_mode=0, option_mode=0, option_right=0, bid=40.96, bidhigh=41.14, bidlow=40.42, ask=40.97, askhigh=41.16, asklow=40.45, last=40.97, lasthigh=41.16, lastlow=40.42, volume_real=100.0, volumehigh_real=23200.0, volumelow_real=100.0, option_strike=0.0, point=0.01, trade_tick_value=0.01, trade_tick_value_profit=0.01, trade_tick_value_loss=0.01, trade_tick_size=0.01, trade_contract_size=1.0, trade_accrued_interest=0.0, trade_face_value=0.0, trade_liquidity_rate=0.0, volume_min=100.0, volume_max=41973180.0, volume_step=100.0, volume_limit=0.0, swap_long=0.0, swap_short=0.0, margin_initial=0.0, margin_maintenance=0.0, session_volume=2510900.0, session_turnover=0.0, session_interest=0.0, session_buy_orders_volume=0.0, session_sell_orders_volume=0.0, session_open=41.06, session_close=41.32, session_aw=40.79, session_price_settlement=0.0, session_price_limit_min=0.0, session_price_limit_max=0.0, margin_hedged=0.0, price_change=-0.847, price_volatility=0.0, price_theoretical=0.0, price_greeks_delta=0.0, price_greeks_theta=0.0, price_greeks_gamma=0.0, price_greeks_vega=0.0, price_greeks_rho=0.0, price_greeks_omega=0.0, price_sensitivity=0.0, basis='', category='', currency_base='BRL', currency_profit='BRL', currency_margin='BRL', bank='', description='WEG         ON  EJ  NM', exchange='', formula='', isin='BRWEGEACNOR0', name='WEGE3', page='', path='BOVESPA\\\\A VISTA\\\\WEGE3')"
      ]
     },
     "execution_count": 33,
     "metadata": {},
     "output_type": "execute_result"
    }
   ],
   "source": [
    "mt5.symbol_info(\"WEGE3\")"
   ]
  },
  {
   "cell_type": "code",
   "execution_count": 34,
   "metadata": {},
   "outputs": [
    {
     "data": {
      "text/plain": [
       "Tick(time=1632748989, bid=40.97, ask=40.98, last=40.97, volume=100, time_msc=1632748989355, flags=6, volume_real=100.0)"
      ]
     },
     "execution_count": 34,
     "metadata": {},
     "output_type": "execute_result"
    }
   ],
   "source": [
    "mt5.symbol_info_tick(\"WEGE3\")"
   ]
  },
  {
   "cell_type": "code",
   "execution_count": 35,
   "metadata": {},
   "outputs": [
    {
     "data": {
      "text/plain": [
       "Tick(time=1632748989, bid=40.97, ask=40.98, last=40.97, volume=100, time_msc=1632748989355, flags=6, volume_real=100.0)"
      ]
     },
     "execution_count": 35,
     "metadata": {},
     "output_type": "execute_result"
    }
   ],
   "source": [
    "mt5.symbol_info_tick(\"WEGE3\")"
   ]
  },
  {
   "cell_type": "code",
   "execution_count": 36,
   "metadata": {},
   "outputs": [
    {
     "data": {
      "text/plain": [
       "Tick(time=1632749023, bid=40.97, ask=40.98, last=40.98, volume=100, time_msc=1632749023245, flags=0, volume_real=100.0)"
      ]
     },
     "execution_count": 36,
     "metadata": {},
     "output_type": "execute_result"
    }
   ],
   "source": [
    "mt5.symbol_info_tick(\"WEGE3\")"
   ]
  },
  {
   "cell_type": "code",
   "execution_count": 37,
   "metadata": {},
   "outputs": [],
   "source": [
    "import time\n",
    "\n",
    "t_end = time.time() + 60 * 1"
   ]
  },
  {
   "cell_type": "code",
   "execution_count": 38,
   "metadata": {},
   "outputs": [
    {
     "name": "stdout",
     "output_type": "stream",
     "text": [
      "Tick(time=1632749229, bid=27.39, ask=27.41, last=27.41, volume=100, time_msc=1632749229820, flags=0, volume_real=100.0)\n",
      "Tick(time=1632749232, bid=27.39, ask=27.41, last=27.39, volume=100, time_msc=1632749232268, flags=0, volume_real=100.0)\n",
      "Tick(time=1632749233, bid=27.39, ask=27.41, last=27.39, volume=200, time_msc=1632749233455, flags=88, volume_real=200.0)\n",
      "Tick(time=1632749236, bid=27.39, ask=27.41, last=27.4, volume=1000, time_msc=1632749236520, flags=0, volume_real=1000.0)\n",
      "Tick(time=1632749238, bid=27.39, ask=27.41, last=27.41, volume=100, time_msc=1632749238599, flags=0, volume_real=100.0)\n",
      "Tick(time=1632749240, bid=27.38, ask=27.4, last=27.4, volume=300, time_msc=1632749240596, flags=56, volume_real=300.0)\n",
      "Tick(time=1632749241, bid=27.38, ask=27.4, last=27.38, volume=100, time_msc=1632749241017, flags=0, volume_real=100.0)\n",
      "Tick(time=1632749244, bid=27.38, ask=27.4, last=27.38, volume=400, time_msc=1632749244673, flags=88, volume_real=400.0)\n",
      "Tick(time=1632749246, bid=27.38, ask=27.4, last=27.4, volume=100, time_msc=1632749246397, flags=0, volume_real=100.0)\n",
      "Tick(time=1632749247, bid=27.38, ask=27.4, last=27.4, volume=100, time_msc=1632749247214, flags=56, volume_real=100.0)\n",
      "Tick(time=1632749250, bid=27.38, ask=27.4, last=27.4, volume=200, time_msc=1632749250224, flags=4, volume_real=200.0)\n",
      "Tick(time=1632749252, bid=27.38, ask=27.39, last=27.38, volume=2000, time_msc=1632749252836, flags=0, volume_real=2000.0)\n",
      "Tick(time=1632749254, bid=27.39, ask=27.4, last=27.4, volume=100, time_msc=1632749254316, flags=2, volume_real=100.0)\n",
      "Tick(time=1632749256, bid=27.39, ask=27.4, last=27.39, volume=200, time_msc=1632749256872, flags=0, volume_real=200.0)\n",
      "Tick(time=1632749258, bid=27.38, ask=27.4, last=27.38, volume=100, time_msc=1632749258734, flags=0, volume_real=100.0)\n",
      "Tick(time=1632749260, bid=27.39, ask=27.4, last=27.4, volume=200, time_msc=1632749260807, flags=0, volume_real=200.0)\n",
      "Tick(time=1632749262, bid=27.39, ask=27.41, last=27.39, volume=100, time_msc=1632749262827, flags=0, volume_real=100.0)\n",
      "Tick(time=1632749264, bid=27.39, ask=27.41, last=27.4, volume=1000, time_msc=1632749264781, flags=0, volume_real=1000.0)\n",
      "Tick(time=1632749266, bid=27.39, ask=27.41, last=27.39, volume=100, time_msc=1632749266842, flags=0, volume_real=100.0)\n",
      "Tick(time=1632749268, bid=27.39, ask=27.41, last=27.4, volume=1000, time_msc=1632749268831, flags=0, volume_real=1000.0)\n",
      "Tick(time=1632749270, bid=27.39, ask=27.41, last=27.39, volume=100, time_msc=1632749270873, flags=0, volume_real=100.0)\n",
      "Tick(time=1632749272, bid=27.39, ask=27.41, last=27.4, volume=100, time_msc=1632749272857, flags=0, volume_real=100.0)\n",
      "Tick(time=1632749274, bid=27.39, ask=27.41, last=27.4, volume=1000, time_msc=1632749274840, flags=0, volume_real=1000.0)\n",
      "Tick(time=1632749276, bid=27.39, ask=27.41, last=27.4, volume=1000, time_msc=1632749276761, flags=0, volume_real=1000.0)\n",
      "Tick(time=1632749278, bid=27.4, ask=27.41, last=27.4, volume=500, time_msc=1632749278274, flags=0, volume_real=500.0)\n",
      "Tick(time=1632749280, bid=27.4, ask=27.41, last=27.41, volume=100, time_msc=1632749280979, flags=0, volume_real=100.0)\n",
      "Tick(time=1632749282, bid=27.4, ask=27.41, last=27.41, volume=100, time_msc=1632749282981, flags=0, volume_real=100.0)\n",
      "Tick(time=1632749284, bid=27.4, ask=27.41, last=27.4, volume=200, time_msc=1632749284511, flags=0, volume_real=200.0)\n",
      "Tick(time=1632749286, bid=27.4, ask=27.41, last=27.4, volume=200, time_msc=1632749286016, flags=0, volume_real=200.0)\n",
      "Tick(time=1632749288, bid=27.4, ask=27.41, last=27.4, volume=100, time_msc=1632749288973, flags=0, volume_real=100.0)\n"
     ]
    }
   ],
   "source": [
    "import time\n",
    "\n",
    "t_end = time.time() + 60 * 1\n",
    "\n",
    "while time.time() < t_end:\n",
    "\n",
    "    x = mt5.symbol_info_tick(\"PETR4\")\n",
    "    \n",
    "    print(x)\n",
    "\n",
    "    time.sleep(2)"
   ]
  },
  {
   "cell_type": "markdown",
   "metadata": {},
   "source": [
    "Quando terminarmos as nossas tarefas"
   ]
  },
  {
   "cell_type": "code",
   "execution_count": 6,
   "metadata": {},
   "outputs": [
    {
     "data": {
      "text/plain": [
       "True"
      ]
     },
     "execution_count": 6,
     "metadata": {},
     "output_type": "execute_result"
    }
   ],
   "source": [
    "# concluímos a conexão ao terminal MetaTrader 5\n",
    "mt5.shutdown()"
   ]
  },
  {
   "cell_type": "code",
   "execution_count": 30,
   "metadata": {},
   "outputs": [],
   "source": [
    "ativo = 'ITUB4'"
   ]
  },
  {
   "cell_type": "markdown",
   "metadata": {},
   "source": [
    "## Pesquisando por símbolos"
   ]
  },
  {
   "cell_type": "code",
   "execution_count": 19,
   "metadata": {},
   "outputs": [
    {
     "data": {
      "text/plain": [
       "(SymbolInfo(custom=False, chart_mode=1, select=False, visible=False, session_deals=0, session_buy_orders=0, session_sell_orders=0, volume=0, volumehigh=0, volumelow=0, time=0, digits=0, spread=0, spread_float=True, ticks_bookdepth=32, trade_calc_mode=33, trade_mode=0, start_time=0, expiration_time=0, trade_stops_level=0, trade_freeze_level=0, trade_exemode=3, swap_mode=0, swap_rollover3days=3, margin_hedged_use_leg=False, expiration_mode=2, filling_mode=3, order_mode=127, order_gtc_mode=2, option_mode=0, option_right=0, bid=0.0, bidhigh=0.0, bidlow=0.0, ask=0.0, askhigh=0.0, asklow=0.0, last=0.0, lasthigh=0.0, lastlow=0.0, volume_real=0.0, volumehigh_real=0.0, volumelow_real=0.0, option_strike=0.0, point=1.0, trade_tick_value=0.2, trade_tick_value_profit=0.2, trade_tick_value_loss=0.2, trade_tick_size=1.0, trade_contract_size=1.0, trade_accrued_interest=0.0, trade_face_value=0.0, trade_liquidity_rate=0.0, volume_min=1.0, volume_max=10000.0, volume_step=1.0, volume_limit=0.0, swap_long=0.0, swap_short=0.0, margin_initial=0.0, margin_maintenance=0.0, session_volume=0.0, session_turnover=0.0, session_interest=0.0, session_buy_orders_volume=0.0, session_sell_orders_volume=0.0, session_open=0.0, session_close=0.0, session_aw=0.0, session_price_settlement=0.0, session_price_limit_min=0.0, session_price_limit_max=0.0, margin_hedged=0.0, price_change=0.0, price_volatility=0.0, price_theoretical=0.0, price_greeks_delta=0.0, price_greeks_theta=0.0, price_greeks_gamma=0.0, price_greeks_vega=0.0, price_greeks_rho=0.0, price_greeks_omega=0.0, price_sensitivity=0.0, basis='', category='', currency_base='BRL', currency_profit='BRL', currency_margin='BRL', bank='', description='IBOVESPA MINI - Por Liquidez (WINZ21) - Ajuste Proporcional', exchange='', formula='', isin='BRBMEFWIN2V0', name='WIN$', page='', path='BMF\\\\SERIES CONTINUAS\\\\WIN$'),\n",
       " SymbolInfo(custom=False, chart_mode=1, select=False, visible=False, session_deals=0, session_buy_orders=0, session_sell_orders=0, volume=0, volumehigh=0, volumelow=0, time=0, digits=0, spread=0, spread_float=True, ticks_bookdepth=32, trade_calc_mode=33, trade_mode=0, start_time=0, expiration_time=0, trade_stops_level=0, trade_freeze_level=0, trade_exemode=3, swap_mode=0, swap_rollover3days=3, margin_hedged_use_leg=False, expiration_mode=2, filling_mode=3, order_mode=127, order_gtc_mode=2, option_mode=0, option_right=0, bid=0.0, bidhigh=0.0, bidlow=0.0, ask=0.0, askhigh=0.0, asklow=0.0, last=0.0, lasthigh=0.0, lastlow=0.0, volume_real=0.0, volumehigh_real=0.0, volumelow_real=0.0, option_strike=0.0, point=1.0, trade_tick_value=1.0, trade_tick_value_profit=1.0, trade_tick_value_loss=1.0, trade_tick_size=5.0, trade_contract_size=1.0, trade_accrued_interest=0.0, trade_face_value=0.0, trade_liquidity_rate=0.0, volume_min=1.0, volume_max=10000.0, volume_step=1.0, volume_limit=0.0, swap_long=0.0, swap_short=0.0, margin_initial=0.0, margin_maintenance=0.0, session_volume=0.0, session_turnover=0.0, session_interest=0.0, session_buy_orders_volume=0.0, session_sell_orders_volume=0.0, session_open=0.0, session_close=0.0, session_aw=0.0, session_price_settlement=0.0, session_price_limit_min=0.0, session_price_limit_max=0.0, margin_hedged=0.0, price_change=0.0, price_volatility=0.0, price_theoretical=0.0, price_greeks_delta=0.0, price_greeks_theta=0.0, price_greeks_gamma=0.0, price_greeks_vega=0.0, price_greeks_rho=0.0, price_greeks_omega=0.0, price_sensitivity=0.0, basis='', category='', currency_base='BRL', currency_profit='BRL', currency_margin='BRL', bank='', description='IBOVESPA MINI - Por Liquidez (WINZ21) - Ajuste por Diferença', exchange='', formula='', isin='BRBMEFWIN2V0', name='WIN$D', page='', path='BMF\\\\SERIES CONTINUAS\\\\WIN$D'),\n",
       " SymbolInfo(custom=False, chart_mode=1, select=False, visible=False, session_deals=0, session_buy_orders=0, session_sell_orders=0, volume=0, volumehigh=0, volumelow=0, time=0, digits=0, spread=0, spread_float=True, ticks_bookdepth=32, trade_calc_mode=33, trade_mode=0, start_time=0, expiration_time=0, trade_stops_level=0, trade_freeze_level=0, trade_exemode=3, swap_mode=0, swap_rollover3days=3, margin_hedged_use_leg=False, expiration_mode=2, filling_mode=3, order_mode=127, order_gtc_mode=2, option_mode=0, option_right=0, bid=0.0, bidhigh=0.0, bidlow=0.0, ask=0.0, askhigh=0.0, asklow=0.0, last=0.0, lasthigh=0.0, lastlow=0.0, volume_real=0.0, volumehigh_real=0.0, volumelow_real=0.0, option_strike=0.0, point=1.0, trade_tick_value=1.0, trade_tick_value_profit=1.0, trade_tick_value_loss=1.0, trade_tick_size=5.0, trade_contract_size=1.0, trade_accrued_interest=0.0, trade_face_value=0.0, trade_liquidity_rate=0.0, volume_min=1.0, volume_max=10000.0, volume_step=1.0, volume_limit=0.0, swap_long=0.0, swap_short=0.0, margin_initial=0.0, margin_maintenance=0.0, session_volume=0.0, session_turnover=0.0, session_interest=0.0, session_buy_orders_volume=0.0, session_sell_orders_volume=0.0, session_open=0.0, session_close=0.0, session_aw=0.0, session_price_settlement=0.0, session_price_limit_min=0.0, session_price_limit_max=0.0, margin_hedged=0.0, price_change=0.0, price_volatility=0.0, price_theoretical=0.0, price_greeks_delta=0.0, price_greeks_theta=0.0, price_greeks_gamma=0.0, price_greeks_vega=0.0, price_greeks_rho=0.0, price_greeks_omega=0.0, price_sensitivity=0.0, basis='', category='', currency_base='BRL', currency_profit='BRL', currency_margin='BRL', bank='', description='IBOVESPA MINI - Por Liquidez (WINZ21) - Sem Ajustes', exchange='', formula='', isin='BRBMEFWIN2V0', name='WIN$N', page='', path='BMF\\\\SERIES CONTINUAS\\\\WIN$N'),\n",
       " SymbolInfo(custom=False, chart_mode=1, select=False, visible=False, session_deals=0, session_buy_orders=0, session_sell_orders=0, volume=0, volumehigh=0, volumelow=0, time=0, digits=0, spread=0, spread_float=True, ticks_bookdepth=32, trade_calc_mode=33, trade_mode=0, start_time=0, expiration_time=0, trade_stops_level=0, trade_freeze_level=0, trade_exemode=3, swap_mode=0, swap_rollover3days=3, margin_hedged_use_leg=False, expiration_mode=2, filling_mode=3, order_mode=127, order_gtc_mode=2, option_mode=0, option_right=0, bid=0.0, bidhigh=0.0, bidlow=0.0, ask=0.0, askhigh=0.0, asklow=0.0, last=0.0, lasthigh=0.0, lastlow=0.0, volume_real=0.0, volumehigh_real=0.0, volumelow_real=0.0, option_strike=0.0, point=1.0, trade_tick_value=0.2, trade_tick_value_profit=0.2, trade_tick_value_loss=0.2, trade_tick_size=1.0, trade_contract_size=1.0, trade_accrued_interest=0.0, trade_face_value=0.0, trade_liquidity_rate=0.0, volume_min=1.0, volume_max=10000.0, volume_step=1.0, volume_limit=0.0, swap_long=0.0, swap_short=0.0, margin_initial=0.0, margin_maintenance=0.0, session_volume=0.0, session_turnover=0.0, session_interest=0.0, session_buy_orders_volume=0.0, session_sell_orders_volume=0.0, session_open=0.0, session_close=0.0, session_aw=0.0, session_price_settlement=0.0, session_price_limit_min=0.0, session_price_limit_max=0.0, margin_hedged=0.0, price_change=0.0, price_volatility=0.0, price_theoretical=0.0, price_greeks_delta=0.0, price_greeks_theta=0.0, price_greeks_gamma=0.0, price_greeks_vega=0.0, price_greeks_rho=0.0, price_greeks_omega=0.0, price_sensitivity=0.0, basis='', category='', currency_base='BRL', currency_profit='BRL', currency_margin='BRL', bank='', description='IBOVESPA MINI - Por Vencimento (WINZ21) - Ajuste Proporcional', exchange='', formula='', isin='BRBMEFWIN2V0', name='WIN@', page='', path='BMF\\\\SERIES CONTINUAS\\\\WIN@'),\n",
       " SymbolInfo(custom=False, chart_mode=1, select=False, visible=False, session_deals=0, session_buy_orders=0, session_sell_orders=0, volume=0, volumehigh=0, volumelow=0, time=0, digits=0, spread=0, spread_float=True, ticks_bookdepth=32, trade_calc_mode=33, trade_mode=0, start_time=0, expiration_time=0, trade_stops_level=0, trade_freeze_level=0, trade_exemode=3, swap_mode=0, swap_rollover3days=3, margin_hedged_use_leg=False, expiration_mode=2, filling_mode=3, order_mode=127, order_gtc_mode=2, option_mode=0, option_right=0, bid=0.0, bidhigh=0.0, bidlow=0.0, ask=0.0, askhigh=0.0, asklow=0.0, last=0.0, lasthigh=0.0, lastlow=0.0, volume_real=0.0, volumehigh_real=0.0, volumelow_real=0.0, option_strike=0.0, point=1.0, trade_tick_value=1.0, trade_tick_value_profit=1.0, trade_tick_value_loss=1.0, trade_tick_size=5.0, trade_contract_size=1.0, trade_accrued_interest=0.0, trade_face_value=0.0, trade_liquidity_rate=0.0, volume_min=1.0, volume_max=10000.0, volume_step=1.0, volume_limit=0.0, swap_long=0.0, swap_short=0.0, margin_initial=0.0, margin_maintenance=0.0, session_volume=0.0, session_turnover=0.0, session_interest=0.0, session_buy_orders_volume=0.0, session_sell_orders_volume=0.0, session_open=0.0, session_close=0.0, session_aw=0.0, session_price_settlement=0.0, session_price_limit_min=0.0, session_price_limit_max=0.0, margin_hedged=0.0, price_change=0.0, price_volatility=0.0, price_theoretical=0.0, price_greeks_delta=0.0, price_greeks_theta=0.0, price_greeks_gamma=0.0, price_greeks_vega=0.0, price_greeks_rho=0.0, price_greeks_omega=0.0, price_sensitivity=0.0, basis='', category='', currency_base='BRL', currency_profit='BRL', currency_margin='BRL', bank='', description='IBOVESPA MINI - Por Vencimento (WINZ21) - Ajuste por Diferença', exchange='', formula='', isin='BRBMEFWIN2V0', name='WIN@D', page='', path='BMF\\\\SERIES CONTINUAS\\\\WIN@D'),\n",
       " SymbolInfo(custom=False, chart_mode=1, select=False, visible=False, session_deals=0, session_buy_orders=0, session_sell_orders=0, volume=0, volumehigh=0, volumelow=0, time=0, digits=0, spread=0, spread_float=True, ticks_bookdepth=32, trade_calc_mode=33, trade_mode=0, start_time=0, expiration_time=0, trade_stops_level=0, trade_freeze_level=0, trade_exemode=3, swap_mode=0, swap_rollover3days=3, margin_hedged_use_leg=False, expiration_mode=2, filling_mode=3, order_mode=127, order_gtc_mode=2, option_mode=0, option_right=0, bid=0.0, bidhigh=0.0, bidlow=0.0, ask=0.0, askhigh=0.0, asklow=0.0, last=0.0, lasthigh=0.0, lastlow=0.0, volume_real=0.0, volumehigh_real=0.0, volumelow_real=0.0, option_strike=0.0, point=1.0, trade_tick_value=1.0, trade_tick_value_profit=1.0, trade_tick_value_loss=1.0, trade_tick_size=5.0, trade_contract_size=1.0, trade_accrued_interest=0.0, trade_face_value=0.0, trade_liquidity_rate=0.0, volume_min=1.0, volume_max=10000.0, volume_step=1.0, volume_limit=0.0, swap_long=0.0, swap_short=0.0, margin_initial=0.0, margin_maintenance=0.0, session_volume=0.0, session_turnover=0.0, session_interest=0.0, session_buy_orders_volume=0.0, session_sell_orders_volume=0.0, session_open=0.0, session_close=0.0, session_aw=0.0, session_price_settlement=0.0, session_price_limit_min=0.0, session_price_limit_max=0.0, margin_hedged=0.0, price_change=0.0, price_volatility=0.0, price_theoretical=0.0, price_greeks_delta=0.0, price_greeks_theta=0.0, price_greeks_gamma=0.0, price_greeks_vega=0.0, price_greeks_rho=0.0, price_greeks_omega=0.0, price_sensitivity=0.0, basis='', category='', currency_base='BRL', currency_profit='BRL', currency_margin='BRL', bank='', description='IBOVESPA MINI - Por Vencimento (WINZ21) - Sem Ajustes', exchange='', formula='', isin='BRBMEFWIN2V0', name='WIN@N', page='', path='BMF\\\\SERIES CONTINUAS\\\\WIN@N'),\n",
       " SymbolInfo(custom=False, chart_mode=1, select=False, visible=False, session_deals=0, session_buy_orders=0, session_sell_orders=0, volume=0, volumehigh=0, volumelow=0, time=0, digits=0, spread=0, spread_float=True, ticks_bookdepth=32, trade_calc_mode=33, trade_mode=4, start_time=0, expiration_time=1645038900, trade_stops_level=0, trade_freeze_level=0, trade_exemode=3, swap_mode=0, swap_rollover3days=3, margin_hedged_use_leg=False, expiration_mode=2, filling_mode=3, order_mode=127, order_gtc_mode=2, option_mode=0, option_right=0, bid=0.0, bidhigh=0.0, bidlow=0.0, ask=0.0, askhigh=0.0, asklow=0.0, last=0.0, lasthigh=0.0, lastlow=0.0, volume_real=0.0, volumehigh_real=0.0, volumelow_real=0.0, option_strike=0.0, point=1.0, trade_tick_value=1.0, trade_tick_value_profit=1.0, trade_tick_value_loss=1.0, trade_tick_size=5.0, trade_contract_size=1.0, trade_accrued_interest=0.0, trade_face_value=0.0, trade_liquidity_rate=0.0, volume_min=1.0, volume_max=10000.0, volume_step=1.0, volume_limit=0.0, swap_long=0.0, swap_short=0.0, margin_initial=0.0, margin_maintenance=0.0, session_volume=0.0, session_turnover=0.0, session_interest=0.0, session_buy_orders_volume=0.0, session_sell_orders_volume=0.0, session_open=0.0, session_close=0.0, session_aw=0.0, session_price_settlement=0.0, session_price_limit_min=0.0, session_price_limit_max=0.0, margin_hedged=0.0, price_change=0.0, price_volatility=0.0, price_theoretical=0.0, price_greeks_delta=0.0, price_greeks_theta=0.0, price_greeks_gamma=0.0, price_greeks_vega=0.0, price_greeks_rho=0.0, price_greeks_omega=0.0, price_sensitivity=0.0, basis='', category='', currency_base='BRL', currency_profit='BRL', currency_margin='BRL', bank='', description='IBOVESPA MINI', exchange='', formula='', isin='BRBMEFWIN2W8', name='WING22', page='', path='BMF\\\\WING22'),\n",
       " SymbolInfo(custom=False, chart_mode=1, select=False, visible=False, session_deals=0, session_buy_orders=0, session_sell_orders=0, volume=0, volumehigh=0, volumelow=0, time=0, digits=0, spread=0, spread_float=True, ticks_bookdepth=32, trade_calc_mode=33, trade_mode=4, start_time=0, expiration_time=1676488500, trade_stops_level=0, trade_freeze_level=0, trade_exemode=3, swap_mode=0, swap_rollover3days=3, margin_hedged_use_leg=False, expiration_mode=2, filling_mode=3, order_mode=127, order_gtc_mode=2, option_mode=0, option_right=0, bid=0.0, bidhigh=0.0, bidlow=0.0, ask=0.0, askhigh=0.0, asklow=0.0, last=0.0, lasthigh=0.0, lastlow=0.0, volume_real=0.0, volumehigh_real=0.0, volumelow_real=0.0, option_strike=0.0, point=1.0, trade_tick_value=1.0, trade_tick_value_profit=1.0, trade_tick_value_loss=1.0, trade_tick_size=5.0, trade_contract_size=1.0, trade_accrued_interest=0.0, trade_face_value=0.0, trade_liquidity_rate=0.0, volume_min=1.0, volume_max=400.0, volume_step=1.0, volume_limit=0.0, swap_long=0.0, swap_short=0.0, margin_initial=0.0, margin_maintenance=0.0, session_volume=0.0, session_turnover=0.0, session_interest=0.0, session_buy_orders_volume=0.0, session_sell_orders_volume=0.0, session_open=0.0, session_close=0.0, session_aw=0.0, session_price_settlement=0.0, session_price_limit_min=0.0, session_price_limit_max=0.0, margin_hedged=0.0, price_change=0.0, price_volatility=0.0, price_theoretical=0.0, price_greeks_delta=0.0, price_greeks_theta=0.0, price_greeks_gamma=0.0, price_greeks_vega=0.0, price_greeks_rho=0.0, price_greeks_omega=0.0, price_sensitivity=0.0, basis='', category='', currency_base='BRL', currency_profit='BRL', currency_margin='BRL', bank='', description='IBOVESPA MINI', exchange='', formula='', isin='BRBMEFWIN320', name='WING23', page='', path='BMF\\\\WING23'),\n",
       " SymbolInfo(custom=False, chart_mode=1, select=False, visible=False, session_deals=0, session_buy_orders=0, session_sell_orders=0, volume=0, volumehigh=0, volumelow=0, time=0, digits=0, spread=0, spread_float=True, ticks_bookdepth=32, trade_calc_mode=33, trade_mode=4, start_time=0, expiration_time=1649877300, trade_stops_level=0, trade_freeze_level=0, trade_exemode=3, swap_mode=0, swap_rollover3days=3, margin_hedged_use_leg=False, expiration_mode=2, filling_mode=3, order_mode=127, order_gtc_mode=2, option_mode=0, option_right=0, bid=0.0, bidhigh=0.0, bidlow=0.0, ask=0.0, askhigh=0.0, asklow=0.0, last=0.0, lasthigh=0.0, lastlow=0.0, volume_real=0.0, volumehigh_real=0.0, volumelow_real=0.0, option_strike=0.0, point=1.0, trade_tick_value=1.0, trade_tick_value_profit=1.0, trade_tick_value_loss=1.0, trade_tick_size=5.0, trade_contract_size=1.0, trade_accrued_interest=0.0, trade_face_value=0.0, trade_liquidity_rate=0.0, volume_min=1.0, volume_max=400.0, volume_step=1.0, volume_limit=0.0, swap_long=0.0, swap_short=0.0, margin_initial=0.0, margin_maintenance=0.0, session_volume=0.0, session_turnover=0.0, session_interest=0.0, session_buy_orders_volume=0.0, session_sell_orders_volume=0.0, session_open=0.0, session_close=0.0, session_aw=0.0, session_price_settlement=0.0, session_price_limit_min=0.0, session_price_limit_max=0.0, margin_hedged=0.0, price_change=0.0, price_volatility=0.0, price_theoretical=0.0, price_greeks_delta=0.0, price_greeks_theta=0.0, price_greeks_gamma=0.0, price_greeks_vega=0.0, price_greeks_rho=0.0, price_greeks_omega=0.0, price_sensitivity=0.0, basis='', category='', currency_base='BRL', currency_profit='BRL', currency_margin='BRL', bank='', description='IBOVESPA MINI', exchange='', formula='', isin='BRBMEFWIN2X6', name='WINJ22', page='', path='BMF\\\\WINJ22'),\n",
       " SymbolInfo(custom=False, chart_mode=1, select=False, visible=False, session_deals=0, session_buy_orders=0, session_sell_orders=0, volume=0, volumehigh=0, volumelow=0, time=0, digits=0, spread=0, spread_float=True, ticks_bookdepth=32, trade_calc_mode=33, trade_mode=4, start_time=0, expiration_time=1681326900, trade_stops_level=0, trade_freeze_level=0, trade_exemode=3, swap_mode=0, swap_rollover3days=3, margin_hedged_use_leg=False, expiration_mode=2, filling_mode=3, order_mode=127, order_gtc_mode=2, option_mode=0, option_right=0, bid=0.0, bidhigh=0.0, bidlow=0.0, ask=0.0, askhigh=0.0, asklow=0.0, last=0.0, lasthigh=0.0, lastlow=0.0, volume_real=0.0, volumehigh_real=0.0, volumelow_real=0.0, option_strike=0.0, point=1.0, trade_tick_value=1.0, trade_tick_value_profit=1.0, trade_tick_value_loss=1.0, trade_tick_size=5.0, trade_contract_size=1.0, trade_accrued_interest=0.0, trade_face_value=0.0, trade_liquidity_rate=0.0, volume_min=1.0, volume_max=400.0, volume_step=1.0, volume_limit=0.0, swap_long=0.0, swap_short=0.0, margin_initial=0.0, margin_maintenance=0.0, session_volume=0.0, session_turnover=0.0, session_interest=0.0, session_buy_orders_volume=0.0, session_sell_orders_volume=0.0, session_open=0.0, session_close=0.0, session_aw=0.0, session_price_settlement=0.0, session_price_limit_min=0.0, session_price_limit_max=0.0, margin_hedged=0.0, price_change=0.0, price_volatility=0.0, price_theoretical=0.0, price_greeks_delta=0.0, price_greeks_theta=0.0, price_greeks_gamma=0.0, price_greeks_vega=0.0, price_greeks_rho=0.0, price_greeks_omega=0.0, price_sensitivity=0.0, basis='', category='', currency_base='BRL', currency_profit='BRL', currency_margin='BRL', bank='', description='IBOVESPA MINI', exchange='', formula='', isin='BRBMEFWIN338', name='WINJ23', page='', path='BMF\\\\WINJ23'),\n",
       " SymbolInfo(custom=False, chart_mode=1, select=False, visible=False, session_deals=0, session_buy_orders=0, session_sell_orders=0, volume=0, volumehigh=0, volumelow=0, time=0, digits=0, spread=0, spread_float=True, ticks_bookdepth=32, trade_calc_mode=33, trade_mode=4, start_time=0, expiration_time=1655320500, trade_stops_level=0, trade_freeze_level=0, trade_exemode=3, swap_mode=0, swap_rollover3days=3, margin_hedged_use_leg=False, expiration_mode=2, filling_mode=3, order_mode=127, order_gtc_mode=2, option_mode=0, option_right=0, bid=0.0, bidhigh=0.0, bidlow=0.0, ask=0.0, askhigh=0.0, asklow=0.0, last=0.0, lasthigh=0.0, lastlow=0.0, volume_real=0.0, volumehigh_real=0.0, volumelow_real=0.0, option_strike=0.0, point=1.0, trade_tick_value=1.0, trade_tick_value_profit=1.0, trade_tick_value_loss=1.0, trade_tick_size=5.0, trade_contract_size=1.0, trade_accrued_interest=0.0, trade_face_value=0.0, trade_liquidity_rate=0.0, volume_min=1.0, volume_max=400.0, volume_step=1.0, volume_limit=0.0, swap_long=0.0, swap_short=0.0, margin_initial=0.0, margin_maintenance=0.0, session_volume=0.0, session_turnover=0.0, session_interest=0.0, session_buy_orders_volume=0.0, session_sell_orders_volume=0.0, session_open=0.0, session_close=0.0, session_aw=0.0, session_price_settlement=0.0, session_price_limit_min=0.0, session_price_limit_max=0.0, margin_hedged=0.0, price_change=0.0, price_volatility=0.0, price_theoretical=0.0, price_greeks_delta=0.0, price_greeks_theta=0.0, price_greeks_gamma=0.0, price_greeks_vega=0.0, price_greeks_rho=0.0, price_greeks_omega=0.0, price_sensitivity=0.0, basis='', category='', currency_base='BRL', currency_profit='BRL', currency_margin='BRL', bank='', description='IBOVESPA MINI', exchange='', formula='', isin='BRBMEFWIN2Y4', name='WINM22', page='', path='BMF\\\\WINM22'),\n",
       " SymbolInfo(custom=False, chart_mode=1, select=False, visible=False, session_deals=0, session_buy_orders=0, session_sell_orders=0, volume=0, volumehigh=0, volumelow=0, time=0, digits=0, spread=0, spread_float=True, ticks_bookdepth=32, trade_calc_mode=33, trade_mode=4, start_time=0, expiration_time=1686770100, trade_stops_level=0, trade_freeze_level=0, trade_exemode=3, swap_mode=0, swap_rollover3days=3, margin_hedged_use_leg=False, expiration_mode=2, filling_mode=3, order_mode=127, order_gtc_mode=2, option_mode=0, option_right=0, bid=0.0, bidhigh=0.0, bidlow=0.0, ask=0.0, askhigh=0.0, asklow=0.0, last=0.0, lasthigh=0.0, lastlow=0.0, volume_real=0.0, volumehigh_real=0.0, volumelow_real=0.0, option_strike=0.0, point=1.0, trade_tick_value=1.0, trade_tick_value_profit=1.0, trade_tick_value_loss=1.0, trade_tick_size=5.0, trade_contract_size=1.0, trade_accrued_interest=0.0, trade_face_value=0.0, trade_liquidity_rate=0.0, volume_min=1.0, volume_max=400.0, volume_step=1.0, volume_limit=0.0, swap_long=0.0, swap_short=0.0, margin_initial=0.0, margin_maintenance=0.0, session_volume=0.0, session_turnover=0.0, session_interest=0.0, session_buy_orders_volume=0.0, session_sell_orders_volume=0.0, session_open=0.0, session_close=0.0, session_aw=0.0, session_price_settlement=0.0, session_price_limit_min=0.0, session_price_limit_max=0.0, margin_hedged=0.0, price_change=0.0, price_volatility=0.0, price_theoretical=0.0, price_greeks_delta=0.0, price_greeks_theta=0.0, price_greeks_gamma=0.0, price_greeks_vega=0.0, price_greeks_rho=0.0, price_greeks_omega=0.0, price_sensitivity=0.0, basis='', category='', currency_base='BRL', currency_profit='BRL', currency_margin='BRL', bank='', description='IBOVESPA MINI', exchange='', formula='', isin='BRBMEFWIN346', name='WINM23', page='', path='BMF\\\\WINM23'),\n",
       " SymbolInfo(custom=False, chart_mode=1, select=False, visible=False, session_deals=0, session_buy_orders=0, session_sell_orders=0, volume=0, volumehigh=0, volumelow=0, time=0, digits=0, spread=0, spread_float=True, ticks_bookdepth=32, trade_calc_mode=33, trade_mode=4, start_time=0, expiration_time=1660763700, trade_stops_level=0, trade_freeze_level=0, trade_exemode=3, swap_mode=0, swap_rollover3days=3, margin_hedged_use_leg=False, expiration_mode=2, filling_mode=3, order_mode=127, order_gtc_mode=2, option_mode=0, option_right=0, bid=0.0, bidhigh=0.0, bidlow=0.0, ask=0.0, askhigh=0.0, asklow=0.0, last=0.0, lasthigh=0.0, lastlow=0.0, volume_real=0.0, volumehigh_real=0.0, volumelow_real=0.0, option_strike=0.0, point=1.0, trade_tick_value=1.0, trade_tick_value_profit=1.0, trade_tick_value_loss=1.0, trade_tick_size=5.0, trade_contract_size=1.0, trade_accrued_interest=0.0, trade_face_value=0.0, trade_liquidity_rate=0.0, volume_min=1.0, volume_max=400.0, volume_step=1.0, volume_limit=0.0, swap_long=0.0, swap_short=0.0, margin_initial=0.0, margin_maintenance=0.0, session_volume=0.0, session_turnover=0.0, session_interest=0.0, session_buy_orders_volume=0.0, session_sell_orders_volume=0.0, session_open=0.0, session_close=0.0, session_aw=0.0, session_price_settlement=0.0, session_price_limit_min=0.0, session_price_limit_max=0.0, margin_hedged=0.0, price_change=0.0, price_volatility=0.0, price_theoretical=0.0, price_greeks_delta=0.0, price_greeks_theta=0.0, price_greeks_gamma=0.0, price_greeks_vega=0.0, price_greeks_rho=0.0, price_greeks_omega=0.0, price_sensitivity=0.0, basis='', category='', currency_base='BRL', currency_profit='BRL', currency_margin='BRL', bank='', description='IBOVESPA MINI', exchange='', formula='', isin='BRBMEFWIN2Z1', name='WINQ22', page='', path='BMF\\\\WINQ22'),\n",
       " SymbolInfo(custom=False, chart_mode=1, select=False, visible=False, session_deals=0, session_buy_orders=0, session_sell_orders=0, volume=0, volumehigh=0, volumelow=0, time=0, digits=0, spread=0, spread_float=True, ticks_bookdepth=32, trade_calc_mode=33, trade_mode=4, start_time=0, expiration_time=1692213300, trade_stops_level=0, trade_freeze_level=0, trade_exemode=3, swap_mode=0, swap_rollover3days=3, margin_hedged_use_leg=False, expiration_mode=2, filling_mode=3, order_mode=127, order_gtc_mode=2, option_mode=0, option_right=0, bid=0.0, bidhigh=0.0, bidlow=0.0, ask=0.0, askhigh=0.0, asklow=0.0, last=0.0, lasthigh=0.0, lastlow=0.0, volume_real=0.0, volumehigh_real=0.0, volumelow_real=0.0, option_strike=0.0, point=1.0, trade_tick_value=1.0, trade_tick_value_profit=1.0, trade_tick_value_loss=1.0, trade_tick_size=5.0, trade_contract_size=1.0, trade_accrued_interest=0.0, trade_face_value=0.0, trade_liquidity_rate=0.0, volume_min=1.0, volume_max=400.0, volume_step=1.0, volume_limit=0.0, swap_long=0.0, swap_short=0.0, margin_initial=0.0, margin_maintenance=0.0, session_volume=0.0, session_turnover=0.0, session_interest=0.0, session_buy_orders_volume=0.0, session_sell_orders_volume=0.0, session_open=0.0, session_close=0.0, session_aw=0.0, session_price_settlement=0.0, session_price_limit_min=0.0, session_price_limit_max=0.0, margin_hedged=0.0, price_change=0.0, price_volatility=0.0, price_theoretical=0.0, price_greeks_delta=0.0, price_greeks_theta=0.0, price_greeks_gamma=0.0, price_greeks_vega=0.0, price_greeks_rho=0.0, price_greeks_omega=0.0, price_sensitivity=0.0, basis='', category='', currency_base='BRL', currency_profit='BRL', currency_margin='BRL', bank='', description='IBOVESPA MINI', exchange='', formula='', isin='BRBMEFWIN353', name='WINQ23', page='', path='BMF\\\\WINQ23'),\n",
       " SymbolInfo(custom=False, chart_mode=1, select=False, visible=False, session_deals=0, session_buy_orders=0, session_sell_orders=0, volume=0, volumehigh=0, volumelow=0, time=0, digits=0, spread=0, spread_float=True, ticks_bookdepth=32, trade_calc_mode=33, trade_mode=4, start_time=0, expiration_time=1665688500, trade_stops_level=0, trade_freeze_level=0, trade_exemode=3, swap_mode=0, swap_rollover3days=3, margin_hedged_use_leg=False, expiration_mode=2, filling_mode=3, order_mode=127, order_gtc_mode=2, option_mode=0, option_right=0, bid=0.0, bidhigh=0.0, bidlow=0.0, ask=0.0, askhigh=0.0, asklow=0.0, last=0.0, lasthigh=0.0, lastlow=0.0, volume_real=0.0, volumehigh_real=0.0, volumelow_real=0.0, option_strike=0.0, point=1.0, trade_tick_value=1.0, trade_tick_value_profit=1.0, trade_tick_value_loss=1.0, trade_tick_size=5.0, trade_contract_size=1.0, trade_accrued_interest=0.0, trade_face_value=0.0, trade_liquidity_rate=0.0, volume_min=1.0, volume_max=400.0, volume_step=1.0, volume_limit=0.0, swap_long=0.0, swap_short=0.0, margin_initial=0.0, margin_maintenance=0.0, session_volume=0.0, session_turnover=0.0, session_interest=0.0, session_buy_orders_volume=0.0, session_sell_orders_volume=0.0, session_open=0.0, session_close=0.0, session_aw=0.0, session_price_settlement=0.0, session_price_limit_min=0.0, session_price_limit_max=0.0, margin_hedged=0.0, price_change=0.0, price_volatility=0.0, price_theoretical=0.0, price_greeks_delta=0.0, price_greeks_theta=0.0, price_greeks_gamma=0.0, price_greeks_vega=0.0, price_greeks_rho=0.0, price_greeks_omega=0.0, price_sensitivity=0.0, basis='', category='', currency_base='BRL', currency_profit='BRL', currency_margin='BRL', bank='', description='IBOVESPA MINI', exchange='', formula='', isin='BRBMEFWIN304', name='WINV22', page='', path='BMF\\\\WINV22'),\n",
       " SymbolInfo(custom=False, chart_mode=1, select=False, visible=False, session_deals=0, session_buy_orders=0, session_sell_orders=0, volume=0, volumehigh=0, volumelow=0, time=0, digits=0, spread=0, spread_float=True, ticks_bookdepth=32, trade_calc_mode=33, trade_mode=4, start_time=0, expiration_time=1697656500, trade_stops_level=0, trade_freeze_level=0, trade_exemode=3, swap_mode=0, swap_rollover3days=3, margin_hedged_use_leg=False, expiration_mode=2, filling_mode=3, order_mode=127, order_gtc_mode=2, option_mode=0, option_right=0, bid=0.0, bidhigh=0.0, bidlow=0.0, ask=0.0, askhigh=0.0, asklow=0.0, last=0.0, lasthigh=0.0, lastlow=0.0, volume_real=0.0, volumehigh_real=0.0, volumelow_real=0.0, option_strike=0.0, point=1.0, trade_tick_value=1.0, trade_tick_value_profit=1.0, trade_tick_value_loss=1.0, trade_tick_size=5.0, trade_contract_size=1.0, trade_accrued_interest=0.0, trade_face_value=0.0, trade_liquidity_rate=0.0, volume_min=1.0, volume_max=400.0, volume_step=1.0, volume_limit=0.0, swap_long=0.0, swap_short=0.0, margin_initial=0.0, margin_maintenance=0.0, session_volume=0.0, session_turnover=0.0, session_interest=0.0, session_buy_orders_volume=0.0, session_sell_orders_volume=0.0, session_open=0.0, session_close=0.0, session_aw=0.0, session_price_settlement=0.0, session_price_limit_min=0.0, session_price_limit_max=0.0, margin_hedged=0.0, price_change=0.0, price_volatility=0.0, price_theoretical=0.0, price_greeks_delta=0.0, price_greeks_theta=0.0, price_greeks_gamma=0.0, price_greeks_vega=0.0, price_greeks_rho=0.0, price_greeks_omega=0.0, price_sensitivity=0.0, basis='', category='', currency_base='BRL', currency_profit='BRL', currency_margin='BRL', bank='', description='IBOVESPA MINI', exchange='', formula='', isin='BRBMEFWIN361', name='WINV23', page='', path='BMF\\\\WINV23'),\n",
       " SymbolInfo(custom=False, chart_mode=1, select=False, visible=False, session_deals=0, session_buy_orders=0, session_sell_orders=0, volume=0, volumehigh=0, volumelow=0, time=0, digits=0, spread=0, spread_float=True, ticks_bookdepth=32, trade_calc_mode=33, trade_mode=4, start_time=0, expiration_time=1639595700, trade_stops_level=0, trade_freeze_level=0, trade_exemode=3, swap_mode=0, swap_rollover3days=3, margin_hedged_use_leg=False, expiration_mode=2, filling_mode=3, order_mode=127, order_gtc_mode=2, option_mode=0, option_right=0, bid=0.0, bidhigh=0.0, bidlow=0.0, ask=0.0, askhigh=0.0, asklow=0.0, last=0.0, lasthigh=0.0, lastlow=0.0, volume_real=0.0, volumehigh_real=0.0, volumelow_real=0.0, option_strike=0.0, point=1.0, trade_tick_value=1.0, trade_tick_value_profit=1.0, trade_tick_value_loss=1.0, trade_tick_size=5.0, trade_contract_size=1.0, trade_accrued_interest=0.0, trade_face_value=0.0, trade_liquidity_rate=0.0, volume_min=1.0, volume_max=10000.0, volume_step=1.0, volume_limit=0.0, swap_long=0.0, swap_short=0.0, margin_initial=0.0, margin_maintenance=0.0, session_volume=0.0, session_turnover=0.0, session_interest=0.0, session_buy_orders_volume=0.0, session_sell_orders_volume=0.0, session_open=0.0, session_close=0.0, session_aw=0.0, session_price_settlement=0.0, session_price_limit_min=0.0, session_price_limit_max=0.0, margin_hedged=0.0, price_change=0.0, price_volatility=0.0, price_theoretical=0.0, price_greeks_delta=0.0, price_greeks_theta=0.0, price_greeks_gamma=0.0, price_greeks_vega=0.0, price_greeks_rho=0.0, price_greeks_omega=0.0, price_sensitivity=0.0, basis='', category='', currency_base='BRL', currency_profit='BRL', currency_margin='BRL', bank='', description='IBOVESPA MINI', exchange='', formula='', isin='BRBMEFWIN2V0', name='WINZ21', page='', path='BMF\\\\WINZ21'),\n",
       " SymbolInfo(custom=False, chart_mode=1, select=False, visible=False, session_deals=0, session_buy_orders=0, session_sell_orders=0, volume=0, volumehigh=0, volumelow=0, time=0, digits=0, spread=0, spread_float=True, ticks_bookdepth=32, trade_calc_mode=33, trade_mode=4, start_time=0, expiration_time=1671045300, trade_stops_level=0, trade_freeze_level=0, trade_exemode=3, swap_mode=0, swap_rollover3days=3, margin_hedged_use_leg=False, expiration_mode=2, filling_mode=3, order_mode=127, order_gtc_mode=2, option_mode=0, option_right=0, bid=0.0, bidhigh=0.0, bidlow=0.0, ask=0.0, askhigh=0.0, asklow=0.0, last=0.0, lasthigh=0.0, lastlow=0.0, volume_real=0.0, volumehigh_real=0.0, volumelow_real=0.0, option_strike=0.0, point=1.0, trade_tick_value=1.0, trade_tick_value_profit=1.0, trade_tick_value_loss=1.0, trade_tick_size=5.0, trade_contract_size=1.0, trade_accrued_interest=0.0, trade_face_value=0.0, trade_liquidity_rate=0.0, volume_min=1.0, volume_max=400.0, volume_step=1.0, volume_limit=0.0, swap_long=0.0, swap_short=0.0, margin_initial=0.0, margin_maintenance=0.0, session_volume=0.0, session_turnover=0.0, session_interest=0.0, session_buy_orders_volume=0.0, session_sell_orders_volume=0.0, session_open=0.0, session_close=0.0, session_aw=0.0, session_price_settlement=0.0, session_price_limit_min=0.0, session_price_limit_max=0.0, margin_hedged=0.0, price_change=0.0, price_volatility=0.0, price_theoretical=0.0, price_greeks_delta=0.0, price_greeks_theta=0.0, price_greeks_gamma=0.0, price_greeks_vega=0.0, price_greeks_rho=0.0, price_greeks_omega=0.0, price_sensitivity=0.0, basis='', category='', currency_base='BRL', currency_profit='BRL', currency_margin='BRL', bank='', description='IBOVESPA MINI', exchange='', formula='', isin='BRBMEFWIN312', name='WINZ22', page='', path='BMF\\\\WINZ22'))"
      ]
     },
     "execution_count": 19,
     "metadata": {},
     "output_type": "execute_result"
    }
   ],
   "source": [
    "mt5.symbols_get(group=\"WIN\")"
   ]
  },
  {
   "cell_type": "markdown",
   "metadata": {},
   "source": [
    "Link de referencia: https://www.mql5.com/pt/docs/integration/python_metatrader5/mt5copyratesfrompos_py"
   ]
  },
  {
   "cell_type": "code",
   "execution_count": 53,
   "metadata": {},
   "outputs": [
    {
     "data": {
      "text/plain": [
       "True"
      ]
     },
     "execution_count": 53,
     "metadata": {},
     "output_type": "execute_result"
    }
   ],
   "source": [
    "mt5.market_book_add('PATI3')"
   ]
  },
  {
   "cell_type": "code",
   "execution_count": 55,
   "metadata": {},
   "outputs": [
    {
     "data": {
      "text/plain": [
       "(BookInfo(type=1, price=75.0, volume=200, volume_dbl=200.0),\n",
       " BookInfo(type=1, price=74.7, volume=300, volume_dbl=300.0))"
      ]
     },
     "execution_count": 55,
     "metadata": {},
     "output_type": "execute_result"
    }
   ],
   "source": [
    "mt5.market_book_get('PATI3')"
   ]
  },
  {
   "cell_type": "markdown",
   "metadata": {},
   "source": [
    "# 4. Obtendo dados propriamente ditos"
   ]
  },
  {
   "cell_type": "markdown",
   "metadata": {},
   "source": [
    "## 4.1 Função copy_rates_from_pos"
   ]
  },
  {
   "cell_type": "code",
   "execution_count": null,
   "metadata": {},
   "outputs": [],
   "source": [
    "ativo = mt5.copy_rates_from_pos('WIN$',mt5.TIMEFRAME_D1, 0, 5000)"
   ]
  },
  {
   "cell_type": "code",
   "execution_count": 13,
   "metadata": {},
   "outputs": [],
   "source": [
    "ativo = pd.DataFrame(ativo)"
   ]
  },
  {
   "cell_type": "code",
   "execution_count": 14,
   "metadata": {},
   "outputs": [
    {
     "data": {
      "text/html": [
       "<div>\n",
       "<style scoped>\n",
       "    .dataframe tbody tr th:only-of-type {\n",
       "        vertical-align: middle;\n",
       "    }\n",
       "\n",
       "    .dataframe tbody tr th {\n",
       "        vertical-align: top;\n",
       "    }\n",
       "\n",
       "    .dataframe thead th {\n",
       "        text-align: right;\n",
       "    }\n",
       "</style>\n",
       "<table border=\"1\" class=\"dataframe\">\n",
       "  <thead>\n",
       "    <tr style=\"text-align: right;\">\n",
       "      <th></th>\n",
       "      <th>time</th>\n",
       "      <th>open</th>\n",
       "      <th>high</th>\n",
       "      <th>low</th>\n",
       "      <th>close</th>\n",
       "      <th>tick_volume</th>\n",
       "      <th>spread</th>\n",
       "      <th>real_volume</th>\n",
       "    </tr>\n",
       "  </thead>\n",
       "  <tbody>\n",
       "    <tr>\n",
       "      <th>0</th>\n",
       "      <td>1473120000</td>\n",
       "      <td>78713.0</td>\n",
       "      <td>79169.0</td>\n",
       "      <td>77894.0</td>\n",
       "      <td>79136.0</td>\n",
       "      <td>211517</td>\n",
       "      <td>1</td>\n",
       "      <td>569070</td>\n",
       "    </tr>\n",
       "    <tr>\n",
       "      <th>1</th>\n",
       "      <td>1473292800</td>\n",
       "      <td>78778.0</td>\n",
       "      <td>79429.0</td>\n",
       "      <td>78590.0</td>\n",
       "      <td>79038.0</td>\n",
       "      <td>204705</td>\n",
       "      <td>1</td>\n",
       "      <td>552981</td>\n",
       "    </tr>\n",
       "    <tr>\n",
       "      <th>2</th>\n",
       "      <td>1473379200</td>\n",
       "      <td>78778.0</td>\n",
       "      <td>78778.0</td>\n",
       "      <td>75649.0</td>\n",
       "      <td>75721.0</td>\n",
       "      <td>263492</td>\n",
       "      <td>1</td>\n",
       "      <td>767040</td>\n",
       "    </tr>\n",
       "    <tr>\n",
       "      <th>3</th>\n",
       "      <td>1473638400</td>\n",
       "      <td>75226.0</td>\n",
       "      <td>77100.0</td>\n",
       "      <td>75226.0</td>\n",
       "      <td>76918.0</td>\n",
       "      <td>291905</td>\n",
       "      <td>1</td>\n",
       "      <td>785707</td>\n",
       "    </tr>\n",
       "    <tr>\n",
       "      <th>4</th>\n",
       "      <td>1473724800</td>\n",
       "      <td>76436.0</td>\n",
       "      <td>76501.0</td>\n",
       "      <td>74166.0</td>\n",
       "      <td>74706.0</td>\n",
       "      <td>315588</td>\n",
       "      <td>1</td>\n",
       "      <td>851984</td>\n",
       "    </tr>\n",
       "    <tr>\n",
       "      <th>...</th>\n",
       "      <td>...</td>\n",
       "      <td>...</td>\n",
       "      <td>...</td>\n",
       "      <td>...</td>\n",
       "      <td>...</td>\n",
       "      <td>...</td>\n",
       "      <td>...</td>\n",
       "      <td>...</td>\n",
       "    </tr>\n",
       "    <tr>\n",
       "      <th>1232</th>\n",
       "      <td>1630454400</td>\n",
       "      <td>119400.0</td>\n",
       "      <td>120615.0</td>\n",
       "      <td>118625.0</td>\n",
       "      <td>119180.0</td>\n",
       "      <td>5144525</td>\n",
       "      <td>1</td>\n",
       "      <td>20338473</td>\n",
       "    </tr>\n",
       "    <tr>\n",
       "      <th>1233</th>\n",
       "      <td>1630540800</td>\n",
       "      <td>119595.0</td>\n",
       "      <td>119735.0</td>\n",
       "      <td>116920.0</td>\n",
       "      <td>117160.0</td>\n",
       "      <td>5751495</td>\n",
       "      <td>1</td>\n",
       "      <td>22396328</td>\n",
       "    </tr>\n",
       "    <tr>\n",
       "      <th>1234</th>\n",
       "      <td>1630627200</td>\n",
       "      <td>117665.0</td>\n",
       "      <td>118350.0</td>\n",
       "      <td>116085.0</td>\n",
       "      <td>116855.0</td>\n",
       "      <td>5236082</td>\n",
       "      <td>1</td>\n",
       "      <td>19873990</td>\n",
       "    </tr>\n",
       "    <tr>\n",
       "      <th>1235</th>\n",
       "      <td>1630886400</td>\n",
       "      <td>117200.0</td>\n",
       "      <td>118585.0</td>\n",
       "      <td>116530.0</td>\n",
       "      <td>118370.0</td>\n",
       "      <td>3748279</td>\n",
       "      <td>1</td>\n",
       "      <td>14006225</td>\n",
       "    </tr>\n",
       "    <tr>\n",
       "      <th>1236</th>\n",
       "      <td>1631059200</td>\n",
       "      <td>117150.0</td>\n",
       "      <td>117980.0</td>\n",
       "      <td>113570.0</td>\n",
       "      <td>113875.0</td>\n",
       "      <td>1622952</td>\n",
       "      <td>0</td>\n",
       "      <td>23824170</td>\n",
       "    </tr>\n",
       "  </tbody>\n",
       "</table>\n",
       "<p>1237 rows × 8 columns</p>\n",
       "</div>"
      ],
      "text/plain": [
       "            time      open      high       low     close  tick_volume  spread  \\\n",
       "0     1473120000   78713.0   79169.0   77894.0   79136.0       211517       1   \n",
       "1     1473292800   78778.0   79429.0   78590.0   79038.0       204705       1   \n",
       "2     1473379200   78778.0   78778.0   75649.0   75721.0       263492       1   \n",
       "3     1473638400   75226.0   77100.0   75226.0   76918.0       291905       1   \n",
       "4     1473724800   76436.0   76501.0   74166.0   74706.0       315588       1   \n",
       "...          ...       ...       ...       ...       ...          ...     ...   \n",
       "1232  1630454400  119400.0  120615.0  118625.0  119180.0      5144525       1   \n",
       "1233  1630540800  119595.0  119735.0  116920.0  117160.0      5751495       1   \n",
       "1234  1630627200  117665.0  118350.0  116085.0  116855.0      5236082       1   \n",
       "1235  1630886400  117200.0  118585.0  116530.0  118370.0      3748279       1   \n",
       "1236  1631059200  117150.0  117980.0  113570.0  113875.0      1622952       0   \n",
       "\n",
       "      real_volume  \n",
       "0          569070  \n",
       "1          552981  \n",
       "2          767040  \n",
       "3          785707  \n",
       "4          851984  \n",
       "...           ...  \n",
       "1232     20338473  \n",
       "1233     22396328  \n",
       "1234     19873990  \n",
       "1235     14006225  \n",
       "1236     23824170  \n",
       "\n",
       "[1237 rows x 8 columns]"
      ]
     },
     "execution_count": 14,
     "metadata": {},
     "output_type": "execute_result"
    }
   ],
   "source": [
    "ativo"
   ]
  },
  {
   "cell_type": "code",
   "execution_count": 15,
   "metadata": {},
   "outputs": [],
   "source": [
    "ativo['time'] = pd.to_datetime(ativo['time'], unit='s')"
   ]
  },
  {
   "cell_type": "code",
   "execution_count": 16,
   "metadata": {},
   "outputs": [
    {
     "data": {
      "text/html": [
       "<div>\n",
       "<style scoped>\n",
       "    .dataframe tbody tr th:only-of-type {\n",
       "        vertical-align: middle;\n",
       "    }\n",
       "\n",
       "    .dataframe tbody tr th {\n",
       "        vertical-align: top;\n",
       "    }\n",
       "\n",
       "    .dataframe thead th {\n",
       "        text-align: right;\n",
       "    }\n",
       "</style>\n",
       "<table border=\"1\" class=\"dataframe\">\n",
       "  <thead>\n",
       "    <tr style=\"text-align: right;\">\n",
       "      <th></th>\n",
       "      <th>time</th>\n",
       "      <th>open</th>\n",
       "      <th>high</th>\n",
       "      <th>low</th>\n",
       "      <th>close</th>\n",
       "      <th>tick_volume</th>\n",
       "      <th>spread</th>\n",
       "      <th>real_volume</th>\n",
       "    </tr>\n",
       "  </thead>\n",
       "  <tbody>\n",
       "    <tr>\n",
       "      <th>0</th>\n",
       "      <td>2016-09-06</td>\n",
       "      <td>78713.0</td>\n",
       "      <td>79169.0</td>\n",
       "      <td>77894.0</td>\n",
       "      <td>79136.0</td>\n",
       "      <td>211517</td>\n",
       "      <td>1</td>\n",
       "      <td>569070</td>\n",
       "    </tr>\n",
       "    <tr>\n",
       "      <th>1</th>\n",
       "      <td>2016-09-08</td>\n",
       "      <td>78778.0</td>\n",
       "      <td>79429.0</td>\n",
       "      <td>78590.0</td>\n",
       "      <td>79038.0</td>\n",
       "      <td>204705</td>\n",
       "      <td>1</td>\n",
       "      <td>552981</td>\n",
       "    </tr>\n",
       "    <tr>\n",
       "      <th>2</th>\n",
       "      <td>2016-09-09</td>\n",
       "      <td>78778.0</td>\n",
       "      <td>78778.0</td>\n",
       "      <td>75649.0</td>\n",
       "      <td>75721.0</td>\n",
       "      <td>263492</td>\n",
       "      <td>1</td>\n",
       "      <td>767040</td>\n",
       "    </tr>\n",
       "    <tr>\n",
       "      <th>3</th>\n",
       "      <td>2016-09-12</td>\n",
       "      <td>75226.0</td>\n",
       "      <td>77100.0</td>\n",
       "      <td>75226.0</td>\n",
       "      <td>76918.0</td>\n",
       "      <td>291905</td>\n",
       "      <td>1</td>\n",
       "      <td>785707</td>\n",
       "    </tr>\n",
       "    <tr>\n",
       "      <th>4</th>\n",
       "      <td>2016-09-13</td>\n",
       "      <td>76436.0</td>\n",
       "      <td>76501.0</td>\n",
       "      <td>74166.0</td>\n",
       "      <td>74706.0</td>\n",
       "      <td>315588</td>\n",
       "      <td>1</td>\n",
       "      <td>851984</td>\n",
       "    </tr>\n",
       "  </tbody>\n",
       "</table>\n",
       "</div>"
      ],
      "text/plain": [
       "        time     open     high      low    close  tick_volume  spread  \\\n",
       "0 2016-09-06  78713.0  79169.0  77894.0  79136.0       211517       1   \n",
       "1 2016-09-08  78778.0  79429.0  78590.0  79038.0       204705       1   \n",
       "2 2016-09-09  78778.0  78778.0  75649.0  75721.0       263492       1   \n",
       "3 2016-09-12  75226.0  77100.0  75226.0  76918.0       291905       1   \n",
       "4 2016-09-13  76436.0  76501.0  74166.0  74706.0       315588       1   \n",
       "\n",
       "   real_volume  \n",
       "0       569070  \n",
       "1       552981  \n",
       "2       767040  \n",
       "3       785707  \n",
       "4       851984  "
      ]
     },
     "execution_count": 16,
     "metadata": {},
     "output_type": "execute_result"
    }
   ],
   "source": [
    "ativo.head()"
   ]
  },
  {
   "cell_type": "code",
   "execution_count": 17,
   "metadata": {},
   "outputs": [
    {
     "data": {
      "text/html": [
       "<div>\n",
       "<style scoped>\n",
       "    .dataframe tbody tr th:only-of-type {\n",
       "        vertical-align: middle;\n",
       "    }\n",
       "\n",
       "    .dataframe tbody tr th {\n",
       "        vertical-align: top;\n",
       "    }\n",
       "\n",
       "    .dataframe thead th {\n",
       "        text-align: right;\n",
       "    }\n",
       "</style>\n",
       "<table border=\"1\" class=\"dataframe\">\n",
       "  <thead>\n",
       "    <tr style=\"text-align: right;\">\n",
       "      <th></th>\n",
       "      <th>time</th>\n",
       "      <th>open</th>\n",
       "      <th>high</th>\n",
       "      <th>low</th>\n",
       "      <th>close</th>\n",
       "      <th>tick_volume</th>\n",
       "      <th>spread</th>\n",
       "      <th>real_volume</th>\n",
       "    </tr>\n",
       "  </thead>\n",
       "  <tbody>\n",
       "    <tr>\n",
       "      <th>1232</th>\n",
       "      <td>2021-09-01</td>\n",
       "      <td>119400.0</td>\n",
       "      <td>120615.0</td>\n",
       "      <td>118625.0</td>\n",
       "      <td>119180.0</td>\n",
       "      <td>5144525</td>\n",
       "      <td>1</td>\n",
       "      <td>20338473</td>\n",
       "    </tr>\n",
       "    <tr>\n",
       "      <th>1233</th>\n",
       "      <td>2021-09-02</td>\n",
       "      <td>119595.0</td>\n",
       "      <td>119735.0</td>\n",
       "      <td>116920.0</td>\n",
       "      <td>117160.0</td>\n",
       "      <td>5751495</td>\n",
       "      <td>1</td>\n",
       "      <td>22396328</td>\n",
       "    </tr>\n",
       "    <tr>\n",
       "      <th>1234</th>\n",
       "      <td>2021-09-03</td>\n",
       "      <td>117665.0</td>\n",
       "      <td>118350.0</td>\n",
       "      <td>116085.0</td>\n",
       "      <td>116855.0</td>\n",
       "      <td>5236082</td>\n",
       "      <td>1</td>\n",
       "      <td>19873990</td>\n",
       "    </tr>\n",
       "    <tr>\n",
       "      <th>1235</th>\n",
       "      <td>2021-09-06</td>\n",
       "      <td>117200.0</td>\n",
       "      <td>118585.0</td>\n",
       "      <td>116530.0</td>\n",
       "      <td>118370.0</td>\n",
       "      <td>3748279</td>\n",
       "      <td>1</td>\n",
       "      <td>14006225</td>\n",
       "    </tr>\n",
       "    <tr>\n",
       "      <th>1236</th>\n",
       "      <td>2021-09-08</td>\n",
       "      <td>117150.0</td>\n",
       "      <td>117980.0</td>\n",
       "      <td>113570.0</td>\n",
       "      <td>113875.0</td>\n",
       "      <td>1622952</td>\n",
       "      <td>0</td>\n",
       "      <td>23824170</td>\n",
       "    </tr>\n",
       "  </tbody>\n",
       "</table>\n",
       "</div>"
      ],
      "text/plain": [
       "           time      open      high       low     close  tick_volume  spread  \\\n",
       "1232 2021-09-01  119400.0  120615.0  118625.0  119180.0      5144525       1   \n",
       "1233 2021-09-02  119595.0  119735.0  116920.0  117160.0      5751495       1   \n",
       "1234 2021-09-03  117665.0  118350.0  116085.0  116855.0      5236082       1   \n",
       "1235 2021-09-06  117200.0  118585.0  116530.0  118370.0      3748279       1   \n",
       "1236 2021-09-08  117150.0  117980.0  113570.0  113875.0      1622952       0   \n",
       "\n",
       "      real_volume  \n",
       "1232     20338473  \n",
       "1233     22396328  \n",
       "1234     19873990  \n",
       "1235     14006225  \n",
       "1236     23824170  "
      ]
     },
     "execution_count": 17,
     "metadata": {},
     "output_type": "execute_result"
    }
   ],
   "source": [
    "ativo.tail()"
   ]
  },
  {
   "cell_type": "code",
   "execution_count": 120,
   "metadata": {},
   "outputs": [],
   "source": [
    "mt5.initialize()\n",
    "\n",
    "# importamos o módulo pytz para trabalhar com o fuso horário\n",
    "import pytz"
   ]
  },
  {
   "cell_type": "code",
   "execution_count": 121,
   "metadata": {},
   "outputs": [],
   "source": [
    "# definimos o fuso horário como UTC\n",
    "timezone = pytz.timezone(\"Etc/UTC\")"
   ]
  },
  {
   "cell_type": "code",
   "execution_count": 122,
   "metadata": {},
   "outputs": [],
   "source": [
    "\n",
    "# criamos o objeto datetime no fuso horário UTC para que não seja aplicado o deslocamento do fuso horário local\n",
    "#utc_from = datetime(2021, 9, 3, tzinfo=timezone)"
   ]
  },
  {
   "cell_type": "code",
   "execution_count": 123,
   "metadata": {},
   "outputs": [],
   "source": [
    "from datetime import datetime\n",
    "today= datetime.today()"
   ]
  },
  {
   "cell_type": "code",
   "execution_count": null,
   "metadata": {},
   "outputs": [],
   "source": []
  },
  {
   "cell_type": "code",
   "execution_count": 124,
   "metadata": {},
   "outputs": [],
   "source": [
    "# recebemos 10 barras de EURUSD H4 a partir de 01/10/2019 no fuso horário UTC\n",
    "rates = mt5.copy_rates_from(\"PETR4\", mt5.TIMEFRAME_D1, today,3000)"
   ]
  },
  {
   "cell_type": "code",
   "execution_count": 125,
   "metadata": {},
   "outputs": [],
   "source": [
    "ativo = pd.DataFrame(rates)"
   ]
  },
  {
   "cell_type": "code",
   "execution_count": 126,
   "metadata": {},
   "outputs": [
    {
     "data": {
      "text/html": [
       "<div>\n",
       "<style scoped>\n",
       "    .dataframe tbody tr th:only-of-type {\n",
       "        vertical-align: middle;\n",
       "    }\n",
       "\n",
       "    .dataframe tbody tr th {\n",
       "        vertical-align: top;\n",
       "    }\n",
       "\n",
       "    .dataframe thead th {\n",
       "        text-align: right;\n",
       "    }\n",
       "</style>\n",
       "<table border=\"1\" class=\"dataframe\">\n",
       "  <thead>\n",
       "    <tr style=\"text-align: right;\">\n",
       "      <th></th>\n",
       "      <th>time</th>\n",
       "      <th>open</th>\n",
       "      <th>high</th>\n",
       "      <th>low</th>\n",
       "      <th>close</th>\n",
       "      <th>tick_volume</th>\n",
       "      <th>spread</th>\n",
       "      <th>real_volume</th>\n",
       "    </tr>\n",
       "  </thead>\n",
       "  <tbody>\n",
       "    <tr>\n",
       "      <th>0</th>\n",
       "      <td>1313539200</td>\n",
       "      <td>15.55</td>\n",
       "      <td>15.67</td>\n",
       "      <td>15.36</td>\n",
       "      <td>15.60</td>\n",
       "      <td>25850</td>\n",
       "      <td>1</td>\n",
       "      <td>18831300</td>\n",
       "    </tr>\n",
       "    <tr>\n",
       "      <th>1</th>\n",
       "      <td>1313625600</td>\n",
       "      <td>15.21</td>\n",
       "      <td>15.23</td>\n",
       "      <td>14.78</td>\n",
       "      <td>15.18</td>\n",
       "      <td>30147</td>\n",
       "      <td>1</td>\n",
       "      <td>25674000</td>\n",
       "    </tr>\n",
       "    <tr>\n",
       "      <th>2</th>\n",
       "      <td>1313712000</td>\n",
       "      <td>14.90</td>\n",
       "      <td>15.21</td>\n",
       "      <td>14.73</td>\n",
       "      <td>14.73</td>\n",
       "      <td>30689</td>\n",
       "      <td>1</td>\n",
       "      <td>23649000</td>\n",
       "    </tr>\n",
       "    <tr>\n",
       "      <th>3</th>\n",
       "      <td>1313971200</td>\n",
       "      <td>15.03</td>\n",
       "      <td>15.15</td>\n",
       "      <td>14.68</td>\n",
       "      <td>14.69</td>\n",
       "      <td>22964</td>\n",
       "      <td>1</td>\n",
       "      <td>17195200</td>\n",
       "    </tr>\n",
       "    <tr>\n",
       "      <th>4</th>\n",
       "      <td>1314057600</td>\n",
       "      <td>14.80</td>\n",
       "      <td>15.18</td>\n",
       "      <td>14.59</td>\n",
       "      <td>15.07</td>\n",
       "      <td>23128</td>\n",
       "      <td>1</td>\n",
       "      <td>21910500</td>\n",
       "    </tr>\n",
       "    <tr>\n",
       "      <th>...</th>\n",
       "      <td>...</td>\n",
       "      <td>...</td>\n",
       "      <td>...</td>\n",
       "      <td>...</td>\n",
       "      <td>...</td>\n",
       "      <td>...</td>\n",
       "      <td>...</td>\n",
       "      <td>...</td>\n",
       "    </tr>\n",
       "    <tr>\n",
       "      <th>2480</th>\n",
       "      <td>1630022400</td>\n",
       "      <td>27.70</td>\n",
       "      <td>28.49</td>\n",
       "      <td>27.67</td>\n",
       "      <td>28.49</td>\n",
       "      <td>74976</td>\n",
       "      <td>1</td>\n",
       "      <td>76095600</td>\n",
       "    </tr>\n",
       "    <tr>\n",
       "      <th>2481</th>\n",
       "      <td>1630281600</td>\n",
       "      <td>28.40</td>\n",
       "      <td>28.71</td>\n",
       "      <td>28.26</td>\n",
       "      <td>28.30</td>\n",
       "      <td>77793</td>\n",
       "      <td>1</td>\n",
       "      <td>60857400</td>\n",
       "    </tr>\n",
       "    <tr>\n",
       "      <th>2482</th>\n",
       "      <td>1630368000</td>\n",
       "      <td>28.20</td>\n",
       "      <td>28.23</td>\n",
       "      <td>26.99</td>\n",
       "      <td>27.19</td>\n",
       "      <td>138678</td>\n",
       "      <td>1</td>\n",
       "      <td>109914400</td>\n",
       "    </tr>\n",
       "    <tr>\n",
       "      <th>2483</th>\n",
       "      <td>1630454400</td>\n",
       "      <td>27.32</td>\n",
       "      <td>27.34</td>\n",
       "      <td>26.33</td>\n",
       "      <td>27.04</td>\n",
       "      <td>135235</td>\n",
       "      <td>1</td>\n",
       "      <td>69059900</td>\n",
       "    </tr>\n",
       "    <tr>\n",
       "      <th>2484</th>\n",
       "      <td>1630540800</td>\n",
       "      <td>27.00</td>\n",
       "      <td>27.35</td>\n",
       "      <td>26.46</td>\n",
       "      <td>26.60</td>\n",
       "      <td>93447</td>\n",
       "      <td>1</td>\n",
       "      <td>55501400</td>\n",
       "    </tr>\n",
       "  </tbody>\n",
       "</table>\n",
       "<p>2485 rows × 8 columns</p>\n",
       "</div>"
      ],
      "text/plain": [
       "            time   open   high    low  close  tick_volume  spread  real_volume\n",
       "0     1313539200  15.55  15.67  15.36  15.60        25850       1     18831300\n",
       "1     1313625600  15.21  15.23  14.78  15.18        30147       1     25674000\n",
       "2     1313712000  14.90  15.21  14.73  14.73        30689       1     23649000\n",
       "3     1313971200  15.03  15.15  14.68  14.69        22964       1     17195200\n",
       "4     1314057600  14.80  15.18  14.59  15.07        23128       1     21910500\n",
       "...          ...    ...    ...    ...    ...          ...     ...          ...\n",
       "2480  1630022400  27.70  28.49  27.67  28.49        74976       1     76095600\n",
       "2481  1630281600  28.40  28.71  28.26  28.30        77793       1     60857400\n",
       "2482  1630368000  28.20  28.23  26.99  27.19       138678       1    109914400\n",
       "2483  1630454400  27.32  27.34  26.33  27.04       135235       1     69059900\n",
       "2484  1630540800  27.00  27.35  26.46  26.60        93447       1     55501400\n",
       "\n",
       "[2485 rows x 8 columns]"
      ]
     },
     "execution_count": 126,
     "metadata": {},
     "output_type": "execute_result"
    }
   ],
   "source": [
    "ativo"
   ]
  },
  {
   "cell_type": "code",
   "execution_count": 127,
   "metadata": {},
   "outputs": [],
   "source": [
    "ativo['time']=pd.to_datetime(ativo['time'], unit='s')"
   ]
  },
  {
   "cell_type": "code",
   "execution_count": 128,
   "metadata": {},
   "outputs": [
    {
     "data": {
      "text/html": [
       "<div>\n",
       "<style scoped>\n",
       "    .dataframe tbody tr th:only-of-type {\n",
       "        vertical-align: middle;\n",
       "    }\n",
       "\n",
       "    .dataframe tbody tr th {\n",
       "        vertical-align: top;\n",
       "    }\n",
       "\n",
       "    .dataframe thead th {\n",
       "        text-align: right;\n",
       "    }\n",
       "</style>\n",
       "<table border=\"1\" class=\"dataframe\">\n",
       "  <thead>\n",
       "    <tr style=\"text-align: right;\">\n",
       "      <th></th>\n",
       "      <th>time</th>\n",
       "      <th>open</th>\n",
       "      <th>high</th>\n",
       "      <th>low</th>\n",
       "      <th>close</th>\n",
       "      <th>tick_volume</th>\n",
       "      <th>spread</th>\n",
       "      <th>real_volume</th>\n",
       "    </tr>\n",
       "  </thead>\n",
       "  <tbody>\n",
       "    <tr>\n",
       "      <th>0</th>\n",
       "      <td>2011-08-17</td>\n",
       "      <td>15.55</td>\n",
       "      <td>15.67</td>\n",
       "      <td>15.36</td>\n",
       "      <td>15.60</td>\n",
       "      <td>25850</td>\n",
       "      <td>1</td>\n",
       "      <td>18831300</td>\n",
       "    </tr>\n",
       "    <tr>\n",
       "      <th>1</th>\n",
       "      <td>2011-08-18</td>\n",
       "      <td>15.21</td>\n",
       "      <td>15.23</td>\n",
       "      <td>14.78</td>\n",
       "      <td>15.18</td>\n",
       "      <td>30147</td>\n",
       "      <td>1</td>\n",
       "      <td>25674000</td>\n",
       "    </tr>\n",
       "    <tr>\n",
       "      <th>2</th>\n",
       "      <td>2011-08-19</td>\n",
       "      <td>14.90</td>\n",
       "      <td>15.21</td>\n",
       "      <td>14.73</td>\n",
       "      <td>14.73</td>\n",
       "      <td>30689</td>\n",
       "      <td>1</td>\n",
       "      <td>23649000</td>\n",
       "    </tr>\n",
       "    <tr>\n",
       "      <th>3</th>\n",
       "      <td>2011-08-22</td>\n",
       "      <td>15.03</td>\n",
       "      <td>15.15</td>\n",
       "      <td>14.68</td>\n",
       "      <td>14.69</td>\n",
       "      <td>22964</td>\n",
       "      <td>1</td>\n",
       "      <td>17195200</td>\n",
       "    </tr>\n",
       "    <tr>\n",
       "      <th>4</th>\n",
       "      <td>2011-08-23</td>\n",
       "      <td>14.80</td>\n",
       "      <td>15.18</td>\n",
       "      <td>14.59</td>\n",
       "      <td>15.07</td>\n",
       "      <td>23128</td>\n",
       "      <td>1</td>\n",
       "      <td>21910500</td>\n",
       "    </tr>\n",
       "    <tr>\n",
       "      <th>...</th>\n",
       "      <td>...</td>\n",
       "      <td>...</td>\n",
       "      <td>...</td>\n",
       "      <td>...</td>\n",
       "      <td>...</td>\n",
       "      <td>...</td>\n",
       "      <td>...</td>\n",
       "      <td>...</td>\n",
       "    </tr>\n",
       "    <tr>\n",
       "      <th>2480</th>\n",
       "      <td>2021-08-27</td>\n",
       "      <td>27.70</td>\n",
       "      <td>28.49</td>\n",
       "      <td>27.67</td>\n",
       "      <td>28.49</td>\n",
       "      <td>74976</td>\n",
       "      <td>1</td>\n",
       "      <td>76095600</td>\n",
       "    </tr>\n",
       "    <tr>\n",
       "      <th>2481</th>\n",
       "      <td>2021-08-30</td>\n",
       "      <td>28.40</td>\n",
       "      <td>28.71</td>\n",
       "      <td>28.26</td>\n",
       "      <td>28.30</td>\n",
       "      <td>77793</td>\n",
       "      <td>1</td>\n",
       "      <td>60857400</td>\n",
       "    </tr>\n",
       "    <tr>\n",
       "      <th>2482</th>\n",
       "      <td>2021-08-31</td>\n",
       "      <td>28.20</td>\n",
       "      <td>28.23</td>\n",
       "      <td>26.99</td>\n",
       "      <td>27.19</td>\n",
       "      <td>138678</td>\n",
       "      <td>1</td>\n",
       "      <td>109914400</td>\n",
       "    </tr>\n",
       "    <tr>\n",
       "      <th>2483</th>\n",
       "      <td>2021-09-01</td>\n",
       "      <td>27.32</td>\n",
       "      <td>27.34</td>\n",
       "      <td>26.33</td>\n",
       "      <td>27.04</td>\n",
       "      <td>135235</td>\n",
       "      <td>1</td>\n",
       "      <td>69059900</td>\n",
       "    </tr>\n",
       "    <tr>\n",
       "      <th>2484</th>\n",
       "      <td>2021-09-02</td>\n",
       "      <td>27.00</td>\n",
       "      <td>27.35</td>\n",
       "      <td>26.46</td>\n",
       "      <td>26.60</td>\n",
       "      <td>93447</td>\n",
       "      <td>1</td>\n",
       "      <td>55501400</td>\n",
       "    </tr>\n",
       "  </tbody>\n",
       "</table>\n",
       "<p>2485 rows × 8 columns</p>\n",
       "</div>"
      ],
      "text/plain": [
       "           time   open   high    low  close  tick_volume  spread  real_volume\n",
       "0    2011-08-17  15.55  15.67  15.36  15.60        25850       1     18831300\n",
       "1    2011-08-18  15.21  15.23  14.78  15.18        30147       1     25674000\n",
       "2    2011-08-19  14.90  15.21  14.73  14.73        30689       1     23649000\n",
       "3    2011-08-22  15.03  15.15  14.68  14.69        22964       1     17195200\n",
       "4    2011-08-23  14.80  15.18  14.59  15.07        23128       1     21910500\n",
       "...         ...    ...    ...    ...    ...          ...     ...          ...\n",
       "2480 2021-08-27  27.70  28.49  27.67  28.49        74976       1     76095600\n",
       "2481 2021-08-30  28.40  28.71  28.26  28.30        77793       1     60857400\n",
       "2482 2021-08-31  28.20  28.23  26.99  27.19       138678       1    109914400\n",
       "2483 2021-09-01  27.32  27.34  26.33  27.04       135235       1     69059900\n",
       "2484 2021-09-02  27.00  27.35  26.46  26.60        93447       1     55501400\n",
       "\n",
       "[2485 rows x 8 columns]"
      ]
     },
     "execution_count": 128,
     "metadata": {},
     "output_type": "execute_result"
    }
   ],
   "source": [
    "ativo"
   ]
  },
  {
   "cell_type": "code",
   "execution_count": 129,
   "metadata": {},
   "outputs": [],
   "source": [
    "ativo['time']=pd.to_datetime(ativo['time'], unit='s')\n",
    "ativo.index = ativo['time']"
   ]
  },
  {
   "cell_type": "code",
   "execution_count": 130,
   "metadata": {},
   "outputs": [
    {
     "data": {
      "text/html": [
       "<div>\n",
       "<style scoped>\n",
       "    .dataframe tbody tr th:only-of-type {\n",
       "        vertical-align: middle;\n",
       "    }\n",
       "\n",
       "    .dataframe tbody tr th {\n",
       "        vertical-align: top;\n",
       "    }\n",
       "\n",
       "    .dataframe thead th {\n",
       "        text-align: right;\n",
       "    }\n",
       "</style>\n",
       "<table border=\"1\" class=\"dataframe\">\n",
       "  <thead>\n",
       "    <tr style=\"text-align: right;\">\n",
       "      <th></th>\n",
       "      <th>time</th>\n",
       "      <th>open</th>\n",
       "      <th>high</th>\n",
       "      <th>low</th>\n",
       "      <th>close</th>\n",
       "      <th>tick_volume</th>\n",
       "      <th>spread</th>\n",
       "      <th>real_volume</th>\n",
       "    </tr>\n",
       "    <tr>\n",
       "      <th>time</th>\n",
       "      <th></th>\n",
       "      <th></th>\n",
       "      <th></th>\n",
       "      <th></th>\n",
       "      <th></th>\n",
       "      <th></th>\n",
       "      <th></th>\n",
       "      <th></th>\n",
       "    </tr>\n",
       "  </thead>\n",
       "  <tbody>\n",
       "    <tr>\n",
       "      <th>2011-08-17</th>\n",
       "      <td>2011-08-17</td>\n",
       "      <td>15.55</td>\n",
       "      <td>15.67</td>\n",
       "      <td>15.36</td>\n",
       "      <td>15.60</td>\n",
       "      <td>25850</td>\n",
       "      <td>1</td>\n",
       "      <td>18831300</td>\n",
       "    </tr>\n",
       "    <tr>\n",
       "      <th>2011-08-18</th>\n",
       "      <td>2011-08-18</td>\n",
       "      <td>15.21</td>\n",
       "      <td>15.23</td>\n",
       "      <td>14.78</td>\n",
       "      <td>15.18</td>\n",
       "      <td>30147</td>\n",
       "      <td>1</td>\n",
       "      <td>25674000</td>\n",
       "    </tr>\n",
       "    <tr>\n",
       "      <th>2011-08-19</th>\n",
       "      <td>2011-08-19</td>\n",
       "      <td>14.90</td>\n",
       "      <td>15.21</td>\n",
       "      <td>14.73</td>\n",
       "      <td>14.73</td>\n",
       "      <td>30689</td>\n",
       "      <td>1</td>\n",
       "      <td>23649000</td>\n",
       "    </tr>\n",
       "    <tr>\n",
       "      <th>2011-08-22</th>\n",
       "      <td>2011-08-22</td>\n",
       "      <td>15.03</td>\n",
       "      <td>15.15</td>\n",
       "      <td>14.68</td>\n",
       "      <td>14.69</td>\n",
       "      <td>22964</td>\n",
       "      <td>1</td>\n",
       "      <td>17195200</td>\n",
       "    </tr>\n",
       "    <tr>\n",
       "      <th>2011-08-23</th>\n",
       "      <td>2011-08-23</td>\n",
       "      <td>14.80</td>\n",
       "      <td>15.18</td>\n",
       "      <td>14.59</td>\n",
       "      <td>15.07</td>\n",
       "      <td>23128</td>\n",
       "      <td>1</td>\n",
       "      <td>21910500</td>\n",
       "    </tr>\n",
       "    <tr>\n",
       "      <th>...</th>\n",
       "      <td>...</td>\n",
       "      <td>...</td>\n",
       "      <td>...</td>\n",
       "      <td>...</td>\n",
       "      <td>...</td>\n",
       "      <td>...</td>\n",
       "      <td>...</td>\n",
       "      <td>...</td>\n",
       "    </tr>\n",
       "    <tr>\n",
       "      <th>2021-08-27</th>\n",
       "      <td>2021-08-27</td>\n",
       "      <td>27.70</td>\n",
       "      <td>28.49</td>\n",
       "      <td>27.67</td>\n",
       "      <td>28.49</td>\n",
       "      <td>74976</td>\n",
       "      <td>1</td>\n",
       "      <td>76095600</td>\n",
       "    </tr>\n",
       "    <tr>\n",
       "      <th>2021-08-30</th>\n",
       "      <td>2021-08-30</td>\n",
       "      <td>28.40</td>\n",
       "      <td>28.71</td>\n",
       "      <td>28.26</td>\n",
       "      <td>28.30</td>\n",
       "      <td>77793</td>\n",
       "      <td>1</td>\n",
       "      <td>60857400</td>\n",
       "    </tr>\n",
       "    <tr>\n",
       "      <th>2021-08-31</th>\n",
       "      <td>2021-08-31</td>\n",
       "      <td>28.20</td>\n",
       "      <td>28.23</td>\n",
       "      <td>26.99</td>\n",
       "      <td>27.19</td>\n",
       "      <td>138678</td>\n",
       "      <td>1</td>\n",
       "      <td>109914400</td>\n",
       "    </tr>\n",
       "    <tr>\n",
       "      <th>2021-09-01</th>\n",
       "      <td>2021-09-01</td>\n",
       "      <td>27.32</td>\n",
       "      <td>27.34</td>\n",
       "      <td>26.33</td>\n",
       "      <td>27.04</td>\n",
       "      <td>135235</td>\n",
       "      <td>1</td>\n",
       "      <td>69059900</td>\n",
       "    </tr>\n",
       "    <tr>\n",
       "      <th>2021-09-02</th>\n",
       "      <td>2021-09-02</td>\n",
       "      <td>27.00</td>\n",
       "      <td>27.35</td>\n",
       "      <td>26.46</td>\n",
       "      <td>26.60</td>\n",
       "      <td>93447</td>\n",
       "      <td>1</td>\n",
       "      <td>55501400</td>\n",
       "    </tr>\n",
       "  </tbody>\n",
       "</table>\n",
       "<p>2485 rows × 8 columns</p>\n",
       "</div>"
      ],
      "text/plain": [
       "                 time   open   high    low  close  tick_volume  spread  \\\n",
       "time                                                                     \n",
       "2011-08-17 2011-08-17  15.55  15.67  15.36  15.60        25850       1   \n",
       "2011-08-18 2011-08-18  15.21  15.23  14.78  15.18        30147       1   \n",
       "2011-08-19 2011-08-19  14.90  15.21  14.73  14.73        30689       1   \n",
       "2011-08-22 2011-08-22  15.03  15.15  14.68  14.69        22964       1   \n",
       "2011-08-23 2011-08-23  14.80  15.18  14.59  15.07        23128       1   \n",
       "...               ...    ...    ...    ...    ...          ...     ...   \n",
       "2021-08-27 2021-08-27  27.70  28.49  27.67  28.49        74976       1   \n",
       "2021-08-30 2021-08-30  28.40  28.71  28.26  28.30        77793       1   \n",
       "2021-08-31 2021-08-31  28.20  28.23  26.99  27.19       138678       1   \n",
       "2021-09-01 2021-09-01  27.32  27.34  26.33  27.04       135235       1   \n",
       "2021-09-02 2021-09-02  27.00  27.35  26.46  26.60        93447       1   \n",
       "\n",
       "            real_volume  \n",
       "time                     \n",
       "2011-08-17     18831300  \n",
       "2011-08-18     25674000  \n",
       "2011-08-19     23649000  \n",
       "2011-08-22     17195200  \n",
       "2011-08-23     21910500  \n",
       "...                 ...  \n",
       "2021-08-27     76095600  \n",
       "2021-08-30     60857400  \n",
       "2021-08-31    109914400  \n",
       "2021-09-01     69059900  \n",
       "2021-09-02     55501400  \n",
       "\n",
       "[2485 rows x 8 columns]"
      ]
     },
     "execution_count": 130,
     "metadata": {},
     "output_type": "execute_result"
    }
   ],
   "source": [
    "ativo"
   ]
  },
  {
   "cell_type": "code",
   "execution_count": 132,
   "metadata": {},
   "outputs": [
    {
     "data": {
      "text/plain": [
       "<AxesSubplot:xlabel='time'>"
      ]
     },
     "execution_count": 132,
     "metadata": {},
     "output_type": "execute_result"
    },
    {
     "data": {
      "image/png": "[encoded data removed]",
      "text/plain": [
       "<Figure size 432x288 with 1 Axes>"
      ]
     },
     "metadata": {
      "needs_background": "light"
     },
     "output_type": "display_data"
    }
   ],
   "source": [
    "ativo.close.plot()"
   ]
  },
  {
   "cell_type": "markdown",
   "metadata": {},
   "source": [
    "## Criando função que retorna plot da função escolhida"
   ]
  },
  {
   "cell_type": "code",
   "execution_count": 133,
   "metadata": {},
   "outputs": [
    {
     "ename": "TypeError",
     "evalue": "unsupported operand type(s) for -: 'datetime.datetime' and 'int'",
     "output_type": "error",
     "traceback": [
      "\u001b[1;31m---------------------------------------------------------------------------\u001b[0m",
      "\u001b[1;31mTypeError\u001b[0m                                 Traceback (most recent call last)",
      "\u001b[1;32m<ipython-input-133-0c94c9cd23d8>\u001b[0m in \u001b[0;36m<module>\u001b[1;34m\u001b[0m\n\u001b[1;32m----> 1\u001b[1;33m \u001b[0mtoday\u001b[0m\u001b[1;33m-\u001b[0m\u001b[1;36m300\u001b[0m\u001b[1;33m\u001b[0m\u001b[1;33m\u001b[0m\u001b[0m\n\u001b[0m",
      "\u001b[1;31mTypeError\u001b[0m: unsupported operand type(s) for -: 'datetime.datetime' and 'int'"
     ]
    }
   ],
   "source": [
    "today-300"
   ]
  },
  {
   "cell_type": "code",
   "execution_count": 134,
   "metadata": {},
   "outputs": [],
   "source": [
    "import os, time"
   ]
  },
  {
   "cell_type": "code",
   "execution_count": 135,
   "metadata": {},
   "outputs": [],
   "source": [
    "s = time.strftime('%m/%d/%Y', time.gmtime(time.time()))"
   ]
  },
  {
   "cell_type": "code",
   "execution_count": 137,
   "metadata": {},
   "outputs": [
    {
     "data": {
      "text/plain": [
       "str"
      ]
     },
     "execution_count": 137,
     "metadata": {},
     "output_type": "execute_result"
    }
   ],
   "source": [
    "type(s)"
   ]
  },
  {
   "cell_type": "code",
   "execution_count": 146,
   "metadata": {},
   "outputs": [],
   "source": [
    "from datetime import datetime, timedelta"
   ]
  },
  {
   "cell_type": "code",
   "execution_count": 150,
   "metadata": {},
   "outputs": [
    {
     "ename": "AttributeError",
     "evalue": "type object 'datetime.datetime' has no attribute 'timedelta'",
     "output_type": "error",
     "traceback": [
      "\u001b[1;31m---------------------------------------------------------------------------\u001b[0m",
      "\u001b[1;31mAttributeError\u001b[0m                            Traceback (most recent call last)",
      "\u001b[1;32m<ipython-input-150-ec5e5de71afd>\u001b[0m in \u001b[0;36m<module>\u001b[1;34m\u001b[0m\n\u001b[1;32m----> 1\u001b[1;33m \u001b[0ms\u001b[0m \u001b[1;33m-\u001b[0m \u001b[0mdatetime\u001b[0m\u001b[1;33m.\u001b[0m\u001b[0mtimedelta\u001b[0m\u001b[1;33m(\u001b[0m\u001b[0mdays\u001b[0m\u001b[1;33m=\u001b[0m\u001b[1;36m10\u001b[0m\u001b[1;33m)\u001b[0m\u001b[1;33m\u001b[0m\u001b[1;33m\u001b[0m\u001b[0m\n\u001b[0m",
      "\u001b[1;31mAttributeError\u001b[0m: type object 'datetime.datetime' has no attribute 'timedelta'"
     ]
    }
   ],
   "source": [
    "s - datetime.timedelta(days=10)"
   ]
  },
  {
   "cell_type": "code",
   "execution_count": 153,
   "metadata": {},
   "outputs": [],
   "source": [
    "today= datetime.today()"
   ]
  },
  {
   "cell_type": "code",
   "execution_count": 156,
   "metadata": {},
   "outputs": [
    {
     "data": {
      "text/plain": [
       "datetime.datetime(2018, 12, 8, 9, 55, 7, 131455)"
      ]
     },
     "execution_count": 156,
     "metadata": {},
     "output_type": "execute_result"
    }
   ],
   "source": [
    "today-timedelta(days=1000)"
   ]
  },
  {
   "cell_type": "code",
   "execution_count": 162,
   "metadata": {},
   "outputs": [
    {
     "data": {
      "text/plain": [
       "3006"
      ]
     },
     "execution_count": 162,
     "metadata": {},
     "output_type": "execute_result"
    }
   ],
   "source": [
    "(today - start).days"
   ]
  },
  {
   "cell_type": "code",
   "execution_count": null,
   "metadata": {},
   "outputs": [],
   "source": [
    "from datetime import datetime, timedelta\n",
    "\n",
    "print (start,end )"
   ]
  },
  {
   "cell_type": "code",
   "execution_count": null,
   "metadata": {},
   "outputs": [],
   "source": [
    "s - datetime.timedelta(days=10)"
   ]
  },
  {
   "cell_type": "code",
   "execution_count": 164,
   "metadata": {},
   "outputs": [
    {
     "data": {
      "text/plain": [
       "3006"
      ]
     },
     "execution_count": 164,
     "metadata": {},
     "output_type": "execute_result"
    }
   ],
   "source": [
    "end = datetime.today()\n",
    "(end - start).days"
   ]
  },
  {
   "cell_type": "code",
   "execution_count": 4,
   "metadata": {},
   "outputs": [],
   "source": [
    "janela = mt5.TIMEFRAME_D1"
   ]
  },
  {
   "cell_type": "code",
   "execution_count": 8,
   "metadata": {},
   "outputs": [],
   "source": [
    "def retorna_plot(ativo, inicio, timeframe):\n",
    "    mt5.initialize()\n",
    "    from datetime import datetime\n",
    "    start = inicio\n",
    "    start = datetime.strptime(start, \"%m/%d/%Y\") #string to date\n",
    "    end = datetime.today()\n",
    "    dias = (end - start).days\n",
    "    \n",
    "    rates = mt5.copy_rates_from(ativo, timeframe, end,dias)\n",
    "    ativo = pd.DataFrame(rates)\n",
    "    \n",
    "    ativo['time']=pd.to_datetime(ativo['time'], unit='s')\n",
    "    ativo.index = ativo['time']\n",
    "    mt5.shutdown()\n",
    "    \n",
    "    return ativo.close.plot()"
   ]
  },
  {
   "cell_type": "code",
   "execution_count": 9,
   "metadata": {},
   "outputs": [
    {
     "data": {
      "text/plain": [
       "<AxesSubplot:xlabel='time'>"
      ]
     },
     "execution_count": 9,
     "metadata": {},
     "output_type": "execute_result"
    },
    {
     "data": {
      "image/png": "[encoded data removed]",
      "text/plain": [
       "<Figure size 432x288 with 1 Axes>"
      ]
     },
     "metadata": {
      "needs_background": "light"
     },
     "output_type": "display_data"
    }
   ],
   "source": [
    "retorna_plot('WEGE3', '01/01/2019', janela)"
   ]
  },
  {
   "cell_type": "code",
   "execution_count": 12,
   "metadata": {},
   "outputs": [
    {
     "data": {
      "text/plain": [
       "<AxesSubplot:xlabel='time'>"
      ]
     },
     "execution_count": 12,
     "metadata": {},
     "output_type": "execute_result"
    },
    {
     "data": {
      "image/png": "[encoded data removed]",
      "text/plain": [
       "<Figure size 432x288 with 1 Axes>"
      ]
     },
     "metadata": {
      "needs_background": "light"
     },
     "output_type": "display_data"
    }
   ],
   "source": [
    "mt5.initialize()\n",
    "from datetime import datetime\n",
    "today= datetime.today()\n",
    "# recebemos 10 barras de EURUSD H4 a partir de 01/10/2019 no fuso horário UTC\n",
    "rates = mt5.copy_rates_from(\"GOLL4\", mt5.TIMEFRAME_M1, today,300)\n",
    "ativo = pd.DataFrame(rates)\n",
    "ativo['time']=pd.to_datetime(ativo['time'], unit='s')\n",
    "ativo.index = ativo['time']\n",
    "ativo.close.plot()"
   ]
  },
  {
   "cell_type": "code",
   "execution_count": 13,
   "metadata": {},
   "outputs": [
    {
     "data": {
      "text/html": [
       "<div>\n",
       "<style scoped>\n",
       "    .dataframe tbody tr th:only-of-type {\n",
       "        vertical-align: middle;\n",
       "    }\n",
       "\n",
       "    .dataframe tbody tr th {\n",
       "        vertical-align: top;\n",
       "    }\n",
       "\n",
       "    .dataframe thead th {\n",
       "        text-align: right;\n",
       "    }\n",
       "</style>\n",
       "<table border=\"1\" class=\"dataframe\">\n",
       "  <thead>\n",
       "    <tr style=\"text-align: right;\">\n",
       "      <th></th>\n",
       "      <th>time</th>\n",
       "      <th>open</th>\n",
       "      <th>high</th>\n",
       "      <th>low</th>\n",
       "      <th>close</th>\n",
       "      <th>tick_volume</th>\n",
       "      <th>spread</th>\n",
       "      <th>real_volume</th>\n",
       "    </tr>\n",
       "    <tr>\n",
       "      <th>time</th>\n",
       "      <th></th>\n",
       "      <th></th>\n",
       "      <th></th>\n",
       "      <th></th>\n",
       "      <th></th>\n",
       "      <th></th>\n",
       "      <th></th>\n",
       "      <th></th>\n",
       "    </tr>\n",
       "  </thead>\n",
       "  <tbody>\n",
       "    <tr>\n",
       "      <th>2021-09-06 16:00:00</th>\n",
       "      <td>2021-09-06 16:00:00</td>\n",
       "      <td>19.32</td>\n",
       "      <td>19.32</td>\n",
       "      <td>19.32</td>\n",
       "      <td>19.32</td>\n",
       "      <td>3</td>\n",
       "      <td>1</td>\n",
       "      <td>300</td>\n",
       "    </tr>\n",
       "    <tr>\n",
       "      <th>2021-09-06 16:01:00</th>\n",
       "      <td>2021-09-06 16:01:00</td>\n",
       "      <td>19.31</td>\n",
       "      <td>19.31</td>\n",
       "      <td>19.30</td>\n",
       "      <td>19.30</td>\n",
       "      <td>2</td>\n",
       "      <td>1</td>\n",
       "      <td>1400</td>\n",
       "    </tr>\n",
       "    <tr>\n",
       "      <th>2021-09-06 16:02:00</th>\n",
       "      <td>2021-09-06 16:02:00</td>\n",
       "      <td>19.31</td>\n",
       "      <td>19.31</td>\n",
       "      <td>19.30</td>\n",
       "      <td>19.30</td>\n",
       "      <td>4</td>\n",
       "      <td>1</td>\n",
       "      <td>3200</td>\n",
       "    </tr>\n",
       "    <tr>\n",
       "      <th>2021-09-06 16:03:00</th>\n",
       "      <td>2021-09-06 16:03:00</td>\n",
       "      <td>19.29</td>\n",
       "      <td>19.32</td>\n",
       "      <td>19.28</td>\n",
       "      <td>19.32</td>\n",
       "      <td>8</td>\n",
       "      <td>1</td>\n",
       "      <td>1300</td>\n",
       "    </tr>\n",
       "    <tr>\n",
       "      <th>2021-09-06 16:04:00</th>\n",
       "      <td>2021-09-06 16:04:00</td>\n",
       "      <td>19.31</td>\n",
       "      <td>19.31</td>\n",
       "      <td>19.30</td>\n",
       "      <td>19.30</td>\n",
       "      <td>2</td>\n",
       "      <td>2</td>\n",
       "      <td>200</td>\n",
       "    </tr>\n",
       "  </tbody>\n",
       "</table>\n",
       "</div>"
      ],
      "text/plain": [
       "                                   time   open   high    low  close  \\\n",
       "time                                                                  \n",
       "2021-09-06 16:00:00 2021-09-06 16:00:00  19.32  19.32  19.32  19.32   \n",
       "2021-09-06 16:01:00 2021-09-06 16:01:00  19.31  19.31  19.30  19.30   \n",
       "2021-09-06 16:02:00 2021-09-06 16:02:00  19.31  19.31  19.30  19.30   \n",
       "2021-09-06 16:03:00 2021-09-06 16:03:00  19.29  19.32  19.28  19.32   \n",
       "2021-09-06 16:04:00 2021-09-06 16:04:00  19.31  19.31  19.30  19.30   \n",
       "\n",
       "                     tick_volume  spread  real_volume  \n",
       "time                                                   \n",
       "2021-09-06 16:00:00            3       1          300  \n",
       "2021-09-06 16:01:00            2       1         1400  \n",
       "2021-09-06 16:02:00            4       1         3200  \n",
       "2021-09-06 16:03:00            8       1         1300  \n",
       "2021-09-06 16:04:00            2       2          200  "
      ]
     },
     "execution_count": 13,
     "metadata": {},
     "output_type": "execute_result"
    }
   ],
   "source": [
    "ativo.tail()"
   ]
  },
  {
   "cell_type": "code",
   "execution_count": null,
   "metadata": {},
   "outputs": [],
   "source": []
  },
  {
   "cell_type": "markdown",
   "metadata": {},
   "source": [
    "# Utilizando a CopyRatesfrom pos"
   ]
  },
  {
   "cell_type": "code",
   "execution_count": 209,
   "metadata": {},
   "outputs": [],
   "source": [
    "# estabelecemos a conexão ao MetaTrader 5\n",
    "if not mt5.initialize():\n",
    "    print(\"initialize() failed, error code =\",mt5.last_error())\n",
    "    quit()"
   ]
  },
  {
   "cell_type": "code",
   "execution_count": 210,
   "metadata": {},
   "outputs": [],
   "source": [
    "\n",
    "# solicitamos 10 barras de GBPUSD D1 do dia atual\n",
    "rates = mt5.copy_rates_from_pos(\"EMBR3\", mt5.TIMEFRAME_D1, 0, 300)\n",
    " "
   ]
  },
  {
   "cell_type": "code",
   "execution_count": 211,
   "metadata": {},
   "outputs": [
    {
     "data": {
      "text/plain": [
       "True"
      ]
     },
     "execution_count": 211,
     "metadata": {},
     "output_type": "execute_result"
    }
   ],
   "source": [
    "# concluímos a conexão ao terminal MetaTrader 5\n",
    "mt5.shutdown()\n",
    " "
   ]
  },
  {
   "cell_type": "code",
   "execution_count": 212,
   "metadata": {},
   "outputs": [
    {
     "name": "stdout",
     "output_type": "stream",
     "text": [
      "Exibimos os dados recebidos como estão\n",
      "(1592870400, 8.59, 8.64, 8.37, 8.52, 16295, 1, 9311100)\n",
      "(1592956800, 8.49, 8.73, 8.08, 8.09, 25804, 1, 13845400)\n",
      "(1593043200, 8.1, 8.22, 7.9, 8.15, 20598, 1, 12510100)\n",
      "(1593129600, 8.15, 8.26, 7.8, 7.83, 16735, 1, 10071200)\n",
      "(1593388800, 7.94, 8.42, 7.84, 8.42, 25804, 1, 17457400)\n",
      "(1593475200, 8.35, 8.36, 8.04, 8.09, 23700, 1, 14838600)\n",
      "(1593561600, 8.27, 8.44, 8.08, 8.1, 22427, 1, 14158200)\n",
      "(1593648000, 8.3, 8.66, 8.07, 8.17, 34097, 1, 19559200)\n",
      "(1593734400, 8.16, 8.26, 8.02, 8.19, 8044, 1, 5181000)\n",
      "(1593993600, 8.4, 8.51, 8.18, 8.47, 19933, 1, 12590400)\n",
      "(1594080000, 8.34, 8.42, 8.18, 8.2, 16966, 1, 10032300)\n",
      "(1594166400, 8.27, 8.3, 8.13, 8.18, 16922, 1, 9169700)\n",
      "(1594252800, 8.19, 8.2, 7.96, 7.99, 18339, 1, 11094400)\n",
      "(1594339200, 8., 8.09, 7.86, 8.06, 17365, 1, 9376200)\n",
      "(1594598400, 8.12, 8.3, 8.06, 8.16, 21152, 1, 15040000)\n",
      "(1594684800, 8.16, 8.17, 7.97, 8.01, 17757, 1, 12564300)\n",
      "(1594771200, 8.16, 8.8, 8.11, 8.8, 39682, 1, 28614000)\n",
      "(1594857600, 8.67, 8.86, 8.21, 8.26, 33580, 1, 23118900)\n",
      "(1594944000, 8.34, 8.48, 8.22, 8.38, 24038, 1, 12376000)\n",
      "(1595203200, 8.4, 8.46, 8.21, 8.32, 17653, 1, 10202700)\n",
      "(1595289600, 8.42, 8.67, 8.37, 8.5, 23719, 1, 15049000)\n",
      "(1595376000, 8.46, 8.48, 8.26, 8.31, 13614, 1, 9041200)\n",
      "(1595462400, 8.35, 8.42, 8.16, 8.22, 17295, 1, 11049800)\n",
      "(1595548800, 8.15, 8.18, 7.93, 8.02, 17895, 1, 11869500)\n",
      "(1595808000, 8.06, 8.09, 7.93, 8.02, 11426, 1, 8013300)\n",
      "(1595894400, 8.02, 8.25, 7.89, 8.17, 13655, 1, 9890200)\n",
      "(1595980800, 8.19, 8.24, 8.05, 8.18, 11683, 1, 7437600)\n",
      "(1596067200, 8.05, 8.11, 7.92, 7.95, 16614, 1, 12198400)\n",
      "(1596153600, 7.98, 8., 7.58, 7.61, 30390, 1, 21464500)\n",
      "(1596412800, 7.68, 7.77, 7.37, 7.66, 26982, 1, 15937700)\n",
      "(1596499200, 7.57, 7.71, 7.46, 7.47, 15530, 1, 7413300)\n",
      "(1596585600, 7.41, 7.68, 7.29, 7.66, 25635, 1, 13771900)\n",
      "(1596672000, 7.74, 7.74, 7.39, 7.58, 16642, 1, 9519200)\n",
      "(1596758400, 7.5, 7.61, 7.44, 7.5, 16537, 1, 8394800)\n",
      "(1597017600, 7.51, 7.95, 7.4, 7.93, 22788, 1, 14461800)\n",
      "(1597104000, 7.9, 8.32, 7.84, 8.02, 25598, 1, 17082300)\n",
      "(1597190400, 8.1, 8.17, 7.68, 7.8, 22011, 1, 11745200)\n",
      "(1597276800, 7.84, 7.9, 7.55, 7.6, 17844, 1, 8343700)\n",
      "(1597363200, 7.6, 7.74, 7.47, 7.68, 17342, 1, 8041200)\n",
      "(1597622400, 7.68, 7.74, 7.35, 7.39, 17924, 1, 10512700)\n",
      "(1597708800, 7.49, 7.5, 7.31, 7.39, 13975, 1, 7471100)\n",
      "(1597795200, 7.41, 7.43, 7.15, 7.16, 16805, 1, 11004400)\n",
      "(1597881600, 7.07, 7.22, 6.97, 7.16, 20944, 1, 13672600)\n",
      "(1597968000, 7.16, 7.33, 7.12, 7.24, 14606, 1, 8077700)\n",
      "(1598227200, 7.34, 7.73, 7.28, 7.64, 22556, 1, 14846100)\n",
      "(1598313600, 7.63, 7.72, 7.49, 7.66, 13194, 1, 9021600)\n",
      "(1598400000, 7.64, 7.77, 7.29, 7.31, 19500, 1, 10660800)\n",
      "(1598486400, 7.32, 7.53, 7.26, 7.33, 14129, 1, 9959100)\n",
      "(1598572800, 7.37, 7.62, 7.27, 7.56, 15396, 1, 10477400)\n",
      "(1598832000, 7.49, 7.57, 7.27, 7.34, 14626, 1, 9497600)\n",
      "(1598918400, 7.44, 7.8, 7.32, 7.67, 34242, 1, 16154800)\n",
      "(1599004800, 7.73, 7.86, 7.47, 7.57, 17665, 1, 10461800)\n",
      "(1599091200, 7.56, 7.94, 7.34, 7.44, 27574, 1, 19372800)\n",
      "(1599177600, 7.43, 7.44, 7.18, 7.41, 15606, 1, 12913700)\n",
      "(1599523200, 7.3, 7.39, 7.26, 7.36, 15038, 1, 9763000)\n",
      "(1599609600, 7.4, 7.66, 7.14, 7.19, 22124, 1, 20580500)\n",
      "(1599696000, 7.2, 7.26, 6.99, 7.01, 17292, 1, 16256000)\n",
      "(1599782400, 7.06, 7.07, 6.72, 6.81, 19168, 1, 13236300)\n",
      "(1600041600, 6.9, 6.95, 6.73, 6.9, 12536, 1, 9815400)\n",
      "(1600128000, 6.97, 7., 6.79, 6.87, 10861, 1, 6702100)\n",
      "(1600214400, 6.85, 7., 6.78, 6.92, 11952, 1, 7744600)\n",
      "(1600300800, 6.85, 7.02, 6.76, 6.97, 10821, 1, 8244900)\n",
      "(1600387200, 6.92, 6.93, 6.62, 6.68, 21827, 1, 16739400)\n",
      "(1600646400, 6.56, 6.6, 6.33, 6.36, 17729, 1, 14530000)\n",
      "(1600732800, 6.37, 6.41, 6.16, 6.18, 18554, 1, 18839800)\n",
      "(1600819200, 6.2, 6.36, 6.03, 6.04, 19708, 1, 14154200)\n",
      "(1600905600, 6.09, 6.29, 5.98, 6.18, 20536, 1, 19673600)\n",
      "(1600992000, 6.15, 6.22, 6.07, 6.12, 11808, 1, 10506200)\n",
      "(1601251200, 6.23, 6.66, 6.21, 6.36, 33385, 1, 33001000)\n",
      "(1601337600, 6.41, 6.56, 6.1, 6.1, 19942, 1, 17719100)\n",
      "(1601424000, 6.15, 6.35, 6.14, 6.24, 13440, 1, 13135300)\n",
      "(1601510400, 6.29, 6.48, 6.24, 6.47, 14532, 1, 11926300)\n",
      "(1601596800, 6.39, 6.55, 6.34, 6.49, 16761, 1, 12250100)\n",
      "(1601856000, 6.52, 6.64, 6.4, 6.42, 15931, 1, 10375900)\n",
      "(1601942400, 6.65, 6.92, 6.57, 6.62, 24952, 1, 23855100)\n",
      "(1602028800, 6.66, 6.73, 6.35, 6.37, 17631, 1, 14278700)\n",
      "(1602115200, 6.41, 6.69, 6.35, 6.69, 13215, 1, 10352100)\n",
      "(1602201600, 6.67, 6.82, 6.56, 6.69, 13174, 1, 10112200)\n",
      "(1602547200, 6.69, 6.71, 6.45, 6.49, 13704, 1, 10006800)\n",
      "(1602633600, 6.5, 6.68, 6.5, 6.57, 14255, 1, 10610300)\n",
      "(1602720000, 6.49, 6.63, 6.41, 6.6, 16585, 1, 8834000)\n",
      "(1602806400, 6.58, 6.66, 6.42, 6.47, 15912, 1, 9795900)\n",
      "(1603065600, 6.48, 6.69, 6.37, 6.4, 12964, 1, 10619800)\n",
      "(1603152000, 6.51, 6.63, 6.4, 6.59, 10940, 1, 10773300)\n",
      "(1603238400, 6.59, 6.86, 6.53, 6.79, 16042, 1, 15661800)\n",
      "(1603324800, 6.82, 6.95, 6.68, 6.82, 21087, 1, 16937700)\n",
      "(1603411200, 6.85, 7.17, 6.79, 7.09, 24204, 1, 23368000)\n",
      "(1603670400, 7.04, 7.08, 6.83, 6.88, 16036, 1, 15093100)\n",
      "(1603756800, 6.89, 6.94, 6.43, 6.45, 18828, 1, 23087100)\n",
      "(1603843200, 6.3, 6.3, 6.05, 6.05, 18899, 1, 20628000)\n",
      "(1603929600, 6.04, 6.11, 5.77, 6.11, 23377, 1, 23502100)\n",
      "(1604016000, 6.02, 6.08, 5.85, 6.03, 19632, 1, 18797600)\n",
      "(1604361600, 6.17, 6.21, 5.98, 6.03, 19424, 1, 14542900)\n",
      "(1604448000, 6.11, 6.29, 5.98, 6.24, 17068, 1, 14671100)\n",
      "(1604534400, 6.34, 6.63, 6.27, 6.61, 18040, 1, 15426800)\n",
      "(1604620800, 6.53, 6.68, 6.45, 6.55, 12318, 1, 11239900)\n",
      "(1604880000, 7., 7.53, 6.97, 7.41, 42012, 1, 44199300)\n",
      "(1604966400, 7.3, 7.48, 6.91, 7.32, 36677, 1, 33217300)\n",
      "(1605052800, 7.32, 7.59, 7.08, 7.18, 23471, 1, 19619800)\n",
      "(1605139200, 7.18, 7.32, 6.94, 7.02, 15453, 1, 14724800)\n",
      "(1605225600, 7.13, 7.53, 7.05, 7.45, 23206, 1, 21272300)\n",
      "(1605484800, 7.68, 8.1, 7.5, 8.05, 33302, 1, 28955100)\n",
      "(1605571200, 7.91, 8.18, 7.74, 8.1, 24939, 1, 21074200)\n",
      "(1605657600, 8.15, 8.5, 8., 8.05, 32925, 1, 26941700)\n",
      "(1605744000, 8.05, 8.14, 7.83, 8.08, 23994, 1, 17577500)\n",
      "(1605830400, 8.13, 8.15, 7.83, 7.9, 15341, 1, 12655000)\n",
      "(1606089600, 8.03, 8.39, 7.98, 8.21, 20312, 1, 16750700)\n",
      "(1606176000, 8.31, 8.67, 8.13, 8.41, 25582, 1, 22776900)\n",
      "(1606262400, 8.37, 8.5, 8.18, 8.31, 15591, 1, 12922000)\n",
      "(1606348800, 8.31, 8.4, 8.14, 8.27, 7567, 1, 6760600)\n",
      "(1606435200, 8.33, 8.54, 8.25, 8.25, 14185, 1, 10549200)\n",
      "(1606694400, 8.24, 8.45, 8.05, 8.1, 16561, 1, 15508900)\n",
      "(1606780800, 8.23, 8.44, 8.15, 8.21, 19117, 1, 13823800)\n",
      "(1606867200, 8.25, 8.44, 8.07, 8.42, 14153, 1, 11727400)\n",
      "(1606953600, 8.43, 9.7, 8.4, 9.35, 58442, 1, 58068300)\n",
      "(1607040000, 9.6, 9.92, 9.1, 9.37, 39409, 1, 33474800)\n",
      "(1607299200, 9.39, 9.57, 9.23, 9.37, 22535, 1, 18074300)\n",
      "(1607385600, 9.34, 9.42, 9.08, 9.18, 19886, 1, 14696800)\n",
      "(1607472000, 9.22, 9.29, 8.9, 8.97, 25115, 1, 19204600)\n",
      "(1607558400, 9.02, 9.06, 8.72, 8.89, 17032, 1, 12366600)\n",
      "(1607644800, 8.77, 9.12, 8.65, 9.05, 23143, 1, 16155700)\n",
      "(1607904000, 9.2, 9.32, 8.97, 9.01, 18778, 1, 14373100)\n",
      "(1607990400, 9.12, 9.38, 8.94, 9.27, 19195, 1, 15532700)\n",
      "(1608076800, 9.3, 9.33, 9.08, 9.22, 20499, 1, 12496300)\n",
      "(1608163200, 9.22, 9.4, 9.05, 9.11, 15342, 1, 13087000)\n",
      "(1608249600, 9.16, 9.21, 8.92, 8.95, 15782, 1, 15034600)\n",
      "(1608508800, 8.6, 8.8, 8.39, 8.54, 23110, 1, 21451300)\n",
      "(1608595200, 8.58, 8.67, 8.16, 8.22, 19366, 1, 13200500)\n",
      "(1608681600, 8.24, 8.57, 8.24, 8.56, 14687, 1, 13045000)\n",
      "(1609113600, 8.64, 8.69, 8.51, 8.67, 14932, 1, 11250800)\n",
      "(1609200000, 8.7, 8.78, 8.58, 8.63, 14529, 1, 8791200)\n",
      "(1609286400, 8.63, 8.9, 8.58, 8.85, 13711, 1, 10953200)\n",
      "(1609718400, 8.94, 9., 8.31, 8.37, 20537, 1, 17114300)\n",
      "(1609804800, 8.34, 8.68, 8.21, 8.57, 17695, 1, 12580900)\n",
      "(1609891200, 8.58, 9.15, 8.51, 8.91, 24952, 1, 21813900)\n",
      "(1609977600, 8.93, 9.14, 8.82, 8.88, 17430, 1, 12826600)\n",
      "(1610064000, 8.92, 9.01, 8.66, 8.81, 15476, 1, 11694800)\n",
      "(1610323200, 8.71, 8.85, 8.54, 8.61, 15861, 1, 10674400)\n",
      "(1610409600, 8.71, 9.33, 8.68, 9.29, 28694, 1, 27161800)\n",
      "(1610496000, 9.29, 9.4, 9.03, 9.2, 19962, 1, 13906900)\n",
      "(1610582400, 9.3, 10.09, 9.22, 9.98, 40891, 1, 35630400)\n",
      "(1610668800, 9.82, 9.96, 9.5, 9.52, 24600, 1, 19587300)\n",
      "(1610928000, 9.65, 9.95, 9.31, 9.38, 16464, 1, 15640200)\n",
      "(1611014400, 9.51, 9.55, 9.25, 9.47, 15999, 1, 15766400)\n",
      "(1611100800, 9.38, 9.62, 9., 9.16, 28928, 1, 23370100)\n",
      "(1611187200, 9.03, 9.07, 8.79, 8.88, 23615, 1, 18663900)\n",
      "(1611273600, 8.59, 8.74, 8.45, 8.66, 24504, 1, 18285000)\n",
      "(1611619200, 8.76, 8.96, 8.6, 8.65, 19791, 1, 12184600)\n",
      "(1611705600, 8.63, 9.09, 8.47, 8.84, 23093, 1, 16744100)\n",
      "(1611792000, 8.84, 9.27, 8.84, 9.13, 19478, 1, 15782000)\n",
      "(1611878400, 9., 9.22, 8.73, 8.79, 15623, 1, 11819800)\n",
      "(1612137600, 8.93, 8.99, 8.77, 8.93, 14455, 1, 10035300)\n",
      "(1612224000, 9.05, 9.54, 9.05, 9.53, 24541, 1, 16198400)\n",
      "(1612310400, 9.54, 9.82, 9.42, 9.64, 21688, 1, 15124400)\n",
      "(1612396800, 9.66, 9.85, 9.43, 9.45, 12795, 1, 8865100)\n",
      "(1612483200, 9.55, 9.62, 9.39, 9.47, 10358, 1, 7112500)\n",
      "(1612742400, 9.44, 9.75, 9.32, 9.63, 13840, 1, 9757300)\n",
      "(1612828800, 9.54, 9.67, 9.41, 9.63, 12071, 1, 7257700)\n",
      "(1612915200, 9.63, 9.94, 9.59, 9.67, 18976, 1, 14265200)\n",
      "(1613001600, 9.7, 10.46, 9.68, 10.02, 28639, 1, 25036500)\n",
      "(1613088000, 10.1, 10.25, 9.89, 10.08, 17897, 1, 15297700)\n",
      "(1613520000, 11.01, 11.58, 10.74, 11.5, 42256, 1, 37144800)\n",
      "(1613606400, 11.59, 12.37, 11.17, 11.3, 50280, 1, 33704500)\n",
      "(1613692800, 11.28, 11.73, 10.99, 11.62, 23435, 1, 15216400)\n",
      "(1613952000, 11.2, 12.77, 11.11, 12.48, 52775, 1, 36289800)\n",
      "(1614038400, 12.68, 12.68, 11.67, 12.35, 37445, 1, 21373800)\n",
      "(1614124800, 12.44, 13.33, 12.2, 13.1, 38110, 1, 25174200)\n",
      "(1614211200, 13.07, 13.22, 12.21, 12.27, 39087, 1, 21108300)\n",
      "(1614297600, 12.31, 12.42, 11.79, 12.23, 30534, 1, 17922400)\n",
      "(1614556800, 12.53, 12.7, 12.15, 12.21, 27387, 1, 14282400)\n",
      "(1614643200, 12.13, 12.56, 11.49, 12.42, 36223, 1, 16942600)\n",
      "(1614729600, 12.35, 12.56, 11.96, 12.43, 37672, 1, 18422000)\n",
      "(1614816000, 12.5, 12.94, 12.15, 12.4, 34331, 1, 18129600)\n",
      "(1614902400, 12.45, 12.89, 11.94, 12.82, 31292, 1, 17275100)\n",
      "(1615161600, 12.59, 13.1, 12.14, 12.23, 30990, 1, 15305200)\n",
      "(1615248000, 12.21, 12.53, 12., 12.34, 25661, 1, 12879700)\n",
      "(1615334400, 12.38, 13.82, 12.24, 13.82, 36574, 1, 22790700)\n",
      "(1615420800, 13.84, 13.93, 13.4, 13.74, 32901, 1, 17259300)\n",
      "(1615507200, 13.69, 14.52, 13.67, 14.4, 32812, 1, 20211700)\n",
      "(1615766400, 14.25, 15.04, 14.13, 14.69, 33704, 1, 17997800)\n",
      "(1615852800, 14.7, 14.82, 13.73, 13.99, 29887, 1, 15945200)\n",
      "(1615939200, 13.99, 14.45, 13.85, 14.42, 27577, 1, 12468800)\n",
      "(1616025600, 14.44, 14.64, 13.81, 13.95, 23316, 1, 11640600)\n",
      "(1616112000, 14.08, 14.78, 13.21, 14.51, 42838, 1, 31426600)\n",
      "(1616371200, 14.39, 14.45, 13.25, 13.43, 41036, 1, 26341900)\n",
      "(1616457600, 13.43, 14.25, 13.24, 13.35, 35705, 1, 20400800)\n",
      "(1616544000, 13.41, 13.9, 13.06, 13.1, 29754, 1, 15243700)\n",
      "(1616630400, 13.15, 13.43, 12.69, 13.19, 35530, 1, 17566100)\n",
      "(1616716800, 13.23, 13.6, 12.99, 13.2, 26663, 1, 15215500)\n",
      "(1616976000, 13.02, 13.46, 13.02, 13.12, 26495, 1, 12691500)\n",
      "(1617062400, 13.05, 14.4, 13.05, 14.34, 39057, 1, 22613700)\n",
      "(1617148800, 14.29, 14.33, 13.92, 14.01, 23935, 1, 11090300)\n",
      "(1617235200, 14.18, 14.63, 13.86, 13.9, 21210, 1, 12495300)\n",
      "(1617580800, 14.09, 14.8, 14.04, 14.66, 28707, 1, 16037100)\n",
      "(1617667200, 14.66, 14.83, 14.41, 14.46, 17421, 1, 8719800)\n",
      "(1617753600, 14.46, 14.8, 14.32, 14.78, 21998, 1, 11031400)\n",
      "(1617840000, 14.8, 16.08, 14.7, 16.08, 42175, 1, 24972000)\n",
      "(1617926400, 15.89, 16.05, 15.61, 15.96, 29433, 1, 14442500)\n",
      "(1618185600, 16.05, 16.2, 15.69, 16.05, 31185, 1, 12827700)\n",
      "(1618272000, 16., 16.17, 15.52, 15.76, 22604, 1, 12278800)\n",
      "(1618358400, 15.77, 16.55, 15.77, 16.14, 25256, 1, 12553300)\n",
      "(1618444800, 16.29, 16.4, 15.78, 15.96, 22951, 1, 11009500)\n",
      "(1618531200, 15.98, 16.04, 15.69, 15.81, 14766, 1, 6713700)\n",
      "(1618790400, 15.83, 15.87, 15.41, 15.43, 20384, 1, 9130700)\n",
      "(1618876800, 15.42, 15.61, 14.6, 15.08, 35418, 1, 22750700)\n",
      "(1619049600, 15.24, 15.45, 15.01, 15.19, 24102, 1, 9131400)\n",
      "(1619136000, 15.28, 15.65, 15.22, 15.51, 24098, 1, 8007100)\n",
      "(1619395200, 15.74, 16.1, 15.59, 16.09, 18956, 1, 9146800)\n",
      "(1619481600, 16.19, 16.48, 15.63, 15.93, 19904, 1, 9511600)\n",
      "(1619568000, 15.96, 16.02, 15.68, 15.78, 13341, 1, 5342800)\n",
      "(1619654400, 15.58, 15.89, 15.03, 15.1, 20664, 1, 9124000)\n",
      "(1619740800, 15.12, 15.43, 14.9, 15.4, 18987, 1, 8842600)\n",
      "(1620000000, 15.22, 15.96, 15.14, 15.96, 24852, 1, 9563700)\n",
      "(1620086400, 15.92, 16.16, 15.62, 15.91, 21077, 1, 9960800)\n",
      "(1620172800, 16.07, 16.09, 15.62, 15.71, 13783, 1, 5835600)\n",
      "(1620259200, 15.79, 16.17, 15.43, 15.82, 20585, 1, 9024000)\n",
      "(1620345600, 15.83, 16.99, 15.79, 16.99, 25745, 1, 13021200)\n",
      "(1620604800, 16.98, 17.18, 16.48, 16.57, 23598, 1, 8527700)\n",
      "(1620691200, 16.41, 16.69, 15.92, 16.44, 22098, 1, 9895500)\n",
      "(1620777600, 16.46, 16.5, 15.34, 15.57, 39040, 1, 19340900)\n",
      "(1620864000, 15.69, 16.01, 15.26, 15.53, 32760, 1, 13724000)\n",
      "(1620950400, 15.8, 16.22, 15.66, 15.99, 18475, 1, 7096200)\n",
      "(1621209600, 15.95, 16.1, 15.68, 16.1, 15093, 1, 5714900)\n",
      "(1621296000, 16.08, 16.64, 15.88, 16.42, 20659, 1, 9084400)\n",
      "(1621382400, 16.17, 16.17, 15.6, 15.89, 23166, 1, 12152800)\n",
      "(1621468800, 15.92, 16.17, 15.67, 16.15, 15859, 1, 7952500)\n",
      "(1621555200, 16.2, 16.76, 15.91, 16.66, 24397, 1, 11497400)\n",
      "(1621814400, 16.74, 17.09, 16.51, 17.05, 16915, 1, 7534900)\n",
      "(1621900800, 17.14, 17.79, 17.1, 17.27, 26940, 1, 13293700)\n",
      "(1621987200, 17.4, 17.65, 16.76, 16.85, 18315, 1, 10202000)\n",
      "(1622073600, 17.05, 18., 17.05, 17.87, 41020, 1, 19360600)\n",
      "(1622160000, 17.91, 18.03, 17.08, 17.43, 18652, 1, 9533400)\n",
      "(1622419200, 17.4, 17.43, 17.15, 17.28, 6455, 1, 2870500)\n",
      "(1622505600, 17.79, 18.55, 17.77, 17.98, 34990, 1, 14659600)\n",
      "(1622592000, 18.05, 18.15, 17.66, 17.82, 18534, 1, 7200200)\n",
      "(1622764800, 17.82, 17.84, 17.25, 17.26, 19661, 1, 8246600)\n",
      "(1623024000, 17.33, 17.5, 17.15, 17.48, 17813, 1, 7557900)\n",
      "(1623110400, 17.57, 18.1, 17.4, 17.55, 18168, 1, 8021300)\n",
      "(1623196800, 17.61, 17.67, 17.23, 17.3, 14292, 1, 5943000)\n",
      "(1623283200, 19.6, 20., 19.15, 20., 66232, 1, 38439200)\n",
      "(1623369600, 20.47, 21.29, 20.28, 21.02, 54826, 1, 27538000)\n",
      "(1623628800, 21.15, 21.5, 20.86, 21.07, 27951, 1, 13645800)\n",
      "(1623715200, 21.06, 21.56, 20.71, 21.38, 24624, 1, 11609300)\n",
      "(1623801600, 21.3, 21.3, 20.16, 20.44, 35399, 1, 15821000)\n",
      "(1623888000, 20.34, 20.63, 19.97, 20.23, 20836, 1, 8779100)\n",
      "(1623974400, 20.2, 20.48, 19.65, 20., 25054, 1, 11775500)\n",
      "(1624233600, 20.05, 20.35, 19.83, 20.35, 14106, 1, 5096600)\n",
      "(1624320000, 20.35, 20.45, 19.66, 20.08, 21813, 1, 8302100)\n",
      "(1624406400, 20.17, 20.44, 19.55, 19.66, 19495, 1, 9356900)\n",
      "(1624492800, 19.76, 20.02, 19.48, 19.61, 18285, 1, 8660500)\n",
      "(1624579200, 19.8, 19.85, 18.83, 19.1, 22368, 1, 9646400)\n",
      "(1624838400, 19.06, 19.21, 18.71, 18.99, 12916, 1, 5925400)\n",
      "(1624924800, 18.98, 19.06, 18.4, 18.61, 19059, 1, 7442600)\n",
      "(1625011200, 18.55, 19.02, 18.36, 18.87, 15727, 1, 6054300)\n",
      "(1625097600, 18.99, 19.1, 18.56, 18.74, 14067, 1, 4894900)\n",
      "(1625184000, 18.84, 19.21, 18.6, 18.95, 10298, 1, 5207400)\n",
      "(1625443200, 18.8, 19.45, 18.74, 18.98, 8642, 1, 4949700)\n",
      "(1625529600, 18.95, 19.09, 18.61, 18.69, 13094, 1, 4164200)\n",
      "(1625616000, 18.82, 19.11, 18.38, 18.69, 19441, 1, 6970000)\n",
      "(1625702400, 18.27, 18.58, 18., 18.21, 14091, 1, 5746800)\n",
      "(1626048000, 18.57, 19.72, 18.38, 19.7, 28085, 1, 17533500)\n",
      "(1626134400, 19.73, 19.92, 19.06, 19.12, 15595, 1, 10021700)\n",
      "(1626220800, 19.25, 19.36, 18.51, 18.63, 18121, 1, 10325400)\n",
      "(1626307200, 18.7, 18.78, 18.05, 18.27, 11976, 1, 6409400)\n",
      "(1626393600, 18.4, 18.47, 17.44, 17.54, 17695, 1, 10316900)\n",
      "(1626652800, 17.32, 17.32, 16.72, 17.3, 28411, 1, 14570400)\n",
      "(1626739200, 17.44, 18.43, 17.31, 18.32, 15530, 1, 11254500)\n",
      "(1626825600, 18.37, 19.17, 18.26, 18.87, 17129, 1, 10788000)\n",
      "(1626912000, 18.87, 19.24, 18.49, 18.7, 16711, 1, 7039900)\n",
      "(1626998400, 18.7, 19., 18.5, 18.51, 10007, 1, 5957800)\n",
      "(1627257600, 18.48, 19.42, 18.35, 19.16, 16543, 1, 10260800)\n",
      "(1627344000, 19.09, 19.3, 18.58, 18.92, 15349, 1, 10605000)\n",
      "(1627430400, 19.09, 19.39, 18.86, 19.37, 18587, 1, 11330300)\n",
      "(1627516800, 19.37, 19.63, 19.15, 19.42, 15594, 1, 10088100)\n"
     ]
    },
    {
     "name": "stdout",
     "output_type": "stream",
     "text": [
      "(1627603200, 19.25, 19.46, 18.42, 18.59, 14472, 1, 10319500)\n",
      "(1627862400, 18.79, 19.68, 18.6, 18.89, 19570, 1, 12336100)\n",
      "(1627948800, 18.86, 19.03, 17.96, 18.92, 18806, 1, 11457100)\n",
      "(1628035200, 18.91, 19.1, 18.26, 18.32, 13535, 1, 8066600)\n",
      "(1628121600, 18.5, 18.94, 18.45, 18.62, 13861, 1, 7682400)\n",
      "(1628208000, 18.55, 19.37, 18.55, 19.23, 12169, 1, 6959500)\n",
      "(1628467200, 19.06, 19.2, 18.69, 18.98, 10432, 1, 5293400)\n",
      "(1628553600, 19.2, 19.84, 19.08, 19.6, 32466, 1, 16262400)\n",
      "(1628640000, 19.59, 19.97, 19.18, 19.93, 17565, 1, 11121800)\n",
      "(1628726400, 19.94, 20.17, 19.3, 19.38, 14526, 1, 7477600)\n",
      "(1628812800, 19.93, 20.85, 19.84, 20.79, 35756, 1, 20326400)\n",
      "(1629072000, 20.76, 20.9, 19.34, 19.45, 30845, 1, 15163900)\n",
      "(1629158400, 19.27, 19.27, 17.84, 18.16, 37309, 1, 21163500)\n",
      "(1629244800, 18.31, 19.38, 18.08, 18.83, 32289, 1, 21417500)\n",
      "(1629331200, 18.45, 19.72, 18.28, 19.56, 22892, 1, 13352300)\n",
      "(1629417600, 19.27, 19.95, 19.14, 19.87, 17160, 1, 9725800)\n",
      "(1629676800, 19.88, 21.15, 19.76, 20.92, 27964, 1, 15404600)\n",
      "(1629763200, 20.86, 22.74, 20.86, 22.62, 37075, 1, 20384800)\n",
      "(1629849600, 22.57, 23.46, 22.24, 23.34, 31966, 1, 20744300)\n",
      "(1629936000, 23.2, 23.85, 23.06, 23.12, 22782, 1, 12239700)\n",
      "(1630022400, 23.12, 23.79, 22.9, 23.68, 16781, 1, 9704500)\n",
      "(1630281600, 23.6, 23.83, 22.86, 23.15, 17242, 1, 7931300)\n",
      "(1630368000, 23.07, 23.72, 22.89, 23.42, 26691, 1, 12278400)\n",
      "(1630454400, 23.6, 24.03, 22.82, 22.93, 21692, 1, 9545300)\n",
      "(1630540800, 22.86, 23.62, 22.72, 22.78, 25924, 1, 12371600)\n",
      "(1630627200, 22.81, 23.2, 22.03, 22.17, 5136, 0, 3852800)\n"
     ]
    }
   ],
   "source": [
    "# exibimos cada elemento de dados recebidos numa nova linha\n",
    "print(\"Exibimos os dados recebidos como estão\")\n",
    "for rate in rates:\n",
    "    print(rate)"
   ]
  },
  {
   "cell_type": "code",
   "execution_count": 213,
   "metadata": {},
   "outputs": [],
   "source": [
    "\n",
    "# a partir dos dados recebidos criamos o DataFrame\n",
    "rates_frame = pd.DataFrame(rates)\n",
    "# convertemos o tempo em segundos no formato datetime\n",
    "rates_frame['time']=pd.to_datetime(rates_frame['time'], unit='s')"
   ]
  },
  {
   "cell_type": "code",
   "execution_count": 214,
   "metadata": {},
   "outputs": [
    {
     "data": {
      "text/plain": [
       "(300, 8)"
      ]
     },
     "execution_count": 214,
     "metadata": {},
     "output_type": "execute_result"
    }
   ],
   "source": [
    "rates_frame.shape"
   ]
  },
  {
   "cell_type": "code",
   "execution_count": 215,
   "metadata": {},
   "outputs": [
    {
     "data": {
      "text/plain": [
       "<AxesSubplot:>"
      ]
     },
     "execution_count": 215,
     "metadata": {},
     "output_type": "execute_result"
    },
    {
     "data": {
      "image/png": "[encoded data removed]",
      "text/plain": [
       "<Figure size 432x288 with 1 Axes>"
      ]
     },
     "metadata": {
      "needs_background": "light"
     },
     "output_type": "display_data"
    }
   ],
   "source": [
    "rates_frame.close.plot()"
   ]
  },
  {
   "cell_type": "markdown",
   "metadata": {},
   "source": [
    "## Função copy_rates_range"
   ]
  },
  {
   "cell_type": "code",
   "execution_count": 58,
   "metadata": {},
   "outputs": [],
   "source": [
    "from datetime import datetime"
   ]
  },
  {
   "cell_type": "markdown",
   "metadata": {},
   "source": [
    "Rodar essa função para ver todos os fusos disponíveis"
   ]
  },
  {
   "cell_type": "code",
   "execution_count": null,
   "metadata": {},
   "outputs": [],
   "source": [
    "pytz.all_timezones"
   ]
  },
  {
   "cell_type": "code",
   "execution_count": 78,
   "metadata": {},
   "outputs": [],
   "source": [
    "timezone = pytz.timezone(\"Etc/GMT-3\")\n",
    "\n",
    "inicio = datetime(2021, 9, 27, hour = 9, tzinfo = timezone)\n",
    "fim = datetime(2021, 9, 27, hour = 17, tzinfo = timezone)"
   ]
  },
  {
   "cell_type": "code",
   "execution_count": 83,
   "metadata": {},
   "outputs": [],
   "source": [
    "# obtemos as barras com USDJPY M5 no intervalo 2020.01.10 00:00 - 2020.01.11 13:00 no fuso horário UTC\n",
    "rates = mt5.copy_rates_range(\"WEGE3\", mt5.TIMEFRAME_M1, inicio, fim)"
   ]
  },
  {
   "cell_type": "code",
   "execution_count": 84,
   "metadata": {},
   "outputs": [],
   "source": [
    "# a partir dos dados recebidos criamos o DataFrame\n",
    "rates_frame = pd.DataFrame(rates)\n",
    "# convertemos o tempo em segundos no formato datetime\n",
    "rates_frame['time']=pd.to_datetime(rates_frame['time'], unit='s')"
   ]
  },
  {
   "cell_type": "code",
   "execution_count": 85,
   "metadata": {},
   "outputs": [
    {
     "data": {
      "text/html": [
       "<div>\n",
       "<style scoped>\n",
       "    .dataframe tbody tr th:only-of-type {\n",
       "        vertical-align: middle;\n",
       "    }\n",
       "\n",
       "    .dataframe tbody tr th {\n",
       "        vertical-align: top;\n",
       "    }\n",
       "\n",
       "    .dataframe thead th {\n",
       "        text-align: right;\n",
       "    }\n",
       "</style>\n",
       "<table border=\"1\" class=\"dataframe\">\n",
       "  <thead>\n",
       "    <tr style=\"text-align: right;\">\n",
       "      <th></th>\n",
       "      <th>time</th>\n",
       "      <th>open</th>\n",
       "      <th>high</th>\n",
       "      <th>low</th>\n",
       "      <th>close</th>\n",
       "      <th>tick_volume</th>\n",
       "      <th>spread</th>\n",
       "      <th>real_volume</th>\n",
       "    </tr>\n",
       "  </thead>\n",
       "  <tbody>\n",
       "    <tr>\n",
       "      <th>0</th>\n",
       "      <td>2021-09-27 10:07:00</td>\n",
       "      <td>41.06</td>\n",
       "      <td>41.08</td>\n",
       "      <td>40.88</td>\n",
       "      <td>40.95</td>\n",
       "      <td>78</td>\n",
       "      <td>0</td>\n",
       "      <td>61200</td>\n",
       "    </tr>\n",
       "    <tr>\n",
       "      <th>1</th>\n",
       "      <td>2021-09-27 10:08:00</td>\n",
       "      <td>40.95</td>\n",
       "      <td>40.95</td>\n",
       "      <td>40.79</td>\n",
       "      <td>40.79</td>\n",
       "      <td>71</td>\n",
       "      <td>1</td>\n",
       "      <td>41300</td>\n",
       "    </tr>\n",
       "    <tr>\n",
       "      <th>2</th>\n",
       "      <td>2021-09-27 10:09:00</td>\n",
       "      <td>40.83</td>\n",
       "      <td>40.84</td>\n",
       "      <td>40.71</td>\n",
       "      <td>40.73</td>\n",
       "      <td>57</td>\n",
       "      <td>1</td>\n",
       "      <td>38100</td>\n",
       "    </tr>\n",
       "    <tr>\n",
       "      <th>3</th>\n",
       "      <td>2021-09-27 10:10:00</td>\n",
       "      <td>40.75</td>\n",
       "      <td>40.95</td>\n",
       "      <td>40.75</td>\n",
       "      <td>40.91</td>\n",
       "      <td>59</td>\n",
       "      <td>1</td>\n",
       "      <td>46000</td>\n",
       "    </tr>\n",
       "    <tr>\n",
       "      <th>4</th>\n",
       "      <td>2021-09-27 10:11:00</td>\n",
       "      <td>40.90</td>\n",
       "      <td>40.90</td>\n",
       "      <td>40.75</td>\n",
       "      <td>40.89</td>\n",
       "      <td>52</td>\n",
       "      <td>2</td>\n",
       "      <td>25600</td>\n",
       "    </tr>\n",
       "  </tbody>\n",
       "</table>\n",
       "</div>"
      ],
      "text/plain": [
       "                 time   open   high    low  close  tick_volume  spread  \\\n",
       "0 2021-09-27 10:07:00  41.06  41.08  40.88  40.95           78       0   \n",
       "1 2021-09-27 10:08:00  40.95  40.95  40.79  40.79           71       1   \n",
       "2 2021-09-27 10:09:00  40.83  40.84  40.71  40.73           57       1   \n",
       "3 2021-09-27 10:10:00  40.75  40.95  40.75  40.91           59       1   \n",
       "4 2021-09-27 10:11:00  40.90  40.90  40.75  40.89           52       2   \n",
       "\n",
       "   real_volume  \n",
       "0        61200  \n",
       "1        41300  \n",
       "2        38100  \n",
       "3        46000  \n",
       "4        25600  "
      ]
     },
     "execution_count": 85,
     "metadata": {},
     "output_type": "execute_result"
    }
   ],
   "source": [
    "rates_frame.head()"
   ]
  },
  {
   "cell_type": "code",
   "execution_count": 86,
   "metadata": {},
   "outputs": [
    {
     "data": {
      "text/plain": [
       "<AxesSubplot:xlabel='time'>"
      ]
     },
     "execution_count": 86,
     "metadata": {},
     "output_type": "execute_result"
    },
    {
     "data": {
      "image/png": "[encoded data removed]",
      "text/plain": [
       "<Figure size 432x288 with 1 Axes>"
      ]
     },
     "metadata": {
      "needs_background": "light"
     },
     "output_type": "display_data"
    }
   ],
   "source": [
    "rates_frame.index = rates_frame['time']\n",
    "rates_frame.close.plot()"
   ]
  },
  {
   "cell_type": "code",
   "execution_count": 87,
   "metadata": {},
   "outputs": [
    {
     "data": {
      "text/plain": [
       "(223, 8)"
      ]
     },
     "execution_count": 87,
     "metadata": {},
     "output_type": "execute_result"
    }
   ],
   "source": [
    "rates_frame.shape"
   ]
  },
  {
   "cell_type": "markdown",
   "metadata": {},
   "source": [
    "## Função copy_ticks_from"
   ]
  },
  {
   "cell_type": "markdown",
   "metadata": {},
   "source": [
    "COPY_TICKS_INFO - apenas as alterações no Bid & ASk\n",
    "\n",
    "COPY_TICKS_TRADE - apenas alterações no volume\n",
    "\n",
    "COPY_TICKS_ALL - todos os ticks"
   ]
  },
  {
   "cell_type": "code",
   "execution_count": 117,
   "metadata": {},
   "outputs": [
    {
     "data": {
      "text/plain": [
       "<AxesSubplot:xlabel='time'>"
      ]
     },
     "execution_count": 117,
     "metadata": {},
     "output_type": "execute_result"
    },
    {
     "data": {
      "image/png": "[encoded data removed]",
      "text/plain": [
       "<Figure size 432x288 with 1 Axes>"
      ]
     },
     "metadata": {
      "needs_background": "light"
     },
     "output_type": "display_data"
    }
   ],
   "source": [
    "dados = mt5.copy_ticks_from(\"WEGE3\",inicio,100000, mt5.COPY_TICKS_ALL)\n",
    "\n",
    "# a partir dos dados recebidos criamos o DataFrame\n",
    "dados_frame = pd.DataFrame(dados)\n",
    "\n",
    "# convertemos o tempo em segundos no formato datetime\n",
    "dados_frame['time']=pd.to_datetime(dados_frame['time'], unit='s')\n",
    "\n",
    "dados_frame.index = dados_frame['time']\n",
    "dados_frame['last'].plot()"
   ]
  },
  {
   "cell_type": "code",
   "execution_count": 118,
   "metadata": {},
   "outputs": [
    {
     "data": {
      "text/html": [
       "<div>\n",
       "<style scoped>\n",
       "    .dataframe tbody tr th:only-of-type {\n",
       "        vertical-align: middle;\n",
       "    }\n",
       "\n",
       "    .dataframe tbody tr th {\n",
       "        vertical-align: top;\n",
       "    }\n",
       "\n",
       "    .dataframe thead th {\n",
       "        text-align: right;\n",
       "    }\n",
       "</style>\n",
       "<table border=\"1\" class=\"dataframe\">\n",
       "  <thead>\n",
       "    <tr style=\"text-align: right;\">\n",
       "      <th></th>\n",
       "      <th>time</th>\n",
       "      <th>bid</th>\n",
       "      <th>ask</th>\n",
       "      <th>last</th>\n",
       "      <th>volume</th>\n",
       "      <th>time_msc</th>\n",
       "      <th>flags</th>\n",
       "      <th>volume_real</th>\n",
       "    </tr>\n",
       "    <tr>\n",
       "      <th>time</th>\n",
       "      <th></th>\n",
       "      <th></th>\n",
       "      <th></th>\n",
       "      <th></th>\n",
       "      <th></th>\n",
       "      <th></th>\n",
       "      <th></th>\n",
       "      <th></th>\n",
       "    </tr>\n",
       "  </thead>\n",
       "  <tbody>\n",
       "    <tr>\n",
       "      <th>2021-09-27 10:07:31</th>\n",
       "      <td>2021-09-27 10:07:31</td>\n",
       "      <td>0.0</td>\n",
       "      <td>0.00</td>\n",
       "      <td>41.06</td>\n",
       "      <td>3300</td>\n",
       "      <td>1632737251706</td>\n",
       "      <td>56</td>\n",
       "      <td>3300.0</td>\n",
       "    </tr>\n",
       "    <tr>\n",
       "      <th>2021-09-27 10:07:31</th>\n",
       "      <td>2021-09-27 10:07:31</td>\n",
       "      <td>0.0</td>\n",
       "      <td>0.00</td>\n",
       "      <td>41.06</td>\n",
       "      <td>2900</td>\n",
       "      <td>1632737251706</td>\n",
       "      <td>56</td>\n",
       "      <td>2900.0</td>\n",
       "    </tr>\n",
       "    <tr>\n",
       "      <th>2021-09-27 10:07:31</th>\n",
       "      <td>2021-09-27 10:07:31</td>\n",
       "      <td>0.0</td>\n",
       "      <td>0.00</td>\n",
       "      <td>41.06</td>\n",
       "      <td>4200</td>\n",
       "      <td>1632737251706</td>\n",
       "      <td>56</td>\n",
       "      <td>4200.0</td>\n",
       "    </tr>\n",
       "    <tr>\n",
       "      <th>2021-09-27 10:07:31</th>\n",
       "      <td>2021-09-27 10:07:31</td>\n",
       "      <td>0.0</td>\n",
       "      <td>0.00</td>\n",
       "      <td>41.06</td>\n",
       "      <td>3500</td>\n",
       "      <td>1632737251706</td>\n",
       "      <td>56</td>\n",
       "      <td>3500.0</td>\n",
       "    </tr>\n",
       "    <tr>\n",
       "      <th>2021-09-27 10:07:31</th>\n",
       "      <td>2021-09-27 10:07:31</td>\n",
       "      <td>0.0</td>\n",
       "      <td>0.00</td>\n",
       "      <td>41.06</td>\n",
       "      <td>10500</td>\n",
       "      <td>1632737251706</td>\n",
       "      <td>56</td>\n",
       "      <td>10500.0</td>\n",
       "    </tr>\n",
       "    <tr>\n",
       "      <th>...</th>\n",
       "      <td>...</td>\n",
       "      <td>...</td>\n",
       "      <td>...</td>\n",
       "      <td>...</td>\n",
       "      <td>...</td>\n",
       "      <td>...</td>\n",
       "      <td>...</td>\n",
       "      <td>...</td>\n",
       "    </tr>\n",
       "    <tr>\n",
       "      <th>2021-09-27 10:07:45</th>\n",
       "      <td>2021-09-27 10:07:45</td>\n",
       "      <td>40.9</td>\n",
       "      <td>40.95</td>\n",
       "      <td>40.91</td>\n",
       "      <td>200</td>\n",
       "      <td>1632737265582</td>\n",
       "      <td>4</td>\n",
       "      <td>200.0</td>\n",
       "    </tr>\n",
       "    <tr>\n",
       "      <th>2021-09-27 10:07:45</th>\n",
       "      <td>2021-09-27 10:07:45</td>\n",
       "      <td>40.9</td>\n",
       "      <td>40.94</td>\n",
       "      <td>40.91</td>\n",
       "      <td>200</td>\n",
       "      <td>1632737265881</td>\n",
       "      <td>4</td>\n",
       "      <td>200.0</td>\n",
       "    </tr>\n",
       "    <tr>\n",
       "      <th>2021-09-27 10:07:46</th>\n",
       "      <td>2021-09-27 10:07:46</td>\n",
       "      <td>40.9</td>\n",
       "      <td>40.94</td>\n",
       "      <td>40.90</td>\n",
       "      <td>300</td>\n",
       "      <td>1632737266146</td>\n",
       "      <td>88</td>\n",
       "      <td>300.0</td>\n",
       "    </tr>\n",
       "    <tr>\n",
       "      <th>2021-09-27 10:07:46</th>\n",
       "      <td>2021-09-27 10:07:46</td>\n",
       "      <td>40.9</td>\n",
       "      <td>40.94</td>\n",
       "      <td>40.89</td>\n",
       "      <td>100</td>\n",
       "      <td>1632737266146</td>\n",
       "      <td>88</td>\n",
       "      <td>100.0</td>\n",
       "    </tr>\n",
       "    <tr>\n",
       "      <th>2021-09-27 10:07:46</th>\n",
       "      <td>2021-09-27 10:07:46</td>\n",
       "      <td>40.9</td>\n",
       "      <td>40.94</td>\n",
       "      <td>40.88</td>\n",
       "      <td>100</td>\n",
       "      <td>1632737266146</td>\n",
       "      <td>88</td>\n",
       "      <td>100.0</td>\n",
       "    </tr>\n",
       "  </tbody>\n",
       "</table>\n",
       "<p>70 rows × 8 columns</p>\n",
       "</div>"
      ],
      "text/plain": [
       "                                   time   bid    ask   last  volume  \\\n",
       "time                                                                  \n",
       "2021-09-27 10:07:31 2021-09-27 10:07:31   0.0   0.00  41.06    3300   \n",
       "2021-09-27 10:07:31 2021-09-27 10:07:31   0.0   0.00  41.06    2900   \n",
       "2021-09-27 10:07:31 2021-09-27 10:07:31   0.0   0.00  41.06    4200   \n",
       "2021-09-27 10:07:31 2021-09-27 10:07:31   0.0   0.00  41.06    3500   \n",
       "2021-09-27 10:07:31 2021-09-27 10:07:31   0.0   0.00  41.06   10500   \n",
       "...                                 ...   ...    ...    ...     ...   \n",
       "2021-09-27 10:07:45 2021-09-27 10:07:45  40.9  40.95  40.91     200   \n",
       "2021-09-27 10:07:45 2021-09-27 10:07:45  40.9  40.94  40.91     200   \n",
       "2021-09-27 10:07:46 2021-09-27 10:07:46  40.9  40.94  40.90     300   \n",
       "2021-09-27 10:07:46 2021-09-27 10:07:46  40.9  40.94  40.89     100   \n",
       "2021-09-27 10:07:46 2021-09-27 10:07:46  40.9  40.94  40.88     100   \n",
       "\n",
       "                          time_msc  flags  volume_real  \n",
       "time                                                    \n",
       "2021-09-27 10:07:31  1632737251706     56       3300.0  \n",
       "2021-09-27 10:07:31  1632737251706     56       2900.0  \n",
       "2021-09-27 10:07:31  1632737251706     56       4200.0  \n",
       "2021-09-27 10:07:31  1632737251706     56       3500.0  \n",
       "2021-09-27 10:07:31  1632737251706     56      10500.0  \n",
       "...                            ...    ...          ...  \n",
       "2021-09-27 10:07:45  1632737265582      4        200.0  \n",
       "2021-09-27 10:07:45  1632737265881      4        200.0  \n",
       "2021-09-27 10:07:46  1632737266146     88        300.0  \n",
       "2021-09-27 10:07:46  1632737266146     88        100.0  \n",
       "2021-09-27 10:07:46  1632737266146     88        100.0  \n",
       "\n",
       "[70 rows x 8 columns]"
      ]
     },
     "execution_count": 118,
     "metadata": {},
     "output_type": "execute_result"
    }
   ],
   "source": [
    "dados_frame.head(70)"
   ]
  },
  {
   "cell_type": "markdown",
   "metadata": {},
   "source": [
    "## Função copy_ticks_range"
   ]
  },
  {
   "cell_type": "code",
   "execution_count": 121,
   "metadata": {},
   "outputs": [
    {
     "data": {
      "text/html": [
       "<div>\n",
       "<style scoped>\n",
       "    .dataframe tbody tr th:only-of-type {\n",
       "        vertical-align: middle;\n",
       "    }\n",
       "\n",
       "    .dataframe tbody tr th {\n",
       "        vertical-align: top;\n",
       "    }\n",
       "\n",
       "    .dataframe thead th {\n",
       "        text-align: right;\n",
       "    }\n",
       "</style>\n",
       "<table border=\"1\" class=\"dataframe\">\n",
       "  <thead>\n",
       "    <tr style=\"text-align: right;\">\n",
       "      <th></th>\n",
       "      <th>time</th>\n",
       "      <th>bid</th>\n",
       "      <th>ask</th>\n",
       "      <th>last</th>\n",
       "      <th>volume</th>\n",
       "      <th>time_msc</th>\n",
       "      <th>flags</th>\n",
       "      <th>volume_real</th>\n",
       "    </tr>\n",
       "    <tr>\n",
       "      <th>time</th>\n",
       "      <th></th>\n",
       "      <th></th>\n",
       "      <th></th>\n",
       "      <th></th>\n",
       "      <th></th>\n",
       "      <th></th>\n",
       "      <th></th>\n",
       "      <th></th>\n",
       "    </tr>\n",
       "  </thead>\n",
       "  <tbody>\n",
       "    <tr>\n",
       "      <th>2021-09-27 10:07:31</th>\n",
       "      <td>2021-09-27 10:07:31</td>\n",
       "      <td>0.0</td>\n",
       "      <td>0.0</td>\n",
       "      <td>41.06</td>\n",
       "      <td>3300</td>\n",
       "      <td>1632737251706</td>\n",
       "      <td>56</td>\n",
       "      <td>3300.0</td>\n",
       "    </tr>\n",
       "    <tr>\n",
       "      <th>2021-09-27 10:07:31</th>\n",
       "      <td>2021-09-27 10:07:31</td>\n",
       "      <td>0.0</td>\n",
       "      <td>0.0</td>\n",
       "      <td>41.06</td>\n",
       "      <td>2900</td>\n",
       "      <td>1632737251706</td>\n",
       "      <td>56</td>\n",
       "      <td>2900.0</td>\n",
       "    </tr>\n",
       "    <tr>\n",
       "      <th>2021-09-27 10:07:31</th>\n",
       "      <td>2021-09-27 10:07:31</td>\n",
       "      <td>0.0</td>\n",
       "      <td>0.0</td>\n",
       "      <td>41.06</td>\n",
       "      <td>4200</td>\n",
       "      <td>1632737251706</td>\n",
       "      <td>56</td>\n",
       "      <td>4200.0</td>\n",
       "    </tr>\n",
       "    <tr>\n",
       "      <th>2021-09-27 10:07:31</th>\n",
       "      <td>2021-09-27 10:07:31</td>\n",
       "      <td>0.0</td>\n",
       "      <td>0.0</td>\n",
       "      <td>41.06</td>\n",
       "      <td>3500</td>\n",
       "      <td>1632737251706</td>\n",
       "      <td>56</td>\n",
       "      <td>3500.0</td>\n",
       "    </tr>\n",
       "    <tr>\n",
       "      <th>2021-09-27 10:07:31</th>\n",
       "      <td>2021-09-27 10:07:31</td>\n",
       "      <td>0.0</td>\n",
       "      <td>0.0</td>\n",
       "      <td>41.06</td>\n",
       "      <td>10500</td>\n",
       "      <td>1632737251706</td>\n",
       "      <td>56</td>\n",
       "      <td>10500.0</td>\n",
       "    </tr>\n",
       "  </tbody>\n",
       "</table>\n",
       "</div>"
      ],
      "text/plain": [
       "                                   time  bid  ask   last  volume  \\\n",
       "time                                                               \n",
       "2021-09-27 10:07:31 2021-09-27 10:07:31  0.0  0.0  41.06    3300   \n",
       "2021-09-27 10:07:31 2021-09-27 10:07:31  0.0  0.0  41.06    2900   \n",
       "2021-09-27 10:07:31 2021-09-27 10:07:31  0.0  0.0  41.06    4200   \n",
       "2021-09-27 10:07:31 2021-09-27 10:07:31  0.0  0.0  41.06    3500   \n",
       "2021-09-27 10:07:31 2021-09-27 10:07:31  0.0  0.0  41.06   10500   \n",
       "\n",
       "                          time_msc  flags  volume_real  \n",
       "time                                                    \n",
       "2021-09-27 10:07:31  1632737251706     56       3300.0  \n",
       "2021-09-27 10:07:31  1632737251706     56       2900.0  \n",
       "2021-09-27 10:07:31  1632737251706     56       4200.0  \n",
       "2021-09-27 10:07:31  1632737251706     56       3500.0  \n",
       "2021-09-27 10:07:31  1632737251706     56      10500.0  "
      ]
     },
     "execution_count": 121,
     "metadata": {},
     "output_type": "execute_result"
    }
   ],
   "source": [
    "# obtemos as barras com USDJPY M5 no intervalo 2020.01.10 00:00 - 2020.01.11 13:00 no fuso horário UTC\n",
    "rates = mt5.copy_ticks_range(\"WEGE3\", inicio, fim,  mt5.COPY_TICKS_ALL)\n",
    "\n",
    "# a partir dos dados recebidos criamos o DataFrame\n",
    "rates_frame = pd.DataFrame(rates)\n",
    "# convertemos o tempo em segundos no formato datetime\n",
    "rates_frame['time']=pd.to_datetime(rates_frame['time'], unit='s')\n",
    "\n",
    "rates_frame.index = rates_frame['time']\n",
    "rates_frame.head()"
   ]
  },
  {
   "cell_type": "code",
   "execution_count": 122,
   "metadata": {},
   "outputs": [
    {
     "data": {
      "text/plain": [
       "<AxesSubplot:xlabel='time'>"
      ]
     },
     "execution_count": 122,
     "metadata": {},
     "output_type": "execute_result"
    },
    {
     "data": {
      "image/png": "[encoded data removed]",
      "text/plain": [
       "<Figure size 432x288 with 1 Axes>"
      ]
     },
     "metadata": {
      "needs_background": "light"
     },
     "output_type": "display_data"
    }
   ],
   "source": [
    "rates_frame['last'].plot()"
   ]
  },
  {
   "cell_type": "markdown",
   "metadata": {},
   "source": [
    "# 5. Vamos mexer com as ordens"
   ]
  },
  {
   "cell_type": "code",
   "execution_count": 123,
   "metadata": {},
   "outputs": [
    {
     "data": {
      "text/plain": [
       "0"
      ]
     },
     "execution_count": 123,
     "metadata": {},
     "output_type": "execute_result"
    }
   ],
   "source": [
    "mt5.orders_total()"
   ]
  },
  {
   "cell_type": "code",
   "execution_count": 124,
   "metadata": {},
   "outputs": [
    {
     "name": "stdout",
     "output_type": "stream",
     "text": [
      "No orders on GBPUSD, error code=(-4, 'Terminal: Not found')\n",
      "\n"
     ]
    }
   ],
   "source": [
    "orders=mt5.orders_get(symbol=\"GBPUSD\")\n",
    "if orders is None:\n",
    "    print(\"No orders on GBPUSD, error code={}\".format(mt5.last_error()))\n",
    "else:\n",
    "    print(\"Total orders on GBPUSD:\",len(orders))\n",
    "    # exibimos todas as ordens ativas\n",
    "    for order in orders:\n",
    "        print(order)\n",
    "print()"
   ]
  },
  {
   "cell_type": "code",
   "execution_count": 131,
   "metadata": {},
   "outputs": [],
   "source": [
    "symbol = 'WEGE3'"
   ]
  },
  {
   "cell_type": "code",
   "execution_count": 132,
   "metadata": {},
   "outputs": [],
   "source": [
    "ask=mt5.symbol_info_tick(symbol).ask"
   ]
  },
  {
   "cell_type": "code",
   "execution_count": 133,
   "metadata": {},
   "outputs": [
    {
     "data": {
      "text/plain": [
       "40.9"
      ]
     },
     "execution_count": 133,
     "metadata": {},
     "output_type": "execute_result"
    }
   ],
   "source": [
    "ask"
   ]
  },
  {
   "cell_type": "code",
   "execution_count": 135,
   "metadata": {},
   "outputs": [
    {
     "data": {
      "text/plain": [
       "0.0"
      ]
     },
     "execution_count": 135,
     "metadata": {},
     "output_type": "execute_result"
    }
   ],
   "source": [
    "action=mt5.ORDER_TYPE_BUY\n",
    "\n",
    "mt5.order_calc_margin(action,symbol,10000,ask)"
   ]
  },
  {
   "cell_type": "code",
   "execution_count": 136,
   "metadata": {},
   "outputs": [
    {
     "data": {
      "text/plain": [
       "0.01"
      ]
     },
     "execution_count": 136,
     "metadata": {},
     "output_type": "execute_result"
    }
   ],
   "source": [
    "mt5.symbol_info(symbol).point"
   ]
  },
  {
   "cell_type": "markdown",
   "metadata": {},
   "source": [
    "## Temos dinheiro para mandar a ordem?"
   ]
  },
  {
   "cell_type": "code",
   "execution_count": 224,
   "metadata": {},
   "outputs": [],
   "source": [
    "symbol = 'OIBR3'"
   ]
  },
  {
   "cell_type": "code",
   "execution_count": 225,
   "metadata": {},
   "outputs": [],
   "source": [
    "point=mt5.symbol_info(symbol).point"
   ]
  },
  {
   "cell_type": "code",
   "execution_count": 226,
   "metadata": {},
   "outputs": [
    {
     "data": {
      "text/plain": [
       "0.01"
      ]
     },
     "execution_count": 226,
     "metadata": {},
     "output_type": "execute_result"
    }
   ],
   "source": [
    "point"
   ]
  },
  {
   "cell_type": "code",
   "execution_count": 227,
   "metadata": {},
   "outputs": [
    {
     "data": {
      "text/plain": [
       "1.02"
      ]
     },
     "execution_count": 227,
     "metadata": {},
     "output_type": "execute_result"
    }
   ],
   "source": [
    "mt5.symbol_info_tick(symbol).ask-1*point"
   ]
  },
  {
   "cell_type": "code",
   "execution_count": 228,
   "metadata": {},
   "outputs": [
    {
     "data": {
      "text/plain": [
       "1.04"
      ]
     },
     "execution_count": 228,
     "metadata": {},
     "output_type": "execute_result"
    }
   ],
   "source": [
    "mt5.symbol_info_tick(symbol).ask+1*point"
   ]
  },
  {
   "cell_type": "code",
   "execution_count": 161,
   "metadata": {},
   "outputs": [],
   "source": [
    "request = {\n",
    "    \"action\": mt5.TRADE_ACTION_DEAL,\n",
    "    \"symbol\": symbol,\n",
    "    \"volume\": 1.0,\n",
    "    \"type\": mt5.ORDER_TYPE_BUY,\n",
    "    \"price\": mt5.symbol_info_tick(symbol).ask,\n",
    "    \"sl\": mt5.symbol_info_tick(symbol).ask-1*point,\n",
    "    \"tp\": mt5.symbol_info_tick(symbol).ask+1*point,\n",
    "    \"deviation\": 5,\n",
    "    \"magic\": 234000,\n",
    "    \"comment\": \"python script\",\n",
    "    \"type_time\": mt5.ORDER_TIME_DAY,\n",
    "    \"type_filling\": mt5.ORDER_FILLING_RETURN,\n",
    "}\n",
    " \n",
    "# verificamos e exibimos o resultado como está\n",
    "result = mt5.order_check(request)"
   ]
  },
  {
   "cell_type": "code",
   "execution_count": 162,
   "metadata": {},
   "outputs": [
    {
     "name": "stdout",
     "output_type": "stream",
     "text": [
      "OrderCheckResult(retcode=10014, balance=0.0, equity=0.0, profit=0.0, margin=0.0, margin_free=0.0, margin_level=0.0, comment='Invalid volume', request=TradeRequest(action=5, magic=234000, order=0, symbol='OIBR3', volume=1.0, price=1.03, stoplimit=0.0, sl=0.030000000000000027, tp=2.0300000000000002, deviation=10, type=0, type_filling=2, type_time=1, expiration=0, comment='python script', position=0, position_by=0))\n"
     ]
    }
   ],
   "source": [
    "print(result)"
   ]
  },
  {
   "cell_type": "markdown",
   "metadata": {},
   "source": [
    "Aparentemente não temos balanço, mas isso se deve mais ao fato da Clear não refletir no Metatrader as configurações da nossa conta"
   ]
  },
  {
   "cell_type": "code",
   "execution_count": 198,
   "metadata": {},
   "outputs": [],
   "source": [
    "symbol_info = mt5.symbol_info(symbol)\n",
    "\n",
    "if symbol_info is None:\n",
    "    print(symbol, \"not found, can not call order_check()\")\n",
    "    mt5.shutdown()\n",
    "    quit()"
   ]
  },
  {
   "cell_type": "markdown",
   "metadata": {},
   "source": [
    "## Estrutura de envio de ordens"
   ]
  },
  {
   "cell_type": "code",
   "execution_count": 236,
   "metadata": {},
   "outputs": [],
   "source": [
    "if not mt5.initialize():\n",
    "    print(\"initialize() failed, error code =\",mt5.last_error())\n",
    "    quit()"
   ]
  },
  {
   "cell_type": "code",
   "execution_count": 264,
   "metadata": {},
   "outputs": [],
   "source": [
    "ordem['price'] = 0"
   ]
  },
  {
   "cell_type": "code",
   "execution_count": 268,
   "metadata": {},
   "outputs": [
    {
     "data": {
      "text/plain": [
       "'OIBR3'"
      ]
     },
     "execution_count": 268,
     "metadata": {},
     "output_type": "execute_result"
    }
   ],
   "source": [
    "symbol"
   ]
  },
  {
   "cell_type": "code",
   "execution_count": 276,
   "metadata": {},
   "outputs": [],
   "source": [
    "ordem = {\n",
    "    \"action\": mt5.TRADE_ACTION_DEAL,\n",
    "    \"symbol\": symbol,\n",
    "    \"volume\": 100.0,\n",
    "    \"type\": mt5.ORDER_TYPE_BUY,\n",
    "    \"price\": mt5.symbol_info_tick(symbol).ask-1*point,\n",
    "    \"sl\": mt5.symbol_info_tick(symbol).ask-2*point,\n",
    "    \"tp\": mt5.symbol_info_tick(symbol).ask+1*point,\n",
    "    \"deviation\": 0,\n",
    "    \"magic\": 1,\n",
    "    \"comment\": \"python script\",\n",
    "    \"type_time\": mt5.ORDER_TIME_GTC,\n",
    "    \"type_filling\": mt5.ORDER_FILLING_RETURN,\n",
    "}"
   ]
  },
  {
   "cell_type": "code",
   "execution_count": 277,
   "metadata": {},
   "outputs": [],
   "source": [
    "result = mt5.order_send(ordem)"
   ]
  },
  {
   "cell_type": "code",
   "execution_count": 278,
   "metadata": {},
   "outputs": [
    {
     "data": {
      "text/plain": [
       "OrderSendResult(retcode=10009, deal=0, order=2176609438, volume=100.0, price=0.0, bid=0.0, ask=0.0, comment='Request executed', request_id=5, retcode_external=0, request=TradeRequest(action=1, magic=1, order=0, symbol='OIBR3', volume=100.0, price=1.0, stoplimit=0.0, sl=0.99, tp=1.02, deviation=0, type=0, type_filling=2, type_time=0, expiration=0, comment='python script', position=0, position_by=0))"
      ]
     },
     "execution_count": 278,
     "metadata": {},
     "output_type": "execute_result"
    }
   ],
   "source": [
    "result"
   ]
  },
  {
   "cell_type": "code",
   "execution_count": 273,
   "metadata": {},
   "outputs": [
    {
     "data": {
      "text/plain": [
       "AccountInfo(login=1000080735, trade_mode=2, leverage=1, limit_orders=0, margin_so_mode=1, trade_allowed=True, trade_expert=True, margin_mode=0, currency_digits=2, fifo_close=False, balance=0.0, credit=0.0, profit=0.0, equity=0.0, margin=0.0, margin_free=0.0, margin_level=0.0, margin_so_call=0.0, margin_so_so=0.0, margin_initial=0.0, margin_maintenance=0.0, assets=0.0, liabilities=0.0, commission_blocked=0.0, name='VICTOR NOGUEIRA CORTEZ GOMES', server='ClearInvestimentos-CLEAR', currency='BRL', company='Clear (XP Investimentos CCTVM)')"
      ]
     },
     "execution_count": 273,
     "metadata": {},
     "output_type": "execute_result"
    }
   ],
   "source": [
    "mt5.account_info()"
   ]
  },
  {
   "cell_type": "markdown",
   "metadata": {},
   "source": [
    "Abri uma ordem manualmente"
   ]
  },
  {
   "cell_type": "markdown",
   "metadata": {},
   "source": [
    "Vamos ver se o Python identifica aqui"
   ]
  },
  {
   "cell_type": "code",
   "execution_count": 279,
   "metadata": {},
   "outputs": [
    {
     "data": {
      "text/plain": [
       "0"
      ]
     },
     "execution_count": 279,
     "metadata": {},
     "output_type": "execute_result"
    }
   ],
   "source": [
    "mt5.orders_total()"
   ]
  },
  {
   "cell_type": "code",
   "execution_count": 280,
   "metadata": {},
   "outputs": [
    {
     "data": {
      "text/plain": [
       "()"
      ]
     },
     "execution_count": 280,
     "metadata": {},
     "output_type": "execute_result"
    }
   ],
   "source": [
    "mt5.orders_get()"
   ]
  },
  {
   "cell_type": "markdown",
   "metadata": {},
   "source": [
    "Agora que temos uma posição de OIBR3 aberta"
   ]
  },
  {
   "cell_type": "code",
   "execution_count": 287,
   "metadata": {},
   "outputs": [
    {
     "data": {
      "text/plain": [
       "0"
      ]
     },
     "execution_count": 287,
     "metadata": {},
     "output_type": "execute_result"
    }
   ],
   "source": [
    "mt5.positions_total()"
   ]
  },
  {
   "cell_type": "code",
   "execution_count": 282,
   "metadata": {},
   "outputs": [
    {
     "data": {
      "text/plain": [
       "(TradePosition(ticket=2176609438, time=1632756294, time_msc=1632756294365, time_update=1632756294, time_update_msc=1632756294365, type=0, magic=1, identifier=2176609438, reason=3, volume=100.0, price_open=1.01, sl=0.99, tp=1.02, price_current=1.0, swap=0.0, profit=-1.0, symbol='OIBR3', comment='python script', external_id=''),)"
      ]
     },
     "execution_count": 282,
     "metadata": {},
     "output_type": "execute_result"
    }
   ],
   "source": [
    "mt5.positions_get()"
   ]
  },
  {
   "cell_type": "code",
   "execution_count": 283,
   "metadata": {},
   "outputs": [],
   "source": [
    "from_date=datetime(2020,1,1)\n",
    "to_date=datetime.now()\n",
    "history_orders=mt5.history_orders_total(from_date, datetime.now())"
   ]
  },
  {
   "cell_type": "code",
   "execution_count": 284,
   "metadata": {},
   "outputs": [
    {
     "data": {
      "text/plain": [
       "6"
      ]
     },
     "execution_count": 284,
     "metadata": {},
     "output_type": "execute_result"
    }
   ],
   "source": [
    "history_orders"
   ]
  },
  {
   "cell_type": "code",
   "execution_count": 285,
   "metadata": {},
   "outputs": [],
   "source": [
    "from_date=datetime(2020,1,1)\n",
    "to_date=datetime.now()\n",
    "history_orders=mt5.history_orders_get(from_date, to_date)"
   ]
  },
  {
   "cell_type": "code",
   "execution_count": 286,
   "metadata": {},
   "outputs": [
    {
     "data": {
      "text/plain": [
       "(TradeOrder(ticket=2173572252, time_setup=1631274416, time_setup_msc=1631274416784, time_done=1631274418, time_done_msc=1631274418312, time_expiration=0, type=0, type_time=0, type_filling=2, state=5, magic=0, position_id=0, position_by_id=0, reason=0, volume_initial=100.0, volume_current=100.0, price_open=0.0, sl=1.01, tp=1.01, price_current=1.01, price_stoplimit=0.0, symbol='OIBR3', comment='[MG21] Garantia disponível de R', external_id=''),\n",
       " TradeOrder(ticket=2173572288, time_setup=1631274438, time_setup_msc=1631274438595, time_done=1631274438, time_done_msc=1631274438603, time_expiration=0, type=0, type_time=0, type_filling=2, state=5, magic=0, position_id=0, position_by_id=0, reason=0, volume_initial=100.0, volume_current=100.0, price_open=0.0, sl=0.0, tp=0.0, price_current=1.02, price_stoplimit=0.0, symbol='OIBR3', comment='[MG21] Garantia disponível de R', external_id=''),\n",
       " TradeOrder(ticket=2173572878, time_setup=1631274721, time_setup_msc=1631274721704, time_done=1631274721, time_done_msc=1631274721724, time_expiration=0, type=0, type_time=0, type_filling=2, state=4, magic=0, position_id=2173572878, position_by_id=0, reason=0, volume_initial=100.0, volume_current=0.0, price_open=0.0, sl=0.0, tp=0.0, price_current=1.01, price_stoplimit=0.0, symbol='OIBR3', comment='', external_id='001101242715|3982082'),\n",
       " TradeOrder(ticket=2176590587, time_setup=1632754212, time_setup_msc=1632754212343, time_done=1632754260, time_done_msc=1632754260419, time_expiration=0, type=2, type_time=1, type_filling=2, state=2, magic=0, position_id=0, position_by_id=0, reason=0, volume_initial=100.0, volume_current=100.0, price_open=1.02, sl=1.01, tp=1.05, price_current=1.03, price_stoplimit=0.0, symbol='OIBR3', comment='', external_id='001128854005|5758041'),\n",
       " TradeOrder(ticket=2176602516, time_setup=1632755108, time_setup_msc=1632755108647, time_done=1632755622, time_done_msc=1632755622391, time_expiration=0, type=2, type_time=1, type_filling=2, state=2, magic=0, position_id=0, position_by_id=0, reason=0, volume_initial=100.0, volume_current=100.0, price_open=1.01, sl=1.0, tp=1.04, price_current=1.01, price_stoplimit=0.0, symbol='OIBR3', comment='', external_id='001128981165|5790746'),\n",
       " TradeOrder(ticket=2176609438, time_setup=1632756294, time_setup_msc=1632756294338, time_done=1632756294, time_done_msc=1632756294365, time_expiration=0, type=0, type_time=0, type_filling=2, state=4, magic=1, position_id=2176609438, position_by_id=0, reason=3, volume_initial=100.0, volume_current=0.0, price_open=0.0, sl=0.99, tp=1.02, price_current=1.01, price_stoplimit=0.0, symbol='OIBR3', comment='python script', external_id='001129081285|5836436'))"
      ]
     },
     "execution_count": 286,
     "metadata": {},
     "output_type": "execute_result"
    }
   ],
   "source": [
    "history_orders"
   ]
  },
  {
   "cell_type": "code",
   "execution_count": null,
   "metadata": {},
   "outputs": [],
   "source": []
  }
 ],
 "metadata": {
  "kernelspec": {
   "display_name": "Python 3",
   "language": "python",
   "name": "python3"
  },
  "language_info": {
   "codemirror_mode": {
    "name": "ipython",
    "version": 3
   },
   "file_extension": ".py",
   "mimetype": "text/x-python",
   "name": "python",
   "nbconvert_exporter": "python",
   "pygments_lexer": "ipython3",
   "version": "3.8.5"
  }
 },
 "nbformat": 4,
 "nbformat_minor": 4
}
